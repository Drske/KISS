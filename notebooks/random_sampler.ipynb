{
 "cells": [
  {
   "cell_type": "code",
   "execution_count": 1,
   "metadata": {},
   "outputs": [
    {
     "name": "stdout",
     "output_type": "stream",
     "text": [
      "Files already downloaded and verified\n",
      "Files already downloaded and verified\n",
      "\u001b[1m\u001b[33mRunning experiment ResNet!CIFAR100!RandomSampler\n",
      "\u001b[0m\u001b[1m\u001b[95mRunning run r50,ep:10,bs:512,clip:None/1\n",
      "\u001b[0m"
     ]
    },
    {
     "name": "stderr",
     "output_type": "stream",
     "text": [
      "Epoch 1/10: 100%|██████████| 8/8 [00:04<00:00,  1.88 batch/s, loss=5.1727]\n",
      "Validating: 100%|██████████| 2/2 [00:00<00:00,  4.26 batch/s]\n"
     ]
    },
    {
     "name": "stdout",
     "output_type": "stream",
     "text": [
      "\u001b[1m\u001b[36mBest valid accuracy improved from 0.00% to 1.20%. Saving checkpoint...\n",
      "\u001b[0m"
     ]
    },
    {
     "name": "stderr",
     "output_type": "stream",
     "text": [
      "Epoch 2/10: 100%|██████████| 8/8 [00:03<00:00,  2.33 batch/s, loss=4.8501]\n",
      "Validating: 100%|██████████| 2/2 [00:00<00:00,  5.48 batch/s]\n",
      "Epoch 3/10: 100%|██████████| 8/8 [00:03<00:00,  2.30 batch/s, loss=4.2412]\n",
      "Validating: 100%|██████████| 2/2 [00:00<00:00,  5.38 batch/s]\n"
     ]
    },
    {
     "name": "stdout",
     "output_type": "stream",
     "text": [
      "\u001b[1m\u001b[36mBest valid accuracy improved from 1.20% to 2.10%. Saving checkpoint...\n",
      "\u001b[0m"
     ]
    },
    {
     "name": "stderr",
     "output_type": "stream",
     "text": [
      "Epoch 4/10: 100%|██████████| 8/8 [00:03<00:00,  2.31 batch/s, loss=3.6332]\n",
      "Validating: 100%|██████████| 2/2 [00:00<00:00,  5.51 batch/s]\n",
      "Epoch 5/10: 100%|██████████| 8/8 [00:03<00:00,  2.30 batch/s, loss=2.7476]\n",
      "Validating: 100%|██████████| 2/2 [00:00<00:00,  5.41 batch/s]\n"
     ]
    },
    {
     "name": "stdout",
     "output_type": "stream",
     "text": [
      "\u001b[1m\u001b[36mBest valid accuracy improved from 2.10% to 3.00%. Saving checkpoint...\n",
      "\u001b[0m"
     ]
    },
    {
     "name": "stderr",
     "output_type": "stream",
     "text": [
      "Epoch 6/10: 100%|██████████| 8/8 [00:03<00:00,  2.26 batch/s, loss=1.7221]\n",
      "Validating: 100%|██████████| 2/2 [00:00<00:00,  5.48 batch/s]\n"
     ]
    },
    {
     "name": "stdout",
     "output_type": "stream",
     "text": [
      "\u001b[1m\u001b[36mBest valid accuracy improved from 3.00% to 6.40%. Saving checkpoint...\n",
      "\u001b[0m"
     ]
    },
    {
     "name": "stderr",
     "output_type": "stream",
     "text": [
      "Epoch 7/10: 100%|██████████| 8/8 [00:03<00:00,  2.28 batch/s, loss=1.2747]\n",
      "Validating: 100%|██████████| 2/2 [00:00<00:00,  5.45 batch/s]\n",
      "Epoch 8/10: 100%|██████████| 8/8 [00:03<00:00,  2.27 batch/s, loss=1.1803]\n",
      "Validating: 100%|██████████| 2/2 [00:00<00:00,  5.41 batch/s]\n",
      "Epoch 9/10: 100%|██████████| 8/8 [00:03<00:00,  2.28 batch/s, loss=1.1009]\n",
      "Validating: 100%|██████████| 2/2 [00:00<00:00,  5.43 batch/s]\n",
      "Epoch 10/10: 100%|██████████| 8/8 [00:03<00:00,  2.27 batch/s, loss=0.9671]\n",
      "Validating: 100%|██████████| 2/2 [00:00<00:00,  5.39 batch/s]\n"
     ]
    },
    {
     "name": "stdout",
     "output_type": "stream",
     "text": [
      "\u001b[1m\u001b[36mBest valid accuracy improved from 6.40% to 7.10%. Saving checkpoint...\n",
      "\u001b[0m"
     ]
    },
    {
     "name": "stderr",
     "output_type": "stream",
     "text": [
      "Testing: 100%|██████████| 20/20 [00:03<00:00,  5.41 batch/s]\n"
     ]
    },
    {
     "name": "stdout",
     "output_type": "stream",
     "text": [
      "\u001b[1m\u001b[95mRunning run r50,ep:10,bs:512,clip:None/2\n",
      "\u001b[0m"
     ]
    },
    {
     "name": "stderr",
     "output_type": "stream",
     "text": [
      "Epoch 1/10: 100%|██████████| 16/16 [00:07<00:00,  2.21 batch/s, loss=5.0818]\n",
      "Validating: 100%|██████████| 4/4 [00:00<00:00,  5.01 batch/s]\n"
     ]
    },
    {
     "name": "stdout",
     "output_type": "stream",
     "text": [
      "\u001b[1m\u001b[36mBest valid accuracy improved from 0.00% to 1.20%. Saving checkpoint...\n",
      "\u001b[0m"
     ]
    },
    {
     "name": "stderr",
     "output_type": "stream",
     "text": [
      "Epoch 2/10: 100%|██████████| 16/16 [00:07<00:00,  2.28 batch/s, loss=4.3395]\n",
      "Validating: 100%|██████████| 4/4 [00:00<00:00,  5.23 batch/s]\n"
     ]
    },
    {
     "name": "stdout",
     "output_type": "stream",
     "text": [
      "\u001b[1m\u001b[36mBest valid accuracy improved from 1.20% to 1.55%. Saving checkpoint...\n",
      "\u001b[0m"
     ]
    },
    {
     "name": "stderr",
     "output_type": "stream",
     "text": [
      "Epoch 3/10: 100%|██████████| 16/16 [00:07<00:00,  2.28 batch/s, loss=3.9049]\n",
      "Validating: 100%|██████████| 4/4 [00:00<00:00,  5.57 batch/s]\n"
     ]
    },
    {
     "name": "stdout",
     "output_type": "stream",
     "text": [
      "\u001b[1m\u001b[36mBest valid accuracy improved from 1.55% to 6.20%. Saving checkpoint...\n",
      "\u001b[0m"
     ]
    },
    {
     "name": "stderr",
     "output_type": "stream",
     "text": [
      "Epoch 4/10: 100%|██████████| 16/16 [00:07<00:00,  2.28 batch/s, loss=3.3421]\n",
      "Validating: 100%|██████████| 4/4 [00:00<00:00,  5.60 batch/s]\n"
     ]
    },
    {
     "name": "stdout",
     "output_type": "stream",
     "text": [
      "\u001b[1m\u001b[36mBest valid accuracy improved from 6.20% to 9.25%. Saving checkpoint...\n",
      "\u001b[0m"
     ]
    },
    {
     "name": "stderr",
     "output_type": "stream",
     "text": [
      "Epoch 5/10: 100%|██████████| 16/16 [00:07<00:00,  2.28 batch/s, loss=2.9397]\n",
      "Validating: 100%|██████████| 4/4 [00:00<00:00,  5.59 batch/s]\n"
     ]
    },
    {
     "name": "stdout",
     "output_type": "stream",
     "text": [
      "\u001b[1m\u001b[36mBest valid accuracy improved from 9.25% to 9.95%. Saving checkpoint...\n",
      "\u001b[0m"
     ]
    },
    {
     "name": "stderr",
     "output_type": "stream",
     "text": [
      "Epoch 6/10: 100%|██████████| 16/16 [00:07<00:00,  2.28 batch/s, loss=2.4929]\n",
      "Validating: 100%|██████████| 4/4 [00:00<00:00,  5.60 batch/s]\n"
     ]
    },
    {
     "name": "stdout",
     "output_type": "stream",
     "text": [
      "\u001b[1m\u001b[36mBest valid accuracy improved from 9.95% to 10.60%. Saving checkpoint...\n",
      "\u001b[0m"
     ]
    },
    {
     "name": "stderr",
     "output_type": "stream",
     "text": [
      "Epoch 7/10: 100%|██████████| 16/16 [00:07<00:00,  2.28 batch/s, loss=2.0771]\n",
      "Validating: 100%|██████████| 4/4 [00:00<00:00,  5.56 batch/s]\n",
      "Epoch 8/10: 100%|██████████| 16/16 [00:07<00:00,  2.28 batch/s, loss=1.6463]\n",
      "Validating: 100%|██████████| 4/4 [00:00<00:00,  5.54 batch/s]\n",
      "Epoch 9/10: 100%|██████████| 16/16 [00:07<00:00,  2.27 batch/s, loss=1.2852]\n",
      "Validating: 100%|██████████| 4/4 [00:00<00:00,  5.64 batch/s]\n",
      "Epoch 10/10: 100%|██████████| 16/16 [00:07<00:00,  2.28 batch/s, loss=1.0582]\n",
      "Validating: 100%|██████████| 4/4 [00:00<00:00,  5.60 batch/s]\n",
      "Testing: 100%|██████████| 20/20 [00:03<00:00,  5.70 batch/s]\n"
     ]
    },
    {
     "name": "stdout",
     "output_type": "stream",
     "text": [
      "\u001b[1m\u001b[95mRunning run r50,ep:10,bs:512,clip:None/3\n",
      "\u001b[0m"
     ]
    },
    {
     "name": "stderr",
     "output_type": "stream",
     "text": [
      "Epoch 1/10: 100%|██████████| 24/24 [00:10<00:00,  2.19 batch/s, loss=4.7994]\n",
      "Validating: 100%|██████████| 6/6 [00:01<00:00,  4.91 batch/s]\n"
     ]
    },
    {
     "name": "stdout",
     "output_type": "stream",
     "text": [
      "\u001b[1m\u001b[36mBest valid accuracy improved from 0.00% to 1.73%. Saving checkpoint...\n",
      "\u001b[0m"
     ]
    },
    {
     "name": "stderr",
     "output_type": "stream",
     "text": [
      "Epoch 2/10: 100%|██████████| 24/24 [00:10<00:00,  2.28 batch/s, loss=4.1461]\n",
      "Validating: 100%|██████████| 6/6 [00:01<00:00,  5.62 batch/s]\n"
     ]
    },
    {
     "name": "stdout",
     "output_type": "stream",
     "text": [
      "\u001b[1m\u001b[36mBest valid accuracy improved from 1.73% to 5.80%. Saving checkpoint...\n",
      "\u001b[0m"
     ]
    },
    {
     "name": "stderr",
     "output_type": "stream",
     "text": [
      "Epoch 3/10: 100%|██████████| 24/24 [00:10<00:00,  2.28 batch/s, loss=3.6909]\n",
      "Validating: 100%|██████████| 6/6 [00:01<00:00,  5.66 batch/s]\n"
     ]
    },
    {
     "name": "stdout",
     "output_type": "stream",
     "text": [
      "\u001b[1m\u001b[36mBest valid accuracy improved from 5.80% to 9.67%. Saving checkpoint...\n",
      "\u001b[0m"
     ]
    },
    {
     "name": "stderr",
     "output_type": "stream",
     "text": [
      "Epoch 4/10: 100%|██████████| 24/24 [00:10<00:00,  2.28 batch/s, loss=3.2004]\n",
      "Validating: 100%|██████████| 6/6 [00:01<00:00,  5.67 batch/s]\n"
     ]
    },
    {
     "name": "stdout",
     "output_type": "stream",
     "text": [
      "\u001b[1m\u001b[36mBest valid accuracy improved from 9.67% to 9.93%. Saving checkpoint...\n",
      "\u001b[0m"
     ]
    },
    {
     "name": "stderr",
     "output_type": "stream",
     "text": [
      "Epoch 5/10: 100%|██████████| 24/24 [00:10<00:00,  2.28 batch/s, loss=2.8025]\n",
      "Validating: 100%|██████████| 6/6 [00:01<00:00,  5.62 batch/s]\n",
      "Epoch 6/10: 100%|██████████| 24/24 [00:10<00:00,  2.28 batch/s, loss=2.4023]\n",
      "Validating: 100%|██████████| 6/6 [00:01<00:00,  5.64 batch/s]\n"
     ]
    },
    {
     "name": "stdout",
     "output_type": "stream",
     "text": [
      "\u001b[1m\u001b[36mBest valid accuracy improved from 9.93% to 10.73%. Saving checkpoint...\n",
      "\u001b[0m"
     ]
    },
    {
     "name": "stderr",
     "output_type": "stream",
     "text": [
      "Epoch 7/10: 100%|██████████| 24/24 [00:10<00:00,  2.28 batch/s, loss=2.0417]\n",
      "Validating: 100%|██████████| 6/6 [00:01<00:00,  5.63 batch/s]\n",
      "Epoch 8/10: 100%|██████████| 24/24 [00:10<00:00,  2.28 batch/s, loss=1.7272]\n",
      "Validating: 100%|██████████| 6/6 [00:01<00:00,  5.67 batch/s]\n"
     ]
    },
    {
     "name": "stdout",
     "output_type": "stream",
     "text": [
      "\u001b[1m\u001b[36mBest valid accuracy improved from 10.73% to 12.83%. Saving checkpoint...\n",
      "\u001b[0m"
     ]
    },
    {
     "name": "stderr",
     "output_type": "stream",
     "text": [
      "Epoch 9/10: 100%|██████████| 24/24 [00:10<00:00,  2.28 batch/s, loss=1.2881]\n",
      "Validating: 100%|██████████| 6/6 [00:01<00:00,  5.68 batch/s]\n",
      "Epoch 10/10: 100%|██████████| 24/24 [00:10<00:00,  2.28 batch/s, loss=1.0113]\n",
      "Validating: 100%|██████████| 6/6 [00:01<00:00,  5.63 batch/s]\n",
      "Testing: 100%|██████████| 20/20 [00:03<00:00,  5.71 batch/s]\n"
     ]
    },
    {
     "name": "stdout",
     "output_type": "stream",
     "text": [
      "\u001b[1m\u001b[95mRunning run r50,ep:10,bs:512,clip:None/4\n",
      "\u001b[0m"
     ]
    },
    {
     "name": "stderr",
     "output_type": "stream",
     "text": [
      "Epoch 1/10: 100%|██████████| 32/32 [00:14<00:00,  2.20 batch/s, loss=4.7104]\n",
      "Validating: 100%|██████████| 8/8 [00:01<00:00,  5.54 batch/s]\n"
     ]
    },
    {
     "name": "stdout",
     "output_type": "stream",
     "text": [
      "\u001b[1m\u001b[36mBest valid accuracy improved from 0.00% to 2.40%. Saving checkpoint...\n",
      "\u001b[0m"
     ]
    },
    {
     "name": "stderr",
     "output_type": "stream",
     "text": [
      "Epoch 2/10: 100%|██████████| 32/32 [00:14<00:00,  2.28 batch/s, loss=4.0147]\n",
      "Validating: 100%|██████████| 8/8 [00:01<00:00,  5.63 batch/s]\n"
     ]
    },
    {
     "name": "stdout",
     "output_type": "stream",
     "text": [
      "\u001b[1m\u001b[36mBest valid accuracy improved from 2.40% to 8.80%. Saving checkpoint...\n",
      "\u001b[0m"
     ]
    },
    {
     "name": "stderr",
     "output_type": "stream",
     "text": [
      "Epoch 3/10: 100%|██████████| 32/32 [00:14<00:00,  2.28 batch/s, loss=3.5566]\n",
      "Validating: 100%|██████████| 8/8 [00:01<00:00,  5.63 batch/s]\n"
     ]
    },
    {
     "name": "stdout",
     "output_type": "stream",
     "text": [
      "\u001b[1m\u001b[36mBest valid accuracy improved from 8.80% to 11.50%. Saving checkpoint...\n",
      "\u001b[0m"
     ]
    },
    {
     "name": "stderr",
     "output_type": "stream",
     "text": [
      "Epoch 4/10: 100%|██████████| 32/32 [00:14<00:00,  2.27 batch/s, loss=3.1890]\n",
      "Validating: 100%|██████████| 8/8 [00:01<00:00,  5.64 batch/s]\n"
     ]
    },
    {
     "name": "stdout",
     "output_type": "stream",
     "text": [
      "\u001b[1m\u001b[36mBest valid accuracy improved from 11.50% to 13.80%. Saving checkpoint...\n",
      "\u001b[0m"
     ]
    },
    {
     "name": "stderr",
     "output_type": "stream",
     "text": [
      "Epoch 5/10: 100%|██████████| 32/32 [00:14<00:00,  2.28 batch/s, loss=2.8400]\n",
      "Validating: 100%|██████████| 8/8 [00:01<00:00,  5.66 batch/s]\n",
      "Epoch 6/10: 100%|██████████| 32/32 [00:14<00:00,  2.28 batch/s, loss=2.5110]\n",
      "Validating: 100%|██████████| 8/8 [00:01<00:00,  5.65 batch/s]\n"
     ]
    },
    {
     "name": "stdout",
     "output_type": "stream",
     "text": [
      "\u001b[1m\u001b[36mBest valid accuracy improved from 13.80% to 13.83%. Saving checkpoint...\n",
      "\u001b[0m"
     ]
    },
    {
     "name": "stderr",
     "output_type": "stream",
     "text": [
      "Epoch 7/10: 100%|██████████| 32/32 [00:14<00:00,  2.28 batch/s, loss=2.2413]\n",
      "Validating: 100%|██████████| 8/8 [00:01<00:00,  5.66 batch/s]\n",
      "Epoch 8/10: 100%|██████████| 32/32 [00:14<00:00,  2.28 batch/s, loss=1.9083]\n",
      "Validating: 100%|██████████| 8/8 [00:01<00:00,  5.64 batch/s]\n",
      "Epoch 9/10: 100%|██████████| 32/32 [00:14<00:00,  2.28 batch/s, loss=1.5794]\n",
      "Validating: 100%|██████████| 8/8 [00:01<00:00,  5.63 batch/s]\n"
     ]
    },
    {
     "name": "stdout",
     "output_type": "stream",
     "text": [
      "\u001b[1m\u001b[36mBest valid accuracy improved from 13.83% to 14.47%. Saving checkpoint...\n",
      "\u001b[0m"
     ]
    },
    {
     "name": "stderr",
     "output_type": "stream",
     "text": [
      "Epoch 10/10: 100%|██████████| 32/32 [00:14<00:00,  2.28 batch/s, loss=1.4106]\n",
      "Validating: 100%|██████████| 8/8 [00:01<00:00,  5.67 batch/s]\n"
     ]
    },
    {
     "name": "stdout",
     "output_type": "stream",
     "text": [
      "\u001b[1m\u001b[36mBest valid accuracy improved from 14.47% to 17.18%. Saving checkpoint...\n",
      "\u001b[0m"
     ]
    },
    {
     "name": "stderr",
     "output_type": "stream",
     "text": [
      "Testing: 100%|██████████| 20/20 [00:03<00:00,  5.69 batch/s]\n"
     ]
    },
    {
     "name": "stdout",
     "output_type": "stream",
     "text": [
      "\u001b[1m\u001b[95mRunning run r50,ep:10,bs:512,clip:None/5\n",
      "\u001b[0m"
     ]
    },
    {
     "name": "stderr",
     "output_type": "stream",
     "text": [
      "Epoch 1/10: 100%|██████████| 40/40 [00:18<00:00,  2.20 batch/s, loss=4.6403]\n",
      "Validating: 100%|██████████| 10/10 [00:01<00:00,  5.16 batch/s]\n"
     ]
    },
    {
     "name": "stdout",
     "output_type": "stream",
     "text": [
      "\u001b[1m\u001b[36mBest valid accuracy improved from 0.00% to 3.92%. Saving checkpoint...\n",
      "\u001b[0m"
     ]
    },
    {
     "name": "stderr",
     "output_type": "stream",
     "text": [
      "Epoch 2/10: 100%|██████████| 40/40 [00:17<00:00,  2.27 batch/s, loss=3.8713]\n",
      "Validating: 100%|██████████| 10/10 [00:01<00:00,  5.67 batch/s]\n"
     ]
    },
    {
     "name": "stdout",
     "output_type": "stream",
     "text": [
      "\u001b[1m\u001b[36mBest valid accuracy improved from 3.92% to 10.04%. Saving checkpoint...\n",
      "\u001b[0m"
     ]
    },
    {
     "name": "stderr",
     "output_type": "stream",
     "text": [
      "Epoch 3/10: 100%|██████████| 40/40 [00:17<00:00,  2.26 batch/s, loss=3.6357]\n",
      "Validating: 100%|██████████| 10/10 [00:01<00:00,  5.66 batch/s]\n",
      "Epoch 4/10: 100%|██████████| 40/40 [00:17<00:00,  2.27 batch/s, loss=3.4544]\n",
      "Validating: 100%|██████████| 10/10 [00:01<00:00,  5.65 batch/s]\n"
     ]
    },
    {
     "name": "stdout",
     "output_type": "stream",
     "text": [
      "\u001b[1m\u001b[36mBest valid accuracy improved from 10.04% to 13.06%. Saving checkpoint...\n",
      "\u001b[0m"
     ]
    },
    {
     "name": "stderr",
     "output_type": "stream",
     "text": [
      "Epoch 5/10: 100%|██████████| 40/40 [00:17<00:00,  2.27 batch/s, loss=3.5384]\n",
      "Validating: 100%|██████████| 10/10 [00:01<00:00,  5.65 batch/s]\n",
      "Epoch 6/10: 100%|██████████| 40/40 [00:17<00:00,  2.27 batch/s, loss=3.2585]\n",
      "Validating: 100%|██████████| 10/10 [00:01<00:00,  5.66 batch/s]\n"
     ]
    },
    {
     "name": "stdout",
     "output_type": "stream",
     "text": [
      "\u001b[1m\u001b[36mBest valid accuracy improved from 13.06% to 16.62%. Saving checkpoint...\n",
      "\u001b[0m"
     ]
    },
    {
     "name": "stderr",
     "output_type": "stream",
     "text": [
      "Epoch 7/10: 100%|██████████| 40/40 [00:17<00:00,  2.27 batch/s, loss=3.4671]\n",
      "Validating: 100%|██████████| 10/10 [00:01<00:00,  5.68 batch/s]\n",
      "Epoch 8/10: 100%|██████████| 40/40 [00:17<00:00,  2.27 batch/s, loss=3.1267]\n",
      "Validating: 100%|██████████| 10/10 [00:01<00:00,  5.69 batch/s]\n"
     ]
    },
    {
     "name": "stdout",
     "output_type": "stream",
     "text": [
      "\u001b[1m\u001b[36mBest valid accuracy improved from 16.62% to 16.86%. Saving checkpoint...\n",
      "\u001b[0m"
     ]
    },
    {
     "name": "stderr",
     "output_type": "stream",
     "text": [
      "Epoch 9/10: 100%|██████████| 40/40 [00:17<00:00,  2.26 batch/s, loss=2.9476]\n",
      "Validating: 100%|██████████| 10/10 [00:01<00:00,  5.68 batch/s]\n"
     ]
    },
    {
     "name": "stdout",
     "output_type": "stream",
     "text": [
      "\u001b[1m\u001b[36mBest valid accuracy improved from 16.86% to 21.50%. Saving checkpoint...\n",
      "\u001b[0m"
     ]
    },
    {
     "name": "stderr",
     "output_type": "stream",
     "text": [
      "Epoch 10/10: 100%|██████████| 40/40 [00:17<00:00,  2.27 batch/s, loss=2.7221]\n",
      "Validating: 100%|██████████| 10/10 [00:01<00:00,  5.66 batch/s]\n",
      "Testing: 100%|██████████| 20/20 [00:03<00:00,  5.70 batch/s]\n"
     ]
    },
    {
     "name": "stdout",
     "output_type": "stream",
     "text": [
      "\u001b[1m\u001b[95mRunning run r50,ep:10,bs:512,clip:None/6\n",
      "\u001b[0m"
     ]
    },
    {
     "name": "stderr",
     "output_type": "stream",
     "text": [
      "Epoch 1/10: 100%|██████████| 47/47 [00:21<00:00,  2.20 batch/s, loss=4.5633]\n",
      "Validating: 100%|██████████| 12/12 [00:02<00:00,  5.27 batch/s]\n"
     ]
    },
    {
     "name": "stdout",
     "output_type": "stream",
     "text": [
      "\u001b[1m\u001b[36mBest valid accuracy improved from 0.00% to 5.17%. Saving checkpoint...\n",
      "\u001b[0m"
     ]
    },
    {
     "name": "stderr",
     "output_type": "stream",
     "text": [
      "Epoch 2/10: 100%|██████████| 47/47 [00:21<00:00,  2.24 batch/s, loss=3.7748]\n",
      "Validating: 100%|██████████| 12/12 [00:02<00:00,  5.67 batch/s]\n"
     ]
    },
    {
     "name": "stdout",
     "output_type": "stream",
     "text": [
      "\u001b[1m\u001b[36mBest valid accuracy improved from 5.17% to 13.17%. Saving checkpoint...\n",
      "\u001b[0m"
     ]
    },
    {
     "name": "stderr",
     "output_type": "stream",
     "text": [
      "Epoch 3/10: 100%|██████████| 47/47 [00:21<00:00,  2.23 batch/s, loss=3.3379]\n",
      "Validating: 100%|██████████| 12/12 [00:02<00:00,  5.68 batch/s]\n"
     ]
    },
    {
     "name": "stdout",
     "output_type": "stream",
     "text": [
      "\u001b[1m\u001b[36mBest valid accuracy improved from 13.17% to 15.05%. Saving checkpoint...\n",
      "\u001b[0m"
     ]
    },
    {
     "name": "stderr",
     "output_type": "stream",
     "text": [
      "Epoch 4/10: 100%|██████████| 47/47 [00:20<00:00,  2.24 batch/s, loss=3.0160]\n",
      "Validating: 100%|██████████| 12/12 [00:02<00:00,  5.67 batch/s]\n",
      "Epoch 5/10: 100%|██████████| 47/47 [00:21<00:00,  2.23 batch/s, loss=2.9055]\n",
      "Validating: 100%|██████████| 12/12 [00:02<00:00,  5.66 batch/s]\n"
     ]
    },
    {
     "name": "stdout",
     "output_type": "stream",
     "text": [
      "\u001b[1m\u001b[36mBest valid accuracy improved from 15.05% to 18.85%. Saving checkpoint...\n",
      "\u001b[0m"
     ]
    },
    {
     "name": "stderr",
     "output_type": "stream",
     "text": [
      "Epoch 6/10: 100%|██████████| 47/47 [00:21<00:00,  2.23 batch/s, loss=2.5606]\n",
      "Validating: 100%|██████████| 12/12 [00:02<00:00,  5.66 batch/s]\n"
     ]
    },
    {
     "name": "stdout",
     "output_type": "stream",
     "text": [
      "\u001b[1m\u001b[36mBest valid accuracy improved from 18.85% to 21.18%. Saving checkpoint...\n",
      "\u001b[0m"
     ]
    },
    {
     "name": "stderr",
     "output_type": "stream",
     "text": [
      "Epoch 7/10: 100%|██████████| 47/47 [00:21<00:00,  2.23 batch/s, loss=2.1751]\n",
      "Validating: 100%|██████████| 12/12 [00:02<00:00,  5.66 batch/s]\n"
     ]
    },
    {
     "name": "stdout",
     "output_type": "stream",
     "text": [
      "\u001b[1m\u001b[36mBest valid accuracy improved from 21.18% to 21.65%. Saving checkpoint...\n",
      "\u001b[0m"
     ]
    },
    {
     "name": "stderr",
     "output_type": "stream",
     "text": [
      "Epoch 8/10: 100%|██████████| 47/47 [00:21<00:00,  2.23 batch/s, loss=1.8487]\n",
      "Validating: 100%|██████████| 12/12 [00:02<00:00,  5.62 batch/s]\n",
      "Epoch 9/10: 100%|██████████| 47/47 [00:21<00:00,  2.23 batch/s, loss=1.5517]\n",
      "Validating: 100%|██████████| 12/12 [00:02<00:00,  5.67 batch/s]\n",
      "Epoch 10/10: 100%|██████████| 47/47 [00:21<00:00,  2.23 batch/s, loss=1.2382]\n",
      "Validating: 100%|██████████| 12/12 [00:02<00:00,  5.68 batch/s]\n",
      "Testing: 100%|██████████| 20/20 [00:03<00:00,  5.62 batch/s]\n"
     ]
    },
    {
     "name": "stdout",
     "output_type": "stream",
     "text": [
      "\u001b[1m\u001b[95mRunning run r50,ep:10,bs:512,clip:None/7\n",
      "\u001b[0m"
     ]
    },
    {
     "name": "stderr",
     "output_type": "stream",
     "text": [
      "Epoch 1/10: 100%|██████████| 55/55 [00:24<00:00,  2.20 batch/s, loss=4.4979]\n",
      "Validating: 100%|██████████| 14/14 [00:02<00:00,  5.23 batch/s]\n"
     ]
    },
    {
     "name": "stdout",
     "output_type": "stream",
     "text": [
      "\u001b[1m\u001b[36mBest valid accuracy improved from 0.00% to 7.47%. Saving checkpoint...\n",
      "\u001b[0m"
     ]
    },
    {
     "name": "stderr",
     "output_type": "stream",
     "text": [
      "Epoch 2/10: 100%|██████████| 55/55 [00:24<00:00,  2.24 batch/s, loss=3.7419]\n",
      "Validating: 100%|██████████| 14/14 [00:02<00:00,  5.69 batch/s]\n"
     ]
    },
    {
     "name": "stdout",
     "output_type": "stream",
     "text": [
      "\u001b[1m\u001b[36mBest valid accuracy improved from 7.47% to 14.10%. Saving checkpoint...\n",
      "\u001b[0m"
     ]
    },
    {
     "name": "stderr",
     "output_type": "stream",
     "text": [
      "Epoch 3/10: 100%|██████████| 55/55 [00:24<00:00,  2.24 batch/s, loss=3.3511]\n",
      "Validating: 100%|██████████| 14/14 [00:02<00:00,  5.67 batch/s]\n"
     ]
    },
    {
     "name": "stdout",
     "output_type": "stream",
     "text": [
      "\u001b[1m\u001b[36mBest valid accuracy improved from 14.10% to 16.54%. Saving checkpoint...\n",
      "\u001b[0m"
     ]
    },
    {
     "name": "stderr",
     "output_type": "stream",
     "text": [
      "Epoch 4/10: 100%|██████████| 55/55 [00:24<00:00,  2.24 batch/s, loss=3.0919]\n",
      "Validating: 100%|██████████| 14/14 [00:02<00:00,  5.68 batch/s]\n"
     ]
    },
    {
     "name": "stdout",
     "output_type": "stream",
     "text": [
      "\u001b[1m\u001b[36mBest valid accuracy improved from 16.54% to 19.46%. Saving checkpoint...\n",
      "\u001b[0m"
     ]
    },
    {
     "name": "stderr",
     "output_type": "stream",
     "text": [
      "Epoch 5/10: 100%|██████████| 55/55 [00:24<00:00,  2.24 batch/s, loss=2.7459]\n",
      "Validating: 100%|██████████| 14/14 [00:02<00:00,  5.67 batch/s]\n",
      "Epoch 6/10: 100%|██████████| 55/55 [00:24<00:00,  2.24 batch/s, loss=2.4308]\n",
      "Validating: 100%|██████████| 14/14 [00:02<00:00,  5.68 batch/s]\n"
     ]
    },
    {
     "name": "stdout",
     "output_type": "stream",
     "text": [
      "\u001b[1m\u001b[36mBest valid accuracy improved from 19.46% to 19.99%. Saving checkpoint...\n",
      "\u001b[0m"
     ]
    },
    {
     "name": "stderr",
     "output_type": "stream",
     "text": [
      "Epoch 7/10: 100%|██████████| 55/55 [00:24<00:00,  2.24 batch/s, loss=2.1308]\n",
      "Validating: 100%|██████████| 14/14 [00:02<00:00,  5.68 batch/s]\n"
     ]
    },
    {
     "name": "stdout",
     "output_type": "stream",
     "text": [
      "\u001b[1m\u001b[36mBest valid accuracy improved from 19.99% to 20.76%. Saving checkpoint...\n",
      "\u001b[0m"
     ]
    },
    {
     "name": "stderr",
     "output_type": "stream",
     "text": [
      "Epoch 8/10: 100%|██████████| 55/55 [00:24<00:00,  2.24 batch/s, loss=1.9127]\n",
      "Validating: 100%|██████████| 14/14 [00:02<00:00,  5.67 batch/s]\n",
      "Epoch 9/10: 100%|██████████| 55/55 [00:24<00:00,  2.24 batch/s, loss=2.7099]\n",
      "Validating: 100%|██████████| 14/14 [00:02<00:00,  5.68 batch/s]\n",
      "Epoch 10/10: 100%|██████████| 55/55 [00:24<00:00,  2.24 batch/s, loss=3.5984]\n",
      "Validating: 100%|██████████| 14/14 [00:02<00:00,  5.68 batch/s]\n",
      "Testing: 100%|██████████| 20/20 [00:03<00:00,  5.63 batch/s]\n"
     ]
    },
    {
     "name": "stdout",
     "output_type": "stream",
     "text": [
      "\u001b[1m\u001b[95mRunning run r50,ep:10,bs:512,clip:None/8\n",
      "\u001b[0m"
     ]
    },
    {
     "name": "stderr",
     "output_type": "stream",
     "text": [
      "Epoch 1/10: 100%|██████████| 63/63 [00:28<00:00,  2.19 batch/s, loss=4.3944]\n",
      "Validating: 100%|██████████| 16/16 [00:02<00:00,  5.56 batch/s]\n"
     ]
    },
    {
     "name": "stdout",
     "output_type": "stream",
     "text": [
      "\u001b[1m\u001b[36mBest valid accuracy improved from 0.00% to 10.47%. Saving checkpoint...\n",
      "\u001b[0m"
     ]
    },
    {
     "name": "stderr",
     "output_type": "stream",
     "text": [
      "Epoch 2/10: 100%|██████████| 63/63 [00:28<00:00,  2.25 batch/s, loss=3.6566]\n",
      "Validating: 100%|██████████| 16/16 [00:02<00:00,  5.69 batch/s]\n"
     ]
    },
    {
     "name": "stdout",
     "output_type": "stream",
     "text": [
      "\u001b[1m\u001b[36mBest valid accuracy improved from 10.47% to 13.86%. Saving checkpoint...\n",
      "\u001b[0m"
     ]
    },
    {
     "name": "stderr",
     "output_type": "stream",
     "text": [
      "Epoch 3/10: 100%|██████████| 63/63 [00:28<00:00,  2.25 batch/s, loss=3.2430]\n",
      "Validating: 100%|██████████| 16/16 [00:02<00:00,  5.69 batch/s]\n"
     ]
    },
    {
     "name": "stdout",
     "output_type": "stream",
     "text": [
      "\u001b[1m\u001b[36mBest valid accuracy improved from 13.86% to 17.34%. Saving checkpoint...\n",
      "\u001b[0m"
     ]
    },
    {
     "name": "stderr",
     "output_type": "stream",
     "text": [
      "Epoch 4/10: 100%|██████████| 63/63 [00:27<00:00,  2.25 batch/s, loss=2.9275]\n",
      "Validating: 100%|██████████| 16/16 [00:02<00:00,  5.68 batch/s]\n"
     ]
    },
    {
     "name": "stdout",
     "output_type": "stream",
     "text": [
      "\u001b[1m\u001b[36mBest valid accuracy improved from 17.34% to 20.49%. Saving checkpoint...\n",
      "\u001b[0m"
     ]
    },
    {
     "name": "stderr",
     "output_type": "stream",
     "text": [
      "Epoch 5/10: 100%|██████████| 63/63 [00:28<00:00,  2.25 batch/s, loss=2.6313]\n",
      "Validating: 100%|██████████| 16/16 [00:02<00:00,  5.68 batch/s]\n"
     ]
    },
    {
     "name": "stdout",
     "output_type": "stream",
     "text": [
      "\u001b[1m\u001b[36mBest valid accuracy improved from 20.49% to 21.20%. Saving checkpoint...\n",
      "\u001b[0m"
     ]
    },
    {
     "name": "stderr",
     "output_type": "stream",
     "text": [
      "Epoch 6/10: 100%|██████████| 63/63 [00:28<00:00,  2.25 batch/s, loss=2.4376]\n",
      "Validating: 100%|██████████| 16/16 [00:02<00:00,  5.68 batch/s]\n"
     ]
    },
    {
     "name": "stdout",
     "output_type": "stream",
     "text": [
      "\u001b[1m\u001b[36mBest valid accuracy improved from 21.20% to 22.93%. Saving checkpoint...\n",
      "\u001b[0m"
     ]
    },
    {
     "name": "stderr",
     "output_type": "stream",
     "text": [
      "Epoch 7/10: 100%|██████████| 63/63 [00:28<00:00,  2.24 batch/s, loss=2.1980]\n",
      "Validating: 100%|██████████| 16/16 [00:02<00:00,  5.66 batch/s]\n",
      "Epoch 8/10: 100%|██████████| 63/63 [00:28<00:00,  2.24 batch/s, loss=1.9407]\n",
      "Validating: 100%|██████████| 16/16 [00:02<00:00,  5.68 batch/s]\n"
     ]
    },
    {
     "name": "stdout",
     "output_type": "stream",
     "text": [
      "\u001b[1m\u001b[36mBest valid accuracy improved from 22.93% to 23.51%. Saving checkpoint...\n",
      "\u001b[0m"
     ]
    },
    {
     "name": "stderr",
     "output_type": "stream",
     "text": [
      "Epoch 9/10: 100%|██████████| 63/63 [00:28<00:00,  2.25 batch/s, loss=1.5707]\n",
      "Validating: 100%|██████████| 16/16 [00:02<00:00,  5.59 batch/s]\n"
     ]
    },
    {
     "name": "stdout",
     "output_type": "stream",
     "text": [
      "\u001b[1m\u001b[36mBest valid accuracy improved from 23.51% to 24.62%. Saving checkpoint...\n",
      "\u001b[0m"
     ]
    },
    {
     "name": "stderr",
     "output_type": "stream",
     "text": [
      "Epoch 10/10: 100%|██████████| 63/63 [00:27<00:00,  2.25 batch/s, loss=1.3141]\n",
      "Validating: 100%|██████████| 16/16 [00:02<00:00,  5.68 batch/s]\n",
      "Testing: 100%|██████████| 20/20 [00:03<00:00,  5.71 batch/s]\n"
     ]
    },
    {
     "name": "stdout",
     "output_type": "stream",
     "text": [
      "\u001b[1m\u001b[95mRunning run r50,ep:10,bs:512,clip:None/9\n",
      "\u001b[0m"
     ]
    },
    {
     "name": "stderr",
     "output_type": "stream",
     "text": [
      "Epoch 1/10: 100%|██████████| 71/71 [00:32<00:00,  2.20 batch/s, loss=4.3336]\n",
      "Validating: 100%|██████████| 18/18 [00:03<00:00,  5.15 batch/s]\n"
     ]
    },
    {
     "name": "stdout",
     "output_type": "stream",
     "text": [
      "\u001b[1m\u001b[36mBest valid accuracy improved from 0.00% to 9.98%. Saving checkpoint...\n",
      "\u001b[0m"
     ]
    },
    {
     "name": "stderr",
     "output_type": "stream",
     "text": [
      "Epoch 2/10: 100%|██████████| 71/71 [00:31<00:00,  2.25 batch/s, loss=3.6732]\n",
      "Validating: 100%|██████████| 18/18 [00:03<00:00,  5.68 batch/s]\n"
     ]
    },
    {
     "name": "stdout",
     "output_type": "stream",
     "text": [
      "\u001b[1m\u001b[36mBest valid accuracy improved from 9.98% to 16.20%. Saving checkpoint...\n",
      "\u001b[0m"
     ]
    },
    {
     "name": "stderr",
     "output_type": "stream",
     "text": [
      "Epoch 3/10: 100%|██████████| 71/71 [00:31<00:00,  2.25 batch/s, loss=3.3282]\n",
      "Validating: 100%|██████████| 18/18 [00:03<00:00,  5.69 batch/s]\n",
      "Epoch 4/10: 100%|██████████| 71/71 [00:31<00:00,  2.25 batch/s, loss=3.1741]\n",
      "Validating: 100%|██████████| 18/18 [00:03<00:00,  5.67 batch/s]\n"
     ]
    },
    {
     "name": "stdout",
     "output_type": "stream",
     "text": [
      "\u001b[1m\u001b[36mBest valid accuracy improved from 16.20% to 23.89%. Saving checkpoint...\n",
      "\u001b[0m"
     ]
    },
    {
     "name": "stderr",
     "output_type": "stream",
     "text": [
      "Epoch 5/10: 100%|██████████| 71/71 [00:31<00:00,  2.25 batch/s, loss=2.8900]\n",
      "Validating: 100%|██████████| 18/18 [00:03<00:00,  5.69 batch/s]\n"
     ]
    },
    {
     "name": "stdout",
     "output_type": "stream",
     "text": [
      "\u001b[1m\u001b[36mBest valid accuracy improved from 23.89% to 24.62%. Saving checkpoint...\n",
      "\u001b[0m"
     ]
    },
    {
     "name": "stderr",
     "output_type": "stream",
     "text": [
      "Epoch 6/10: 100%|██████████| 71/71 [00:31<00:00,  2.25 batch/s, loss=2.5360]\n",
      "Validating: 100%|██████████| 18/18 [00:03<00:00,  5.70 batch/s]\n"
     ]
    },
    {
     "name": "stdout",
     "output_type": "stream",
     "text": [
      "\u001b[1m\u001b[36mBest valid accuracy improved from 24.62% to 26.38%. Saving checkpoint...\n",
      "\u001b[0m"
     ]
    },
    {
     "name": "stderr",
     "output_type": "stream",
     "text": [
      "Epoch 7/10: 100%|██████████| 71/71 [00:31<00:00,  2.25 batch/s, loss=2.2311]\n",
      "Validating: 100%|██████████| 18/18 [00:03<00:00,  5.69 batch/s]\n",
      "Epoch 8/10: 100%|██████████| 71/71 [00:31<00:00,  2.25 batch/s, loss=1.9917]\n",
      "Validating: 100%|██████████| 18/18 [00:03<00:00,  5.69 batch/s]\n",
      "Epoch 9/10: 100%|██████████| 71/71 [00:31<00:00,  2.25 batch/s, loss=2.4739]\n",
      "Validating: 100%|██████████| 18/18 [00:03<00:00,  5.68 batch/s]\n",
      "Epoch 10/10: 100%|██████████| 71/71 [00:31<00:00,  2.25 batch/s, loss=1.8838]\n",
      "Validating: 100%|██████████| 18/18 [00:03<00:00,  5.69 batch/s]\n"
     ]
    },
    {
     "name": "stdout",
     "output_type": "stream",
     "text": [
      "\u001b[1m\u001b[36mBest valid accuracy improved from 26.38% to 26.78%. Saving checkpoint...\n",
      "\u001b[0m"
     ]
    },
    {
     "name": "stderr",
     "output_type": "stream",
     "text": [
      "Testing: 100%|██████████| 20/20 [00:03<00:00,  5.70 batch/s]\n"
     ]
    },
    {
     "name": "stdout",
     "output_type": "stream",
     "text": [
      "\u001b[1m\u001b[95mRunning run r50,ep:10,bs:512,clip:None/10\n",
      "\u001b[0m"
     ]
    },
    {
     "name": "stderr",
     "output_type": "stream",
     "text": [
      "Epoch 1/10: 100%|██████████| 79/79 [00:35<00:00,  2.20 batch/s, loss=4.3045]\n",
      "Validating: 100%|██████████| 20/20 [00:03<00:00,  5.65 batch/s]\n"
     ]
    },
    {
     "name": "stdout",
     "output_type": "stream",
     "text": [
      "\u001b[1m\u001b[36mBest valid accuracy improved from 0.00% to 9.88%. Saving checkpoint...\n",
      "\u001b[0m"
     ]
    },
    {
     "name": "stderr",
     "output_type": "stream",
     "text": [
      "Epoch 2/10: 100%|██████████| 79/79 [00:35<00:00,  2.25 batch/s, loss=3.6056]\n",
      "Validating: 100%|██████████| 20/20 [00:03<00:00,  5.68 batch/s]\n"
     ]
    },
    {
     "name": "stdout",
     "output_type": "stream",
     "text": [
      "\u001b[1m\u001b[36mBest valid accuracy improved from 9.88% to 13.99%. Saving checkpoint...\n",
      "\u001b[0m"
     ]
    },
    {
     "name": "stderr",
     "output_type": "stream",
     "text": [
      "Epoch 3/10: 100%|██████████| 79/79 [00:35<00:00,  2.25 batch/s, loss=3.4781]\n",
      "Validating: 100%|██████████| 20/20 [00:03<00:00,  5.67 batch/s]\n",
      "Epoch 4/10: 100%|██████████| 79/79 [00:35<00:00,  2.25 batch/s, loss=3.0957]\n",
      "Validating: 100%|██████████| 20/20 [00:03<00:00,  5.69 batch/s]\n"
     ]
    },
    {
     "name": "stdout",
     "output_type": "stream",
     "text": [
      "\u001b[1m\u001b[36mBest valid accuracy improved from 13.99% to 17.25%. Saving checkpoint...\n",
      "\u001b[0m"
     ]
    },
    {
     "name": "stderr",
     "output_type": "stream",
     "text": [
      "Epoch 5/10: 100%|██████████| 79/79 [00:35<00:00,  2.25 batch/s, loss=2.9740]\n",
      "Validating: 100%|██████████| 20/20 [00:03<00:00,  5.68 batch/s]\n"
     ]
    },
    {
     "name": "stdout",
     "output_type": "stream",
     "text": [
      "\u001b[1m\u001b[36mBest valid accuracy improved from 17.25% to 22.59%. Saving checkpoint...\n",
      "\u001b[0m"
     ]
    },
    {
     "name": "stderr",
     "output_type": "stream",
     "text": [
      "Epoch 6/10: 100%|██████████| 79/79 [00:35<00:00,  2.25 batch/s, loss=2.6110]\n",
      "Validating: 100%|██████████| 20/20 [00:03<00:00,  5.67 batch/s]\n"
     ]
    },
    {
     "name": "stdout",
     "output_type": "stream",
     "text": [
      "\u001b[1m\u001b[36mBest valid accuracy improved from 22.59% to 22.74%. Saving checkpoint...\n",
      "\u001b[0m"
     ]
    },
    {
     "name": "stderr",
     "output_type": "stream",
     "text": [
      "Epoch 7/10: 100%|██████████| 79/79 [00:35<00:00,  2.25 batch/s, loss=2.3913]\n",
      "Validating: 100%|██████████| 20/20 [00:03<00:00,  5.67 batch/s]\n"
     ]
    },
    {
     "name": "stdout",
     "output_type": "stream",
     "text": [
      "\u001b[1m\u001b[36mBest valid accuracy improved from 22.74% to 26.20%. Saving checkpoint...\n",
      "\u001b[0m"
     ]
    },
    {
     "name": "stderr",
     "output_type": "stream",
     "text": [
      "Epoch 8/10: 100%|██████████| 79/79 [00:35<00:00,  2.25 batch/s, loss=2.4164]\n",
      "Validating: 100%|██████████| 20/20 [00:03<00:00,  5.67 batch/s]\n",
      "Epoch 9/10: 100%|██████████| 79/79 [00:35<00:00,  2.25 batch/s, loss=2.9211]\n",
      "Validating: 100%|██████████| 20/20 [00:03<00:00,  5.66 batch/s]\n",
      "Epoch 10/10: 100%|██████████| 79/79 [00:35<00:00,  2.25 batch/s, loss=2.4881]\n",
      "Validating: 100%|██████████| 20/20 [00:03<00:00,  5.67 batch/s]\n"
     ]
    },
    {
     "name": "stdout",
     "output_type": "stream",
     "text": [
      "\u001b[1m\u001b[36mBest valid accuracy improved from 26.20% to 29.48%. Saving checkpoint...\n",
      "\u001b[0m"
     ]
    },
    {
     "name": "stderr",
     "output_type": "stream",
     "text": [
      "Testing: 100%|██████████| 20/20 [00:03<00:00,  5.69 batch/s]\n"
     ]
    }
   ],
   "source": [
    "import torch\n",
    "import torchvision\n",
    "from torchvision.models import resnet50\n",
    "\n",
    "from kiss.experiment import Experiment\n",
    "from kiss.sampler import RandomSampler\n",
    "from kiss.utils.configs import CONFIGS\n",
    "\n",
    "transform = torchvision.transforms.ToTensor()\n",
    "dataset_tr = torchvision.datasets.CIFAR100(root='../data', train=True, download=True, transform=transform)\n",
    "dataset_te = torchvision.datasets.CIFAR100(root='../data', train=False, download=True, transform=transform)\n",
    "\n",
    "model = resnet50(num_classes=100)\n",
    "model.to(torch.device(CONFIGS.torch.device))\n",
    "\n",
    "experiment = Experiment(\n",
    "    model, \n",
    "    dataset_tr, \n",
    "    dataset_te, \n",
    "    RandomSampler, \n",
    "    ratio=(0.1, 1, 10),\n",
    "    epochs=10,\n",
    "    batch_size=512,\n",
    "    clip=None)\n",
    "experiment.run(\"../experiments\", \"r50,ep:10,bs:512,clip:None\")"
   ]
  },
  {
   "cell_type": "code",
   "execution_count": 2,
   "metadata": {},
   "outputs": [
    {
     "name": "stdout",
     "output_type": "stream",
     "text": [
      "Files already downloaded and verified\n",
      "Files already downloaded and verified\n",
      "\u001b[1m\u001b[33mRunning experiment ResNet!CIFAR100!KMeansPuritySampler\n",
      "\u001b[0m\u001b[1m\u001b[95mRunning run r50,ep:10,bs:512,clip:None,nc:20,mp:0.01,fe/1\n",
      "\u001b[0m19 50 {19: 66, 0: 51, 5: 50, 12: 49, 6: 45, 8: 43, 13: 31, 18: 31, 17: 25, 7: 25, 11: 22, 16: 22, 1: 10, 4: 9, 9: 6, 15: 6, 14: 5, 10: 2, 2: 1, 3: 1}\n",
      "29 50 {2: 78, 10: 61, 3: 38, 0: 30, 15: 29, 8: 26, 5: 25, 18: 24, 13: 23, 19: 21, 16: 21, 4: 18, 14: 17, 1: 15, 9: 14, 17: 14, 6: 13, 7: 12, 12: 12, 11: 9}\n",
      "0 50 {15: 50, 2: 41, 14: 39, 4: 39, 13: 35, 8: 33, 16: 30, 5: 29, 18: 25, 1: 22, 0: 22, 11: 20, 7: 16, 9: 16, 6: 16, 19: 16, 10: 15, 17: 13, 12: 13, 3: 10}\n",
      "11 50 {17: 46, 8: 42, 4: 39, 13: 34, 0: 31, 18: 31, 5: 30, 12: 27, 11: 27, 7: 24, 10: 24, 9: 23, 2: 21, 6: 21, 1: 19, 14: 18, 19: 17, 15: 11, 16: 8, 3: 7}\n",
      "1 50 {9: 82, 13: 82, 4: 77, 8: 48, 0: 41, 11: 38, 3: 26, 6: 25, 12: 19, 5: 17, 19: 10, 18: 8, 17: 8, 14: 6, 7: 3, 16: 3, 15: 3, 1: 2, 10: 1, 2: 1}\n",
      "86 50 {2: 85, 15: 72, 10: 64, 14: 56, 1: 26, 18: 25, 7: 25, 16: 23, 8: 17, 5: 17, 0: 15, 19: 12, 4: 11, 13: 10, 6: 9, 9: 9, 17: 8, 11: 7, 12: 6, 3: 3}\n",
      "90 50 {19: 64, 6: 52, 0: 49, 12: 42, 8: 41, 18: 40, 5: 37, 16: 33, 7: 26, 17: 20, 1: 19, 13: 19, 4: 16, 11: 14, 9: 12, 14: 11, 15: 3, 2: 1, 3: 1}\n",
      "28 50 {14: 54, 1: 38, 7: 35, 3: 33, 2: 32, 9: 31, 4: 30, 8: 26, 5: 25, 0: 23, 10: 23, 17: 21, 15: 19, 13: 19, 19: 17, 12: 16, 6: 16, 18: 16, 16: 14, 11: 12}\n",
      "23 50 {5: 65, 17: 50, 7: 48, 11: 41, 18: 40, 19: 40, 1: 32, 16: 26, 12: 25, 14: 25, 6: 20, 0: 20, 13: 19, 15: 15, 4: 10, 8: 8, 2: 5, 9: 5, 3: 3, 10: 3}\n",
      "31 50 {5: 58, 6: 58, 19: 57, 18: 55, 12: 49, 0: 47, 8: 26, 16: 22, 11: 21, 1: 21, 7: 21, 13: 19, 17: 12, 14: 10, 4: 10, 15: 7, 9: 5, 2: 2}\n",
      "39 50 {5: 50, 18: 45, 10: 43, 19: 37, 16: 35, 0: 32, 11: 31, 6: 29, 2: 29, 13: 26, 12: 24, 14: 20, 8: 20, 15: 19, 17: 15, 7: 13, 4: 12, 9: 9, 1: 6, 3: 5}\n",
      "96 50 {5: 60, 12: 46, 17: 45, 7: 41, 0: 40, 18: 38, 19: 37, 6: 31, 11: 30, 8: 29, 13: 26, 1: 17, 4: 17, 16: 16, 14: 8, 15: 8, 9: 6, 3: 2, 2: 2, 10: 1}\n",
      "82 50 {0: 63, 8: 57, 5: 48, 12: 40, 19: 37, 13: 32, 7: 28, 4: 27, 6: 26, 18: 26, 17: 22, 1: 19, 14: 14, 15: 14, 11: 13, 9: 11, 16: 10, 2: 7, 3: 4, 10: 2}\n",
      "17 50 {19: 67, 5: 66, 7: 57, 18: 56, 17: 53, 1: 38, 11: 30, 12: 25, 6: 25, 16: 24, 0: 23, 14: 15, 8: 10, 4: 5, 13: 4, 15: 1, 9: 1}\n",
      "71 50 {18: 71, 5: 60, 7: 52, 17: 48, 19: 41, 16: 40, 11: 36, 13: 24, 1: 23, 0: 19, 12: 16, 4: 15, 14: 14, 9: 10, 8: 10, 6: 9, 3: 6, 15: 4, 2: 2}\n",
      "8 50 {15: 44, 18: 40, 5: 39, 12: 38, 0: 36, 19: 34, 6: 33, 17: 33, 14: 27, 2: 25, 16: 23, 7: 23, 11: 23, 8: 20, 13: 17, 1: 16, 4: 10, 10: 9, 3: 8, 9: 2}\n",
      "97 50 {0: 59, 8: 56, 13: 52, 4: 47, 12: 33, 6: 31, 9: 29, 5: 28, 11: 25, 19: 24, 7: 20, 18: 18, 16: 16, 14: 15, 1: 15, 15: 12, 17: 9, 3: 6, 2: 5}\n",
      "80 50 {5: 69, 12: 67, 19: 46, 0: 44, 8: 41, 6: 35, 18: 33, 13: 31, 7: 27, 4: 22, 17: 21, 11: 17, 1: 17, 14: 14, 16: 10, 15: 5, 9: 1}\n",
      "74 50 {13: 57, 8: 54, 0: 48, 5: 40, 4: 39, 12: 39, 19: 32, 6: 31, 18: 30, 9: 20, 11: 19, 14: 15, 16: 13, 2: 12, 17: 12, 15: 11, 10: 10, 1: 8, 7: 6, 3: 4}\n",
      "59 50 {7: 82, 17: 54, 5: 52, 19: 38, 6: 34, 12: 32, 1: 31, 18: 27, 0: 26, 13: 21, 16: 20, 11: 20, 14: 19, 8: 15, 15: 10, 4: 8, 2: 6, 10: 4, 9: 1}\n",
      "70 50 {13: 69, 4: 65, 9: 56, 8: 54, 0: 41, 5: 34, 12: 28, 11: 24, 3: 22, 19: 17, 6: 14, 18: 13, 7: 12, 17: 11, 14: 10, 16: 9, 15: 8, 1: 5, 2: 5, 10: 3}\n",
      "87 50 {8: 45, 4: 38, 13: 33, 5: 32, 19: 30, 2: 29, 16: 28, 15: 28, 0: 27, 17: 26, 14: 25, 11: 24, 18: 23, 1: 20, 9: 18, 7: 17, 12: 16, 10: 16, 6: 16, 3: 9}\n",
      "84 50 {5: 38, 8: 37, 0: 37, 11: 36, 19: 35, 6: 35, 13: 32, 12: 31, 18: 30, 7: 29, 10: 25, 17: 23, 16: 21, 4: 20, 2: 16, 1: 14, 9: 13, 14: 13, 15: 11, 3: 4}\n",
      "64 50 {4: 77, 8: 61, 13: 58, 9: 47, 0: 42, 5: 29, 12: 28, 11: 28, 19: 22, 3: 22, 18: 21, 6: 17, 17: 15, 7: 10, 14: 7, 16: 6, 15: 4, 1: 4, 2: 2}\n",
      "52 50 {7: 77, 5: 70, 19: 62, 17: 52, 18: 50, 1: 33, 12: 27, 0: 25, 6: 25, 16: 24, 11: 16, 14: 14, 8: 9, 13: 5, 4: 4, 15: 4, 10: 1, 3: 1, 2: 1}\n",
      "42 50 {0: 70, 8: 61, 13: 58, 12: 58, 6: 40, 4: 38, 5: 30, 11: 26, 19: 21, 9: 17, 7: 16, 18: 16, 17: 11, 16: 10, 14: 10, 3: 9, 15: 4, 1: 3, 2: 2}\n",
      "47 50 {5: 71, 17: 60, 0: 42, 7: 42, 11: 42, 18: 30, 12: 29, 13: 28, 6: 26, 1: 23, 8: 23, 19: 21, 4: 15, 16: 10, 15: 9, 2: 9, 14: 7, 10: 6, 9: 5, 3: 2}\n",
      "65 50 {5: 56, 0: 51, 8: 48, 13: 44, 12: 37, 6: 36, 19: 32, 11: 32, 4: 30, 18: 27, 9: 20, 7: 19, 17: 16, 1: 14, 16: 14, 14: 6, 15: 6, 3: 5, 2: 5, 10: 2}\n",
      "21 50 {13: 54, 17: 44, 8: 42, 4: 42, 11: 38, 0: 37, 12: 33, 7: 30, 5: 30, 9: 29, 18: 26, 6: 25, 19: 22, 1: 16, 3: 11, 16: 9, 14: 8, 15: 3, 2: 1}\n",
      "22 50 {15: 60, 2: 40, 14: 38, 5: 35, 1: 32, 19: 29, 18: 25, 4: 25, 8: 24, 0: 23, 9: 22, 17: 22, 12: 20, 6: 20, 10: 18, 16: 17, 13: 15, 7: 13, 11: 13, 3: 9}\n",
      "81 50 {19: 73, 12: 50, 5: 50, 0: 49, 18: 45, 6: 42, 16: 30, 17: 27, 8: 25, 13: 22, 7: 21, 4: 19, 11: 17, 14: 10, 1: 9, 3: 4, 9: 3, 15: 3, 2: 1}\n",
      "24 50 {10: 189, 2: 66, 18: 43, 14: 39, 15: 33, 19: 21, 5: 20, 16: 19, 1: 17, 6: 13, 7: 11, 12: 10, 0: 8, 8: 5, 4: 3, 17: 2, 13: 1}\n",
      "78 50 {12: 54, 19: 52, 0: 52, 18: 52, 5: 39, 13: 36, 8: 33, 4: 27, 6: 25, 16: 20, 9: 18, 11: 15, 1: 15, 14: 13, 15: 11, 7: 10, 10: 9, 2: 7, 3: 6, 17: 6}\n",
      "45 50 {8: 48, 13: 46, 4: 37, 11: 37, 15: 33, 18: 30, 0: 29, 9: 29, 3: 25, 19: 22, 6: 21, 12: 21, 5: 20, 2: 20, 16: 16, 7: 14, 14: 14, 10: 13, 1: 13, 17: 12}\n",
      "49 50 {17: 71, 11: 57, 5: 57, 7: 45, 19: 37, 18: 35, 6: 29, 13: 28, 12: 28, 0: 24, 1: 22, 8: 21, 16: 16, 4: 13, 15: 6, 14: 4, 9: 4, 2: 2, 3: 1}\n",
      "56 50 {7: 76, 5: 54, 17: 49, 1: 46, 19: 40, 18: 39, 11: 31, 14: 25, 12: 24, 6: 23, 16: 22, 0: 22, 8: 18, 13: 12, 15: 10, 4: 4, 2: 3, 9: 2}\n",
      "76 50 {7: 100, 1: 65, 5: 57, 17: 49, 18: 30, 14: 26, 12: 26, 11: 26, 13: 22, 0: 21, 8: 21, 6: 15, 19: 13, 4: 8, 15: 7, 9: 4, 2: 4, 16: 3, 3: 3}\n",
      "89 50 {19: 63, 5: 47, 0: 44, 18: 44, 6: 44, 12: 43, 17: 36, 16: 34, 7: 32, 11: 23, 13: 20, 8: 17, 1: 14, 2: 8, 4: 8, 14: 8, 9: 7, 15: 7, 3: 1}\n",
      "73 50 {0: 68, 13: 56, 4: 44, 5: 44, 9: 44, 8: 42, 19: 30, 18: 29, 12: 29, 3: 28, 11: 24, 6: 21, 17: 10, 1: 7, 16: 7, 14: 7, 7: 5, 15: 3, 2: 2}\n",
      "14 50 {0: 60, 13: 56, 12: 45, 4: 45, 5: 42, 8: 41, 19: 32, 6: 27, 11: 25, 18: 21, 16: 19, 1: 16, 17: 16, 9: 13, 7: 13, 14: 7, 15: 7, 3: 6, 10: 5, 2: 4}\n",
      "9 50 {7: 62, 10: 47, 1: 46, 14: 44, 2: 40, 19: 31, 18: 28, 5: 28, 15: 23, 17: 18, 13: 17, 0: 17, 4: 16, 11: 15, 8: 13, 6: 13, 3: 13, 12: 11, 16: 9, 9: 9}\n",
      "6 50 {5: 54, 0: 47, 18: 37, 13: 37, 12: 37, 8: 36, 6: 34, 19: 32, 7: 29, 4: 21, 16: 20, 11: 20, 14: 14, 15: 14, 2: 13, 9: 13, 17: 12, 1: 12, 10: 10, 3: 8}\n",
      "20 50 {10: 146, 2: 95, 15: 81, 14: 47, 18: 22, 16: 17, 7: 15, 19: 14, 5: 12, 1: 11, 0: 8, 12: 6, 17: 6, 6: 5, 11: 5, 13: 4, 8: 4, 3: 1, 4: 1}\n",
      "98 50 {0: 48, 7: 42, 4: 39, 8: 36, 13: 35, 9: 35, 14: 32, 1: 31, 11: 29, 17: 26, 12: 24, 6: 20, 5: 20, 19: 18, 18: 17, 3: 15, 2: 14, 15: 14, 10: 4, 16: 1}\n",
      "36 50 {0: 49, 18: 47, 19: 41, 13: 38, 12: 37, 5: 34, 6: 32, 14: 31, 8: 29, 1: 27, 16: 26, 4: 25, 17: 19, 2: 17, 11: 15, 7: 13, 9: 8, 15: 8, 10: 3, 3: 1}\n",
      "55 50 {0: 49, 19: 49, 5: 48, 18: 45, 12: 41, 8: 34, 6: 29, 13: 28, 4: 21, 7: 21, 14: 20, 11: 19, 16: 18, 2: 17, 1: 15, 17: 15, 15: 12, 9: 11, 10: 4, 3: 4}\n",
      "72 50 {18: 58, 19: 44, 5: 44, 13: 32, 7: 30, 1: 28, 6: 28, 8: 28, 0: 28, 12: 27, 14: 26, 16: 25, 17: 25, 11: 19, 4: 16, 15: 16, 2: 13, 9: 10, 3: 3}\n",
      "43 50 {8: 73, 0: 56, 13: 51, 4: 50, 5: 41, 12: 37, 6: 37, 11: 25, 17: 22, 19: 21, 7: 19, 18: 17, 9: 16, 16: 11, 14: 7, 1: 7, 15: 5, 3: 4, 2: 1}\n",
      "51 50 {13: 79, 8: 68, 0: 67, 4: 55, 12: 46, 9: 43, 11: 32, 6: 25, 5: 22, 17: 17, 19: 8, 18: 8, 3: 7, 16: 5, 2: 4, 7: 4, 10: 3, 15: 3, 1: 2, 14: 2}\n",
      "35 50 {8: 56, 0: 42, 5: 41, 6: 37, 4: 35, 13: 32, 1: 28, 7: 28, 18: 26, 14: 25, 11: 25, 17: 23, 9: 23, 12: 21, 19: 19, 15: 9, 2: 9, 3: 7, 10: 7, 16: 7}\n",
      "83 50 {0: 41, 13: 41, 8: 40, 4: 30, 15: 30, 5: 28, 18: 28, 6: 25, 14: 25, 1: 24, 2: 23, 16: 22, 3: 22, 11: 21, 19: 20, 9: 20, 17: 19, 10: 16, 12: 16, 7: 9}\n",
      "33 50 {8: 86, 4: 67, 0: 67, 13: 64, 6: 42, 12: 36, 5: 27, 9: 25, 19: 24, 11: 19, 18: 12, 17: 10, 3: 8, 7: 6, 1: 3, 16: 3, 15: 1}\n",
      "27 50 {0: 58, 8: 54, 12: 46, 5: 44, 13: 42, 4: 42, 19: 40, 11: 34, 6: 31, 18: 28, 9: 21, 16: 17, 17: 13, 1: 12, 7: 11, 15: 3, 14: 2, 3: 1, 2: 1}\n",
      "53 50 {0: 47, 2: 46, 15: 45, 8: 40, 13: 36, 5: 31, 14: 28, 4: 25, 12: 22, 19: 21, 9: 20, 6: 19, 16: 19, 18: 17, 3: 17, 11: 17, 1: 13, 17: 13, 10: 12, 7: 12}\n",
      "92 50 {13: 80, 4: 73, 8: 64, 0: 59, 9: 57, 12: 30, 5: 26, 3: 21, 6: 18, 11: 16, 17: 14, 19: 10, 7: 8, 18: 6, 14: 5, 15: 5, 2: 4, 1: 3, 10: 1}\n",
      "50 50 {5: 49, 0: 44, 12: 39, 4: 39, 13: 36, 18: 35, 8: 34, 19: 34, 16: 23, 15: 23, 14: 19, 11: 18, 10: 17, 6: 17, 9: 15, 7: 14, 2: 13, 17: 11, 1: 10, 3: 10}\n",
      "15 50 {18: 48, 7: 43, 5: 42, 19: 38, 6: 37, 0: 33, 16: 32, 12: 30, 1: 27, 14: 26, 17: 26, 8: 24, 11: 22, 15: 19, 13: 18, 4: 14, 9: 10, 2: 6, 3: 3, 10: 2}\n",
      "18 50 {5: 63, 0: 52, 12: 52, 18: 38, 19: 35, 6: 35, 13: 33, 8: 31, 4: 24, 7: 24, 11: 22, 1: 17, 17: 17, 16: 12, 9: 11, 14: 11, 3: 8, 15: 7, 10: 6, 2: 2}\n",
      "46 50 {13: 51, 17: 45, 8: 44, 4: 41, 9: 36, 7: 34, 11: 30, 1: 28, 3: 28, 5: 27, 0: 25, 12: 23, 6: 17, 14: 17, 19: 17, 18: 13, 2: 9, 15: 7, 16: 7, 10: 1}\n",
      "75 50 {0: 67, 13: 52, 5: 50, 19: 45, 8: 43, 12: 39, 6: 30, 18: 29, 11: 25, 4: 25, 9: 21, 17: 17, 16: 16, 7: 15, 1: 7, 15: 7, 14: 6, 2: 5, 3: 1}\n",
      "38 50 {0: 57, 5: 52, 12: 50, 6: 38, 13: 38, 19: 37, 17: 36, 7: 33, 8: 31, 11: 30, 18: 24, 1: 22, 4: 12, 16: 10, 14: 8, 2: 6, 15: 6, 10: 4, 9: 3, 3: 3}\n",
      "66 50 {8: 61, 13: 55, 0: 54, 5: 49, 12: 47, 4: 40, 9: 26, 7: 24, 6: 23, 11: 22, 18: 18, 19: 18, 17: 16, 1: 11, 15: 9, 2: 8, 14: 6, 3: 6, 16: 4, 10: 3}\n",
      "77 50 {0: 56, 13: 45, 5: 43, 12: 40, 19: 39, 18: 38, 8: 35, 11: 33, 4: 32, 6: 24, 7: 21, 16: 16, 17: 16, 9: 14, 14: 13, 1: 11, 15: 9, 2: 9, 10: 4, 3: 2}\n",
      "69 50 {7: 53, 18: 47, 1: 47, 14: 39, 19: 38, 16: 33, 5: 33, 0: 29, 12: 22, 13: 21, 6: 20, 17: 20, 8: 19, 11: 16, 15: 15, 3: 12, 9: 10, 4: 10, 2: 9, 10: 7}\n",
      "95 50 {18: 64, 19: 59, 5: 43, 16: 35, 15: 34, 12: 32, 14: 30, 1: 30, 0: 26, 6: 25, 8: 20, 13: 18, 7: 16, 2: 16, 4: 13, 17: 12, 11: 12, 10: 11, 9: 4}\n",
      "99 50 {3: 44, 15: 40, 0: 37, 8: 34, 14: 32, 4: 31, 5: 30, 2: 30, 18: 29, 9: 28, 10: 27, 19: 26, 16: 26, 13: 23, 12: 21, 6: 18, 1: 9, 11: 6, 17: 5, 7: 4}\n",
      "93 50 {0: 50, 13: 45, 18: 42, 19: 42, 4: 41, 12: 39, 5: 36, 8: 34, 16: 26, 6: 21, 11: 19, 9: 19, 2: 14, 17: 14, 1: 13, 15: 12, 3: 9, 7: 8, 14: 8, 10: 8}\n",
      "4 50 {0: 70, 13: 53, 12: 47, 5: 42, 8: 35, 19: 35, 6: 33, 4: 28, 18: 28, 11: 24, 17: 14, 15: 14, 16: 14, 9: 13, 7: 12, 2: 12, 14: 11, 1: 10, 10: 5}\n",
      "61 50 {14: 44, 15: 43, 5: 42, 2: 39, 18: 35, 12: 33, 19: 32, 10: 30, 8: 28, 0: 27, 6: 26, 1: 23, 16: 22, 13: 18, 4: 17, 9: 11, 7: 10, 17: 8, 11: 7, 3: 5}\n",
      "94 50 {5: 52, 11: 51, 17: 42, 0: 40, 7: 39, 1: 37, 8: 29, 14: 28, 4: 25, 18: 22, 12: 22, 13: 20, 19: 20, 2: 18, 10: 14, 9: 11, 16: 11, 6: 11, 3: 5, 15: 3}\n",
      "68 50 {19: 95, 6: 76, 18: 64, 5: 59, 16: 49, 8: 33, 12: 32, 0: 21, 7: 18, 17: 15, 1: 13, 13: 10, 4: 6, 11: 4, 15: 3, 14: 2}\n",
      "34 50 {0: 61, 13: 52, 8: 52, 12: 47, 5: 46, 4: 38, 19: 32, 6: 29, 18: 22, 11: 22, 16: 17, 7: 16, 9: 14, 17: 12, 1: 11, 14: 11, 15: 9, 2: 5, 10: 2, 3: 2}\n",
      "32 50 {5: 43, 19: 41, 7: 36, 12: 34, 1: 33, 0: 32, 18: 32, 16: 29, 17: 28, 6: 26, 15: 25, 13: 23, 11: 23, 8: 22, 2: 20, 14: 20, 4: 14, 9: 12, 10: 4, 3: 3}\n",
      "88 50 {0: 61, 8: 59, 13: 53, 4: 53, 5: 44, 12: 41, 6: 28, 7: 24, 11: 23, 19: 20, 18: 20, 9: 17, 1: 12, 17: 11, 16: 9, 14: 8, 2: 7, 3: 5, 15: 4, 10: 1}\n",
      "67 50 {18: 63, 19: 51, 5: 48, 0: 40, 13: 31, 16: 30, 14: 27, 1: 26, 12: 24, 4: 23, 7: 21, 8: 21, 6: 19, 9: 18, 11: 17, 15: 13, 17: 12, 2: 8, 3: 6, 10: 2}\n",
      "30 50 {5: 63, 18: 57, 19: 51, 0: 45, 12: 36, 8: 34, 13: 29, 11: 25, 6: 24, 14: 23, 7: 23, 4: 23, 1: 20, 17: 17, 16: 15, 15: 9, 9: 4, 2: 1, 3: 1}\n",
      "62 50 {13: 89, 4: 76, 8: 66, 0: 64, 9: 35, 11: 31, 12: 30, 5: 23, 3: 22, 6: 17, 17: 14, 19: 11, 18: 7, 16: 4, 14: 4, 1: 3, 7: 3, 2: 1}\n",
      "63 50 {13: 68, 4: 59, 5: 59, 0: 41, 8: 36, 19: 36, 9: 32, 11: 30, 6: 26, 18: 23, 17: 21, 12: 20, 7: 17, 14: 9, 1: 6, 15: 6, 16: 5, 2: 4, 3: 1, 10: 1}\n",
      "40 50 {14: 54, 2: 41, 10: 37, 9: 31, 1: 29, 4: 28, 7: 28, 13: 27, 18: 27, 8: 25, 5: 25, 0: 23, 3: 23, 11: 21, 17: 18, 6: 16, 19: 15, 15: 13, 12: 12, 16: 7}\n",
      "26 50 {4: 46, 13: 46, 5: 41, 2: 36, 9: 35, 8: 32, 0: 31, 16: 29, 15: 28, 18: 28, 12: 22, 10: 21, 19: 20, 11: 19, 6: 17, 3: 14, 7: 14, 14: 12, 1: 7, 17: 2}\n",
      "48 50 {15: 48, 0: 46, 19: 40, 12: 40, 2: 38, 18: 37, 16: 32, 6: 31, 5: 27, 17: 26, 8: 24, 11: 20, 4: 16, 14: 16, 13: 16, 7: 13, 1: 11, 10: 10, 9: 6, 3: 3}\n",
      "79 50 {18: 51, 5: 47, 19: 47, 0: 42, 12: 38, 8: 26, 7: 26, 13: 24, 6: 24, 4: 23, 16: 21, 14: 19, 9: 19, 11: 18, 1: 16, 17: 15, 3: 14, 15: 13, 2: 11, 10: 6}\n",
      "85 50 {18: 51, 7: 51, 1: 51, 19: 40, 17: 37, 16: 35, 6: 33, 5: 32, 14: 31, 12: 25, 15: 24, 0: 21, 11: 15, 8: 14, 13: 13, 2: 12, 3: 7, 4: 4, 9: 3, 10: 1}\n",
      "54 50 {13: 57, 4: 56, 9: 43, 12: 41, 8: 41, 0: 41, 5: 33, 11: 28, 3: 25, 17: 19, 18: 19, 6: 18, 7: 16, 19: 14, 14: 12, 2: 10, 15: 9, 1: 7, 10: 6, 16: 5}\n",
      "44 50 {0: 49, 19: 48, 5: 45, 13: 41, 8: 38, 6: 35, 12: 33, 18: 32, 4: 30, 11: 24, 16: 23, 14: 19, 9: 17, 7: 15, 1: 13, 17: 11, 2: 8, 10: 7, 3: 6, 15: 6}\n",
      "7 50 {5: 58, 18: 43, 19: 41, 10: 39, 16: 36, 8: 34, 1: 30, 14: 29, 15: 27, 12: 25, 2: 23, 6: 21, 7: 20, 0: 20, 13: 15, 4: 11, 9: 10, 17: 9, 11: 8, 3: 1}\n",
      "12 50 {5: 63, 19: 55, 18: 49, 17: 46, 7: 45, 1: 35, 16: 31, 0: 30, 6: 28, 12: 26, 11: 20, 13: 18, 9: 14, 8: 12, 14: 11, 4: 9, 15: 5, 3: 2, 2: 1}\n",
      "2 50 {8: 47, 4: 46, 0: 40, 19: 35, 12: 34, 5: 33, 13: 30, 18: 28, 6: 24, 14: 24, 11: 23, 17: 23, 1: 21, 2: 20, 9: 20, 16: 19, 7: 17, 15: 10, 10: 5, 3: 1}\n",
      "41 50 {2: 142, 10: 70, 15: 33, 5: 31, 12: 29, 0: 27, 18: 19, 17: 18, 7: 18, 14: 18, 19: 15, 13: 14, 8: 14, 11: 13, 6: 12, 1: 12, 4: 7, 16: 6, 9: 2}\n",
      "37 50 {19: 89, 18: 57, 6: 50, 5: 44, 0: 43, 12: 37, 16: 34, 8: 29, 7: 26, 17: 26, 13: 19, 11: 12, 1: 12, 15: 9, 4: 5, 14: 4, 2: 2, 9: 1, 10: 1}\n",
      "13 50 {12: 58, 19: 53, 0: 48, 18: 45, 5: 42, 6: 40, 8: 31, 17: 30, 13: 25, 16: 23, 11: 22, 7: 19, 4: 18, 1: 13, 15: 11, 9: 7, 14: 6, 2: 5, 10: 2, 3: 2}\n",
      "25 50 {16: 46, 19: 42, 6: 41, 0: 36, 15: 33, 12: 31, 5: 30, 8: 27, 4: 27, 18: 25, 17: 24, 13: 22, 7: 19, 2: 19, 11: 17, 14: 15, 9: 15, 1: 13, 10: 12, 3: 6}\n",
      "10 50 {14: 36, 4: 35, 15: 34, 18: 32, 0: 32, 19: 32, 7: 31, 2: 29, 8: 28, 1: 25, 16: 25, 13: 24, 5: 23, 6: 20, 10: 19, 12: 18, 3: 15, 9: 15, 11: 15, 17: 12}\n",
      "57 50 {2: 55, 10: 42, 15: 39, 13: 32, 0: 30, 8: 27, 4: 27, 19: 25, 5: 24, 14: 24, 12: 22, 1: 21, 16: 20, 9: 19, 18: 19, 11: 19, 17: 16, 3: 15, 7: 14, 6: 10}\n",
      "5 50 {19: 62, 6: 42, 18: 37, 12: 36, 15: 36, 5: 35, 11: 35, 0: 33, 16: 33, 2: 21, 13: 21, 7: 18, 4: 18, 8: 17, 17: 16, 14: 16, 1: 9, 10: 9, 9: 5, 3: 1}\n",
      "60 50 {17: 69, 5: 65, 18: 62, 7: 55, 1: 42, 11: 39, 19: 36, 16: 30, 12: 22, 14: 18, 0: 15, 6: 12, 13: 12, 4: 6, 8: 5, 15: 5, 9: 4, 3: 2, 2: 1}\n",
      "91 50 {2: 62, 10: 53, 0: 45, 4: 40, 13: 39, 15: 36, 9: 33, 8: 29, 12: 24, 5: 24, 11: 16, 3: 15, 18: 15, 16: 15, 19: 15, 6: 15, 17: 7, 14: 7, 7: 6, 1: 4}\n",
      "3 50 {0: 50, 5: 48, 18: 40, 12: 40, 19: 40, 7: 35, 13: 35, 8: 32, 6: 30, 17: 24, 11: 24, 1: 24, 4: 18, 14: 17, 9: 14, 16: 13, 15: 11, 2: 3, 3: 1, 10: 1}\n",
      "58 50 {19: 51, 0: 50, 18: 47, 5: 42, 16: 38, 12: 36, 6: 36, 13: 34, 8: 28, 11: 27, 17: 26, 15: 24, 7: 16, 14: 14, 4: 8, 1: 7, 2: 6, 9: 5, 3: 3, 10: 2}\n",
      "16 50 {15: 62, 2: 51, 14: 37, 5: 33, 6: 32, 0: 30, 1: 30, 7: 29, 12: 28, 4: 20, 19: 20, 16: 20, 18: 19, 10: 18, 8: 17, 17: 14, 11: 14, 13: 11, 9: 10, 3: 5}\n",
      "5000 5000\n"
     ]
    },
    {
     "name": "stderr",
     "output_type": "stream",
     "text": [
      "Epoch 1/10: 100%|██████████| 8/8 [00:03<00:00,  2.27 batch/s, loss=5.3201]\n",
      "Validating: 100%|██████████| 2/2 [00:00<00:00,  5.58 batch/s]\n"
     ]
    },
    {
     "name": "stdout",
     "output_type": "stream",
     "text": [
      "\u001b[1m\u001b[36mBest valid accuracy improved from 0.00% to 1.10%. Saving checkpoint...\n",
      "\u001b[0m"
     ]
    },
    {
     "name": "stderr",
     "output_type": "stream",
     "text": [
      "Epoch 2/10: 100%|██████████| 8/8 [00:03<00:00,  2.29 batch/s, loss=4.6589]\n",
      "Validating: 100%|██████████| 2/2 [00:00<00:00,  5.48 batch/s]\n",
      "Epoch 3/10: 100%|██████████| 8/8 [00:03<00:00,  2.27 batch/s, loss=4.0367]\n",
      "Validating: 100%|██████████| 2/2 [00:00<00:00,  5.55 batch/s]\n",
      "Epoch 4/10: 100%|██████████| 8/8 [00:03<00:00,  2.27 batch/s, loss=3.5086]\n",
      "Validating: 100%|██████████| 2/2 [00:00<00:00,  5.56 batch/s]\n"
     ]
    },
    {
     "name": "stdout",
     "output_type": "stream",
     "text": [
      "\u001b[1m\u001b[36mBest valid accuracy improved from 1.10% to 1.90%. Saving checkpoint...\n",
      "\u001b[0m"
     ]
    },
    {
     "name": "stderr",
     "output_type": "stream",
     "text": [
      "Epoch 5/10: 100%|██████████| 8/8 [00:03<00:00,  2.28 batch/s, loss=2.8562]\n",
      "Validating: 100%|██████████| 2/2 [00:00<00:00,  5.50 batch/s]\n"
     ]
    },
    {
     "name": "stdout",
     "output_type": "stream",
     "text": [
      "\u001b[1m\u001b[36mBest valid accuracy improved from 1.90% to 3.50%. Saving checkpoint...\n",
      "\u001b[0m"
     ]
    },
    {
     "name": "stderr",
     "output_type": "stream",
     "text": [
      "Epoch 6/10: 100%|██████████| 8/8 [00:03<00:00,  2.27 batch/s, loss=2.1006]\n",
      "Validating: 100%|██████████| 2/2 [00:00<00:00,  5.52 batch/s]\n",
      "Epoch 7/10: 100%|██████████| 8/8 [00:03<00:00,  2.23 batch/s, loss=1.4515]\n",
      "Validating: 100%|██████████| 2/2 [00:00<00:00,  5.51 batch/s]\n"
     ]
    },
    {
     "name": "stdout",
     "output_type": "stream",
     "text": [
      "\u001b[1m\u001b[36mBest valid accuracy improved from 3.50% to 8.40%. Saving checkpoint...\n",
      "\u001b[0m"
     ]
    },
    {
     "name": "stderr",
     "output_type": "stream",
     "text": [
      "Epoch 8/10: 100%|██████████| 8/8 [00:03<00:00,  2.25 batch/s, loss=1.1548]\n",
      "Validating: 100%|██████████| 2/2 [00:00<00:00,  5.52 batch/s]\n"
     ]
    },
    {
     "name": "stdout",
     "output_type": "stream",
     "text": [
      "\u001b[1m\u001b[36mBest valid accuracy improved from 8.40% to 9.10%. Saving checkpoint...\n",
      "\u001b[0m"
     ]
    },
    {
     "name": "stderr",
     "output_type": "stream",
     "text": [
      "Epoch 9/10: 100%|██████████| 8/8 [00:03<00:00,  2.29 batch/s, loss=1.0178]\n",
      "Validating: 100%|██████████| 2/2 [00:00<00:00,  5.49 batch/s]\n",
      "Epoch 10/10: 100%|██████████| 8/8 [00:03<00:00,  2.27 batch/s, loss=0.9518]\n",
      "Validating: 100%|██████████| 2/2 [00:00<00:00,  5.53 batch/s]\n",
      "Testing: 100%|██████████| 20/20 [00:03<00:00,  5.71 batch/s]\n"
     ]
    },
    {
     "name": "stdout",
     "output_type": "stream",
     "text": [
      "\u001b[1m\u001b[95mRunning run r50,ep:10,bs:512,clip:None,nc:20,mp:0.01,fe/2\n",
      "\u001b[0m19 100 {19: 66, 0: 51, 5: 50, 12: 49, 6: 45, 8: 43, 13: 31, 18: 31, 17: 25, 7: 25, 11: 22, 16: 22, 1: 10, 4: 9, 9: 6, 15: 6, 14: 5, 10: 2, 2: 1, 3: 1}\n",
      "29 100 {2: 78, 10: 61, 3: 38, 0: 30, 15: 29, 8: 26, 5: 25, 18: 24, 13: 23, 19: 21, 16: 21, 4: 18, 14: 17, 1: 15, 9: 14, 17: 14, 6: 13, 7: 12, 12: 12, 11: 9}\n",
      "0 100 {15: 50, 2: 41, 14: 39, 4: 39, 13: 35, 8: 33, 16: 30, 5: 29, 18: 25, 1: 22, 0: 22, 11: 20, 7: 16, 9: 16, 6: 16, 19: 16, 10: 15, 17: 13, 12: 13, 3: 10}\n",
      "11 100 {17: 46, 8: 42, 4: 39, 13: 34, 0: 31, 18: 31, 5: 30, 12: 27, 11: 27, 7: 24, 10: 24, 9: 23, 2: 21, 6: 21, 1: 19, 14: 18, 19: 17, 15: 11, 16: 8, 3: 7}\n",
      "1 100 {9: 82, 13: 82, 4: 77, 8: 48, 0: 41, 11: 38, 3: 26, 6: 25, 12: 19, 5: 17, 19: 10, 18: 8, 17: 8, 14: 6, 7: 3, 16: 3, 15: 3, 1: 2, 10: 1, 2: 1}\n",
      "86 100 {2: 85, 15: 72, 10: 64, 14: 56, 1: 26, 18: 25, 7: 25, 16: 23, 8: 17, 5: 17, 0: 15, 19: 12, 4: 11, 13: 10, 6: 9, 9: 9, 17: 8, 11: 7, 12: 6, 3: 3}\n",
      "90 100 {19: 64, 6: 52, 0: 49, 12: 42, 8: 41, 18: 40, 5: 37, 16: 33, 7: 26, 17: 20, 1: 19, 13: 19, 4: 16, 11: 14, 9: 12, 14: 11, 15: 3, 2: 1, 3: 1}\n",
      "28 100 {14: 54, 1: 38, 7: 35, 3: 33, 2: 32, 9: 31, 4: 30, 8: 26, 5: 25, 0: 23, 10: 23, 17: 21, 15: 19, 13: 19, 19: 17, 12: 16, 6: 16, 18: 16, 16: 14, 11: 12}\n",
      "23 100 {5: 65, 17: 50, 7: 48, 11: 41, 18: 40, 19: 40, 1: 32, 16: 26, 12: 25, 14: 25, 6: 20, 0: 20, 13: 19, 15: 15, 4: 10, 8: 8, 2: 5, 9: 5, 3: 3, 10: 3}\n",
      "31 100 {5: 58, 6: 58, 19: 57, 18: 55, 12: 49, 0: 47, 8: 26, 16: 22, 11: 21, 1: 21, 7: 21, 13: 19, 17: 12, 14: 10, 4: 10, 15: 7, 9: 5, 2: 2}\n",
      "39 100 {5: 50, 18: 45, 10: 43, 19: 37, 16: 35, 0: 32, 11: 31, 6: 29, 2: 29, 13: 26, 12: 24, 14: 20, 8: 20, 15: 19, 17: 15, 7: 13, 4: 12, 9: 9, 1: 6, 3: 5}\n",
      "96 100 {5: 60, 12: 46, 17: 45, 7: 41, 0: 40, 18: 38, 19: 37, 6: 31, 11: 30, 8: 29, 13: 26, 1: 17, 4: 17, 16: 16, 14: 8, 15: 8, 9: 6, 3: 2, 2: 2, 10: 1}\n",
      "82 100 {0: 63, 8: 57, 5: 48, 12: 40, 19: 37, 13: 32, 7: 28, 4: 27, 6: 26, 18: 26, 17: 22, 1: 19, 14: 14, 15: 14, 11: 13, 9: 11, 16: 10, 2: 7, 3: 4, 10: 2}\n",
      "17 100 {19: 67, 5: 66, 7: 57, 18: 56, 17: 53, 1: 38, 11: 30, 12: 25, 6: 25, 16: 24, 0: 23, 14: 15, 8: 10, 4: 5, 13: 4, 15: 1, 9: 1}\n",
      "71 100 {18: 71, 5: 60, 7: 52, 17: 48, 19: 41, 16: 40, 11: 36, 13: 24, 1: 23, 0: 19, 12: 16, 4: 15, 14: 14, 9: 10, 8: 10, 6: 9, 3: 6, 15: 4, 2: 2}\n",
      "8 100 {15: 44, 18: 40, 5: 39, 12: 38, 0: 36, 19: 34, 6: 33, 17: 33, 14: 27, 2: 25, 16: 23, 7: 23, 11: 23, 8: 20, 13: 17, 1: 16, 4: 10, 10: 9, 3: 8, 9: 2}\n",
      "97 100 {0: 59, 8: 56, 13: 52, 4: 47, 12: 33, 6: 31, 9: 29, 5: 28, 11: 25, 19: 24, 7: 20, 18: 18, 16: 16, 14: 15, 1: 15, 15: 12, 17: 9, 3: 6, 2: 5}\n",
      "80 100 {5: 69, 12: 67, 19: 46, 0: 44, 8: 41, 6: 35, 18: 33, 13: 31, 7: 27, 4: 22, 17: 21, 11: 17, 1: 17, 14: 14, 16: 10, 15: 5, 9: 1}\n",
      "74 100 {13: 57, 8: 54, 0: 48, 5: 40, 4: 39, 12: 39, 19: 32, 6: 31, 18: 30, 9: 20, 11: 19, 14: 15, 16: 13, 2: 12, 17: 12, 15: 11, 10: 10, 1: 8, 7: 6, 3: 4}\n",
      "59 100 {7: 82, 17: 54, 5: 52, 19: 38, 6: 34, 12: 32, 1: 31, 18: 27, 0: 26, 13: 21, 16: 20, 11: 20, 14: 19, 8: 15, 15: 10, 4: 8, 2: 6, 10: 4, 9: 1}\n",
      "70 100 {13: 69, 4: 65, 9: 56, 8: 54, 0: 41, 5: 34, 12: 28, 11: 24, 3: 22, 19: 17, 6: 14, 18: 13, 7: 12, 17: 11, 14: 10, 16: 9, 15: 8, 1: 5, 2: 5, 10: 3}\n",
      "87 100 {8: 45, 4: 38, 13: 33, 5: 32, 19: 30, 2: 29, 16: 28, 15: 28, 0: 27, 17: 26, 14: 25, 11: 24, 18: 23, 1: 20, 9: 18, 7: 17, 12: 16, 10: 16, 6: 16, 3: 9}\n",
      "84 100 {5: 38, 8: 37, 0: 37, 11: 36, 19: 35, 6: 35, 13: 32, 12: 31, 18: 30, 7: 29, 10: 25, 17: 23, 16: 21, 4: 20, 2: 16, 1: 14, 9: 13, 14: 13, 15: 11, 3: 4}\n",
      "64 100 {4: 77, 8: 61, 13: 58, 9: 47, 0: 42, 5: 29, 12: 28, 11: 28, 19: 22, 3: 22, 18: 21, 6: 17, 17: 15, 7: 10, 14: 7, 16: 6, 15: 4, 1: 4, 2: 2}\n",
      "52 100 {7: 77, 5: 70, 19: 62, 17: 52, 18: 50, 1: 33, 12: 27, 0: 25, 6: 25, 16: 24, 11: 16, 14: 14, 8: 9, 13: 5, 4: 4, 15: 4, 10: 1, 3: 1, 2: 1}\n",
      "42 100 {0: 70, 8: 61, 13: 58, 12: 58, 6: 40, 4: 38, 5: 30, 11: 26, 19: 21, 9: 17, 7: 16, 18: 16, 17: 11, 16: 10, 14: 10, 3: 9, 15: 4, 1: 3, 2: 2}\n",
      "47 100 {5: 71, 17: 60, 0: 42, 7: 42, 11: 42, 18: 30, 12: 29, 13: 28, 6: 26, 1: 23, 8: 23, 19: 21, 4: 15, 16: 10, 15: 9, 2: 9, 14: 7, 10: 6, 9: 5, 3: 2}\n",
      "65 100 {5: 56, 0: 51, 8: 48, 13: 44, 12: 37, 6: 36, 19: 32, 11: 32, 4: 30, 18: 27, 9: 20, 7: 19, 17: 16, 1: 14, 16: 14, 14: 6, 15: 6, 3: 5, 2: 5, 10: 2}\n",
      "21 100 {13: 54, 17: 44, 8: 42, 4: 42, 11: 38, 0: 37, 12: 33, 7: 30, 5: 30, 9: 29, 18: 26, 6: 25, 19: 22, 1: 16, 3: 11, 16: 9, 14: 8, 15: 3, 2: 1}\n",
      "22 100 {15: 60, 2: 40, 14: 38, 5: 35, 1: 32, 19: 29, 18: 25, 4: 25, 8: 24, 0: 23, 9: 22, 17: 22, 12: 20, 6: 20, 10: 18, 16: 17, 13: 15, 7: 13, 11: 13, 3: 9}\n",
      "81 100 {19: 73, 12: 50, 5: 50, 0: 49, 18: 45, 6: 42, 16: 30, 17: 27, 8: 25, 13: 22, 7: 21, 4: 19, 11: 17, 14: 10, 1: 9, 3: 4, 9: 3, 15: 3, 2: 1}\n",
      "24 100 {10: 189, 2: 66, 18: 43, 14: 39, 15: 33, 19: 21, 5: 20, 16: 19, 1: 17, 6: 13, 7: 11, 12: 10, 0: 8, 8: 5, 4: 3, 17: 2, 13: 1}\n",
      "78 100 {12: 54, 19: 52, 0: 52, 18: 52, 5: 39, 13: 36, 8: 33, 4: 27, 6: 25, 16: 20, 9: 18, 11: 15, 1: 15, 14: 13, 15: 11, 7: 10, 10: 9, 2: 7, 3: 6, 17: 6}\n",
      "45 100 {8: 48, 13: 46, 4: 37, 11: 37, 15: 33, 18: 30, 0: 29, 9: 29, 3: 25, 19: 22, 6: 21, 12: 21, 5: 20, 2: 20, 16: 16, 7: 14, 14: 14, 10: 13, 1: 13, 17: 12}\n",
      "49 100 {17: 71, 11: 57, 5: 57, 7: 45, 19: 37, 18: 35, 6: 29, 13: 28, 12: 28, 0: 24, 1: 22, 8: 21, 16: 16, 4: 13, 15: 6, 14: 4, 9: 4, 2: 2, 3: 1}\n",
      "56 100 {7: 76, 5: 54, 17: 49, 1: 46, 19: 40, 18: 39, 11: 31, 14: 25, 12: 24, 6: 23, 16: 22, 0: 22, 8: 18, 13: 12, 15: 10, 4: 4, 2: 3, 9: 2}\n",
      "76 100 {7: 100, 1: 65, 5: 57, 17: 49, 18: 30, 14: 26, 12: 26, 11: 26, 13: 22, 0: 21, 8: 21, 6: 15, 19: 13, 4: 8, 15: 7, 9: 4, 2: 4, 16: 3, 3: 3}\n",
      "89 100 {19: 63, 5: 47, 0: 44, 18: 44, 6: 44, 12: 43, 17: 36, 16: 34, 7: 32, 11: 23, 13: 20, 8: 17, 1: 14, 2: 8, 4: 8, 14: 8, 9: 7, 15: 7, 3: 1}\n",
      "73 100 {0: 68, 13: 56, 4: 44, 5: 44, 9: 44, 8: 42, 19: 30, 18: 29, 12: 29, 3: 28, 11: 24, 6: 21, 17: 10, 1: 7, 16: 7, 14: 7, 7: 5, 15: 3, 2: 2}\n",
      "14 100 {0: 60, 13: 56, 12: 45, 4: 45, 5: 42, 8: 41, 19: 32, 6: 27, 11: 25, 18: 21, 16: 19, 1: 16, 17: 16, 9: 13, 7: 13, 14: 7, 15: 7, 3: 6, 10: 5, 2: 4}\n",
      "9 100 {7: 62, 10: 47, 1: 46, 14: 44, 2: 40, 19: 31, 18: 28, 5: 28, 15: 23, 17: 18, 13: 17, 0: 17, 4: 16, 11: 15, 8: 13, 6: 13, 3: 13, 12: 11, 16: 9, 9: 9}\n",
      "6 100 {5: 54, 0: 47, 18: 37, 13: 37, 12: 37, 8: 36, 6: 34, 19: 32, 7: 29, 4: 21, 16: 20, 11: 20, 14: 14, 15: 14, 2: 13, 9: 13, 17: 12, 1: 12, 10: 10, 3: 8}\n",
      "20 100 {10: 146, 2: 95, 15: 81, 14: 47, 18: 22, 16: 17, 7: 15, 19: 14, 5: 12, 1: 11, 0: 8, 12: 6, 17: 6, 6: 5, 11: 5, 13: 4, 8: 4, 3: 1, 4: 1}\n",
      "98 100 {0: 48, 7: 42, 4: 39, 8: 36, 13: 35, 9: 35, 14: 32, 1: 31, 11: 29, 17: 26, 12: 24, 6: 20, 5: 20, 19: 18, 18: 17, 3: 15, 2: 14, 15: 14, 10: 4, 16: 1}\n",
      "36 100 {0: 49, 18: 47, 19: 41, 13: 38, 12: 37, 5: 34, 6: 32, 14: 31, 8: 29, 1: 27, 16: 26, 4: 25, 17: 19, 2: 17, 11: 15, 7: 13, 9: 8, 15: 8, 10: 3, 3: 1}\n",
      "55 100 {0: 49, 19: 49, 5: 48, 18: 45, 12: 41, 8: 34, 6: 29, 13: 28, 4: 21, 7: 21, 14: 20, 11: 19, 16: 18, 2: 17, 1: 15, 17: 15, 15: 12, 9: 11, 10: 4, 3: 4}\n",
      "72 100 {18: 58, 19: 44, 5: 44, 13: 32, 7: 30, 1: 28, 6: 28, 8: 28, 0: 28, 12: 27, 14: 26, 16: 25, 17: 25, 11: 19, 4: 16, 15: 16, 2: 13, 9: 10, 3: 3}\n",
      "43 100 {8: 73, 0: 56, 13: 51, 4: 50, 5: 41, 12: 37, 6: 37, 11: 25, 17: 22, 19: 21, 7: 19, 18: 17, 9: 16, 16: 11, 14: 7, 1: 7, 15: 5, 3: 4, 2: 1}\n",
      "51 100 {13: 79, 8: 68, 0: 67, 4: 55, 12: 46, 9: 43, 11: 32, 6: 25, 5: 22, 17: 17, 19: 8, 18: 8, 3: 7, 16: 5, 2: 4, 7: 4, 10: 3, 15: 3, 1: 2, 14: 2}\n",
      "35 100 {8: 56, 0: 42, 5: 41, 6: 37, 4: 35, 13: 32, 1: 28, 7: 28, 18: 26, 14: 25, 11: 25, 17: 23, 9: 23, 12: 21, 19: 19, 15: 9, 2: 9, 3: 7, 10: 7, 16: 7}\n",
      "83 100 {0: 41, 13: 41, 8: 40, 4: 30, 15: 30, 5: 28, 18: 28, 6: 25, 14: 25, 1: 24, 2: 23, 16: 22, 3: 22, 11: 21, 19: 20, 9: 20, 17: 19, 10: 16, 12: 16, 7: 9}\n",
      "33 100 {8: 86, 4: 67, 0: 67, 13: 64, 6: 42, 12: 36, 5: 27, 9: 25, 19: 24, 11: 19, 18: 12, 17: 10, 3: 8, 7: 6, 1: 3, 16: 3, 15: 1}\n",
      "27 100 {0: 58, 8: 54, 12: 46, 5: 44, 13: 42, 4: 42, 19: 40, 11: 34, 6: 31, 18: 28, 9: 21, 16: 17, 17: 13, 1: 12, 7: 11, 15: 3, 14: 2, 3: 1, 2: 1}\n",
      "53 100 {0: 47, 2: 46, 15: 45, 8: 40, 13: 36, 5: 31, 14: 28, 4: 25, 12: 22, 19: 21, 9: 20, 6: 19, 16: 19, 18: 17, 3: 17, 11: 17, 1: 13, 17: 13, 10: 12, 7: 12}\n",
      "92 100 {13: 80, 4: 73, 8: 64, 0: 59, 9: 57, 12: 30, 5: 26, 3: 21, 6: 18, 11: 16, 17: 14, 19: 10, 7: 8, 18: 6, 14: 5, 15: 5, 2: 4, 1: 3, 10: 1}\n",
      "50 100 {5: 49, 0: 44, 12: 39, 4: 39, 13: 36, 18: 35, 8: 34, 19: 34, 16: 23, 15: 23, 14: 19, 11: 18, 10: 17, 6: 17, 9: 15, 7: 14, 2: 13, 17: 11, 1: 10, 3: 10}\n",
      "15 100 {18: 48, 7: 43, 5: 42, 19: 38, 6: 37, 0: 33, 16: 32, 12: 30, 1: 27, 14: 26, 17: 26, 8: 24, 11: 22, 15: 19, 13: 18, 4: 14, 9: 10, 2: 6, 3: 3, 10: 2}\n",
      "18 100 {5: 63, 0: 52, 12: 52, 18: 38, 19: 35, 6: 35, 13: 33, 8: 31, 4: 24, 7: 24, 11: 22, 1: 17, 17: 17, 16: 12, 9: 11, 14: 11, 3: 8, 15: 7, 10: 6, 2: 2}\n",
      "46 100 {13: 51, 17: 45, 8: 44, 4: 41, 9: 36, 7: 34, 11: 30, 1: 28, 3: 28, 5: 27, 0: 25, 12: 23, 6: 17, 14: 17, 19: 17, 18: 13, 2: 9, 15: 7, 16: 7, 10: 1}\n",
      "75 100 {0: 67, 13: 52, 5: 50, 19: 45, 8: 43, 12: 39, 6: 30, 18: 29, 11: 25, 4: 25, 9: 21, 17: 17, 16: 16, 7: 15, 1: 7, 15: 7, 14: 6, 2: 5, 3: 1}\n",
      "38 100 {0: 57, 5: 52, 12: 50, 6: 38, 13: 38, 19: 37, 17: 36, 7: 33, 8: 31, 11: 30, 18: 24, 1: 22, 4: 12, 16: 10, 14: 8, 2: 6, 15: 6, 10: 4, 9: 3, 3: 3}\n",
      "66 100 {8: 61, 13: 55, 0: 54, 5: 49, 12: 47, 4: 40, 9: 26, 7: 24, 6: 23, 11: 22, 18: 18, 19: 18, 17: 16, 1: 11, 15: 9, 2: 8, 14: 6, 3: 6, 16: 4, 10: 3}\n",
      "77 100 {0: 56, 13: 45, 5: 43, 12: 40, 19: 39, 18: 38, 8: 35, 11: 33, 4: 32, 6: 24, 7: 21, 16: 16, 17: 16, 9: 14, 14: 13, 1: 11, 15: 9, 2: 9, 10: 4, 3: 2}\n",
      "69 100 {7: 53, 18: 47, 1: 47, 14: 39, 19: 38, 16: 33, 5: 33, 0: 29, 12: 22, 13: 21, 6: 20, 17: 20, 8: 19, 11: 16, 15: 15, 3: 12, 9: 10, 4: 10, 2: 9, 10: 7}\n",
      "95 100 {18: 64, 19: 59, 5: 43, 16: 35, 15: 34, 12: 32, 14: 30, 1: 30, 0: 26, 6: 25, 8: 20, 13: 18, 7: 16, 2: 16, 4: 13, 17: 12, 11: 12, 10: 11, 9: 4}\n",
      "99 100 {3: 44, 15: 40, 0: 37, 8: 34, 14: 32, 4: 31, 5: 30, 2: 30, 18: 29, 9: 28, 10: 27, 19: 26, 16: 26, 13: 23, 12: 21, 6: 18, 1: 9, 11: 6, 17: 5, 7: 4}\n",
      "93 100 {0: 50, 13: 45, 18: 42, 19: 42, 4: 41, 12: 39, 5: 36, 8: 34, 16: 26, 6: 21, 11: 19, 9: 19, 2: 14, 17: 14, 1: 13, 15: 12, 3: 9, 7: 8, 14: 8, 10: 8}\n",
      "4 100 {0: 70, 13: 53, 12: 47, 5: 42, 8: 35, 19: 35, 6: 33, 4: 28, 18: 28, 11: 24, 17: 14, 15: 14, 16: 14, 9: 13, 7: 12, 2: 12, 14: 11, 1: 10, 10: 5}\n",
      "61 100 {14: 44, 15: 43, 5: 42, 2: 39, 18: 35, 12: 33, 19: 32, 10: 30, 8: 28, 0: 27, 6: 26, 1: 23, 16: 22, 13: 18, 4: 17, 9: 11, 7: 10, 17: 8, 11: 7, 3: 5}\n",
      "94 100 {5: 52, 11: 51, 17: 42, 0: 40, 7: 39, 1: 37, 8: 29, 14: 28, 4: 25, 18: 22, 12: 22, 13: 20, 19: 20, 2: 18, 10: 14, 9: 11, 16: 11, 6: 11, 3: 5, 15: 3}\n",
      "68 100 {19: 95, 6: 76, 18: 64, 5: 59, 16: 49, 8: 33, 12: 32, 0: 21, 7: 18, 17: 15, 1: 13, 13: 10, 4: 6, 11: 4, 15: 3, 14: 2}\n",
      "34 100 {0: 61, 13: 52, 8: 52, 12: 47, 5: 46, 4: 38, 19: 32, 6: 29, 18: 22, 11: 22, 16: 17, 7: 16, 9: 14, 17: 12, 1: 11, 14: 11, 15: 9, 2: 5, 10: 2, 3: 2}\n",
      "32 100 {5: 43, 19: 41, 7: 36, 12: 34, 1: 33, 0: 32, 18: 32, 16: 29, 17: 28, 6: 26, 15: 25, 13: 23, 11: 23, 8: 22, 2: 20, 14: 20, 4: 14, 9: 12, 10: 4, 3: 3}\n",
      "88 100 {0: 61, 8: 59, 13: 53, 4: 53, 5: 44, 12: 41, 6: 28, 7: 24, 11: 23, 19: 20, 18: 20, 9: 17, 1: 12, 17: 11, 16: 9, 14: 8, 2: 7, 3: 5, 15: 4, 10: 1}\n",
      "67 100 {18: 63, 19: 51, 5: 48, 0: 40, 13: 31, 16: 30, 14: 27, 1: 26, 12: 24, 4: 23, 7: 21, 8: 21, 6: 19, 9: 18, 11: 17, 15: 13, 17: 12, 2: 8, 3: 6, 10: 2}\n",
      "30 100 {5: 63, 18: 57, 19: 51, 0: 45, 12: 36, 8: 34, 13: 29, 11: 25, 6: 24, 14: 23, 7: 23, 4: 23, 1: 20, 17: 17, 16: 15, 15: 9, 9: 4, 2: 1, 3: 1}\n",
      "62 100 {13: 89, 4: 76, 8: 66, 0: 64, 9: 35, 11: 31, 12: 30, 5: 23, 3: 22, 6: 17, 17: 14, 19: 11, 18: 7, 16: 4, 14: 4, 1: 3, 7: 3, 2: 1}\n",
      "63 100 {13: 68, 4: 59, 5: 59, 0: 41, 8: 36, 19: 36, 9: 32, 11: 30, 6: 26, 18: 23, 17: 21, 12: 20, 7: 17, 14: 9, 1: 6, 15: 6, 16: 5, 2: 4, 3: 1, 10: 1}\n",
      "40 100 {14: 54, 2: 41, 10: 37, 9: 31, 1: 29, 4: 28, 7: 28, 13: 27, 18: 27, 8: 25, 5: 25, 0: 23, 3: 23, 11: 21, 17: 18, 6: 16, 19: 15, 15: 13, 12: 12, 16: 7}\n",
      "26 100 {4: 46, 13: 46, 5: 41, 2: 36, 9: 35, 8: 32, 0: 31, 16: 29, 15: 28, 18: 28, 12: 22, 10: 21, 19: 20, 11: 19, 6: 17, 3: 14, 7: 14, 14: 12, 1: 7, 17: 2}\n",
      "48 100 {15: 48, 0: 46, 19: 40, 12: 40, 2: 38, 18: 37, 16: 32, 6: 31, 5: 27, 17: 26, 8: 24, 11: 20, 4: 16, 14: 16, 13: 16, 7: 13, 1: 11, 10: 10, 9: 6, 3: 3}\n",
      "79 100 {18: 51, 5: 47, 19: 47, 0: 42, 12: 38, 8: 26, 7: 26, 13: 24, 6: 24, 4: 23, 16: 21, 14: 19, 9: 19, 11: 18, 1: 16, 17: 15, 3: 14, 15: 13, 2: 11, 10: 6}\n",
      "85 100 {18: 51, 7: 51, 1: 51, 19: 40, 17: 37, 16: 35, 6: 33, 5: 32, 14: 31, 12: 25, 15: 24, 0: 21, 11: 15, 8: 14, 13: 13, 2: 12, 3: 7, 4: 4, 9: 3, 10: 1}\n",
      "54 100 {13: 57, 4: 56, 9: 43, 12: 41, 8: 41, 0: 41, 5: 33, 11: 28, 3: 25, 17: 19, 18: 19, 6: 18, 7: 16, 19: 14, 14: 12, 2: 10, 15: 9, 1: 7, 10: 6, 16: 5}\n",
      "44 100 {0: 49, 19: 48, 5: 45, 13: 41, 8: 38, 6: 35, 12: 33, 18: 32, 4: 30, 11: 24, 16: 23, 14: 19, 9: 17, 7: 15, 1: 13, 17: 11, 2: 8, 10: 7, 3: 6, 15: 6}\n",
      "7 100 {5: 58, 18: 43, 19: 41, 10: 39, 16: 36, 8: 34, 1: 30, 14: 29, 15: 27, 12: 25, 2: 23, 6: 21, 7: 20, 0: 20, 13: 15, 4: 11, 9: 10, 17: 9, 11: 8, 3: 1}\n",
      "12 100 {5: 63, 19: 55, 18: 49, 17: 46, 7: 45, 1: 35, 16: 31, 0: 30, 6: 28, 12: 26, 11: 20, 13: 18, 9: 14, 8: 12, 14: 11, 4: 9, 15: 5, 3: 2, 2: 1}\n",
      "2 100 {8: 47, 4: 46, 0: 40, 19: 35, 12: 34, 5: 33, 13: 30, 18: 28, 6: 24, 14: 24, 11: 23, 17: 23, 1: 21, 2: 20, 9: 20, 16: 19, 7: 17, 15: 10, 10: 5, 3: 1}\n",
      "41 100 {2: 142, 10: 70, 15: 33, 5: 31, 12: 29, 0: 27, 18: 19, 17: 18, 7: 18, 14: 18, 19: 15, 13: 14, 8: 14, 11: 13, 6: 12, 1: 12, 4: 7, 16: 6, 9: 2}\n",
      "37 100 {19: 89, 18: 57, 6: 50, 5: 44, 0: 43, 12: 37, 16: 34, 8: 29, 7: 26, 17: 26, 13: 19, 11: 12, 1: 12, 15: 9, 4: 5, 14: 4, 2: 2, 9: 1, 10: 1}\n",
      "13 100 {12: 58, 19: 53, 0: 48, 18: 45, 5: 42, 6: 40, 8: 31, 17: 30, 13: 25, 16: 23, 11: 22, 7: 19, 4: 18, 1: 13, 15: 11, 9: 7, 14: 6, 2: 5, 10: 2, 3: 2}\n",
      "25 100 {16: 46, 19: 42, 6: 41, 0: 36, 15: 33, 12: 31, 5: 30, 8: 27, 4: 27, 18: 25, 17: 24, 13: 22, 7: 19, 2: 19, 11: 17, 14: 15, 9: 15, 1: 13, 10: 12, 3: 6}\n",
      "10 100 {14: 36, 4: 35, 15: 34, 18: 32, 0: 32, 19: 32, 7: 31, 2: 29, 8: 28, 1: 25, 16: 25, 13: 24, 5: 23, 6: 20, 10: 19, 12: 18, 3: 15, 9: 15, 11: 15, 17: 12}\n",
      "57 100 {2: 55, 10: 42, 15: 39, 13: 32, 0: 30, 8: 27, 4: 27, 19: 25, 5: 24, 14: 24, 12: 22, 1: 21, 16: 20, 9: 19, 18: 19, 11: 19, 17: 16, 3: 15, 7: 14, 6: 10}\n",
      "5 100 {19: 62, 6: 42, 18: 37, 12: 36, 15: 36, 5: 35, 11: 35, 0: 33, 16: 33, 2: 21, 13: 21, 7: 18, 4: 18, 8: 17, 17: 16, 14: 16, 1: 9, 10: 9, 9: 5, 3: 1}\n",
      "60 100 {17: 69, 5: 65, 18: 62, 7: 55, 1: 42, 11: 39, 19: 36, 16: 30, 12: 22, 14: 18, 0: 15, 6: 12, 13: 12, 4: 6, 8: 5, 15: 5, 9: 4, 3: 2, 2: 1}\n",
      "91 100 {2: 62, 10: 53, 0: 45, 4: 40, 13: 39, 15: 36, 9: 33, 8: 29, 12: 24, 5: 24, 11: 16, 3: 15, 18: 15, 16: 15, 19: 15, 6: 15, 17: 7, 14: 7, 7: 6, 1: 4}\n",
      "3 100 {0: 50, 5: 48, 18: 40, 12: 40, 19: 40, 7: 35, 13: 35, 8: 32, 6: 30, 17: 24, 11: 24, 1: 24, 4: 18, 14: 17, 9: 14, 16: 13, 15: 11, 2: 3, 3: 1, 10: 1}\n",
      "58 100 {19: 51, 0: 50, 18: 47, 5: 42, 16: 38, 12: 36, 6: 36, 13: 34, 8: 28, 11: 27, 17: 26, 15: 24, 7: 16, 14: 14, 4: 8, 1: 7, 2: 6, 9: 5, 3: 3, 10: 2}\n",
      "16 100 {15: 62, 2: 51, 14: 37, 5: 33, 6: 32, 0: 30, 1: 30, 7: 29, 12: 28, 4: 20, 19: 20, 16: 20, 18: 19, 10: 18, 8: 17, 17: 14, 11: 14, 13: 11, 9: 10, 3: 5}\n",
      "10000 10000\n"
     ]
    },
    {
     "name": "stderr",
     "output_type": "stream",
     "text": [
      "Epoch 1/10: 100%|██████████| 16/16 [00:07<00:00,  2.27 batch/s, loss=4.8825]\n",
      "Validating: 100%|██████████| 4/4 [00:00<00:00,  5.62 batch/s]\n"
     ]
    },
    {
     "name": "stdout",
     "output_type": "stream",
     "text": [
      "\u001b[1m\u001b[36mBest valid accuracy improved from 0.00% to 0.75%. Saving checkpoint...\n",
      "\u001b[0m"
     ]
    },
    {
     "name": "stderr",
     "output_type": "stream",
     "text": [
      "Epoch 2/10: 100%|██████████| 16/16 [00:07<00:00,  2.28 batch/s, loss=4.0262]\n",
      "Validating: 100%|██████████| 4/4 [00:00<00:00,  5.63 batch/s]\n"
     ]
    },
    {
     "name": "stdout",
     "output_type": "stream",
     "text": [
      "\u001b[1m\u001b[36mBest valid accuracy improved from 0.75% to 1.95%. Saving checkpoint...\n",
      "\u001b[0m"
     ]
    },
    {
     "name": "stderr",
     "output_type": "stream",
     "text": [
      "Epoch 3/10: 100%|██████████| 16/16 [00:07<00:00,  2.28 batch/s, loss=3.5101]\n",
      "Validating: 100%|██████████| 4/4 [00:00<00:00,  5.62 batch/s]\n"
     ]
    },
    {
     "name": "stdout",
     "output_type": "stream",
     "text": [
      "\u001b[1m\u001b[36mBest valid accuracy improved from 1.95% to 7.10%. Saving checkpoint...\n",
      "\u001b[0m"
     ]
    },
    {
     "name": "stderr",
     "output_type": "stream",
     "text": [
      "Epoch 4/10: 100%|██████████| 16/16 [00:07<00:00,  2.28 batch/s, loss=2.9284]\n",
      "Validating: 100%|██████████| 4/4 [00:00<00:00,  5.65 batch/s]\n"
     ]
    },
    {
     "name": "stdout",
     "output_type": "stream",
     "text": [
      "\u001b[1m\u001b[36mBest valid accuracy improved from 7.10% to 10.60%. Saving checkpoint...\n",
      "\u001b[0m"
     ]
    },
    {
     "name": "stderr",
     "output_type": "stream",
     "text": [
      "Epoch 5/10: 100%|██████████| 16/16 [00:07<00:00,  2.28 batch/s, loss=2.4798]\n",
      "Validating: 100%|██████████| 4/4 [00:00<00:00,  5.62 batch/s]\n"
     ]
    },
    {
     "name": "stdout",
     "output_type": "stream",
     "text": [
      "\u001b[1m\u001b[36mBest valid accuracy improved from 10.60% to 13.65%. Saving checkpoint...\n",
      "\u001b[0m"
     ]
    },
    {
     "name": "stderr",
     "output_type": "stream",
     "text": [
      "Epoch 6/10: 100%|██████████| 16/16 [00:07<00:00,  2.28 batch/s, loss=2.1148]\n",
      "Validating: 100%|██████████| 4/4 [00:00<00:00,  5.64 batch/s]\n",
      "Epoch 7/10: 100%|██████████| 16/16 [00:07<00:00,  2.27 batch/s, loss=1.7665]\n",
      "Validating: 100%|██████████| 4/4 [00:00<00:00,  5.63 batch/s]\n"
     ]
    },
    {
     "name": "stdout",
     "output_type": "stream",
     "text": [
      "\u001b[1m\u001b[36mBest valid accuracy improved from 13.65% to 14.65%. Saving checkpoint...\n",
      "\u001b[0m"
     ]
    },
    {
     "name": "stderr",
     "output_type": "stream",
     "text": [
      "Epoch 8/10: 100%|██████████| 16/16 [00:07<00:00,  2.27 batch/s, loss=1.3559]\n",
      "Validating: 100%|██████████| 4/4 [00:00<00:00,  5.61 batch/s]\n",
      "Epoch 9/10: 100%|██████████| 16/16 [00:07<00:00,  2.28 batch/s, loss=1.0504]\n",
      "Validating: 100%|██████████| 4/4 [00:00<00:00,  5.66 batch/s]\n",
      "Epoch 10/10: 100%|██████████| 16/16 [00:06<00:00,  2.29 batch/s, loss=1.0006]\n",
      "Validating: 100%|██████████| 4/4 [00:00<00:00,  5.61 batch/s]\n"
     ]
    },
    {
     "name": "stdout",
     "output_type": "stream",
     "text": [
      "\u001b[1m\u001b[36mBest valid accuracy improved from 14.65% to 16.45%. Saving checkpoint...\n",
      "\u001b[0m"
     ]
    },
    {
     "name": "stderr",
     "output_type": "stream",
     "text": [
      "Testing: 100%|██████████| 20/20 [00:03<00:00,  5.67 batch/s]\n"
     ]
    },
    {
     "name": "stdout",
     "output_type": "stream",
     "text": [
      "\u001b[1m\u001b[95mRunning run r50,ep:10,bs:512,clip:None,nc:20,mp:0.01,fe/3\n",
      "\u001b[0m19 150 {19: 66, 0: 51, 5: 50, 12: 49, 6: 45, 8: 43, 13: 31, 18: 31, 17: 25, 7: 25, 11: 22, 16: 22, 1: 10, 4: 9, 9: 6, 15: 6, 14: 5, 10: 2, 2: 1, 3: 1}\n",
      "29 150 {2: 78, 10: 61, 3: 38, 0: 30, 15: 29, 8: 26, 5: 25, 18: 24, 13: 23, 19: 21, 16: 21, 4: 18, 14: 17, 1: 15, 9: 14, 17: 14, 6: 13, 7: 12, 12: 12, 11: 9}\n",
      "0 150 {15: 50, 2: 41, 14: 39, 4: 39, 13: 35, 8: 33, 16: 30, 5: 29, 18: 25, 1: 22, 0: 22, 11: 20, 7: 16, 9: 16, 6: 16, 19: 16, 10: 15, 17: 13, 12: 13, 3: 10}\n",
      "11 150 {17: 46, 8: 42, 4: 39, 13: 34, 0: 31, 18: 31, 5: 30, 12: 27, 11: 27, 7: 24, 10: 24, 9: 23, 2: 21, 6: 21, 1: 19, 14: 18, 19: 17, 15: 11, 16: 8, 3: 7}\n",
      "1 150 {9: 82, 13: 82, 4: 77, 8: 48, 0: 41, 11: 38, 3: 26, 6: 25, 12: 19, 5: 17, 19: 10, 18: 8, 17: 8, 14: 6, 7: 3, 16: 3, 15: 3, 1: 2, 10: 1, 2: 1}\n",
      "86 150 {2: 85, 15: 72, 10: 64, 14: 56, 1: 26, 18: 25, 7: 25, 16: 23, 8: 17, 5: 17, 0: 15, 19: 12, 4: 11, 13: 10, 6: 9, 9: 9, 17: 8, 11: 7, 12: 6, 3: 3}\n",
      "90 150 {19: 64, 6: 52, 0: 49, 12: 42, 8: 41, 18: 40, 5: 37, 16: 33, 7: 26, 17: 20, 1: 19, 13: 19, 4: 16, 11: 14, 9: 12, 14: 11, 15: 3, 2: 1, 3: 1}\n",
      "28 150 {14: 54, 1: 38, 7: 35, 3: 33, 2: 32, 9: 31, 4: 30, 8: 26, 5: 25, 0: 23, 10: 23, 17: 21, 15: 19, 13: 19, 19: 17, 12: 16, 6: 16, 18: 16, 16: 14, 11: 12}\n",
      "23 150 {5: 65, 17: 50, 7: 48, 11: 41, 18: 40, 19: 40, 1: 32, 16: 26, 12: 25, 14: 25, 6: 20, 0: 20, 13: 19, 15: 15, 4: 10, 8: 8, 2: 5, 9: 5, 3: 3, 10: 3}\n",
      "31 150 {5: 58, 6: 58, 19: 57, 18: 55, 12: 49, 0: 47, 8: 26, 16: 22, 11: 21, 1: 21, 7: 21, 13: 19, 17: 12, 14: 10, 4: 10, 15: 7, 9: 5, 2: 2}\n",
      "39 150 {5: 50, 18: 45, 10: 43, 19: 37, 16: 35, 0: 32, 11: 31, 6: 29, 2: 29, 13: 26, 12: 24, 14: 20, 8: 20, 15: 19, 17: 15, 7: 13, 4: 12, 9: 9, 1: 6, 3: 5}\n",
      "96 150 {5: 60, 12: 46, 17: 45, 7: 41, 0: 40, 18: 38, 19: 37, 6: 31, 11: 30, 8: 29, 13: 26, 1: 17, 4: 17, 16: 16, 14: 8, 15: 8, 9: 6, 3: 2, 2: 2, 10: 1}\n",
      "82 150 {0: 63, 8: 57, 5: 48, 12: 40, 19: 37, 13: 32, 7: 28, 4: 27, 6: 26, 18: 26, 17: 22, 1: 19, 14: 14, 15: 14, 11: 13, 9: 11, 16: 10, 2: 7, 3: 4, 10: 2}\n",
      "17 150 {19: 67, 5: 66, 7: 57, 18: 56, 17: 53, 1: 38, 11: 30, 12: 25, 6: 25, 16: 24, 0: 23, 14: 15, 8: 10, 4: 5, 13: 4, 15: 1, 9: 1}\n",
      "71 150 {18: 71, 5: 60, 7: 52, 17: 48, 19: 41, 16: 40, 11: 36, 13: 24, 1: 23, 0: 19, 12: 16, 4: 15, 14: 14, 9: 10, 8: 10, 6: 9, 3: 6, 15: 4, 2: 2}\n",
      "8 150 {15: 44, 18: 40, 5: 39, 12: 38, 0: 36, 19: 34, 6: 33, 17: 33, 14: 27, 2: 25, 16: 23, 7: 23, 11: 23, 8: 20, 13: 17, 1: 16, 4: 10, 10: 9, 3: 8, 9: 2}\n",
      "97 150 {0: 59, 8: 56, 13: 52, 4: 47, 12: 33, 6: 31, 9: 29, 5: 28, 11: 25, 19: 24, 7: 20, 18: 18, 16: 16, 14: 15, 1: 15, 15: 12, 17: 9, 3: 6, 2: 5}\n",
      "80 150 {5: 69, 12: 67, 19: 46, 0: 44, 8: 41, 6: 35, 18: 33, 13: 31, 7: 27, 4: 22, 17: 21, 11: 17, 1: 17, 14: 14, 16: 10, 15: 5, 9: 1}\n",
      "74 150 {13: 57, 8: 54, 0: 48, 5: 40, 4: 39, 12: 39, 19: 32, 6: 31, 18: 30, 9: 20, 11: 19, 14: 15, 16: 13, 2: 12, 17: 12, 15: 11, 10: 10, 1: 8, 7: 6, 3: 4}\n",
      "59 150 {7: 82, 17: 54, 5: 52, 19: 38, 6: 34, 12: 32, 1: 31, 18: 27, 0: 26, 13: 21, 16: 20, 11: 20, 14: 19, 8: 15, 15: 10, 4: 8, 2: 6, 10: 4, 9: 1}\n",
      "70 150 {13: 69, 4: 65, 9: 56, 8: 54, 0: 41, 5: 34, 12: 28, 11: 24, 3: 22, 19: 17, 6: 14, 18: 13, 7: 12, 17: 11, 14: 10, 16: 9, 15: 8, 1: 5, 2: 5, 10: 3}\n",
      "87 150 {8: 45, 4: 38, 13: 33, 5: 32, 19: 30, 2: 29, 16: 28, 15: 28, 0: 27, 17: 26, 14: 25, 11: 24, 18: 23, 1: 20, 9: 18, 7: 17, 12: 16, 10: 16, 6: 16, 3: 9}\n",
      "84 150 {5: 38, 8: 37, 0: 37, 11: 36, 19: 35, 6: 35, 13: 32, 12: 31, 18: 30, 7: 29, 10: 25, 17: 23, 16: 21, 4: 20, 2: 16, 1: 14, 9: 13, 14: 13, 15: 11, 3: 4}\n",
      "64 150 {4: 77, 8: 61, 13: 58, 9: 47, 0: 42, 5: 29, 12: 28, 11: 28, 19: 22, 3: 22, 18: 21, 6: 17, 17: 15, 7: 10, 14: 7, 16: 6, 15: 4, 1: 4, 2: 2}\n",
      "52 150 {7: 77, 5: 70, 19: 62, 17: 52, 18: 50, 1: 33, 12: 27, 0: 25, 6: 25, 16: 24, 11: 16, 14: 14, 8: 9, 13: 5, 4: 4, 15: 4, 10: 1, 3: 1, 2: 1}\n",
      "42 150 {0: 70, 8: 61, 13: 58, 12: 58, 6: 40, 4: 38, 5: 30, 11: 26, 19: 21, 9: 17, 7: 16, 18: 16, 17: 11, 16: 10, 14: 10, 3: 9, 15: 4, 1: 3, 2: 2}\n",
      "47 150 {5: 71, 17: 60, 0: 42, 7: 42, 11: 42, 18: 30, 12: 29, 13: 28, 6: 26, 1: 23, 8: 23, 19: 21, 4: 15, 16: 10, 15: 9, 2: 9, 14: 7, 10: 6, 9: 5, 3: 2}\n",
      "65 150 {5: 56, 0: 51, 8: 48, 13: 44, 12: 37, 6: 36, 19: 32, 11: 32, 4: 30, 18: 27, 9: 20, 7: 19, 17: 16, 1: 14, 16: 14, 14: 6, 15: 6, 3: 5, 2: 5, 10: 2}\n",
      "21 150 {13: 54, 17: 44, 8: 42, 4: 42, 11: 38, 0: 37, 12: 33, 7: 30, 5: 30, 9: 29, 18: 26, 6: 25, 19: 22, 1: 16, 3: 11, 16: 9, 14: 8, 15: 3, 2: 1}\n",
      "22 150 {15: 60, 2: 40, 14: 38, 5: 35, 1: 32, 19: 29, 18: 25, 4: 25, 8: 24, 0: 23, 9: 22, 17: 22, 12: 20, 6: 20, 10: 18, 16: 17, 13: 15, 7: 13, 11: 13, 3: 9}\n",
      "81 150 {19: 73, 12: 50, 5: 50, 0: 49, 18: 45, 6: 42, 16: 30, 17: 27, 8: 25, 13: 22, 7: 21, 4: 19, 11: 17, 14: 10, 1: 9, 3: 4, 9: 3, 15: 3, 2: 1}\n",
      "24 150 {10: 189, 2: 66, 18: 43, 14: 39, 15: 33, 19: 21, 5: 20, 16: 19, 1: 17, 6: 13, 7: 11, 12: 10, 0: 8, 8: 5, 4: 3, 17: 2, 13: 1}\n",
      "78 150 {12: 54, 19: 52, 0: 52, 18: 52, 5: 39, 13: 36, 8: 33, 4: 27, 6: 25, 16: 20, 9: 18, 11: 15, 1: 15, 14: 13, 15: 11, 7: 10, 10: 9, 2: 7, 3: 6, 17: 6}\n",
      "45 150 {8: 48, 13: 46, 4: 37, 11: 37, 15: 33, 18: 30, 0: 29, 9: 29, 3: 25, 19: 22, 6: 21, 12: 21, 5: 20, 2: 20, 16: 16, 7: 14, 14: 14, 10: 13, 1: 13, 17: 12}\n",
      "49 150 {17: 71, 11: 57, 5: 57, 7: 45, 19: 37, 18: 35, 6: 29, 13: 28, 12: 28, 0: 24, 1: 22, 8: 21, 16: 16, 4: 13, 15: 6, 14: 4, 9: 4, 2: 2, 3: 1}\n",
      "56 150 {7: 76, 5: 54, 17: 49, 1: 46, 19: 40, 18: 39, 11: 31, 14: 25, 12: 24, 6: 23, 16: 22, 0: 22, 8: 18, 13: 12, 15: 10, 4: 4, 2: 3, 9: 2}\n",
      "76 150 {7: 100, 1: 65, 5: 57, 17: 49, 18: 30, 14: 26, 12: 26, 11: 26, 13: 22, 0: 21, 8: 21, 6: 15, 19: 13, 4: 8, 15: 7, 9: 4, 2: 4, 16: 3, 3: 3}\n",
      "89 150 {19: 63, 5: 47, 0: 44, 18: 44, 6: 44, 12: 43, 17: 36, 16: 34, 7: 32, 11: 23, 13: 20, 8: 17, 1: 14, 2: 8, 4: 8, 14: 8, 9: 7, 15: 7, 3: 1}\n",
      "73 150 {0: 68, 13: 56, 4: 44, 5: 44, 9: 44, 8: 42, 19: 30, 18: 29, 12: 29, 3: 28, 11: 24, 6: 21, 17: 10, 1: 7, 16: 7, 14: 7, 7: 5, 15: 3, 2: 2}\n",
      "14 150 {0: 60, 13: 56, 12: 45, 4: 45, 5: 42, 8: 41, 19: 32, 6: 27, 11: 25, 18: 21, 16: 19, 1: 16, 17: 16, 9: 13, 7: 13, 14: 7, 15: 7, 3: 6, 10: 5, 2: 4}\n",
      "9 150 {7: 62, 10: 47, 1: 46, 14: 44, 2: 40, 19: 31, 18: 28, 5: 28, 15: 23, 17: 18, 13: 17, 0: 17, 4: 16, 11: 15, 8: 13, 6: 13, 3: 13, 12: 11, 16: 9, 9: 9}\n",
      "6 150 {5: 54, 0: 47, 18: 37, 13: 37, 12: 37, 8: 36, 6: 34, 19: 32, 7: 29, 4: 21, 16: 20, 11: 20, 14: 14, 15: 14, 2: 13, 9: 13, 17: 12, 1: 12, 10: 10, 3: 8}\n",
      "20 150 {10: 146, 2: 95, 15: 81, 14: 47, 18: 22, 16: 17, 7: 15, 19: 14, 5: 12, 1: 11, 0: 8, 12: 6, 17: 6, 6: 5, 11: 5, 13: 4, 8: 4, 3: 1, 4: 1}\n",
      "98 150 {0: 48, 7: 42, 4: 39, 8: 36, 13: 35, 9: 35, 14: 32, 1: 31, 11: 29, 17: 26, 12: 24, 6: 20, 5: 20, 19: 18, 18: 17, 3: 15, 2: 14, 15: 14, 10: 4, 16: 1}\n",
      "36 150 {0: 49, 18: 47, 19: 41, 13: 38, 12: 37, 5: 34, 6: 32, 14: 31, 8: 29, 1: 27, 16: 26, 4: 25, 17: 19, 2: 17, 11: 15, 7: 13, 9: 8, 15: 8, 10: 3, 3: 1}\n",
      "55 150 {0: 49, 19: 49, 5: 48, 18: 45, 12: 41, 8: 34, 6: 29, 13: 28, 4: 21, 7: 21, 14: 20, 11: 19, 16: 18, 2: 17, 1: 15, 17: 15, 15: 12, 9: 11, 10: 4, 3: 4}\n",
      "72 150 {18: 58, 19: 44, 5: 44, 13: 32, 7: 30, 1: 28, 6: 28, 8: 28, 0: 28, 12: 27, 14: 26, 16: 25, 17: 25, 11: 19, 4: 16, 15: 16, 2: 13, 9: 10, 3: 3}\n",
      "43 150 {8: 73, 0: 56, 13: 51, 4: 50, 5: 41, 12: 37, 6: 37, 11: 25, 17: 22, 19: 21, 7: 19, 18: 17, 9: 16, 16: 11, 14: 7, 1: 7, 15: 5, 3: 4, 2: 1}\n",
      "51 150 {13: 79, 8: 68, 0: 67, 4: 55, 12: 46, 9: 43, 11: 32, 6: 25, 5: 22, 17: 17, 19: 8, 18: 8, 3: 7, 16: 5, 2: 4, 7: 4, 10: 3, 15: 3, 1: 2, 14: 2}\n",
      "35 150 {8: 56, 0: 42, 5: 41, 6: 37, 4: 35, 13: 32, 1: 28, 7: 28, 18: 26, 14: 25, 11: 25, 17: 23, 9: 23, 12: 21, 19: 19, 15: 9, 2: 9, 3: 7, 10: 7, 16: 7}\n",
      "83 150 {0: 41, 13: 41, 8: 40, 4: 30, 15: 30, 5: 28, 18: 28, 6: 25, 14: 25, 1: 24, 2: 23, 16: 22, 3: 22, 11: 21, 19: 20, 9: 20, 17: 19, 10: 16, 12: 16, 7: 9}\n",
      "33 150 {8: 86, 4: 67, 0: 67, 13: 64, 6: 42, 12: 36, 5: 27, 9: 25, 19: 24, 11: 19, 18: 12, 17: 10, 3: 8, 7: 6, 1: 3, 16: 3, 15: 1}\n",
      "27 150 {0: 58, 8: 54, 12: 46, 5: 44, 13: 42, 4: 42, 19: 40, 11: 34, 6: 31, 18: 28, 9: 21, 16: 17, 17: 13, 1: 12, 7: 11, 15: 3, 14: 2, 3: 1, 2: 1}\n",
      "53 150 {0: 47, 2: 46, 15: 45, 8: 40, 13: 36, 5: 31, 14: 28, 4: 25, 12: 22, 19: 21, 9: 20, 6: 19, 16: 19, 18: 17, 3: 17, 11: 17, 1: 13, 17: 13, 10: 12, 7: 12}\n",
      "92 150 {13: 80, 4: 73, 8: 64, 0: 59, 9: 57, 12: 30, 5: 26, 3: 21, 6: 18, 11: 16, 17: 14, 19: 10, 7: 8, 18: 6, 14: 5, 15: 5, 2: 4, 1: 3, 10: 1}\n",
      "50 150 {5: 49, 0: 44, 12: 39, 4: 39, 13: 36, 18: 35, 8: 34, 19: 34, 16: 23, 15: 23, 14: 19, 11: 18, 10: 17, 6: 17, 9: 15, 7: 14, 2: 13, 17: 11, 1: 10, 3: 10}\n",
      "15 150 {18: 48, 7: 43, 5: 42, 19: 38, 6: 37, 0: 33, 16: 32, 12: 30, 1: 27, 14: 26, 17: 26, 8: 24, 11: 22, 15: 19, 13: 18, 4: 14, 9: 10, 2: 6, 3: 3, 10: 2}\n",
      "18 150 {5: 63, 0: 52, 12: 52, 18: 38, 19: 35, 6: 35, 13: 33, 8: 31, 4: 24, 7: 24, 11: 22, 1: 17, 17: 17, 16: 12, 9: 11, 14: 11, 3: 8, 15: 7, 10: 6, 2: 2}\n",
      "46 150 {13: 51, 17: 45, 8: 44, 4: 41, 9: 36, 7: 34, 11: 30, 1: 28, 3: 28, 5: 27, 0: 25, 12: 23, 6: 17, 14: 17, 19: 17, 18: 13, 2: 9, 15: 7, 16: 7, 10: 1}\n",
      "75 150 {0: 67, 13: 52, 5: 50, 19: 45, 8: 43, 12: 39, 6: 30, 18: 29, 11: 25, 4: 25, 9: 21, 17: 17, 16: 16, 7: 15, 1: 7, 15: 7, 14: 6, 2: 5, 3: 1}\n",
      "38 150 {0: 57, 5: 52, 12: 50, 6: 38, 13: 38, 19: 37, 17: 36, 7: 33, 8: 31, 11: 30, 18: 24, 1: 22, 4: 12, 16: 10, 14: 8, 2: 6, 15: 6, 10: 4, 9: 3, 3: 3}\n",
      "66 150 {8: 61, 13: 55, 0: 54, 5: 49, 12: 47, 4: 40, 9: 26, 7: 24, 6: 23, 11: 22, 18: 18, 19: 18, 17: 16, 1: 11, 15: 9, 2: 8, 14: 6, 3: 6, 16: 4, 10: 3}\n",
      "77 150 {0: 56, 13: 45, 5: 43, 12: 40, 19: 39, 18: 38, 8: 35, 11: 33, 4: 32, 6: 24, 7: 21, 16: 16, 17: 16, 9: 14, 14: 13, 1: 11, 15: 9, 2: 9, 10: 4, 3: 2}\n",
      "69 150 {7: 53, 18: 47, 1: 47, 14: 39, 19: 38, 16: 33, 5: 33, 0: 29, 12: 22, 13: 21, 6: 20, 17: 20, 8: 19, 11: 16, 15: 15, 3: 12, 9: 10, 4: 10, 2: 9, 10: 7}\n",
      "95 150 {18: 64, 19: 59, 5: 43, 16: 35, 15: 34, 12: 32, 14: 30, 1: 30, 0: 26, 6: 25, 8: 20, 13: 18, 7: 16, 2: 16, 4: 13, 17: 12, 11: 12, 10: 11, 9: 4}\n",
      "99 150 {3: 44, 15: 40, 0: 37, 8: 34, 14: 32, 4: 31, 5: 30, 2: 30, 18: 29, 9: 28, 10: 27, 19: 26, 16: 26, 13: 23, 12: 21, 6: 18, 1: 9, 11: 6, 17: 5, 7: 4}\n",
      "93 150 {0: 50, 13: 45, 18: 42, 19: 42, 4: 41, 12: 39, 5: 36, 8: 34, 16: 26, 6: 21, 11: 19, 9: 19, 2: 14, 17: 14, 1: 13, 15: 12, 3: 9, 7: 8, 14: 8, 10: 8}\n",
      "4 150 {0: 70, 13: 53, 12: 47, 5: 42, 8: 35, 19: 35, 6: 33, 4: 28, 18: 28, 11: 24, 17: 14, 15: 14, 16: 14, 9: 13, 7: 12, 2: 12, 14: 11, 1: 10, 10: 5}\n",
      "61 150 {14: 44, 15: 43, 5: 42, 2: 39, 18: 35, 12: 33, 19: 32, 10: 30, 8: 28, 0: 27, 6: 26, 1: 23, 16: 22, 13: 18, 4: 17, 9: 11, 7: 10, 17: 8, 11: 7, 3: 5}\n",
      "94 150 {5: 52, 11: 51, 17: 42, 0: 40, 7: 39, 1: 37, 8: 29, 14: 28, 4: 25, 18: 22, 12: 22, 13: 20, 19: 20, 2: 18, 10: 14, 9: 11, 16: 11, 6: 11, 3: 5, 15: 3}\n",
      "68 150 {19: 95, 6: 76, 18: 64, 5: 59, 16: 49, 8: 33, 12: 32, 0: 21, 7: 18, 17: 15, 1: 13, 13: 10, 4: 6, 11: 4, 15: 3, 14: 2}\n",
      "34 150 {0: 61, 13: 52, 8: 52, 12: 47, 5: 46, 4: 38, 19: 32, 6: 29, 18: 22, 11: 22, 16: 17, 7: 16, 9: 14, 17: 12, 1: 11, 14: 11, 15: 9, 2: 5, 10: 2, 3: 2}\n",
      "32 150 {5: 43, 19: 41, 7: 36, 12: 34, 1: 33, 0: 32, 18: 32, 16: 29, 17: 28, 6: 26, 15: 25, 13: 23, 11: 23, 8: 22, 2: 20, 14: 20, 4: 14, 9: 12, 10: 4, 3: 3}\n",
      "88 150 {0: 61, 8: 59, 13: 53, 4: 53, 5: 44, 12: 41, 6: 28, 7: 24, 11: 23, 19: 20, 18: 20, 9: 17, 1: 12, 17: 11, 16: 9, 14: 8, 2: 7, 3: 5, 15: 4, 10: 1}\n",
      "67 150 {18: 63, 19: 51, 5: 48, 0: 40, 13: 31, 16: 30, 14: 27, 1: 26, 12: 24, 4: 23, 7: 21, 8: 21, 6: 19, 9: 18, 11: 17, 15: 13, 17: 12, 2: 8, 3: 6, 10: 2}\n",
      "30 150 {5: 63, 18: 57, 19: 51, 0: 45, 12: 36, 8: 34, 13: 29, 11: 25, 6: 24, 14: 23, 7: 23, 4: 23, 1: 20, 17: 17, 16: 15, 15: 9, 9: 4, 2: 1, 3: 1}\n",
      "62 150 {13: 89, 4: 76, 8: 66, 0: 64, 9: 35, 11: 31, 12: 30, 5: 23, 3: 22, 6: 17, 17: 14, 19: 11, 18: 7, 16: 4, 14: 4, 1: 3, 7: 3, 2: 1}\n",
      "63 150 {13: 68, 4: 59, 5: 59, 0: 41, 8: 36, 19: 36, 9: 32, 11: 30, 6: 26, 18: 23, 17: 21, 12: 20, 7: 17, 14: 9, 1: 6, 15: 6, 16: 5, 2: 4, 3: 1, 10: 1}\n",
      "40 150 {14: 54, 2: 41, 10: 37, 9: 31, 1: 29, 4: 28, 7: 28, 13: 27, 18: 27, 8: 25, 5: 25, 0: 23, 3: 23, 11: 21, 17: 18, 6: 16, 19: 15, 15: 13, 12: 12, 16: 7}\n",
      "26 150 {4: 46, 13: 46, 5: 41, 2: 36, 9: 35, 8: 32, 0: 31, 16: 29, 15: 28, 18: 28, 12: 22, 10: 21, 19: 20, 11: 19, 6: 17, 3: 14, 7: 14, 14: 12, 1: 7, 17: 2}\n",
      "48 150 {15: 48, 0: 46, 19: 40, 12: 40, 2: 38, 18: 37, 16: 32, 6: 31, 5: 27, 17: 26, 8: 24, 11: 20, 4: 16, 14: 16, 13: 16, 7: 13, 1: 11, 10: 10, 9: 6, 3: 3}\n",
      "79 150 {18: 51, 5: 47, 19: 47, 0: 42, 12: 38, 8: 26, 7: 26, 13: 24, 6: 24, 4: 23, 16: 21, 14: 19, 9: 19, 11: 18, 1: 16, 17: 15, 3: 14, 15: 13, 2: 11, 10: 6}\n",
      "85 150 {18: 51, 7: 51, 1: 51, 19: 40, 17: 37, 16: 35, 6: 33, 5: 32, 14: 31, 12: 25, 15: 24, 0: 21, 11: 15, 8: 14, 13: 13, 2: 12, 3: 7, 4: 4, 9: 3, 10: 1}\n",
      "54 150 {13: 57, 4: 56, 9: 43, 12: 41, 8: 41, 0: 41, 5: 33, 11: 28, 3: 25, 17: 19, 18: 19, 6: 18, 7: 16, 19: 14, 14: 12, 2: 10, 15: 9, 1: 7, 10: 6, 16: 5}\n",
      "44 150 {0: 49, 19: 48, 5: 45, 13: 41, 8: 38, 6: 35, 12: 33, 18: 32, 4: 30, 11: 24, 16: 23, 14: 19, 9: 17, 7: 15, 1: 13, 17: 11, 2: 8, 10: 7, 3: 6, 15: 6}\n",
      "7 150 {5: 58, 18: 43, 19: 41, 10: 39, 16: 36, 8: 34, 1: 30, 14: 29, 15: 27, 12: 25, 2: 23, 6: 21, 7: 20, 0: 20, 13: 15, 4: 11, 9: 10, 17: 9, 11: 8, 3: 1}\n",
      "12 150 {5: 63, 19: 55, 18: 49, 17: 46, 7: 45, 1: 35, 16: 31, 0: 30, 6: 28, 12: 26, 11: 20, 13: 18, 9: 14, 8: 12, 14: 11, 4: 9, 15: 5, 3: 2, 2: 1}\n",
      "2 150 {8: 47, 4: 46, 0: 40, 19: 35, 12: 34, 5: 33, 13: 30, 18: 28, 6: 24, 14: 24, 11: 23, 17: 23, 1: 21, 2: 20, 9: 20, 16: 19, 7: 17, 15: 10, 10: 5, 3: 1}\n",
      "41 150 {2: 142, 10: 70, 15: 33, 5: 31, 12: 29, 0: 27, 18: 19, 17: 18, 7: 18, 14: 18, 19: 15, 13: 14, 8: 14, 11: 13, 6: 12, 1: 12, 4: 7, 16: 6, 9: 2}\n",
      "37 150 {19: 89, 18: 57, 6: 50, 5: 44, 0: 43, 12: 37, 16: 34, 8: 29, 7: 26, 17: 26, 13: 19, 11: 12, 1: 12, 15: 9, 4: 5, 14: 4, 2: 2, 9: 1, 10: 1}\n",
      "13 150 {12: 58, 19: 53, 0: 48, 18: 45, 5: 42, 6: 40, 8: 31, 17: 30, 13: 25, 16: 23, 11: 22, 7: 19, 4: 18, 1: 13, 15: 11, 9: 7, 14: 6, 2: 5, 10: 2, 3: 2}\n",
      "25 150 {16: 46, 19: 42, 6: 41, 0: 36, 15: 33, 12: 31, 5: 30, 8: 27, 4: 27, 18: 25, 17: 24, 13: 22, 7: 19, 2: 19, 11: 17, 14: 15, 9: 15, 1: 13, 10: 12, 3: 6}\n",
      "10 150 {14: 36, 4: 35, 15: 34, 18: 32, 0: 32, 19: 32, 7: 31, 2: 29, 8: 28, 1: 25, 16: 25, 13: 24, 5: 23, 6: 20, 10: 19, 12: 18, 3: 15, 9: 15, 11: 15, 17: 12}\n",
      "57 150 {2: 55, 10: 42, 15: 39, 13: 32, 0: 30, 8: 27, 4: 27, 19: 25, 5: 24, 14: 24, 12: 22, 1: 21, 16: 20, 9: 19, 18: 19, 11: 19, 17: 16, 3: 15, 7: 14, 6: 10}\n",
      "5 150 {19: 62, 6: 42, 18: 37, 12: 36, 15: 36, 5: 35, 11: 35, 0: 33, 16: 33, 2: 21, 13: 21, 7: 18, 4: 18, 8: 17, 17: 16, 14: 16, 1: 9, 10: 9, 9: 5, 3: 1}\n",
      "60 150 {17: 69, 5: 65, 18: 62, 7: 55, 1: 42, 11: 39, 19: 36, 16: 30, 12: 22, 14: 18, 0: 15, 6: 12, 13: 12, 4: 6, 8: 5, 15: 5, 9: 4, 3: 2, 2: 1}\n",
      "91 150 {2: 62, 10: 53, 0: 45, 4: 40, 13: 39, 15: 36, 9: 33, 8: 29, 12: 24, 5: 24, 11: 16, 3: 15, 18: 15, 16: 15, 19: 15, 6: 15, 17: 7, 14: 7, 7: 6, 1: 4}\n",
      "3 150 {0: 50, 5: 48, 18: 40, 12: 40, 19: 40, 7: 35, 13: 35, 8: 32, 6: 30, 17: 24, 11: 24, 1: 24, 4: 18, 14: 17, 9: 14, 16: 13, 15: 11, 2: 3, 3: 1, 10: 1}\n",
      "58 150 {19: 51, 0: 50, 18: 47, 5: 42, 16: 38, 12: 36, 6: 36, 13: 34, 8: 28, 11: 27, 17: 26, 15: 24, 7: 16, 14: 14, 4: 8, 1: 7, 2: 6, 9: 5, 3: 3, 10: 2}\n",
      "16 150 {15: 62, 2: 51, 14: 37, 5: 33, 6: 32, 0: 30, 1: 30, 7: 29, 12: 28, 4: 20, 19: 20, 16: 20, 18: 19, 10: 18, 8: 17, 17: 14, 11: 14, 13: 11, 9: 10, 3: 5}\n",
      "15000 15000\n"
     ]
    },
    {
     "name": "stderr",
     "output_type": "stream",
     "text": [
      "Epoch 1/10: 100%|██████████| 24/24 [00:10<00:00,  2.28 batch/s, loss=4.7624]\n",
      "Validating: 100%|██████████| 6/6 [00:01<00:00,  5.58 batch/s]\n"
     ]
    },
    {
     "name": "stdout",
     "output_type": "stream",
     "text": [
      "\u001b[1m\u001b[36mBest valid accuracy improved from 0.00% to 1.20%. Saving checkpoint...\n",
      "\u001b[0m"
     ]
    },
    {
     "name": "stderr",
     "output_type": "stream",
     "text": [
      "Epoch 2/10: 100%|██████████| 24/24 [00:10<00:00,  2.28 batch/s, loss=3.7512]\n",
      "Validating: 100%|██████████| 6/6 [00:01<00:00,  5.65 batch/s]\n"
     ]
    },
    {
     "name": "stdout",
     "output_type": "stream",
     "text": [
      "\u001b[1m\u001b[36mBest valid accuracy improved from 1.20% to 10.13%. Saving checkpoint...\n",
      "\u001b[0m"
     ]
    },
    {
     "name": "stderr",
     "output_type": "stream",
     "text": [
      "Epoch 3/10: 100%|██████████| 24/24 [00:10<00:00,  2.28 batch/s, loss=3.2366]\n",
      "Validating: 100%|██████████| 6/6 [00:01<00:00,  5.66 batch/s]\n"
     ]
    },
    {
     "name": "stdout",
     "output_type": "stream",
     "text": [
      "\u001b[1m\u001b[36mBest valid accuracy improved from 10.13% to 13.60%. Saving checkpoint...\n",
      "\u001b[0m"
     ]
    },
    {
     "name": "stderr",
     "output_type": "stream",
     "text": [
      "Epoch 4/10: 100%|██████████| 24/24 [00:10<00:00,  2.27 batch/s, loss=2.7895]\n",
      "Validating: 100%|██████████| 6/6 [00:01<00:00,  5.65 batch/s]\n"
     ]
    },
    {
     "name": "stdout",
     "output_type": "stream",
     "text": [
      "\u001b[1m\u001b[36mBest valid accuracy improved from 13.60% to 14.33%. Saving checkpoint...\n",
      "\u001b[0m"
     ]
    },
    {
     "name": "stderr",
     "output_type": "stream",
     "text": [
      "Epoch 5/10: 100%|██████████| 24/24 [00:10<00:00,  2.28 batch/s, loss=2.4329]\n",
      "Validating: 100%|██████████| 6/6 [00:01<00:00,  5.66 batch/s]\n"
     ]
    },
    {
     "name": "stdout",
     "output_type": "stream",
     "text": [
      "\u001b[1m\u001b[36mBest valid accuracy improved from 14.33% to 14.50%. Saving checkpoint...\n",
      "\u001b[0m"
     ]
    },
    {
     "name": "stderr",
     "output_type": "stream",
     "text": [
      "Epoch 6/10: 100%|██████████| 24/24 [00:10<00:00,  2.28 batch/s, loss=2.1352]\n",
      "Validating: 100%|██████████| 6/6 [00:01<00:00,  5.56 batch/s]\n"
     ]
    },
    {
     "name": "stdout",
     "output_type": "stream",
     "text": [
      "\u001b[1m\u001b[36mBest valid accuracy improved from 14.50% to 15.90%. Saving checkpoint...\n",
      "\u001b[0m"
     ]
    },
    {
     "name": "stderr",
     "output_type": "stream",
     "text": [
      "Epoch 7/10: 100%|██████████| 24/24 [00:10<00:00,  2.28 batch/s, loss=1.7960]\n",
      "Validating: 100%|██████████| 6/6 [00:01<00:00,  5.68 batch/s]\n"
     ]
    },
    {
     "name": "stdout",
     "output_type": "stream",
     "text": [
      "\u001b[1m\u001b[36mBest valid accuracy improved from 15.90% to 16.40%. Saving checkpoint...\n",
      "\u001b[0m"
     ]
    },
    {
     "name": "stderr",
     "output_type": "stream",
     "text": [
      "Epoch 8/10: 100%|██████████| 24/24 [00:10<00:00,  2.29 batch/s, loss=1.4549]\n",
      "Validating: 100%|██████████| 6/6 [00:01<00:00,  5.67 batch/s]\n"
     ]
    },
    {
     "name": "stdout",
     "output_type": "stream",
     "text": [
      "\u001b[1m\u001b[36mBest valid accuracy improved from 16.40% to 17.37%. Saving checkpoint...\n",
      "\u001b[0m"
     ]
    },
    {
     "name": "stderr",
     "output_type": "stream",
     "text": [
      "Epoch 9/10: 100%|██████████| 24/24 [00:10<00:00,  2.28 batch/s, loss=1.2059]\n",
      "Validating: 100%|██████████| 6/6 [00:01<00:00,  5.64 batch/s]\n",
      "Epoch 10/10: 100%|██████████| 24/24 [00:10<00:00,  2.28 batch/s, loss=1.0928]\n",
      "Validating: 100%|██████████| 6/6 [00:01<00:00,  5.68 batch/s]\n"
     ]
    },
    {
     "name": "stdout",
     "output_type": "stream",
     "text": [
      "\u001b[1m\u001b[36mBest valid accuracy improved from 17.37% to 18.33%. Saving checkpoint...\n",
      "\u001b[0m"
     ]
    },
    {
     "name": "stderr",
     "output_type": "stream",
     "text": [
      "Testing: 100%|██████████| 20/20 [00:03<00:00,  5.68 batch/s]\n"
     ]
    },
    {
     "name": "stdout",
     "output_type": "stream",
     "text": [
      "\u001b[1m\u001b[95mRunning run r50,ep:10,bs:512,clip:None,nc:20,mp:0.01,fe/4\n",
      "\u001b[0m19 200 {19: 66, 0: 51, 5: 50, 12: 49, 6: 45, 8: 43, 13: 31, 18: 31, 17: 25, 7: 25, 11: 22, 16: 22, 1: 10, 4: 9, 9: 6, 15: 6, 14: 5, 10: 2, 2: 1, 3: 1}\n",
      "29 200 {2: 78, 10: 61, 3: 38, 0: 30, 15: 29, 8: 26, 5: 25, 18: 24, 13: 23, 19: 21, 16: 21, 4: 18, 14: 17, 1: 15, 9: 14, 17: 14, 6: 13, 7: 12, 12: 12, 11: 9}\n",
      "0 200 {15: 50, 2: 41, 14: 39, 4: 39, 13: 35, 8: 33, 16: 30, 5: 29, 18: 25, 1: 22, 0: 22, 11: 20, 7: 16, 9: 16, 6: 16, 19: 16, 10: 15, 17: 13, 12: 13, 3: 10}\n",
      "11 200 {17: 46, 8: 42, 4: 39, 13: 34, 0: 31, 18: 31, 5: 30, 12: 27, 11: 27, 7: 24, 10: 24, 9: 23, 2: 21, 6: 21, 1: 19, 14: 18, 19: 17, 15: 11, 16: 8, 3: 7}\n",
      "1 200 {9: 82, 13: 82, 4: 77, 8: 48, 0: 41, 11: 38, 3: 26, 6: 25, 12: 19, 5: 17, 19: 10, 18: 8, 17: 8, 14: 6, 7: 3, 16: 3, 15: 3, 1: 2, 10: 1, 2: 1}\n",
      "86 200 {2: 85, 15: 72, 10: 64, 14: 56, 1: 26, 18: 25, 7: 25, 16: 23, 8: 17, 5: 17, 0: 15, 19: 12, 4: 11, 13: 10, 6: 9, 9: 9, 17: 8, 11: 7, 12: 6, 3: 3}\n",
      "90 200 {19: 64, 6: 52, 0: 49, 12: 42, 8: 41, 18: 40, 5: 37, 16: 33, 7: 26, 17: 20, 1: 19, 13: 19, 4: 16, 11: 14, 9: 12, 14: 11, 15: 3, 2: 1, 3: 1}\n",
      "28 200 {14: 54, 1: 38, 7: 35, 3: 33, 2: 32, 9: 31, 4: 30, 8: 26, 5: 25, 0: 23, 10: 23, 17: 21, 15: 19, 13: 19, 19: 17, 12: 16, 6: 16, 18: 16, 16: 14, 11: 12}\n",
      "23 200 {5: 65, 17: 50, 7: 48, 11: 41, 18: 40, 19: 40, 1: 32, 16: 26, 12: 25, 14: 25, 6: 20, 0: 20, 13: 19, 15: 15, 4: 10, 8: 8, 2: 5, 9: 5, 3: 3, 10: 3}\n",
      "31 200 {5: 58, 6: 58, 19: 57, 18: 55, 12: 49, 0: 47, 8: 26, 16: 22, 11: 21, 1: 21, 7: 21, 13: 19, 17: 12, 14: 10, 4: 10, 15: 7, 9: 5, 2: 2}\n",
      "39 200 {5: 50, 18: 45, 10: 43, 19: 37, 16: 35, 0: 32, 11: 31, 6: 29, 2: 29, 13: 26, 12: 24, 14: 20, 8: 20, 15: 19, 17: 15, 7: 13, 4: 12, 9: 9, 1: 6, 3: 5}\n",
      "96 200 {5: 60, 12: 46, 17: 45, 7: 41, 0: 40, 18: 38, 19: 37, 6: 31, 11: 30, 8: 29, 13: 26, 1: 17, 4: 17, 16: 16, 14: 8, 15: 8, 9: 6, 3: 2, 2: 2, 10: 1}\n",
      "82 200 {0: 63, 8: 57, 5: 48, 12: 40, 19: 37, 13: 32, 7: 28, 4: 27, 6: 26, 18: 26, 17: 22, 1: 19, 14: 14, 15: 14, 11: 13, 9: 11, 16: 10, 2: 7, 3: 4, 10: 2}\n",
      "17 200 {19: 67, 5: 66, 7: 57, 18: 56, 17: 53, 1: 38, 11: 30, 12: 25, 6: 25, 16: 24, 0: 23, 14: 15, 8: 10, 4: 5, 13: 4, 15: 1, 9: 1}\n",
      "71 200 {18: 71, 5: 60, 7: 52, 17: 48, 19: 41, 16: 40, 11: 36, 13: 24, 1: 23, 0: 19, 12: 16, 4: 15, 14: 14, 9: 10, 8: 10, 6: 9, 3: 6, 15: 4, 2: 2}\n",
      "8 200 {15: 44, 18: 40, 5: 39, 12: 38, 0: 36, 19: 34, 6: 33, 17: 33, 14: 27, 2: 25, 16: 23, 7: 23, 11: 23, 8: 20, 13: 17, 1: 16, 4: 10, 10: 9, 3: 8, 9: 2}\n",
      "97 200 {0: 59, 8: 56, 13: 52, 4: 47, 12: 33, 6: 31, 9: 29, 5: 28, 11: 25, 19: 24, 7: 20, 18: 18, 16: 16, 14: 15, 1: 15, 15: 12, 17: 9, 3: 6, 2: 5}\n",
      "80 200 {5: 69, 12: 67, 19: 46, 0: 44, 8: 41, 6: 35, 18: 33, 13: 31, 7: 27, 4: 22, 17: 21, 11: 17, 1: 17, 14: 14, 16: 10, 15: 5, 9: 1}\n",
      "74 200 {13: 57, 8: 54, 0: 48, 5: 40, 4: 39, 12: 39, 19: 32, 6: 31, 18: 30, 9: 20, 11: 19, 14: 15, 16: 13, 2: 12, 17: 12, 15: 11, 10: 10, 1: 8, 7: 6, 3: 4}\n",
      "59 200 {7: 82, 17: 54, 5: 52, 19: 38, 6: 34, 12: 32, 1: 31, 18: 27, 0: 26, 13: 21, 16: 20, 11: 20, 14: 19, 8: 15, 15: 10, 4: 8, 2: 6, 10: 4, 9: 1}\n",
      "70 200 {13: 69, 4: 65, 9: 56, 8: 54, 0: 41, 5: 34, 12: 28, 11: 24, 3: 22, 19: 17, 6: 14, 18: 13, 7: 12, 17: 11, 14: 10, 16: 9, 15: 8, 1: 5, 2: 5, 10: 3}\n",
      "87 200 {8: 45, 4: 38, 13: 33, 5: 32, 19: 30, 2: 29, 16: 28, 15: 28, 0: 27, 17: 26, 14: 25, 11: 24, 18: 23, 1: 20, 9: 18, 7: 17, 12: 16, 10: 16, 6: 16, 3: 9}\n",
      "84 200 {5: 38, 8: 37, 0: 37, 11: 36, 19: 35, 6: 35, 13: 32, 12: 31, 18: 30, 7: 29, 10: 25, 17: 23, 16: 21, 4: 20, 2: 16, 1: 14, 9: 13, 14: 13, 15: 11, 3: 4}\n",
      "64 200 {4: 77, 8: 61, 13: 58, 9: 47, 0: 42, 5: 29, 12: 28, 11: 28, 19: 22, 3: 22, 18: 21, 6: 17, 17: 15, 7: 10, 14: 7, 16: 6, 15: 4, 1: 4, 2: 2}\n",
      "52 200 {7: 77, 5: 70, 19: 62, 17: 52, 18: 50, 1: 33, 12: 27, 0: 25, 6: 25, 16: 24, 11: 16, 14: 14, 8: 9, 13: 5, 4: 4, 15: 4, 10: 1, 3: 1, 2: 1}\n",
      "42 200 {0: 70, 8: 61, 13: 58, 12: 58, 6: 40, 4: 38, 5: 30, 11: 26, 19: 21, 9: 17, 7: 16, 18: 16, 17: 11, 16: 10, 14: 10, 3: 9, 15: 4, 1: 3, 2: 2}\n",
      "47 200 {5: 71, 17: 60, 0: 42, 7: 42, 11: 42, 18: 30, 12: 29, 13: 28, 6: 26, 1: 23, 8: 23, 19: 21, 4: 15, 16: 10, 15: 9, 2: 9, 14: 7, 10: 6, 9: 5, 3: 2}\n",
      "65 200 {5: 56, 0: 51, 8: 48, 13: 44, 12: 37, 6: 36, 19: 32, 11: 32, 4: 30, 18: 27, 9: 20, 7: 19, 17: 16, 1: 14, 16: 14, 14: 6, 15: 6, 3: 5, 2: 5, 10: 2}\n",
      "21 200 {13: 54, 17: 44, 8: 42, 4: 42, 11: 38, 0: 37, 12: 33, 7: 30, 5: 30, 9: 29, 18: 26, 6: 25, 19: 22, 1: 16, 3: 11, 16: 9, 14: 8, 15: 3, 2: 1}\n",
      "22 200 {15: 60, 2: 40, 14: 38, 5: 35, 1: 32, 19: 29, 18: 25, 4: 25, 8: 24, 0: 23, 9: 22, 17: 22, 12: 20, 6: 20, 10: 18, 16: 17, 13: 15, 7: 13, 11: 13, 3: 9}\n",
      "81 200 {19: 73, 12: 50, 5: 50, 0: 49, 18: 45, 6: 42, 16: 30, 17: 27, 8: 25, 13: 22, 7: 21, 4: 19, 11: 17, 14: 10, 1: 9, 3: 4, 9: 3, 15: 3, 2: 1}\n",
      "24 200 {10: 189, 2: 66, 18: 43, 14: 39, 15: 33, 19: 21, 5: 20, 16: 19, 1: 17, 6: 13, 7: 11, 12: 10, 0: 8, 8: 5, 4: 3, 17: 2, 13: 1}\n",
      "78 200 {12: 54, 19: 52, 0: 52, 18: 52, 5: 39, 13: 36, 8: 33, 4: 27, 6: 25, 16: 20, 9: 18, 11: 15, 1: 15, 14: 13, 15: 11, 7: 10, 10: 9, 2: 7, 3: 6, 17: 6}\n",
      "45 200 {8: 48, 13: 46, 4: 37, 11: 37, 15: 33, 18: 30, 0: 29, 9: 29, 3: 25, 19: 22, 6: 21, 12: 21, 5: 20, 2: 20, 16: 16, 7: 14, 14: 14, 10: 13, 1: 13, 17: 12}\n",
      "49 200 {17: 71, 11: 57, 5: 57, 7: 45, 19: 37, 18: 35, 6: 29, 13: 28, 12: 28, 0: 24, 1: 22, 8: 21, 16: 16, 4: 13, 15: 6, 14: 4, 9: 4, 2: 2, 3: 1}\n",
      "56 200 {7: 76, 5: 54, 17: 49, 1: 46, 19: 40, 18: 39, 11: 31, 14: 25, 12: 24, 6: 23, 16: 22, 0: 22, 8: 18, 13: 12, 15: 10, 4: 4, 2: 3, 9: 2}\n",
      "76 200 {7: 100, 1: 65, 5: 57, 17: 49, 18: 30, 14: 26, 12: 26, 11: 26, 13: 22, 0: 21, 8: 21, 6: 15, 19: 13, 4: 8, 15: 7, 9: 4, 2: 4, 16: 3, 3: 3}\n",
      "89 200 {19: 63, 5: 47, 0: 44, 18: 44, 6: 44, 12: 43, 17: 36, 16: 34, 7: 32, 11: 23, 13: 20, 8: 17, 1: 14, 2: 8, 4: 8, 14: 8, 9: 7, 15: 7, 3: 1}\n",
      "73 200 {0: 68, 13: 56, 4: 44, 5: 44, 9: 44, 8: 42, 19: 30, 18: 29, 12: 29, 3: 28, 11: 24, 6: 21, 17: 10, 1: 7, 16: 7, 14: 7, 7: 5, 15: 3, 2: 2}\n",
      "14 200 {0: 60, 13: 56, 12: 45, 4: 45, 5: 42, 8: 41, 19: 32, 6: 27, 11: 25, 18: 21, 16: 19, 1: 16, 17: 16, 9: 13, 7: 13, 14: 7, 15: 7, 3: 6, 10: 5, 2: 4}\n",
      "9 200 {7: 62, 10: 47, 1: 46, 14: 44, 2: 40, 19: 31, 18: 28, 5: 28, 15: 23, 17: 18, 13: 17, 0: 17, 4: 16, 11: 15, 8: 13, 6: 13, 3: 13, 12: 11, 16: 9, 9: 9}\n",
      "6 200 {5: 54, 0: 47, 18: 37, 13: 37, 12: 37, 8: 36, 6: 34, 19: 32, 7: 29, 4: 21, 16: 20, 11: 20, 14: 14, 15: 14, 2: 13, 9: 13, 17: 12, 1: 12, 10: 10, 3: 8}\n",
      "20 200 {10: 146, 2: 95, 15: 81, 14: 47, 18: 22, 16: 17, 7: 15, 19: 14, 5: 12, 1: 11, 0: 8, 12: 6, 17: 6, 6: 5, 11: 5, 13: 4, 8: 4, 3: 1, 4: 1}\n",
      "98 200 {0: 48, 7: 42, 4: 39, 8: 36, 13: 35, 9: 35, 14: 32, 1: 31, 11: 29, 17: 26, 12: 24, 6: 20, 5: 20, 19: 18, 18: 17, 3: 15, 2: 14, 15: 14, 10: 4, 16: 1}\n",
      "36 200 {0: 49, 18: 47, 19: 41, 13: 38, 12: 37, 5: 34, 6: 32, 14: 31, 8: 29, 1: 27, 16: 26, 4: 25, 17: 19, 2: 17, 11: 15, 7: 13, 9: 8, 15: 8, 10: 3, 3: 1}\n",
      "55 200 {0: 49, 19: 49, 5: 48, 18: 45, 12: 41, 8: 34, 6: 29, 13: 28, 4: 21, 7: 21, 14: 20, 11: 19, 16: 18, 2: 17, 1: 15, 17: 15, 15: 12, 9: 11, 10: 4, 3: 4}\n",
      "72 200 {18: 58, 19: 44, 5: 44, 13: 32, 7: 30, 1: 28, 6: 28, 8: 28, 0: 28, 12: 27, 14: 26, 16: 25, 17: 25, 11: 19, 4: 16, 15: 16, 2: 13, 9: 10, 3: 3}\n",
      "43 200 {8: 73, 0: 56, 13: 51, 4: 50, 5: 41, 12: 37, 6: 37, 11: 25, 17: 22, 19: 21, 7: 19, 18: 17, 9: 16, 16: 11, 14: 7, 1: 7, 15: 5, 3: 4, 2: 1}\n",
      "51 200 {13: 79, 8: 68, 0: 67, 4: 55, 12: 46, 9: 43, 11: 32, 6: 25, 5: 22, 17: 17, 19: 8, 18: 8, 3: 7, 16: 5, 2: 4, 7: 4, 10: 3, 15: 3, 1: 2, 14: 2}\n",
      "35 200 {8: 56, 0: 42, 5: 41, 6: 37, 4: 35, 13: 32, 1: 28, 7: 28, 18: 26, 14: 25, 11: 25, 17: 23, 9: 23, 12: 21, 19: 19, 15: 9, 2: 9, 3: 7, 10: 7, 16: 7}\n",
      "83 200 {0: 41, 13: 41, 8: 40, 4: 30, 15: 30, 5: 28, 18: 28, 6: 25, 14: 25, 1: 24, 2: 23, 16: 22, 3: 22, 11: 21, 19: 20, 9: 20, 17: 19, 10: 16, 12: 16, 7: 9}\n",
      "33 200 {8: 86, 4: 67, 0: 67, 13: 64, 6: 42, 12: 36, 5: 27, 9: 25, 19: 24, 11: 19, 18: 12, 17: 10, 3: 8, 7: 6, 1: 3, 16: 3, 15: 1}\n",
      "27 200 {0: 58, 8: 54, 12: 46, 5: 44, 13: 42, 4: 42, 19: 40, 11: 34, 6: 31, 18: 28, 9: 21, 16: 17, 17: 13, 1: 12, 7: 11, 15: 3, 14: 2, 3: 1, 2: 1}\n",
      "53 200 {0: 47, 2: 46, 15: 45, 8: 40, 13: 36, 5: 31, 14: 28, 4: 25, 12: 22, 19: 21, 9: 20, 6: 19, 16: 19, 18: 17, 3: 17, 11: 17, 1: 13, 17: 13, 10: 12, 7: 12}\n",
      "92 200 {13: 80, 4: 73, 8: 64, 0: 59, 9: 57, 12: 30, 5: 26, 3: 21, 6: 18, 11: 16, 17: 14, 19: 10, 7: 8, 18: 6, 14: 5, 15: 5, 2: 4, 1: 3, 10: 1}\n",
      "50 200 {5: 49, 0: 44, 12: 39, 4: 39, 13: 36, 18: 35, 8: 34, 19: 34, 16: 23, 15: 23, 14: 19, 11: 18, 10: 17, 6: 17, 9: 15, 7: 14, 2: 13, 17: 11, 1: 10, 3: 10}\n",
      "15 200 {18: 48, 7: 43, 5: 42, 19: 38, 6: 37, 0: 33, 16: 32, 12: 30, 1: 27, 14: 26, 17: 26, 8: 24, 11: 22, 15: 19, 13: 18, 4: 14, 9: 10, 2: 6, 3: 3, 10: 2}\n",
      "18 200 {5: 63, 0: 52, 12: 52, 18: 38, 19: 35, 6: 35, 13: 33, 8: 31, 4: 24, 7: 24, 11: 22, 1: 17, 17: 17, 16: 12, 9: 11, 14: 11, 3: 8, 15: 7, 10: 6, 2: 2}\n",
      "46 200 {13: 51, 17: 45, 8: 44, 4: 41, 9: 36, 7: 34, 11: 30, 1: 28, 3: 28, 5: 27, 0: 25, 12: 23, 6: 17, 14: 17, 19: 17, 18: 13, 2: 9, 15: 7, 16: 7, 10: 1}\n",
      "75 200 {0: 67, 13: 52, 5: 50, 19: 45, 8: 43, 12: 39, 6: 30, 18: 29, 11: 25, 4: 25, 9: 21, 17: 17, 16: 16, 7: 15, 1: 7, 15: 7, 14: 6, 2: 5, 3: 1}\n",
      "38 200 {0: 57, 5: 52, 12: 50, 6: 38, 13: 38, 19: 37, 17: 36, 7: 33, 8: 31, 11: 30, 18: 24, 1: 22, 4: 12, 16: 10, 14: 8, 2: 6, 15: 6, 10: 4, 9: 3, 3: 3}\n",
      "66 200 {8: 61, 13: 55, 0: 54, 5: 49, 12: 47, 4: 40, 9: 26, 7: 24, 6: 23, 11: 22, 18: 18, 19: 18, 17: 16, 1: 11, 15: 9, 2: 8, 14: 6, 3: 6, 16: 4, 10: 3}\n",
      "77 200 {0: 56, 13: 45, 5: 43, 12: 40, 19: 39, 18: 38, 8: 35, 11: 33, 4: 32, 6: 24, 7: 21, 16: 16, 17: 16, 9: 14, 14: 13, 1: 11, 15: 9, 2: 9, 10: 4, 3: 2}\n",
      "69 200 {7: 53, 18: 47, 1: 47, 14: 39, 19: 38, 16: 33, 5: 33, 0: 29, 12: 22, 13: 21, 6: 20, 17: 20, 8: 19, 11: 16, 15: 15, 3: 12, 9: 10, 4: 10, 2: 9, 10: 7}\n",
      "95 200 {18: 64, 19: 59, 5: 43, 16: 35, 15: 34, 12: 32, 14: 30, 1: 30, 0: 26, 6: 25, 8: 20, 13: 18, 7: 16, 2: 16, 4: 13, 17: 12, 11: 12, 10: 11, 9: 4}\n",
      "99 200 {3: 44, 15: 40, 0: 37, 8: 34, 14: 32, 4: 31, 5: 30, 2: 30, 18: 29, 9: 28, 10: 27, 19: 26, 16: 26, 13: 23, 12: 21, 6: 18, 1: 9, 11: 6, 17: 5, 7: 4}\n",
      "93 200 {0: 50, 13: 45, 18: 42, 19: 42, 4: 41, 12: 39, 5: 36, 8: 34, 16: 26, 6: 21, 11: 19, 9: 19, 2: 14, 17: 14, 1: 13, 15: 12, 3: 9, 7: 8, 14: 8, 10: 8}\n",
      "4 200 {0: 70, 13: 53, 12: 47, 5: 42, 8: 35, 19: 35, 6: 33, 4: 28, 18: 28, 11: 24, 17: 14, 15: 14, 16: 14, 9: 13, 7: 12, 2: 12, 14: 11, 1: 10, 10: 5}\n",
      "61 200 {14: 44, 15: 43, 5: 42, 2: 39, 18: 35, 12: 33, 19: 32, 10: 30, 8: 28, 0: 27, 6: 26, 1: 23, 16: 22, 13: 18, 4: 17, 9: 11, 7: 10, 17: 8, 11: 7, 3: 5}\n",
      "94 200 {5: 52, 11: 51, 17: 42, 0: 40, 7: 39, 1: 37, 8: 29, 14: 28, 4: 25, 18: 22, 12: 22, 13: 20, 19: 20, 2: 18, 10: 14, 9: 11, 16: 11, 6: 11, 3: 5, 15: 3}\n",
      "68 200 {19: 95, 6: 76, 18: 64, 5: 59, 16: 49, 8: 33, 12: 32, 0: 21, 7: 18, 17: 15, 1: 13, 13: 10, 4: 6, 11: 4, 15: 3, 14: 2}\n",
      "34 200 {0: 61, 13: 52, 8: 52, 12: 47, 5: 46, 4: 38, 19: 32, 6: 29, 18: 22, 11: 22, 16: 17, 7: 16, 9: 14, 17: 12, 1: 11, 14: 11, 15: 9, 2: 5, 10: 2, 3: 2}\n",
      "32 200 {5: 43, 19: 41, 7: 36, 12: 34, 1: 33, 0: 32, 18: 32, 16: 29, 17: 28, 6: 26, 15: 25, 13: 23, 11: 23, 8: 22, 2: 20, 14: 20, 4: 14, 9: 12, 10: 4, 3: 3}\n",
      "88 200 {0: 61, 8: 59, 13: 53, 4: 53, 5: 44, 12: 41, 6: 28, 7: 24, 11: 23, 19: 20, 18: 20, 9: 17, 1: 12, 17: 11, 16: 9, 14: 8, 2: 7, 3: 5, 15: 4, 10: 1}\n",
      "67 200 {18: 63, 19: 51, 5: 48, 0: 40, 13: 31, 16: 30, 14: 27, 1: 26, 12: 24, 4: 23, 7: 21, 8: 21, 6: 19, 9: 18, 11: 17, 15: 13, 17: 12, 2: 8, 3: 6, 10: 2}\n",
      "30 200 {5: 63, 18: 57, 19: 51, 0: 45, 12: 36, 8: 34, 13: 29, 11: 25, 6: 24, 14: 23, 7: 23, 4: 23, 1: 20, 17: 17, 16: 15, 15: 9, 9: 4, 2: 1, 3: 1}\n",
      "62 200 {13: 89, 4: 76, 8: 66, 0: 64, 9: 35, 11: 31, 12: 30, 5: 23, 3: 22, 6: 17, 17: 14, 19: 11, 18: 7, 16: 4, 14: 4, 1: 3, 7: 3, 2: 1}\n",
      "63 200 {13: 68, 4: 59, 5: 59, 0: 41, 8: 36, 19: 36, 9: 32, 11: 30, 6: 26, 18: 23, 17: 21, 12: 20, 7: 17, 14: 9, 1: 6, 15: 6, 16: 5, 2: 4, 3: 1, 10: 1}\n",
      "40 200 {14: 54, 2: 41, 10: 37, 9: 31, 1: 29, 4: 28, 7: 28, 13: 27, 18: 27, 8: 25, 5: 25, 0: 23, 3: 23, 11: 21, 17: 18, 6: 16, 19: 15, 15: 13, 12: 12, 16: 7}\n",
      "26 200 {4: 46, 13: 46, 5: 41, 2: 36, 9: 35, 8: 32, 0: 31, 16: 29, 15: 28, 18: 28, 12: 22, 10: 21, 19: 20, 11: 19, 6: 17, 3: 14, 7: 14, 14: 12, 1: 7, 17: 2}\n",
      "48 200 {15: 48, 0: 46, 19: 40, 12: 40, 2: 38, 18: 37, 16: 32, 6: 31, 5: 27, 17: 26, 8: 24, 11: 20, 4: 16, 14: 16, 13: 16, 7: 13, 1: 11, 10: 10, 9: 6, 3: 3}\n",
      "79 200 {18: 51, 5: 47, 19: 47, 0: 42, 12: 38, 8: 26, 7: 26, 13: 24, 6: 24, 4: 23, 16: 21, 14: 19, 9: 19, 11: 18, 1: 16, 17: 15, 3: 14, 15: 13, 2: 11, 10: 6}\n",
      "85 200 {18: 51, 7: 51, 1: 51, 19: 40, 17: 37, 16: 35, 6: 33, 5: 32, 14: 31, 12: 25, 15: 24, 0: 21, 11: 15, 8: 14, 13: 13, 2: 12, 3: 7, 4: 4, 9: 3, 10: 1}\n",
      "54 200 {13: 57, 4: 56, 9: 43, 12: 41, 8: 41, 0: 41, 5: 33, 11: 28, 3: 25, 17: 19, 18: 19, 6: 18, 7: 16, 19: 14, 14: 12, 2: 10, 15: 9, 1: 7, 10: 6, 16: 5}\n",
      "44 200 {0: 49, 19: 48, 5: 45, 13: 41, 8: 38, 6: 35, 12: 33, 18: 32, 4: 30, 11: 24, 16: 23, 14: 19, 9: 17, 7: 15, 1: 13, 17: 11, 2: 8, 10: 7, 3: 6, 15: 6}\n",
      "7 200 {5: 58, 18: 43, 19: 41, 10: 39, 16: 36, 8: 34, 1: 30, 14: 29, 15: 27, 12: 25, 2: 23, 6: 21, 7: 20, 0: 20, 13: 15, 4: 11, 9: 10, 17: 9, 11: 8, 3: 1}\n",
      "12 200 {5: 63, 19: 55, 18: 49, 17: 46, 7: 45, 1: 35, 16: 31, 0: 30, 6: 28, 12: 26, 11: 20, 13: 18, 9: 14, 8: 12, 14: 11, 4: 9, 15: 5, 3: 2, 2: 1}\n",
      "2 200 {8: 47, 4: 46, 0: 40, 19: 35, 12: 34, 5: 33, 13: 30, 18: 28, 6: 24, 14: 24, 11: 23, 17: 23, 1: 21, 2: 20, 9: 20, 16: 19, 7: 17, 15: 10, 10: 5, 3: 1}\n",
      "41 200 {2: 142, 10: 70, 15: 33, 5: 31, 12: 29, 0: 27, 18: 19, 17: 18, 7: 18, 14: 18, 19: 15, 13: 14, 8: 14, 11: 13, 6: 12, 1: 12, 4: 7, 16: 6, 9: 2}\n",
      "37 200 {19: 89, 18: 57, 6: 50, 5: 44, 0: 43, 12: 37, 16: 34, 8: 29, 7: 26, 17: 26, 13: 19, 11: 12, 1: 12, 15: 9, 4: 5, 14: 4, 2: 2, 9: 1, 10: 1}\n",
      "13 200 {12: 58, 19: 53, 0: 48, 18: 45, 5: 42, 6: 40, 8: 31, 17: 30, 13: 25, 16: 23, 11: 22, 7: 19, 4: 18, 1: 13, 15: 11, 9: 7, 14: 6, 2: 5, 10: 2, 3: 2}\n",
      "25 200 {16: 46, 19: 42, 6: 41, 0: 36, 15: 33, 12: 31, 5: 30, 8: 27, 4: 27, 18: 25, 17: 24, 13: 22, 7: 19, 2: 19, 11: 17, 14: 15, 9: 15, 1: 13, 10: 12, 3: 6}\n",
      "10 200 {14: 36, 4: 35, 15: 34, 18: 32, 0: 32, 19: 32, 7: 31, 2: 29, 8: 28, 1: 25, 16: 25, 13: 24, 5: 23, 6: 20, 10: 19, 12: 18, 3: 15, 9: 15, 11: 15, 17: 12}\n",
      "57 200 {2: 55, 10: 42, 15: 39, 13: 32, 0: 30, 8: 27, 4: 27, 19: 25, 5: 24, 14: 24, 12: 22, 1: 21, 16: 20, 9: 19, 18: 19, 11: 19, 17: 16, 3: 15, 7: 14, 6: 10}\n",
      "5 200 {19: 62, 6: 42, 18: 37, 12: 36, 15: 36, 5: 35, 11: 35, 0: 33, 16: 33, 2: 21, 13: 21, 7: 18, 4: 18, 8: 17, 17: 16, 14: 16, 1: 9, 10: 9, 9: 5, 3: 1}\n",
      "60 200 {17: 69, 5: 65, 18: 62, 7: 55, 1: 42, 11: 39, 19: 36, 16: 30, 12: 22, 14: 18, 0: 15, 6: 12, 13: 12, 4: 6, 8: 5, 15: 5, 9: 4, 3: 2, 2: 1}\n",
      "91 200 {2: 62, 10: 53, 0: 45, 4: 40, 13: 39, 15: 36, 9: 33, 8: 29, 12: 24, 5: 24, 11: 16, 3: 15, 18: 15, 16: 15, 19: 15, 6: 15, 17: 7, 14: 7, 7: 6, 1: 4}\n",
      "3 200 {0: 50, 5: 48, 18: 40, 12: 40, 19: 40, 7: 35, 13: 35, 8: 32, 6: 30, 17: 24, 11: 24, 1: 24, 4: 18, 14: 17, 9: 14, 16: 13, 15: 11, 2: 3, 3: 1, 10: 1}\n",
      "58 200 {19: 51, 0: 50, 18: 47, 5: 42, 16: 38, 12: 36, 6: 36, 13: 34, 8: 28, 11: 27, 17: 26, 15: 24, 7: 16, 14: 14, 4: 8, 1: 7, 2: 6, 9: 5, 3: 3, 10: 2}\n",
      "16 200 {15: 62, 2: 51, 14: 37, 5: 33, 6: 32, 0: 30, 1: 30, 7: 29, 12: 28, 4: 20, 19: 20, 16: 20, 18: 19, 10: 18, 8: 17, 17: 14, 11: 14, 13: 11, 9: 10, 3: 5}\n",
      "20000 20000\n"
     ]
    },
    {
     "name": "stderr",
     "output_type": "stream",
     "text": [
      "Epoch 1/10: 100%|██████████| 32/32 [00:14<00:00,  2.28 batch/s, loss=4.4172]\n",
      "Validating: 100%|██████████| 8/8 [00:01<00:00,  5.68 batch/s]\n"
     ]
    },
    {
     "name": "stdout",
     "output_type": "stream",
     "text": [
      "\u001b[1m\u001b[36mBest valid accuracy improved from 0.00% to 3.55%. Saving checkpoint...\n",
      "\u001b[0m"
     ]
    },
    {
     "name": "stderr",
     "output_type": "stream",
     "text": [
      "Epoch 2/10: 100%|██████████| 32/32 [00:14<00:00,  2.27 batch/s, loss=3.4778]\n",
      "Validating: 100%|██████████| 8/8 [00:01<00:00,  5.66 batch/s]\n"
     ]
    },
    {
     "name": "stdout",
     "output_type": "stream",
     "text": [
      "\u001b[1m\u001b[36mBest valid accuracy improved from 3.55% to 15.80%. Saving checkpoint...\n",
      "\u001b[0m"
     ]
    },
    {
     "name": "stderr",
     "output_type": "stream",
     "text": [
      "Epoch 3/10: 100%|██████████| 32/32 [00:14<00:00,  2.28 batch/s, loss=2.9769]\n",
      "Validating: 100%|██████████| 8/8 [00:01<00:00,  5.65 batch/s]\n"
     ]
    },
    {
     "name": "stdout",
     "output_type": "stream",
     "text": [
      "\u001b[1m\u001b[36mBest valid accuracy improved from 15.80% to 16.80%. Saving checkpoint...\n",
      "\u001b[0m"
     ]
    },
    {
     "name": "stderr",
     "output_type": "stream",
     "text": [
      "Epoch 4/10: 100%|██████████| 32/32 [00:14<00:00,  2.28 batch/s, loss=2.6458]\n",
      "Validating: 100%|██████████| 8/8 [00:01<00:00,  5.64 batch/s]\n",
      "Epoch 5/10: 100%|██████████| 32/32 [00:14<00:00,  2.28 batch/s, loss=2.3308]\n",
      "Validating: 100%|██████████| 8/8 [00:01<00:00,  5.66 batch/s]\n"
     ]
    },
    {
     "name": "stdout",
     "output_type": "stream",
     "text": [
      "\u001b[1m\u001b[36mBest valid accuracy improved from 16.80% to 18.52%. Saving checkpoint...\n",
      "\u001b[0m"
     ]
    },
    {
     "name": "stderr",
     "output_type": "stream",
     "text": [
      "Epoch 6/10: 100%|██████████| 32/32 [00:14<00:00,  2.28 batch/s, loss=2.0232]\n",
      "Validating: 100%|██████████| 8/8 [00:01<00:00,  5.67 batch/s]\n"
     ]
    },
    {
     "name": "stdout",
     "output_type": "stream",
     "text": [
      "\u001b[1m\u001b[36mBest valid accuracy improved from 18.52% to 22.02%. Saving checkpoint...\n",
      "\u001b[0m"
     ]
    },
    {
     "name": "stderr",
     "output_type": "stream",
     "text": [
      "Epoch 7/10: 100%|██████████| 32/32 [00:14<00:00,  2.28 batch/s, loss=1.7291]\n",
      "Validating: 100%|██████████| 8/8 [00:01<00:00,  5.65 batch/s]\n"
     ]
    },
    {
     "name": "stdout",
     "output_type": "stream",
     "text": [
      "\u001b[1m\u001b[36mBest valid accuracy improved from 22.02% to 22.43%. Saving checkpoint...\n",
      "\u001b[0m"
     ]
    },
    {
     "name": "stderr",
     "output_type": "stream",
     "text": [
      "Epoch 8/10: 100%|██████████| 32/32 [00:14<00:00,  2.28 batch/s, loss=1.4380]\n",
      "Validating: 100%|██████████| 8/8 [00:01<00:00,  5.66 batch/s]\n",
      "Epoch 9/10: 100%|██████████| 32/32 [00:14<00:00,  2.28 batch/s, loss=1.2717]\n",
      "Validating: 100%|██████████| 8/8 [00:01<00:00,  5.64 batch/s]\n",
      "Epoch 10/10: 100%|██████████| 32/32 [00:14<00:00,  2.28 batch/s, loss=1.0350]\n",
      "Validating: 100%|██████████| 8/8 [00:01<00:00,  5.63 batch/s]\n"
     ]
    },
    {
     "name": "stdout",
     "output_type": "stream",
     "text": [
      "\u001b[1m\u001b[36mBest valid accuracy improved from 22.43% to 23.30%. Saving checkpoint...\n",
      "\u001b[0m"
     ]
    },
    {
     "name": "stderr",
     "output_type": "stream",
     "text": [
      "Testing: 100%|██████████| 20/20 [00:03<00:00,  5.69 batch/s]\n"
     ]
    },
    {
     "name": "stdout",
     "output_type": "stream",
     "text": [
      "\u001b[1m\u001b[95mRunning run r50,ep:10,bs:512,clip:None,nc:20,mp:0.01,fe/5\n",
      "\u001b[0m19 250 {19: 66, 0: 51, 5: 50, 12: 49, 6: 45, 8: 43, 13: 31, 18: 31, 17: 25, 7: 25, 11: 22, 16: 22, 1: 10, 4: 9, 9: 6, 15: 6, 14: 5, 10: 2, 2: 1, 3: 1}\n",
      "29 250 {2: 78, 10: 61, 3: 38, 0: 30, 15: 29, 8: 26, 5: 25, 18: 24, 13: 23, 19: 21, 16: 21, 4: 18, 14: 17, 1: 15, 9: 14, 17: 14, 6: 13, 7: 12, 12: 12, 11: 9}\n",
      "0 250 {15: 50, 2: 41, 14: 39, 4: 39, 13: 35, 8: 33, 16: 30, 5: 29, 18: 25, 1: 22, 0: 22, 11: 20, 7: 16, 9: 16, 6: 16, 19: 16, 10: 15, 17: 13, 12: 13, 3: 10}\n",
      "11 250 {17: 46, 8: 42, 4: 39, 13: 34, 0: 31, 18: 31, 5: 30, 12: 27, 11: 27, 7: 24, 10: 24, 9: 23, 2: 21, 6: 21, 1: 19, 14: 18, 19: 17, 15: 11, 16: 8, 3: 7}\n",
      "1 250 {9: 82, 13: 82, 4: 77, 8: 48, 0: 41, 11: 38, 3: 26, 6: 25, 12: 19, 5: 17, 19: 10, 18: 8, 17: 8, 14: 6, 7: 3, 16: 3, 15: 3, 1: 2, 10: 1, 2: 1}\n",
      "86 250 {2: 85, 15: 72, 10: 64, 14: 56, 1: 26, 18: 25, 7: 25, 16: 23, 8: 17, 5: 17, 0: 15, 19: 12, 4: 11, 13: 10, 6: 9, 9: 9, 17: 8, 11: 7, 12: 6, 3: 3}\n",
      "90 250 {19: 64, 6: 52, 0: 49, 12: 42, 8: 41, 18: 40, 5: 37, 16: 33, 7: 26, 17: 20, 1: 19, 13: 19, 4: 16, 11: 14, 9: 12, 14: 11, 15: 3, 2: 1, 3: 1}\n",
      "28 250 {14: 54, 1: 38, 7: 35, 3: 33, 2: 32, 9: 31, 4: 30, 8: 26, 5: 25, 0: 23, 10: 23, 17: 21, 15: 19, 13: 19, 19: 17, 12: 16, 6: 16, 18: 16, 16: 14, 11: 12}\n",
      "23 250 {5: 65, 17: 50, 7: 48, 11: 41, 18: 40, 19: 40, 1: 32, 16: 26, 12: 25, 14: 25, 6: 20, 0: 20, 13: 19, 15: 15, 4: 10, 8: 8, 2: 5, 9: 5, 3: 3, 10: 3}\n",
      "31 250 {5: 58, 6: 58, 19: 57, 18: 55, 12: 49, 0: 47, 8: 26, 16: 22, 11: 21, 1: 21, 7: 21, 13: 19, 17: 12, 14: 10, 4: 10, 15: 7, 9: 5, 2: 2}\n",
      "39 250 {5: 50, 18: 45, 10: 43, 19: 37, 16: 35, 0: 32, 11: 31, 6: 29, 2: 29, 13: 26, 12: 24, 14: 20, 8: 20, 15: 19, 17: 15, 7: 13, 4: 12, 9: 9, 1: 6, 3: 5}\n",
      "96 250 {5: 60, 12: 46, 17: 45, 7: 41, 0: 40, 18: 38, 19: 37, 6: 31, 11: 30, 8: 29, 13: 26, 1: 17, 4: 17, 16: 16, 14: 8, 15: 8, 9: 6, 3: 2, 2: 2, 10: 1}\n",
      "82 250 {0: 63, 8: 57, 5: 48, 12: 40, 19: 37, 13: 32, 7: 28, 4: 27, 6: 26, 18: 26, 17: 22, 1: 19, 14: 14, 15: 14, 11: 13, 9: 11, 16: 10, 2: 7, 3: 4, 10: 2}\n",
      "17 250 {19: 67, 5: 66, 7: 57, 18: 56, 17: 53, 1: 38, 11: 30, 12: 25, 6: 25, 16: 24, 0: 23, 14: 15, 8: 10, 4: 5, 13: 4, 15: 1, 9: 1}\n",
      "71 250 {18: 71, 5: 60, 7: 52, 17: 48, 19: 41, 16: 40, 11: 36, 13: 24, 1: 23, 0: 19, 12: 16, 4: 15, 14: 14, 9: 10, 8: 10, 6: 9, 3: 6, 15: 4, 2: 2}\n",
      "8 250 {15: 44, 18: 40, 5: 39, 12: 38, 0: 36, 19: 34, 6: 33, 17: 33, 14: 27, 2: 25, 16: 23, 7: 23, 11: 23, 8: 20, 13: 17, 1: 16, 4: 10, 10: 9, 3: 8, 9: 2}\n",
      "97 250 {0: 59, 8: 56, 13: 52, 4: 47, 12: 33, 6: 31, 9: 29, 5: 28, 11: 25, 19: 24, 7: 20, 18: 18, 16: 16, 14: 15, 1: 15, 15: 12, 17: 9, 3: 6, 2: 5}\n",
      "80 250 {5: 69, 12: 67, 19: 46, 0: 44, 8: 41, 6: 35, 18: 33, 13: 31, 7: 27, 4: 22, 17: 21, 11: 17, 1: 17, 14: 14, 16: 10, 15: 5, 9: 1}\n",
      "74 250 {13: 57, 8: 54, 0: 48, 5: 40, 4: 39, 12: 39, 19: 32, 6: 31, 18: 30, 9: 20, 11: 19, 14: 15, 16: 13, 2: 12, 17: 12, 15: 11, 10: 10, 1: 8, 7: 6, 3: 4}\n",
      "59 250 {7: 82, 17: 54, 5: 52, 19: 38, 6: 34, 12: 32, 1: 31, 18: 27, 0: 26, 13: 21, 16: 20, 11: 20, 14: 19, 8: 15, 15: 10, 4: 8, 2: 6, 10: 4, 9: 1}\n",
      "70 250 {13: 69, 4: 65, 9: 56, 8: 54, 0: 41, 5: 34, 12: 28, 11: 24, 3: 22, 19: 17, 6: 14, 18: 13, 7: 12, 17: 11, 14: 10, 16: 9, 15: 8, 1: 5, 2: 5, 10: 3}\n",
      "87 250 {8: 45, 4: 38, 13: 33, 5: 32, 19: 30, 2: 29, 16: 28, 15: 28, 0: 27, 17: 26, 14: 25, 11: 24, 18: 23, 1: 20, 9: 18, 7: 17, 12: 16, 10: 16, 6: 16, 3: 9}\n",
      "84 250 {5: 38, 8: 37, 0: 37, 11: 36, 19: 35, 6: 35, 13: 32, 12: 31, 18: 30, 7: 29, 10: 25, 17: 23, 16: 21, 4: 20, 2: 16, 1: 14, 9: 13, 14: 13, 15: 11, 3: 4}\n",
      "64 250 {4: 77, 8: 61, 13: 58, 9: 47, 0: 42, 5: 29, 12: 28, 11: 28, 19: 22, 3: 22, 18: 21, 6: 17, 17: 15, 7: 10, 14: 7, 16: 6, 15: 4, 1: 4, 2: 2}\n",
      "52 250 {7: 77, 5: 70, 19: 62, 17: 52, 18: 50, 1: 33, 12: 27, 0: 25, 6: 25, 16: 24, 11: 16, 14: 14, 8: 9, 13: 5, 4: 4, 15: 4, 10: 1, 3: 1, 2: 1}\n",
      "42 250 {0: 70, 8: 61, 13: 58, 12: 58, 6: 40, 4: 38, 5: 30, 11: 26, 19: 21, 9: 17, 7: 16, 18: 16, 17: 11, 16: 10, 14: 10, 3: 9, 15: 4, 1: 3, 2: 2}\n",
      "47 250 {5: 71, 17: 60, 0: 42, 7: 42, 11: 42, 18: 30, 12: 29, 13: 28, 6: 26, 1: 23, 8: 23, 19: 21, 4: 15, 16: 10, 15: 9, 2: 9, 14: 7, 10: 6, 9: 5, 3: 2}\n",
      "65 250 {5: 56, 0: 51, 8: 48, 13: 44, 12: 37, 6: 36, 19: 32, 11: 32, 4: 30, 18: 27, 9: 20, 7: 19, 17: 16, 1: 14, 16: 14, 14: 6, 15: 6, 3: 5, 2: 5, 10: 2}\n",
      "21 250 {13: 54, 17: 44, 8: 42, 4: 42, 11: 38, 0: 37, 12: 33, 7: 30, 5: 30, 9: 29, 18: 26, 6: 25, 19: 22, 1: 16, 3: 11, 16: 9, 14: 8, 15: 3, 2: 1}\n",
      "22 250 {15: 60, 2: 40, 14: 38, 5: 35, 1: 32, 19: 29, 18: 25, 4: 25, 8: 24, 0: 23, 9: 22, 17: 22, 12: 20, 6: 20, 10: 18, 16: 17, 13: 15, 7: 13, 11: 13, 3: 9}\n",
      "81 250 {19: 73, 12: 50, 5: 50, 0: 49, 18: 45, 6: 42, 16: 30, 17: 27, 8: 25, 13: 22, 7: 21, 4: 19, 11: 17, 14: 10, 1: 9, 3: 4, 9: 3, 15: 3, 2: 1}\n",
      "24 250 {10: 189, 2: 66, 18: 43, 14: 39, 15: 33, 19: 21, 5: 20, 16: 19, 1: 17, 6: 13, 7: 11, 12: 10, 0: 8, 8: 5, 4: 3, 17: 2, 13: 1}\n",
      "78 250 {12: 54, 19: 52, 0: 52, 18: 52, 5: 39, 13: 36, 8: 33, 4: 27, 6: 25, 16: 20, 9: 18, 11: 15, 1: 15, 14: 13, 15: 11, 7: 10, 10: 9, 2: 7, 3: 6, 17: 6}\n",
      "45 250 {8: 48, 13: 46, 4: 37, 11: 37, 15: 33, 18: 30, 0: 29, 9: 29, 3: 25, 19: 22, 6: 21, 12: 21, 5: 20, 2: 20, 16: 16, 7: 14, 14: 14, 10: 13, 1: 13, 17: 12}\n",
      "49 250 {17: 71, 11: 57, 5: 57, 7: 45, 19: 37, 18: 35, 6: 29, 13: 28, 12: 28, 0: 24, 1: 22, 8: 21, 16: 16, 4: 13, 15: 6, 14: 4, 9: 4, 2: 2, 3: 1}\n",
      "56 250 {7: 76, 5: 54, 17: 49, 1: 46, 19: 40, 18: 39, 11: 31, 14: 25, 12: 24, 6: 23, 16: 22, 0: 22, 8: 18, 13: 12, 15: 10, 4: 4, 2: 3, 9: 2}\n",
      "76 250 {7: 100, 1: 65, 5: 57, 17: 49, 18: 30, 14: 26, 12: 26, 11: 26, 13: 22, 0: 21, 8: 21, 6: 15, 19: 13, 4: 8, 15: 7, 9: 4, 2: 4, 16: 3, 3: 3}\n",
      "89 250 {19: 63, 5: 47, 0: 44, 18: 44, 6: 44, 12: 43, 17: 36, 16: 34, 7: 32, 11: 23, 13: 20, 8: 17, 1: 14, 2: 8, 4: 8, 14: 8, 9: 7, 15: 7, 3: 1}\n",
      "73 250 {0: 68, 13: 56, 4: 44, 5: 44, 9: 44, 8: 42, 19: 30, 18: 29, 12: 29, 3: 28, 11: 24, 6: 21, 17: 10, 1: 7, 16: 7, 14: 7, 7: 5, 15: 3, 2: 2}\n",
      "14 250 {0: 60, 13: 56, 12: 45, 4: 45, 5: 42, 8: 41, 19: 32, 6: 27, 11: 25, 18: 21, 16: 19, 1: 16, 17: 16, 9: 13, 7: 13, 14: 7, 15: 7, 3: 6, 10: 5, 2: 4}\n",
      "9 250 {7: 62, 10: 47, 1: 46, 14: 44, 2: 40, 19: 31, 18: 28, 5: 28, 15: 23, 17: 18, 13: 17, 0: 17, 4: 16, 11: 15, 8: 13, 6: 13, 3: 13, 12: 11, 16: 9, 9: 9}\n",
      "6 250 {5: 54, 0: 47, 18: 37, 13: 37, 12: 37, 8: 36, 6: 34, 19: 32, 7: 29, 4: 21, 16: 20, 11: 20, 14: 14, 15: 14, 2: 13, 9: 13, 17: 12, 1: 12, 10: 10, 3: 8}\n",
      "20 250 {10: 146, 2: 95, 15: 81, 14: 47, 18: 22, 16: 17, 7: 15, 19: 14, 5: 12, 1: 11, 0: 8, 12: 6, 17: 6, 6: 5, 11: 5, 13: 4, 8: 4, 3: 1, 4: 1}\n",
      "98 250 {0: 48, 7: 42, 4: 39, 8: 36, 13: 35, 9: 35, 14: 32, 1: 31, 11: 29, 17: 26, 12: 24, 6: 20, 5: 20, 19: 18, 18: 17, 3: 15, 2: 14, 15: 14, 10: 4, 16: 1}\n",
      "36 250 {0: 49, 18: 47, 19: 41, 13: 38, 12: 37, 5: 34, 6: 32, 14: 31, 8: 29, 1: 27, 16: 26, 4: 25, 17: 19, 2: 17, 11: 15, 7: 13, 9: 8, 15: 8, 10: 3, 3: 1}\n",
      "55 250 {0: 49, 19: 49, 5: 48, 18: 45, 12: 41, 8: 34, 6: 29, 13: 28, 4: 21, 7: 21, 14: 20, 11: 19, 16: 18, 2: 17, 1: 15, 17: 15, 15: 12, 9: 11, 10: 4, 3: 4}\n",
      "72 250 {18: 58, 19: 44, 5: 44, 13: 32, 7: 30, 1: 28, 6: 28, 8: 28, 0: 28, 12: 27, 14: 26, 16: 25, 17: 25, 11: 19, 4: 16, 15: 16, 2: 13, 9: 10, 3: 3}\n",
      "43 250 {8: 73, 0: 56, 13: 51, 4: 50, 5: 41, 12: 37, 6: 37, 11: 25, 17: 22, 19: 21, 7: 19, 18: 17, 9: 16, 16: 11, 14: 7, 1: 7, 15: 5, 3: 4, 2: 1}\n",
      "51 250 {13: 79, 8: 68, 0: 67, 4: 55, 12: 46, 9: 43, 11: 32, 6: 25, 5: 22, 17: 17, 19: 8, 18: 8, 3: 7, 16: 5, 2: 4, 7: 4, 10: 3, 15: 3, 1: 2, 14: 2}\n",
      "35 250 {8: 56, 0: 42, 5: 41, 6: 37, 4: 35, 13: 32, 1: 28, 7: 28, 18: 26, 14: 25, 11: 25, 17: 23, 9: 23, 12: 21, 19: 19, 15: 9, 2: 9, 3: 7, 10: 7, 16: 7}\n",
      "83 250 {0: 41, 13: 41, 8: 40, 4: 30, 15: 30, 5: 28, 18: 28, 6: 25, 14: 25, 1: 24, 2: 23, 16: 22, 3: 22, 11: 21, 19: 20, 9: 20, 17: 19, 10: 16, 12: 16, 7: 9}\n",
      "33 250 {8: 86, 4: 67, 0: 67, 13: 64, 6: 42, 12: 36, 5: 27, 9: 25, 19: 24, 11: 19, 18: 12, 17: 10, 3: 8, 7: 6, 1: 3, 16: 3, 15: 1}\n",
      "27 250 {0: 58, 8: 54, 12: 46, 5: 44, 13: 42, 4: 42, 19: 40, 11: 34, 6: 31, 18: 28, 9: 21, 16: 17, 17: 13, 1: 12, 7: 11, 15: 3, 14: 2, 3: 1, 2: 1}\n",
      "53 250 {0: 47, 2: 46, 15: 45, 8: 40, 13: 36, 5: 31, 14: 28, 4: 25, 12: 22, 19: 21, 9: 20, 6: 19, 16: 19, 18: 17, 3: 17, 11: 17, 1: 13, 17: 13, 10: 12, 7: 12}\n",
      "92 250 {13: 80, 4: 73, 8: 64, 0: 59, 9: 57, 12: 30, 5: 26, 3: 21, 6: 18, 11: 16, 17: 14, 19: 10, 7: 8, 18: 6, 14: 5, 15: 5, 2: 4, 1: 3, 10: 1}\n",
      "50 250 {5: 49, 0: 44, 12: 39, 4: 39, 13: 36, 18: 35, 8: 34, 19: 34, 16: 23, 15: 23, 14: 19, 11: 18, 10: 17, 6: 17, 9: 15, 7: 14, 2: 13, 17: 11, 1: 10, 3: 10}\n",
      "15 250 {18: 48, 7: 43, 5: 42, 19: 38, 6: 37, 0: 33, 16: 32, 12: 30, 1: 27, 14: 26, 17: 26, 8: 24, 11: 22, 15: 19, 13: 18, 4: 14, 9: 10, 2: 6, 3: 3, 10: 2}\n",
      "18 250 {5: 63, 0: 52, 12: 52, 18: 38, 19: 35, 6: 35, 13: 33, 8: 31, 4: 24, 7: 24, 11: 22, 1: 17, 17: 17, 16: 12, 9: 11, 14: 11, 3: 8, 15: 7, 10: 6, 2: 2}\n",
      "46 250 {13: 51, 17: 45, 8: 44, 4: 41, 9: 36, 7: 34, 11: 30, 1: 28, 3: 28, 5: 27, 0: 25, 12: 23, 6: 17, 14: 17, 19: 17, 18: 13, 2: 9, 15: 7, 16: 7, 10: 1}\n",
      "75 250 {0: 67, 13: 52, 5: 50, 19: 45, 8: 43, 12: 39, 6: 30, 18: 29, 11: 25, 4: 25, 9: 21, 17: 17, 16: 16, 7: 15, 1: 7, 15: 7, 14: 6, 2: 5, 3: 1}\n",
      "38 250 {0: 57, 5: 52, 12: 50, 6: 38, 13: 38, 19: 37, 17: 36, 7: 33, 8: 31, 11: 30, 18: 24, 1: 22, 4: 12, 16: 10, 14: 8, 2: 6, 15: 6, 10: 4, 9: 3, 3: 3}\n",
      "66 250 {8: 61, 13: 55, 0: 54, 5: 49, 12: 47, 4: 40, 9: 26, 7: 24, 6: 23, 11: 22, 18: 18, 19: 18, 17: 16, 1: 11, 15: 9, 2: 8, 14: 6, 3: 6, 16: 4, 10: 3}\n",
      "77 250 {0: 56, 13: 45, 5: 43, 12: 40, 19: 39, 18: 38, 8: 35, 11: 33, 4: 32, 6: 24, 7: 21, 16: 16, 17: 16, 9: 14, 14: 13, 1: 11, 15: 9, 2: 9, 10: 4, 3: 2}\n",
      "69 250 {7: 53, 18: 47, 1: 47, 14: 39, 19: 38, 16: 33, 5: 33, 0: 29, 12: 22, 13: 21, 6: 20, 17: 20, 8: 19, 11: 16, 15: 15, 3: 12, 9: 10, 4: 10, 2: 9, 10: 7}\n",
      "95 250 {18: 64, 19: 59, 5: 43, 16: 35, 15: 34, 12: 32, 14: 30, 1: 30, 0: 26, 6: 25, 8: 20, 13: 18, 7: 16, 2: 16, 4: 13, 17: 12, 11: 12, 10: 11, 9: 4}\n",
      "99 250 {3: 44, 15: 40, 0: 37, 8: 34, 14: 32, 4: 31, 5: 30, 2: 30, 18: 29, 9: 28, 10: 27, 19: 26, 16: 26, 13: 23, 12: 21, 6: 18, 1: 9, 11: 6, 17: 5, 7: 4}\n",
      "93 250 {0: 50, 13: 45, 18: 42, 19: 42, 4: 41, 12: 39, 5: 36, 8: 34, 16: 26, 6: 21, 11: 19, 9: 19, 2: 14, 17: 14, 1: 13, 15: 12, 3: 9, 7: 8, 14: 8, 10: 8}\n",
      "4 250 {0: 70, 13: 53, 12: 47, 5: 42, 8: 35, 19: 35, 6: 33, 4: 28, 18: 28, 11: 24, 17: 14, 15: 14, 16: 14, 9: 13, 7: 12, 2: 12, 14: 11, 1: 10, 10: 5}\n",
      "61 250 {14: 44, 15: 43, 5: 42, 2: 39, 18: 35, 12: 33, 19: 32, 10: 30, 8: 28, 0: 27, 6: 26, 1: 23, 16: 22, 13: 18, 4: 17, 9: 11, 7: 10, 17: 8, 11: 7, 3: 5}\n",
      "94 250 {5: 52, 11: 51, 17: 42, 0: 40, 7: 39, 1: 37, 8: 29, 14: 28, 4: 25, 18: 22, 12: 22, 13: 20, 19: 20, 2: 18, 10: 14, 9: 11, 16: 11, 6: 11, 3: 5, 15: 3}\n",
      "68 250 {19: 95, 6: 76, 18: 64, 5: 59, 16: 49, 8: 33, 12: 32, 0: 21, 7: 18, 17: 15, 1: 13, 13: 10, 4: 6, 11: 4, 15: 3, 14: 2}\n",
      "34 250 {0: 61, 13: 52, 8: 52, 12: 47, 5: 46, 4: 38, 19: 32, 6: 29, 18: 22, 11: 22, 16: 17, 7: 16, 9: 14, 17: 12, 1: 11, 14: 11, 15: 9, 2: 5, 10: 2, 3: 2}\n",
      "32 250 {5: 43, 19: 41, 7: 36, 12: 34, 1: 33, 0: 32, 18: 32, 16: 29, 17: 28, 6: 26, 15: 25, 13: 23, 11: 23, 8: 22, 2: 20, 14: 20, 4: 14, 9: 12, 10: 4, 3: 3}\n",
      "88 250 {0: 61, 8: 59, 13: 53, 4: 53, 5: 44, 12: 41, 6: 28, 7: 24, 11: 23, 19: 20, 18: 20, 9: 17, 1: 12, 17: 11, 16: 9, 14: 8, 2: 7, 3: 5, 15: 4, 10: 1}\n",
      "67 250 {18: 63, 19: 51, 5: 48, 0: 40, 13: 31, 16: 30, 14: 27, 1: 26, 12: 24, 4: 23, 7: 21, 8: 21, 6: 19, 9: 18, 11: 17, 15: 13, 17: 12, 2: 8, 3: 6, 10: 2}\n",
      "30 250 {5: 63, 18: 57, 19: 51, 0: 45, 12: 36, 8: 34, 13: 29, 11: 25, 6: 24, 14: 23, 7: 23, 4: 23, 1: 20, 17: 17, 16: 15, 15: 9, 9: 4, 2: 1, 3: 1}\n",
      "62 250 {13: 89, 4: 76, 8: 66, 0: 64, 9: 35, 11: 31, 12: 30, 5: 23, 3: 22, 6: 17, 17: 14, 19: 11, 18: 7, 16: 4, 14: 4, 1: 3, 7: 3, 2: 1}\n",
      "63 250 {13: 68, 4: 59, 5: 59, 0: 41, 8: 36, 19: 36, 9: 32, 11: 30, 6: 26, 18: 23, 17: 21, 12: 20, 7: 17, 14: 9, 1: 6, 15: 6, 16: 5, 2: 4, 3: 1, 10: 1}\n",
      "40 250 {14: 54, 2: 41, 10: 37, 9: 31, 1: 29, 4: 28, 7: 28, 13: 27, 18: 27, 8: 25, 5: 25, 0: 23, 3: 23, 11: 21, 17: 18, 6: 16, 19: 15, 15: 13, 12: 12, 16: 7}\n",
      "26 250 {4: 46, 13: 46, 5: 41, 2: 36, 9: 35, 8: 32, 0: 31, 16: 29, 15: 28, 18: 28, 12: 22, 10: 21, 19: 20, 11: 19, 6: 17, 3: 14, 7: 14, 14: 12, 1: 7, 17: 2}\n",
      "48 250 {15: 48, 0: 46, 19: 40, 12: 40, 2: 38, 18: 37, 16: 32, 6: 31, 5: 27, 17: 26, 8: 24, 11: 20, 4: 16, 14: 16, 13: 16, 7: 13, 1: 11, 10: 10, 9: 6, 3: 3}\n",
      "79 250 {18: 51, 5: 47, 19: 47, 0: 42, 12: 38, 8: 26, 7: 26, 13: 24, 6: 24, 4: 23, 16: 21, 14: 19, 9: 19, 11: 18, 1: 16, 17: 15, 3: 14, 15: 13, 2: 11, 10: 6}\n",
      "85 250 {18: 51, 7: 51, 1: 51, 19: 40, 17: 37, 16: 35, 6: 33, 5: 32, 14: 31, 12: 25, 15: 24, 0: 21, 11: 15, 8: 14, 13: 13, 2: 12, 3: 7, 4: 4, 9: 3, 10: 1}\n",
      "54 250 {13: 57, 4: 56, 9: 43, 12: 41, 8: 41, 0: 41, 5: 33, 11: 28, 3: 25, 17: 19, 18: 19, 6: 18, 7: 16, 19: 14, 14: 12, 2: 10, 15: 9, 1: 7, 10: 6, 16: 5}\n",
      "44 250 {0: 49, 19: 48, 5: 45, 13: 41, 8: 38, 6: 35, 12: 33, 18: 32, 4: 30, 11: 24, 16: 23, 14: 19, 9: 17, 7: 15, 1: 13, 17: 11, 2: 8, 10: 7, 3: 6, 15: 6}\n",
      "7 250 {5: 58, 18: 43, 19: 41, 10: 39, 16: 36, 8: 34, 1: 30, 14: 29, 15: 27, 12: 25, 2: 23, 6: 21, 7: 20, 0: 20, 13: 15, 4: 11, 9: 10, 17: 9, 11: 8, 3: 1}\n",
      "12 250 {5: 63, 19: 55, 18: 49, 17: 46, 7: 45, 1: 35, 16: 31, 0: 30, 6: 28, 12: 26, 11: 20, 13: 18, 9: 14, 8: 12, 14: 11, 4: 9, 15: 5, 3: 2, 2: 1}\n",
      "2 250 {8: 47, 4: 46, 0: 40, 19: 35, 12: 34, 5: 33, 13: 30, 18: 28, 6: 24, 14: 24, 11: 23, 17: 23, 1: 21, 2: 20, 9: 20, 16: 19, 7: 17, 15: 10, 10: 5, 3: 1}\n",
      "41 250 {2: 142, 10: 70, 15: 33, 5: 31, 12: 29, 0: 27, 18: 19, 17: 18, 7: 18, 14: 18, 19: 15, 13: 14, 8: 14, 11: 13, 6: 12, 1: 12, 4: 7, 16: 6, 9: 2}\n",
      "37 250 {19: 89, 18: 57, 6: 50, 5: 44, 0: 43, 12: 37, 16: 34, 8: 29, 7: 26, 17: 26, 13: 19, 11: 12, 1: 12, 15: 9, 4: 5, 14: 4, 2: 2, 9: 1, 10: 1}\n",
      "13 250 {12: 58, 19: 53, 0: 48, 18: 45, 5: 42, 6: 40, 8: 31, 17: 30, 13: 25, 16: 23, 11: 22, 7: 19, 4: 18, 1: 13, 15: 11, 9: 7, 14: 6, 2: 5, 10: 2, 3: 2}\n",
      "25 250 {16: 46, 19: 42, 6: 41, 0: 36, 15: 33, 12: 31, 5: 30, 8: 27, 4: 27, 18: 25, 17: 24, 13: 22, 7: 19, 2: 19, 11: 17, 14: 15, 9: 15, 1: 13, 10: 12, 3: 6}\n",
      "10 250 {14: 36, 4: 35, 15: 34, 18: 32, 0: 32, 19: 32, 7: 31, 2: 29, 8: 28, 1: 25, 16: 25, 13: 24, 5: 23, 6: 20, 10: 19, 12: 18, 3: 15, 9: 15, 11: 15, 17: 12}\n",
      "57 250 {2: 55, 10: 42, 15: 39, 13: 32, 0: 30, 8: 27, 4: 27, 19: 25, 5: 24, 14: 24, 12: 22, 1: 21, 16: 20, 9: 19, 18: 19, 11: 19, 17: 16, 3: 15, 7: 14, 6: 10}\n",
      "5 250 {19: 62, 6: 42, 18: 37, 12: 36, 15: 36, 5: 35, 11: 35, 0: 33, 16: 33, 2: 21, 13: 21, 7: 18, 4: 18, 8: 17, 17: 16, 14: 16, 1: 9, 10: 9, 9: 5, 3: 1}\n",
      "60 250 {17: 69, 5: 65, 18: 62, 7: 55, 1: 42, 11: 39, 19: 36, 16: 30, 12: 22, 14: 18, 0: 15, 6: 12, 13: 12, 4: 6, 8: 5, 15: 5, 9: 4, 3: 2, 2: 1}\n",
      "91 250 {2: 62, 10: 53, 0: 45, 4: 40, 13: 39, 15: 36, 9: 33, 8: 29, 12: 24, 5: 24, 11: 16, 3: 15, 18: 15, 16: 15, 19: 15, 6: 15, 17: 7, 14: 7, 7: 6, 1: 4}\n",
      "3 250 {0: 50, 5: 48, 18: 40, 12: 40, 19: 40, 7: 35, 13: 35, 8: 32, 6: 30, 17: 24, 11: 24, 1: 24, 4: 18, 14: 17, 9: 14, 16: 13, 15: 11, 2: 3, 3: 1, 10: 1}\n",
      "58 250 {19: 51, 0: 50, 18: 47, 5: 42, 16: 38, 12: 36, 6: 36, 13: 34, 8: 28, 11: 27, 17: 26, 15: 24, 7: 16, 14: 14, 4: 8, 1: 7, 2: 6, 9: 5, 3: 3, 10: 2}\n",
      "16 250 {15: 62, 2: 51, 14: 37, 5: 33, 6: 32, 0: 30, 1: 30, 7: 29, 12: 28, 4: 20, 19: 20, 16: 20, 18: 19, 10: 18, 8: 17, 17: 14, 11: 14, 13: 11, 9: 10, 3: 5}\n",
      "25000 24871\n"
     ]
    },
    {
     "name": "stderr",
     "output_type": "stream",
     "text": [
      "Epoch 1/10: 100%|██████████| 40/40 [00:17<00:00,  2.27 batch/s, loss=4.3526]\n",
      "Validating: 100%|██████████| 10/10 [00:01<00:00,  5.66 batch/s]\n"
     ]
    },
    {
     "name": "stdout",
     "output_type": "stream",
     "text": [
      "\u001b[1m\u001b[36mBest valid accuracy improved from 0.00% to 6.82%. Saving checkpoint...\n",
      "\u001b[0m"
     ]
    },
    {
     "name": "stderr",
     "output_type": "stream",
     "text": [
      "Epoch 2/10: 100%|██████████| 40/40 [00:17<00:00,  2.27 batch/s, loss=3.4882]\n",
      "Validating: 100%|██████████| 10/10 [00:01<00:00,  5.67 batch/s]\n"
     ]
    },
    {
     "name": "stdout",
     "output_type": "stream",
     "text": [
      "\u001b[1m\u001b[36mBest valid accuracy improved from 6.82% to 13.58%. Saving checkpoint...\n",
      "\u001b[0m"
     ]
    },
    {
     "name": "stderr",
     "output_type": "stream",
     "text": [
      "Epoch 3/10: 100%|██████████| 40/40 [00:17<00:00,  2.27 batch/s, loss=3.2617]\n",
      "Validating: 100%|██████████| 10/10 [00:01<00:00,  5.66 batch/s]\n"
     ]
    },
    {
     "name": "stdout",
     "output_type": "stream",
     "text": [
      "\u001b[1m\u001b[36mBest valid accuracy improved from 13.58% to 16.48%. Saving checkpoint...\n",
      "\u001b[0m"
     ]
    },
    {
     "name": "stderr",
     "output_type": "stream",
     "text": [
      "Epoch 4/10: 100%|██████████| 40/40 [00:17<00:00,  2.27 batch/s, loss=2.9937]\n",
      "Validating: 100%|██████████| 10/10 [00:01<00:00,  5.67 batch/s]\n"
     ]
    },
    {
     "name": "stdout",
     "output_type": "stream",
     "text": [
      "\u001b[1m\u001b[36mBest valid accuracy improved from 16.48% to 18.08%. Saving checkpoint...\n",
      "\u001b[0m"
     ]
    },
    {
     "name": "stderr",
     "output_type": "stream",
     "text": [
      "Epoch 5/10: 100%|██████████| 40/40 [00:17<00:00,  2.27 batch/s, loss=2.7586]\n",
      "Validating: 100%|██████████| 10/10 [00:01<00:00,  5.68 batch/s]\n"
     ]
    },
    {
     "name": "stdout",
     "output_type": "stream",
     "text": [
      "\u001b[1m\u001b[36mBest valid accuracy improved from 18.08% to 19.96%. Saving checkpoint...\n",
      "\u001b[0m"
     ]
    },
    {
     "name": "stderr",
     "output_type": "stream",
     "text": [
      "Epoch 6/10: 100%|██████████| 40/40 [00:17<00:00,  2.26 batch/s, loss=2.6667]\n",
      "Validating: 100%|██████████| 10/10 [00:01<00:00,  5.67 batch/s]\n",
      "Epoch 7/10: 100%|██████████| 40/40 [00:17<00:00,  2.27 batch/s, loss=2.7648]\n",
      "Validating: 100%|██████████| 10/10 [00:01<00:00,  5.67 batch/s]\n"
     ]
    },
    {
     "name": "stdout",
     "output_type": "stream",
     "text": [
      "\u001b[1m\u001b[36mBest valid accuracy improved from 19.96% to 24.44%. Saving checkpoint...\n",
      "\u001b[0m"
     ]
    },
    {
     "name": "stderr",
     "output_type": "stream",
     "text": [
      "Epoch 8/10: 100%|██████████| 40/40 [00:17<00:00,  2.27 batch/s, loss=2.3764]\n",
      "Validating: 100%|██████████| 10/10 [00:01<00:00,  5.67 batch/s]\n"
     ]
    },
    {
     "name": "stdout",
     "output_type": "stream",
     "text": [
      "\u001b[1m\u001b[36mBest valid accuracy improved from 24.44% to 26.16%. Saving checkpoint...\n",
      "\u001b[0m"
     ]
    },
    {
     "name": "stderr",
     "output_type": "stream",
     "text": [
      "Epoch 9/10: 100%|██████████| 40/40 [00:17<00:00,  2.26 batch/s, loss=2.0211]\n",
      "Validating: 100%|██████████| 10/10 [00:01<00:00,  5.68 batch/s]\n"
     ]
    },
    {
     "name": "stdout",
     "output_type": "stream",
     "text": [
      "\u001b[1m\u001b[36mBest valid accuracy improved from 26.16% to 27.04%. Saving checkpoint...\n",
      "\u001b[0m"
     ]
    },
    {
     "name": "stderr",
     "output_type": "stream",
     "text": [
      "Epoch 10/10: 100%|██████████| 40/40 [00:17<00:00,  2.27 batch/s, loss=1.8030]\n",
      "Validating: 100%|██████████| 10/10 [00:01<00:00,  5.68 batch/s]\n"
     ]
    },
    {
     "name": "stdout",
     "output_type": "stream",
     "text": [
      "\u001b[1m\u001b[36mBest valid accuracy improved from 27.04% to 27.14%. Saving checkpoint...\n",
      "\u001b[0m"
     ]
    },
    {
     "name": "stderr",
     "output_type": "stream",
     "text": [
      "Testing: 100%|██████████| 20/20 [00:03<00:00,  5.70 batch/s]\n"
     ]
    },
    {
     "name": "stdout",
     "output_type": "stream",
     "text": [
      "\u001b[1m\u001b[95mRunning run r50,ep:10,bs:512,clip:None,nc:20,mp:0.01,fe/6\n",
      "\u001b[0m19 300 {19: 66, 0: 51, 5: 50, 12: 49, 6: 45, 8: 43, 13: 31, 18: 31, 17: 25, 7: 25, 11: 22, 16: 22, 1: 10, 4: 9, 9: 6, 15: 6, 14: 5, 10: 2, 2: 1, 3: 1}\n",
      "29 300 {2: 78, 10: 61, 3: 38, 0: 30, 15: 29, 8: 26, 5: 25, 18: 24, 13: 23, 19: 21, 16: 21, 4: 18, 14: 17, 1: 15, 9: 14, 17: 14, 6: 13, 7: 12, 12: 12, 11: 9}\n",
      "0 300 {15: 50, 2: 41, 14: 39, 4: 39, 13: 35, 8: 33, 16: 30, 5: 29, 18: 25, 1: 22, 0: 22, 11: 20, 7: 16, 9: 16, 6: 16, 19: 16, 10: 15, 17: 13, 12: 13, 3: 10}\n",
      "11 300 {17: 46, 8: 42, 4: 39, 13: 34, 0: 31, 18: 31, 5: 30, 12: 27, 11: 27, 7: 24, 10: 24, 9: 23, 2: 21, 6: 21, 1: 19, 14: 18, 19: 17, 15: 11, 16: 8, 3: 7}\n",
      "1 300 {9: 82, 13: 82, 4: 77, 8: 48, 0: 41, 11: 38, 3: 26, 6: 25, 12: 19, 5: 17, 19: 10, 18: 8, 17: 8, 14: 6, 7: 3, 16: 3, 15: 3, 1: 2, 10: 1, 2: 1}\n",
      "86 300 {2: 85, 15: 72, 10: 64, 14: 56, 1: 26, 18: 25, 7: 25, 16: 23, 8: 17, 5: 17, 0: 15, 19: 12, 4: 11, 13: 10, 6: 9, 9: 9, 17: 8, 11: 7, 12: 6, 3: 3}\n",
      "90 300 {19: 64, 6: 52, 0: 49, 12: 42, 8: 41, 18: 40, 5: 37, 16: 33, 7: 26, 17: 20, 1: 19, 13: 19, 4: 16, 11: 14, 9: 12, 14: 11, 15: 3, 2: 1, 3: 1}\n",
      "28 300 {14: 54, 1: 38, 7: 35, 3: 33, 2: 32, 9: 31, 4: 30, 8: 26, 5: 25, 0: 23, 10: 23, 17: 21, 15: 19, 13: 19, 19: 17, 12: 16, 6: 16, 18: 16, 16: 14, 11: 12}\n",
      "23 300 {5: 65, 17: 50, 7: 48, 11: 41, 18: 40, 19: 40, 1: 32, 16: 26, 12: 25, 14: 25, 6: 20, 0: 20, 13: 19, 15: 15, 4: 10, 8: 8, 2: 5, 9: 5, 3: 3, 10: 3}\n",
      "31 300 {5: 58, 6: 58, 19: 57, 18: 55, 12: 49, 0: 47, 8: 26, 16: 22, 11: 21, 1: 21, 7: 21, 13: 19, 17: 12, 14: 10, 4: 10, 15: 7, 9: 5, 2: 2}\n",
      "39 300 {5: 50, 18: 45, 10: 43, 19: 37, 16: 35, 0: 32, 11: 31, 6: 29, 2: 29, 13: 26, 12: 24, 14: 20, 8: 20, 15: 19, 17: 15, 7: 13, 4: 12, 9: 9, 1: 6, 3: 5}\n",
      "96 300 {5: 60, 12: 46, 17: 45, 7: 41, 0: 40, 18: 38, 19: 37, 6: 31, 11: 30, 8: 29, 13: 26, 1: 17, 4: 17, 16: 16, 14: 8, 15: 8, 9: 6, 3: 2, 2: 2, 10: 1}\n",
      "82 300 {0: 63, 8: 57, 5: 48, 12: 40, 19: 37, 13: 32, 7: 28, 4: 27, 6: 26, 18: 26, 17: 22, 1: 19, 14: 14, 15: 14, 11: 13, 9: 11, 16: 10, 2: 7, 3: 4, 10: 2}\n",
      "17 300 {19: 67, 5: 66, 7: 57, 18: 56, 17: 53, 1: 38, 11: 30, 12: 25, 6: 25, 16: 24, 0: 23, 14: 15, 8: 10, 4: 5, 13: 4, 15: 1, 9: 1}\n",
      "71 300 {18: 71, 5: 60, 7: 52, 17: 48, 19: 41, 16: 40, 11: 36, 13: 24, 1: 23, 0: 19, 12: 16, 4: 15, 14: 14, 9: 10, 8: 10, 6: 9, 3: 6, 15: 4, 2: 2}\n",
      "8 300 {15: 44, 18: 40, 5: 39, 12: 38, 0: 36, 19: 34, 6: 33, 17: 33, 14: 27, 2: 25, 16: 23, 7: 23, 11: 23, 8: 20, 13: 17, 1: 16, 4: 10, 10: 9, 3: 8, 9: 2}\n",
      "97 300 {0: 59, 8: 56, 13: 52, 4: 47, 12: 33, 6: 31, 9: 29, 5: 28, 11: 25, 19: 24, 7: 20, 18: 18, 16: 16, 14: 15, 1: 15, 15: 12, 17: 9, 3: 6, 2: 5}\n",
      "80 300 {5: 69, 12: 67, 19: 46, 0: 44, 8: 41, 6: 35, 18: 33, 13: 31, 7: 27, 4: 22, 17: 21, 11: 17, 1: 17, 14: 14, 16: 10, 15: 5, 9: 1}\n",
      "74 300 {13: 57, 8: 54, 0: 48, 5: 40, 4: 39, 12: 39, 19: 32, 6: 31, 18: 30, 9: 20, 11: 19, 14: 15, 16: 13, 2: 12, 17: 12, 15: 11, 10: 10, 1: 8, 7: 6, 3: 4}\n",
      "59 300 {7: 82, 17: 54, 5: 52, 19: 38, 6: 34, 12: 32, 1: 31, 18: 27, 0: 26, 13: 21, 16: 20, 11: 20, 14: 19, 8: 15, 15: 10, 4: 8, 2: 6, 10: 4, 9: 1}\n",
      "70 300 {13: 69, 4: 65, 9: 56, 8: 54, 0: 41, 5: 34, 12: 28, 11: 24, 3: 22, 19: 17, 6: 14, 18: 13, 7: 12, 17: 11, 14: 10, 16: 9, 15: 8, 1: 5, 2: 5, 10: 3}\n",
      "87 300 {8: 45, 4: 38, 13: 33, 5: 32, 19: 30, 2: 29, 16: 28, 15: 28, 0: 27, 17: 26, 14: 25, 11: 24, 18: 23, 1: 20, 9: 18, 7: 17, 12: 16, 10: 16, 6: 16, 3: 9}\n",
      "84 300 {5: 38, 8: 37, 0: 37, 11: 36, 19: 35, 6: 35, 13: 32, 12: 31, 18: 30, 7: 29, 10: 25, 17: 23, 16: 21, 4: 20, 2: 16, 1: 14, 9: 13, 14: 13, 15: 11, 3: 4}\n",
      "64 300 {4: 77, 8: 61, 13: 58, 9: 47, 0: 42, 5: 29, 12: 28, 11: 28, 19: 22, 3: 22, 18: 21, 6: 17, 17: 15, 7: 10, 14: 7, 16: 6, 15: 4, 1: 4, 2: 2}\n",
      "52 300 {7: 77, 5: 70, 19: 62, 17: 52, 18: 50, 1: 33, 12: 27, 0: 25, 6: 25, 16: 24, 11: 16, 14: 14, 8: 9, 13: 5, 4: 4, 15: 4, 10: 1, 3: 1, 2: 1}\n",
      "42 300 {0: 70, 8: 61, 13: 58, 12: 58, 6: 40, 4: 38, 5: 30, 11: 26, 19: 21, 9: 17, 7: 16, 18: 16, 17: 11, 16: 10, 14: 10, 3: 9, 15: 4, 1: 3, 2: 2}\n",
      "47 300 {5: 71, 17: 60, 0: 42, 7: 42, 11: 42, 18: 30, 12: 29, 13: 28, 6: 26, 1: 23, 8: 23, 19: 21, 4: 15, 16: 10, 15: 9, 2: 9, 14: 7, 10: 6, 9: 5, 3: 2}\n",
      "65 300 {5: 56, 0: 51, 8: 48, 13: 44, 12: 37, 6: 36, 19: 32, 11: 32, 4: 30, 18: 27, 9: 20, 7: 19, 17: 16, 1: 14, 16: 14, 14: 6, 15: 6, 3: 5, 2: 5, 10: 2}\n",
      "21 300 {13: 54, 17: 44, 8: 42, 4: 42, 11: 38, 0: 37, 12: 33, 7: 30, 5: 30, 9: 29, 18: 26, 6: 25, 19: 22, 1: 16, 3: 11, 16: 9, 14: 8, 15: 3, 2: 1}\n",
      "22 300 {15: 60, 2: 40, 14: 38, 5: 35, 1: 32, 19: 29, 18: 25, 4: 25, 8: 24, 0: 23, 9: 22, 17: 22, 12: 20, 6: 20, 10: 18, 16: 17, 13: 15, 7: 13, 11: 13, 3: 9}\n",
      "81 300 {19: 73, 12: 50, 5: 50, 0: 49, 18: 45, 6: 42, 16: 30, 17: 27, 8: 25, 13: 22, 7: 21, 4: 19, 11: 17, 14: 10, 1: 9, 3: 4, 9: 3, 15: 3, 2: 1}\n",
      "24 300 {10: 189, 2: 66, 18: 43, 14: 39, 15: 33, 19: 21, 5: 20, 16: 19, 1: 17, 6: 13, 7: 11, 12: 10, 0: 8, 8: 5, 4: 3, 17: 2, 13: 1}\n",
      "78 300 {12: 54, 19: 52, 0: 52, 18: 52, 5: 39, 13: 36, 8: 33, 4: 27, 6: 25, 16: 20, 9: 18, 11: 15, 1: 15, 14: 13, 15: 11, 7: 10, 10: 9, 2: 7, 3: 6, 17: 6}\n",
      "45 300 {8: 48, 13: 46, 4: 37, 11: 37, 15: 33, 18: 30, 0: 29, 9: 29, 3: 25, 19: 22, 6: 21, 12: 21, 5: 20, 2: 20, 16: 16, 7: 14, 14: 14, 10: 13, 1: 13, 17: 12}\n",
      "49 300 {17: 71, 11: 57, 5: 57, 7: 45, 19: 37, 18: 35, 6: 29, 13: 28, 12: 28, 0: 24, 1: 22, 8: 21, 16: 16, 4: 13, 15: 6, 14: 4, 9: 4, 2: 2, 3: 1}\n",
      "56 300 {7: 76, 5: 54, 17: 49, 1: 46, 19: 40, 18: 39, 11: 31, 14: 25, 12: 24, 6: 23, 16: 22, 0: 22, 8: 18, 13: 12, 15: 10, 4: 4, 2: 3, 9: 2}\n",
      "76 300 {7: 100, 1: 65, 5: 57, 17: 49, 18: 30, 14: 26, 12: 26, 11: 26, 13: 22, 0: 21, 8: 21, 6: 15, 19: 13, 4: 8, 15: 7, 9: 4, 2: 4, 16: 3, 3: 3}\n",
      "89 300 {19: 63, 5: 47, 0: 44, 18: 44, 6: 44, 12: 43, 17: 36, 16: 34, 7: 32, 11: 23, 13: 20, 8: 17, 1: 14, 2: 8, 4: 8, 14: 8, 9: 7, 15: 7, 3: 1}\n",
      "73 300 {0: 68, 13: 56, 4: 44, 5: 44, 9: 44, 8: 42, 19: 30, 18: 29, 12: 29, 3: 28, 11: 24, 6: 21, 17: 10, 1: 7, 16: 7, 14: 7, 7: 5, 15: 3, 2: 2}\n",
      "14 300 {0: 60, 13: 56, 12: 45, 4: 45, 5: 42, 8: 41, 19: 32, 6: 27, 11: 25, 18: 21, 16: 19, 1: 16, 17: 16, 9: 13, 7: 13, 14: 7, 15: 7, 3: 6, 10: 5, 2: 4}\n",
      "9 300 {7: 62, 10: 47, 1: 46, 14: 44, 2: 40, 19: 31, 18: 28, 5: 28, 15: 23, 17: 18, 13: 17, 0: 17, 4: 16, 11: 15, 8: 13, 6: 13, 3: 13, 12: 11, 16: 9, 9: 9}\n",
      "6 300 {5: 54, 0: 47, 18: 37, 13: 37, 12: 37, 8: 36, 6: 34, 19: 32, 7: 29, 4: 21, 16: 20, 11: 20, 14: 14, 15: 14, 2: 13, 9: 13, 17: 12, 1: 12, 10: 10, 3: 8}\n",
      "20 300 {10: 146, 2: 95, 15: 81, 14: 47, 18: 22, 16: 17, 7: 15, 19: 14, 5: 12, 1: 11, 0: 8, 12: 6, 17: 6, 6: 5, 11: 5, 13: 4, 8: 4, 3: 1, 4: 1}\n",
      "98 300 {0: 48, 7: 42, 4: 39, 8: 36, 13: 35, 9: 35, 14: 32, 1: 31, 11: 29, 17: 26, 12: 24, 6: 20, 5: 20, 19: 18, 18: 17, 3: 15, 2: 14, 15: 14, 10: 4, 16: 1}\n",
      "36 300 {0: 49, 18: 47, 19: 41, 13: 38, 12: 37, 5: 34, 6: 32, 14: 31, 8: 29, 1: 27, 16: 26, 4: 25, 17: 19, 2: 17, 11: 15, 7: 13, 9: 8, 15: 8, 10: 3, 3: 1}\n",
      "55 300 {0: 49, 19: 49, 5: 48, 18: 45, 12: 41, 8: 34, 6: 29, 13: 28, 4: 21, 7: 21, 14: 20, 11: 19, 16: 18, 2: 17, 1: 15, 17: 15, 15: 12, 9: 11, 10: 4, 3: 4}\n",
      "72 300 {18: 58, 19: 44, 5: 44, 13: 32, 7: 30, 1: 28, 6: 28, 8: 28, 0: 28, 12: 27, 14: 26, 16: 25, 17: 25, 11: 19, 4: 16, 15: 16, 2: 13, 9: 10, 3: 3}\n",
      "43 300 {8: 73, 0: 56, 13: 51, 4: 50, 5: 41, 12: 37, 6: 37, 11: 25, 17: 22, 19: 21, 7: 19, 18: 17, 9: 16, 16: 11, 14: 7, 1: 7, 15: 5, 3: 4, 2: 1}\n",
      "51 300 {13: 79, 8: 68, 0: 67, 4: 55, 12: 46, 9: 43, 11: 32, 6: 25, 5: 22, 17: 17, 19: 8, 18: 8, 3: 7, 16: 5, 2: 4, 7: 4, 10: 3, 15: 3, 1: 2, 14: 2}\n",
      "35 300 {8: 56, 0: 42, 5: 41, 6: 37, 4: 35, 13: 32, 1: 28, 7: 28, 18: 26, 14: 25, 11: 25, 17: 23, 9: 23, 12: 21, 19: 19, 15: 9, 2: 9, 3: 7, 10: 7, 16: 7}\n",
      "83 300 {0: 41, 13: 41, 8: 40, 4: 30, 15: 30, 5: 28, 18: 28, 6: 25, 14: 25, 1: 24, 2: 23, 16: 22, 3: 22, 11: 21, 19: 20, 9: 20, 17: 19, 10: 16, 12: 16, 7: 9}\n",
      "33 300 {8: 86, 4: 67, 0: 67, 13: 64, 6: 42, 12: 36, 5: 27, 9: 25, 19: 24, 11: 19, 18: 12, 17: 10, 3: 8, 7: 6, 1: 3, 16: 3, 15: 1}\n",
      "27 300 {0: 58, 8: 54, 12: 46, 5: 44, 13: 42, 4: 42, 19: 40, 11: 34, 6: 31, 18: 28, 9: 21, 16: 17, 17: 13, 1: 12, 7: 11, 15: 3, 14: 2, 3: 1, 2: 1}\n",
      "53 300 {0: 47, 2: 46, 15: 45, 8: 40, 13: 36, 5: 31, 14: 28, 4: 25, 12: 22, 19: 21, 9: 20, 6: 19, 16: 19, 18: 17, 3: 17, 11: 17, 1: 13, 17: 13, 10: 12, 7: 12}\n",
      "92 300 {13: 80, 4: 73, 8: 64, 0: 59, 9: 57, 12: 30, 5: 26, 3: 21, 6: 18, 11: 16, 17: 14, 19: 10, 7: 8, 18: 6, 14: 5, 15: 5, 2: 4, 1: 3, 10: 1}\n",
      "50 300 {5: 49, 0: 44, 12: 39, 4: 39, 13: 36, 18: 35, 8: 34, 19: 34, 16: 23, 15: 23, 14: 19, 11: 18, 10: 17, 6: 17, 9: 15, 7: 14, 2: 13, 17: 11, 1: 10, 3: 10}\n",
      "15 300 {18: 48, 7: 43, 5: 42, 19: 38, 6: 37, 0: 33, 16: 32, 12: 30, 1: 27, 14: 26, 17: 26, 8: 24, 11: 22, 15: 19, 13: 18, 4: 14, 9: 10, 2: 6, 3: 3, 10: 2}\n",
      "18 300 {5: 63, 0: 52, 12: 52, 18: 38, 19: 35, 6: 35, 13: 33, 8: 31, 4: 24, 7: 24, 11: 22, 1: 17, 17: 17, 16: 12, 9: 11, 14: 11, 3: 8, 15: 7, 10: 6, 2: 2}\n",
      "46 300 {13: 51, 17: 45, 8: 44, 4: 41, 9: 36, 7: 34, 11: 30, 1: 28, 3: 28, 5: 27, 0: 25, 12: 23, 6: 17, 14: 17, 19: 17, 18: 13, 2: 9, 15: 7, 16: 7, 10: 1}\n",
      "75 300 {0: 67, 13: 52, 5: 50, 19: 45, 8: 43, 12: 39, 6: 30, 18: 29, 11: 25, 4: 25, 9: 21, 17: 17, 16: 16, 7: 15, 1: 7, 15: 7, 14: 6, 2: 5, 3: 1}\n",
      "38 300 {0: 57, 5: 52, 12: 50, 6: 38, 13: 38, 19: 37, 17: 36, 7: 33, 8: 31, 11: 30, 18: 24, 1: 22, 4: 12, 16: 10, 14: 8, 2: 6, 15: 6, 10: 4, 9: 3, 3: 3}\n",
      "66 300 {8: 61, 13: 55, 0: 54, 5: 49, 12: 47, 4: 40, 9: 26, 7: 24, 6: 23, 11: 22, 18: 18, 19: 18, 17: 16, 1: 11, 15: 9, 2: 8, 14: 6, 3: 6, 16: 4, 10: 3}\n",
      "77 300 {0: 56, 13: 45, 5: 43, 12: 40, 19: 39, 18: 38, 8: 35, 11: 33, 4: 32, 6: 24, 7: 21, 16: 16, 17: 16, 9: 14, 14: 13, 1: 11, 15: 9, 2: 9, 10: 4, 3: 2}\n",
      "69 300 {7: 53, 18: 47, 1: 47, 14: 39, 19: 38, 16: 33, 5: 33, 0: 29, 12: 22, 13: 21, 6: 20, 17: 20, 8: 19, 11: 16, 15: 15, 3: 12, 9: 10, 4: 10, 2: 9, 10: 7}\n",
      "95 300 {18: 64, 19: 59, 5: 43, 16: 35, 15: 34, 12: 32, 14: 30, 1: 30, 0: 26, 6: 25, 8: 20, 13: 18, 7: 16, 2: 16, 4: 13, 17: 12, 11: 12, 10: 11, 9: 4}\n",
      "99 300 {3: 44, 15: 40, 0: 37, 8: 34, 14: 32, 4: 31, 5: 30, 2: 30, 18: 29, 9: 28, 10: 27, 19: 26, 16: 26, 13: 23, 12: 21, 6: 18, 1: 9, 11: 6, 17: 5, 7: 4}\n",
      "93 300 {0: 50, 13: 45, 18: 42, 19: 42, 4: 41, 12: 39, 5: 36, 8: 34, 16: 26, 6: 21, 11: 19, 9: 19, 2: 14, 17: 14, 1: 13, 15: 12, 3: 9, 7: 8, 14: 8, 10: 8}\n",
      "4 300 {0: 70, 13: 53, 12: 47, 5: 42, 8: 35, 19: 35, 6: 33, 4: 28, 18: 28, 11: 24, 17: 14, 15: 14, 16: 14, 9: 13, 7: 12, 2: 12, 14: 11, 1: 10, 10: 5}\n",
      "61 300 {14: 44, 15: 43, 5: 42, 2: 39, 18: 35, 12: 33, 19: 32, 10: 30, 8: 28, 0: 27, 6: 26, 1: 23, 16: 22, 13: 18, 4: 17, 9: 11, 7: 10, 17: 8, 11: 7, 3: 5}\n",
      "94 300 {5: 52, 11: 51, 17: 42, 0: 40, 7: 39, 1: 37, 8: 29, 14: 28, 4: 25, 18: 22, 12: 22, 13: 20, 19: 20, 2: 18, 10: 14, 9: 11, 16: 11, 6: 11, 3: 5, 15: 3}\n",
      "68 300 {19: 95, 6: 76, 18: 64, 5: 59, 16: 49, 8: 33, 12: 32, 0: 21, 7: 18, 17: 15, 1: 13, 13: 10, 4: 6, 11: 4, 15: 3, 14: 2}\n",
      "34 300 {0: 61, 13: 52, 8: 52, 12: 47, 5: 46, 4: 38, 19: 32, 6: 29, 18: 22, 11: 22, 16: 17, 7: 16, 9: 14, 17: 12, 1: 11, 14: 11, 15: 9, 2: 5, 10: 2, 3: 2}\n",
      "32 300 {5: 43, 19: 41, 7: 36, 12: 34, 1: 33, 0: 32, 18: 32, 16: 29, 17: 28, 6: 26, 15: 25, 13: 23, 11: 23, 8: 22, 2: 20, 14: 20, 4: 14, 9: 12, 10: 4, 3: 3}\n",
      "88 300 {0: 61, 8: 59, 13: 53, 4: 53, 5: 44, 12: 41, 6: 28, 7: 24, 11: 23, 19: 20, 18: 20, 9: 17, 1: 12, 17: 11, 16: 9, 14: 8, 2: 7, 3: 5, 15: 4, 10: 1}\n",
      "67 300 {18: 63, 19: 51, 5: 48, 0: 40, 13: 31, 16: 30, 14: 27, 1: 26, 12: 24, 4: 23, 7: 21, 8: 21, 6: 19, 9: 18, 11: 17, 15: 13, 17: 12, 2: 8, 3: 6, 10: 2}\n",
      "30 300 {5: 63, 18: 57, 19: 51, 0: 45, 12: 36, 8: 34, 13: 29, 11: 25, 6: 24, 14: 23, 7: 23, 4: 23, 1: 20, 17: 17, 16: 15, 15: 9, 9: 4, 2: 1, 3: 1}\n",
      "62 300 {13: 89, 4: 76, 8: 66, 0: 64, 9: 35, 11: 31, 12: 30, 5: 23, 3: 22, 6: 17, 17: 14, 19: 11, 18: 7, 16: 4, 14: 4, 1: 3, 7: 3, 2: 1}\n",
      "63 300 {13: 68, 4: 59, 5: 59, 0: 41, 8: 36, 19: 36, 9: 32, 11: 30, 6: 26, 18: 23, 17: 21, 12: 20, 7: 17, 14: 9, 1: 6, 15: 6, 16: 5, 2: 4, 3: 1, 10: 1}\n",
      "40 300 {14: 54, 2: 41, 10: 37, 9: 31, 1: 29, 4: 28, 7: 28, 13: 27, 18: 27, 8: 25, 5: 25, 0: 23, 3: 23, 11: 21, 17: 18, 6: 16, 19: 15, 15: 13, 12: 12, 16: 7}\n",
      "26 300 {4: 46, 13: 46, 5: 41, 2: 36, 9: 35, 8: 32, 0: 31, 16: 29, 15: 28, 18: 28, 12: 22, 10: 21, 19: 20, 11: 19, 6: 17, 3: 14, 7: 14, 14: 12, 1: 7, 17: 2}\n",
      "48 300 {15: 48, 0: 46, 19: 40, 12: 40, 2: 38, 18: 37, 16: 32, 6: 31, 5: 27, 17: 26, 8: 24, 11: 20, 4: 16, 14: 16, 13: 16, 7: 13, 1: 11, 10: 10, 9: 6, 3: 3}\n",
      "79 300 {18: 51, 5: 47, 19: 47, 0: 42, 12: 38, 8: 26, 7: 26, 13: 24, 6: 24, 4: 23, 16: 21, 14: 19, 9: 19, 11: 18, 1: 16, 17: 15, 3: 14, 15: 13, 2: 11, 10: 6}\n",
      "85 300 {18: 51, 7: 51, 1: 51, 19: 40, 17: 37, 16: 35, 6: 33, 5: 32, 14: 31, 12: 25, 15: 24, 0: 21, 11: 15, 8: 14, 13: 13, 2: 12, 3: 7, 4: 4, 9: 3, 10: 1}\n",
      "54 300 {13: 57, 4: 56, 9: 43, 12: 41, 8: 41, 0: 41, 5: 33, 11: 28, 3: 25, 17: 19, 18: 19, 6: 18, 7: 16, 19: 14, 14: 12, 2: 10, 15: 9, 1: 7, 10: 6, 16: 5}\n",
      "44 300 {0: 49, 19: 48, 5: 45, 13: 41, 8: 38, 6: 35, 12: 33, 18: 32, 4: 30, 11: 24, 16: 23, 14: 19, 9: 17, 7: 15, 1: 13, 17: 11, 2: 8, 10: 7, 3: 6, 15: 6}\n",
      "7 300 {5: 58, 18: 43, 19: 41, 10: 39, 16: 36, 8: 34, 1: 30, 14: 29, 15: 27, 12: 25, 2: 23, 6: 21, 7: 20, 0: 20, 13: 15, 4: 11, 9: 10, 17: 9, 11: 8, 3: 1}\n",
      "12 300 {5: 63, 19: 55, 18: 49, 17: 46, 7: 45, 1: 35, 16: 31, 0: 30, 6: 28, 12: 26, 11: 20, 13: 18, 9: 14, 8: 12, 14: 11, 4: 9, 15: 5, 3: 2, 2: 1}\n",
      "2 300 {8: 47, 4: 46, 0: 40, 19: 35, 12: 34, 5: 33, 13: 30, 18: 28, 6: 24, 14: 24, 11: 23, 17: 23, 1: 21, 2: 20, 9: 20, 16: 19, 7: 17, 15: 10, 10: 5, 3: 1}\n",
      "41 300 {2: 142, 10: 70, 15: 33, 5: 31, 12: 29, 0: 27, 18: 19, 17: 18, 7: 18, 14: 18, 19: 15, 13: 14, 8: 14, 11: 13, 6: 12, 1: 12, 4: 7, 16: 6, 9: 2}\n",
      "37 300 {19: 89, 18: 57, 6: 50, 5: 44, 0: 43, 12: 37, 16: 34, 8: 29, 7: 26, 17: 26, 13: 19, 11: 12, 1: 12, 15: 9, 4: 5, 14: 4, 2: 2, 9: 1, 10: 1}\n",
      "13 300 {12: 58, 19: 53, 0: 48, 18: 45, 5: 42, 6: 40, 8: 31, 17: 30, 13: 25, 16: 23, 11: 22, 7: 19, 4: 18, 1: 13, 15: 11, 9: 7, 14: 6, 2: 5, 10: 2, 3: 2}\n",
      "25 300 {16: 46, 19: 42, 6: 41, 0: 36, 15: 33, 12: 31, 5: 30, 8: 27, 4: 27, 18: 25, 17: 24, 13: 22, 7: 19, 2: 19, 11: 17, 14: 15, 9: 15, 1: 13, 10: 12, 3: 6}\n",
      "10 300 {14: 36, 4: 35, 15: 34, 18: 32, 0: 32, 19: 32, 7: 31, 2: 29, 8: 28, 1: 25, 16: 25, 13: 24, 5: 23, 6: 20, 10: 19, 12: 18, 3: 15, 9: 15, 11: 15, 17: 12}\n",
      "57 300 {2: 55, 10: 42, 15: 39, 13: 32, 0: 30, 8: 27, 4: 27, 19: 25, 5: 24, 14: 24, 12: 22, 1: 21, 16: 20, 9: 19, 18: 19, 11: 19, 17: 16, 3: 15, 7: 14, 6: 10}\n",
      "5 300 {19: 62, 6: 42, 18: 37, 12: 36, 15: 36, 5: 35, 11: 35, 0: 33, 16: 33, 2: 21, 13: 21, 7: 18, 4: 18, 8: 17, 17: 16, 14: 16, 1: 9, 10: 9, 9: 5, 3: 1}\n",
      "60 300 {17: 69, 5: 65, 18: 62, 7: 55, 1: 42, 11: 39, 19: 36, 16: 30, 12: 22, 14: 18, 0: 15, 6: 12, 13: 12, 4: 6, 8: 5, 15: 5, 9: 4, 3: 2, 2: 1}\n",
      "91 300 {2: 62, 10: 53, 0: 45, 4: 40, 13: 39, 15: 36, 9: 33, 8: 29, 12: 24, 5: 24, 11: 16, 3: 15, 18: 15, 16: 15, 19: 15, 6: 15, 17: 7, 14: 7, 7: 6, 1: 4}\n",
      "3 300 {0: 50, 5: 48, 18: 40, 12: 40, 19: 40, 7: 35, 13: 35, 8: 32, 6: 30, 17: 24, 11: 24, 1: 24, 4: 18, 14: 17, 9: 14, 16: 13, 15: 11, 2: 3, 3: 1, 10: 1}\n",
      "58 300 {19: 51, 0: 50, 18: 47, 5: 42, 16: 38, 12: 36, 6: 36, 13: 34, 8: 28, 11: 27, 17: 26, 15: 24, 7: 16, 14: 14, 4: 8, 1: 7, 2: 6, 9: 5, 3: 3, 10: 2}\n",
      "16 300 {15: 62, 2: 51, 14: 37, 5: 33, 6: 32, 0: 30, 1: 30, 7: 29, 12: 28, 4: 20, 19: 20, 16: 20, 18: 19, 10: 18, 8: 17, 17: 14, 11: 14, 13: 11, 9: 10, 3: 5}\n",
      "30000 29150\n"
     ]
    },
    {
     "name": "stderr",
     "output_type": "stream",
     "text": [
      "Epoch 1/10: 100%|██████████| 47/47 [00:21<00:00,  2.24 batch/s, loss=4.3276]\n",
      "Validating: 100%|██████████| 12/12 [00:02<00:00,  5.67 batch/s]\n"
     ]
    },
    {
     "name": "stdout",
     "output_type": "stream",
     "text": [
      "\u001b[1m\u001b[36mBest valid accuracy improved from 0.00% to 6.45%. Saving checkpoint...\n",
      "\u001b[0m"
     ]
    },
    {
     "name": "stderr",
     "output_type": "stream",
     "text": [
      "Epoch 2/10: 100%|██████████| 47/47 [00:21<00:00,  2.23 batch/s, loss=3.3859]\n",
      "Validating: 100%|██████████| 12/12 [00:02<00:00,  5.66 batch/s]\n"
     ]
    },
    {
     "name": "stdout",
     "output_type": "stream",
     "text": [
      "\u001b[1m\u001b[36mBest valid accuracy improved from 6.45% to 16.43%. Saving checkpoint...\n",
      "\u001b[0m"
     ]
    },
    {
     "name": "stderr",
     "output_type": "stream",
     "text": [
      "Epoch 3/10: 100%|██████████| 47/47 [00:21<00:00,  2.23 batch/s, loss=2.9386]\n",
      "Validating: 100%|██████████| 12/12 [00:02<00:00,  5.66 batch/s]\n"
     ]
    },
    {
     "name": "stdout",
     "output_type": "stream",
     "text": [
      "\u001b[1m\u001b[36mBest valid accuracy improved from 16.43% to 19.77%. Saving checkpoint...\n",
      "\u001b[0m"
     ]
    },
    {
     "name": "stderr",
     "output_type": "stream",
     "text": [
      "Epoch 4/10: 100%|██████████| 47/47 [00:21<00:00,  2.23 batch/s, loss=2.6320]\n",
      "Validating: 100%|██████████| 12/12 [00:02<00:00,  5.67 batch/s]\n"
     ]
    },
    {
     "name": "stdout",
     "output_type": "stream",
     "text": [
      "\u001b[1m\u001b[36mBest valid accuracy improved from 19.77% to 22.32%. Saving checkpoint...\n",
      "\u001b[0m"
     ]
    },
    {
     "name": "stderr",
     "output_type": "stream",
     "text": [
      "Epoch 5/10: 100%|██████████| 47/47 [00:21<00:00,  2.23 batch/s, loss=2.3396]\n",
      "Validating: 100%|██████████| 12/12 [00:02<00:00,  5.63 batch/s]\n",
      "Epoch 6/10: 100%|██████████| 47/47 [00:21<00:00,  2.24 batch/s, loss=2.3996]\n",
      "Validating: 100%|██████████| 12/12 [00:02<00:00,  5.67 batch/s]\n"
     ]
    },
    {
     "name": "stdout",
     "output_type": "stream",
     "text": [
      "\u001b[1m\u001b[36mBest valid accuracy improved from 22.32% to 24.17%. Saving checkpoint...\n",
      "\u001b[0m"
     ]
    },
    {
     "name": "stderr",
     "output_type": "stream",
     "text": [
      "Epoch 7/10: 100%|██████████| 47/47 [00:21<00:00,  2.23 batch/s, loss=1.9471]\n",
      "Validating: 100%|██████████| 12/12 [00:02<00:00,  5.69 batch/s]\n"
     ]
    },
    {
     "name": "stdout",
     "output_type": "stream",
     "text": [
      "\u001b[1m\u001b[36mBest valid accuracy improved from 24.17% to 25.75%. Saving checkpoint...\n",
      "\u001b[0m"
     ]
    },
    {
     "name": "stderr",
     "output_type": "stream",
     "text": [
      "Epoch 8/10: 100%|██████████| 47/47 [00:21<00:00,  2.23 batch/s, loss=1.6033]\n",
      "Validating: 100%|██████████| 12/12 [00:02<00:00,  5.62 batch/s]\n"
     ]
    },
    {
     "name": "stdout",
     "output_type": "stream",
     "text": [
      "\u001b[1m\u001b[36mBest valid accuracy improved from 25.75% to 26.52%. Saving checkpoint...\n",
      "\u001b[0m"
     ]
    },
    {
     "name": "stderr",
     "output_type": "stream",
     "text": [
      "Epoch 9/10: 100%|██████████| 47/47 [00:21<00:00,  2.23 batch/s, loss=1.3156]\n",
      "Validating: 100%|██████████| 12/12 [00:02<00:00,  5.69 batch/s]\n",
      "Epoch 10/10: 100%|██████████| 47/47 [00:21<00:00,  2.23 batch/s, loss=1.0806]\n",
      "Validating: 100%|██████████| 12/12 [00:02<00:00,  5.68 batch/s]\n"
     ]
    },
    {
     "name": "stdout",
     "output_type": "stream",
     "text": [
      "\u001b[1m\u001b[36mBest valid accuracy improved from 26.52% to 26.53%. Saving checkpoint...\n",
      "\u001b[0m"
     ]
    },
    {
     "name": "stderr",
     "output_type": "stream",
     "text": [
      "Testing: 100%|██████████| 20/20 [00:03<00:00,  5.66 batch/s]\n"
     ]
    },
    {
     "name": "stdout",
     "output_type": "stream",
     "text": [
      "\u001b[1m\u001b[95mRunning run r50,ep:10,bs:512,clip:None,nc:20,mp:0.01,fe/7\n",
      "\u001b[0m19 350 {19: 66, 0: 51, 5: 50, 12: 49, 6: 45, 8: 43, 13: 31, 18: 31, 17: 25, 7: 25, 11: 22, 16: 22, 1: 10, 4: 9, 9: 6, 15: 6, 14: 5, 10: 2, 2: 1, 3: 1}\n",
      "29 350 {2: 78, 10: 61, 3: 38, 0: 30, 15: 29, 8: 26, 5: 25, 18: 24, 13: 23, 19: 21, 16: 21, 4: 18, 14: 17, 1: 15, 9: 14, 17: 14, 6: 13, 7: 12, 12: 12, 11: 9}\n",
      "0 350 {15: 50, 2: 41, 14: 39, 4: 39, 13: 35, 8: 33, 16: 30, 5: 29, 18: 25, 1: 22, 0: 22, 11: 20, 7: 16, 9: 16, 6: 16, 19: 16, 10: 15, 17: 13, 12: 13, 3: 10}\n",
      "11 350 {17: 46, 8: 42, 4: 39, 13: 34, 0: 31, 18: 31, 5: 30, 12: 27, 11: 27, 7: 24, 10: 24, 9: 23, 2: 21, 6: 21, 1: 19, 14: 18, 19: 17, 15: 11, 16: 8, 3: 7}\n",
      "1 350 {9: 82, 13: 82, 4: 77, 8: 48, 0: 41, 11: 38, 3: 26, 6: 25, 12: 19, 5: 17, 19: 10, 18: 8, 17: 8, 14: 6, 7: 3, 16: 3, 15: 3, 1: 2, 10: 1, 2: 1}\n",
      "86 350 {2: 85, 15: 72, 10: 64, 14: 56, 1: 26, 18: 25, 7: 25, 16: 23, 8: 17, 5: 17, 0: 15, 19: 12, 4: 11, 13: 10, 6: 9, 9: 9, 17: 8, 11: 7, 12: 6, 3: 3}\n",
      "90 350 {19: 64, 6: 52, 0: 49, 12: 42, 8: 41, 18: 40, 5: 37, 16: 33, 7: 26, 17: 20, 1: 19, 13: 19, 4: 16, 11: 14, 9: 12, 14: 11, 15: 3, 2: 1, 3: 1}\n",
      "28 350 {14: 54, 1: 38, 7: 35, 3: 33, 2: 32, 9: 31, 4: 30, 8: 26, 5: 25, 0: 23, 10: 23, 17: 21, 15: 19, 13: 19, 19: 17, 12: 16, 6: 16, 18: 16, 16: 14, 11: 12}\n",
      "23 350 {5: 65, 17: 50, 7: 48, 11: 41, 18: 40, 19: 40, 1: 32, 16: 26, 12: 25, 14: 25, 6: 20, 0: 20, 13: 19, 15: 15, 4: 10, 8: 8, 2: 5, 9: 5, 3: 3, 10: 3}\n",
      "31 350 {5: 58, 6: 58, 19: 57, 18: 55, 12: 49, 0: 47, 8: 26, 16: 22, 11: 21, 1: 21, 7: 21, 13: 19, 17: 12, 14: 10, 4: 10, 15: 7, 9: 5, 2: 2}\n",
      "39 350 {5: 50, 18: 45, 10: 43, 19: 37, 16: 35, 0: 32, 11: 31, 6: 29, 2: 29, 13: 26, 12: 24, 14: 20, 8: 20, 15: 19, 17: 15, 7: 13, 4: 12, 9: 9, 1: 6, 3: 5}\n",
      "96 350 {5: 60, 12: 46, 17: 45, 7: 41, 0: 40, 18: 38, 19: 37, 6: 31, 11: 30, 8: 29, 13: 26, 1: 17, 4: 17, 16: 16, 14: 8, 15: 8, 9: 6, 3: 2, 2: 2, 10: 1}\n",
      "82 350 {0: 63, 8: 57, 5: 48, 12: 40, 19: 37, 13: 32, 7: 28, 4: 27, 6: 26, 18: 26, 17: 22, 1: 19, 14: 14, 15: 14, 11: 13, 9: 11, 16: 10, 2: 7, 3: 4, 10: 2}\n",
      "17 350 {19: 67, 5: 66, 7: 57, 18: 56, 17: 53, 1: 38, 11: 30, 12: 25, 6: 25, 16: 24, 0: 23, 14: 15, 8: 10, 4: 5, 13: 4, 15: 1, 9: 1}\n",
      "71 350 {18: 71, 5: 60, 7: 52, 17: 48, 19: 41, 16: 40, 11: 36, 13: 24, 1: 23, 0: 19, 12: 16, 4: 15, 14: 14, 9: 10, 8: 10, 6: 9, 3: 6, 15: 4, 2: 2}\n",
      "8 350 {15: 44, 18: 40, 5: 39, 12: 38, 0: 36, 19: 34, 6: 33, 17: 33, 14: 27, 2: 25, 16: 23, 7: 23, 11: 23, 8: 20, 13: 17, 1: 16, 4: 10, 10: 9, 3: 8, 9: 2}\n",
      "97 350 {0: 59, 8: 56, 13: 52, 4: 47, 12: 33, 6: 31, 9: 29, 5: 28, 11: 25, 19: 24, 7: 20, 18: 18, 16: 16, 14: 15, 1: 15, 15: 12, 17: 9, 3: 6, 2: 5}\n",
      "80 350 {5: 69, 12: 67, 19: 46, 0: 44, 8: 41, 6: 35, 18: 33, 13: 31, 7: 27, 4: 22, 17: 21, 11: 17, 1: 17, 14: 14, 16: 10, 15: 5, 9: 1}\n",
      "74 350 {13: 57, 8: 54, 0: 48, 5: 40, 4: 39, 12: 39, 19: 32, 6: 31, 18: 30, 9: 20, 11: 19, 14: 15, 16: 13, 2: 12, 17: 12, 15: 11, 10: 10, 1: 8, 7: 6, 3: 4}\n",
      "59 350 {7: 82, 17: 54, 5: 52, 19: 38, 6: 34, 12: 32, 1: 31, 18: 27, 0: 26, 13: 21, 16: 20, 11: 20, 14: 19, 8: 15, 15: 10, 4: 8, 2: 6, 10: 4, 9: 1}\n",
      "70 350 {13: 69, 4: 65, 9: 56, 8: 54, 0: 41, 5: 34, 12: 28, 11: 24, 3: 22, 19: 17, 6: 14, 18: 13, 7: 12, 17: 11, 14: 10, 16: 9, 15: 8, 1: 5, 2: 5, 10: 3}\n",
      "87 350 {8: 45, 4: 38, 13: 33, 5: 32, 19: 30, 2: 29, 16: 28, 15: 28, 0: 27, 17: 26, 14: 25, 11: 24, 18: 23, 1: 20, 9: 18, 7: 17, 12: 16, 10: 16, 6: 16, 3: 9}\n",
      "84 350 {5: 38, 8: 37, 0: 37, 11: 36, 19: 35, 6: 35, 13: 32, 12: 31, 18: 30, 7: 29, 10: 25, 17: 23, 16: 21, 4: 20, 2: 16, 1: 14, 9: 13, 14: 13, 15: 11, 3: 4}\n",
      "64 350 {4: 77, 8: 61, 13: 58, 9: 47, 0: 42, 5: 29, 12: 28, 11: 28, 19: 22, 3: 22, 18: 21, 6: 17, 17: 15, 7: 10, 14: 7, 16: 6, 15: 4, 1: 4, 2: 2}\n",
      "52 350 {7: 77, 5: 70, 19: 62, 17: 52, 18: 50, 1: 33, 12: 27, 0: 25, 6: 25, 16: 24, 11: 16, 14: 14, 8: 9, 13: 5, 4: 4, 15: 4, 10: 1, 3: 1, 2: 1}\n",
      "42 350 {0: 70, 8: 61, 13: 58, 12: 58, 6: 40, 4: 38, 5: 30, 11: 26, 19: 21, 9: 17, 7: 16, 18: 16, 17: 11, 16: 10, 14: 10, 3: 9, 15: 4, 1: 3, 2: 2}\n",
      "47 350 {5: 71, 17: 60, 0: 42, 7: 42, 11: 42, 18: 30, 12: 29, 13: 28, 6: 26, 1: 23, 8: 23, 19: 21, 4: 15, 16: 10, 15: 9, 2: 9, 14: 7, 10: 6, 9: 5, 3: 2}\n",
      "65 350 {5: 56, 0: 51, 8: 48, 13: 44, 12: 37, 6: 36, 19: 32, 11: 32, 4: 30, 18: 27, 9: 20, 7: 19, 17: 16, 1: 14, 16: 14, 14: 6, 15: 6, 3: 5, 2: 5, 10: 2}\n",
      "21 350 {13: 54, 17: 44, 8: 42, 4: 42, 11: 38, 0: 37, 12: 33, 7: 30, 5: 30, 9: 29, 18: 26, 6: 25, 19: 22, 1: 16, 3: 11, 16: 9, 14: 8, 15: 3, 2: 1}\n",
      "22 350 {15: 60, 2: 40, 14: 38, 5: 35, 1: 32, 19: 29, 18: 25, 4: 25, 8: 24, 0: 23, 9: 22, 17: 22, 12: 20, 6: 20, 10: 18, 16: 17, 13: 15, 7: 13, 11: 13, 3: 9}\n",
      "81 350 {19: 73, 12: 50, 5: 50, 0: 49, 18: 45, 6: 42, 16: 30, 17: 27, 8: 25, 13: 22, 7: 21, 4: 19, 11: 17, 14: 10, 1: 9, 3: 4, 9: 3, 15: 3, 2: 1}\n",
      "24 350 {10: 189, 2: 66, 18: 43, 14: 39, 15: 33, 19: 21, 5: 20, 16: 19, 1: 17, 6: 13, 7: 11, 12: 10, 0: 8, 8: 5, 4: 3, 17: 2, 13: 1}\n",
      "78 350 {12: 54, 19: 52, 0: 52, 18: 52, 5: 39, 13: 36, 8: 33, 4: 27, 6: 25, 16: 20, 9: 18, 11: 15, 1: 15, 14: 13, 15: 11, 7: 10, 10: 9, 2: 7, 3: 6, 17: 6}\n",
      "45 350 {8: 48, 13: 46, 4: 37, 11: 37, 15: 33, 18: 30, 0: 29, 9: 29, 3: 25, 19: 22, 6: 21, 12: 21, 5: 20, 2: 20, 16: 16, 7: 14, 14: 14, 10: 13, 1: 13, 17: 12}\n",
      "49 350 {17: 71, 11: 57, 5: 57, 7: 45, 19: 37, 18: 35, 6: 29, 13: 28, 12: 28, 0: 24, 1: 22, 8: 21, 16: 16, 4: 13, 15: 6, 14: 4, 9: 4, 2: 2, 3: 1}\n",
      "56 350 {7: 76, 5: 54, 17: 49, 1: 46, 19: 40, 18: 39, 11: 31, 14: 25, 12: 24, 6: 23, 16: 22, 0: 22, 8: 18, 13: 12, 15: 10, 4: 4, 2: 3, 9: 2}\n",
      "76 350 {7: 100, 1: 65, 5: 57, 17: 49, 18: 30, 14: 26, 12: 26, 11: 26, 13: 22, 0: 21, 8: 21, 6: 15, 19: 13, 4: 8, 15: 7, 9: 4, 2: 4, 16: 3, 3: 3}\n",
      "89 350 {19: 63, 5: 47, 0: 44, 18: 44, 6: 44, 12: 43, 17: 36, 16: 34, 7: 32, 11: 23, 13: 20, 8: 17, 1: 14, 2: 8, 4: 8, 14: 8, 9: 7, 15: 7, 3: 1}\n",
      "73 350 {0: 68, 13: 56, 4: 44, 5: 44, 9: 44, 8: 42, 19: 30, 18: 29, 12: 29, 3: 28, 11: 24, 6: 21, 17: 10, 1: 7, 16: 7, 14: 7, 7: 5, 15: 3, 2: 2}\n",
      "14 350 {0: 60, 13: 56, 12: 45, 4: 45, 5: 42, 8: 41, 19: 32, 6: 27, 11: 25, 18: 21, 16: 19, 1: 16, 17: 16, 9: 13, 7: 13, 14: 7, 15: 7, 3: 6, 10: 5, 2: 4}\n",
      "9 350 {7: 62, 10: 47, 1: 46, 14: 44, 2: 40, 19: 31, 18: 28, 5: 28, 15: 23, 17: 18, 13: 17, 0: 17, 4: 16, 11: 15, 8: 13, 6: 13, 3: 13, 12: 11, 16: 9, 9: 9}\n",
      "6 350 {5: 54, 0: 47, 18: 37, 13: 37, 12: 37, 8: 36, 6: 34, 19: 32, 7: 29, 4: 21, 16: 20, 11: 20, 14: 14, 15: 14, 2: 13, 9: 13, 17: 12, 1: 12, 10: 10, 3: 8}\n",
      "20 350 {10: 146, 2: 95, 15: 81, 14: 47, 18: 22, 16: 17, 7: 15, 19: 14, 5: 12, 1: 11, 0: 8, 12: 6, 17: 6, 6: 5, 11: 5, 13: 4, 8: 4, 3: 1, 4: 1}\n",
      "98 350 {0: 48, 7: 42, 4: 39, 8: 36, 13: 35, 9: 35, 14: 32, 1: 31, 11: 29, 17: 26, 12: 24, 6: 20, 5: 20, 19: 18, 18: 17, 3: 15, 2: 14, 15: 14, 10: 4, 16: 1}\n",
      "36 350 {0: 49, 18: 47, 19: 41, 13: 38, 12: 37, 5: 34, 6: 32, 14: 31, 8: 29, 1: 27, 16: 26, 4: 25, 17: 19, 2: 17, 11: 15, 7: 13, 9: 8, 15: 8, 10: 3, 3: 1}\n",
      "55 350 {0: 49, 19: 49, 5: 48, 18: 45, 12: 41, 8: 34, 6: 29, 13: 28, 4: 21, 7: 21, 14: 20, 11: 19, 16: 18, 2: 17, 1: 15, 17: 15, 15: 12, 9: 11, 10: 4, 3: 4}\n",
      "72 350 {18: 58, 19: 44, 5: 44, 13: 32, 7: 30, 1: 28, 6: 28, 8: 28, 0: 28, 12: 27, 14: 26, 16: 25, 17: 25, 11: 19, 4: 16, 15: 16, 2: 13, 9: 10, 3: 3}\n",
      "43 350 {8: 73, 0: 56, 13: 51, 4: 50, 5: 41, 12: 37, 6: 37, 11: 25, 17: 22, 19: 21, 7: 19, 18: 17, 9: 16, 16: 11, 14: 7, 1: 7, 15: 5, 3: 4, 2: 1}\n",
      "51 350 {13: 79, 8: 68, 0: 67, 4: 55, 12: 46, 9: 43, 11: 32, 6: 25, 5: 22, 17: 17, 19: 8, 18: 8, 3: 7, 16: 5, 2: 4, 7: 4, 10: 3, 15: 3, 1: 2, 14: 2}\n",
      "35 350 {8: 56, 0: 42, 5: 41, 6: 37, 4: 35, 13: 32, 1: 28, 7: 28, 18: 26, 14: 25, 11: 25, 17: 23, 9: 23, 12: 21, 19: 19, 15: 9, 2: 9, 3: 7, 10: 7, 16: 7}\n",
      "83 350 {0: 41, 13: 41, 8: 40, 4: 30, 15: 30, 5: 28, 18: 28, 6: 25, 14: 25, 1: 24, 2: 23, 16: 22, 3: 22, 11: 21, 19: 20, 9: 20, 17: 19, 10: 16, 12: 16, 7: 9}\n",
      "33 350 {8: 86, 4: 67, 0: 67, 13: 64, 6: 42, 12: 36, 5: 27, 9: 25, 19: 24, 11: 19, 18: 12, 17: 10, 3: 8, 7: 6, 1: 3, 16: 3, 15: 1}\n",
      "27 350 {0: 58, 8: 54, 12: 46, 5: 44, 13: 42, 4: 42, 19: 40, 11: 34, 6: 31, 18: 28, 9: 21, 16: 17, 17: 13, 1: 12, 7: 11, 15: 3, 14: 2, 3: 1, 2: 1}\n",
      "53 350 {0: 47, 2: 46, 15: 45, 8: 40, 13: 36, 5: 31, 14: 28, 4: 25, 12: 22, 19: 21, 9: 20, 6: 19, 16: 19, 18: 17, 3: 17, 11: 17, 1: 13, 17: 13, 10: 12, 7: 12}\n",
      "92 350 {13: 80, 4: 73, 8: 64, 0: 59, 9: 57, 12: 30, 5: 26, 3: 21, 6: 18, 11: 16, 17: 14, 19: 10, 7: 8, 18: 6, 14: 5, 15: 5, 2: 4, 1: 3, 10: 1}\n",
      "50 350 {5: 49, 0: 44, 12: 39, 4: 39, 13: 36, 18: 35, 8: 34, 19: 34, 16: 23, 15: 23, 14: 19, 11: 18, 10: 17, 6: 17, 9: 15, 7: 14, 2: 13, 17: 11, 1: 10, 3: 10}\n",
      "15 350 {18: 48, 7: 43, 5: 42, 19: 38, 6: 37, 0: 33, 16: 32, 12: 30, 1: 27, 14: 26, 17: 26, 8: 24, 11: 22, 15: 19, 13: 18, 4: 14, 9: 10, 2: 6, 3: 3, 10: 2}\n",
      "18 350 {5: 63, 0: 52, 12: 52, 18: 38, 19: 35, 6: 35, 13: 33, 8: 31, 4: 24, 7: 24, 11: 22, 1: 17, 17: 17, 16: 12, 9: 11, 14: 11, 3: 8, 15: 7, 10: 6, 2: 2}\n",
      "46 350 {13: 51, 17: 45, 8: 44, 4: 41, 9: 36, 7: 34, 11: 30, 1: 28, 3: 28, 5: 27, 0: 25, 12: 23, 6: 17, 14: 17, 19: 17, 18: 13, 2: 9, 15: 7, 16: 7, 10: 1}\n",
      "75 350 {0: 67, 13: 52, 5: 50, 19: 45, 8: 43, 12: 39, 6: 30, 18: 29, 11: 25, 4: 25, 9: 21, 17: 17, 16: 16, 7: 15, 1: 7, 15: 7, 14: 6, 2: 5, 3: 1}\n",
      "38 350 {0: 57, 5: 52, 12: 50, 6: 38, 13: 38, 19: 37, 17: 36, 7: 33, 8: 31, 11: 30, 18: 24, 1: 22, 4: 12, 16: 10, 14: 8, 2: 6, 15: 6, 10: 4, 9: 3, 3: 3}\n",
      "66 350 {8: 61, 13: 55, 0: 54, 5: 49, 12: 47, 4: 40, 9: 26, 7: 24, 6: 23, 11: 22, 18: 18, 19: 18, 17: 16, 1: 11, 15: 9, 2: 8, 14: 6, 3: 6, 16: 4, 10: 3}\n",
      "77 350 {0: 56, 13: 45, 5: 43, 12: 40, 19: 39, 18: 38, 8: 35, 11: 33, 4: 32, 6: 24, 7: 21, 16: 16, 17: 16, 9: 14, 14: 13, 1: 11, 15: 9, 2: 9, 10: 4, 3: 2}\n",
      "69 350 {7: 53, 18: 47, 1: 47, 14: 39, 19: 38, 16: 33, 5: 33, 0: 29, 12: 22, 13: 21, 6: 20, 17: 20, 8: 19, 11: 16, 15: 15, 3: 12, 9: 10, 4: 10, 2: 9, 10: 7}\n",
      "95 350 {18: 64, 19: 59, 5: 43, 16: 35, 15: 34, 12: 32, 14: 30, 1: 30, 0: 26, 6: 25, 8: 20, 13: 18, 7: 16, 2: 16, 4: 13, 17: 12, 11: 12, 10: 11, 9: 4}\n",
      "99 350 {3: 44, 15: 40, 0: 37, 8: 34, 14: 32, 4: 31, 5: 30, 2: 30, 18: 29, 9: 28, 10: 27, 19: 26, 16: 26, 13: 23, 12: 21, 6: 18, 1: 9, 11: 6, 17: 5, 7: 4}\n",
      "93 350 {0: 50, 13: 45, 18: 42, 19: 42, 4: 41, 12: 39, 5: 36, 8: 34, 16: 26, 6: 21, 11: 19, 9: 19, 2: 14, 17: 14, 1: 13, 15: 12, 3: 9, 7: 8, 14: 8, 10: 8}\n",
      "4 350 {0: 70, 13: 53, 12: 47, 5: 42, 8: 35, 19: 35, 6: 33, 4: 28, 18: 28, 11: 24, 17: 14, 15: 14, 16: 14, 9: 13, 7: 12, 2: 12, 14: 11, 1: 10, 10: 5}\n",
      "61 350 {14: 44, 15: 43, 5: 42, 2: 39, 18: 35, 12: 33, 19: 32, 10: 30, 8: 28, 0: 27, 6: 26, 1: 23, 16: 22, 13: 18, 4: 17, 9: 11, 7: 10, 17: 8, 11: 7, 3: 5}\n",
      "94 350 {5: 52, 11: 51, 17: 42, 0: 40, 7: 39, 1: 37, 8: 29, 14: 28, 4: 25, 18: 22, 12: 22, 13: 20, 19: 20, 2: 18, 10: 14, 9: 11, 16: 11, 6: 11, 3: 5, 15: 3}\n",
      "68 350 {19: 95, 6: 76, 18: 64, 5: 59, 16: 49, 8: 33, 12: 32, 0: 21, 7: 18, 17: 15, 1: 13, 13: 10, 4: 6, 11: 4, 15: 3, 14: 2}\n",
      "34 350 {0: 61, 13: 52, 8: 52, 12: 47, 5: 46, 4: 38, 19: 32, 6: 29, 18: 22, 11: 22, 16: 17, 7: 16, 9: 14, 17: 12, 1: 11, 14: 11, 15: 9, 2: 5, 10: 2, 3: 2}\n",
      "32 350 {5: 43, 19: 41, 7: 36, 12: 34, 1: 33, 0: 32, 18: 32, 16: 29, 17: 28, 6: 26, 15: 25, 13: 23, 11: 23, 8: 22, 2: 20, 14: 20, 4: 14, 9: 12, 10: 4, 3: 3}\n",
      "88 350 {0: 61, 8: 59, 13: 53, 4: 53, 5: 44, 12: 41, 6: 28, 7: 24, 11: 23, 19: 20, 18: 20, 9: 17, 1: 12, 17: 11, 16: 9, 14: 8, 2: 7, 3: 5, 15: 4, 10: 1}\n",
      "67 350 {18: 63, 19: 51, 5: 48, 0: 40, 13: 31, 16: 30, 14: 27, 1: 26, 12: 24, 4: 23, 7: 21, 8: 21, 6: 19, 9: 18, 11: 17, 15: 13, 17: 12, 2: 8, 3: 6, 10: 2}\n",
      "30 350 {5: 63, 18: 57, 19: 51, 0: 45, 12: 36, 8: 34, 13: 29, 11: 25, 6: 24, 14: 23, 7: 23, 4: 23, 1: 20, 17: 17, 16: 15, 15: 9, 9: 4, 2: 1, 3: 1}\n",
      "62 350 {13: 89, 4: 76, 8: 66, 0: 64, 9: 35, 11: 31, 12: 30, 5: 23, 3: 22, 6: 17, 17: 14, 19: 11, 18: 7, 16: 4, 14: 4, 1: 3, 7: 3, 2: 1}\n",
      "63 350 {13: 68, 4: 59, 5: 59, 0: 41, 8: 36, 19: 36, 9: 32, 11: 30, 6: 26, 18: 23, 17: 21, 12: 20, 7: 17, 14: 9, 1: 6, 15: 6, 16: 5, 2: 4, 3: 1, 10: 1}\n",
      "40 350 {14: 54, 2: 41, 10: 37, 9: 31, 1: 29, 4: 28, 7: 28, 13: 27, 18: 27, 8: 25, 5: 25, 0: 23, 3: 23, 11: 21, 17: 18, 6: 16, 19: 15, 15: 13, 12: 12, 16: 7}\n",
      "26 350 {4: 46, 13: 46, 5: 41, 2: 36, 9: 35, 8: 32, 0: 31, 16: 29, 15: 28, 18: 28, 12: 22, 10: 21, 19: 20, 11: 19, 6: 17, 3: 14, 7: 14, 14: 12, 1: 7, 17: 2}\n",
      "48 350 {15: 48, 0: 46, 19: 40, 12: 40, 2: 38, 18: 37, 16: 32, 6: 31, 5: 27, 17: 26, 8: 24, 11: 20, 4: 16, 14: 16, 13: 16, 7: 13, 1: 11, 10: 10, 9: 6, 3: 3}\n",
      "79 350 {18: 51, 5: 47, 19: 47, 0: 42, 12: 38, 8: 26, 7: 26, 13: 24, 6: 24, 4: 23, 16: 21, 14: 19, 9: 19, 11: 18, 1: 16, 17: 15, 3: 14, 15: 13, 2: 11, 10: 6}\n",
      "85 350 {18: 51, 7: 51, 1: 51, 19: 40, 17: 37, 16: 35, 6: 33, 5: 32, 14: 31, 12: 25, 15: 24, 0: 21, 11: 15, 8: 14, 13: 13, 2: 12, 3: 7, 4: 4, 9: 3, 10: 1}\n",
      "54 350 {13: 57, 4: 56, 9: 43, 12: 41, 8: 41, 0: 41, 5: 33, 11: 28, 3: 25, 17: 19, 18: 19, 6: 18, 7: 16, 19: 14, 14: 12, 2: 10, 15: 9, 1: 7, 10: 6, 16: 5}\n",
      "44 350 {0: 49, 19: 48, 5: 45, 13: 41, 8: 38, 6: 35, 12: 33, 18: 32, 4: 30, 11: 24, 16: 23, 14: 19, 9: 17, 7: 15, 1: 13, 17: 11, 2: 8, 10: 7, 3: 6, 15: 6}\n",
      "7 350 {5: 58, 18: 43, 19: 41, 10: 39, 16: 36, 8: 34, 1: 30, 14: 29, 15: 27, 12: 25, 2: 23, 6: 21, 7: 20, 0: 20, 13: 15, 4: 11, 9: 10, 17: 9, 11: 8, 3: 1}\n",
      "12 350 {5: 63, 19: 55, 18: 49, 17: 46, 7: 45, 1: 35, 16: 31, 0: 30, 6: 28, 12: 26, 11: 20, 13: 18, 9: 14, 8: 12, 14: 11, 4: 9, 15: 5, 3: 2, 2: 1}\n",
      "2 350 {8: 47, 4: 46, 0: 40, 19: 35, 12: 34, 5: 33, 13: 30, 18: 28, 6: 24, 14: 24, 11: 23, 17: 23, 1: 21, 2: 20, 9: 20, 16: 19, 7: 17, 15: 10, 10: 5, 3: 1}\n",
      "41 350 {2: 142, 10: 70, 15: 33, 5: 31, 12: 29, 0: 27, 18: 19, 17: 18, 7: 18, 14: 18, 19: 15, 13: 14, 8: 14, 11: 13, 6: 12, 1: 12, 4: 7, 16: 6, 9: 2}\n",
      "37 350 {19: 89, 18: 57, 6: 50, 5: 44, 0: 43, 12: 37, 16: 34, 8: 29, 7: 26, 17: 26, 13: 19, 11: 12, 1: 12, 15: 9, 4: 5, 14: 4, 2: 2, 9: 1, 10: 1}\n",
      "13 350 {12: 58, 19: 53, 0: 48, 18: 45, 5: 42, 6: 40, 8: 31, 17: 30, 13: 25, 16: 23, 11: 22, 7: 19, 4: 18, 1: 13, 15: 11, 9: 7, 14: 6, 2: 5, 10: 2, 3: 2}\n",
      "25 350 {16: 46, 19: 42, 6: 41, 0: 36, 15: 33, 12: 31, 5: 30, 8: 27, 4: 27, 18: 25, 17: 24, 13: 22, 7: 19, 2: 19, 11: 17, 14: 15, 9: 15, 1: 13, 10: 12, 3: 6}\n",
      "10 350 {14: 36, 4: 35, 15: 34, 18: 32, 0: 32, 19: 32, 7: 31, 2: 29, 8: 28, 1: 25, 16: 25, 13: 24, 5: 23, 6: 20, 10: 19, 12: 18, 3: 15, 9: 15, 11: 15, 17: 12}\n",
      "57 350 {2: 55, 10: 42, 15: 39, 13: 32, 0: 30, 8: 27, 4: 27, 19: 25, 5: 24, 14: 24, 12: 22, 1: 21, 16: 20, 9: 19, 18: 19, 11: 19, 17: 16, 3: 15, 7: 14, 6: 10}\n",
      "5 350 {19: 62, 6: 42, 18: 37, 12: 36, 15: 36, 5: 35, 11: 35, 0: 33, 16: 33, 2: 21, 13: 21, 7: 18, 4: 18, 8: 17, 17: 16, 14: 16, 1: 9, 10: 9, 9: 5, 3: 1}\n",
      "60 350 {17: 69, 5: 65, 18: 62, 7: 55, 1: 42, 11: 39, 19: 36, 16: 30, 12: 22, 14: 18, 0: 15, 6: 12, 13: 12, 4: 6, 8: 5, 15: 5, 9: 4, 3: 2, 2: 1}\n",
      "91 350 {2: 62, 10: 53, 0: 45, 4: 40, 13: 39, 15: 36, 9: 33, 8: 29, 12: 24, 5: 24, 11: 16, 3: 15, 18: 15, 16: 15, 19: 15, 6: 15, 17: 7, 14: 7, 7: 6, 1: 4}\n",
      "3 350 {0: 50, 5: 48, 18: 40, 12: 40, 19: 40, 7: 35, 13: 35, 8: 32, 6: 30, 17: 24, 11: 24, 1: 24, 4: 18, 14: 17, 9: 14, 16: 13, 15: 11, 2: 3, 3: 1, 10: 1}\n",
      "58 350 {19: 51, 0: 50, 18: 47, 5: 42, 16: 38, 12: 36, 6: 36, 13: 34, 8: 28, 11: 27, 17: 26, 15: 24, 7: 16, 14: 14, 4: 8, 1: 7, 2: 6, 9: 5, 3: 3, 10: 2}\n",
      "16 350 {15: 62, 2: 51, 14: 37, 5: 33, 6: 32, 0: 30, 1: 30, 7: 29, 12: 28, 4: 20, 19: 20, 16: 20, 18: 19, 10: 18, 8: 17, 17: 14, 11: 14, 13: 11, 9: 10, 3: 5}\n",
      "35000 32191\n"
     ]
    },
    {
     "name": "stderr",
     "output_type": "stream",
     "text": [
      "Epoch 1/10: 100%|██████████| 55/55 [00:24<00:00,  2.24 batch/s, loss=4.2432]\n",
      "Validating: 100%|██████████| 14/14 [00:02<00:00,  5.64 batch/s]\n"
     ]
    },
    {
     "name": "stdout",
     "output_type": "stream",
     "text": [
      "\u001b[1m\u001b[36mBest valid accuracy improved from 0.00% to 12.51%. Saving checkpoint...\n",
      "\u001b[0m"
     ]
    },
    {
     "name": "stderr",
     "output_type": "stream",
     "text": [
      "Epoch 2/10: 100%|██████████| 55/55 [00:24<00:00,  2.24 batch/s, loss=3.3461]\n",
      "Validating: 100%|██████████| 14/14 [00:02<00:00,  5.69 batch/s]\n"
     ]
    },
    {
     "name": "stdout",
     "output_type": "stream",
     "text": [
      "\u001b[1m\u001b[36mBest valid accuracy improved from 12.51% to 16.84%. Saving checkpoint...\n",
      "\u001b[0m"
     ]
    },
    {
     "name": "stderr",
     "output_type": "stream",
     "text": [
      "Epoch 3/10: 100%|██████████| 55/55 [00:24<00:00,  2.24 batch/s, loss=3.1250]\n",
      "Validating: 100%|██████████| 14/14 [00:02<00:00,  5.69 batch/s]\n",
      "Epoch 4/10: 100%|██████████| 55/55 [00:24<00:00,  2.24 batch/s, loss=3.3975]\n",
      "Validating: 100%|██████████| 14/14 [00:02<00:00,  5.68 batch/s]\n",
      "Epoch 5/10: 100%|██████████| 55/55 [00:24<00:00,  2.24 batch/s, loss=3.0029]\n",
      "Validating: 100%|██████████| 14/14 [00:02<00:00,  5.69 batch/s]\n"
     ]
    },
    {
     "name": "stdout",
     "output_type": "stream",
     "text": [
      "\u001b[1m\u001b[36mBest valid accuracy improved from 16.84% to 23.80%. Saving checkpoint...\n",
      "\u001b[0m"
     ]
    },
    {
     "name": "stderr",
     "output_type": "stream",
     "text": [
      "Epoch 6/10: 100%|██████████| 55/55 [00:24<00:00,  2.24 batch/s, loss=2.6136]\n",
      "Validating: 100%|██████████| 14/14 [00:02<00:00,  5.69 batch/s]\n"
     ]
    },
    {
     "name": "stdout",
     "output_type": "stream",
     "text": [
      "\u001b[1m\u001b[36mBest valid accuracy improved from 23.80% to 26.01%. Saving checkpoint...\n",
      "\u001b[0m"
     ]
    },
    {
     "name": "stderr",
     "output_type": "stream",
     "text": [
      "Epoch 7/10: 100%|██████████| 55/55 [00:24<00:00,  2.24 batch/s, loss=2.3204]\n",
      "Validating: 100%|██████████| 14/14 [00:02<00:00,  5.68 batch/s]\n",
      "Epoch 8/10: 100%|██████████| 55/55 [00:24<00:00,  2.24 batch/s, loss=2.2177]\n",
      "Validating: 100%|██████████| 14/14 [00:02<00:00,  5.70 batch/s]\n"
     ]
    },
    {
     "name": "stdout",
     "output_type": "stream",
     "text": [
      "\u001b[1m\u001b[36mBest valid accuracy improved from 26.01% to 29.10%. Saving checkpoint...\n",
      "\u001b[0m"
     ]
    },
    {
     "name": "stderr",
     "output_type": "stream",
     "text": [
      "Epoch 9/10: 100%|██████████| 55/55 [00:24<00:00,  2.24 batch/s, loss=1.8140]\n",
      "Validating: 100%|██████████| 14/14 [00:02<00:00,  5.68 batch/s]\n",
      "Epoch 10/10: 100%|██████████| 55/55 [00:24<00:00,  2.24 batch/s, loss=1.4928]\n",
      "Validating: 100%|██████████| 14/14 [00:02<00:00,  5.68 batch/s]\n"
     ]
    },
    {
     "name": "stdout",
     "output_type": "stream",
     "text": [
      "\u001b[1m\u001b[36mBest valid accuracy improved from 29.10% to 30.09%. Saving checkpoint...\n",
      "\u001b[0m"
     ]
    },
    {
     "name": "stderr",
     "output_type": "stream",
     "text": [
      "Testing: 100%|██████████| 20/20 [00:03<00:00,  5.69 batch/s]\n"
     ]
    },
    {
     "name": "stdout",
     "output_type": "stream",
     "text": [
      "\u001b[1m\u001b[95mRunning run r50,ep:10,bs:512,clip:None,nc:20,mp:0.01,fe/8\n",
      "\u001b[0m19 400 {19: 66, 0: 51, 5: 50, 12: 49, 6: 45, 8: 43, 13: 31, 18: 31, 17: 25, 7: 25, 11: 22, 16: 22, 1: 10, 4: 9, 9: 6, 15: 6, 14: 5, 10: 2, 2: 1, 3: 1}\n",
      "29 400 {2: 78, 10: 61, 3: 38, 0: 30, 15: 29, 8: 26, 5: 25, 18: 24, 13: 23, 19: 21, 16: 21, 4: 18, 14: 17, 1: 15, 9: 14, 17: 14, 6: 13, 7: 12, 12: 12, 11: 9}\n",
      "0 400 {15: 50, 2: 41, 14: 39, 4: 39, 13: 35, 8: 33, 16: 30, 5: 29, 18: 25, 1: 22, 0: 22, 11: 20, 7: 16, 9: 16, 6: 16, 19: 16, 10: 15, 17: 13, 12: 13, 3: 10}\n",
      "11 400 {17: 46, 8: 42, 4: 39, 13: 34, 0: 31, 18: 31, 5: 30, 12: 27, 11: 27, 7: 24, 10: 24, 9: 23, 2: 21, 6: 21, 1: 19, 14: 18, 19: 17, 15: 11, 16: 8, 3: 7}\n",
      "1 400 {9: 82, 13: 82, 4: 77, 8: 48, 0: 41, 11: 38, 3: 26, 6: 25, 12: 19, 5: 17, 19: 10, 18: 8, 17: 8, 14: 6, 7: 3, 16: 3, 15: 3, 1: 2, 10: 1, 2: 1}\n",
      "86 400 {2: 85, 15: 72, 10: 64, 14: 56, 1: 26, 18: 25, 7: 25, 16: 23, 8: 17, 5: 17, 0: 15, 19: 12, 4: 11, 13: 10, 6: 9, 9: 9, 17: 8, 11: 7, 12: 6, 3: 3}\n",
      "90 400 {19: 64, 6: 52, 0: 49, 12: 42, 8: 41, 18: 40, 5: 37, 16: 33, 7: 26, 17: 20, 1: 19, 13: 19, 4: 16, 11: 14, 9: 12, 14: 11, 15: 3, 2: 1, 3: 1}\n",
      "28 400 {14: 54, 1: 38, 7: 35, 3: 33, 2: 32, 9: 31, 4: 30, 8: 26, 5: 25, 0: 23, 10: 23, 17: 21, 15: 19, 13: 19, 19: 17, 12: 16, 6: 16, 18: 16, 16: 14, 11: 12}\n",
      "23 400 {5: 65, 17: 50, 7: 48, 11: 41, 18: 40, 19: 40, 1: 32, 16: 26, 12: 25, 14: 25, 6: 20, 0: 20, 13: 19, 15: 15, 4: 10, 8: 8, 2: 5, 9: 5, 3: 3, 10: 3}\n",
      "31 400 {5: 58, 6: 58, 19: 57, 18: 55, 12: 49, 0: 47, 8: 26, 16: 22, 11: 21, 1: 21, 7: 21, 13: 19, 17: 12, 14: 10, 4: 10, 15: 7, 9: 5, 2: 2}\n",
      "39 400 {5: 50, 18: 45, 10: 43, 19: 37, 16: 35, 0: 32, 11: 31, 6: 29, 2: 29, 13: 26, 12: 24, 14: 20, 8: 20, 15: 19, 17: 15, 7: 13, 4: 12, 9: 9, 1: 6, 3: 5}\n",
      "96 400 {5: 60, 12: 46, 17: 45, 7: 41, 0: 40, 18: 38, 19: 37, 6: 31, 11: 30, 8: 29, 13: 26, 1: 17, 4: 17, 16: 16, 14: 8, 15: 8, 9: 6, 3: 2, 2: 2, 10: 1}\n",
      "82 400 {0: 63, 8: 57, 5: 48, 12: 40, 19: 37, 13: 32, 7: 28, 4: 27, 6: 26, 18: 26, 17: 22, 1: 19, 14: 14, 15: 14, 11: 13, 9: 11, 16: 10, 2: 7, 3: 4, 10: 2}\n",
      "17 400 {19: 67, 5: 66, 7: 57, 18: 56, 17: 53, 1: 38, 11: 30, 12: 25, 6: 25, 16: 24, 0: 23, 14: 15, 8: 10, 4: 5, 13: 4, 15: 1, 9: 1}\n",
      "71 400 {18: 71, 5: 60, 7: 52, 17: 48, 19: 41, 16: 40, 11: 36, 13: 24, 1: 23, 0: 19, 12: 16, 4: 15, 14: 14, 9: 10, 8: 10, 6: 9, 3: 6, 15: 4, 2: 2}\n",
      "8 400 {15: 44, 18: 40, 5: 39, 12: 38, 0: 36, 19: 34, 6: 33, 17: 33, 14: 27, 2: 25, 16: 23, 7: 23, 11: 23, 8: 20, 13: 17, 1: 16, 4: 10, 10: 9, 3: 8, 9: 2}\n",
      "97 400 {0: 59, 8: 56, 13: 52, 4: 47, 12: 33, 6: 31, 9: 29, 5: 28, 11: 25, 19: 24, 7: 20, 18: 18, 16: 16, 14: 15, 1: 15, 15: 12, 17: 9, 3: 6, 2: 5}\n",
      "80 400 {5: 69, 12: 67, 19: 46, 0: 44, 8: 41, 6: 35, 18: 33, 13: 31, 7: 27, 4: 22, 17: 21, 11: 17, 1: 17, 14: 14, 16: 10, 15: 5, 9: 1}\n",
      "74 400 {13: 57, 8: 54, 0: 48, 5: 40, 4: 39, 12: 39, 19: 32, 6: 31, 18: 30, 9: 20, 11: 19, 14: 15, 16: 13, 2: 12, 17: 12, 15: 11, 10: 10, 1: 8, 7: 6, 3: 4}\n",
      "59 400 {7: 82, 17: 54, 5: 52, 19: 38, 6: 34, 12: 32, 1: 31, 18: 27, 0: 26, 13: 21, 16: 20, 11: 20, 14: 19, 8: 15, 15: 10, 4: 8, 2: 6, 10: 4, 9: 1}\n",
      "70 400 {13: 69, 4: 65, 9: 56, 8: 54, 0: 41, 5: 34, 12: 28, 11: 24, 3: 22, 19: 17, 6: 14, 18: 13, 7: 12, 17: 11, 14: 10, 16: 9, 15: 8, 1: 5, 2: 5, 10: 3}\n",
      "87 400 {8: 45, 4: 38, 13: 33, 5: 32, 19: 30, 2: 29, 16: 28, 15: 28, 0: 27, 17: 26, 14: 25, 11: 24, 18: 23, 1: 20, 9: 18, 7: 17, 12: 16, 10: 16, 6: 16, 3: 9}\n",
      "84 400 {5: 38, 8: 37, 0: 37, 11: 36, 19: 35, 6: 35, 13: 32, 12: 31, 18: 30, 7: 29, 10: 25, 17: 23, 16: 21, 4: 20, 2: 16, 1: 14, 9: 13, 14: 13, 15: 11, 3: 4}\n",
      "64 400 {4: 77, 8: 61, 13: 58, 9: 47, 0: 42, 5: 29, 12: 28, 11: 28, 19: 22, 3: 22, 18: 21, 6: 17, 17: 15, 7: 10, 14: 7, 16: 6, 15: 4, 1: 4, 2: 2}\n",
      "52 400 {7: 77, 5: 70, 19: 62, 17: 52, 18: 50, 1: 33, 12: 27, 0: 25, 6: 25, 16: 24, 11: 16, 14: 14, 8: 9, 13: 5, 4: 4, 15: 4, 10: 1, 3: 1, 2: 1}\n",
      "42 400 {0: 70, 8: 61, 13: 58, 12: 58, 6: 40, 4: 38, 5: 30, 11: 26, 19: 21, 9: 17, 7: 16, 18: 16, 17: 11, 16: 10, 14: 10, 3: 9, 15: 4, 1: 3, 2: 2}\n",
      "47 400 {5: 71, 17: 60, 0: 42, 7: 42, 11: 42, 18: 30, 12: 29, 13: 28, 6: 26, 1: 23, 8: 23, 19: 21, 4: 15, 16: 10, 15: 9, 2: 9, 14: 7, 10: 6, 9: 5, 3: 2}\n",
      "65 400 {5: 56, 0: 51, 8: 48, 13: 44, 12: 37, 6: 36, 19: 32, 11: 32, 4: 30, 18: 27, 9: 20, 7: 19, 17: 16, 1: 14, 16: 14, 14: 6, 15: 6, 3: 5, 2: 5, 10: 2}\n",
      "21 400 {13: 54, 17: 44, 8: 42, 4: 42, 11: 38, 0: 37, 12: 33, 7: 30, 5: 30, 9: 29, 18: 26, 6: 25, 19: 22, 1: 16, 3: 11, 16: 9, 14: 8, 15: 3, 2: 1}\n",
      "22 400 {15: 60, 2: 40, 14: 38, 5: 35, 1: 32, 19: 29, 18: 25, 4: 25, 8: 24, 0: 23, 9: 22, 17: 22, 12: 20, 6: 20, 10: 18, 16: 17, 13: 15, 7: 13, 11: 13, 3: 9}\n",
      "81 400 {19: 73, 12: 50, 5: 50, 0: 49, 18: 45, 6: 42, 16: 30, 17: 27, 8: 25, 13: 22, 7: 21, 4: 19, 11: 17, 14: 10, 1: 9, 3: 4, 9: 3, 15: 3, 2: 1}\n",
      "24 400 {10: 189, 2: 66, 18: 43, 14: 39, 15: 33, 19: 21, 5: 20, 16: 19, 1: 17, 6: 13, 7: 11, 12: 10, 0: 8, 8: 5, 4: 3, 17: 2, 13: 1}\n",
      "78 400 {12: 54, 19: 52, 0: 52, 18: 52, 5: 39, 13: 36, 8: 33, 4: 27, 6: 25, 16: 20, 9: 18, 11: 15, 1: 15, 14: 13, 15: 11, 7: 10, 10: 9, 2: 7, 3: 6, 17: 6}\n",
      "45 400 {8: 48, 13: 46, 4: 37, 11: 37, 15: 33, 18: 30, 0: 29, 9: 29, 3: 25, 19: 22, 6: 21, 12: 21, 5: 20, 2: 20, 16: 16, 7: 14, 14: 14, 10: 13, 1: 13, 17: 12}\n",
      "49 400 {17: 71, 11: 57, 5: 57, 7: 45, 19: 37, 18: 35, 6: 29, 13: 28, 12: 28, 0: 24, 1: 22, 8: 21, 16: 16, 4: 13, 15: 6, 14: 4, 9: 4, 2: 2, 3: 1}\n",
      "56 400 {7: 76, 5: 54, 17: 49, 1: 46, 19: 40, 18: 39, 11: 31, 14: 25, 12: 24, 6: 23, 16: 22, 0: 22, 8: 18, 13: 12, 15: 10, 4: 4, 2: 3, 9: 2}\n",
      "76 400 {7: 100, 1: 65, 5: 57, 17: 49, 18: 30, 14: 26, 12: 26, 11: 26, 13: 22, 0: 21, 8: 21, 6: 15, 19: 13, 4: 8, 15: 7, 9: 4, 2: 4, 16: 3, 3: 3}\n",
      "89 400 {19: 63, 5: 47, 0: 44, 18: 44, 6: 44, 12: 43, 17: 36, 16: 34, 7: 32, 11: 23, 13: 20, 8: 17, 1: 14, 2: 8, 4: 8, 14: 8, 9: 7, 15: 7, 3: 1}\n",
      "73 400 {0: 68, 13: 56, 4: 44, 5: 44, 9: 44, 8: 42, 19: 30, 18: 29, 12: 29, 3: 28, 11: 24, 6: 21, 17: 10, 1: 7, 16: 7, 14: 7, 7: 5, 15: 3, 2: 2}\n",
      "14 400 {0: 60, 13: 56, 12: 45, 4: 45, 5: 42, 8: 41, 19: 32, 6: 27, 11: 25, 18: 21, 16: 19, 1: 16, 17: 16, 9: 13, 7: 13, 14: 7, 15: 7, 3: 6, 10: 5, 2: 4}\n",
      "9 400 {7: 62, 10: 47, 1: 46, 14: 44, 2: 40, 19: 31, 18: 28, 5: 28, 15: 23, 17: 18, 13: 17, 0: 17, 4: 16, 11: 15, 8: 13, 6: 13, 3: 13, 12: 11, 16: 9, 9: 9}\n",
      "6 400 {5: 54, 0: 47, 18: 37, 13: 37, 12: 37, 8: 36, 6: 34, 19: 32, 7: 29, 4: 21, 16: 20, 11: 20, 14: 14, 15: 14, 2: 13, 9: 13, 17: 12, 1: 12, 10: 10, 3: 8}\n",
      "20 400 {10: 146, 2: 95, 15: 81, 14: 47, 18: 22, 16: 17, 7: 15, 19: 14, 5: 12, 1: 11, 0: 8, 12: 6, 17: 6, 6: 5, 11: 5, 13: 4, 8: 4, 3: 1, 4: 1}\n",
      "98 400 {0: 48, 7: 42, 4: 39, 8: 36, 13: 35, 9: 35, 14: 32, 1: 31, 11: 29, 17: 26, 12: 24, 6: 20, 5: 20, 19: 18, 18: 17, 3: 15, 2: 14, 15: 14, 10: 4, 16: 1}\n",
      "36 400 {0: 49, 18: 47, 19: 41, 13: 38, 12: 37, 5: 34, 6: 32, 14: 31, 8: 29, 1: 27, 16: 26, 4: 25, 17: 19, 2: 17, 11: 15, 7: 13, 9: 8, 15: 8, 10: 3, 3: 1}\n",
      "55 400 {0: 49, 19: 49, 5: 48, 18: 45, 12: 41, 8: 34, 6: 29, 13: 28, 4: 21, 7: 21, 14: 20, 11: 19, 16: 18, 2: 17, 1: 15, 17: 15, 15: 12, 9: 11, 10: 4, 3: 4}\n",
      "72 400 {18: 58, 19: 44, 5: 44, 13: 32, 7: 30, 1: 28, 6: 28, 8: 28, 0: 28, 12: 27, 14: 26, 16: 25, 17: 25, 11: 19, 4: 16, 15: 16, 2: 13, 9: 10, 3: 3}\n",
      "43 400 {8: 73, 0: 56, 13: 51, 4: 50, 5: 41, 12: 37, 6: 37, 11: 25, 17: 22, 19: 21, 7: 19, 18: 17, 9: 16, 16: 11, 14: 7, 1: 7, 15: 5, 3: 4, 2: 1}\n",
      "51 400 {13: 79, 8: 68, 0: 67, 4: 55, 12: 46, 9: 43, 11: 32, 6: 25, 5: 22, 17: 17, 19: 8, 18: 8, 3: 7, 16: 5, 2: 4, 7: 4, 10: 3, 15: 3, 1: 2, 14: 2}\n",
      "35 400 {8: 56, 0: 42, 5: 41, 6: 37, 4: 35, 13: 32, 1: 28, 7: 28, 18: 26, 14: 25, 11: 25, 17: 23, 9: 23, 12: 21, 19: 19, 15: 9, 2: 9, 3: 7, 10: 7, 16: 7}\n",
      "83 400 {0: 41, 13: 41, 8: 40, 4: 30, 15: 30, 5: 28, 18: 28, 6: 25, 14: 25, 1: 24, 2: 23, 16: 22, 3: 22, 11: 21, 19: 20, 9: 20, 17: 19, 10: 16, 12: 16, 7: 9}\n",
      "33 400 {8: 86, 4: 67, 0: 67, 13: 64, 6: 42, 12: 36, 5: 27, 9: 25, 19: 24, 11: 19, 18: 12, 17: 10, 3: 8, 7: 6, 1: 3, 16: 3, 15: 1}\n",
      "27 400 {0: 58, 8: 54, 12: 46, 5: 44, 13: 42, 4: 42, 19: 40, 11: 34, 6: 31, 18: 28, 9: 21, 16: 17, 17: 13, 1: 12, 7: 11, 15: 3, 14: 2, 3: 1, 2: 1}\n",
      "53 400 {0: 47, 2: 46, 15: 45, 8: 40, 13: 36, 5: 31, 14: 28, 4: 25, 12: 22, 19: 21, 9: 20, 6: 19, 16: 19, 18: 17, 3: 17, 11: 17, 1: 13, 17: 13, 10: 12, 7: 12}\n",
      "92 400 {13: 80, 4: 73, 8: 64, 0: 59, 9: 57, 12: 30, 5: 26, 3: 21, 6: 18, 11: 16, 17: 14, 19: 10, 7: 8, 18: 6, 14: 5, 15: 5, 2: 4, 1: 3, 10: 1}\n",
      "50 400 {5: 49, 0: 44, 12: 39, 4: 39, 13: 36, 18: 35, 8: 34, 19: 34, 16: 23, 15: 23, 14: 19, 11: 18, 10: 17, 6: 17, 9: 15, 7: 14, 2: 13, 17: 11, 1: 10, 3: 10}\n",
      "15 400 {18: 48, 7: 43, 5: 42, 19: 38, 6: 37, 0: 33, 16: 32, 12: 30, 1: 27, 14: 26, 17: 26, 8: 24, 11: 22, 15: 19, 13: 18, 4: 14, 9: 10, 2: 6, 3: 3, 10: 2}\n",
      "18 400 {5: 63, 0: 52, 12: 52, 18: 38, 19: 35, 6: 35, 13: 33, 8: 31, 4: 24, 7: 24, 11: 22, 1: 17, 17: 17, 16: 12, 9: 11, 14: 11, 3: 8, 15: 7, 10: 6, 2: 2}\n",
      "46 400 {13: 51, 17: 45, 8: 44, 4: 41, 9: 36, 7: 34, 11: 30, 1: 28, 3: 28, 5: 27, 0: 25, 12: 23, 6: 17, 14: 17, 19: 17, 18: 13, 2: 9, 15: 7, 16: 7, 10: 1}\n",
      "75 400 {0: 67, 13: 52, 5: 50, 19: 45, 8: 43, 12: 39, 6: 30, 18: 29, 11: 25, 4: 25, 9: 21, 17: 17, 16: 16, 7: 15, 1: 7, 15: 7, 14: 6, 2: 5, 3: 1}\n",
      "38 400 {0: 57, 5: 52, 12: 50, 6: 38, 13: 38, 19: 37, 17: 36, 7: 33, 8: 31, 11: 30, 18: 24, 1: 22, 4: 12, 16: 10, 14: 8, 2: 6, 15: 6, 10: 4, 9: 3, 3: 3}\n",
      "66 400 {8: 61, 13: 55, 0: 54, 5: 49, 12: 47, 4: 40, 9: 26, 7: 24, 6: 23, 11: 22, 18: 18, 19: 18, 17: 16, 1: 11, 15: 9, 2: 8, 14: 6, 3: 6, 16: 4, 10: 3}\n",
      "77 400 {0: 56, 13: 45, 5: 43, 12: 40, 19: 39, 18: 38, 8: 35, 11: 33, 4: 32, 6: 24, 7: 21, 16: 16, 17: 16, 9: 14, 14: 13, 1: 11, 15: 9, 2: 9, 10: 4, 3: 2}\n",
      "69 400 {7: 53, 18: 47, 1: 47, 14: 39, 19: 38, 16: 33, 5: 33, 0: 29, 12: 22, 13: 21, 6: 20, 17: 20, 8: 19, 11: 16, 15: 15, 3: 12, 9: 10, 4: 10, 2: 9, 10: 7}\n",
      "95 400 {18: 64, 19: 59, 5: 43, 16: 35, 15: 34, 12: 32, 14: 30, 1: 30, 0: 26, 6: 25, 8: 20, 13: 18, 7: 16, 2: 16, 4: 13, 17: 12, 11: 12, 10: 11, 9: 4}\n",
      "99 400 {3: 44, 15: 40, 0: 37, 8: 34, 14: 32, 4: 31, 5: 30, 2: 30, 18: 29, 9: 28, 10: 27, 19: 26, 16: 26, 13: 23, 12: 21, 6: 18, 1: 9, 11: 6, 17: 5, 7: 4}\n",
      "93 400 {0: 50, 13: 45, 18: 42, 19: 42, 4: 41, 12: 39, 5: 36, 8: 34, 16: 26, 6: 21, 11: 19, 9: 19, 2: 14, 17: 14, 1: 13, 15: 12, 3: 9, 7: 8, 14: 8, 10: 8}\n",
      "4 400 {0: 70, 13: 53, 12: 47, 5: 42, 8: 35, 19: 35, 6: 33, 4: 28, 18: 28, 11: 24, 17: 14, 15: 14, 16: 14, 9: 13, 7: 12, 2: 12, 14: 11, 1: 10, 10: 5}\n",
      "61 400 {14: 44, 15: 43, 5: 42, 2: 39, 18: 35, 12: 33, 19: 32, 10: 30, 8: 28, 0: 27, 6: 26, 1: 23, 16: 22, 13: 18, 4: 17, 9: 11, 7: 10, 17: 8, 11: 7, 3: 5}\n",
      "94 400 {5: 52, 11: 51, 17: 42, 0: 40, 7: 39, 1: 37, 8: 29, 14: 28, 4: 25, 18: 22, 12: 22, 13: 20, 19: 20, 2: 18, 10: 14, 9: 11, 16: 11, 6: 11, 3: 5, 15: 3}\n",
      "68 400 {19: 95, 6: 76, 18: 64, 5: 59, 16: 49, 8: 33, 12: 32, 0: 21, 7: 18, 17: 15, 1: 13, 13: 10, 4: 6, 11: 4, 15: 3, 14: 2}\n",
      "34 400 {0: 61, 13: 52, 8: 52, 12: 47, 5: 46, 4: 38, 19: 32, 6: 29, 18: 22, 11: 22, 16: 17, 7: 16, 9: 14, 17: 12, 1: 11, 14: 11, 15: 9, 2: 5, 10: 2, 3: 2}\n",
      "32 400 {5: 43, 19: 41, 7: 36, 12: 34, 1: 33, 0: 32, 18: 32, 16: 29, 17: 28, 6: 26, 15: 25, 13: 23, 11: 23, 8: 22, 2: 20, 14: 20, 4: 14, 9: 12, 10: 4, 3: 3}\n",
      "88 400 {0: 61, 8: 59, 13: 53, 4: 53, 5: 44, 12: 41, 6: 28, 7: 24, 11: 23, 19: 20, 18: 20, 9: 17, 1: 12, 17: 11, 16: 9, 14: 8, 2: 7, 3: 5, 15: 4, 10: 1}\n",
      "67 400 {18: 63, 19: 51, 5: 48, 0: 40, 13: 31, 16: 30, 14: 27, 1: 26, 12: 24, 4: 23, 7: 21, 8: 21, 6: 19, 9: 18, 11: 17, 15: 13, 17: 12, 2: 8, 3: 6, 10: 2}\n",
      "30 400 {5: 63, 18: 57, 19: 51, 0: 45, 12: 36, 8: 34, 13: 29, 11: 25, 6: 24, 14: 23, 7: 23, 4: 23, 1: 20, 17: 17, 16: 15, 15: 9, 9: 4, 2: 1, 3: 1}\n",
      "62 400 {13: 89, 4: 76, 8: 66, 0: 64, 9: 35, 11: 31, 12: 30, 5: 23, 3: 22, 6: 17, 17: 14, 19: 11, 18: 7, 16: 4, 14: 4, 1: 3, 7: 3, 2: 1}\n",
      "63 400 {13: 68, 4: 59, 5: 59, 0: 41, 8: 36, 19: 36, 9: 32, 11: 30, 6: 26, 18: 23, 17: 21, 12: 20, 7: 17, 14: 9, 1: 6, 15: 6, 16: 5, 2: 4, 3: 1, 10: 1}\n",
      "40 400 {14: 54, 2: 41, 10: 37, 9: 31, 1: 29, 4: 28, 7: 28, 13: 27, 18: 27, 8: 25, 5: 25, 0: 23, 3: 23, 11: 21, 17: 18, 6: 16, 19: 15, 15: 13, 12: 12, 16: 7}\n",
      "26 400 {4: 46, 13: 46, 5: 41, 2: 36, 9: 35, 8: 32, 0: 31, 16: 29, 15: 28, 18: 28, 12: 22, 10: 21, 19: 20, 11: 19, 6: 17, 3: 14, 7: 14, 14: 12, 1: 7, 17: 2}\n",
      "48 400 {15: 48, 0: 46, 19: 40, 12: 40, 2: 38, 18: 37, 16: 32, 6: 31, 5: 27, 17: 26, 8: 24, 11: 20, 4: 16, 14: 16, 13: 16, 7: 13, 1: 11, 10: 10, 9: 6, 3: 3}\n",
      "79 400 {18: 51, 5: 47, 19: 47, 0: 42, 12: 38, 8: 26, 7: 26, 13: 24, 6: 24, 4: 23, 16: 21, 14: 19, 9: 19, 11: 18, 1: 16, 17: 15, 3: 14, 15: 13, 2: 11, 10: 6}\n",
      "85 400 {18: 51, 7: 51, 1: 51, 19: 40, 17: 37, 16: 35, 6: 33, 5: 32, 14: 31, 12: 25, 15: 24, 0: 21, 11: 15, 8: 14, 13: 13, 2: 12, 3: 7, 4: 4, 9: 3, 10: 1}\n",
      "54 400 {13: 57, 4: 56, 9: 43, 12: 41, 8: 41, 0: 41, 5: 33, 11: 28, 3: 25, 17: 19, 18: 19, 6: 18, 7: 16, 19: 14, 14: 12, 2: 10, 15: 9, 1: 7, 10: 6, 16: 5}\n",
      "44 400 {0: 49, 19: 48, 5: 45, 13: 41, 8: 38, 6: 35, 12: 33, 18: 32, 4: 30, 11: 24, 16: 23, 14: 19, 9: 17, 7: 15, 1: 13, 17: 11, 2: 8, 10: 7, 3: 6, 15: 6}\n",
      "7 400 {5: 58, 18: 43, 19: 41, 10: 39, 16: 36, 8: 34, 1: 30, 14: 29, 15: 27, 12: 25, 2: 23, 6: 21, 7: 20, 0: 20, 13: 15, 4: 11, 9: 10, 17: 9, 11: 8, 3: 1}\n",
      "12 400 {5: 63, 19: 55, 18: 49, 17: 46, 7: 45, 1: 35, 16: 31, 0: 30, 6: 28, 12: 26, 11: 20, 13: 18, 9: 14, 8: 12, 14: 11, 4: 9, 15: 5, 3: 2, 2: 1}\n",
      "2 400 {8: 47, 4: 46, 0: 40, 19: 35, 12: 34, 5: 33, 13: 30, 18: 28, 6: 24, 14: 24, 11: 23, 17: 23, 1: 21, 2: 20, 9: 20, 16: 19, 7: 17, 15: 10, 10: 5, 3: 1}\n",
      "41 400 {2: 142, 10: 70, 15: 33, 5: 31, 12: 29, 0: 27, 18: 19, 17: 18, 7: 18, 14: 18, 19: 15, 13: 14, 8: 14, 11: 13, 6: 12, 1: 12, 4: 7, 16: 6, 9: 2}\n",
      "37 400 {19: 89, 18: 57, 6: 50, 5: 44, 0: 43, 12: 37, 16: 34, 8: 29, 7: 26, 17: 26, 13: 19, 11: 12, 1: 12, 15: 9, 4: 5, 14: 4, 2: 2, 9: 1, 10: 1}\n",
      "13 400 {12: 58, 19: 53, 0: 48, 18: 45, 5: 42, 6: 40, 8: 31, 17: 30, 13: 25, 16: 23, 11: 22, 7: 19, 4: 18, 1: 13, 15: 11, 9: 7, 14: 6, 2: 5, 10: 2, 3: 2}\n",
      "25 400 {16: 46, 19: 42, 6: 41, 0: 36, 15: 33, 12: 31, 5: 30, 8: 27, 4: 27, 18: 25, 17: 24, 13: 22, 7: 19, 2: 19, 11: 17, 14: 15, 9: 15, 1: 13, 10: 12, 3: 6}\n",
      "10 400 {14: 36, 4: 35, 15: 34, 18: 32, 0: 32, 19: 32, 7: 31, 2: 29, 8: 28, 1: 25, 16: 25, 13: 24, 5: 23, 6: 20, 10: 19, 12: 18, 3: 15, 9: 15, 11: 15, 17: 12}\n",
      "57 400 {2: 55, 10: 42, 15: 39, 13: 32, 0: 30, 8: 27, 4: 27, 19: 25, 5: 24, 14: 24, 12: 22, 1: 21, 16: 20, 9: 19, 18: 19, 11: 19, 17: 16, 3: 15, 7: 14, 6: 10}\n",
      "5 400 {19: 62, 6: 42, 18: 37, 12: 36, 15: 36, 5: 35, 11: 35, 0: 33, 16: 33, 2: 21, 13: 21, 7: 18, 4: 18, 8: 17, 17: 16, 14: 16, 1: 9, 10: 9, 9: 5, 3: 1}\n",
      "60 400 {17: 69, 5: 65, 18: 62, 7: 55, 1: 42, 11: 39, 19: 36, 16: 30, 12: 22, 14: 18, 0: 15, 6: 12, 13: 12, 4: 6, 8: 5, 15: 5, 9: 4, 3: 2, 2: 1}\n",
      "91 400 {2: 62, 10: 53, 0: 45, 4: 40, 13: 39, 15: 36, 9: 33, 8: 29, 12: 24, 5: 24, 11: 16, 3: 15, 18: 15, 16: 15, 19: 15, 6: 15, 17: 7, 14: 7, 7: 6, 1: 4}\n",
      "3 400 {0: 50, 5: 48, 18: 40, 12: 40, 19: 40, 7: 35, 13: 35, 8: 32, 6: 30, 17: 24, 11: 24, 1: 24, 4: 18, 14: 17, 9: 14, 16: 13, 15: 11, 2: 3, 3: 1, 10: 1}\n",
      "58 400 {19: 51, 0: 50, 18: 47, 5: 42, 16: 38, 12: 36, 6: 36, 13: 34, 8: 28, 11: 27, 17: 26, 15: 24, 7: 16, 14: 14, 4: 8, 1: 7, 2: 6, 9: 5, 3: 3, 10: 2}\n",
      "16 400 {15: 62, 2: 51, 14: 37, 5: 33, 6: 32, 0: 30, 1: 30, 7: 29, 12: 28, 4: 20, 19: 20, 16: 20, 18: 19, 10: 18, 8: 17, 17: 14, 11: 14, 13: 11, 9: 10, 3: 5}\n",
      "40000 33186\n"
     ]
    },
    {
     "name": "stderr",
     "output_type": "stream",
     "text": [
      "Epoch 1/10: 100%|██████████| 63/63 [00:28<00:00,  2.25 batch/s, loss=4.2676]\n",
      "Validating: 100%|██████████| 16/16 [00:02<00:00,  5.68 batch/s]\n"
     ]
    },
    {
     "name": "stdout",
     "output_type": "stream",
     "text": [
      "\u001b[1m\u001b[36mBest valid accuracy improved from 0.00% to 11.85%. Saving checkpoint...\n",
      "\u001b[0m"
     ]
    },
    {
     "name": "stderr",
     "output_type": "stream",
     "text": [
      "Epoch 2/10: 100%|██████████| 63/63 [00:28<00:00,  2.24 batch/s, loss=3.4589]\n",
      "Validating: 100%|██████████| 16/16 [00:02<00:00,  5.68 batch/s]\n"
     ]
    },
    {
     "name": "stdout",
     "output_type": "stream",
     "text": [
      "\u001b[1m\u001b[36mBest valid accuracy improved from 11.85% to 18.36%. Saving checkpoint...\n",
      "\u001b[0m"
     ]
    },
    {
     "name": "stderr",
     "output_type": "stream",
     "text": [
      "Epoch 3/10: 100%|██████████| 63/63 [00:28<00:00,  2.24 batch/s, loss=3.1187]\n",
      "Validating: 100%|██████████| 16/16 [00:02<00:00,  5.66 batch/s]\n"
     ]
    },
    {
     "name": "stdout",
     "output_type": "stream",
     "text": [
      "\u001b[1m\u001b[36mBest valid accuracy improved from 18.36% to 18.76%. Saving checkpoint...\n",
      "\u001b[0m"
     ]
    },
    {
     "name": "stderr",
     "output_type": "stream",
     "text": [
      "Epoch 4/10: 100%|██████████| 63/63 [00:28<00:00,  2.24 batch/s, loss=2.9298]\n",
      "Validating: 100%|██████████| 16/16 [00:02<00:00,  5.68 batch/s]\n"
     ]
    },
    {
     "name": "stdout",
     "output_type": "stream",
     "text": [
      "\u001b[1m\u001b[36mBest valid accuracy improved from 18.76% to 23.24%. Saving checkpoint...\n",
      "\u001b[0m"
     ]
    },
    {
     "name": "stderr",
     "output_type": "stream",
     "text": [
      "Epoch 5/10: 100%|██████████| 63/63 [00:28<00:00,  2.24 batch/s, loss=2.5412]\n",
      "Validating: 100%|██████████| 16/16 [00:02<00:00,  5.69 batch/s]\n"
     ]
    },
    {
     "name": "stdout",
     "output_type": "stream",
     "text": [
      "\u001b[1m\u001b[36mBest valid accuracy improved from 23.24% to 24.74%. Saving checkpoint...\n",
      "\u001b[0m"
     ]
    },
    {
     "name": "stderr",
     "output_type": "stream",
     "text": [
      "Epoch 6/10: 100%|██████████| 63/63 [00:28<00:00,  2.25 batch/s, loss=2.2444]\n",
      "Validating: 100%|██████████| 16/16 [00:02<00:00,  5.70 batch/s]\n",
      "Epoch 7/10: 100%|██████████| 63/63 [00:27<00:00,  2.25 batch/s, loss=1.9520]\n",
      "Validating: 100%|██████████| 16/16 [00:02<00:00,  5.70 batch/s]\n"
     ]
    },
    {
     "name": "stdout",
     "output_type": "stream",
     "text": [
      "\u001b[1m\u001b[36mBest valid accuracy improved from 24.74% to 26.29%. Saving checkpoint...\n",
      "\u001b[0m"
     ]
    },
    {
     "name": "stderr",
     "output_type": "stream",
     "text": [
      "Epoch 8/10: 100%|██████████| 63/63 [00:28<00:00,  2.24 batch/s, loss=1.6850]\n",
      "Validating: 100%|██████████| 16/16 [00:02<00:00,  5.59 batch/s]\n"
     ]
    },
    {
     "name": "stdout",
     "output_type": "stream",
     "text": [
      "\u001b[1m\u001b[36mBest valid accuracy improved from 26.29% to 28.27%. Saving checkpoint...\n",
      "\u001b[0m"
     ]
    },
    {
     "name": "stderr",
     "output_type": "stream",
     "text": [
      "Epoch 9/10: 100%|██████████| 63/63 [00:28<00:00,  2.24 batch/s, loss=1.4832]\n",
      "Validating: 100%|██████████| 16/16 [00:02<00:00,  5.70 batch/s]\n"
     ]
    },
    {
     "name": "stdout",
     "output_type": "stream",
     "text": [
      "\u001b[1m\u001b[36mBest valid accuracy improved from 28.27% to 28.66%. Saving checkpoint...\n",
      "\u001b[0m"
     ]
    },
    {
     "name": "stderr",
     "output_type": "stream",
     "text": [
      "Epoch 10/10: 100%|██████████| 63/63 [00:28<00:00,  2.25 batch/s, loss=1.2190]\n",
      "Validating: 100%|██████████| 16/16 [00:02<00:00,  5.70 batch/s]\n",
      "Testing: 100%|██████████| 20/20 [00:03<00:00,  5.72 batch/s]\n"
     ]
    },
    {
     "name": "stdout",
     "output_type": "stream",
     "text": [
      "\u001b[1m\u001b[95mRunning run r50,ep:10,bs:512,clip:None,nc:20,mp:0.01,fe/9\n",
      "\u001b[0m19 450 {19: 66, 0: 51, 5: 50, 12: 49, 6: 45, 8: 43, 13: 31, 18: 31, 17: 25, 7: 25, 11: 22, 16: 22, 1: 10, 4: 9, 9: 6, 15: 6, 14: 5, 10: 2, 2: 1, 3: 1}\n",
      "29 450 {2: 78, 10: 61, 3: 38, 0: 30, 15: 29, 8: 26, 5: 25, 18: 24, 13: 23, 19: 21, 16: 21, 4: 18, 14: 17, 1: 15, 9: 14, 17: 14, 6: 13, 7: 12, 12: 12, 11: 9}\n",
      "0 450 {15: 50, 2: 41, 14: 39, 4: 39, 13: 35, 8: 33, 16: 30, 5: 29, 18: 25, 1: 22, 0: 22, 11: 20, 7: 16, 9: 16, 6: 16, 19: 16, 10: 15, 17: 13, 12: 13, 3: 10}\n",
      "11 450 {17: 46, 8: 42, 4: 39, 13: 34, 0: 31, 18: 31, 5: 30, 12: 27, 11: 27, 7: 24, 10: 24, 9: 23, 2: 21, 6: 21, 1: 19, 14: 18, 19: 17, 15: 11, 16: 8, 3: 7}\n",
      "1 450 {9: 82, 13: 82, 4: 77, 8: 48, 0: 41, 11: 38, 3: 26, 6: 25, 12: 19, 5: 17, 19: 10, 18: 8, 17: 8, 14: 6, 7: 3, 16: 3, 15: 3, 1: 2, 10: 1, 2: 1}\n",
      "86 450 {2: 85, 15: 72, 10: 64, 14: 56, 1: 26, 18: 25, 7: 25, 16: 23, 8: 17, 5: 17, 0: 15, 19: 12, 4: 11, 13: 10, 6: 9, 9: 9, 17: 8, 11: 7, 12: 6, 3: 3}\n",
      "90 450 {19: 64, 6: 52, 0: 49, 12: 42, 8: 41, 18: 40, 5: 37, 16: 33, 7: 26, 17: 20, 1: 19, 13: 19, 4: 16, 11: 14, 9: 12, 14: 11, 15: 3, 2: 1, 3: 1}\n",
      "28 450 {14: 54, 1: 38, 7: 35, 3: 33, 2: 32, 9: 31, 4: 30, 8: 26, 5: 25, 0: 23, 10: 23, 17: 21, 15: 19, 13: 19, 19: 17, 12: 16, 6: 16, 18: 16, 16: 14, 11: 12}\n",
      "23 450 {5: 65, 17: 50, 7: 48, 11: 41, 18: 40, 19: 40, 1: 32, 16: 26, 12: 25, 14: 25, 6: 20, 0: 20, 13: 19, 15: 15, 4: 10, 8: 8, 2: 5, 9: 5, 3: 3, 10: 3}\n",
      "31 450 {5: 58, 6: 58, 19: 57, 18: 55, 12: 49, 0: 47, 8: 26, 16: 22, 11: 21, 1: 21, 7: 21, 13: 19, 17: 12, 14: 10, 4: 10, 15: 7, 9: 5, 2: 2}\n",
      "39 450 {5: 50, 18: 45, 10: 43, 19: 37, 16: 35, 0: 32, 11: 31, 6: 29, 2: 29, 13: 26, 12: 24, 14: 20, 8: 20, 15: 19, 17: 15, 7: 13, 4: 12, 9: 9, 1: 6, 3: 5}\n",
      "96 450 {5: 60, 12: 46, 17: 45, 7: 41, 0: 40, 18: 38, 19: 37, 6: 31, 11: 30, 8: 29, 13: 26, 1: 17, 4: 17, 16: 16, 14: 8, 15: 8, 9: 6, 3: 2, 2: 2, 10: 1}\n",
      "82 450 {0: 63, 8: 57, 5: 48, 12: 40, 19: 37, 13: 32, 7: 28, 4: 27, 6: 26, 18: 26, 17: 22, 1: 19, 14: 14, 15: 14, 11: 13, 9: 11, 16: 10, 2: 7, 3: 4, 10: 2}\n",
      "17 450 {19: 67, 5: 66, 7: 57, 18: 56, 17: 53, 1: 38, 11: 30, 12: 25, 6: 25, 16: 24, 0: 23, 14: 15, 8: 10, 4: 5, 13: 4, 15: 1, 9: 1}\n",
      "71 450 {18: 71, 5: 60, 7: 52, 17: 48, 19: 41, 16: 40, 11: 36, 13: 24, 1: 23, 0: 19, 12: 16, 4: 15, 14: 14, 9: 10, 8: 10, 6: 9, 3: 6, 15: 4, 2: 2}\n",
      "8 450 {15: 44, 18: 40, 5: 39, 12: 38, 0: 36, 19: 34, 6: 33, 17: 33, 14: 27, 2: 25, 16: 23, 7: 23, 11: 23, 8: 20, 13: 17, 1: 16, 4: 10, 10: 9, 3: 8, 9: 2}\n",
      "97 450 {0: 59, 8: 56, 13: 52, 4: 47, 12: 33, 6: 31, 9: 29, 5: 28, 11: 25, 19: 24, 7: 20, 18: 18, 16: 16, 14: 15, 1: 15, 15: 12, 17: 9, 3: 6, 2: 5}\n",
      "80 450 {5: 69, 12: 67, 19: 46, 0: 44, 8: 41, 6: 35, 18: 33, 13: 31, 7: 27, 4: 22, 17: 21, 11: 17, 1: 17, 14: 14, 16: 10, 15: 5, 9: 1}\n",
      "74 450 {13: 57, 8: 54, 0: 48, 5: 40, 4: 39, 12: 39, 19: 32, 6: 31, 18: 30, 9: 20, 11: 19, 14: 15, 16: 13, 2: 12, 17: 12, 15: 11, 10: 10, 1: 8, 7: 6, 3: 4}\n",
      "59 450 {7: 82, 17: 54, 5: 52, 19: 38, 6: 34, 12: 32, 1: 31, 18: 27, 0: 26, 13: 21, 16: 20, 11: 20, 14: 19, 8: 15, 15: 10, 4: 8, 2: 6, 10: 4, 9: 1}\n",
      "70 450 {13: 69, 4: 65, 9: 56, 8: 54, 0: 41, 5: 34, 12: 28, 11: 24, 3: 22, 19: 17, 6: 14, 18: 13, 7: 12, 17: 11, 14: 10, 16: 9, 15: 8, 1: 5, 2: 5, 10: 3}\n",
      "87 450 {8: 45, 4: 38, 13: 33, 5: 32, 19: 30, 2: 29, 16: 28, 15: 28, 0: 27, 17: 26, 14: 25, 11: 24, 18: 23, 1: 20, 9: 18, 7: 17, 12: 16, 10: 16, 6: 16, 3: 9}\n",
      "84 450 {5: 38, 8: 37, 0: 37, 11: 36, 19: 35, 6: 35, 13: 32, 12: 31, 18: 30, 7: 29, 10: 25, 17: 23, 16: 21, 4: 20, 2: 16, 1: 14, 9: 13, 14: 13, 15: 11, 3: 4}\n",
      "64 450 {4: 77, 8: 61, 13: 58, 9: 47, 0: 42, 5: 29, 12: 28, 11: 28, 19: 22, 3: 22, 18: 21, 6: 17, 17: 15, 7: 10, 14: 7, 16: 6, 15: 4, 1: 4, 2: 2}\n",
      "52 450 {7: 77, 5: 70, 19: 62, 17: 52, 18: 50, 1: 33, 12: 27, 0: 25, 6: 25, 16: 24, 11: 16, 14: 14, 8: 9, 13: 5, 4: 4, 15: 4, 10: 1, 3: 1, 2: 1}\n",
      "42 450 {0: 70, 8: 61, 13: 58, 12: 58, 6: 40, 4: 38, 5: 30, 11: 26, 19: 21, 9: 17, 7: 16, 18: 16, 17: 11, 16: 10, 14: 10, 3: 9, 15: 4, 1: 3, 2: 2}\n",
      "47 450 {5: 71, 17: 60, 0: 42, 7: 42, 11: 42, 18: 30, 12: 29, 13: 28, 6: 26, 1: 23, 8: 23, 19: 21, 4: 15, 16: 10, 15: 9, 2: 9, 14: 7, 10: 6, 9: 5, 3: 2}\n",
      "65 450 {5: 56, 0: 51, 8: 48, 13: 44, 12: 37, 6: 36, 19: 32, 11: 32, 4: 30, 18: 27, 9: 20, 7: 19, 17: 16, 1: 14, 16: 14, 14: 6, 15: 6, 3: 5, 2: 5, 10: 2}\n",
      "21 450 {13: 54, 17: 44, 8: 42, 4: 42, 11: 38, 0: 37, 12: 33, 7: 30, 5: 30, 9: 29, 18: 26, 6: 25, 19: 22, 1: 16, 3: 11, 16: 9, 14: 8, 15: 3, 2: 1}\n",
      "22 450 {15: 60, 2: 40, 14: 38, 5: 35, 1: 32, 19: 29, 18: 25, 4: 25, 8: 24, 0: 23, 9: 22, 17: 22, 12: 20, 6: 20, 10: 18, 16: 17, 13: 15, 7: 13, 11: 13, 3: 9}\n",
      "81 450 {19: 73, 12: 50, 5: 50, 0: 49, 18: 45, 6: 42, 16: 30, 17: 27, 8: 25, 13: 22, 7: 21, 4: 19, 11: 17, 14: 10, 1: 9, 3: 4, 9: 3, 15: 3, 2: 1}\n",
      "24 450 {10: 189, 2: 66, 18: 43, 14: 39, 15: 33, 19: 21, 5: 20, 16: 19, 1: 17, 6: 13, 7: 11, 12: 10, 0: 8, 8: 5, 4: 3, 17: 2, 13: 1}\n",
      "78 450 {12: 54, 19: 52, 0: 52, 18: 52, 5: 39, 13: 36, 8: 33, 4: 27, 6: 25, 16: 20, 9: 18, 11: 15, 1: 15, 14: 13, 15: 11, 7: 10, 10: 9, 2: 7, 3: 6, 17: 6}\n",
      "45 450 {8: 48, 13: 46, 4: 37, 11: 37, 15: 33, 18: 30, 0: 29, 9: 29, 3: 25, 19: 22, 6: 21, 12: 21, 5: 20, 2: 20, 16: 16, 7: 14, 14: 14, 10: 13, 1: 13, 17: 12}\n",
      "49 450 {17: 71, 11: 57, 5: 57, 7: 45, 19: 37, 18: 35, 6: 29, 13: 28, 12: 28, 0: 24, 1: 22, 8: 21, 16: 16, 4: 13, 15: 6, 14: 4, 9: 4, 2: 2, 3: 1}\n",
      "56 450 {7: 76, 5: 54, 17: 49, 1: 46, 19: 40, 18: 39, 11: 31, 14: 25, 12: 24, 6: 23, 16: 22, 0: 22, 8: 18, 13: 12, 15: 10, 4: 4, 2: 3, 9: 2}\n",
      "76 450 {7: 100, 1: 65, 5: 57, 17: 49, 18: 30, 14: 26, 12: 26, 11: 26, 13: 22, 0: 21, 8: 21, 6: 15, 19: 13, 4: 8, 15: 7, 9: 4, 2: 4, 16: 3, 3: 3}\n",
      "89 450 {19: 63, 5: 47, 0: 44, 18: 44, 6: 44, 12: 43, 17: 36, 16: 34, 7: 32, 11: 23, 13: 20, 8: 17, 1: 14, 2: 8, 4: 8, 14: 8, 9: 7, 15: 7, 3: 1}\n",
      "73 450 {0: 68, 13: 56, 4: 44, 5: 44, 9: 44, 8: 42, 19: 30, 18: 29, 12: 29, 3: 28, 11: 24, 6: 21, 17: 10, 1: 7, 16: 7, 14: 7, 7: 5, 15: 3, 2: 2}\n",
      "14 450 {0: 60, 13: 56, 12: 45, 4: 45, 5: 42, 8: 41, 19: 32, 6: 27, 11: 25, 18: 21, 16: 19, 1: 16, 17: 16, 9: 13, 7: 13, 14: 7, 15: 7, 3: 6, 10: 5, 2: 4}\n",
      "9 450 {7: 62, 10: 47, 1: 46, 14: 44, 2: 40, 19: 31, 18: 28, 5: 28, 15: 23, 17: 18, 13: 17, 0: 17, 4: 16, 11: 15, 8: 13, 6: 13, 3: 13, 12: 11, 16: 9, 9: 9}\n",
      "6 450 {5: 54, 0: 47, 18: 37, 13: 37, 12: 37, 8: 36, 6: 34, 19: 32, 7: 29, 4: 21, 16: 20, 11: 20, 14: 14, 15: 14, 2: 13, 9: 13, 17: 12, 1: 12, 10: 10, 3: 8}\n",
      "20 450 {10: 146, 2: 95, 15: 81, 14: 47, 18: 22, 16: 17, 7: 15, 19: 14, 5: 12, 1: 11, 0: 8, 12: 6, 17: 6, 6: 5, 11: 5, 13: 4, 8: 4, 3: 1, 4: 1}\n",
      "98 450 {0: 48, 7: 42, 4: 39, 8: 36, 13: 35, 9: 35, 14: 32, 1: 31, 11: 29, 17: 26, 12: 24, 6: 20, 5: 20, 19: 18, 18: 17, 3: 15, 2: 14, 15: 14, 10: 4, 16: 1}\n",
      "36 450 {0: 49, 18: 47, 19: 41, 13: 38, 12: 37, 5: 34, 6: 32, 14: 31, 8: 29, 1: 27, 16: 26, 4: 25, 17: 19, 2: 17, 11: 15, 7: 13, 9: 8, 15: 8, 10: 3, 3: 1}\n",
      "55 450 {0: 49, 19: 49, 5: 48, 18: 45, 12: 41, 8: 34, 6: 29, 13: 28, 4: 21, 7: 21, 14: 20, 11: 19, 16: 18, 2: 17, 1: 15, 17: 15, 15: 12, 9: 11, 10: 4, 3: 4}\n",
      "72 450 {18: 58, 19: 44, 5: 44, 13: 32, 7: 30, 1: 28, 6: 28, 8: 28, 0: 28, 12: 27, 14: 26, 16: 25, 17: 25, 11: 19, 4: 16, 15: 16, 2: 13, 9: 10, 3: 3}\n",
      "43 450 {8: 73, 0: 56, 13: 51, 4: 50, 5: 41, 12: 37, 6: 37, 11: 25, 17: 22, 19: 21, 7: 19, 18: 17, 9: 16, 16: 11, 14: 7, 1: 7, 15: 5, 3: 4, 2: 1}\n",
      "51 450 {13: 79, 8: 68, 0: 67, 4: 55, 12: 46, 9: 43, 11: 32, 6: 25, 5: 22, 17: 17, 19: 8, 18: 8, 3: 7, 16: 5, 2: 4, 7: 4, 10: 3, 15: 3, 1: 2, 14: 2}\n",
      "35 450 {8: 56, 0: 42, 5: 41, 6: 37, 4: 35, 13: 32, 1: 28, 7: 28, 18: 26, 14: 25, 11: 25, 17: 23, 9: 23, 12: 21, 19: 19, 15: 9, 2: 9, 3: 7, 10: 7, 16: 7}\n",
      "83 450 {0: 41, 13: 41, 8: 40, 4: 30, 15: 30, 5: 28, 18: 28, 6: 25, 14: 25, 1: 24, 2: 23, 16: 22, 3: 22, 11: 21, 19: 20, 9: 20, 17: 19, 10: 16, 12: 16, 7: 9}\n",
      "33 450 {8: 86, 4: 67, 0: 67, 13: 64, 6: 42, 12: 36, 5: 27, 9: 25, 19: 24, 11: 19, 18: 12, 17: 10, 3: 8, 7: 6, 1: 3, 16: 3, 15: 1}\n",
      "27 450 {0: 58, 8: 54, 12: 46, 5: 44, 13: 42, 4: 42, 19: 40, 11: 34, 6: 31, 18: 28, 9: 21, 16: 17, 17: 13, 1: 12, 7: 11, 15: 3, 14: 2, 3: 1, 2: 1}\n",
      "53 450 {0: 47, 2: 46, 15: 45, 8: 40, 13: 36, 5: 31, 14: 28, 4: 25, 12: 22, 19: 21, 9: 20, 6: 19, 16: 19, 18: 17, 3: 17, 11: 17, 1: 13, 17: 13, 10: 12, 7: 12}\n",
      "92 450 {13: 80, 4: 73, 8: 64, 0: 59, 9: 57, 12: 30, 5: 26, 3: 21, 6: 18, 11: 16, 17: 14, 19: 10, 7: 8, 18: 6, 14: 5, 15: 5, 2: 4, 1: 3, 10: 1}\n",
      "50 450 {5: 49, 0: 44, 12: 39, 4: 39, 13: 36, 18: 35, 8: 34, 19: 34, 16: 23, 15: 23, 14: 19, 11: 18, 10: 17, 6: 17, 9: 15, 7: 14, 2: 13, 17: 11, 1: 10, 3: 10}\n",
      "15 450 {18: 48, 7: 43, 5: 42, 19: 38, 6: 37, 0: 33, 16: 32, 12: 30, 1: 27, 14: 26, 17: 26, 8: 24, 11: 22, 15: 19, 13: 18, 4: 14, 9: 10, 2: 6, 3: 3, 10: 2}\n",
      "18 450 {5: 63, 0: 52, 12: 52, 18: 38, 19: 35, 6: 35, 13: 33, 8: 31, 4: 24, 7: 24, 11: 22, 1: 17, 17: 17, 16: 12, 9: 11, 14: 11, 3: 8, 15: 7, 10: 6, 2: 2}\n",
      "46 450 {13: 51, 17: 45, 8: 44, 4: 41, 9: 36, 7: 34, 11: 30, 1: 28, 3: 28, 5: 27, 0: 25, 12: 23, 6: 17, 14: 17, 19: 17, 18: 13, 2: 9, 15: 7, 16: 7, 10: 1}\n",
      "75 450 {0: 67, 13: 52, 5: 50, 19: 45, 8: 43, 12: 39, 6: 30, 18: 29, 11: 25, 4: 25, 9: 21, 17: 17, 16: 16, 7: 15, 1: 7, 15: 7, 14: 6, 2: 5, 3: 1}\n",
      "38 450 {0: 57, 5: 52, 12: 50, 6: 38, 13: 38, 19: 37, 17: 36, 7: 33, 8: 31, 11: 30, 18: 24, 1: 22, 4: 12, 16: 10, 14: 8, 2: 6, 15: 6, 10: 4, 9: 3, 3: 3}\n",
      "66 450 {8: 61, 13: 55, 0: 54, 5: 49, 12: 47, 4: 40, 9: 26, 7: 24, 6: 23, 11: 22, 18: 18, 19: 18, 17: 16, 1: 11, 15: 9, 2: 8, 14: 6, 3: 6, 16: 4, 10: 3}\n",
      "77 450 {0: 56, 13: 45, 5: 43, 12: 40, 19: 39, 18: 38, 8: 35, 11: 33, 4: 32, 6: 24, 7: 21, 16: 16, 17: 16, 9: 14, 14: 13, 1: 11, 15: 9, 2: 9, 10: 4, 3: 2}\n",
      "69 450 {7: 53, 18: 47, 1: 47, 14: 39, 19: 38, 16: 33, 5: 33, 0: 29, 12: 22, 13: 21, 6: 20, 17: 20, 8: 19, 11: 16, 15: 15, 3: 12, 9: 10, 4: 10, 2: 9, 10: 7}\n",
      "95 450 {18: 64, 19: 59, 5: 43, 16: 35, 15: 34, 12: 32, 14: 30, 1: 30, 0: 26, 6: 25, 8: 20, 13: 18, 7: 16, 2: 16, 4: 13, 17: 12, 11: 12, 10: 11, 9: 4}\n",
      "99 450 {3: 44, 15: 40, 0: 37, 8: 34, 14: 32, 4: 31, 5: 30, 2: 30, 18: 29, 9: 28, 10: 27, 19: 26, 16: 26, 13: 23, 12: 21, 6: 18, 1: 9, 11: 6, 17: 5, 7: 4}\n",
      "93 450 {0: 50, 13: 45, 18: 42, 19: 42, 4: 41, 12: 39, 5: 36, 8: 34, 16: 26, 6: 21, 11: 19, 9: 19, 2: 14, 17: 14, 1: 13, 15: 12, 3: 9, 7: 8, 14: 8, 10: 8}\n",
      "4 450 {0: 70, 13: 53, 12: 47, 5: 42, 8: 35, 19: 35, 6: 33, 4: 28, 18: 28, 11: 24, 17: 14, 15: 14, 16: 14, 9: 13, 7: 12, 2: 12, 14: 11, 1: 10, 10: 5}\n",
      "61 450 {14: 44, 15: 43, 5: 42, 2: 39, 18: 35, 12: 33, 19: 32, 10: 30, 8: 28, 0: 27, 6: 26, 1: 23, 16: 22, 13: 18, 4: 17, 9: 11, 7: 10, 17: 8, 11: 7, 3: 5}\n",
      "94 450 {5: 52, 11: 51, 17: 42, 0: 40, 7: 39, 1: 37, 8: 29, 14: 28, 4: 25, 18: 22, 12: 22, 13: 20, 19: 20, 2: 18, 10: 14, 9: 11, 16: 11, 6: 11, 3: 5, 15: 3}\n",
      "68 450 {19: 95, 6: 76, 18: 64, 5: 59, 16: 49, 8: 33, 12: 32, 0: 21, 7: 18, 17: 15, 1: 13, 13: 10, 4: 6, 11: 4, 15: 3, 14: 2}\n",
      "34 450 {0: 61, 13: 52, 8: 52, 12: 47, 5: 46, 4: 38, 19: 32, 6: 29, 18: 22, 11: 22, 16: 17, 7: 16, 9: 14, 17: 12, 1: 11, 14: 11, 15: 9, 2: 5, 10: 2, 3: 2}\n",
      "32 450 {5: 43, 19: 41, 7: 36, 12: 34, 1: 33, 0: 32, 18: 32, 16: 29, 17: 28, 6: 26, 15: 25, 13: 23, 11: 23, 8: 22, 2: 20, 14: 20, 4: 14, 9: 12, 10: 4, 3: 3}\n",
      "88 450 {0: 61, 8: 59, 13: 53, 4: 53, 5: 44, 12: 41, 6: 28, 7: 24, 11: 23, 19: 20, 18: 20, 9: 17, 1: 12, 17: 11, 16: 9, 14: 8, 2: 7, 3: 5, 15: 4, 10: 1}\n",
      "67 450 {18: 63, 19: 51, 5: 48, 0: 40, 13: 31, 16: 30, 14: 27, 1: 26, 12: 24, 4: 23, 7: 21, 8: 21, 6: 19, 9: 18, 11: 17, 15: 13, 17: 12, 2: 8, 3: 6, 10: 2}\n",
      "30 450 {5: 63, 18: 57, 19: 51, 0: 45, 12: 36, 8: 34, 13: 29, 11: 25, 6: 24, 14: 23, 7: 23, 4: 23, 1: 20, 17: 17, 16: 15, 15: 9, 9: 4, 2: 1, 3: 1}\n",
      "62 450 {13: 89, 4: 76, 8: 66, 0: 64, 9: 35, 11: 31, 12: 30, 5: 23, 3: 22, 6: 17, 17: 14, 19: 11, 18: 7, 16: 4, 14: 4, 1: 3, 7: 3, 2: 1}\n",
      "63 450 {13: 68, 4: 59, 5: 59, 0: 41, 8: 36, 19: 36, 9: 32, 11: 30, 6: 26, 18: 23, 17: 21, 12: 20, 7: 17, 14: 9, 1: 6, 15: 6, 16: 5, 2: 4, 3: 1, 10: 1}\n",
      "40 450 {14: 54, 2: 41, 10: 37, 9: 31, 1: 29, 4: 28, 7: 28, 13: 27, 18: 27, 8: 25, 5: 25, 0: 23, 3: 23, 11: 21, 17: 18, 6: 16, 19: 15, 15: 13, 12: 12, 16: 7}\n",
      "26 450 {4: 46, 13: 46, 5: 41, 2: 36, 9: 35, 8: 32, 0: 31, 16: 29, 15: 28, 18: 28, 12: 22, 10: 21, 19: 20, 11: 19, 6: 17, 3: 14, 7: 14, 14: 12, 1: 7, 17: 2}\n",
      "48 450 {15: 48, 0: 46, 19: 40, 12: 40, 2: 38, 18: 37, 16: 32, 6: 31, 5: 27, 17: 26, 8: 24, 11: 20, 4: 16, 14: 16, 13: 16, 7: 13, 1: 11, 10: 10, 9: 6, 3: 3}\n",
      "79 450 {18: 51, 5: 47, 19: 47, 0: 42, 12: 38, 8: 26, 7: 26, 13: 24, 6: 24, 4: 23, 16: 21, 14: 19, 9: 19, 11: 18, 1: 16, 17: 15, 3: 14, 15: 13, 2: 11, 10: 6}\n",
      "85 450 {18: 51, 7: 51, 1: 51, 19: 40, 17: 37, 16: 35, 6: 33, 5: 32, 14: 31, 12: 25, 15: 24, 0: 21, 11: 15, 8: 14, 13: 13, 2: 12, 3: 7, 4: 4, 9: 3, 10: 1}\n",
      "54 450 {13: 57, 4: 56, 9: 43, 12: 41, 8: 41, 0: 41, 5: 33, 11: 28, 3: 25, 17: 19, 18: 19, 6: 18, 7: 16, 19: 14, 14: 12, 2: 10, 15: 9, 1: 7, 10: 6, 16: 5}\n",
      "44 450 {0: 49, 19: 48, 5: 45, 13: 41, 8: 38, 6: 35, 12: 33, 18: 32, 4: 30, 11: 24, 16: 23, 14: 19, 9: 17, 7: 15, 1: 13, 17: 11, 2: 8, 10: 7, 3: 6, 15: 6}\n",
      "7 450 {5: 58, 18: 43, 19: 41, 10: 39, 16: 36, 8: 34, 1: 30, 14: 29, 15: 27, 12: 25, 2: 23, 6: 21, 7: 20, 0: 20, 13: 15, 4: 11, 9: 10, 17: 9, 11: 8, 3: 1}\n",
      "12 450 {5: 63, 19: 55, 18: 49, 17: 46, 7: 45, 1: 35, 16: 31, 0: 30, 6: 28, 12: 26, 11: 20, 13: 18, 9: 14, 8: 12, 14: 11, 4: 9, 15: 5, 3: 2, 2: 1}\n",
      "2 450 {8: 47, 4: 46, 0: 40, 19: 35, 12: 34, 5: 33, 13: 30, 18: 28, 6: 24, 14: 24, 11: 23, 17: 23, 1: 21, 2: 20, 9: 20, 16: 19, 7: 17, 15: 10, 10: 5, 3: 1}\n",
      "41 450 {2: 142, 10: 70, 15: 33, 5: 31, 12: 29, 0: 27, 18: 19, 17: 18, 7: 18, 14: 18, 19: 15, 13: 14, 8: 14, 11: 13, 6: 12, 1: 12, 4: 7, 16: 6, 9: 2}\n",
      "37 450 {19: 89, 18: 57, 6: 50, 5: 44, 0: 43, 12: 37, 16: 34, 8: 29, 7: 26, 17: 26, 13: 19, 11: 12, 1: 12, 15: 9, 4: 5, 14: 4, 2: 2, 9: 1, 10: 1}\n",
      "13 450 {12: 58, 19: 53, 0: 48, 18: 45, 5: 42, 6: 40, 8: 31, 17: 30, 13: 25, 16: 23, 11: 22, 7: 19, 4: 18, 1: 13, 15: 11, 9: 7, 14: 6, 2: 5, 10: 2, 3: 2}\n",
      "25 450 {16: 46, 19: 42, 6: 41, 0: 36, 15: 33, 12: 31, 5: 30, 8: 27, 4: 27, 18: 25, 17: 24, 13: 22, 7: 19, 2: 19, 11: 17, 14: 15, 9: 15, 1: 13, 10: 12, 3: 6}\n",
      "10 450 {14: 36, 4: 35, 15: 34, 18: 32, 0: 32, 19: 32, 7: 31, 2: 29, 8: 28, 1: 25, 16: 25, 13: 24, 5: 23, 6: 20, 10: 19, 12: 18, 3: 15, 9: 15, 11: 15, 17: 12}\n",
      "57 450 {2: 55, 10: 42, 15: 39, 13: 32, 0: 30, 8: 27, 4: 27, 19: 25, 5: 24, 14: 24, 12: 22, 1: 21, 16: 20, 9: 19, 18: 19, 11: 19, 17: 16, 3: 15, 7: 14, 6: 10}\n",
      "5 450 {19: 62, 6: 42, 18: 37, 12: 36, 15: 36, 5: 35, 11: 35, 0: 33, 16: 33, 2: 21, 13: 21, 7: 18, 4: 18, 8: 17, 17: 16, 14: 16, 1: 9, 10: 9, 9: 5, 3: 1}\n",
      "60 450 {17: 69, 5: 65, 18: 62, 7: 55, 1: 42, 11: 39, 19: 36, 16: 30, 12: 22, 14: 18, 0: 15, 6: 12, 13: 12, 4: 6, 8: 5, 15: 5, 9: 4, 3: 2, 2: 1}\n",
      "91 450 {2: 62, 10: 53, 0: 45, 4: 40, 13: 39, 15: 36, 9: 33, 8: 29, 12: 24, 5: 24, 11: 16, 3: 15, 18: 15, 16: 15, 19: 15, 6: 15, 17: 7, 14: 7, 7: 6, 1: 4}\n",
      "3 450 {0: 50, 5: 48, 18: 40, 12: 40, 19: 40, 7: 35, 13: 35, 8: 32, 6: 30, 17: 24, 11: 24, 1: 24, 4: 18, 14: 17, 9: 14, 16: 13, 15: 11, 2: 3, 3: 1, 10: 1}\n",
      "58 450 {19: 51, 0: 50, 18: 47, 5: 42, 16: 38, 12: 36, 6: 36, 13: 34, 8: 28, 11: 27, 17: 26, 15: 24, 7: 16, 14: 14, 4: 8, 1: 7, 2: 6, 9: 5, 3: 3, 10: 2}\n",
      "16 450 {15: 62, 2: 51, 14: 37, 5: 33, 6: 32, 0: 30, 1: 30, 7: 29, 12: 28, 4: 20, 19: 20, 16: 20, 18: 19, 10: 18, 8: 17, 17: 14, 11: 14, 13: 11, 9: 10, 3: 5}\n",
      "45000 33227\n"
     ]
    },
    {
     "name": "stderr",
     "output_type": "stream",
     "text": [
      "Epoch 1/10: 100%|██████████| 71/71 [00:31<00:00,  2.25 batch/s, loss=4.3033]\n",
      "Validating: 100%|██████████| 18/18 [00:03<00:00,  5.70 batch/s]\n"
     ]
    },
    {
     "name": "stdout",
     "output_type": "stream",
     "text": [
      "\u001b[1m\u001b[36mBest valid accuracy improved from 0.00% to 11.71%. Saving checkpoint...\n",
      "\u001b[0m"
     ]
    },
    {
     "name": "stderr",
     "output_type": "stream",
     "text": [
      "Epoch 2/10: 100%|██████████| 71/71 [00:31<00:00,  2.25 batch/s, loss=3.5224]\n",
      "Validating: 100%|██████████| 18/18 [00:03<00:00,  5.69 batch/s]\n"
     ]
    },
    {
     "name": "stdout",
     "output_type": "stream",
     "text": [
      "\u001b[1m\u001b[36mBest valid accuracy improved from 11.71% to 16.11%. Saving checkpoint...\n",
      "\u001b[0m"
     ]
    },
    {
     "name": "stderr",
     "output_type": "stream",
     "text": [
      "Epoch 3/10: 100%|██████████| 71/71 [00:31<00:00,  2.25 batch/s, loss=3.1399]\n",
      "Validating: 100%|██████████| 18/18 [00:03<00:00,  5.69 batch/s]\n"
     ]
    },
    {
     "name": "stdout",
     "output_type": "stream",
     "text": [
      "\u001b[1m\u001b[36mBest valid accuracy improved from 16.11% to 19.22%. Saving checkpoint...\n",
      "\u001b[0m"
     ]
    },
    {
     "name": "stderr",
     "output_type": "stream",
     "text": [
      "Epoch 4/10: 100%|██████████| 71/71 [00:31<00:00,  2.25 batch/s, loss=2.7570]\n",
      "Validating: 100%|██████████| 18/18 [00:03<00:00,  5.69 batch/s]\n"
     ]
    },
    {
     "name": "stdout",
     "output_type": "stream",
     "text": [
      "\u001b[1m\u001b[36mBest valid accuracy improved from 19.22% to 24.46%. Saving checkpoint...\n",
      "\u001b[0m"
     ]
    },
    {
     "name": "stderr",
     "output_type": "stream",
     "text": [
      "Epoch 5/10: 100%|██████████| 71/71 [00:31<00:00,  2.25 batch/s, loss=2.4623]\n",
      "Validating: 100%|██████████| 18/18 [00:03<00:00,  5.65 batch/s]\n",
      "Epoch 6/10: 100%|██████████| 71/71 [00:31<00:00,  2.26 batch/s, loss=2.2423]\n",
      "Validating: 100%|██████████| 18/18 [00:03<00:00,  5.61 batch/s]\n"
     ]
    },
    {
     "name": "stdout",
     "output_type": "stream",
     "text": [
      "\u001b[1m\u001b[36mBest valid accuracy improved from 24.46% to 24.53%. Saving checkpoint...\n",
      "\u001b[0m"
     ]
    },
    {
     "name": "stderr",
     "output_type": "stream",
     "text": [
      "Epoch 7/10: 100%|██████████| 71/71 [00:31<00:00,  2.25 batch/s, loss=2.0039]\n",
      "Validating: 100%|██████████| 18/18 [00:03<00:00,  5.70 batch/s]\n"
     ]
    },
    {
     "name": "stdout",
     "output_type": "stream",
     "text": [
      "\u001b[1m\u001b[36mBest valid accuracy improved from 24.53% to 24.97%. Saving checkpoint...\n",
      "\u001b[0m"
     ]
    },
    {
     "name": "stderr",
     "output_type": "stream",
     "text": [
      "Epoch 8/10: 100%|██████████| 71/71 [00:31<00:00,  2.25 batch/s, loss=1.7643]\n",
      "Validating: 100%|██████████| 18/18 [00:03<00:00,  5.69 batch/s]\n"
     ]
    },
    {
     "name": "stdout",
     "output_type": "stream",
     "text": [
      "\u001b[1m\u001b[36mBest valid accuracy improved from 24.97% to 29.91%. Saving checkpoint...\n",
      "\u001b[0m"
     ]
    },
    {
     "name": "stderr",
     "output_type": "stream",
     "text": [
      "Epoch 9/10: 100%|██████████| 71/71 [00:31<00:00,  2.25 batch/s, loss=1.3891]\n",
      "Validating: 100%|██████████| 18/18 [00:03<00:00,  5.51 batch/s]\n",
      "Epoch 10/10: 100%|██████████| 71/71 [00:31<00:00,  2.27 batch/s, loss=1.2423]\n",
      "Validating: 100%|██████████| 18/18 [00:03<00:00,  5.68 batch/s]\n",
      "Testing: 100%|██████████| 20/20 [00:03<00:00,  5.72 batch/s]\n"
     ]
    },
    {
     "name": "stdout",
     "output_type": "stream",
     "text": [
      "\u001b[1m\u001b[95mRunning run r50,ep:10,bs:512,clip:None,nc:20,mp:0.01,fe/10\n",
      "\u001b[0m19 500 {19: 66, 0: 51, 5: 50, 12: 49, 6: 45, 8: 43, 13: 31, 18: 31, 17: 25, 7: 25, 11: 22, 16: 22, 1: 10, 4: 9, 9: 6, 15: 6, 14: 5, 10: 2, 2: 1, 3: 1}\n",
      "29 500 {2: 78, 10: 61, 3: 38, 0: 30, 15: 29, 8: 26, 5: 25, 18: 24, 13: 23, 19: 21, 16: 21, 4: 18, 14: 17, 1: 15, 9: 14, 17: 14, 6: 13, 7: 12, 12: 12, 11: 9}\n",
      "0 500 {15: 50, 2: 41, 14: 39, 4: 39, 13: 35, 8: 33, 16: 30, 5: 29, 18: 25, 1: 22, 0: 22, 11: 20, 7: 16, 9: 16, 6: 16, 19: 16, 10: 15, 17: 13, 12: 13, 3: 10}\n",
      "11 500 {17: 46, 8: 42, 4: 39, 13: 34, 0: 31, 18: 31, 5: 30, 12: 27, 11: 27, 7: 24, 10: 24, 9: 23, 2: 21, 6: 21, 1: 19, 14: 18, 19: 17, 15: 11, 16: 8, 3: 7}\n",
      "1 500 {9: 82, 13: 82, 4: 77, 8: 48, 0: 41, 11: 38, 3: 26, 6: 25, 12: 19, 5: 17, 19: 10, 18: 8, 17: 8, 14: 6, 7: 3, 16: 3, 15: 3, 1: 2, 10: 1, 2: 1}\n",
      "86 500 {2: 85, 15: 72, 10: 64, 14: 56, 1: 26, 18: 25, 7: 25, 16: 23, 8: 17, 5: 17, 0: 15, 19: 12, 4: 11, 13: 10, 6: 9, 9: 9, 17: 8, 11: 7, 12: 6, 3: 3}\n",
      "90 500 {19: 64, 6: 52, 0: 49, 12: 42, 8: 41, 18: 40, 5: 37, 16: 33, 7: 26, 17: 20, 1: 19, 13: 19, 4: 16, 11: 14, 9: 12, 14: 11, 15: 3, 2: 1, 3: 1}\n",
      "28 500 {14: 54, 1: 38, 7: 35, 3: 33, 2: 32, 9: 31, 4: 30, 8: 26, 5: 25, 0: 23, 10: 23, 17: 21, 15: 19, 13: 19, 19: 17, 12: 16, 6: 16, 18: 16, 16: 14, 11: 12}\n",
      "23 500 {5: 65, 17: 50, 7: 48, 11: 41, 18: 40, 19: 40, 1: 32, 16: 26, 12: 25, 14: 25, 6: 20, 0: 20, 13: 19, 15: 15, 4: 10, 8: 8, 2: 5, 9: 5, 3: 3, 10: 3}\n",
      "31 500 {5: 58, 6: 58, 19: 57, 18: 55, 12: 49, 0: 47, 8: 26, 16: 22, 11: 21, 1: 21, 7: 21, 13: 19, 17: 12, 14: 10, 4: 10, 15: 7, 9: 5, 2: 2}\n",
      "39 500 {5: 50, 18: 45, 10: 43, 19: 37, 16: 35, 0: 32, 11: 31, 6: 29, 2: 29, 13: 26, 12: 24, 14: 20, 8: 20, 15: 19, 17: 15, 7: 13, 4: 12, 9: 9, 1: 6, 3: 5}\n",
      "96 500 {5: 60, 12: 46, 17: 45, 7: 41, 0: 40, 18: 38, 19: 37, 6: 31, 11: 30, 8: 29, 13: 26, 1: 17, 4: 17, 16: 16, 14: 8, 15: 8, 9: 6, 3: 2, 2: 2, 10: 1}\n",
      "82 500 {0: 63, 8: 57, 5: 48, 12: 40, 19: 37, 13: 32, 7: 28, 4: 27, 6: 26, 18: 26, 17: 22, 1: 19, 14: 14, 15: 14, 11: 13, 9: 11, 16: 10, 2: 7, 3: 4, 10: 2}\n",
      "17 500 {19: 67, 5: 66, 7: 57, 18: 56, 17: 53, 1: 38, 11: 30, 12: 25, 6: 25, 16: 24, 0: 23, 14: 15, 8: 10, 4: 5, 13: 4, 15: 1, 9: 1}\n",
      "71 500 {18: 71, 5: 60, 7: 52, 17: 48, 19: 41, 16: 40, 11: 36, 13: 24, 1: 23, 0: 19, 12: 16, 4: 15, 14: 14, 9: 10, 8: 10, 6: 9, 3: 6, 15: 4, 2: 2}\n",
      "8 500 {15: 44, 18: 40, 5: 39, 12: 38, 0: 36, 19: 34, 6: 33, 17: 33, 14: 27, 2: 25, 16: 23, 7: 23, 11: 23, 8: 20, 13: 17, 1: 16, 4: 10, 10: 9, 3: 8, 9: 2}\n",
      "97 500 {0: 59, 8: 56, 13: 52, 4: 47, 12: 33, 6: 31, 9: 29, 5: 28, 11: 25, 19: 24, 7: 20, 18: 18, 16: 16, 14: 15, 1: 15, 15: 12, 17: 9, 3: 6, 2: 5}\n",
      "80 500 {5: 69, 12: 67, 19: 46, 0: 44, 8: 41, 6: 35, 18: 33, 13: 31, 7: 27, 4: 22, 17: 21, 11: 17, 1: 17, 14: 14, 16: 10, 15: 5, 9: 1}\n",
      "74 500 {13: 57, 8: 54, 0: 48, 5: 40, 4: 39, 12: 39, 19: 32, 6: 31, 18: 30, 9: 20, 11: 19, 14: 15, 16: 13, 2: 12, 17: 12, 15: 11, 10: 10, 1: 8, 7: 6, 3: 4}\n",
      "59 500 {7: 82, 17: 54, 5: 52, 19: 38, 6: 34, 12: 32, 1: 31, 18: 27, 0: 26, 13: 21, 16: 20, 11: 20, 14: 19, 8: 15, 15: 10, 4: 8, 2: 6, 10: 4, 9: 1}\n",
      "70 500 {13: 69, 4: 65, 9: 56, 8: 54, 0: 41, 5: 34, 12: 28, 11: 24, 3: 22, 19: 17, 6: 14, 18: 13, 7: 12, 17: 11, 14: 10, 16: 9, 15: 8, 1: 5, 2: 5, 10: 3}\n",
      "87 500 {8: 45, 4: 38, 13: 33, 5: 32, 19: 30, 2: 29, 16: 28, 15: 28, 0: 27, 17: 26, 14: 25, 11: 24, 18: 23, 1: 20, 9: 18, 7: 17, 12: 16, 10: 16, 6: 16, 3: 9}\n",
      "84 500 {5: 38, 8: 37, 0: 37, 11: 36, 19: 35, 6: 35, 13: 32, 12: 31, 18: 30, 7: 29, 10: 25, 17: 23, 16: 21, 4: 20, 2: 16, 1: 14, 9: 13, 14: 13, 15: 11, 3: 4}\n",
      "64 500 {4: 77, 8: 61, 13: 58, 9: 47, 0: 42, 5: 29, 12: 28, 11: 28, 19: 22, 3: 22, 18: 21, 6: 17, 17: 15, 7: 10, 14: 7, 16: 6, 15: 4, 1: 4, 2: 2}\n",
      "52 500 {7: 77, 5: 70, 19: 62, 17: 52, 18: 50, 1: 33, 12: 27, 0: 25, 6: 25, 16: 24, 11: 16, 14: 14, 8: 9, 13: 5, 4: 4, 15: 4, 10: 1, 3: 1, 2: 1}\n",
      "42 500 {0: 70, 8: 61, 13: 58, 12: 58, 6: 40, 4: 38, 5: 30, 11: 26, 19: 21, 9: 17, 7: 16, 18: 16, 17: 11, 16: 10, 14: 10, 3: 9, 15: 4, 1: 3, 2: 2}\n",
      "47 500 {5: 71, 17: 60, 0: 42, 7: 42, 11: 42, 18: 30, 12: 29, 13: 28, 6: 26, 1: 23, 8: 23, 19: 21, 4: 15, 16: 10, 15: 9, 2: 9, 14: 7, 10: 6, 9: 5, 3: 2}\n",
      "65 500 {5: 56, 0: 51, 8: 48, 13: 44, 12: 37, 6: 36, 19: 32, 11: 32, 4: 30, 18: 27, 9: 20, 7: 19, 17: 16, 1: 14, 16: 14, 14: 6, 15: 6, 3: 5, 2: 5, 10: 2}\n",
      "21 500 {13: 54, 17: 44, 8: 42, 4: 42, 11: 38, 0: 37, 12: 33, 7: 30, 5: 30, 9: 29, 18: 26, 6: 25, 19: 22, 1: 16, 3: 11, 16: 9, 14: 8, 15: 3, 2: 1}\n",
      "22 500 {15: 60, 2: 40, 14: 38, 5: 35, 1: 32, 19: 29, 18: 25, 4: 25, 8: 24, 0: 23, 9: 22, 17: 22, 12: 20, 6: 20, 10: 18, 16: 17, 13: 15, 7: 13, 11: 13, 3: 9}\n",
      "81 500 {19: 73, 12: 50, 5: 50, 0: 49, 18: 45, 6: 42, 16: 30, 17: 27, 8: 25, 13: 22, 7: 21, 4: 19, 11: 17, 14: 10, 1: 9, 3: 4, 9: 3, 15: 3, 2: 1}\n",
      "24 500 {10: 189, 2: 66, 18: 43, 14: 39, 15: 33, 19: 21, 5: 20, 16: 19, 1: 17, 6: 13, 7: 11, 12: 10, 0: 8, 8: 5, 4: 3, 17: 2, 13: 1}\n",
      "78 500 {12: 54, 19: 52, 0: 52, 18: 52, 5: 39, 13: 36, 8: 33, 4: 27, 6: 25, 16: 20, 9: 18, 11: 15, 1: 15, 14: 13, 15: 11, 7: 10, 10: 9, 2: 7, 3: 6, 17: 6}\n",
      "45 500 {8: 48, 13: 46, 4: 37, 11: 37, 15: 33, 18: 30, 0: 29, 9: 29, 3: 25, 19: 22, 6: 21, 12: 21, 5: 20, 2: 20, 16: 16, 7: 14, 14: 14, 10: 13, 1: 13, 17: 12}\n",
      "49 500 {17: 71, 11: 57, 5: 57, 7: 45, 19: 37, 18: 35, 6: 29, 13: 28, 12: 28, 0: 24, 1: 22, 8: 21, 16: 16, 4: 13, 15: 6, 14: 4, 9: 4, 2: 2, 3: 1}\n",
      "56 500 {7: 76, 5: 54, 17: 49, 1: 46, 19: 40, 18: 39, 11: 31, 14: 25, 12: 24, 6: 23, 16: 22, 0: 22, 8: 18, 13: 12, 15: 10, 4: 4, 2: 3, 9: 2}\n",
      "76 500 {7: 100, 1: 65, 5: 57, 17: 49, 18: 30, 14: 26, 12: 26, 11: 26, 13: 22, 0: 21, 8: 21, 6: 15, 19: 13, 4: 8, 15: 7, 9: 4, 2: 4, 16: 3, 3: 3}\n",
      "89 500 {19: 63, 5: 47, 0: 44, 18: 44, 6: 44, 12: 43, 17: 36, 16: 34, 7: 32, 11: 23, 13: 20, 8: 17, 1: 14, 2: 8, 4: 8, 14: 8, 9: 7, 15: 7, 3: 1}\n",
      "73 500 {0: 68, 13: 56, 4: 44, 5: 44, 9: 44, 8: 42, 19: 30, 18: 29, 12: 29, 3: 28, 11: 24, 6: 21, 17: 10, 1: 7, 16: 7, 14: 7, 7: 5, 15: 3, 2: 2}\n",
      "14 500 {0: 60, 13: 56, 12: 45, 4: 45, 5: 42, 8: 41, 19: 32, 6: 27, 11: 25, 18: 21, 16: 19, 1: 16, 17: 16, 9: 13, 7: 13, 14: 7, 15: 7, 3: 6, 10: 5, 2: 4}\n",
      "9 500 {7: 62, 10: 47, 1: 46, 14: 44, 2: 40, 19: 31, 18: 28, 5: 28, 15: 23, 17: 18, 13: 17, 0: 17, 4: 16, 11: 15, 8: 13, 6: 13, 3: 13, 12: 11, 16: 9, 9: 9}\n",
      "6 500 {5: 54, 0: 47, 18: 37, 13: 37, 12: 37, 8: 36, 6: 34, 19: 32, 7: 29, 4: 21, 16: 20, 11: 20, 14: 14, 15: 14, 2: 13, 9: 13, 17: 12, 1: 12, 10: 10, 3: 8}\n",
      "20 500 {10: 146, 2: 95, 15: 81, 14: 47, 18: 22, 16: 17, 7: 15, 19: 14, 5: 12, 1: 11, 0: 8, 12: 6, 17: 6, 6: 5, 11: 5, 13: 4, 8: 4, 3: 1, 4: 1}\n",
      "98 500 {0: 48, 7: 42, 4: 39, 8: 36, 13: 35, 9: 35, 14: 32, 1: 31, 11: 29, 17: 26, 12: 24, 6: 20, 5: 20, 19: 18, 18: 17, 3: 15, 2: 14, 15: 14, 10: 4, 16: 1}\n",
      "36 500 {0: 49, 18: 47, 19: 41, 13: 38, 12: 37, 5: 34, 6: 32, 14: 31, 8: 29, 1: 27, 16: 26, 4: 25, 17: 19, 2: 17, 11: 15, 7: 13, 9: 8, 15: 8, 10: 3, 3: 1}\n",
      "55 500 {0: 49, 19: 49, 5: 48, 18: 45, 12: 41, 8: 34, 6: 29, 13: 28, 4: 21, 7: 21, 14: 20, 11: 19, 16: 18, 2: 17, 1: 15, 17: 15, 15: 12, 9: 11, 10: 4, 3: 4}\n",
      "72 500 {18: 58, 19: 44, 5: 44, 13: 32, 7: 30, 1: 28, 6: 28, 8: 28, 0: 28, 12: 27, 14: 26, 16: 25, 17: 25, 11: 19, 4: 16, 15: 16, 2: 13, 9: 10, 3: 3}\n",
      "43 500 {8: 73, 0: 56, 13: 51, 4: 50, 5: 41, 12: 37, 6: 37, 11: 25, 17: 22, 19: 21, 7: 19, 18: 17, 9: 16, 16: 11, 14: 7, 1: 7, 15: 5, 3: 4, 2: 1}\n",
      "51 500 {13: 79, 8: 68, 0: 67, 4: 55, 12: 46, 9: 43, 11: 32, 6: 25, 5: 22, 17: 17, 19: 8, 18: 8, 3: 7, 16: 5, 2: 4, 7: 4, 10: 3, 15: 3, 1: 2, 14: 2}\n",
      "35 500 {8: 56, 0: 42, 5: 41, 6: 37, 4: 35, 13: 32, 1: 28, 7: 28, 18: 26, 14: 25, 11: 25, 17: 23, 9: 23, 12: 21, 19: 19, 15: 9, 2: 9, 3: 7, 10: 7, 16: 7}\n",
      "83 500 {0: 41, 13: 41, 8: 40, 4: 30, 15: 30, 5: 28, 18: 28, 6: 25, 14: 25, 1: 24, 2: 23, 16: 22, 3: 22, 11: 21, 19: 20, 9: 20, 17: 19, 10: 16, 12: 16, 7: 9}\n",
      "33 500 {8: 86, 4: 67, 0: 67, 13: 64, 6: 42, 12: 36, 5: 27, 9: 25, 19: 24, 11: 19, 18: 12, 17: 10, 3: 8, 7: 6, 1: 3, 16: 3, 15: 1}\n",
      "27 500 {0: 58, 8: 54, 12: 46, 5: 44, 13: 42, 4: 42, 19: 40, 11: 34, 6: 31, 18: 28, 9: 21, 16: 17, 17: 13, 1: 12, 7: 11, 15: 3, 14: 2, 3: 1, 2: 1}\n",
      "53 500 {0: 47, 2: 46, 15: 45, 8: 40, 13: 36, 5: 31, 14: 28, 4: 25, 12: 22, 19: 21, 9: 20, 6: 19, 16: 19, 18: 17, 3: 17, 11: 17, 1: 13, 17: 13, 10: 12, 7: 12}\n",
      "92 500 {13: 80, 4: 73, 8: 64, 0: 59, 9: 57, 12: 30, 5: 26, 3: 21, 6: 18, 11: 16, 17: 14, 19: 10, 7: 8, 18: 6, 14: 5, 15: 5, 2: 4, 1: 3, 10: 1}\n",
      "50 500 {5: 49, 0: 44, 12: 39, 4: 39, 13: 36, 18: 35, 8: 34, 19: 34, 16: 23, 15: 23, 14: 19, 11: 18, 10: 17, 6: 17, 9: 15, 7: 14, 2: 13, 17: 11, 1: 10, 3: 10}\n",
      "15 500 {18: 48, 7: 43, 5: 42, 19: 38, 6: 37, 0: 33, 16: 32, 12: 30, 1: 27, 14: 26, 17: 26, 8: 24, 11: 22, 15: 19, 13: 18, 4: 14, 9: 10, 2: 6, 3: 3, 10: 2}\n",
      "18 500 {5: 63, 0: 52, 12: 52, 18: 38, 19: 35, 6: 35, 13: 33, 8: 31, 4: 24, 7: 24, 11: 22, 1: 17, 17: 17, 16: 12, 9: 11, 14: 11, 3: 8, 15: 7, 10: 6, 2: 2}\n",
      "46 500 {13: 51, 17: 45, 8: 44, 4: 41, 9: 36, 7: 34, 11: 30, 1: 28, 3: 28, 5: 27, 0: 25, 12: 23, 6: 17, 14: 17, 19: 17, 18: 13, 2: 9, 15: 7, 16: 7, 10: 1}\n",
      "75 500 {0: 67, 13: 52, 5: 50, 19: 45, 8: 43, 12: 39, 6: 30, 18: 29, 11: 25, 4: 25, 9: 21, 17: 17, 16: 16, 7: 15, 1: 7, 15: 7, 14: 6, 2: 5, 3: 1}\n",
      "38 500 {0: 57, 5: 52, 12: 50, 6: 38, 13: 38, 19: 37, 17: 36, 7: 33, 8: 31, 11: 30, 18: 24, 1: 22, 4: 12, 16: 10, 14: 8, 2: 6, 15: 6, 10: 4, 9: 3, 3: 3}\n",
      "66 500 {8: 61, 13: 55, 0: 54, 5: 49, 12: 47, 4: 40, 9: 26, 7: 24, 6: 23, 11: 22, 18: 18, 19: 18, 17: 16, 1: 11, 15: 9, 2: 8, 14: 6, 3: 6, 16: 4, 10: 3}\n",
      "77 500 {0: 56, 13: 45, 5: 43, 12: 40, 19: 39, 18: 38, 8: 35, 11: 33, 4: 32, 6: 24, 7: 21, 16: 16, 17: 16, 9: 14, 14: 13, 1: 11, 15: 9, 2: 9, 10: 4, 3: 2}\n",
      "69 500 {7: 53, 18: 47, 1: 47, 14: 39, 19: 38, 16: 33, 5: 33, 0: 29, 12: 22, 13: 21, 6: 20, 17: 20, 8: 19, 11: 16, 15: 15, 3: 12, 9: 10, 4: 10, 2: 9, 10: 7}\n",
      "95 500 {18: 64, 19: 59, 5: 43, 16: 35, 15: 34, 12: 32, 14: 30, 1: 30, 0: 26, 6: 25, 8: 20, 13: 18, 7: 16, 2: 16, 4: 13, 17: 12, 11: 12, 10: 11, 9: 4}\n",
      "99 500 {3: 44, 15: 40, 0: 37, 8: 34, 14: 32, 4: 31, 5: 30, 2: 30, 18: 29, 9: 28, 10: 27, 19: 26, 16: 26, 13: 23, 12: 21, 6: 18, 1: 9, 11: 6, 17: 5, 7: 4}\n",
      "93 500 {0: 50, 13: 45, 18: 42, 19: 42, 4: 41, 12: 39, 5: 36, 8: 34, 16: 26, 6: 21, 11: 19, 9: 19, 2: 14, 17: 14, 1: 13, 15: 12, 3: 9, 7: 8, 14: 8, 10: 8}\n",
      "4 500 {0: 70, 13: 53, 12: 47, 5: 42, 8: 35, 19: 35, 6: 33, 4: 28, 18: 28, 11: 24, 17: 14, 15: 14, 16: 14, 9: 13, 7: 12, 2: 12, 14: 11, 1: 10, 10: 5}\n",
      "61 500 {14: 44, 15: 43, 5: 42, 2: 39, 18: 35, 12: 33, 19: 32, 10: 30, 8: 28, 0: 27, 6: 26, 1: 23, 16: 22, 13: 18, 4: 17, 9: 11, 7: 10, 17: 8, 11: 7, 3: 5}\n",
      "94 500 {5: 52, 11: 51, 17: 42, 0: 40, 7: 39, 1: 37, 8: 29, 14: 28, 4: 25, 18: 22, 12: 22, 13: 20, 19: 20, 2: 18, 10: 14, 9: 11, 16: 11, 6: 11, 3: 5, 15: 3}\n",
      "68 500 {19: 95, 6: 76, 18: 64, 5: 59, 16: 49, 8: 33, 12: 32, 0: 21, 7: 18, 17: 15, 1: 13, 13: 10, 4: 6, 11: 4, 15: 3, 14: 2}\n",
      "34 500 {0: 61, 13: 52, 8: 52, 12: 47, 5: 46, 4: 38, 19: 32, 6: 29, 18: 22, 11: 22, 16: 17, 7: 16, 9: 14, 17: 12, 1: 11, 14: 11, 15: 9, 2: 5, 10: 2, 3: 2}\n",
      "32 500 {5: 43, 19: 41, 7: 36, 12: 34, 1: 33, 0: 32, 18: 32, 16: 29, 17: 28, 6: 26, 15: 25, 13: 23, 11: 23, 8: 22, 2: 20, 14: 20, 4: 14, 9: 12, 10: 4, 3: 3}\n",
      "88 500 {0: 61, 8: 59, 13: 53, 4: 53, 5: 44, 12: 41, 6: 28, 7: 24, 11: 23, 19: 20, 18: 20, 9: 17, 1: 12, 17: 11, 16: 9, 14: 8, 2: 7, 3: 5, 15: 4, 10: 1}\n",
      "67 500 {18: 63, 19: 51, 5: 48, 0: 40, 13: 31, 16: 30, 14: 27, 1: 26, 12: 24, 4: 23, 7: 21, 8: 21, 6: 19, 9: 18, 11: 17, 15: 13, 17: 12, 2: 8, 3: 6, 10: 2}\n",
      "30 500 {5: 63, 18: 57, 19: 51, 0: 45, 12: 36, 8: 34, 13: 29, 11: 25, 6: 24, 14: 23, 7: 23, 4: 23, 1: 20, 17: 17, 16: 15, 15: 9, 9: 4, 2: 1, 3: 1}\n",
      "62 500 {13: 89, 4: 76, 8: 66, 0: 64, 9: 35, 11: 31, 12: 30, 5: 23, 3: 22, 6: 17, 17: 14, 19: 11, 18: 7, 16: 4, 14: 4, 1: 3, 7: 3, 2: 1}\n",
      "63 500 {13: 68, 4: 59, 5: 59, 0: 41, 8: 36, 19: 36, 9: 32, 11: 30, 6: 26, 18: 23, 17: 21, 12: 20, 7: 17, 14: 9, 1: 6, 15: 6, 16: 5, 2: 4, 3: 1, 10: 1}\n",
      "40 500 {14: 54, 2: 41, 10: 37, 9: 31, 1: 29, 4: 28, 7: 28, 13: 27, 18: 27, 8: 25, 5: 25, 0: 23, 3: 23, 11: 21, 17: 18, 6: 16, 19: 15, 15: 13, 12: 12, 16: 7}\n",
      "26 500 {4: 46, 13: 46, 5: 41, 2: 36, 9: 35, 8: 32, 0: 31, 16: 29, 15: 28, 18: 28, 12: 22, 10: 21, 19: 20, 11: 19, 6: 17, 3: 14, 7: 14, 14: 12, 1: 7, 17: 2}\n",
      "48 500 {15: 48, 0: 46, 19: 40, 12: 40, 2: 38, 18: 37, 16: 32, 6: 31, 5: 27, 17: 26, 8: 24, 11: 20, 4: 16, 14: 16, 13: 16, 7: 13, 1: 11, 10: 10, 9: 6, 3: 3}\n",
      "79 500 {18: 51, 5: 47, 19: 47, 0: 42, 12: 38, 8: 26, 7: 26, 13: 24, 6: 24, 4: 23, 16: 21, 14: 19, 9: 19, 11: 18, 1: 16, 17: 15, 3: 14, 15: 13, 2: 11, 10: 6}\n",
      "85 500 {18: 51, 7: 51, 1: 51, 19: 40, 17: 37, 16: 35, 6: 33, 5: 32, 14: 31, 12: 25, 15: 24, 0: 21, 11: 15, 8: 14, 13: 13, 2: 12, 3: 7, 4: 4, 9: 3, 10: 1}\n",
      "54 500 {13: 57, 4: 56, 9: 43, 12: 41, 8: 41, 0: 41, 5: 33, 11: 28, 3: 25, 17: 19, 18: 19, 6: 18, 7: 16, 19: 14, 14: 12, 2: 10, 15: 9, 1: 7, 10: 6, 16: 5}\n",
      "44 500 {0: 49, 19: 48, 5: 45, 13: 41, 8: 38, 6: 35, 12: 33, 18: 32, 4: 30, 11: 24, 16: 23, 14: 19, 9: 17, 7: 15, 1: 13, 17: 11, 2: 8, 10: 7, 3: 6, 15: 6}\n",
      "7 500 {5: 58, 18: 43, 19: 41, 10: 39, 16: 36, 8: 34, 1: 30, 14: 29, 15: 27, 12: 25, 2: 23, 6: 21, 7: 20, 0: 20, 13: 15, 4: 11, 9: 10, 17: 9, 11: 8, 3: 1}\n",
      "12 500 {5: 63, 19: 55, 18: 49, 17: 46, 7: 45, 1: 35, 16: 31, 0: 30, 6: 28, 12: 26, 11: 20, 13: 18, 9: 14, 8: 12, 14: 11, 4: 9, 15: 5, 3: 2, 2: 1}\n",
      "2 500 {8: 47, 4: 46, 0: 40, 19: 35, 12: 34, 5: 33, 13: 30, 18: 28, 6: 24, 14: 24, 11: 23, 17: 23, 1: 21, 2: 20, 9: 20, 16: 19, 7: 17, 15: 10, 10: 5, 3: 1}\n",
      "41 500 {2: 142, 10: 70, 15: 33, 5: 31, 12: 29, 0: 27, 18: 19, 17: 18, 7: 18, 14: 18, 19: 15, 13: 14, 8: 14, 11: 13, 6: 12, 1: 12, 4: 7, 16: 6, 9: 2}\n",
      "37 500 {19: 89, 18: 57, 6: 50, 5: 44, 0: 43, 12: 37, 16: 34, 8: 29, 7: 26, 17: 26, 13: 19, 11: 12, 1: 12, 15: 9, 4: 5, 14: 4, 2: 2, 9: 1, 10: 1}\n",
      "13 500 {12: 58, 19: 53, 0: 48, 18: 45, 5: 42, 6: 40, 8: 31, 17: 30, 13: 25, 16: 23, 11: 22, 7: 19, 4: 18, 1: 13, 15: 11, 9: 7, 14: 6, 2: 5, 10: 2, 3: 2}\n",
      "25 500 {16: 46, 19: 42, 6: 41, 0: 36, 15: 33, 12: 31, 5: 30, 8: 27, 4: 27, 18: 25, 17: 24, 13: 22, 7: 19, 2: 19, 11: 17, 14: 15, 9: 15, 1: 13, 10: 12, 3: 6}\n",
      "10 500 {14: 36, 4: 35, 15: 34, 18: 32, 0: 32, 19: 32, 7: 31, 2: 29, 8: 28, 1: 25, 16: 25, 13: 24, 5: 23, 6: 20, 10: 19, 12: 18, 3: 15, 9: 15, 11: 15, 17: 12}\n",
      "57 500 {2: 55, 10: 42, 15: 39, 13: 32, 0: 30, 8: 27, 4: 27, 19: 25, 5: 24, 14: 24, 12: 22, 1: 21, 16: 20, 9: 19, 18: 19, 11: 19, 17: 16, 3: 15, 7: 14, 6: 10}\n",
      "5 500 {19: 62, 6: 42, 18: 37, 12: 36, 15: 36, 5: 35, 11: 35, 0: 33, 16: 33, 2: 21, 13: 21, 7: 18, 4: 18, 8: 17, 17: 16, 14: 16, 1: 9, 10: 9, 9: 5, 3: 1}\n",
      "60 500 {17: 69, 5: 65, 18: 62, 7: 55, 1: 42, 11: 39, 19: 36, 16: 30, 12: 22, 14: 18, 0: 15, 6: 12, 13: 12, 4: 6, 8: 5, 15: 5, 9: 4, 3: 2, 2: 1}\n",
      "91 500 {2: 62, 10: 53, 0: 45, 4: 40, 13: 39, 15: 36, 9: 33, 8: 29, 12: 24, 5: 24, 11: 16, 3: 15, 18: 15, 16: 15, 19: 15, 6: 15, 17: 7, 14: 7, 7: 6, 1: 4}\n",
      "3 500 {0: 50, 5: 48, 18: 40, 12: 40, 19: 40, 7: 35, 13: 35, 8: 32, 6: 30, 17: 24, 11: 24, 1: 24, 4: 18, 14: 17, 9: 14, 16: 13, 15: 11, 2: 3, 3: 1, 10: 1}\n",
      "58 500 {19: 51, 0: 50, 18: 47, 5: 42, 16: 38, 12: 36, 6: 36, 13: 34, 8: 28, 11: 27, 17: 26, 15: 24, 7: 16, 14: 14, 4: 8, 1: 7, 2: 6, 9: 5, 3: 3, 10: 2}\n",
      "16 500 {15: 62, 2: 51, 14: 37, 5: 33, 6: 32, 0: 30, 1: 30, 7: 29, 12: 28, 4: 20, 19: 20, 16: 20, 18: 19, 10: 18, 8: 17, 17: 14, 11: 14, 13: 11, 9: 10, 3: 5}\n",
      "50000 33227\n"
     ]
    },
    {
     "name": "stderr",
     "output_type": "stream",
     "text": [
      "Epoch 1/10: 100%|██████████| 79/79 [00:34<00:00,  2.28 batch/s, loss=4.2794]\n",
      "Validating: 100%|██████████| 20/20 [00:03<00:00,  5.68 batch/s]\n"
     ]
    },
    {
     "name": "stdout",
     "output_type": "stream",
     "text": [
      "\u001b[1m\u001b[36mBest valid accuracy improved from 0.00% to 11.98%. Saving checkpoint...\n",
      "\u001b[0m"
     ]
    },
    {
     "name": "stderr",
     "output_type": "stream",
     "text": [
      "Epoch 2/10: 100%|██████████| 79/79 [00:34<00:00,  2.27 batch/s, loss=3.5630]\n",
      "Validating: 100%|██████████| 20/20 [00:03<00:00,  5.67 batch/s]\n"
     ]
    },
    {
     "name": "stdout",
     "output_type": "stream",
     "text": [
      "\u001b[1m\u001b[36mBest valid accuracy improved from 11.98% to 15.78%. Saving checkpoint...\n",
      "\u001b[0m"
     ]
    },
    {
     "name": "stderr",
     "output_type": "stream",
     "text": [
      "Epoch 3/10: 100%|██████████| 79/79 [00:34<00:00,  2.27 batch/s, loss=3.2307]\n",
      "Validating: 100%|██████████| 20/20 [00:03<00:00,  5.70 batch/s]\n",
      "Epoch 4/10: 100%|██████████| 79/79 [00:34<00:00,  2.26 batch/s, loss=3.4351]\n",
      "Validating: 100%|██████████| 20/20 [00:03<00:00,  5.68 batch/s]\n"
     ]
    },
    {
     "name": "stdout",
     "output_type": "stream",
     "text": [
      "\u001b[1m\u001b[36mBest valid accuracy improved from 15.78% to 19.49%. Saving checkpoint...\n",
      "\u001b[0m"
     ]
    },
    {
     "name": "stderr",
     "output_type": "stream",
     "text": [
      "Epoch 5/10: 100%|██████████| 79/79 [00:34<00:00,  2.27 batch/s, loss=2.9351]\n",
      "Validating: 100%|██████████| 20/20 [00:03<00:00,  5.70 batch/s]\n"
     ]
    },
    {
     "name": "stdout",
     "output_type": "stream",
     "text": [
      "\u001b[1m\u001b[36mBest valid accuracy improved from 19.49% to 24.79%. Saving checkpoint...\n",
      "\u001b[0m"
     ]
    },
    {
     "name": "stderr",
     "output_type": "stream",
     "text": [
      "Epoch 6/10: 100%|██████████| 79/79 [00:35<00:00,  2.25 batch/s, loss=2.6622]\n",
      "Validating: 100%|██████████| 20/20 [00:03<00:00,  5.47 batch/s]\n",
      "Epoch 7/10: 100%|██████████| 79/79 [00:35<00:00,  2.24 batch/s, loss=2.4579]\n",
      "Validating: 100%|██████████| 20/20 [00:03<00:00,  5.72 batch/s]\n"
     ]
    },
    {
     "name": "stdout",
     "output_type": "stream",
     "text": [
      "\u001b[1m\u001b[36mBest valid accuracy improved from 24.79% to 29.01%. Saving checkpoint...\n",
      "\u001b[0m"
     ]
    },
    {
     "name": "stderr",
     "output_type": "stream",
     "text": [
      "Epoch 8/10: 100%|██████████| 79/79 [00:35<00:00,  2.24 batch/s, loss=2.1597]\n",
      "Validating: 100%|██████████| 20/20 [00:03<00:00,  5.72 batch/s]\n",
      "Epoch 9/10: 100%|██████████| 79/79 [00:35<00:00,  2.23 batch/s, loss=2.7691]\n",
      "Validating: 100%|██████████| 20/20 [00:03<00:00,  5.73 batch/s]\n",
      "Epoch 10/10: 100%|██████████| 79/79 [00:35<00:00,  2.23 batch/s, loss=2.2558]\n",
      "Validating: 100%|██████████| 20/20 [00:03<00:00,  5.69 batch/s]\n"
     ]
    },
    {
     "name": "stdout",
     "output_type": "stream",
     "text": [
      "\u001b[1m\u001b[36mBest valid accuracy improved from 29.01% to 30.45%. Saving checkpoint...\n",
      "\u001b[0m"
     ]
    },
    {
     "name": "stderr",
     "output_type": "stream",
     "text": [
      "Testing: 100%|██████████| 20/20 [00:03<00:00,  5.63 batch/s]\n"
     ]
    }
   ],
   "source": [
    "from kiss.sampler import KMeansPuritySampler\n",
    "\n",
    "transform = torchvision.transforms.ToTensor()\n",
    "dataset_tr = torchvision.datasets.CIFAR100(root='../data', train=True, download=True, transform=transform)\n",
    "dataset_te = torchvision.datasets.CIFAR100(root='../data', train=False, download=True, transform=transform)\n",
    "\n",
    "model = resnet50(num_classes=100)\n",
    "model.to(torch.device(CONFIGS.torch.device))\n",
    "\n",
    "experiment = Experiment(\n",
    "    model, \n",
    "    dataset_tr,\n",
    "    dataset_te, \n",
    "    KMeansPuritySampler,\n",
    "    ratio=(0.1, 1, 10),\n",
    "    epochs=10,\n",
    "    batch_size=512,\n",
    "    clip=None,\n",
    "    num_clusters=20,\n",
    "    eqsize=True,\n",
    "    min_purity=0.01,\n",
    "    load_clusters=\"../checkpoints/kmeans,purity,fe\",\n",
    "    save_clusters=\"../checkpoints/kmeans,purity,fe\")\n",
    "experiment.run(\"../experiments\", \"r50,ep:10,bs:512,clip:None,nc:20,mp:0.01,fe\")"
   ]
  }
 ],
 "metadata": {
  "kernelspec": {
   "display_name": "kiss",
   "language": "python",
   "name": "python3"
  },
  "language_info": {
   "codemirror_mode": {
    "name": "ipython",
    "version": 3
   },
   "file_extension": ".py",
   "mimetype": "text/x-python",
   "name": "python",
   "nbconvert_exporter": "python",
   "pygments_lexer": "ipython3",
   "version": "3.11.6"
  }
 },
 "nbformat": 4,
 "nbformat_minor": 2
}
