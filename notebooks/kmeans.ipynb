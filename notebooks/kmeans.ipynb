{
 "cells": [
  {
   "cell_type": "code",
   "execution_count": 1,
   "metadata": {},
   "outputs": [
    {
     "name": "stdout",
     "output_type": "stream",
     "text": [
      "Files already downloaded and verified\n",
      "Files already downloaded and verified\n",
      "\u001b[1m\u001b[33mRunning experiment ResNet!CIFAR10!KMeansSampler\n",
      "\u001b[0m\u001b[1m\u001b[95mRunning run r50,epochs:10,bs:256,clipping,eqsize/1\n",
      "\u001b[0m"
     ]
    },
    {
     "name": "stderr",
     "output_type": "stream",
     "text": [
      "Epoch 1/10: 100%|██████████| 16/16 [00:05<00:00,  3.05 batch/s, loss=2.7241]\n",
      "Validating: 100%|██████████| 4/4 [00:00<00:00,  7.43 batch/s]\n"
     ]
    },
    {
     "name": "stdout",
     "output_type": "stream",
     "text": [
      "\u001b[1m\u001b[36mBest valid accuracy improved from 0.00% to 21.50%. Saving checkpoint...\n",
      "\u001b[0m"
     ]
    },
    {
     "name": "stderr",
     "output_type": "stream",
     "text": [
      "Epoch 2/10: 100%|██████████| 16/16 [00:03<00:00,  4.07 batch/s, loss=2.1194]\n",
      "Validating: 100%|██████████| 4/4 [00:00<00:00, 10.74 batch/s]\n"
     ]
    },
    {
     "name": "stdout",
     "output_type": "stream",
     "text": [
      "\u001b[1m\u001b[36mBest valid accuracy improved from 21.50% to 31.20%. Saving checkpoint...\n",
      "\u001b[0m"
     ]
    },
    {
     "name": "stderr",
     "output_type": "stream",
     "text": [
      "Epoch 3/10: 100%|██████████| 16/16 [00:03<00:00,  4.07 batch/s, loss=1.7913]\n",
      "Validating: 100%|██████████| 4/4 [00:00<00:00, 10.69 batch/s]\n"
     ]
    },
    {
     "name": "stdout",
     "output_type": "stream",
     "text": [
      "\u001b[1m\u001b[36mBest valid accuracy improved from 31.20% to 35.30%. Saving checkpoint...\n",
      "\u001b[0m"
     ]
    },
    {
     "name": "stderr",
     "output_type": "stream",
     "text": [
      "Epoch 4/10: 100%|██████████| 16/16 [00:03<00:00,  4.06 batch/s, loss=1.4627]\n",
      "Validating: 100%|██████████| 4/4 [00:00<00:00, 10.78 batch/s]\n"
     ]
    },
    {
     "name": "stdout",
     "output_type": "stream",
     "text": [
      "\u001b[1m\u001b[36mBest valid accuracy improved from 35.30% to 38.80%. Saving checkpoint...\n",
      "\u001b[0m"
     ]
    },
    {
     "name": "stderr",
     "output_type": "stream",
     "text": [
      "Epoch 5/10: 100%|██████████| 16/16 [00:03<00:00,  4.07 batch/s, loss=1.2146]\n",
      "Validating: 100%|██████████| 4/4 [00:00<00:00, 10.73 batch/s]\n",
      "Epoch 6/10: 100%|██████████| 16/16 [00:03<00:00,  4.05 batch/s, loss=0.9697]\n",
      "Validating: 100%|██████████| 4/4 [00:00<00:00, 10.70 batch/s]\n"
     ]
    },
    {
     "name": "stdout",
     "output_type": "stream",
     "text": [
      "\u001b[1m\u001b[36mBest valid accuracy improved from 38.80% to 40.70%. Saving checkpoint...\n",
      "\u001b[0m"
     ]
    },
    {
     "name": "stderr",
     "output_type": "stream",
     "text": [
      "Epoch 7/10: 100%|██████████| 16/16 [00:03<00:00,  4.06 batch/s, loss=0.7634]\n",
      "Validating: 100%|██████████| 4/4 [00:00<00:00, 10.70 batch/s]\n"
     ]
    },
    {
     "name": "stdout",
     "output_type": "stream",
     "text": [
      "\u001b[1m\u001b[36mBest valid accuracy improved from 40.70% to 43.00%. Saving checkpoint...\n",
      "\u001b[0m"
     ]
    },
    {
     "name": "stderr",
     "output_type": "stream",
     "text": [
      "Epoch 8/10: 100%|██████████| 16/16 [00:03<00:00,  4.07 batch/s, loss=0.5576]\n",
      "Validating: 100%|██████████| 4/4 [00:00<00:00, 10.76 batch/s]\n",
      "Epoch 9/10: 100%|██████████| 16/16 [00:03<00:00,  4.09 batch/s, loss=0.4833]\n",
      "Validating: 100%|██████████| 4/4 [00:00<00:00, 10.84 batch/s]\n"
     ]
    },
    {
     "name": "stdout",
     "output_type": "stream",
     "text": [
      "\u001b[1m\u001b[36mBest valid accuracy improved from 43.00% to 43.10%. Saving checkpoint...\n",
      "\u001b[0m"
     ]
    },
    {
     "name": "stderr",
     "output_type": "stream",
     "text": [
      "Epoch 10/10: 100%|██████████| 16/16 [00:03<00:00,  4.06 batch/s, loss=0.4851]\n",
      "Validating: 100%|██████████| 4/4 [00:00<00:00, 10.74 batch/s]\n",
      "Testing: 100%|██████████| 40/40 [00:03<00:00, 10.11 batch/s]\n"
     ]
    },
    {
     "name": "stdout",
     "output_type": "stream",
     "text": [
      "\u001b[1m\u001b[95mRunning run r50,epochs:10,bs:256,clipping,eqsize/2\n",
      "\u001b[0m"
     ]
    },
    {
     "name": "stderr",
     "output_type": "stream",
     "text": [
      "Epoch 1/10: 100%|██████████| 32/32 [00:08<00:00,  3.80 batch/s, loss=2.4711]\n",
      "Validating: 100%|██████████| 8/8 [00:01<00:00,  7.98 batch/s]\n"
     ]
    },
    {
     "name": "stdout",
     "output_type": "stream",
     "text": [
      "\u001b[1m\u001b[36mBest valid accuracy improved from 0.00% to 27.40%. Saving checkpoint...\n",
      "\u001b[0m"
     ]
    },
    {
     "name": "stderr",
     "output_type": "stream",
     "text": [
      "Epoch 2/10: 100%|██████████| 32/32 [00:07<00:00,  4.03 batch/s, loss=1.8994]\n",
      "Validating: 100%|██████████| 8/8 [00:00<00:00, 10.52 batch/s]\n"
     ]
    },
    {
     "name": "stdout",
     "output_type": "stream",
     "text": [
      "\u001b[1m\u001b[36mBest valid accuracy improved from 27.40% to 38.85%. Saving checkpoint...\n",
      "\u001b[0m"
     ]
    },
    {
     "name": "stderr",
     "output_type": "stream",
     "text": [
      "Epoch 3/10: 100%|██████████| 32/32 [00:07<00:00,  4.10 batch/s, loss=1.6373]\n",
      "Validating: 100%|██████████| 8/8 [00:00<00:00, 10.51 batch/s]\n"
     ]
    },
    {
     "name": "stdout",
     "output_type": "stream",
     "text": [
      "\u001b[1m\u001b[36mBest valid accuracy improved from 38.85% to 43.40%. Saving checkpoint...\n",
      "\u001b[0m"
     ]
    },
    {
     "name": "stderr",
     "output_type": "stream",
     "text": [
      "Epoch 4/10: 100%|██████████| 32/32 [00:07<00:00,  4.04 batch/s, loss=1.4580]\n",
      "Validating: 100%|██████████| 8/8 [00:00<00:00, 10.55 batch/s]\n",
      "Epoch 5/10: 100%|██████████| 32/32 [00:07<00:00,  4.03 batch/s, loss=1.3728]\n",
      "Validating: 100%|██████████| 8/8 [00:00<00:00, 10.53 batch/s]\n"
     ]
    },
    {
     "name": "stdout",
     "output_type": "stream",
     "text": [
      "\u001b[1m\u001b[36mBest valid accuracy improved from 43.40% to 44.10%. Saving checkpoint...\n",
      "\u001b[0m"
     ]
    },
    {
     "name": "stderr",
     "output_type": "stream",
     "text": [
      "Epoch 6/10: 100%|██████████| 32/32 [00:07<00:00,  4.03 batch/s, loss=1.1431]\n",
      "Validating: 100%|██████████| 8/8 [00:00<00:00, 10.59 batch/s]\n"
     ]
    },
    {
     "name": "stdout",
     "output_type": "stream",
     "text": [
      "\u001b[1m\u001b[36mBest valid accuracy improved from 44.10% to 48.05%. Saving checkpoint...\n",
      "\u001b[0m"
     ]
    },
    {
     "name": "stderr",
     "output_type": "stream",
     "text": [
      "Epoch 7/10: 100%|██████████| 32/32 [00:07<00:00,  4.04 batch/s, loss=1.0014]\n",
      "Validating: 100%|██████████| 8/8 [00:00<00:00, 10.58 batch/s]\n",
      "Epoch 8/10: 100%|██████████| 32/32 [00:07<00:00,  4.03 batch/s, loss=0.7869]\n",
      "Validating: 100%|██████████| 8/8 [00:00<00:00, 10.54 batch/s]\n"
     ]
    },
    {
     "name": "stdout",
     "output_type": "stream",
     "text": [
      "\u001b[1m\u001b[36mBest valid accuracy improved from 48.05% to 48.15%. Saving checkpoint...\n",
      "\u001b[0m"
     ]
    },
    {
     "name": "stderr",
     "output_type": "stream",
     "text": [
      "Epoch 9/10: 100%|██████████| 32/32 [00:07<00:00,  4.04 batch/s, loss=0.6142]\n",
      "Validating: 100%|██████████| 8/8 [00:00<00:00, 10.56 batch/s]\n"
     ]
    },
    {
     "name": "stdout",
     "output_type": "stream",
     "text": [
      "\u001b[1m\u001b[36mBest valid accuracy improved from 48.15% to 48.80%. Saving checkpoint...\n",
      "\u001b[0m"
     ]
    },
    {
     "name": "stderr",
     "output_type": "stream",
     "text": [
      "Epoch 10/10: 100%|██████████| 32/32 [00:07<00:00,  4.03 batch/s, loss=0.4848]\n",
      "Validating: 100%|██████████| 8/8 [00:00<00:00, 10.56 batch/s]\n",
      "Testing: 100%|██████████| 40/40 [00:03<00:00, 10.72 batch/s]\n"
     ]
    },
    {
     "name": "stdout",
     "output_type": "stream",
     "text": [
      "\u001b[1m\u001b[95mRunning run r50,epochs:10,bs:256,clipping,eqsize/3\n",
      "\u001b[0m"
     ]
    },
    {
     "name": "stderr",
     "output_type": "stream",
     "text": [
      "Epoch 1/10: 100%|██████████| 47/47 [00:12<00:00,  3.84 batch/s, loss=2.3064]\n",
      "Validating: 100%|██████████| 12/12 [00:01<00:00,  8.58 batch/s]\n"
     ]
    },
    {
     "name": "stdout",
     "output_type": "stream",
     "text": [
      "\u001b[1m\u001b[36mBest valid accuracy improved from 0.00% to 33.27%. Saving checkpoint...\n",
      "\u001b[0m"
     ]
    },
    {
     "name": "stderr",
     "output_type": "stream",
     "text": [
      "Epoch 2/10: 100%|██████████| 47/47 [00:11<00:00,  3.98 batch/s, loss=1.6701]\n",
      "Validating: 100%|██████████| 12/12 [00:01<00:00, 10.52 batch/s]\n"
     ]
    },
    {
     "name": "stdout",
     "output_type": "stream",
     "text": [
      "\u001b[1m\u001b[36mBest valid accuracy improved from 33.27% to 41.70%. Saving checkpoint...\n",
      "\u001b[0m"
     ]
    },
    {
     "name": "stderr",
     "output_type": "stream",
     "text": [
      "Epoch 3/10: 100%|██████████| 47/47 [00:11<00:00,  3.98 batch/s, loss=1.4921]\n",
      "Validating: 100%|██████████| 12/12 [00:01<00:00, 10.51 batch/s]\n"
     ]
    },
    {
     "name": "stdout",
     "output_type": "stream",
     "text": [
      "\u001b[1m\u001b[36mBest valid accuracy improved from 41.70% to 45.33%. Saving checkpoint...\n",
      "\u001b[0m"
     ]
    },
    {
     "name": "stderr",
     "output_type": "stream",
     "text": [
      "Epoch 4/10: 100%|██████████| 47/47 [00:11<00:00,  3.98 batch/s, loss=1.3244]\n",
      "Validating: 100%|██████████| 12/12 [00:01<00:00, 10.48 batch/s]\n"
     ]
    },
    {
     "name": "stdout",
     "output_type": "stream",
     "text": [
      "\u001b[1m\u001b[36mBest valid accuracy improved from 45.33% to 47.63%. Saving checkpoint...\n",
      "\u001b[0m"
     ]
    },
    {
     "name": "stderr",
     "output_type": "stream",
     "text": [
      "Epoch 5/10: 100%|██████████| 47/47 [00:11<00:00,  3.99 batch/s, loss=1.1886]\n",
      "Validating: 100%|██████████| 12/12 [00:01<00:00, 10.48 batch/s]\n"
     ]
    },
    {
     "name": "stdout",
     "output_type": "stream",
     "text": [
      "\u001b[1m\u001b[36mBest valid accuracy improved from 47.63% to 51.93%. Saving checkpoint...\n",
      "\u001b[0m"
     ]
    },
    {
     "name": "stderr",
     "output_type": "stream",
     "text": [
      "Epoch 6/10: 100%|██████████| 47/47 [00:11<00:00,  3.98 batch/s, loss=1.0099]\n",
      "Validating: 100%|██████████| 12/12 [00:01<00:00, 10.51 batch/s]\n"
     ]
    },
    {
     "name": "stdout",
     "output_type": "stream",
     "text": [
      "\u001b[1m\u001b[36mBest valid accuracy improved from 51.93% to 52.47%. Saving checkpoint...\n",
      "\u001b[0m"
     ]
    },
    {
     "name": "stderr",
     "output_type": "stream",
     "text": [
      "Epoch 7/10: 100%|██████████| 47/47 [00:11<00:00,  3.99 batch/s, loss=0.8553]\n",
      "Validating: 100%|██████████| 12/12 [00:01<00:00, 10.46 batch/s]\n"
     ]
    },
    {
     "name": "stdout",
     "output_type": "stream",
     "text": [
      "\u001b[1m\u001b[36mBest valid accuracy improved from 52.47% to 54.37%. Saving checkpoint...\n",
      "\u001b[0m"
     ]
    },
    {
     "name": "stderr",
     "output_type": "stream",
     "text": [
      "Epoch 8/10: 100%|██████████| 47/47 [00:11<00:00,  3.99 batch/s, loss=0.6923]\n",
      "Validating: 100%|██████████| 12/12 [00:01<00:00, 10.50 batch/s]\n",
      "Epoch 9/10: 100%|██████████| 47/47 [00:11<00:00,  3.98 batch/s, loss=0.6136]\n",
      "Validating: 100%|██████████| 12/12 [00:01<00:00, 10.50 batch/s]\n",
      "Epoch 10/10: 100%|██████████| 47/47 [00:11<00:00,  3.98 batch/s, loss=0.4870]\n",
      "Validating: 100%|██████████| 12/12 [00:01<00:00, 10.46 batch/s]\n",
      "Testing: 100%|██████████| 40/40 [00:03<00:00, 10.95 batch/s]\n"
     ]
    },
    {
     "name": "stdout",
     "output_type": "stream",
     "text": [
      "\u001b[1m\u001b[95mRunning run r50,epochs:10,bs:256,clipping,eqsize/4\n",
      "\u001b[0m"
     ]
    },
    {
     "name": "stderr",
     "output_type": "stream",
     "text": [
      "Epoch 1/10: 100%|██████████| 63/63 [00:16<00:00,  3.87 batch/s, loss=2.1752]\n",
      "Validating: 100%|██████████| 16/16 [00:01<00:00, 10.45 batch/s]\n"
     ]
    },
    {
     "name": "stdout",
     "output_type": "stream",
     "text": [
      "\u001b[1m\u001b[36mBest valid accuracy improved from 0.00% to 36.70%. Saving checkpoint...\n",
      "\u001b[0m"
     ]
    },
    {
     "name": "stderr",
     "output_type": "stream",
     "text": [
      "Epoch 2/10: 100%|██████████| 63/63 [00:15<00:00,  4.00 batch/s, loss=1.6159]\n",
      "Validating: 100%|██████████| 16/16 [00:01<00:00, 10.46 batch/s]\n"
     ]
    },
    {
     "name": "stdout",
     "output_type": "stream",
     "text": [
      "\u001b[1m\u001b[36mBest valid accuracy improved from 36.70% to 44.50%. Saving checkpoint...\n",
      "\u001b[0m"
     ]
    },
    {
     "name": "stderr",
     "output_type": "stream",
     "text": [
      "Epoch 3/10: 100%|██████████| 63/63 [00:15<00:00,  4.00 batch/s, loss=1.4774]\n",
      "Validating: 100%|██████████| 16/16 [00:01<00:00, 10.48 batch/s]\n"
     ]
    },
    {
     "name": "stdout",
     "output_type": "stream",
     "text": [
      "\u001b[1m\u001b[36mBest valid accuracy improved from 44.50% to 46.17%. Saving checkpoint...\n",
      "\u001b[0m"
     ]
    },
    {
     "name": "stderr",
     "output_type": "stream",
     "text": [
      "Epoch 4/10: 100%|██████████| 63/63 [00:15<00:00,  4.01 batch/s, loss=1.2845]\n",
      "Validating: 100%|██████████| 16/16 [00:01<00:00, 10.49 batch/s]\n"
     ]
    },
    {
     "name": "stdout",
     "output_type": "stream",
     "text": [
      "\u001b[1m\u001b[36mBest valid accuracy improved from 46.17% to 53.42%. Saving checkpoint...\n",
      "\u001b[0m"
     ]
    },
    {
     "name": "stderr",
     "output_type": "stream",
     "text": [
      "Epoch 5/10: 100%|██████████| 63/63 [00:15<00:00,  4.00 batch/s, loss=1.1175]\n",
      "Validating: 100%|██████████| 16/16 [00:01<00:00, 10.45 batch/s]\n"
     ]
    },
    {
     "name": "stdout",
     "output_type": "stream",
     "text": [
      "\u001b[1m\u001b[36mBest valid accuracy improved from 53.42% to 55.07%. Saving checkpoint...\n",
      "\u001b[0m"
     ]
    },
    {
     "name": "stderr",
     "output_type": "stream",
     "text": [
      "Epoch 6/10: 100%|██████████| 63/63 [00:15<00:00,  4.02 batch/s, loss=0.9384]\n",
      "Validating: 100%|██████████| 16/16 [00:01<00:00, 10.68 batch/s]\n"
     ]
    },
    {
     "name": "stdout",
     "output_type": "stream",
     "text": [
      "\u001b[1m\u001b[36mBest valid accuracy improved from 55.07% to 56.50%. Saving checkpoint...\n",
      "\u001b[0m"
     ]
    },
    {
     "name": "stderr",
     "output_type": "stream",
     "text": [
      "Epoch 7/10: 100%|██████████| 63/63 [00:15<00:00,  4.04 batch/s, loss=0.7618]\n",
      "Validating: 100%|██████████| 16/16 [00:01<00:00, 10.74 batch/s]\n"
     ]
    },
    {
     "name": "stdout",
     "output_type": "stream",
     "text": [
      "\u001b[1m\u001b[36mBest valid accuracy improved from 56.50% to 59.10%. Saving checkpoint...\n",
      "\u001b[0m"
     ]
    },
    {
     "name": "stderr",
     "output_type": "stream",
     "text": [
      "Epoch 8/10: 100%|██████████| 63/63 [00:15<00:00,  4.02 batch/s, loss=0.6268]\n",
      "Validating: 100%|██████████| 16/16 [00:01<00:00, 10.58 batch/s]\n"
     ]
    },
    {
     "name": "stdout",
     "output_type": "stream",
     "text": [
      "\u001b[1m\u001b[36mBest valid accuracy improved from 59.10% to 59.20%. Saving checkpoint...\n",
      "\u001b[0m"
     ]
    },
    {
     "name": "stderr",
     "output_type": "stream",
     "text": [
      "Epoch 9/10: 100%|██████████| 63/63 [00:15<00:00,  4.01 batch/s, loss=0.5082]\n",
      "Validating: 100%|██████████| 16/16 [00:01<00:00, 10.47 batch/s]\n"
     ]
    },
    {
     "name": "stdout",
     "output_type": "stream",
     "text": [
      "\u001b[1m\u001b[36mBest valid accuracy improved from 59.20% to 60.72%. Saving checkpoint...\n",
      "\u001b[0m"
     ]
    },
    {
     "name": "stderr",
     "output_type": "stream",
     "text": [
      "Epoch 10/10: 100%|██████████| 63/63 [00:15<00:00,  4.00 batch/s, loss=0.4298]\n",
      "Validating: 100%|██████████| 16/16 [00:01<00:00, 10.43 batch/s]\n",
      "Testing: 100%|██████████| 40/40 [00:03<00:00, 10.86 batch/s]\n"
     ]
    },
    {
     "name": "stdout",
     "output_type": "stream",
     "text": [
      "\u001b[1m\u001b[95mRunning run r50,epochs:10,bs:256,clipping,eqsize/5\n",
      "\u001b[0m"
     ]
    },
    {
     "name": "stderr",
     "output_type": "stream",
     "text": [
      "Epoch 1/10: 100%|██████████| 79/79 [00:20<00:00,  3.89 batch/s, loss=2.0524]\n",
      "Validating: 100%|██████████| 20/20 [00:02<00:00,  9.08 batch/s]\n"
     ]
    },
    {
     "name": "stdout",
     "output_type": "stream",
     "text": [
      "\u001b[1m\u001b[36mBest valid accuracy improved from 0.00% to 39.76%. Saving checkpoint...\n",
      "\u001b[0m"
     ]
    },
    {
     "name": "stderr",
     "output_type": "stream",
     "text": [
      "Epoch 2/10: 100%|██████████| 79/79 [00:19<00:00,  4.00 batch/s, loss=1.5585]\n",
      "Validating: 100%|██████████| 20/20 [00:01<00:00, 10.46 batch/s]\n"
     ]
    },
    {
     "name": "stdout",
     "output_type": "stream",
     "text": [
      "\u001b[1m\u001b[36mBest valid accuracy improved from 39.76% to 45.28%. Saving checkpoint...\n",
      "\u001b[0m"
     ]
    },
    {
     "name": "stderr",
     "output_type": "stream",
     "text": [
      "Epoch 3/10: 100%|██████████| 79/79 [00:19<00:00,  4.00 batch/s, loss=1.5888]\n",
      "Validating: 100%|██████████| 20/20 [00:01<00:00, 10.45 batch/s]\n"
     ]
    },
    {
     "name": "stdout",
     "output_type": "stream",
     "text": [
      "\u001b[1m\u001b[36mBest valid accuracy improved from 45.28% to 52.18%. Saving checkpoint...\n",
      "\u001b[0m"
     ]
    },
    {
     "name": "stderr",
     "output_type": "stream",
     "text": [
      "Epoch 4/10: 100%|██████████| 79/79 [00:19<00:00,  4.00 batch/s, loss=1.2671]\n",
      "Validating: 100%|██████████| 20/20 [00:01<00:00, 10.44 batch/s]\n"
     ]
    },
    {
     "name": "stdout",
     "output_type": "stream",
     "text": [
      "\u001b[1m\u001b[36mBest valid accuracy improved from 52.18% to 52.76%. Saving checkpoint...\n",
      "\u001b[0m"
     ]
    },
    {
     "name": "stderr",
     "output_type": "stream",
     "text": [
      "Epoch 5/10: 100%|██████████| 79/79 [00:19<00:00,  4.01 batch/s, loss=1.1488]\n",
      "Validating: 100%|██████████| 20/20 [00:01<00:00, 10.44 batch/s]\n"
     ]
    },
    {
     "name": "stdout",
     "output_type": "stream",
     "text": [
      "\u001b[1m\u001b[36mBest valid accuracy improved from 52.76% to 57.50%. Saving checkpoint...\n",
      "\u001b[0m"
     ]
    },
    {
     "name": "stderr",
     "output_type": "stream",
     "text": [
      "Epoch 6/10: 100%|██████████| 79/79 [00:19<00:00,  4.00 batch/s, loss=0.9452]\n",
      "Validating: 100%|██████████| 20/20 [00:01<00:00, 10.43 batch/s]\n"
     ]
    },
    {
     "name": "stdout",
     "output_type": "stream",
     "text": [
      "\u001b[1m\u001b[36mBest valid accuracy improved from 57.50% to 57.88%. Saving checkpoint...\n",
      "\u001b[0m"
     ]
    },
    {
     "name": "stderr",
     "output_type": "stream",
     "text": [
      "Epoch 7/10: 100%|██████████| 79/79 [00:19<00:00,  3.99 batch/s, loss=0.8532]\n",
      "Validating: 100%|██████████| 20/20 [00:01<00:00, 10.57 batch/s]\n"
     ]
    },
    {
     "name": "stdout",
     "output_type": "stream",
     "text": [
      "\u001b[1m\u001b[36mBest valid accuracy improved from 57.88% to 61.50%. Saving checkpoint...\n",
      "\u001b[0m"
     ]
    },
    {
     "name": "stderr",
     "output_type": "stream",
     "text": [
      "Epoch 8/10: 100%|██████████| 79/79 [00:19<00:00,  4.00 batch/s, loss=0.6922]\n",
      "Validating: 100%|██████████| 20/20 [00:01<00:00, 10.46 batch/s]\n"
     ]
    },
    {
     "name": "stdout",
     "output_type": "stream",
     "text": [
      "\u001b[1m\u001b[36mBest valid accuracy improved from 61.50% to 61.90%. Saving checkpoint...\n",
      "\u001b[0m"
     ]
    },
    {
     "name": "stderr",
     "output_type": "stream",
     "text": [
      "Epoch 9/10: 100%|██████████| 79/79 [00:19<00:00,  4.00 batch/s, loss=0.5284]\n",
      "Validating: 100%|██████████| 20/20 [00:01<00:00, 10.45 batch/s]\n"
     ]
    },
    {
     "name": "stdout",
     "output_type": "stream",
     "text": [
      "\u001b[1m\u001b[36mBest valid accuracy improved from 61.90% to 62.68%. Saving checkpoint...\n",
      "\u001b[0m"
     ]
    },
    {
     "name": "stderr",
     "output_type": "stream",
     "text": [
      "Epoch 10/10: 100%|██████████| 79/79 [00:19<00:00,  4.00 batch/s, loss=0.4475]\n",
      "Validating: 100%|██████████| 20/20 [00:01<00:00, 10.48 batch/s]\n",
      "Testing: 100%|██████████| 40/40 [00:03<00:00, 10.87 batch/s]\n"
     ]
    },
    {
     "name": "stdout",
     "output_type": "stream",
     "text": [
      "\u001b[1m\u001b[95mRunning run r50,epochs:10,bs:256,clipping,eqsize/6\n",
      "\u001b[0m"
     ]
    },
    {
     "name": "stderr",
     "output_type": "stream",
     "text": [
      "Epoch 1/10: 100%|██████████| 94/94 [00:24<00:00,  3.90 batch/s, loss=2.1322]\n",
      "Validating: 100%|██████████| 24/24 [00:02<00:00,  9.32 batch/s]\n"
     ]
    },
    {
     "name": "stdout",
     "output_type": "stream",
     "text": [
      "\u001b[1m\u001b[36mBest valid accuracy improved from 0.00% to 40.08%. Saving checkpoint...\n",
      "\u001b[0m"
     ]
    },
    {
     "name": "stderr",
     "output_type": "stream",
     "text": [
      "Epoch 2/10: 100%|██████████| 94/94 [00:23<00:00,  3.99 batch/s, loss=1.5060]\n",
      "Validating: 100%|██████████| 24/24 [00:02<00:00, 10.45 batch/s]\n"
     ]
    },
    {
     "name": "stdout",
     "output_type": "stream",
     "text": [
      "\u001b[1m\u001b[36mBest valid accuracy improved from 40.08% to 50.22%. Saving checkpoint...\n",
      "\u001b[0m"
     ]
    },
    {
     "name": "stderr",
     "output_type": "stream",
     "text": [
      "Epoch 3/10: 100%|██████████| 94/94 [00:23<00:00,  3.99 batch/s, loss=1.2712]\n",
      "Validating: 100%|██████████| 24/24 [00:02<00:00, 10.45 batch/s]\n"
     ]
    },
    {
     "name": "stdout",
     "output_type": "stream",
     "text": [
      "\u001b[1m\u001b[36mBest valid accuracy improved from 50.22% to 54.70%. Saving checkpoint...\n",
      "\u001b[0m"
     ]
    },
    {
     "name": "stderr",
     "output_type": "stream",
     "text": [
      "Epoch 4/10: 100%|██████████| 94/94 [00:23<00:00,  3.99 batch/s, loss=1.1091]\n",
      "Validating: 100%|██████████| 24/24 [00:02<00:00, 10.42 batch/s]\n"
     ]
    },
    {
     "name": "stdout",
     "output_type": "stream",
     "text": [
      "\u001b[1m\u001b[36mBest valid accuracy improved from 54.70% to 58.92%. Saving checkpoint...\n",
      "\u001b[0m"
     ]
    },
    {
     "name": "stderr",
     "output_type": "stream",
     "text": [
      "Epoch 5/10: 100%|██████████| 94/94 [00:23<00:00,  3.99 batch/s, loss=0.9575]\n",
      "Validating: 100%|██████████| 24/24 [00:02<00:00, 10.42 batch/s]\n"
     ]
    },
    {
     "name": "stdout",
     "output_type": "stream",
     "text": [
      "\u001b[1m\u001b[36mBest valid accuracy improved from 58.92% to 61.75%. Saving checkpoint...\n",
      "\u001b[0m"
     ]
    },
    {
     "name": "stderr",
     "output_type": "stream",
     "text": [
      "Epoch 6/10: 100%|██████████| 94/94 [00:23<00:00,  4.00 batch/s, loss=0.8014]\n",
      "Validating: 100%|██████████| 24/24 [00:02<00:00, 10.69 batch/s]\n"
     ]
    },
    {
     "name": "stdout",
     "output_type": "stream",
     "text": [
      "\u001b[1m\u001b[36mBest valid accuracy improved from 61.75% to 64.23%. Saving checkpoint...\n",
      "\u001b[0m"
     ]
    },
    {
     "name": "stderr",
     "output_type": "stream",
     "text": [
      "Epoch 7/10: 100%|██████████| 94/94 [00:23<00:00,  4.00 batch/s, loss=0.6608]\n",
      "Validating: 100%|██████████| 24/24 [00:02<00:00, 10.45 batch/s]\n"
     ]
    },
    {
     "name": "stdout",
     "output_type": "stream",
     "text": [
      "\u001b[1m\u001b[36mBest valid accuracy improved from 64.23% to 65.15%. Saving checkpoint...\n",
      "\u001b[0m"
     ]
    },
    {
     "name": "stderr",
     "output_type": "stream",
     "text": [
      "Epoch 8/10: 100%|██████████| 94/94 [00:23<00:00,  3.96 batch/s, loss=0.5251]\n",
      "Validating: 100%|██████████| 24/24 [00:02<00:00, 10.47 batch/s]\n"
     ]
    },
    {
     "name": "stdout",
     "output_type": "stream",
     "text": [
      "\u001b[1m\u001b[36mBest valid accuracy improved from 65.15% to 65.67%. Saving checkpoint...\n",
      "\u001b[0m"
     ]
    },
    {
     "name": "stderr",
     "output_type": "stream",
     "text": [
      "Epoch 9/10: 100%|██████████| 94/94 [00:23<00:00,  4.00 batch/s, loss=0.4448]\n",
      "Validating: 100%|██████████| 24/24 [00:02<00:00, 10.41 batch/s]\n",
      "Epoch 10/10: 100%|██████████| 94/94 [00:23<00:00,  4.01 batch/s, loss=0.3737]\n",
      "Validating: 100%|██████████| 24/24 [00:02<00:00, 10.60 batch/s]\n"
     ]
    },
    {
     "name": "stdout",
     "output_type": "stream",
     "text": [
      "\u001b[1m\u001b[36mBest valid accuracy improved from 65.67% to 66.55%. Saving checkpoint...\n",
      "\u001b[0m"
     ]
    },
    {
     "name": "stderr",
     "output_type": "stream",
     "text": [
      "Testing: 100%|██████████| 40/40 [00:03<00:00, 10.85 batch/s]\n"
     ]
    },
    {
     "name": "stdout",
     "output_type": "stream",
     "text": [
      "\u001b[1m\u001b[95mRunning run r50,epochs:10,bs:256,clipping,eqsize/7\n",
      "\u001b[0m"
     ]
    },
    {
     "name": "stderr",
     "output_type": "stream",
     "text": [
      "Epoch 1/10: 100%|██████████| 110/110 [00:28<00:00,  3.91 batch/s, loss=2.0035]\n",
      "Validating: 100%|██████████| 28/28 [00:03<00:00,  9.07 batch/s]\n"
     ]
    },
    {
     "name": "stdout",
     "output_type": "stream",
     "text": [
      "\u001b[1m\u001b[36mBest valid accuracy improved from 0.00% to 41.47%. Saving checkpoint...\n",
      "\u001b[0m"
     ]
    },
    {
     "name": "stderr",
     "output_type": "stream",
     "text": [
      "Epoch 2/10: 100%|██████████| 110/110 [00:27<00:00,  4.02 batch/s, loss=1.7856]\n",
      "Validating: 100%|██████████| 28/28 [00:02<00:00, 10.58 batch/s]\n"
     ]
    },
    {
     "name": "stdout",
     "output_type": "stream",
     "text": [
      "\u001b[1m\u001b[36mBest valid accuracy improved from 41.47% to 45.06%. Saving checkpoint...\n",
      "\u001b[0m"
     ]
    },
    {
     "name": "stderr",
     "output_type": "stream",
     "text": [
      "Epoch 3/10: 100%|██████████| 110/110 [00:27<00:00,  4.01 batch/s, loss=1.5563]\n",
      "Validating: 100%|██████████| 28/28 [00:02<00:00, 10.49 batch/s]\n"
     ]
    },
    {
     "name": "stdout",
     "output_type": "stream",
     "text": [
      "\u001b[1m\u001b[36mBest valid accuracy improved from 45.06% to 47.77%. Saving checkpoint...\n",
      "\u001b[0m"
     ]
    },
    {
     "name": "stderr",
     "output_type": "stream",
     "text": [
      "Epoch 4/10: 100%|██████████| 110/110 [00:27<00:00,  3.99 batch/s, loss=1.4555]\n",
      "Validating: 100%|██████████| 28/28 [00:02<00:00, 10.56 batch/s]\n"
     ]
    },
    {
     "name": "stdout",
     "output_type": "stream",
     "text": [
      "\u001b[1m\u001b[36mBest valid accuracy improved from 47.77% to 51.49%. Saving checkpoint...\n",
      "\u001b[0m"
     ]
    },
    {
     "name": "stderr",
     "output_type": "stream",
     "text": [
      "Epoch 5/10: 100%|██████████| 110/110 [00:27<00:00,  4.01 batch/s, loss=1.1623]\n",
      "Validating: 100%|██████████| 28/28 [00:02<00:00, 10.57 batch/s]\n"
     ]
    },
    {
     "name": "stdout",
     "output_type": "stream",
     "text": [
      "\u001b[1m\u001b[36mBest valid accuracy improved from 51.49% to 59.59%. Saving checkpoint...\n",
      "\u001b[0m"
     ]
    },
    {
     "name": "stderr",
     "output_type": "stream",
     "text": [
      "Epoch 6/10: 100%|██████████| 110/110 [00:27<00:00,  4.01 batch/s, loss=0.9510]\n",
      "Validating: 100%|██████████| 28/28 [00:02<00:00, 10.68 batch/s]\n"
     ]
    },
    {
     "name": "stdout",
     "output_type": "stream",
     "text": [
      "\u001b[1m\u001b[36mBest valid accuracy improved from 59.59% to 62.54%. Saving checkpoint...\n",
      "\u001b[0m"
     ]
    },
    {
     "name": "stderr",
     "output_type": "stream",
     "text": [
      "Epoch 7/10: 100%|██████████| 110/110 [00:27<00:00,  4.02 batch/s, loss=0.7973]\n",
      "Validating: 100%|██████████| 28/28 [00:02<00:00, 10.51 batch/s]\n"
     ]
    },
    {
     "name": "stdout",
     "output_type": "stream",
     "text": [
      "\u001b[1m\u001b[36mBest valid accuracy improved from 62.54% to 65.46%. Saving checkpoint...\n",
      "\u001b[0m"
     ]
    },
    {
     "name": "stderr",
     "output_type": "stream",
     "text": [
      "Epoch 8/10:  29%|██▉       | 32/110 [00:08<00:19,  3.92 batch/s, loss=0.6194]"
     ]
    }
   ],
   "source": [
    "import torch\n",
    "import torchvision\n",
    "from torchvision.models import resnet50\n",
    "\n",
    "from kiss.experiment import Experiment\n",
    "from kiss.sampler import KMeansSampler\n",
    "from kiss.utils.configs import CONFIGS\n",
    "\n",
    "transform = torchvision.transforms.ToTensor()\n",
    "dataset_tr = torchvision.datasets.CIFAR10(root='../data', train=True, download=True, transform=transform)\n",
    "dataset_te = torchvision.datasets.CIFAR10(root='../data', train=False, download=True, transform=transform)\n",
    "\n",
    "model = resnet50(num_classes=10)\n",
    "model.to(torch.device(CONFIGS.torch.device))\n",
    "\n",
    "experiment = Experiment(\n",
    "    model, \n",
    "    dataset_tr,\n",
    "    dataset_te, \n",
    "    KMeansSampler, \n",
    "    ratio=(0.1, 1, 10),\n",
    "    epochs=10,\n",
    "    batch_size=256,\n",
    "    clip=5.0,\n",
    "    num_clusters=20)\n",
    "experiment.run(\"../experiments\", \"r50,epochs:10,bs:256,clipping,eqsize\")"
   ]
  }
 ],
 "metadata": {
  "kernelspec": {
   "display_name": "kiss",
   "language": "python",
   "name": "python3"
  },
  "language_info": {
   "codemirror_mode": {
    "name": "ipython",
    "version": 3
   },
   "file_extension": ".py",
   "mimetype": "text/x-python",
   "name": "python",
   "nbconvert_exporter": "python",
   "pygments_lexer": "ipython3",
   "version": "3.11.6"
  }
 },
 "nbformat": 4,
 "nbformat_minor": 2
}
