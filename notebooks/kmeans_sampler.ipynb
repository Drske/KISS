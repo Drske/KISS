{
 "cells": [
  {
   "cell_type": "code",
   "execution_count": null,
   "metadata": {},
   "outputs": [],
   "source": [
    "import torch\n",
    "import torchvision\n",
    "from torchvision.models import resnet50\n",
    "\n",
    "from kiss.experiment import Experiment\n",
    "from kiss.sampler import KMeansSampler, KMeansNumerousSampler, KMeansPuritySampler\n",
    "from kiss.utils.configs import CONFIGS\n",
    "\n",
    "transform = torchvision.transforms.ToTensor()\n",
    "dataset_tr = torchvision.datasets.CIFAR100(root='../data', train=True, download=True, transform=transform)\n",
    "dataset_te = torchvision.datasets.CIFAR100(root='../data', train=False, download=True, transform=transform)\n",
    "\n",
    "model = resnet50(num_classes=100)\n",
    "model.to(torch.device(CONFIGS.torch.device))\n",
    "\n",
    "experiment = Experiment(\n",
    "    model, \n",
    "    dataset_tr,\n",
    "    dataset_te, \n",
    "    KMeansPuritySampler,\n",
    "    ratio=(0.1, 0.4, 4),\n",
    "    epochs=10,\n",
    "    batch_size=512,\n",
    "    clip=None,\n",
    "    num_clusters=20,\n",
    "    eqsize=True,\n",
    "    min_purity=0.01,\n",
    "    load_clusters=\"../checkpoints/kmeans,purity,fe\",\n",
    "    save_clusters=\"../checkpoints/kmeans,purity,fe\")\n",
    "experiment.run(\"../experiments\", \"r50,ep:10,bs:512,clip:None,nc:20,mp:0.01,fe\")"
   ]
  },
  {
   "cell_type": "code",
   "execution_count": null,
   "metadata": {},
   "outputs": [],
   "source": [
    "print(list(experiment.sampler_.cluster_data_[4]))\n",
    "print(experiment.sampler_.class_data_[4])\n",
    "\n",
    "print(experiment.sampler_.cluster_data_[4][1], experiment.sampler_.cluster_data_[4][6])\n",
    "print(experiment.sampler_.class_data_[4][1], experiment.sampler_.class_data_[4][6])\n",
    "\n",
    "import pandas as pd\n",
    "\n",
    "pd.DataFrame(experiment.sampler_.purity_data_)"
   ]
  },
  {
   "cell_type": "code",
   "execution_count": null,
   "metadata": {},
   "outputs": [],
   "source": [
    "from kiss.feature_extractor import ClassicFeatureExtractor\n",
    "import matplotlib.pyplot as plt\n",
    "\n",
    "fe = ClassicFeatureExtractor()\n",
    "\n",
    "plt.figure(figsize=(1,1))\n",
    "plt.imshow(dataset_tr[113][0].permute(1,2,0))\n",
    "print(fe([dataset_tr[113][0]]))\n",
    "plt.show()\n",
    "\n",
    "plt.figure(figsize=(1,1))\n",
    "plt.imshow(dataset_tr[651][0].permute(1,2,0))\n",
    "print(fe([dataset_tr[651][0]]))\n",
    "plt.show()"
   ]
  }
 ],
 "metadata": {
  "kernelspec": {
   "display_name": "kiss",
   "language": "python",
   "name": "python3"
  },
  "language_info": {
   "codemirror_mode": {
    "name": "ipython",
    "version": 3
   },
   "file_extension": ".py",
   "mimetype": "text/x-python",
   "name": "python",
   "nbconvert_exporter": "python",
   "pygments_lexer": "ipython3",
   "version": "3.11.6"
  }
 },
 "nbformat": 4,
 "nbformat_minor": 2
}
