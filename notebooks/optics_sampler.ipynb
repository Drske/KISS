{
 "cells": [
  {
   "cell_type": "code",
   "execution_count": 2,
   "metadata": {},
   "outputs": [
    {
     "name": "stdout",
     "output_type": "stream",
     "text": [
      "Files already downloaded and verified\n",
      "Files already downloaded and verified\n",
      "\u001b[1m\u001b[33mRunning experiment ResNet!CIFAR10!OpticsSampler\n",
      "\u001b[0m\u001b[1m\u001b[95mRunning run r50,epochs:10,bs:256,clipping,eqsize,fe/1\n",
      "\u001b[0m"
     ]
    },
    {
     "name": "stderr",
     "output_type": "stream",
     "text": [
      "Epoch 1/10: 100%|██████████| 34/34 [00:08<00:00,  4.00 batch/s, loss=2.3582]\n",
      "Validating: 100%|██████████| 9/9 [00:00<00:00, 10.89 batch/s]\n"
     ]
    },
    {
     "name": "stdout",
     "output_type": "stream",
     "text": [
      "\u001b[1m\u001b[36mBest valid accuracy improved from 0.00% to 35.31%. Saving checkpoint...\n",
      "\u001b[0m"
     ]
    },
    {
     "name": "stderr",
     "output_type": "stream",
     "text": [
      "Epoch 2/10: 100%|██████████| 34/34 [00:08<00:00,  4.01 batch/s, loss=1.6954]\n",
      "Validating: 100%|██████████| 9/9 [00:00<00:00, 10.98 batch/s]\n"
     ]
    },
    {
     "name": "stdout",
     "output_type": "stream",
     "text": [
      "\u001b[1m\u001b[36mBest valid accuracy improved from 35.31% to 43.74%. Saving checkpoint...\n",
      "\u001b[0m"
     ]
    },
    {
     "name": "stderr",
     "output_type": "stream",
     "text": [
      "Epoch 3/10: 100%|██████████| 34/34 [00:08<00:00,  4.04 batch/s, loss=1.5295]\n",
      "Validating: 100%|██████████| 9/9 [00:00<00:00, 10.92 batch/s]\n"
     ]
    },
    {
     "name": "stdout",
     "output_type": "stream",
     "text": [
      "\u001b[1m\u001b[36mBest valid accuracy improved from 43.74% to 46.57%. Saving checkpoint...\n",
      "\u001b[0m"
     ]
    },
    {
     "name": "stderr",
     "output_type": "stream",
     "text": [
      "Epoch 4/10: 100%|██████████| 34/34 [00:08<00:00,  4.04 batch/s, loss=1.3201]\n",
      "Validating: 100%|██████████| 9/9 [00:00<00:00, 10.93 batch/s]\n"
     ]
    },
    {
     "name": "stdout",
     "output_type": "stream",
     "text": [
      "\u001b[1m\u001b[36mBest valid accuracy improved from 46.57% to 48.75%. Saving checkpoint...\n",
      "\u001b[0m"
     ]
    },
    {
     "name": "stderr",
     "output_type": "stream",
     "text": [
      "Epoch 5/10: 100%|██████████| 34/34 [00:08<00:00,  4.00 batch/s, loss=1.2110]\n",
      "Validating: 100%|██████████| 9/9 [00:00<00:00, 10.60 batch/s]\n"
     ]
    },
    {
     "name": "stdout",
     "output_type": "stream",
     "text": [
      "\u001b[1m\u001b[36mBest valid accuracy improved from 48.75% to 50.05%. Saving checkpoint...\n",
      "\u001b[0m"
     ]
    },
    {
     "name": "stderr",
     "output_type": "stream",
     "text": [
      "Epoch 6/10: 100%|██████████| 34/34 [00:08<00:00,  4.03 batch/s, loss=1.0156]\n",
      "Validating: 100%|██████████| 9/9 [00:00<00:00, 10.94 batch/s]\n"
     ]
    },
    {
     "name": "stdout",
     "output_type": "stream",
     "text": [
      "\u001b[1m\u001b[36mBest valid accuracy improved from 50.05% to 50.83%. Saving checkpoint...\n",
      "\u001b[0m"
     ]
    },
    {
     "name": "stderr",
     "output_type": "stream",
     "text": [
      "Epoch 7/10: 100%|██████████| 34/34 [00:08<00:00,  4.04 batch/s, loss=0.8905]\n",
      "Validating: 100%|██████████| 9/9 [00:00<00:00, 10.97 batch/s]\n"
     ]
    },
    {
     "name": "stdout",
     "output_type": "stream",
     "text": [
      "\u001b[1m\u001b[36mBest valid accuracy improved from 50.83% to 52.69%. Saving checkpoint...\n",
      "\u001b[0m"
     ]
    },
    {
     "name": "stderr",
     "output_type": "stream",
     "text": [
      "Epoch 8/10: 100%|██████████| 34/34 [00:08<00:00,  4.04 batch/s, loss=0.7712]\n",
      "Validating: 100%|██████████| 9/9 [00:00<00:00, 11.14 batch/s]\n"
     ]
    },
    {
     "name": "stdout",
     "output_type": "stream",
     "text": [
      "\u001b[1m\u001b[36mBest valid accuracy improved from 52.69% to 53.29%. Saving checkpoint...\n",
      "\u001b[0m"
     ]
    },
    {
     "name": "stderr",
     "output_type": "stream",
     "text": [
      "Epoch 9/10: 100%|██████████| 34/34 [00:08<00:00,  4.02 batch/s, loss=0.7453]\n",
      "Validating: 100%|██████████| 9/9 [00:00<00:00, 10.86 batch/s]\n",
      "Epoch 10/10: 100%|██████████| 34/34 [00:08<00:00,  4.00 batch/s, loss=0.5732]\n",
      "Validating: 100%|██████████| 9/9 [00:00<00:00, 10.94 batch/s]\n",
      "Testing: 100%|██████████| 40/40 [00:03<00:00, 10.72 batch/s]\n"
     ]
    },
    {
     "name": "stdout",
     "output_type": "stream",
     "text": [
      "\u001b[1m\u001b[95mRunning run r50,epochs:10,bs:256,clipping,eqsize,fe/2\n",
      "\u001b[0m"
     ]
    },
    {
     "name": "stderr",
     "output_type": "stream",
     "text": [
      "Epoch 1/10: 100%|██████████| 34/34 [00:08<00:00,  4.01 batch/s, loss=2.3895]\n",
      "Validating: 100%|██████████| 9/9 [00:00<00:00, 10.91 batch/s]\n"
     ]
    },
    {
     "name": "stdout",
     "output_type": "stream",
     "text": [
      "\u001b[1m\u001b[36mBest valid accuracy improved from 0.00% to 34.71%. Saving checkpoint...\n",
      "\u001b[0m"
     ]
    },
    {
     "name": "stderr",
     "output_type": "stream",
     "text": [
      "Epoch 2/10: 100%|██████████| 34/34 [00:08<00:00,  3.99 batch/s, loss=1.7519]\n",
      "Validating: 100%|██████████| 9/9 [00:00<00:00, 10.81 batch/s]\n"
     ]
    },
    {
     "name": "stdout",
     "output_type": "stream",
     "text": [
      "\u001b[1m\u001b[36mBest valid accuracy improved from 34.71% to 41.38%. Saving checkpoint...\n",
      "\u001b[0m"
     ]
    },
    {
     "name": "stderr",
     "output_type": "stream",
     "text": [
      "Epoch 3/10: 100%|██████████| 34/34 [00:08<00:00,  3.98 batch/s, loss=1.4630]\n",
      "Validating: 100%|██████████| 9/9 [00:00<00:00, 10.85 batch/s]\n"
     ]
    },
    {
     "name": "stdout",
     "output_type": "stream",
     "text": [
      "\u001b[1m\u001b[36mBest valid accuracy improved from 41.38% to 45.46%. Saving checkpoint...\n",
      "\u001b[0m"
     ]
    },
    {
     "name": "stderr",
     "output_type": "stream",
     "text": [
      "Epoch 4/10: 100%|██████████| 34/34 [00:08<00:00,  4.00 batch/s, loss=1.3651]\n",
      "Validating: 100%|██████████| 9/9 [00:00<00:00, 10.80 batch/s]\n"
     ]
    },
    {
     "name": "stdout",
     "output_type": "stream",
     "text": [
      "\u001b[1m\u001b[36mBest valid accuracy improved from 45.46% to 47.27%. Saving checkpoint...\n",
      "\u001b[0m"
     ]
    },
    {
     "name": "stderr",
     "output_type": "stream",
     "text": [
      "Epoch 5/10: 100%|██████████| 34/34 [00:08<00:00,  4.00 batch/s, loss=1.2804]\n",
      "Validating: 100%|██████████| 9/9 [00:00<00:00, 10.87 batch/s]\n"
     ]
    },
    {
     "name": "stdout",
     "output_type": "stream",
     "text": [
      "\u001b[1m\u001b[36mBest valid accuracy improved from 47.27% to 48.47%. Saving checkpoint...\n",
      "\u001b[0m"
     ]
    },
    {
     "name": "stderr",
     "output_type": "stream",
     "text": [
      "Epoch 6/10: 100%|██████████| 34/34 [00:08<00:00,  3.99 batch/s, loss=1.0192]\n",
      "Validating: 100%|██████████| 9/9 [00:00<00:00, 10.86 batch/s]\n"
     ]
    },
    {
     "name": "stdout",
     "output_type": "stream",
     "text": [
      "\u001b[1m\u001b[36mBest valid accuracy improved from 48.47% to 51.30%. Saving checkpoint...\n",
      "\u001b[0m"
     ]
    },
    {
     "name": "stderr",
     "output_type": "stream",
     "text": [
      "Epoch 7/10: 100%|██████████| 34/34 [00:08<00:00,  4.00 batch/s, loss=0.8409]\n",
      "Validating: 100%|██████████| 9/9 [00:00<00:00, 10.86 batch/s]\n",
      "Epoch 8/10: 100%|██████████| 34/34 [00:08<00:00,  4.00 batch/s, loss=0.7494]\n",
      "Validating: 100%|██████████| 9/9 [00:00<00:00, 10.87 batch/s]\n",
      "Epoch 9/10: 100%|██████████| 34/34 [00:08<00:00,  4.01 batch/s, loss=0.5792]\n",
      "Validating: 100%|██████████| 9/9 [00:00<00:00, 10.89 batch/s]\n"
     ]
    },
    {
     "name": "stdout",
     "output_type": "stream",
     "text": [
      "\u001b[1m\u001b[36mBest valid accuracy improved from 51.30% to 54.17%. Saving checkpoint...\n",
      "\u001b[0m"
     ]
    },
    {
     "name": "stderr",
     "output_type": "stream",
     "text": [
      "Epoch 10/10: 100%|██████████| 34/34 [00:08<00:00,  3.99 batch/s, loss=0.4800]\n",
      "Validating: 100%|██████████| 9/9 [00:00<00:00, 10.85 batch/s]\n",
      "Testing: 100%|██████████| 40/40 [00:03<00:00, 10.90 batch/s]\n"
     ]
    },
    {
     "name": "stdout",
     "output_type": "stream",
     "text": [
      "\u001b[1m\u001b[95mRunning run r50,epochs:10,bs:256,clipping,eqsize,fe/3\n",
      "\u001b[0m"
     ]
    },
    {
     "name": "stderr",
     "output_type": "stream",
     "text": [
      "Epoch 1/10: 100%|██████████| 47/47 [00:12<00:00,  3.85 batch/s, loss=2.2155]\n",
      "Validating: 100%|██████████| 12/12 [00:01<00:00, 10.45 batch/s]\n"
     ]
    },
    {
     "name": "stdout",
     "output_type": "stream",
     "text": [
      "\u001b[1m\u001b[36mBest valid accuracy improved from 0.00% to 36.43%. Saving checkpoint...\n",
      "\u001b[0m"
     ]
    },
    {
     "name": "stderr",
     "output_type": "stream",
     "text": [
      "Epoch 2/10: 100%|██████████| 47/47 [00:11<00:00,  3.97 batch/s, loss=1.5883]\n",
      "Validating: 100%|██████████| 12/12 [00:01<00:00, 10.74 batch/s]\n"
     ]
    },
    {
     "name": "stdout",
     "output_type": "stream",
     "text": [
      "\u001b[1m\u001b[36mBest valid accuracy improved from 36.43% to 43.83%. Saving checkpoint...\n",
      "\u001b[0m"
     ]
    },
    {
     "name": "stderr",
     "output_type": "stream",
     "text": [
      "Epoch 3/10: 100%|██████████| 47/47 [00:11<00:00,  3.99 batch/s, loss=1.4471]\n",
      "Validating: 100%|██████████| 12/12 [00:01<00:00, 10.46 batch/s]\n"
     ]
    },
    {
     "name": "stdout",
     "output_type": "stream",
     "text": [
      "\u001b[1m\u001b[36mBest valid accuracy improved from 43.83% to 47.40%. Saving checkpoint...\n",
      "\u001b[0m"
     ]
    },
    {
     "name": "stderr",
     "output_type": "stream",
     "text": [
      "Epoch 4/10: 100%|██████████| 47/47 [00:11<00:00,  3.98 batch/s, loss=1.2781]\n",
      "Validating: 100%|██████████| 12/12 [00:01<00:00, 10.66 batch/s]\n"
     ]
    },
    {
     "name": "stdout",
     "output_type": "stream",
     "text": [
      "\u001b[1m\u001b[36mBest valid accuracy improved from 47.40% to 48.93%. Saving checkpoint...\n",
      "\u001b[0m"
     ]
    },
    {
     "name": "stderr",
     "output_type": "stream",
     "text": [
      "Epoch 5/10: 100%|██████████| 47/47 [00:11<00:00,  4.03 batch/s, loss=1.1781]\n",
      "Validating: 100%|██████████| 12/12 [00:01<00:00, 10.62 batch/s]\n"
     ]
    },
    {
     "name": "stdout",
     "output_type": "stream",
     "text": [
      "\u001b[1m\u001b[36mBest valid accuracy improved from 48.93% to 53.03%. Saving checkpoint...\n",
      "\u001b[0m"
     ]
    },
    {
     "name": "stderr",
     "output_type": "stream",
     "text": [
      "Epoch 6/10: 100%|██████████| 47/47 [00:11<00:00,  3.99 batch/s, loss=0.9926]\n",
      "Validating: 100%|██████████| 12/12 [00:01<00:00, 10.49 batch/s]\n"
     ]
    },
    {
     "name": "stdout",
     "output_type": "stream",
     "text": [
      "\u001b[1m\u001b[36mBest valid accuracy improved from 53.03% to 55.33%. Saving checkpoint...\n",
      "\u001b[0m"
     ]
    },
    {
     "name": "stderr",
     "output_type": "stream",
     "text": [
      "Epoch 7/10: 100%|██████████| 47/47 [00:11<00:00,  3.98 batch/s, loss=0.8073]\n",
      "Validating: 100%|██████████| 12/12 [00:01<00:00, 10.44 batch/s]\n"
     ]
    },
    {
     "name": "stdout",
     "output_type": "stream",
     "text": [
      "\u001b[1m\u001b[36mBest valid accuracy improved from 55.33% to 55.67%. Saving checkpoint...\n",
      "\u001b[0m"
     ]
    },
    {
     "name": "stderr",
     "output_type": "stream",
     "text": [
      "Epoch 8/10: 100%|██████████| 47/47 [00:11<00:00,  4.03 batch/s, loss=0.6760]\n",
      "Validating: 100%|██████████| 12/12 [00:01<00:00, 10.79 batch/s]\n",
      "Epoch 9/10: 100%|██████████| 47/47 [00:11<00:00,  4.02 batch/s, loss=0.5279]\n",
      "Validating: 100%|██████████| 12/12 [00:01<00:00, 10.45 batch/s]\n"
     ]
    },
    {
     "name": "stdout",
     "output_type": "stream",
     "text": [
      "\u001b[1m\u001b[36mBest valid accuracy improved from 55.67% to 57.97%. Saving checkpoint...\n",
      "\u001b[0m"
     ]
    },
    {
     "name": "stderr",
     "output_type": "stream",
     "text": [
      "Epoch 10/10: 100%|██████████| 47/47 [00:11<00:00,  4.00 batch/s, loss=0.4326]\n",
      "Validating: 100%|██████████| 12/12 [00:01<00:00, 10.43 batch/s]\n",
      "Testing: 100%|██████████| 40/40 [00:03<00:00, 10.72 batch/s]\n"
     ]
    },
    {
     "name": "stdout",
     "output_type": "stream",
     "text": [
      "\u001b[1m\u001b[95mRunning run r50,epochs:10,bs:256,clipping,eqsize,fe/4\n",
      "\u001b[0m"
     ]
    },
    {
     "name": "stderr",
     "output_type": "stream",
     "text": [
      "Epoch 1/10: 100%|██████████| 63/63 [00:16<00:00,  3.87 batch/s, loss=2.1033]\n",
      "Validating: 100%|██████████| 16/16 [00:01<00:00,  8.83 batch/s]\n"
     ]
    },
    {
     "name": "stdout",
     "output_type": "stream",
     "text": [
      "\u001b[1m\u001b[36mBest valid accuracy improved from 0.00% to 39.25%. Saving checkpoint...\n",
      "\u001b[0m"
     ]
    },
    {
     "name": "stderr",
     "output_type": "stream",
     "text": [
      "Epoch 2/10: 100%|██████████| 63/63 [00:15<00:00,  4.02 batch/s, loss=1.5329]\n",
      "Validating: 100%|██████████| 16/16 [00:01<00:00, 10.49 batch/s]\n"
     ]
    },
    {
     "name": "stdout",
     "output_type": "stream",
     "text": [
      "\u001b[1m\u001b[36mBest valid accuracy improved from 39.25% to 50.12%. Saving checkpoint...\n",
      "\u001b[0m"
     ]
    },
    {
     "name": "stderr",
     "output_type": "stream",
     "text": [
      "Epoch 3/10: 100%|██████████| 63/63 [00:15<00:00,  4.03 batch/s, loss=1.3015]\n",
      "Validating: 100%|██████████| 16/16 [00:01<00:00, 10.48 batch/s]\n"
     ]
    },
    {
     "name": "stdout",
     "output_type": "stream",
     "text": [
      "\u001b[1m\u001b[36mBest valid accuracy improved from 50.12% to 50.68%. Saving checkpoint...\n",
      "\u001b[0m"
     ]
    },
    {
     "name": "stderr",
     "output_type": "stream",
     "text": [
      "Epoch 4/10: 100%|██████████| 63/63 [00:15<00:00,  4.02 batch/s, loss=1.1564]\n",
      "Validating: 100%|██████████| 16/16 [00:01<00:00, 10.55 batch/s]\n"
     ]
    },
    {
     "name": "stdout",
     "output_type": "stream",
     "text": [
      "\u001b[1m\u001b[36mBest valid accuracy improved from 50.68% to 56.33%. Saving checkpoint...\n",
      "\u001b[0m"
     ]
    },
    {
     "name": "stderr",
     "output_type": "stream",
     "text": [
      "Epoch 5/10: 100%|██████████| 63/63 [00:15<00:00,  4.02 batch/s, loss=1.0314]\n",
      "Validating: 100%|██████████| 16/16 [00:01<00:00, 10.72 batch/s]\n"
     ]
    },
    {
     "name": "stdout",
     "output_type": "stream",
     "text": [
      "\u001b[1m\u001b[36mBest valid accuracy improved from 56.33% to 56.57%. Saving checkpoint...\n",
      "\u001b[0m"
     ]
    },
    {
     "name": "stderr",
     "output_type": "stream",
     "text": [
      "Epoch 6/10: 100%|██████████| 63/63 [00:15<00:00,  4.03 batch/s, loss=0.8835]\n",
      "Validating: 100%|██████████| 16/16 [00:01<00:00, 10.59 batch/s]\n"
     ]
    },
    {
     "name": "stdout",
     "output_type": "stream",
     "text": [
      "\u001b[1m\u001b[36mBest valid accuracy improved from 56.57% to 58.60%. Saving checkpoint...\n",
      "\u001b[0m"
     ]
    },
    {
     "name": "stderr",
     "output_type": "stream",
     "text": [
      "Epoch 7/10: 100%|██████████| 63/63 [00:15<00:00,  4.02 batch/s, loss=0.7388]\n",
      "Validating: 100%|██████████| 16/16 [00:01<00:00, 10.85 batch/s]\n",
      "Epoch 8/10: 100%|██████████| 63/63 [00:15<00:00,  4.03 batch/s, loss=0.6484]\n",
      "Validating: 100%|██████████| 16/16 [00:01<00:00, 10.48 batch/s]\n"
     ]
    },
    {
     "name": "stdout",
     "output_type": "stream",
     "text": [
      "\u001b[1m\u001b[36mBest valid accuracy improved from 58.60% to 59.95%. Saving checkpoint...\n",
      "\u001b[0m"
     ]
    },
    {
     "name": "stderr",
     "output_type": "stream",
     "text": [
      "Epoch 9/10: 100%|██████████| 63/63 [00:15<00:00,  4.03 batch/s, loss=0.5311]\n",
      "Validating: 100%|██████████| 16/16 [00:01<00:00, 10.70 batch/s]\n"
     ]
    },
    {
     "name": "stdout",
     "output_type": "stream",
     "text": [
      "\u001b[1m\u001b[36mBest valid accuracy improved from 59.95% to 60.88%. Saving checkpoint...\n",
      "\u001b[0m"
     ]
    },
    {
     "name": "stderr",
     "output_type": "stream",
     "text": [
      "Epoch 10/10: 100%|██████████| 63/63 [00:15<00:00,  4.02 batch/s, loss=0.4181]\n",
      "Validating: 100%|██████████| 16/16 [00:01<00:00, 10.51 batch/s]\n",
      "Testing: 100%|██████████| 40/40 [00:03<00:00, 10.79 batch/s]\n"
     ]
    },
    {
     "name": "stdout",
     "output_type": "stream",
     "text": [
      "\u001b[1m\u001b[95mRunning run r50,epochs:10,bs:256,clipping,eqsize,fe/5\n",
      "\u001b[0m"
     ]
    },
    {
     "name": "stderr",
     "output_type": "stream",
     "text": [
      "Epoch 1/10: 100%|██████████| 79/79 [00:20<00:00,  3.89 batch/s, loss=1.9819]\n",
      "Validating: 100%|██████████| 20/20 [00:02<00:00,  9.03 batch/s]\n"
     ]
    },
    {
     "name": "stdout",
     "output_type": "stream",
     "text": [
      "\u001b[1m\u001b[36mBest valid accuracy improved from 0.00% to 43.32%. Saving checkpoint...\n",
      "\u001b[0m"
     ]
    },
    {
     "name": "stderr",
     "output_type": "stream",
     "text": [
      "Epoch 2/10: 100%|██████████| 79/79 [00:20<00:00,  3.93 batch/s, loss=1.6537]\n",
      "Validating: 100%|██████████| 20/20 [00:01<00:00, 10.16 batch/s]\n"
     ]
    },
    {
     "name": "stdout",
     "output_type": "stream",
     "text": [
      "\u001b[1m\u001b[36mBest valid accuracy improved from 43.32% to 48.52%. Saving checkpoint...\n",
      "\u001b[0m"
     ]
    },
    {
     "name": "stderr",
     "output_type": "stream",
     "text": [
      "Epoch 3/10: 100%|██████████| 79/79 [00:20<00:00,  3.92 batch/s, loss=1.3978]\n",
      "Validating: 100%|██████████| 20/20 [00:01<00:00, 10.20 batch/s]\n"
     ]
    },
    {
     "name": "stdout",
     "output_type": "stream",
     "text": [
      "\u001b[1m\u001b[36mBest valid accuracy improved from 48.52% to 50.98%. Saving checkpoint...\n",
      "\u001b[0m"
     ]
    },
    {
     "name": "stderr",
     "output_type": "stream",
     "text": [
      "Epoch 4/10: 100%|██████████| 79/79 [00:20<00:00,  3.93 batch/s, loss=1.2382]\n",
      "Validating: 100%|██████████| 20/20 [00:01<00:00, 10.20 batch/s]\n"
     ]
    },
    {
     "name": "stdout",
     "output_type": "stream",
     "text": [
      "\u001b[1m\u001b[36mBest valid accuracy improved from 50.98% to 56.12%. Saving checkpoint...\n",
      "\u001b[0m"
     ]
    },
    {
     "name": "stderr",
     "output_type": "stream",
     "text": [
      "Epoch 5/10: 100%|██████████| 79/79 [00:20<00:00,  3.94 batch/s, loss=1.1438]\n",
      "Validating: 100%|██████████| 20/20 [00:01<00:00, 10.20 batch/s]\n",
      "Epoch 6/10: 100%|██████████| 79/79 [00:19<00:00,  3.98 batch/s, loss=1.0179]\n",
      "Validating: 100%|██████████| 20/20 [00:01<00:00, 10.21 batch/s]\n"
     ]
    },
    {
     "name": "stdout",
     "output_type": "stream",
     "text": [
      "\u001b[1m\u001b[36mBest valid accuracy improved from 56.12% to 59.72%. Saving checkpoint...\n",
      "\u001b[0m"
     ]
    },
    {
     "name": "stderr",
     "output_type": "stream",
     "text": [
      "Epoch 7/10: 100%|██████████| 79/79 [00:20<00:00,  3.94 batch/s, loss=0.8593]\n",
      "Validating: 100%|██████████| 20/20 [00:01<00:00, 10.35 batch/s]\n"
     ]
    },
    {
     "name": "stdout",
     "output_type": "stream",
     "text": [
      "\u001b[1m\u001b[36mBest valid accuracy improved from 59.72% to 59.88%. Saving checkpoint...\n",
      "\u001b[0m"
     ]
    },
    {
     "name": "stderr",
     "output_type": "stream",
     "text": [
      "Epoch 8/10: 100%|██████████| 79/79 [00:19<00:00,  3.96 batch/s, loss=0.7462]\n",
      "Validating: 100%|██████████| 20/20 [00:01<00:00, 10.28 batch/s]\n"
     ]
    },
    {
     "name": "stdout",
     "output_type": "stream",
     "text": [
      "\u001b[1m\u001b[36mBest valid accuracy improved from 59.88% to 62.52%. Saving checkpoint...\n",
      "\u001b[0m"
     ]
    },
    {
     "name": "stderr",
     "output_type": "stream",
     "text": [
      "Epoch 9/10: 100%|██████████| 79/79 [00:19<00:00,  3.96 batch/s, loss=0.6142]\n",
      "Validating: 100%|██████████| 20/20 [00:01<00:00, 10.31 batch/s]\n",
      "Epoch 10/10: 100%|██████████| 79/79 [00:20<00:00,  3.95 batch/s, loss=0.5099]\n",
      "Validating: 100%|██████████| 20/20 [00:01<00:00, 10.52 batch/s]\n"
     ]
    },
    {
     "name": "stdout",
     "output_type": "stream",
     "text": [
      "\u001b[1m\u001b[36mBest valid accuracy improved from 62.52% to 64.06%. Saving checkpoint...\n",
      "\u001b[0m"
     ]
    },
    {
     "name": "stderr",
     "output_type": "stream",
     "text": [
      "Testing: 100%|██████████| 40/40 [00:03<00:00, 10.78 batch/s]\n"
     ]
    },
    {
     "name": "stdout",
     "output_type": "stream",
     "text": [
      "\u001b[1m\u001b[95mRunning run r50,epochs:10,bs:256,clipping,eqsize,fe/6\n",
      "\u001b[0m"
     ]
    },
    {
     "name": "stderr",
     "output_type": "stream",
     "text": [
      "Epoch 1/10: 100%|██████████| 94/94 [00:24<00:00,  3.83 batch/s, loss=1.9747]\n",
      "Validating: 100%|██████████| 24/24 [00:02<00:00,  9.25 batch/s]\n"
     ]
    },
    {
     "name": "stdout",
     "output_type": "stream",
     "text": [
      "\u001b[1m\u001b[36mBest valid accuracy improved from 0.00% to 41.98%. Saving checkpoint...\n",
      "\u001b[0m"
     ]
    },
    {
     "name": "stderr",
     "output_type": "stream",
     "text": [
      "Epoch 2/10: 100%|██████████| 94/94 [00:23<00:00,  3.92 batch/s, loss=1.5712]\n",
      "Validating: 100%|██████████| 24/24 [00:02<00:00, 10.17 batch/s]\n"
     ]
    },
    {
     "name": "stdout",
     "output_type": "stream",
     "text": [
      "\u001b[1m\u001b[36mBest valid accuracy improved from 41.98% to 46.48%. Saving checkpoint...\n",
      "\u001b[0m"
     ]
    },
    {
     "name": "stderr",
     "output_type": "stream",
     "text": [
      "Epoch 3/10: 100%|██████████| 94/94 [00:23<00:00,  3.94 batch/s, loss=1.4111]\n",
      "Validating: 100%|██████████| 24/24 [00:02<00:00, 10.17 batch/s]\n"
     ]
    },
    {
     "name": "stdout",
     "output_type": "stream",
     "text": [
      "\u001b[1m\u001b[36mBest valid accuracy improved from 46.48% to 51.93%. Saving checkpoint...\n",
      "\u001b[0m"
     ]
    },
    {
     "name": "stderr",
     "output_type": "stream",
     "text": [
      "Epoch 4/10: 100%|██████████| 94/94 [00:23<00:00,  3.94 batch/s, loss=1.2151]\n",
      "Validating: 100%|██████████| 24/24 [00:02<00:00, 10.37 batch/s]\n"
     ]
    },
    {
     "name": "stdout",
     "output_type": "stream",
     "text": [
      "\u001b[1m\u001b[36mBest valid accuracy improved from 51.93% to 57.18%. Saving checkpoint...\n",
      "\u001b[0m"
     ]
    },
    {
     "name": "stderr",
     "output_type": "stream",
     "text": [
      "Epoch 5/10: 100%|██████████| 94/94 [00:24<00:00,  3.91 batch/s, loss=1.0200]\n",
      "Validating: 100%|██████████| 24/24 [00:02<00:00, 10.27 batch/s]\n"
     ]
    },
    {
     "name": "stdout",
     "output_type": "stream",
     "text": [
      "\u001b[1m\u001b[36mBest valid accuracy improved from 57.18% to 60.00%. Saving checkpoint...\n",
      "\u001b[0m"
     ]
    },
    {
     "name": "stderr",
     "output_type": "stream",
     "text": [
      "Epoch 6/10: 100%|██████████| 94/94 [00:24<00:00,  3.91 batch/s, loss=0.8588]\n",
      "Validating: 100%|██████████| 24/24 [00:02<00:00, 10.28 batch/s]\n"
     ]
    },
    {
     "name": "stdout",
     "output_type": "stream",
     "text": [
      "\u001b[1m\u001b[36mBest valid accuracy improved from 60.00% to 62.73%. Saving checkpoint...\n",
      "\u001b[0m"
     ]
    },
    {
     "name": "stderr",
     "output_type": "stream",
     "text": [
      "Epoch 7/10: 100%|██████████| 94/94 [00:24<00:00,  3.91 batch/s, loss=0.7605]\n",
      "Validating: 100%|██████████| 24/24 [00:02<00:00, 10.15 batch/s]\n"
     ]
    },
    {
     "name": "stdout",
     "output_type": "stream",
     "text": [
      "\u001b[1m\u001b[36mBest valid accuracy improved from 62.73% to 62.92%. Saving checkpoint...\n",
      "\u001b[0m"
     ]
    },
    {
     "name": "stderr",
     "output_type": "stream",
     "text": [
      "Epoch 8/10: 100%|██████████| 94/94 [00:23<00:00,  3.92 batch/s, loss=0.6176]\n",
      "Validating: 100%|██████████| 24/24 [00:02<00:00, 10.30 batch/s]\n"
     ]
    },
    {
     "name": "stdout",
     "output_type": "stream",
     "text": [
      "\u001b[1m\u001b[36mBest valid accuracy improved from 62.92% to 63.70%. Saving checkpoint...\n",
      "\u001b[0m"
     ]
    },
    {
     "name": "stderr",
     "output_type": "stream",
     "text": [
      "Epoch 9/10: 100%|██████████| 94/94 [00:23<00:00,  3.99 batch/s, loss=0.4807]\n",
      "Validating: 100%|██████████| 24/24 [00:02<00:00, 10.66 batch/s]\n"
     ]
    },
    {
     "name": "stdout",
     "output_type": "stream",
     "text": [
      "\u001b[1m\u001b[36mBest valid accuracy improved from 63.70% to 65.95%. Saving checkpoint...\n",
      "\u001b[0m"
     ]
    },
    {
     "name": "stderr",
     "output_type": "stream",
     "text": [
      "Epoch 10/10: 100%|██████████| 94/94 [00:23<00:00,  3.98 batch/s, loss=0.3887]\n",
      "Validating: 100%|██████████| 24/24 [00:02<00:00, 10.59 batch/s]\n",
      "Testing: 100%|██████████| 40/40 [00:03<00:00, 11.19 batch/s]\n"
     ]
    },
    {
     "name": "stdout",
     "output_type": "stream",
     "text": [
      "\u001b[1m\u001b[95mRunning run r50,epochs:10,bs:256,clipping,eqsize,fe/7\n",
      "\u001b[0m"
     ]
    },
    {
     "name": "stderr",
     "output_type": "stream",
     "text": [
      "Epoch 1/10: 100%|██████████| 110/110 [00:28<00:00,  3.90 batch/s, loss=1.8865]\n",
      "Validating: 100%|██████████| 28/28 [00:02<00:00,  9.68 batch/s]\n"
     ]
    },
    {
     "name": "stdout",
     "output_type": "stream",
     "text": [
      "\u001b[1m\u001b[36mBest valid accuracy improved from 0.00% to 43.03%. Saving checkpoint...\n",
      "\u001b[0m"
     ]
    },
    {
     "name": "stderr",
     "output_type": "stream",
     "text": [
      "Epoch 2/10: 100%|██████████| 110/110 [00:27<00:00,  3.94 batch/s, loss=1.4241]\n",
      "Validating: 100%|██████████| 28/28 [00:02<00:00, 10.25 batch/s]\n"
     ]
    },
    {
     "name": "stdout",
     "output_type": "stream",
     "text": [
      "\u001b[1m\u001b[36mBest valid accuracy improved from 43.03% to 54.20%. Saving checkpoint...\n",
      "\u001b[0m"
     ]
    },
    {
     "name": "stderr",
     "output_type": "stream",
     "text": [
      "Epoch 3/10: 100%|██████████| 110/110 [00:27<00:00,  3.94 batch/s, loss=1.2293]\n",
      "Validating: 100%|██████████| 28/28 [00:02<00:00, 10.19 batch/s]\n"
     ]
    },
    {
     "name": "stdout",
     "output_type": "stream",
     "text": [
      "\u001b[1m\u001b[36mBest valid accuracy improved from 54.20% to 56.50%. Saving checkpoint...\n",
      "\u001b[0m"
     ]
    },
    {
     "name": "stderr",
     "output_type": "stream",
     "text": [
      "Epoch 4/10: 100%|██████████| 110/110 [00:28<00:00,  3.91 batch/s, loss=1.0684]\n",
      "Validating: 100%|██████████| 28/28 [00:02<00:00, 10.57 batch/s]\n"
     ]
    },
    {
     "name": "stdout",
     "output_type": "stream",
     "text": [
      "\u001b[1m\u001b[36mBest valid accuracy improved from 56.50% to 61.24%. Saving checkpoint...\n",
      "\u001b[0m"
     ]
    },
    {
     "name": "stderr",
     "output_type": "stream",
     "text": [
      "Epoch 5/10: 100%|██████████| 110/110 [00:27<00:00,  3.97 batch/s, loss=0.9048]\n",
      "Validating: 100%|██████████| 28/28 [00:02<00:00, 10.31 batch/s]\n"
     ]
    },
    {
     "name": "stdout",
     "output_type": "stream",
     "text": [
      "\u001b[1m\u001b[36mBest valid accuracy improved from 61.24% to 63.06%. Saving checkpoint...\n",
      "\u001b[0m"
     ]
    },
    {
     "name": "stderr",
     "output_type": "stream",
     "text": [
      "Epoch 6/10: 100%|██████████| 110/110 [00:27<00:00,  3.97 batch/s, loss=0.7416]\n",
      "Validating: 100%|██████████| 28/28 [00:02<00:00, 10.41 batch/s]\n"
     ]
    },
    {
     "name": "stdout",
     "output_type": "stream",
     "text": [
      "\u001b[1m\u001b[36mBest valid accuracy improved from 63.06% to 64.73%. Saving checkpoint...\n",
      "\u001b[0m"
     ]
    },
    {
     "name": "stderr",
     "output_type": "stream",
     "text": [
      "Epoch 7/10: 100%|██████████| 110/110 [00:27<00:00,  3.95 batch/s, loss=0.5956]\n",
      "Validating: 100%|██████████| 28/28 [00:02<00:00, 10.46 batch/s]\n"
     ]
    },
    {
     "name": "stdout",
     "output_type": "stream",
     "text": [
      "\u001b[1m\u001b[36mBest valid accuracy improved from 64.73% to 66.20%. Saving checkpoint...\n",
      "\u001b[0m"
     ]
    },
    {
     "name": "stderr",
     "output_type": "stream",
     "text": [
      "Epoch 8/10: 100%|██████████| 110/110 [00:27<00:00,  3.99 batch/s, loss=0.4966]\n",
      "Validating: 100%|██████████| 28/28 [00:02<00:00, 10.62 batch/s]\n"
     ]
    },
    {
     "name": "stdout",
     "output_type": "stream",
     "text": [
      "\u001b[1m\u001b[36mBest valid accuracy improved from 66.20% to 66.24%. Saving checkpoint...\n",
      "\u001b[0m"
     ]
    },
    {
     "name": "stderr",
     "output_type": "stream",
     "text": [
      "Epoch 9/10: 100%|██████████| 110/110 [00:28<00:00,  3.92 batch/s, loss=0.4101]\n",
      "Validating: 100%|██████████| 28/28 [00:02<00:00, 10.22 batch/s]\n"
     ]
    },
    {
     "name": "stdout",
     "output_type": "stream",
     "text": [
      "\u001b[1m\u001b[36mBest valid accuracy improved from 66.24% to 67.39%. Saving checkpoint...\n",
      "\u001b[0m"
     ]
    },
    {
     "name": "stderr",
     "output_type": "stream",
     "text": [
      "Epoch 10/10: 100%|██████████| 110/110 [00:28<00:00,  3.90 batch/s, loss=0.3319]\n",
      "Validating: 100%|██████████| 28/28 [00:02<00:00, 10.15 batch/s]\n"
     ]
    },
    {
     "name": "stdout",
     "output_type": "stream",
     "text": [
      "\u001b[1m\u001b[36mBest valid accuracy improved from 67.39% to 67.89%. Saving checkpoint...\n",
      "\u001b[0m"
     ]
    },
    {
     "name": "stderr",
     "output_type": "stream",
     "text": [
      "Testing: 100%|██████████| 40/40 [00:03<00:00, 10.44 batch/s]\n"
     ]
    },
    {
     "name": "stdout",
     "output_type": "stream",
     "text": [
      "\u001b[1m\u001b[95mRunning run r50,epochs:10,bs:256,clipping,eqsize,fe/8\n",
      "\u001b[0m"
     ]
    },
    {
     "name": "stderr",
     "output_type": "stream",
     "text": [
      "Epoch 1/10: 100%|██████████| 125/125 [00:32<00:00,  3.89 batch/s, loss=1.9047]\n",
      "Validating: 100%|██████████| 32/32 [00:03<00:00,  9.42 batch/s]\n"
     ]
    },
    {
     "name": "stdout",
     "output_type": "stream",
     "text": [
      "\u001b[1m\u001b[36mBest valid accuracy improved from 0.00% to 46.56%. Saving checkpoint...\n",
      "\u001b[0m"
     ]
    },
    {
     "name": "stderr",
     "output_type": "stream",
     "text": [
      "Epoch 2/10: 100%|██████████| 125/125 [00:31<00:00,  3.91 batch/s, loss=1.5249]\n",
      "Validating: 100%|██████████| 32/32 [00:03<00:00, 10.20 batch/s]\n"
     ]
    },
    {
     "name": "stdout",
     "output_type": "stream",
     "text": [
      "\u001b[1m\u001b[36mBest valid accuracy improved from 46.56% to 52.54%. Saving checkpoint...\n",
      "\u001b[0m"
     ]
    },
    {
     "name": "stderr",
     "output_type": "stream",
     "text": [
      "Epoch 3/10: 100%|██████████| 125/125 [00:32<00:00,  3.89 batch/s, loss=1.2922]\n",
      "Validating: 100%|██████████| 32/32 [00:03<00:00, 10.17 batch/s]\n"
     ]
    },
    {
     "name": "stdout",
     "output_type": "stream",
     "text": [
      "\u001b[1m\u001b[36mBest valid accuracy improved from 52.54% to 57.16%. Saving checkpoint...\n",
      "\u001b[0m"
     ]
    },
    {
     "name": "stderr",
     "output_type": "stream",
     "text": [
      "Epoch 4/10: 100%|██████████| 125/125 [00:32<00:00,  3.89 batch/s, loss=1.0391]\n",
      "Validating: 100%|██████████| 32/32 [00:03<00:00, 10.05 batch/s]\n"
     ]
    },
    {
     "name": "stdout",
     "output_type": "stream",
     "text": [
      "\u001b[1m\u001b[36mBest valid accuracy improved from 57.16% to 61.94%. Saving checkpoint...\n",
      "\u001b[0m"
     ]
    },
    {
     "name": "stderr",
     "output_type": "stream",
     "text": [
      "Epoch 5/10: 100%|██████████| 125/125 [00:32<00:00,  3.89 batch/s, loss=0.8884]\n",
      "Validating: 100%|██████████| 32/32 [00:03<00:00, 10.34 batch/s]\n"
     ]
    },
    {
     "name": "stdout",
     "output_type": "stream",
     "text": [
      "\u001b[1m\u001b[36mBest valid accuracy improved from 61.94% to 65.33%. Saving checkpoint...\n",
      "\u001b[0m"
     ]
    },
    {
     "name": "stderr",
     "output_type": "stream",
     "text": [
      "Epoch 6/10: 100%|██████████| 125/125 [00:32<00:00,  3.87 batch/s, loss=0.7306]\n",
      "Validating: 100%|██████████| 32/32 [00:03<00:00, 10.07 batch/s]\n"
     ]
    },
    {
     "name": "stdout",
     "output_type": "stream",
     "text": [
      "\u001b[1m\u001b[36mBest valid accuracy improved from 65.33% to 67.21%. Saving checkpoint...\n",
      "\u001b[0m"
     ]
    },
    {
     "name": "stderr",
     "output_type": "stream",
     "text": [
      "Epoch 7/10: 100%|██████████| 125/125 [00:31<00:00,  3.92 batch/s, loss=0.5972]\n",
      "Validating: 100%|██████████| 32/32 [00:03<00:00, 10.43 batch/s]\n"
     ]
    },
    {
     "name": "stdout",
     "output_type": "stream",
     "text": [
      "\u001b[1m\u001b[36mBest valid accuracy improved from 67.21% to 68.26%. Saving checkpoint...\n",
      "\u001b[0m"
     ]
    },
    {
     "name": "stderr",
     "output_type": "stream",
     "text": [
      "Epoch 8/10: 100%|██████████| 125/125 [00:31<00:00,  3.97 batch/s, loss=0.4968]\n",
      "Validating: 100%|██████████| 32/32 [00:03<00:00, 10.54 batch/s]\n",
      "Epoch 9/10: 100%|██████████| 125/125 [00:31<00:00,  3.93 batch/s, loss=0.4014]\n",
      "Validating: 100%|██████████| 32/32 [00:03<00:00, 10.09 batch/s]\n"
     ]
    },
    {
     "name": "stdout",
     "output_type": "stream",
     "text": [
      "\u001b[1m\u001b[36mBest valid accuracy improved from 68.26% to 69.61%. Saving checkpoint...\n",
      "\u001b[0m"
     ]
    },
    {
     "name": "stderr",
     "output_type": "stream",
     "text": [
      "Epoch 10/10: 100%|██████████| 125/125 [00:32<00:00,  3.89 batch/s, loss=0.3307]\n",
      "Validating: 100%|██████████| 32/32 [00:03<00:00, 10.38 batch/s]\n",
      "Testing: 100%|██████████| 40/40 [00:03<00:00, 10.62 batch/s]\n"
     ]
    },
    {
     "name": "stdout",
     "output_type": "stream",
     "text": [
      "\u001b[1m\u001b[95mRunning run r50,epochs:10,bs:256,clipping,eqsize,fe/9\n",
      "\u001b[0m"
     ]
    },
    {
     "name": "stderr",
     "output_type": "stream",
     "text": [
      "Epoch 1/10: 100%|██████████| 141/141 [00:36<00:00,  3.86 batch/s, loss=1.7983]\n",
      "Validating: 100%|██████████| 36/36 [00:03<00:00,  9.35 batch/s]\n"
     ]
    },
    {
     "name": "stdout",
     "output_type": "stream",
     "text": [
      "\u001b[1m\u001b[36mBest valid accuracy improved from 0.00% to 50.89%. Saving checkpoint...\n",
      "\u001b[0m"
     ]
    },
    {
     "name": "stderr",
     "output_type": "stream",
     "text": [
      "Epoch 2/10: 100%|██████████| 141/141 [00:35<00:00,  3.93 batch/s, loss=1.3544]\n",
      "Validating: 100%|██████████| 36/36 [00:03<00:00, 10.28 batch/s]\n"
     ]
    },
    {
     "name": "stdout",
     "output_type": "stream",
     "text": [
      "\u001b[1m\u001b[36mBest valid accuracy improved from 50.89% to 54.53%. Saving checkpoint...\n",
      "\u001b[0m"
     ]
    },
    {
     "name": "stderr",
     "output_type": "stream",
     "text": [
      "Epoch 3/10: 100%|██████████| 141/141 [00:35<00:00,  3.92 batch/s, loss=1.2775]\n",
      "Validating: 100%|██████████| 36/36 [00:03<00:00, 10.36 batch/s]\n"
     ]
    },
    {
     "name": "stdout",
     "output_type": "stream",
     "text": [
      "\u001b[1m\u001b[36mBest valid accuracy improved from 54.53% to 57.54%. Saving checkpoint...\n",
      "\u001b[0m"
     ]
    },
    {
     "name": "stderr",
     "output_type": "stream",
     "text": [
      "Epoch 4/10: 100%|██████████| 141/141 [00:35<00:00,  3.94 batch/s, loss=1.0953]\n",
      "Validating: 100%|██████████| 36/36 [00:03<00:00, 10.41 batch/s]\n"
     ]
    },
    {
     "name": "stdout",
     "output_type": "stream",
     "text": [
      "\u001b[1m\u001b[36mBest valid accuracy improved from 57.54% to 64.50%. Saving checkpoint...\n",
      "\u001b[0m"
     ]
    },
    {
     "name": "stderr",
     "output_type": "stream",
     "text": [
      "Epoch 5/10: 100%|██████████| 141/141 [00:35<00:00,  3.94 batch/s, loss=1.1019]\n",
      "Validating: 100%|██████████| 36/36 [00:03<00:00, 10.41 batch/s]\n",
      "Epoch 6/10: 100%|██████████| 141/141 [00:35<00:00,  3.97 batch/s, loss=0.8439]\n",
      "Validating: 100%|██████████| 36/36 [00:03<00:00, 10.44 batch/s]\n"
     ]
    },
    {
     "name": "stdout",
     "output_type": "stream",
     "text": [
      "\u001b[1m\u001b[36mBest valid accuracy improved from 64.50% to 68.67%. Saving checkpoint...\n",
      "\u001b[0m"
     ]
    },
    {
     "name": "stderr",
     "output_type": "stream",
     "text": [
      "Epoch 7/10: 100%|██████████| 141/141 [00:36<00:00,  3.91 batch/s, loss=0.6048]\n",
      "Validating: 100%|██████████| 36/36 [00:03<00:00, 10.14 batch/s]\n"
     ]
    },
    {
     "name": "stdout",
     "output_type": "stream",
     "text": [
      "\u001b[1m\u001b[36mBest valid accuracy improved from 68.67% to 68.96%. Saving checkpoint...\n",
      "\u001b[0m"
     ]
    },
    {
     "name": "stderr",
     "output_type": "stream",
     "text": [
      "Epoch 8/10: 100%|██████████| 141/141 [00:36<00:00,  3.91 batch/s, loss=0.5089]\n",
      "Validating: 100%|██████████| 36/36 [00:03<00:00, 10.14 batch/s]\n"
     ]
    },
    {
     "name": "stdout",
     "output_type": "stream",
     "text": [
      "\u001b[1m\u001b[36mBest valid accuracy improved from 68.96% to 70.30%. Saving checkpoint...\n",
      "\u001b[0m"
     ]
    },
    {
     "name": "stderr",
     "output_type": "stream",
     "text": [
      "Epoch 9/10: 100%|██████████| 141/141 [00:36<00:00,  3.91 batch/s, loss=0.4167]\n",
      "Validating: 100%|██████████| 36/36 [00:03<00:00, 10.16 batch/s]\n"
     ]
    },
    {
     "name": "stdout",
     "output_type": "stream",
     "text": [
      "\u001b[1m\u001b[36mBest valid accuracy improved from 70.30% to 70.44%. Saving checkpoint...\n",
      "\u001b[0m"
     ]
    },
    {
     "name": "stderr",
     "output_type": "stream",
     "text": [
      "Epoch 10/10: 100%|██████████| 141/141 [00:36<00:00,  3.90 batch/s, loss=0.3290]\n",
      "Validating: 100%|██████████| 36/36 [00:03<00:00, 10.14 batch/s]\n"
     ]
    },
    {
     "name": "stdout",
     "output_type": "stream",
     "text": [
      "\u001b[1m\u001b[36mBest valid accuracy improved from 70.44% to 70.92%. Saving checkpoint...\n",
      "\u001b[0m"
     ]
    },
    {
     "name": "stderr",
     "output_type": "stream",
     "text": [
      "Testing: 100%|██████████| 40/40 [00:03<00:00, 10.51 batch/s]\n"
     ]
    },
    {
     "name": "stdout",
     "output_type": "stream",
     "text": [
      "\u001b[1m\u001b[95mRunning run r50,epochs:10,bs:256,clipping,eqsize,fe/10\n",
      "\u001b[0m"
     ]
    },
    {
     "name": "stderr",
     "output_type": "stream",
     "text": [
      "Epoch 1/10: 100%|██████████| 157/157 [00:40<00:00,  3.86 batch/s, loss=1.7845]\n",
      "Validating: 100%|██████████| 40/40 [00:04<00:00,  9.81 batch/s]\n"
     ]
    },
    {
     "name": "stdout",
     "output_type": "stream",
     "text": [
      "\u001b[1m\u001b[36mBest valid accuracy improved from 0.00% to 47.23%. Saving checkpoint...\n",
      "\u001b[0m"
     ]
    },
    {
     "name": "stderr",
     "output_type": "stream",
     "text": [
      "Epoch 2/10: 100%|██████████| 157/157 [00:39<00:00,  3.94 batch/s, loss=1.4027]\n",
      "Validating: 100%|██████████| 40/40 [00:03<00:00, 10.21 batch/s]\n"
     ]
    },
    {
     "name": "stdout",
     "output_type": "stream",
     "text": [
      "\u001b[1m\u001b[36mBest valid accuracy improved from 47.23% to 53.06%. Saving checkpoint...\n",
      "\u001b[0m"
     ]
    },
    {
     "name": "stderr",
     "output_type": "stream",
     "text": [
      "Epoch 3/10: 100%|██████████| 157/157 [00:40<00:00,  3.91 batch/s, loss=1.1809]\n",
      "Validating: 100%|██████████| 40/40 [00:03<00:00, 10.14 batch/s]\n"
     ]
    },
    {
     "name": "stdout",
     "output_type": "stream",
     "text": [
      "\u001b[1m\u001b[36mBest valid accuracy improved from 53.06% to 60.43%. Saving checkpoint...\n",
      "\u001b[0m"
     ]
    },
    {
     "name": "stderr",
     "output_type": "stream",
     "text": [
      "Epoch 4/10: 100%|██████████| 157/157 [00:40<00:00,  3.91 batch/s, loss=0.9541]\n",
      "Validating: 100%|██████████| 40/40 [00:03<00:00, 10.14 batch/s]\n"
     ]
    },
    {
     "name": "stdout",
     "output_type": "stream",
     "text": [
      "\u001b[1m\u001b[36mBest valid accuracy improved from 60.43% to 64.38%. Saving checkpoint...\n",
      "\u001b[0m"
     ]
    },
    {
     "name": "stderr",
     "output_type": "stream",
     "text": [
      "Epoch 5/10: 100%|██████████| 157/157 [00:40<00:00,  3.91 batch/s, loss=0.7857]\n",
      "Validating: 100%|██████████| 40/40 [00:03<00:00, 10.16 batch/s]\n"
     ]
    },
    {
     "name": "stdout",
     "output_type": "stream",
     "text": [
      "\u001b[1m\u001b[36mBest valid accuracy improved from 64.38% to 67.33%. Saving checkpoint...\n",
      "\u001b[0m"
     ]
    },
    {
     "name": "stderr",
     "output_type": "stream",
     "text": [
      "Epoch 6/10: 100%|██████████| 157/157 [00:40<00:00,  3.88 batch/s, loss=0.6573]\n",
      "Validating: 100%|██████████| 40/40 [00:03<00:00, 10.12 batch/s]\n"
     ]
    },
    {
     "name": "stdout",
     "output_type": "stream",
     "text": [
      "\u001b[1m\u001b[36mBest valid accuracy improved from 67.33% to 69.86%. Saving checkpoint...\n",
      "\u001b[0m"
     ]
    },
    {
     "name": "stderr",
     "output_type": "stream",
     "text": [
      "Epoch 7/10: 100%|██████████| 157/157 [00:40<00:00,  3.89 batch/s, loss=0.5316]\n",
      "Validating: 100%|██████████| 40/40 [00:03<00:00, 10.13 batch/s]\n",
      "Epoch 8/10: 100%|██████████| 157/157 [00:40<00:00,  3.89 batch/s, loss=0.4653]\n",
      "Validating: 100%|██████████| 40/40 [00:03<00:00, 10.05 batch/s]\n"
     ]
    },
    {
     "name": "stdout",
     "output_type": "stream",
     "text": [
      "\u001b[1m\u001b[36mBest valid accuracy improved from 69.86% to 70.59%. Saving checkpoint...\n",
      "\u001b[0m"
     ]
    },
    {
     "name": "stderr",
     "output_type": "stream",
     "text": [
      "Epoch 9/10: 100%|██████████| 157/157 [00:40<00:00,  3.90 batch/s, loss=0.3770]\n",
      "Validating: 100%|██████████| 40/40 [00:03<00:00, 10.08 batch/s]\n"
     ]
    },
    {
     "name": "stdout",
     "output_type": "stream",
     "text": [
      "\u001b[1m\u001b[36mBest valid accuracy improved from 70.59% to 71.11%. Saving checkpoint...\n",
      "\u001b[0m"
     ]
    },
    {
     "name": "stderr",
     "output_type": "stream",
     "text": [
      "Epoch 10/10: 100%|██████████| 157/157 [00:39<00:00,  3.94 batch/s, loss=0.2978]\n",
      "Validating: 100%|██████████| 40/40 [00:03<00:00, 10.09 batch/s]\n",
      "Testing: 100%|██████████| 40/40 [00:03<00:00, 10.42 batch/s]\n"
     ]
    }
   ],
   "source": [
    "import torch\n",
    "import torchvision\n",
    "from torchvision.models import resnet50\n",
    "\n",
    "from kiss.experiment import Experiment\n",
    "from kiss.sampler import OpticsSampler\n",
    "from kiss.utils.configs import CONFIGS\n",
    "\n",
    "transform = torchvision.transforms.ToTensor()\n",
    "dataset_tr = torchvision.datasets.CIFAR10(root='../data', train=True, download=True, transform=transform)\n",
    "dataset_te = torchvision.datasets.CIFAR10(root='../data', train=False, download=True, transform=transform)\n",
    "\n",
    "model = resnet50(num_classes=10)\n",
    "model.to(torch.device(CONFIGS.torch.device))\n",
    "\n",
    "experiment = Experiment(\n",
    "    model, \n",
    "    dataset_tr,\n",
    "    dataset_te, \n",
    "    OpticsSampler, \n",
    "    ratio=(0.1, 1, 10),\n",
    "    epochs=10,\n",
    "    batch_size=256,\n",
    "    clip=5.0,\n",
    "    eqsize=True,\n",
    "    save_clusters=\"../checkpoints/optics,fe\",\n",
    "    load_clusters=\"../checkpoints/optics,fe\")\n",
    "\n",
    "experiment.run(\"../experiments\", \"r50,epochs:10,bs:256,clipping,eqsize,fe\")"
   ]
  }
 ],
 "metadata": {
  "kernelspec": {
   "display_name": "kiss",
   "language": "python",
   "name": "python3"
  },
  "language_info": {
   "codemirror_mode": {
    "name": "ipython",
    "version": 3
   },
   "file_extension": ".py",
   "mimetype": "text/x-python",
   "name": "python",
   "nbconvert_exporter": "python",
   "pygments_lexer": "ipython3",
   "version": "3.11.6"
  }
 },
 "nbformat": 4,
 "nbformat_minor": 2
}
