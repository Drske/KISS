{
 "cells": [
  {
   "cell_type": "markdown",
   "metadata": {},
   "source": [
    "### Eksperymenty\n",
    "\n",
    "**Modele**\n",
    "- resnet50\n",
    "- vgg16\n",
    "\n",
    "**Zbiory danych**\n",
    "- CIFAR100\n",
    "- SVHN\n",
    "\n",
    "**Metody**\n",
    "- Random\n",
    "- KMeans\n",
    "- KMeansPurity\n",
    "- KMeansDino\n",
    "- KMeansDinoPurity\n",
    "\n",
    "**Ustawienia**\n",
    "- ratio = (0.1, 1, 10)\n",
    "- epochs = 10\n",
    "- batch_size = 512\n",
    "- clip = 5.0\n",
    "- num_clusters = 10\n",
    "- eqsize = True\n",
    "- min_purity = 0.1 (SVHN), 0.01 (CIFAR100)\n",
    "\n",
    "**Nazewnictwo przebiegów**\n",
    "W nawiasach kwadratowych podano wartość do wyboru (\"jeden z ...\") w nawiasch klamrowych wartości opcjonalne.\n",
    "ID służy do rozróżniania eksperymentów w tej samej konfiguracji\n",
    "\n",
    "- [r50,vgg13],ep:10,bs:512,clip:5.0,{nc:20},{eqsize},{mp:[0.1,0.01]},ID:[1,2,3,..]\n",
    "- przykład: r50,ep:10,bs:512,clip:5.0,ID:1\n",
    "- przykład: r50,ep:10,bs:512,clip:50,nc:20,eqsize,mp:0.1,ID:1\n",
    "\n",
    "**Uwagi**\n",
    "- Przy każdym eksperymencie nowy model (!)"
   ]
  },
  {
   "cell_type": "code",
   "execution_count": 1,
   "metadata": {},
   "outputs": [
    {
     "name": "stdout",
     "output_type": "stream",
     "text": [
      "Files already downloaded and verified\n",
      "Files already downloaded and verified\n",
      "Using downloaded and verified file: ../data/svhn/train_32x32.mat\n",
      "Using downloaded and verified file: ../data/svhn/test_32x32.mat\n"
     ]
    }
   ],
   "source": [
    "import torch\n",
    "import torchvision\n",
    "from torchvision.models import resnet50\n",
    "\n",
    "from kiss.models import vgg16_kiss\n",
    "from kiss.experiment import Experiment\n",
    "from kiss.sampler import RandomSampler, KMeansSampler, KMeansPuritySampler, KMeansPurity2Sampler, KMeansDinoSampler, KMeansPurityDinoSampler\n",
    "from kiss.utils.configs import CONFIGS\n",
    "\n",
    "transform = torchvision.transforms.Compose([\n",
    "    torchvision.transforms.ToTensor(),\n",
    "    torchvision.transforms.Normalize(mean=[0.485, 0.456, 0.406],\n",
    "                                     std=[0.229, 0.224, 0.225])\n",
    "])\n",
    "\n",
    "dataset_cifar100_tr = torchvision.datasets.CIFAR100(root='../data/cifar100', train=True, download=True, transform=transform)\n",
    "dataset_cifar100_te = torchvision.datasets.CIFAR100(root='../data/cifar100', train=False, download=True, transform=transform)\n",
    "\n",
    "dataset_cifar10_tr = torchvision.datasets.CIFAR100(root='../data/cifar100', train=True, download=True, transform=transform)\n",
    "dataset_cifar10_te = torchvision.datasets.CIFAR100(root='../data/cifar100', train=False, download=True, transform=transform)\n",
    "\n",
    "dataset_svhn_tr = torchvision.datasets.SVHN(root='../data/svhn', split='train', download=True, transform=transform)\n",
    "dataset_svhn_te = torchvision.datasets.SVHN(root='../data/svhn', split='test', download=True, transform=transform)"
   ]
  },
  {
   "cell_type": "code",
   "execution_count": 2,
   "metadata": {},
   "outputs": [],
   "source": [
    "ID = 5\n",
    "RATIO = (0.1, 1, 10)\n",
    "EPOCHS = 10\n",
    "BATCH_SIZE = 512\n",
    "CLIP = 5.0\n",
    "NUM_CLUSTERS = 10\n",
    "EQSIZE = True\n",
    "\n",
    "# 5 - poprawna walidacja"
   ]
  },
  {
   "cell_type": "code",
   "execution_count": 3,
   "metadata": {},
   "outputs": [
    {
     "name": "stderr",
     "output_type": "stream",
     "text": [
      "Using cache found in /Users/michal/.cache/torch/hub/facebookresearch_dinov2_main\n",
      "/Users/michal/.cache/torch/hub/facebookresearch_dinov2_main/dinov2/layers/swiglu_ffn.py:51: UserWarning: xFormers is not available (SwiGLU)\n",
      "  warnings.warn(\"xFormers is not available (SwiGLU)\")\n",
      "/Users/michal/.cache/torch/hub/facebookresearch_dinov2_main/dinov2/layers/attention.py:33: UserWarning: xFormers is not available (Attention)\n",
      "  warnings.warn(\"xFormers is not available (Attention)\")\n",
      "/Users/michal/.cache/torch/hub/facebookresearch_dinov2_main/dinov2/layers/block.py:40: UserWarning: xFormers is not available (Block)\n",
      "  warnings.warn(\"xFormers is not available (Block)\")\n",
      "Clustering: 100%|██████████| 100/100 [33:01<00:00, 19.82s/it]\n"
     ]
    },
    {
     "name": "stdout",
     "output_type": "stream",
     "text": [
      "\u001b[1m\u001b[33mRunning experiment ResNet!CIFAR100!KMeansDinoSampler\n",
      "\u001b[0m\u001b[1m\u001b[95mRunning run r50,ep:10,bs:512,clip:5.0,nc:10,eqsize,ID:5/1\n",
      "\u001b[0m4000 3984\n"
     ]
    },
    {
     "name": "stderr",
     "output_type": "stream",
     "text": [
      "Epoch 1/10: 100%|██████████| 8/8 [00:04<00:00,  1.79 batch/s, loss=5.2370]\n",
      "Validating: 100%|██████████| 20/20 [00:03<00:00,  5.44 batch/s, loss=4.6722]\n"
     ]
    },
    {
     "name": "stdout",
     "output_type": "stream",
     "text": [
      "\u001b[1m\u001b[36mBest valid loss improved. Current accuracy is 0.97%. Saving checkpoint...\n",
      "\u001b[0m\u001b[1m\u001b[36mBest valid accuracy improved. Current accuracy is 0.97%. Saving checkpoint...\n",
      "\u001b[0m"
     ]
    },
    {
     "name": "stderr",
     "output_type": "stream",
     "text": [
      "Epoch 2/10: 100%|██████████| 8/8 [00:03<00:00,  2.20 batch/s, loss=4.7176]\n",
      "Validating: 100%|██████████| 20/20 [00:03<00:00,  5.66 batch/s, loss=4.7515]\n"
     ]
    },
    {
     "name": "stdout",
     "output_type": "stream",
     "text": [
      "\u001b[1m\u001b[36mBest valid accuracy improved. Current accuracy is 1.09%. Saving checkpoint...\n",
      "\u001b[0m"
     ]
    },
    {
     "name": "stderr",
     "output_type": "stream",
     "text": [
      "Epoch 3/10: 100%|██████████| 8/8 [00:03<00:00,  2.20 batch/s, loss=4.3138]\n",
      "Validating: 100%|██████████| 20/20 [00:03<00:00,  5.66 batch/s, loss=4.6646]\n"
     ]
    },
    {
     "name": "stdout",
     "output_type": "stream",
     "text": [
      "\u001b[1m\u001b[36mBest valid loss improved. Current accuracy is 1.90%. Saving checkpoint...\n",
      "\u001b[0m\u001b[1m\u001b[36mBest valid accuracy improved. Current accuracy is 1.90%. Saving checkpoint...\n",
      "\u001b[0m"
     ]
    },
    {
     "name": "stderr",
     "output_type": "stream",
     "text": [
      "Epoch 4/10: 100%|██████████| 8/8 [00:03<00:00,  2.21 batch/s, loss=3.9223]\n",
      "Validating: 100%|██████████| 20/20 [00:03<00:00,  5.66 batch/s, loss=4.8956]\n",
      "Epoch 5/10: 100%|██████████| 8/8 [00:03<00:00,  2.20 batch/s, loss=3.3180]\n",
      "Validating: 100%|██████████| 20/20 [00:03<00:00,  5.66 batch/s, loss=4.7254]\n"
     ]
    },
    {
     "name": "stdout",
     "output_type": "stream",
     "text": [
      "\u001b[1m\u001b[36mBest valid accuracy improved. Current accuracy is 3.47%. Saving checkpoint...\n",
      "\u001b[0m"
     ]
    },
    {
     "name": "stderr",
     "output_type": "stream",
     "text": [
      "Epoch 6/10: 100%|██████████| 8/8 [00:03<00:00,  2.22 batch/s, loss=2.5874]\n",
      "Validating: 100%|██████████| 20/20 [00:03<00:00,  5.64 batch/s, loss=4.5399]\n"
     ]
    },
    {
     "name": "stdout",
     "output_type": "stream",
     "text": [
      "\u001b[1m\u001b[36mBest valid loss improved. Current accuracy is 5.96%. Saving checkpoint...\n",
      "\u001b[0m\u001b[1m\u001b[36mBest valid accuracy improved. Current accuracy is 5.96%. Saving checkpoint...\n",
      "\u001b[0m"
     ]
    },
    {
     "name": "stderr",
     "output_type": "stream",
     "text": [
      "Epoch 7/10: 100%|██████████| 8/8 [00:03<00:00,  2.21 batch/s, loss=1.8534]\n",
      "Validating: 100%|██████████| 20/20 [00:03<00:00,  5.65 batch/s, loss=4.9401]\n"
     ]
    },
    {
     "name": "stdout",
     "output_type": "stream",
     "text": [
      "\u001b[1m\u001b[36mBest valid accuracy improved. Current accuracy is 6.12%. Saving checkpoint...\n",
      "\u001b[0m"
     ]
    },
    {
     "name": "stderr",
     "output_type": "stream",
     "text": [
      "Epoch 8/10: 100%|██████████| 8/8 [00:03<00:00,  2.21 batch/s, loss=1.1264]\n",
      "Validating: 100%|██████████| 20/20 [00:03<00:00,  5.65 batch/s, loss=5.2759]\n"
     ]
    },
    {
     "name": "stdout",
     "output_type": "stream",
     "text": [
      "\u001b[1m\u001b[36mBest valid accuracy improved. Current accuracy is 7.60%. Saving checkpoint...\n",
      "\u001b[0m"
     ]
    },
    {
     "name": "stderr",
     "output_type": "stream",
     "text": [
      "Epoch 9/10: 100%|██████████| 8/8 [00:03<00:00,  2.23 batch/s, loss=0.7477]\n",
      "Validating: 100%|██████████| 20/20 [00:03<00:00,  5.65 batch/s, loss=5.8123]\n"
     ]
    },
    {
     "name": "stdout",
     "output_type": "stream",
     "text": [
      "\u001b[1m\u001b[36mBest valid accuracy improved. Current accuracy is 7.74%. Saving checkpoint...\n",
      "\u001b[0m"
     ]
    },
    {
     "name": "stderr",
     "output_type": "stream",
     "text": [
      "Epoch 10/10: 100%|██████████| 8/8 [00:03<00:00,  2.21 batch/s, loss=0.5810]\n",
      "Validating: 100%|██████████| 20/20 [00:03<00:00,  5.65 batch/s, loss=5.9348]\n"
     ]
    },
    {
     "name": "stdout",
     "output_type": "stream",
     "text": [
      "\u001b[1m\u001b[36mBest valid accuracy improved. Current accuracy is 8.02%. Saving checkpoint...\n",
      "\u001b[0m"
     ]
    },
    {
     "name": "stderr",
     "output_type": "stream",
     "text": [
      "Testing: 100%|██████████| 20/20 [00:03<00:00,  5.53 batch/s]\n"
     ]
    },
    {
     "name": "stdout",
     "output_type": "stream",
     "text": [
      "\u001b[1m\u001b[95mRunning run r50,ep:10,bs:512,clip:5.0,nc:10,eqsize,ID:5/2\n",
      "\u001b[0m8000 7914\n"
     ]
    },
    {
     "name": "stderr",
     "output_type": "stream",
     "text": [
      "Epoch 1/10: 100%|██████████| 16/16 [00:07<00:00,  2.14 batch/s, loss=5.0388]\n",
      "Validating: 100%|██████████| 20/20 [00:03<00:00,  5.63 batch/s, loss=4.7068]\n"
     ]
    },
    {
     "name": "stdout",
     "output_type": "stream",
     "text": [
      "\u001b[1m\u001b[36mBest valid loss improved. Current accuracy is 1.05%. Saving checkpoint...\n",
      "\u001b[0m\u001b[1m\u001b[36mBest valid accuracy improved. Current accuracy is 1.05%. Saving checkpoint...\n",
      "\u001b[0m"
     ]
    },
    {
     "name": "stderr",
     "output_type": "stream",
     "text": [
      "Epoch 2/10: 100%|██████████| 16/16 [00:07<00:00,  2.21 batch/s, loss=4.3625]\n",
      "Validating: 100%|██████████| 20/20 [00:03<00:00,  5.67 batch/s, loss=4.6661]\n"
     ]
    },
    {
     "name": "stdout",
     "output_type": "stream",
     "text": [
      "\u001b[1m\u001b[36mBest valid loss improved. Current accuracy is 2.40%. Saving checkpoint...\n",
      "\u001b[0m\u001b[1m\u001b[36mBest valid accuracy improved. Current accuracy is 2.40%. Saving checkpoint...\n",
      "\u001b[0m"
     ]
    },
    {
     "name": "stderr",
     "output_type": "stream",
     "text": [
      "Epoch 3/10: 100%|██████████| 16/16 [00:07<00:00,  2.22 batch/s, loss=4.0663]\n",
      "Validating: 100%|██████████| 20/20 [00:03<00:00,  5.68 batch/s, loss=27.9135]\n"
     ]
    },
    {
     "name": "stdout",
     "output_type": "stream",
     "text": [
      "\u001b[1m\u001b[36mBest valid accuracy improved. Current accuracy is 2.47%. Saving checkpoint...\n",
      "\u001b[0m"
     ]
    },
    {
     "name": "stderr",
     "output_type": "stream",
     "text": [
      "Epoch 4/10: 100%|██████████| 16/16 [00:07<00:00,  2.22 batch/s, loss=3.7160]\n",
      "Validating: 100%|██████████| 20/20 [00:03<00:00,  5.67 batch/s, loss=4.1014]\n"
     ]
    },
    {
     "name": "stdout",
     "output_type": "stream",
     "text": [
      "\u001b[1m\u001b[36mBest valid loss improved. Current accuracy is 8.96%. Saving checkpoint...\n",
      "\u001b[0m\u001b[1m\u001b[36mBest valid accuracy improved. Current accuracy is 8.96%. Saving checkpoint...\n",
      "\u001b[0m"
     ]
    },
    {
     "name": "stderr",
     "output_type": "stream",
     "text": [
      "Epoch 5/10: 100%|██████████| 16/16 [00:07<00:00,  2.22 batch/s, loss=3.3695]\n",
      "Validating: 100%|██████████| 20/20 [00:03<00:00,  5.66 batch/s, loss=13.6558]\n",
      "Epoch 6/10: 100%|██████████| 16/16 [00:07<00:00,  2.21 batch/s, loss=2.8431]\n",
      "Validating: 100%|██████████| 20/20 [00:03<00:00,  5.67 batch/s, loss=4.1012]\n"
     ]
    },
    {
     "name": "stdout",
     "output_type": "stream",
     "text": [
      "\u001b[1m\u001b[36mBest valid loss improved. Current accuracy is 10.87%. Saving checkpoint...\n",
      "\u001b[0m\u001b[1m\u001b[36mBest valid accuracy improved. Current accuracy is 10.87%. Saving checkpoint...\n",
      "\u001b[0m"
     ]
    },
    {
     "name": "stderr",
     "output_type": "stream",
     "text": [
      "Epoch 7/10: 100%|██████████| 16/16 [00:07<00:00,  2.21 batch/s, loss=2.2452]\n",
      "Validating: 100%|██████████| 20/20 [00:03<00:00,  5.65 batch/s, loss=4.7731]\n"
     ]
    },
    {
     "name": "stdout",
     "output_type": "stream",
     "text": [
      "\u001b[1m\u001b[36mBest valid accuracy improved. Current accuracy is 12.03%. Saving checkpoint...\n",
      "\u001b[0m"
     ]
    },
    {
     "name": "stderr",
     "output_type": "stream",
     "text": [
      "Epoch 8/10: 100%|██████████| 16/16 [00:07<00:00,  2.21 batch/s, loss=1.6673]\n",
      "Validating: 100%|██████████| 20/20 [00:03<00:00,  5.65 batch/s, loss=5.7710]\n",
      "Epoch 9/10: 100%|██████████| 16/16 [00:07<00:00,  2.21 batch/s, loss=1.1679]\n",
      "Validating: 100%|██████████| 20/20 [00:03<00:00,  5.51 batch/s, loss=5.1297]\n"
     ]
    },
    {
     "name": "stdout",
     "output_type": "stream",
     "text": [
      "\u001b[1m\u001b[36mBest valid accuracy improved. Current accuracy is 12.76%. Saving checkpoint...\n",
      "\u001b[0m"
     ]
    },
    {
     "name": "stderr",
     "output_type": "stream",
     "text": [
      "Epoch 10/10: 100%|██████████| 16/16 [00:07<00:00,  2.21 batch/s, loss=0.8032]\n",
      "Validating: 100%|██████████| 20/20 [00:03<00:00,  5.55 batch/s, loss=5.5329]\n"
     ]
    },
    {
     "name": "stdout",
     "output_type": "stream",
     "text": [
      "\u001b[1m\u001b[36mBest valid accuracy improved. Current accuracy is 12.95%. Saving checkpoint...\n",
      "\u001b[0m"
     ]
    },
    {
     "name": "stderr",
     "output_type": "stream",
     "text": [
      "Testing: 100%|██████████| 20/20 [00:03<00:00,  5.50 batch/s]\n"
     ]
    },
    {
     "name": "stdout",
     "output_type": "stream",
     "text": [
      "\u001b[1m\u001b[95mRunning run r50,ep:10,bs:512,clip:5.0,nc:10,eqsize,ID:5/3\n",
      "\u001b[0m12000 11765\n"
     ]
    },
    {
     "name": "stderr",
     "output_type": "stream",
     "text": [
      "Epoch 1/10: 100%|██████████| 24/24 [00:11<00:00,  2.13 batch/s, loss=4.8753]\n",
      "Validating: 100%|██████████| 20/20 [00:03<00:00,  5.62 batch/s, loss=4.6822]\n"
     ]
    },
    {
     "name": "stdout",
     "output_type": "stream",
     "text": [
      "\u001b[1m\u001b[36mBest valid loss improved. Current accuracy is 1.78%. Saving checkpoint...\n",
      "\u001b[0m\u001b[1m\u001b[36mBest valid accuracy improved. Current accuracy is 1.78%. Saving checkpoint...\n",
      "\u001b[0m"
     ]
    },
    {
     "name": "stderr",
     "output_type": "stream",
     "text": [
      "Epoch 2/10: 100%|██████████| 24/24 [00:10<00:00,  2.22 batch/s, loss=4.2145]\n",
      "Validating: 100%|██████████| 20/20 [00:03<00:00,  5.55 batch/s, loss=9.3920]\n",
      "Epoch 3/10: 100%|██████████| 24/24 [00:10<00:00,  2.22 batch/s, loss=3.8889]\n",
      "Validating: 100%|██████████| 20/20 [00:03<00:00,  5.59 batch/s, loss=65.4785]\n"
     ]
    },
    {
     "name": "stdout",
     "output_type": "stream",
     "text": [
      "\u001b[1m\u001b[36mBest valid accuracy improved. Current accuracy is 7.13%. Saving checkpoint...\n",
      "\u001b[0m"
     ]
    },
    {
     "name": "stderr",
     "output_type": "stream",
     "text": [
      "Epoch 4/10: 100%|██████████| 24/24 [00:10<00:00,  2.24 batch/s, loss=3.6118]\n",
      "Validating: 100%|██████████| 20/20 [00:03<00:00,  5.59 batch/s, loss=3.8425]\n"
     ]
    },
    {
     "name": "stdout",
     "output_type": "stream",
     "text": [
      "\u001b[1m\u001b[36mBest valid loss improved. Current accuracy is 12.71%. Saving checkpoint...\n",
      "\u001b[0m\u001b[1m\u001b[36mBest valid accuracy improved. Current accuracy is 12.71%. Saving checkpoint...\n",
      "\u001b[0m"
     ]
    },
    {
     "name": "stderr",
     "output_type": "stream",
     "text": [
      "Epoch 5/10: 100%|██████████| 24/24 [00:10<00:00,  2.23 batch/s, loss=3.4282]\n",
      "Validating: 100%|██████████| 20/20 [00:03<00:00,  5.46 batch/s, loss=10.1936]\n",
      "Epoch 6/10: 100%|██████████| 24/24 [00:10<00:00,  2.24 batch/s, loss=2.9735]\n",
      "Validating: 100%|██████████| 20/20 [00:03<00:00,  5.53 batch/s, loss=6.5522]\n"
     ]
    },
    {
     "name": "stdout",
     "output_type": "stream",
     "text": [
      "\u001b[1m\u001b[36mBest valid accuracy improved. Current accuracy is 13.40%. Saving checkpoint...\n",
      "\u001b[0m"
     ]
    },
    {
     "name": "stderr",
     "output_type": "stream",
     "text": [
      "Epoch 7/10: 100%|██████████| 24/24 [00:10<00:00,  2.23 batch/s, loss=2.6204]\n",
      "Validating: 100%|██████████| 20/20 [00:03<00:00,  5.59 batch/s, loss=4.1729]\n"
     ]
    },
    {
     "name": "stdout",
     "output_type": "stream",
     "text": [
      "\u001b[1m\u001b[36mBest valid accuracy improved. Current accuracy is 16.32%. Saving checkpoint...\n",
      "\u001b[0m"
     ]
    },
    {
     "name": "stderr",
     "output_type": "stream",
     "text": [
      "Epoch 8/10: 100%|██████████| 24/24 [00:10<00:00,  2.21 batch/s, loss=2.1215]\n",
      "Validating: 100%|██████████| 20/20 [00:03<00:00,  5.66 batch/s, loss=5.0744]\n"
     ]
    },
    {
     "name": "stdout",
     "output_type": "stream",
     "text": [
      "\u001b[1m\u001b[36mBest valid accuracy improved. Current accuracy is 16.75%. Saving checkpoint...\n",
      "\u001b[0m"
     ]
    },
    {
     "name": "stderr",
     "output_type": "stream",
     "text": [
      "Epoch 9/10: 100%|██████████| 24/24 [00:10<00:00,  2.21 batch/s, loss=1.7058]\n",
      "Validating: 100%|██████████| 20/20 [00:03<00:00,  5.62 batch/s, loss=4.7220]\n",
      "Epoch 10/10: 100%|██████████| 24/24 [00:10<00:00,  2.22 batch/s, loss=1.5709]\n",
      "Validating: 100%|██████████| 20/20 [00:03<00:00,  5.65 batch/s, loss=4.5893]\n",
      "Testing: 100%|██████████| 20/20 [00:03<00:00,  5.58 batch/s]\n",
      "Using cache found in /Users/michal/.cache/torch/hub/facebookresearch_dinov2_main\n",
      "Clustering:  50%|█████     | 5/10 [26:29<26:00, 312.06s/it]"
     ]
    }
   ],
   "source": [
    "import os\n",
    "\n",
    "for model_fun in [resnet50]:\n",
    "    for dataset_tr, dataset_te in zip([dataset_cifar100_tr, dataset_svhn_tr], [dataset_cifar100_te, dataset_svhn_te]):\n",
    "        for sampler_cls in [KMeansDinoSampler]:\n",
    "\n",
    "            if model_fun.__name__ == 'resnet50':\n",
    "                MODEL_NAME = 'r50'\n",
    "            if model_fun.__name__ == 'vgg16':\n",
    "                MODEL_NAME = 'vgg16'\n",
    "            if model_fun.__name__ == 'vgg16_kiss':\n",
    "                MODEL_NAME = 'vgg16_kiss'\n",
    "\n",
    "            RUN_NAME = f\"{MODEL_NAME},ep:{EPOCHS},bs:{BATCH_SIZE},clip:{CLIP}\"\n",
    "\n",
    "            if dataset_tr.__class__.__name__ == 'SVHN':\n",
    "                NUM_CLASSES = 10\n",
    "                MIN_PURITY = 0.1\n",
    "            if dataset_tr.__class__.__name__ == 'CIFAR100':\n",
    "                NUM_CLASSES = 100\n",
    "                MIN_PURITY = 0.01\n",
    "\n",
    "            if 'KMeans' in sampler_cls.__name__:\n",
    "                RUN_NAME += f\",nc:{NUM_CLUSTERS}\"\n",
    "\n",
    "            if 'KMeans' in sampler_cls.__name__ and EQSIZE:\n",
    "                RUN_NAME += \",eqsize\"\n",
    "\n",
    "            if 'KMeansPurity' in sampler_cls.__name__:\n",
    "                RUN_NAME += f\",mp:{MIN_PURITY}\"\n",
    "\n",
    "            SAVE_CLUSTERS = LOAD_CLUSTERS = f\"../checkpoints/{sampler_cls.__name__},{dataset_tr.__class__.__name__},nc:{NUM_CLUSTERS}\"\n",
    "            \n",
    "            if not os.path.exists(LOAD_CLUSTERS):\n",
    "                LOAD_CLUSTERS = None\n",
    "            \n",
    "            RUN_NAME += f',ID:{ID}'\n",
    "\n",
    "            model = model_fun(num_classes=NUM_CLASSES)\n",
    "            model.to(torch.device(CONFIGS.torch.device))\n",
    "\n",
    "            experiment = Experiment(\n",
    "                model = model,\n",
    "                dataset_tr = dataset_tr,\n",
    "                dataset_te = dataset_te,\n",
    "                sampler_cls=sampler_cls,\n",
    "                ratio=RATIO,\n",
    "                epochs=EPOCHS,\n",
    "                batch_size=BATCH_SIZE,\n",
    "                clip=CLIP,\n",
    "                num_clusters=NUM_CLUSTERS,\n",
    "                eqsize=EQSIZE,\n",
    "                min_purity=MIN_PURITY,\n",
    "                load_clusters=LOAD_CLUSTERS,\n",
    "                save_clusters=SAVE_CLUSTERS,\n",
    "            )\n",
    "            experiment.run(\"../experiments\", RUN_NAME)"
   ]
  },
  {
   "cell_type": "code",
   "execution_count": null,
   "metadata": {},
   "outputs": [],
   "source": [
    "from collections import Counter\n",
    "\n",
    "cnt = Counter(experiment.sampler_.cluster_data)\n",
    "print(cnt)"
   ]
  }
 ],
 "metadata": {
  "kernelspec": {
   "display_name": "kiss",
   "language": "python",
   "name": "python3"
  },
  "language_info": {
   "codemirror_mode": {
    "name": "ipython",
    "version": 3
   },
   "file_extension": ".py",
   "mimetype": "text/x-python",
   "name": "python",
   "nbconvert_exporter": "python",
   "pygments_lexer": "ipython3",
   "version": "3.11.7"
  }
 },
 "nbformat": 4,
 "nbformat_minor": 2
}
