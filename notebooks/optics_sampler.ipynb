{
 "cells": [
  {
   "cell_type": "code",
   "execution_count": 1,
   "metadata": {},
   "outputs": [
    {
     "name": "stdout",
     "output_type": "stream",
     "text": [
      "Files already downloaded and verified\n",
      "Files already downloaded and verified\n",
      "Predicting first optics\n",
      "labels 29\n",
      "Predicting first optics\n",
      "labels 20\n",
      "Predicting first optics\n",
      "labels 28\n",
      "Predicting first optics\n",
      "labels 35\n",
      "Predicting first optics\n",
      "labels 24\n",
      "Predicting first optics\n",
      "labels 23\n",
      "Predicting first optics\n",
      "labels 23\n",
      "Predicting first optics\n",
      "labels 23\n",
      "Predicting first optics\n",
      "labels 21\n",
      "Predicting first optics\n",
      "labels 51\n",
      "\u001b[1m\u001b[33mRunning experiment ResNet!CIFAR10!OpticsSampler\n",
      "\u001b[0m\u001b[1m\u001b[95mRunning run r50,epochs:10,bs:256,clipping,eqsize/1\n",
      "\u001b[0mmean_num_clusters 27.7\n"
     ]
    },
    {
     "name": "stderr",
     "output_type": "stream",
     "text": [
      "Epoch 1/10: 100%|██████████| 16/16 [00:05<00:00,  2.95 batch/s, loss=2.5661]\n",
      "Validating: 100%|██████████| 4/4 [00:00<00:00,  7.48 batch/s]\n"
     ]
    },
    {
     "name": "stdout",
     "output_type": "stream",
     "text": [
      "\u001b[1m\u001b[36mBest valid accuracy improved from 0.00% to 24.10%. Saving checkpoint...\n",
      "\u001b[0m"
     ]
    },
    {
     "name": "stderr",
     "output_type": "stream",
     "text": [
      "Epoch 2/10: 100%|██████████| 16/16 [00:03<00:00,  4.11 batch/s, loss=2.0025]\n",
      "Validating: 100%|██████████| 4/4 [00:00<00:00, 10.91 batch/s]\n"
     ]
    },
    {
     "name": "stdout",
     "output_type": "stream",
     "text": [
      "\u001b[1m\u001b[36mBest valid accuracy improved from 24.10% to 30.20%. Saving checkpoint...\n",
      "\u001b[0m"
     ]
    },
    {
     "name": "stderr",
     "output_type": "stream",
     "text": [
      "Epoch 3/10: 100%|██████████| 16/16 [00:03<00:00,  4.13 batch/s, loss=1.7234]\n",
      "Validating: 100%|██████████| 4/4 [00:00<00:00, 10.88 batch/s]\n"
     ]
    },
    {
     "name": "stdout",
     "output_type": "stream",
     "text": [
      "\u001b[1m\u001b[36mBest valid accuracy improved from 30.20% to 36.60%. Saving checkpoint...\n",
      "\u001b[0m"
     ]
    },
    {
     "name": "stderr",
     "output_type": "stream",
     "text": [
      "Epoch 4/10: 100%|██████████| 16/16 [00:03<00:00,  4.12 batch/s, loss=1.3455]\n",
      "Validating: 100%|██████████| 4/4 [00:00<00:00, 10.88 batch/s]\n"
     ]
    },
    {
     "name": "stdout",
     "output_type": "stream",
     "text": [
      "\u001b[1m\u001b[36mBest valid accuracy improved from 36.60% to 40.70%. Saving checkpoint...\n",
      "\u001b[0m"
     ]
    },
    {
     "name": "stderr",
     "output_type": "stream",
     "text": [
      "Epoch 5/10: 100%|██████████| 16/16 [00:03<00:00,  4.12 batch/s, loss=1.1474]\n",
      "Validating: 100%|██████████| 4/4 [00:00<00:00, 10.86 batch/s]\n"
     ]
    },
    {
     "name": "stdout",
     "output_type": "stream",
     "text": [
      "\u001b[1m\u001b[36mBest valid accuracy improved from 40.70% to 41.70%. Saving checkpoint...\n",
      "\u001b[0m"
     ]
    },
    {
     "name": "stderr",
     "output_type": "stream",
     "text": [
      "Epoch 6/10: 100%|██████████| 16/16 [00:03<00:00,  4.12 batch/s, loss=0.8932]\n",
      "Validating: 100%|██████████| 4/4 [00:00<00:00, 10.87 batch/s]\n"
     ]
    },
    {
     "name": "stdout",
     "output_type": "stream",
     "text": [
      "\u001b[1m\u001b[36mBest valid accuracy improved from 41.70% to 45.50%. Saving checkpoint...\n",
      "\u001b[0m"
     ]
    },
    {
     "name": "stderr",
     "output_type": "stream",
     "text": [
      "Epoch 7/10: 100%|██████████| 16/16 [00:03<00:00,  4.13 batch/s, loss=0.7828]\n",
      "Validating: 100%|██████████| 4/4 [00:00<00:00, 10.89 batch/s]\n",
      "Epoch 8/10: 100%|██████████| 16/16 [00:03<00:00,  4.13 batch/s, loss=0.6475]\n",
      "Validating: 100%|██████████| 4/4 [00:00<00:00, 10.83 batch/s]\n"
     ]
    },
    {
     "name": "stdout",
     "output_type": "stream",
     "text": [
      "\u001b[1m\u001b[36mBest valid accuracy improved from 45.50% to 47.30%. Saving checkpoint...\n",
      "\u001b[0m"
     ]
    },
    {
     "name": "stderr",
     "output_type": "stream",
     "text": [
      "Epoch 9/10: 100%|██████████| 16/16 [00:03<00:00,  4.13 batch/s, loss=0.4319]\n",
      "Validating: 100%|██████████| 4/4 [00:00<00:00, 10.88 batch/s]\n",
      "Epoch 10/10: 100%|██████████| 16/16 [00:03<00:00,  4.12 batch/s, loss=0.4457]\n",
      "Validating: 100%|██████████| 4/4 [00:00<00:00, 10.89 batch/s]\n",
      "Testing: 100%|██████████| 40/40 [00:03<00:00, 10.62 batch/s]\n"
     ]
    },
    {
     "name": "stdout",
     "output_type": "stream",
     "text": [
      "\u001b[1m\u001b[95mRunning run r50,epochs:10,bs:256,clipping,eqsize/2\n",
      "\u001b[0mmean_num_clusters 27.7\n"
     ]
    },
    {
     "name": "stderr",
     "output_type": "stream",
     "text": [
      "Epoch 1/10: 100%|██████████| 32/32 [00:08<00:00,  3.82 batch/s, loss=2.3568]\n",
      "Validating: 100%|██████████| 8/8 [00:01<00:00,  7.66 batch/s]\n"
     ]
    },
    {
     "name": "stdout",
     "output_type": "stream",
     "text": [
      "\u001b[1m\u001b[36mBest valid accuracy improved from 0.00% to 34.65%. Saving checkpoint...\n",
      "\u001b[0m"
     ]
    },
    {
     "name": "stderr",
     "output_type": "stream",
     "text": [
      "Epoch 2/10: 100%|██████████| 32/32 [00:07<00:00,  4.04 batch/s, loss=1.7990]\n",
      "Validating: 100%|██████████| 8/8 [00:00<00:00, 10.73 batch/s]\n"
     ]
    },
    {
     "name": "stdout",
     "output_type": "stream",
     "text": [
      "\u001b[1m\u001b[36mBest valid accuracy improved from 34.65% to 39.85%. Saving checkpoint...\n",
      "\u001b[0m"
     ]
    },
    {
     "name": "stderr",
     "output_type": "stream",
     "text": [
      "Epoch 3/10: 100%|██████████| 32/32 [00:07<00:00,  4.09 batch/s, loss=1.5365]\n",
      "Validating: 100%|██████████| 8/8 [00:00<00:00, 10.82 batch/s]\n"
     ]
    },
    {
     "name": "stdout",
     "output_type": "stream",
     "text": [
      "\u001b[1m\u001b[36mBest valid accuracy improved from 39.85% to 43.55%. Saving checkpoint...\n",
      "\u001b[0m"
     ]
    },
    {
     "name": "stderr",
     "output_type": "stream",
     "text": [
      "Epoch 4/10: 100%|██████████| 32/32 [00:07<00:00,  4.08 batch/s, loss=1.4303]\n",
      "Validating: 100%|██████████| 8/8 [00:00<00:00, 10.86 batch/s]\n",
      "Epoch 5/10: 100%|██████████| 32/32 [00:07<00:00,  4.04 batch/s, loss=1.2700]\n",
      "Validating: 100%|██████████| 8/8 [00:00<00:00, 10.60 batch/s]\n"
     ]
    },
    {
     "name": "stdout",
     "output_type": "stream",
     "text": [
      "\u001b[1m\u001b[36mBest valid accuracy improved from 43.55% to 48.80%. Saving checkpoint...\n",
      "\u001b[0m"
     ]
    },
    {
     "name": "stderr",
     "output_type": "stream",
     "text": [
      "Epoch 6/10: 100%|██████████| 32/32 [00:07<00:00,  4.03 batch/s, loss=1.1333]\n",
      "Validating: 100%|██████████| 8/8 [00:00<00:00, 10.83 batch/s]\n"
     ]
    },
    {
     "name": "stdout",
     "output_type": "stream",
     "text": [
      "\u001b[1m\u001b[36mBest valid accuracy improved from 48.80% to 49.90%. Saving checkpoint...\n",
      "\u001b[0m"
     ]
    },
    {
     "name": "stderr",
     "output_type": "stream",
     "text": [
      "Epoch 7/10: 100%|██████████| 32/32 [00:07<00:00,  4.02 batch/s, loss=0.8559]\n",
      "Validating: 100%|██████████| 8/8 [00:00<00:00, 10.69 batch/s]\n",
      "Epoch 8/10: 100%|██████████| 32/32 [00:08<00:00,  4.00 batch/s, loss=0.7273]\n",
      "Validating: 100%|██████████| 8/8 [00:00<00:00, 10.56 batch/s]\n"
     ]
    },
    {
     "name": "stdout",
     "output_type": "stream",
     "text": [
      "\u001b[1m\u001b[36mBest valid accuracy improved from 49.90% to 52.00%. Saving checkpoint...\n",
      "\u001b[0m"
     ]
    },
    {
     "name": "stderr",
     "output_type": "stream",
     "text": [
      "Epoch 9/10: 100%|██████████| 32/32 [00:07<00:00,  4.04 batch/s, loss=0.5504]\n",
      "Validating: 100%|██████████| 8/8 [00:00<00:00, 10.85 batch/s]\n"
     ]
    },
    {
     "name": "stdout",
     "output_type": "stream",
     "text": [
      "\u001b[1m\u001b[36mBest valid accuracy improved from 52.00% to 52.35%. Saving checkpoint...\n",
      "\u001b[0m"
     ]
    },
    {
     "name": "stderr",
     "output_type": "stream",
     "text": [
      "Epoch 10/10: 100%|██████████| 32/32 [00:07<00:00,  4.07 batch/s, loss=0.4568]\n",
      "Validating: 100%|██████████| 8/8 [00:00<00:00, 10.62 batch/s]\n",
      "Testing: 100%|██████████| 40/40 [00:03<00:00, 10.69 batch/s]\n"
     ]
    },
    {
     "name": "stdout",
     "output_type": "stream",
     "text": [
      "\u001b[1m\u001b[95mRunning run r50,epochs:10,bs:256,clipping,eqsize/3\n",
      "\u001b[0mmean_num_clusters 27.7\n"
     ]
    },
    {
     "name": "stderr",
     "output_type": "stream",
     "text": [
      "Epoch 1/10: 100%|██████████| 47/47 [00:12<00:00,  3.87 batch/s, loss=2.1912]\n",
      "Validating: 100%|██████████| 12/12 [00:01<00:00,  8.62 batch/s]\n"
     ]
    },
    {
     "name": "stdout",
     "output_type": "stream",
     "text": [
      "\u001b[1m\u001b[36mBest valid accuracy improved from 0.00% to 36.20%. Saving checkpoint...\n",
      "\u001b[0m"
     ]
    },
    {
     "name": "stderr",
     "output_type": "stream",
     "text": [
      "Epoch 2/10: 100%|██████████| 47/47 [00:11<00:00,  4.01 batch/s, loss=1.6319]\n",
      "Validating: 100%|██████████| 12/12 [00:01<00:00, 10.75 batch/s]\n"
     ]
    },
    {
     "name": "stdout",
     "output_type": "stream",
     "text": [
      "\u001b[1m\u001b[36mBest valid accuracy improved from 36.20% to 44.03%. Saving checkpoint...\n",
      "\u001b[0m"
     ]
    },
    {
     "name": "stderr",
     "output_type": "stream",
     "text": [
      "Epoch 3/10: 100%|██████████| 47/47 [00:11<00:00,  3.97 batch/s, loss=1.5084]\n",
      "Validating: 100%|██████████| 12/12 [00:01<00:00, 10.51 batch/s]\n"
     ]
    },
    {
     "name": "stdout",
     "output_type": "stream",
     "text": [
      "\u001b[1m\u001b[36mBest valid accuracy improved from 44.03% to 47.60%. Saving checkpoint...\n",
      "\u001b[0m"
     ]
    },
    {
     "name": "stderr",
     "output_type": "stream",
     "text": [
      "Epoch 4/10: 100%|██████████| 47/47 [00:11<00:00,  3.99 batch/s, loss=1.3406]\n",
      "Validating: 100%|██████████| 12/12 [00:01<00:00, 10.55 batch/s]\n"
     ]
    },
    {
     "name": "stdout",
     "output_type": "stream",
     "text": [
      "\u001b[1m\u001b[36mBest valid accuracy improved from 47.60% to 49.63%. Saving checkpoint...\n",
      "\u001b[0m"
     ]
    },
    {
     "name": "stderr",
     "output_type": "stream",
     "text": [
      "Epoch 5/10: 100%|██████████| 47/47 [00:11<00:00,  4.02 batch/s, loss=1.1418]\n",
      "Validating: 100%|██████████| 12/12 [00:01<00:00, 10.65 batch/s]\n"
     ]
    },
    {
     "name": "stdout",
     "output_type": "stream",
     "text": [
      "\u001b[1m\u001b[36mBest valid accuracy improved from 49.63% to 52.83%. Saving checkpoint...\n",
      "\u001b[0m"
     ]
    },
    {
     "name": "stderr",
     "output_type": "stream",
     "text": [
      "Epoch 6/10: 100%|██████████| 47/47 [00:11<00:00,  4.00 batch/s, loss=0.9812]\n",
      "Validating: 100%|██████████| 12/12 [00:01<00:00, 10.51 batch/s]\n"
     ]
    },
    {
     "name": "stdout",
     "output_type": "stream",
     "text": [
      "\u001b[1m\u001b[36mBest valid accuracy improved from 52.83% to 55.37%. Saving checkpoint...\n",
      "\u001b[0m"
     ]
    },
    {
     "name": "stderr",
     "output_type": "stream",
     "text": [
      "Epoch 7/10: 100%|██████████| 47/47 [00:11<00:00,  4.01 batch/s, loss=0.8030]\n",
      "Validating: 100%|██████████| 12/12 [00:01<00:00, 10.70 batch/s]\n"
     ]
    },
    {
     "name": "stdout",
     "output_type": "stream",
     "text": [
      "\u001b[1m\u001b[36mBest valid accuracy improved from 55.37% to 56.20%. Saving checkpoint...\n",
      "\u001b[0m"
     ]
    },
    {
     "name": "stderr",
     "output_type": "stream",
     "text": [
      "Epoch 8/10: 100%|██████████| 47/47 [00:11<00:00,  4.05 batch/s, loss=0.6434]\n",
      "Validating: 100%|██████████| 12/12 [00:01<00:00, 10.46 batch/s]\n"
     ]
    },
    {
     "name": "stdout",
     "output_type": "stream",
     "text": [
      "\u001b[1m\u001b[36mBest valid accuracy improved from 56.20% to 57.60%. Saving checkpoint...\n",
      "\u001b[0m"
     ]
    },
    {
     "name": "stderr",
     "output_type": "stream",
     "text": [
      "Epoch 9/10: 100%|██████████| 47/47 [00:11<00:00,  3.97 batch/s, loss=0.5247]\n",
      "Validating: 100%|██████████| 12/12 [00:01<00:00, 10.55 batch/s]\n",
      "Epoch 10/10: 100%|██████████| 47/47 [00:11<00:00,  3.99 batch/s, loss=0.4405]\n",
      "Validating: 100%|██████████| 12/12 [00:01<00:00, 10.55 batch/s]\n",
      "Testing: 100%|██████████| 40/40 [00:03<00:00, 10.81 batch/s]\n"
     ]
    },
    {
     "name": "stdout",
     "output_type": "stream",
     "text": [
      "\u001b[1m\u001b[95mRunning run r50,epochs:10,bs:256,clipping,eqsize/4\n",
      "\u001b[0mmean_num_clusters 27.7\n"
     ]
    },
    {
     "name": "stderr",
     "output_type": "stream",
     "text": [
      "Epoch 1/10: 100%|██████████| 63/63 [00:16<00:00,  3.90 batch/s, loss=2.0563]\n",
      "Validating: 100%|██████████| 16/16 [00:01<00:00, 10.50 batch/s]\n"
     ]
    },
    {
     "name": "stdout",
     "output_type": "stream",
     "text": [
      "\u001b[1m\u001b[36mBest valid accuracy improved from 0.00% to 39.05%. Saving checkpoint...\n",
      "\u001b[0m"
     ]
    },
    {
     "name": "stderr",
     "output_type": "stream",
     "text": [
      "Epoch 2/10: 100%|██████████| 63/63 [00:15<00:00,  4.01 batch/s, loss=1.7548]\n",
      "Validating: 100%|██████████| 16/16 [00:01<00:00, 10.76 batch/s]\n"
     ]
    },
    {
     "name": "stdout",
     "output_type": "stream",
     "text": [
      "\u001b[1m\u001b[36mBest valid accuracy improved from 39.05% to 43.80%. Saving checkpoint...\n",
      "\u001b[0m"
     ]
    },
    {
     "name": "stderr",
     "output_type": "stream",
     "text": [
      "Epoch 3/10: 100%|██████████| 63/63 [00:15<00:00,  4.01 batch/s, loss=1.4569]\n",
      "Validating: 100%|██████████| 16/16 [00:01<00:00, 10.80 batch/s]\n"
     ]
    },
    {
     "name": "stdout",
     "output_type": "stream",
     "text": [
      "\u001b[1m\u001b[36mBest valid accuracy improved from 43.80% to 51.38%. Saving checkpoint...\n",
      "\u001b[0m"
     ]
    },
    {
     "name": "stderr",
     "output_type": "stream",
     "text": [
      "Epoch 4/10: 100%|██████████| 63/63 [00:15<00:00,  4.04 batch/s, loss=1.2260]\n",
      "Validating: 100%|██████████| 16/16 [00:01<00:00, 10.85 batch/s]\n"
     ]
    },
    {
     "name": "stdout",
     "output_type": "stream",
     "text": [
      "\u001b[1m\u001b[36mBest valid accuracy improved from 51.38% to 51.75%. Saving checkpoint...\n",
      "\u001b[0m"
     ]
    },
    {
     "name": "stderr",
     "output_type": "stream",
     "text": [
      "Epoch 5/10: 100%|██████████| 63/63 [00:15<00:00,  4.05 batch/s, loss=1.1185]\n",
      "Validating: 100%|██████████| 16/16 [00:01<00:00, 10.78 batch/s]\n"
     ]
    },
    {
     "name": "stdout",
     "output_type": "stream",
     "text": [
      "\u001b[1m\u001b[36mBest valid accuracy improved from 51.75% to 53.70%. Saving checkpoint...\n",
      "\u001b[0m"
     ]
    },
    {
     "name": "stderr",
     "output_type": "stream",
     "text": [
      "Epoch 6/10: 100%|██████████| 63/63 [00:15<00:00,  4.04 batch/s, loss=0.9766]\n",
      "Validating: 100%|██████████| 16/16 [00:01<00:00, 10.77 batch/s]\n"
     ]
    },
    {
     "name": "stdout",
     "output_type": "stream",
     "text": [
      "\u001b[1m\u001b[36mBest valid accuracy improved from 53.70% to 57.35%. Saving checkpoint...\n",
      "\u001b[0m"
     ]
    },
    {
     "name": "stderr",
     "output_type": "stream",
     "text": [
      "Epoch 7/10: 100%|██████████| 63/63 [00:15<00:00,  4.02 batch/s, loss=0.8325]\n",
      "Validating: 100%|██████████| 16/16 [00:01<00:00, 10.77 batch/s]\n",
      "Epoch 8/10: 100%|██████████| 63/63 [00:15<00:00,  4.03 batch/s, loss=0.6834]\n",
      "Validating: 100%|██████████| 16/16 [00:01<00:00, 10.76 batch/s]\n"
     ]
    },
    {
     "name": "stdout",
     "output_type": "stream",
     "text": [
      "\u001b[1m\u001b[36mBest valid accuracy improved from 57.35% to 58.58%. Saving checkpoint...\n",
      "\u001b[0m"
     ]
    },
    {
     "name": "stderr",
     "output_type": "stream",
     "text": [
      "Epoch 9/10: 100%|██████████| 63/63 [00:15<00:00,  4.05 batch/s, loss=0.5551]\n",
      "Validating: 100%|██████████| 16/16 [00:01<00:00, 10.80 batch/s]\n",
      "Epoch 10/10: 100%|██████████| 63/63 [00:15<00:00,  4.01 batch/s, loss=0.4637]\n",
      "Validating: 100%|██████████| 16/16 [00:01<00:00, 10.78 batch/s]\n"
     ]
    },
    {
     "name": "stdout",
     "output_type": "stream",
     "text": [
      "\u001b[1m\u001b[36mBest valid accuracy improved from 58.58% to 59.52%. Saving checkpoint...\n",
      "\u001b[0m"
     ]
    },
    {
     "name": "stderr",
     "output_type": "stream",
     "text": [
      "Testing: 100%|██████████| 40/40 [00:03<00:00, 11.16 batch/s]\n"
     ]
    },
    {
     "name": "stdout",
     "output_type": "stream",
     "text": [
      "\u001b[1m\u001b[95mRunning run r50,epochs:10,bs:256,clipping,eqsize/5\n",
      "\u001b[0mmean_num_clusters 27.7\n"
     ]
    },
    {
     "name": "stderr",
     "output_type": "stream",
     "text": [
      "Epoch 1/10: 100%|██████████| 79/79 [00:20<00:00,  3.81 batch/s, loss=2.1610]\n",
      "Validating: 100%|██████████| 20/20 [00:02<00:00,  6.92 batch/s]\n"
     ]
    },
    {
     "name": "stdout",
     "output_type": "stream",
     "text": [
      "\u001b[1m\u001b[36mBest valid accuracy improved from 0.00% to 28.92%. Saving checkpoint...\n",
      "\u001b[0m"
     ]
    },
    {
     "name": "stderr",
     "output_type": "stream",
     "text": [
      "Epoch 2/10: 100%|██████████| 79/79 [00:19<00:00,  4.05 batch/s, loss=1.6556]\n",
      "Validating: 100%|██████████| 20/20 [00:01<00:00, 10.85 batch/s]\n"
     ]
    },
    {
     "name": "stdout",
     "output_type": "stream",
     "text": [
      "\u001b[1m\u001b[36mBest valid accuracy improved from 28.92% to 46.68%. Saving checkpoint...\n",
      "\u001b[0m"
     ]
    },
    {
     "name": "stderr",
     "output_type": "stream",
     "text": [
      "Epoch 3/10: 100%|██████████| 79/79 [00:19<00:00,  4.05 batch/s, loss=1.4493]\n",
      "Validating: 100%|██████████| 20/20 [00:01<00:00, 10.81 batch/s]\n"
     ]
    },
    {
     "name": "stdout",
     "output_type": "stream",
     "text": [
      "\u001b[1m\u001b[36mBest valid accuracy improved from 46.68% to 49.78%. Saving checkpoint...\n",
      "\u001b[0m"
     ]
    },
    {
     "name": "stderr",
     "output_type": "stream",
     "text": [
      "Epoch 4/10: 100%|██████████| 79/79 [00:19<00:00,  4.05 batch/s, loss=1.2633]\n",
      "Validating: 100%|██████████| 20/20 [00:01<00:00, 10.84 batch/s]\n"
     ]
    },
    {
     "name": "stdout",
     "output_type": "stream",
     "text": [
      "\u001b[1m\u001b[36mBest valid accuracy improved from 49.78% to 53.28%. Saving checkpoint...\n",
      "\u001b[0m"
     ]
    },
    {
     "name": "stderr",
     "output_type": "stream",
     "text": [
      "Epoch 5/10: 100%|██████████| 79/79 [00:19<00:00,  4.05 batch/s, loss=1.1050]\n",
      "Validating: 100%|██████████| 20/20 [00:01<00:00, 10.86 batch/s]\n"
     ]
    },
    {
     "name": "stdout",
     "output_type": "stream",
     "text": [
      "\u001b[1m\u001b[36mBest valid accuracy improved from 53.28% to 58.62%. Saving checkpoint...\n",
      "\u001b[0m"
     ]
    },
    {
     "name": "stderr",
     "output_type": "stream",
     "text": [
      "Epoch 6/10: 100%|██████████| 79/79 [00:19<00:00,  4.05 batch/s, loss=0.9278]\n",
      "Validating: 100%|██████████| 20/20 [00:01<00:00, 10.83 batch/s]\n"
     ]
    },
    {
     "name": "stdout",
     "output_type": "stream",
     "text": [
      "\u001b[1m\u001b[36mBest valid accuracy improved from 58.62% to 59.54%. Saving checkpoint...\n",
      "\u001b[0m"
     ]
    },
    {
     "name": "stderr",
     "output_type": "stream",
     "text": [
      "Epoch 7/10: 100%|██████████| 79/79 [00:19<00:00,  4.05 batch/s, loss=0.7905]\n",
      "Validating: 100%|██████████| 20/20 [00:01<00:00, 10.86 batch/s]\n"
     ]
    },
    {
     "name": "stdout",
     "output_type": "stream",
     "text": [
      "\u001b[1m\u001b[36mBest valid accuracy improved from 59.54% to 62.28%. Saving checkpoint...\n",
      "\u001b[0m"
     ]
    },
    {
     "name": "stderr",
     "output_type": "stream",
     "text": [
      "Epoch 8/10: 100%|██████████| 79/79 [00:19<00:00,  4.05 batch/s, loss=0.6486]\n",
      "Validating: 100%|██████████| 20/20 [00:01<00:00, 10.78 batch/s]\n",
      "Epoch 9/10: 100%|██████████| 79/79 [00:19<00:00,  4.05 batch/s, loss=0.5459]\n",
      "Validating: 100%|██████████| 20/20 [00:01<00:00, 10.82 batch/s]\n"
     ]
    },
    {
     "name": "stdout",
     "output_type": "stream",
     "text": [
      "\u001b[1m\u001b[36mBest valid accuracy improved from 62.28% to 63.28%. Saving checkpoint...\n",
      "\u001b[0m"
     ]
    },
    {
     "name": "stderr",
     "output_type": "stream",
     "text": [
      "Epoch 10/10: 100%|██████████| 79/79 [00:19<00:00,  3.98 batch/s, loss=0.4308]\n",
      "Validating: 100%|██████████| 20/20 [00:01<00:00, 10.12 batch/s]\n",
      "Testing: 100%|██████████| 40/40 [00:03<00:00, 10.29 batch/s]\n"
     ]
    },
    {
     "name": "stdout",
     "output_type": "stream",
     "text": [
      "\u001b[1m\u001b[95mRunning run r50,epochs:10,bs:256,clipping,eqsize/6\n",
      "\u001b[0mmean_num_clusters 27.7\n"
     ]
    },
    {
     "name": "stderr",
     "output_type": "stream",
     "text": [
      "Epoch 1/10: 100%|██████████| 94/94 [00:25<00:00,  3.62 batch/s, loss=1.9424]\n",
      "Validating: 100%|██████████| 24/24 [00:03<00:00,  7.16 batch/s]\n"
     ]
    },
    {
     "name": "stdout",
     "output_type": "stream",
     "text": [
      "\u001b[1m\u001b[36mBest valid accuracy improved from 0.00% to 44.30%. Saving checkpoint...\n",
      "\u001b[0m"
     ]
    },
    {
     "name": "stderr",
     "output_type": "stream",
     "text": [
      "Epoch 2/10: 100%|██████████| 94/94 [00:23<00:00,  3.98 batch/s, loss=1.5190]\n",
      "Validating: 100%|██████████| 24/24 [00:02<00:00, 10.51 batch/s]\n"
     ]
    },
    {
     "name": "stdout",
     "output_type": "stream",
     "text": [
      "\u001b[1m\u001b[36mBest valid accuracy improved from 44.30% to 49.40%. Saving checkpoint...\n",
      "\u001b[0m"
     ]
    },
    {
     "name": "stderr",
     "output_type": "stream",
     "text": [
      "Epoch 3/10: 100%|██████████| 94/94 [00:23<00:00,  3.97 batch/s, loss=1.3393]\n",
      "Validating: 100%|██████████| 24/24 [00:02<00:00, 10.43 batch/s]\n"
     ]
    },
    {
     "name": "stdout",
     "output_type": "stream",
     "text": [
      "\u001b[1m\u001b[36mBest valid accuracy improved from 49.40% to 54.42%. Saving checkpoint...\n",
      "\u001b[0m"
     ]
    },
    {
     "name": "stderr",
     "output_type": "stream",
     "text": [
      "Epoch 4/10: 100%|██████████| 94/94 [00:23<00:00,  3.99 batch/s, loss=1.2219]\n",
      "Validating: 100%|██████████| 24/24 [00:02<00:00, 10.72 batch/s]\n"
     ]
    },
    {
     "name": "stdout",
     "output_type": "stream",
     "text": [
      "\u001b[1m\u001b[36mBest valid accuracy improved from 54.42% to 58.37%. Saving checkpoint...\n",
      "\u001b[0m"
     ]
    },
    {
     "name": "stderr",
     "output_type": "stream",
     "text": [
      "Epoch 5/10: 100%|██████████| 94/94 [00:23<00:00,  4.02 batch/s, loss=1.0686]\n",
      "Validating: 100%|██████████| 24/24 [00:02<00:00, 10.76 batch/s]\n",
      "Epoch 6/10: 100%|██████████| 94/94 [00:23<00:00,  3.99 batch/s, loss=0.9223]\n",
      "Validating: 100%|██████████| 24/24 [00:02<00:00, 10.74 batch/s]\n"
     ]
    },
    {
     "name": "stdout",
     "output_type": "stream",
     "text": [
      "\u001b[1m\u001b[36mBest valid accuracy improved from 58.37% to 60.42%. Saving checkpoint...\n",
      "\u001b[0m"
     ]
    },
    {
     "name": "stderr",
     "output_type": "stream",
     "text": [
      "Epoch 7/10: 100%|██████████| 94/94 [00:23<00:00,  4.02 batch/s, loss=0.7988]\n",
      "Validating: 100%|██████████| 24/24 [00:02<00:00, 10.83 batch/s]\n"
     ]
    },
    {
     "name": "stdout",
     "output_type": "stream",
     "text": [
      "\u001b[1m\u001b[36mBest valid accuracy improved from 60.42% to 63.07%. Saving checkpoint...\n",
      "\u001b[0m"
     ]
    },
    {
     "name": "stderr",
     "output_type": "stream",
     "text": [
      "Epoch 8/10: 100%|██████████| 94/94 [00:23<00:00,  4.02 batch/s, loss=0.7001]\n",
      "Validating: 100%|██████████| 24/24 [00:02<00:00, 10.76 batch/s]\n"
     ]
    },
    {
     "name": "stdout",
     "output_type": "stream",
     "text": [
      "\u001b[1m\u001b[36mBest valid accuracy improved from 63.07% to 63.90%. Saving checkpoint...\n",
      "\u001b[0m"
     ]
    },
    {
     "name": "stderr",
     "output_type": "stream",
     "text": [
      "Epoch 9/10: 100%|██████████| 94/94 [00:23<00:00,  3.99 batch/s, loss=0.5377]\n",
      "Validating: 100%|██████████| 24/24 [00:02<00:00, 10.65 batch/s]\n",
      "Epoch 10/10: 100%|██████████| 94/94 [00:23<00:00,  3.99 batch/s, loss=0.4593]\n",
      "Validating: 100%|██████████| 24/24 [00:02<00:00, 10.68 batch/s]\n"
     ]
    },
    {
     "name": "stdout",
     "output_type": "stream",
     "text": [
      "\u001b[1m\u001b[36mBest valid accuracy improved from 63.90% to 65.10%. Saving checkpoint...\n",
      "\u001b[0m"
     ]
    },
    {
     "name": "stderr",
     "output_type": "stream",
     "text": [
      "Testing: 100%|██████████| 40/40 [00:03<00:00, 10.95 batch/s]\n"
     ]
    },
    {
     "name": "stdout",
     "output_type": "stream",
     "text": [
      "\u001b[1m\u001b[95mRunning run r50,epochs:10,bs:256,clipping,eqsize/7\n",
      "\u001b[0mmean_num_clusters 27.7\n"
     ]
    },
    {
     "name": "stderr",
     "output_type": "stream",
     "text": [
      "Epoch 1/10: 100%|██████████| 110/110 [00:29<00:00,  3.77 batch/s, loss=1.9301]\n",
      "Validating: 100%|██████████| 28/28 [00:03<00:00,  7.28 batch/s]\n"
     ]
    },
    {
     "name": "stdout",
     "output_type": "stream",
     "text": [
      "\u001b[1m\u001b[36mBest valid accuracy improved from 0.00% to 41.69%. Saving checkpoint...\n",
      "\u001b[0m"
     ]
    },
    {
     "name": "stderr",
     "output_type": "stream",
     "text": [
      "Epoch 2/10: 100%|██████████| 110/110 [00:27<00:00,  4.02 batch/s, loss=1.6453]\n",
      "Validating: 100%|██████████| 28/28 [00:02<00:00, 10.61 batch/s]\n"
     ]
    },
    {
     "name": "stdout",
     "output_type": "stream",
     "text": [
      "\u001b[1m\u001b[36mBest valid accuracy improved from 41.69% to 42.19%. Saving checkpoint...\n",
      "\u001b[0m"
     ]
    },
    {
     "name": "stderr",
     "output_type": "stream",
     "text": [
      "Epoch 3/10: 100%|██████████| 110/110 [00:27<00:00,  4.00 batch/s, loss=1.4680]\n",
      "Validating: 100%|██████████| 28/28 [00:02<00:00, 10.79 batch/s]\n"
     ]
    },
    {
     "name": "stdout",
     "output_type": "stream",
     "text": [
      "\u001b[1m\u001b[36mBest valid accuracy improved from 42.19% to 52.57%. Saving checkpoint...\n",
      "\u001b[0m"
     ]
    },
    {
     "name": "stderr",
     "output_type": "stream",
     "text": [
      "Epoch 4/10: 100%|██████████| 110/110 [00:27<00:00,  4.01 batch/s, loss=1.1804]\n",
      "Validating: 100%|██████████| 28/28 [00:02<00:00, 10.76 batch/s]\n"
     ]
    },
    {
     "name": "stdout",
     "output_type": "stream",
     "text": [
      "\u001b[1m\u001b[36mBest valid accuracy improved from 52.57% to 56.43%. Saving checkpoint...\n",
      "\u001b[0m"
     ]
    },
    {
     "name": "stderr",
     "output_type": "stream",
     "text": [
      "Epoch 5/10: 100%|██████████| 110/110 [00:27<00:00,  4.02 batch/s, loss=1.0426]\n",
      "Validating: 100%|██████████| 28/28 [00:02<00:00, 10.63 batch/s]\n"
     ]
    },
    {
     "name": "stdout",
     "output_type": "stream",
     "text": [
      "\u001b[1m\u001b[36mBest valid accuracy improved from 56.43% to 60.30%. Saving checkpoint...\n",
      "\u001b[0m"
     ]
    },
    {
     "name": "stderr",
     "output_type": "stream",
     "text": [
      "Epoch 6/10: 100%|██████████| 110/110 [00:27<00:00,  4.01 batch/s, loss=0.8752]\n",
      "Validating: 100%|██████████| 28/28 [00:02<00:00, 10.76 batch/s]\n"
     ]
    },
    {
     "name": "stdout",
     "output_type": "stream",
     "text": [
      "\u001b[1m\u001b[36mBest valid accuracy improved from 60.30% to 62.76%. Saving checkpoint...\n",
      "\u001b[0m"
     ]
    },
    {
     "name": "stderr",
     "output_type": "stream",
     "text": [
      "Epoch 7/10: 100%|██████████| 110/110 [00:27<00:00,  4.01 batch/s, loss=0.7352]\n",
      "Validating: 100%|██████████| 28/28 [00:02<00:00, 10.81 batch/s]\n"
     ]
    },
    {
     "name": "stdout",
     "output_type": "stream",
     "text": [
      "\u001b[1m\u001b[36mBest valid accuracy improved from 62.76% to 64.31%. Saving checkpoint...\n",
      "\u001b[0m"
     ]
    },
    {
     "name": "stderr",
     "output_type": "stream",
     "text": [
      "Epoch 8/10: 100%|██████████| 110/110 [00:27<00:00,  4.01 batch/s, loss=0.5970]\n",
      "Validating: 100%|██████████| 28/28 [00:02<00:00, 10.72 batch/s]\n"
     ]
    },
    {
     "name": "stdout",
     "output_type": "stream",
     "text": [
      "\u001b[1m\u001b[36mBest valid accuracy improved from 64.31% to 65.29%. Saving checkpoint...\n",
      "\u001b[0m"
     ]
    },
    {
     "name": "stderr",
     "output_type": "stream",
     "text": [
      "Epoch 9/10: 100%|██████████| 110/110 [00:27<00:00,  3.98 batch/s, loss=0.4944]\n",
      "Validating: 100%|██████████| 28/28 [00:02<00:00, 10.80 batch/s]\n"
     ]
    },
    {
     "name": "stdout",
     "output_type": "stream",
     "text": [
      "\u001b[1m\u001b[36mBest valid accuracy improved from 65.29% to 66.47%. Saving checkpoint...\n",
      "\u001b[0m"
     ]
    },
    {
     "name": "stderr",
     "output_type": "stream",
     "text": [
      "Epoch 10/10: 100%|██████████| 110/110 [00:27<00:00,  4.00 batch/s, loss=0.4061]\n",
      "Validating: 100%|██████████| 28/28 [00:02<00:00, 10.71 batch/s]\n",
      "Testing: 100%|██████████| 40/40 [00:03<00:00, 11.08 batch/s]\n"
     ]
    },
    {
     "name": "stdout",
     "output_type": "stream",
     "text": [
      "\u001b[1m\u001b[95mRunning run r50,epochs:10,bs:256,clipping,eqsize/8\n",
      "\u001b[0mmean_num_clusters 27.7\n"
     ]
    },
    {
     "name": "stderr",
     "output_type": "stream",
     "text": [
      "Epoch 1/10: 100%|██████████| 125/125 [00:31<00:00,  3.98 batch/s, loss=1.8588]\n",
      "Validating: 100%|██████████| 32/32 [00:02<00:00, 10.77 batch/s]\n"
     ]
    },
    {
     "name": "stdout",
     "output_type": "stream",
     "text": [
      "\u001b[1m\u001b[36mBest valid accuracy improved from 0.00% to 45.71%. Saving checkpoint...\n",
      "\u001b[0m"
     ]
    },
    {
     "name": "stderr",
     "output_type": "stream",
     "text": [
      "Epoch 2/10: 100%|██████████| 125/125 [00:31<00:00,  3.96 batch/s, loss=1.4637]\n",
      "Validating: 100%|██████████| 32/32 [00:02<00:00, 10.77 batch/s]\n"
     ]
    },
    {
     "name": "stdout",
     "output_type": "stream",
     "text": [
      "\u001b[1m\u001b[36mBest valid accuracy improved from 45.71% to 52.50%. Saving checkpoint...\n",
      "\u001b[0m"
     ]
    },
    {
     "name": "stderr",
     "output_type": "stream",
     "text": [
      "Epoch 3/10: 100%|██████████| 125/125 [00:31<00:00,  3.99 batch/s, loss=1.1968]\n",
      "Validating: 100%|██████████| 32/32 [00:02<00:00, 10.76 batch/s]\n"
     ]
    },
    {
     "name": "stdout",
     "output_type": "stream",
     "text": [
      "\u001b[1m\u001b[36mBest valid accuracy improved from 52.50% to 58.21%. Saving checkpoint...\n",
      "\u001b[0m"
     ]
    },
    {
     "name": "stderr",
     "output_type": "stream",
     "text": [
      "Epoch 4/10: 100%|██████████| 125/125 [00:31<00:00,  4.00 batch/s, loss=1.0368]\n",
      "Validating: 100%|██████████| 32/32 [00:03<00:00, 10.47 batch/s]\n"
     ]
    },
    {
     "name": "stdout",
     "output_type": "stream",
     "text": [
      "\u001b[1m\u001b[36mBest valid accuracy improved from 58.21% to 61.92%. Saving checkpoint...\n",
      "\u001b[0m"
     ]
    },
    {
     "name": "stderr",
     "output_type": "stream",
     "text": [
      "Epoch 5/10: 100%|██████████| 125/125 [00:31<00:00,  3.97 batch/s, loss=0.9177]\n",
      "Validating: 100%|██████████| 32/32 [00:03<00:00, 10.49 batch/s]\n"
     ]
    },
    {
     "name": "stdout",
     "output_type": "stream",
     "text": [
      "\u001b[1m\u001b[36mBest valid accuracy improved from 61.92% to 64.95%. Saving checkpoint...\n",
      "\u001b[0m"
     ]
    },
    {
     "name": "stderr",
     "output_type": "stream",
     "text": [
      "Epoch 6/10: 100%|██████████| 125/125 [00:31<00:00,  4.00 batch/s, loss=0.7465]\n",
      "Validating: 100%|██████████| 32/32 [00:03<00:00, 10.51 batch/s]\n"
     ]
    },
    {
     "name": "stdout",
     "output_type": "stream",
     "text": [
      "\u001b[1m\u001b[36mBest valid accuracy improved from 64.95% to 66.74%. Saving checkpoint...\n",
      "\u001b[0m"
     ]
    },
    {
     "name": "stderr",
     "output_type": "stream",
     "text": [
      "Epoch 7/10: 100%|██████████| 125/125 [00:31<00:00,  3.99 batch/s, loss=0.6082]\n",
      "Validating: 100%|██████████| 32/32 [00:03<00:00, 10.41 batch/s]\n",
      "Epoch 8/10: 100%|██████████| 125/125 [00:31<00:00,  3.98 batch/s, loss=0.4972]\n",
      "Validating: 100%|██████████| 32/32 [00:03<00:00, 10.49 batch/s]\n"
     ]
    },
    {
     "name": "stdout",
     "output_type": "stream",
     "text": [
      "\u001b[1m\u001b[36mBest valid accuracy improved from 66.74% to 67.75%. Saving checkpoint...\n",
      "\u001b[0m"
     ]
    },
    {
     "name": "stderr",
     "output_type": "stream",
     "text": [
      "Epoch 9/10: 100%|██████████| 125/125 [00:31<00:00,  4.00 batch/s, loss=0.4026]\n",
      "Validating: 100%|██████████| 32/32 [00:03<00:00, 10.52 batch/s]\n"
     ]
    },
    {
     "name": "stdout",
     "output_type": "stream",
     "text": [
      "\u001b[1m\u001b[36mBest valid accuracy improved from 67.75% to 69.35%. Saving checkpoint...\n",
      "\u001b[0m"
     ]
    },
    {
     "name": "stderr",
     "output_type": "stream",
     "text": [
      "Epoch 10/10: 100%|██████████| 125/125 [00:31<00:00,  3.96 batch/s, loss=0.3180]\n",
      "Validating: 100%|██████████| 32/32 [00:03<00:00, 10.47 batch/s]\n",
      "Testing: 100%|██████████| 40/40 [00:03<00:00, 11.00 batch/s]\n"
     ]
    },
    {
     "name": "stdout",
     "output_type": "stream",
     "text": [
      "\u001b[1m\u001b[95mRunning run r50,epochs:10,bs:256,clipping,eqsize/9\n",
      "\u001b[0mmean_num_clusters 27.7\n"
     ]
    },
    {
     "name": "stderr",
     "output_type": "stream",
     "text": [
      "Epoch 1/10: 100%|██████████| 141/141 [00:35<00:00,  3.99 batch/s, loss=1.8741]\n",
      "Validating: 100%|██████████| 36/36 [00:04<00:00,  8.81 batch/s]\n"
     ]
    },
    {
     "name": "stdout",
     "output_type": "stream",
     "text": [
      "\u001b[1m\u001b[36mBest valid accuracy improved from 0.00% to 42.12%. Saving checkpoint...\n",
      "\u001b[0m"
     ]
    },
    {
     "name": "stderr",
     "output_type": "stream",
     "text": [
      "Epoch 2/10: 100%|██████████| 141/141 [00:35<00:00,  3.99 batch/s, loss=1.6882]\n",
      "Validating: 100%|██████████| 36/36 [00:03<00:00, 10.66 batch/s]\n"
     ]
    },
    {
     "name": "stdout",
     "output_type": "stream",
     "text": [
      "\u001b[1m\u001b[36mBest valid accuracy improved from 42.12% to 50.00%. Saving checkpoint...\n",
      "\u001b[0m"
     ]
    },
    {
     "name": "stderr",
     "output_type": "stream",
     "text": [
      "Epoch 3/10: 100%|██████████| 141/141 [00:35<00:00,  4.01 batch/s, loss=1.3742]\n",
      "Validating: 100%|██████████| 36/36 [00:03<00:00, 10.48 batch/s]\n"
     ]
    },
    {
     "name": "stdout",
     "output_type": "stream",
     "text": [
      "\u001b[1m\u001b[36mBest valid accuracy improved from 50.00% to 55.46%. Saving checkpoint...\n",
      "\u001b[0m"
     ]
    },
    {
     "name": "stderr",
     "output_type": "stream",
     "text": [
      "Epoch 4/10: 100%|██████████| 141/141 [00:35<00:00,  3.96 batch/s, loss=1.1527]\n",
      "Validating: 100%|██████████| 36/36 [00:03<00:00, 10.69 batch/s]\n"
     ]
    },
    {
     "name": "stdout",
     "output_type": "stream",
     "text": [
      "\u001b[1m\u001b[36mBest valid accuracy improved from 55.46% to 59.11%. Saving checkpoint...\n",
      "\u001b[0m"
     ]
    },
    {
     "name": "stderr",
     "output_type": "stream",
     "text": [
      "Epoch 5/10: 100%|██████████| 141/141 [00:35<00:00,  3.98 batch/s, loss=0.9997]\n",
      "Validating: 100%|██████████| 36/36 [00:03<00:00, 10.55 batch/s]\n"
     ]
    },
    {
     "name": "stdout",
     "output_type": "stream",
     "text": [
      "\u001b[1m\u001b[36mBest valid accuracy improved from 59.11% to 64.00%. Saving checkpoint...\n",
      "\u001b[0m"
     ]
    },
    {
     "name": "stderr",
     "output_type": "stream",
     "text": [
      "Epoch 6/10: 100%|██████████| 141/141 [00:35<00:00,  3.93 batch/s, loss=0.8120]\n",
      "Validating: 100%|██████████| 36/36 [00:03<00:00, 10.51 batch/s]\n"
     ]
    },
    {
     "name": "stdout",
     "output_type": "stream",
     "text": [
      "\u001b[1m\u001b[36mBest valid accuracy improved from 64.00% to 66.30%. Saving checkpoint...\n",
      "\u001b[0m"
     ]
    },
    {
     "name": "stderr",
     "output_type": "stream",
     "text": [
      "Epoch 7/10: 100%|██████████| 141/141 [00:35<00:00,  4.00 batch/s, loss=0.6855]\n",
      "Validating: 100%|██████████| 36/36 [00:03<00:00, 10.84 batch/s]\n"
     ]
    },
    {
     "name": "stdout",
     "output_type": "stream",
     "text": [
      "\u001b[1m\u001b[36mBest valid accuracy improved from 66.30% to 66.91%. Saving checkpoint...\n",
      "\u001b[0m"
     ]
    },
    {
     "name": "stderr",
     "output_type": "stream",
     "text": [
      "Epoch 8/10: 100%|██████████| 141/141 [00:35<00:00,  3.98 batch/s, loss=0.5640]\n",
      "Validating: 100%|██████████| 36/36 [00:03<00:00, 10.61 batch/s]\n"
     ]
    },
    {
     "name": "stdout",
     "output_type": "stream",
     "text": [
      "\u001b[1m\u001b[36mBest valid accuracy improved from 66.91% to 68.08%. Saving checkpoint...\n",
      "\u001b[0m"
     ]
    },
    {
     "name": "stderr",
     "output_type": "stream",
     "text": [
      "Epoch 9/10: 100%|██████████| 141/141 [00:35<00:00,  4.00 batch/s, loss=0.4557]\n",
      "Validating: 100%|██████████| 36/36 [00:03<00:00, 10.58 batch/s]\n"
     ]
    },
    {
     "name": "stdout",
     "output_type": "stream",
     "text": [
      "\u001b[1m\u001b[36mBest valid accuracy improved from 68.08% to 68.92%. Saving checkpoint...\n",
      "\u001b[0m"
     ]
    },
    {
     "name": "stderr",
     "output_type": "stream",
     "text": [
      "Epoch 10/10: 100%|██████████| 141/141 [00:35<00:00,  4.00 batch/s, loss=0.3837]\n",
      "Validating: 100%|██████████| 36/36 [00:03<00:00, 10.52 batch/s]\n",
      "Testing: 100%|██████████| 40/40 [00:03<00:00, 10.90 batch/s]\n"
     ]
    },
    {
     "name": "stdout",
     "output_type": "stream",
     "text": [
      "\u001b[1m\u001b[95mRunning run r50,epochs:10,bs:256,clipping,eqsize/10\n",
      "\u001b[0mmean_num_clusters 27.7\n"
     ]
    },
    {
     "name": "stderr",
     "output_type": "stream",
     "text": [
      "Epoch 1/10: 100%|██████████| 157/157 [00:39<00:00,  4.01 batch/s, loss=1.8000]\n",
      "Validating: 100%|██████████| 40/40 [00:04<00:00,  9.50 batch/s]\n"
     ]
    },
    {
     "name": "stdout",
     "output_type": "stream",
     "text": [
      "\u001b[1m\u001b[36mBest valid accuracy improved from 0.00% to 48.33%. Saving checkpoint...\n",
      "\u001b[0m"
     ]
    },
    {
     "name": "stderr",
     "output_type": "stream",
     "text": [
      "Epoch 2/10: 100%|██████████| 157/157 [00:39<00:00,  3.97 batch/s, loss=1.3649]\n",
      "Validating: 100%|██████████| 40/40 [00:03<00:00, 10.76 batch/s]\n"
     ]
    },
    {
     "name": "stdout",
     "output_type": "stream",
     "text": [
      "\u001b[1m\u001b[36mBest valid accuracy improved from 48.33% to 56.93%. Saving checkpoint...\n",
      "\u001b[0m"
     ]
    },
    {
     "name": "stderr",
     "output_type": "stream",
     "text": [
      "Epoch 3/10: 100%|██████████| 157/157 [00:39<00:00,  3.98 batch/s, loss=1.1132]\n",
      "Validating: 100%|██████████| 40/40 [00:03<00:00, 10.69 batch/s]\n"
     ]
    },
    {
     "name": "stdout",
     "output_type": "stream",
     "text": [
      "\u001b[1m\u001b[36mBest valid accuracy improved from 56.93% to 64.60%. Saving checkpoint...\n",
      "\u001b[0m"
     ]
    },
    {
     "name": "stderr",
     "output_type": "stream",
     "text": [
      "Epoch 4/10: 100%|██████████| 157/157 [00:39<00:00,  4.01 batch/s, loss=0.9494]\n",
      "Validating: 100%|██████████| 40/40 [00:03<00:00, 10.48 batch/s]\n"
     ]
    },
    {
     "name": "stdout",
     "output_type": "stream",
     "text": [
      "\u001b[1m\u001b[36mBest valid accuracy improved from 64.60% to 65.48%. Saving checkpoint...\n",
      "\u001b[0m"
     ]
    },
    {
     "name": "stderr",
     "output_type": "stream",
     "text": [
      "Epoch 5/10: 100%|██████████| 157/157 [00:39<00:00,  3.99 batch/s, loss=0.9057]\n",
      "Validating: 100%|██████████| 40/40 [00:03<00:00, 10.68 batch/s]\n"
     ]
    },
    {
     "name": "stdout",
     "output_type": "stream",
     "text": [
      "\u001b[1m\u001b[36mBest valid accuracy improved from 65.48% to 66.91%. Saving checkpoint...\n",
      "\u001b[0m"
     ]
    },
    {
     "name": "stderr",
     "output_type": "stream",
     "text": [
      "Epoch 6/10: 100%|██████████| 157/157 [00:39<00:00,  3.99 batch/s, loss=0.7233]\n",
      "Validating: 100%|██████████| 40/40 [00:03<00:00, 10.43 batch/s]\n"
     ]
    },
    {
     "name": "stdout",
     "output_type": "stream",
     "text": [
      "\u001b[1m\u001b[36mBest valid accuracy improved from 66.91% to 70.11%. Saving checkpoint...\n",
      "\u001b[0m"
     ]
    },
    {
     "name": "stderr",
     "output_type": "stream",
     "text": [
      "Epoch 7/10: 100%|██████████| 157/157 [00:39<00:00,  4.00 batch/s, loss=0.5832]\n",
      "Validating: 100%|██████████| 40/40 [00:03<00:00, 10.50 batch/s]\n"
     ]
    },
    {
     "name": "stdout",
     "output_type": "stream",
     "text": [
      "\u001b[1m\u001b[36mBest valid accuracy improved from 70.11% to 70.70%. Saving checkpoint...\n",
      "\u001b[0m"
     ]
    },
    {
     "name": "stderr",
     "output_type": "stream",
     "text": [
      "Epoch 8/10: 100%|██████████| 157/157 [00:39<00:00,  4.01 batch/s, loss=0.4700]\n",
      "Validating: 100%|██████████| 40/40 [00:03<00:00, 10.59 batch/s]\n"
     ]
    },
    {
     "name": "stdout",
     "output_type": "stream",
     "text": [
      "\u001b[1m\u001b[36mBest valid accuracy improved from 70.70% to 71.17%. Saving checkpoint...\n",
      "\u001b[0m"
     ]
    },
    {
     "name": "stderr",
     "output_type": "stream",
     "text": [
      "Epoch 9/10: 100%|██████████| 157/157 [00:39<00:00,  4.02 batch/s, loss=0.3871]\n",
      "Validating: 100%|██████████| 40/40 [00:03<00:00, 10.64 batch/s]\n"
     ]
    },
    {
     "name": "stdout",
     "output_type": "stream",
     "text": [
      "\u001b[1m\u001b[36mBest valid accuracy improved from 71.17% to 71.84%. Saving checkpoint...\n",
      "\u001b[0m"
     ]
    },
    {
     "name": "stderr",
     "output_type": "stream",
     "text": [
      "Epoch 10/10: 100%|██████████| 157/157 [00:39<00:00,  3.98 batch/s, loss=0.3144]\n",
      "Validating: 100%|██████████| 40/40 [00:03<00:00, 10.81 batch/s]\n",
      "Testing: 100%|██████████| 40/40 [00:03<00:00, 11.26 batch/s]\n"
     ]
    }
   ],
   "source": [
    "import torch\n",
    "import torchvision\n",
    "from torchvision.models import resnet50\n",
    "\n",
    "from kiss.experiment import Experiment\n",
    "from kiss.sampler import OpticsSampler\n",
    "from kiss.utils.configs import CONFIGS\n",
    "\n",
    "transform = torchvision.transforms.ToTensor()\n",
    "dataset_tr = torchvision.datasets.CIFAR10(root='../data', train=True, download=True, transform=transform)\n",
    "dataset_te = torchvision.datasets.CIFAR10(root='../data', train=False, download=True, transform=transform)\n",
    "\n",
    "model = resnet50(num_classes=10)\n",
    "model.to(torch.device(CONFIGS.torch.device))\n",
    "\n",
    "experiment = Experiment(\n",
    "    model, \n",
    "    dataset_tr,\n",
    "    dataset_te, \n",
    "    OpticsSampler, \n",
    "    ratio=(0.1, 1, 10),\n",
    "    epochs=10,\n",
    "    batch_size=256,\n",
    "    clip=5.0)\n",
    "\n",
    "experiment.run(\"../experiments\", \"r50,epochs:10,bs:256,clipping,eqsize\")"
   ]
  }
 ],
 "metadata": {
  "kernelspec": {
   "display_name": "kiss",
   "language": "python",
   "name": "python3"
  },
  "language_info": {
   "codemirror_mode": {
    "name": "ipython",
    "version": 3
   },
   "file_extension": ".py",
   "mimetype": "text/x-python",
   "name": "python",
   "nbconvert_exporter": "python",
   "pygments_lexer": "ipython3",
   "version": "3.11.6"
  }
 },
 "nbformat": 4,
 "nbformat_minor": 2
}
