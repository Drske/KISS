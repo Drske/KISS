{
 "cells": [
  {
   "cell_type": "markdown",
   "metadata": {},
   "source": [
    "### Eksperymenty\n",
    "\n",
    "**Modele**\n",
    "- resnet50\n",
    "- vgg16\n",
    "\n",
    "**Zbiory danych**\n",
    "- CIFAR100\n",
    "- SVHN\n",
    "\n",
    "**Metody**\n",
    "- Random\n",
    "- KMeans\n",
    "- KMeansPurity\n",
    "- KMeansDino\n",
    "- KMeansDinoPurity\n",
    "\n",
    "**Ustawienia**\n",
    "- ratio = (0.1, 1, 10)\n",
    "- epochs = 10\n",
    "- batch_size = 512\n",
    "- clip = 5.0\n",
    "- num_clusters = 8\n",
    "- eqsize = True\n",
    "- min_purity = 0.05 (SVHN), 0.01 (CIFAR100)\n",
    "\n",
    "**Nazewnictwo przebiegów**\n",
    "W nawiasach kwadratowych podano wartość do wyboru (\"jeden z ...\") w nawiasch klamrowych wartości opcjonalne.\n",
    "ID służy do rozróżniania eksperymentów w tej samej konfiguracji\n",
    "\n",
    "- [r50,vgg13],ep:10,bs:512,clip:5.0,{nc:20},{eqsize},{mp:[0.1,0.01]},ID:[1,2,3,..]\n",
    "- przykład: r50,ep:10,bs:512,clip:5.0,ID:1\n",
    "- przykład: r50,ep:10,bs:512,clip:50,nc:20,eqsize,mp:0.1,ID:1\n",
    "\n",
    "**Uwagi**\n",
    "- Przy każdym eksperymencie nowy model (!)"
   ]
  },
  {
   "cell_type": "code",
   "execution_count": 1,
   "metadata": {},
   "outputs": [
    {
     "name": "stdout",
     "output_type": "stream",
     "text": [
      "Files already downloaded and verified\n",
      "Files already downloaded and verified\n",
      "Using downloaded and verified file: ../data/svhn/train_32x32.mat\n",
      "Using downloaded and verified file: ../data/svhn/test_32x32.mat\n"
     ]
    }
   ],
   "source": [
    "import torch\n",
    "import torchvision\n",
    "from torchvision.models import resnet50\n",
    "\n",
    "from kiss.models import vgg16_kiss\n",
    "from kiss.experiment import Experiment\n",
    "from kiss.sampler import RandomSampler, KMeansSampler, KMeansPuritySampler, KMeansDinoSampler, KMeansPurityDinoSampler\n",
    "from kiss.utils.configs import CONFIGS\n",
    "\n",
    "transform = torchvision.transforms.ToTensor()\n",
    "dataset_cifar100_tr = torchvision.datasets.CIFAR100(root='../data/cifar100', train=True, download=True, transform=transform)\n",
    "dataset_cifar100_te = torchvision.datasets.CIFAR100(root='../data/cifar100', train=False, download=True, transform=transform)\n",
    "\n",
    "dataset_svhn_tr = torchvision.datasets.SVHN(root='../data/svhn', split='train', download=True, transform=transform)\n",
    "dataset_svhn_te = torchvision.datasets.SVHN(root='../data/svhn', split='test', download=True, transform=transform)"
   ]
  },
  {
   "cell_type": "code",
   "execution_count": 2,
   "metadata": {},
   "outputs": [],
   "source": [
    "ID = 2\n",
    "RATIO = (0.1, 1, 10)\n",
    "EPOCHS = 10\n",
    "BATCH_SIZE = 512\n",
    "CLIP = 5.0\n",
    "NUM_CLUSTERS = 8\n",
    "EQSIZE = True"
   ]
  },
  {
   "cell_type": "code",
   "execution_count": 3,
   "metadata": {},
   "outputs": [
    {
     "name": "stdout",
     "output_type": "stream",
     "text": [
      "\u001b[1m\u001b[33mRunning experiment VGG!CIFAR100!RandomSampler\n",
      "\u001b[0m\u001b[1m\u001b[95mRunning run vgg16_kiss,ep:10,bs:512,clip:5.0,ID:2/1\n",
      "\u001b[0m"
     ]
    },
    {
     "name": "stderr",
     "output_type": "stream",
     "text": [
      "Epoch 1/10: 100%|██████████| 8/8 [00:02<00:00,  2.85 batch/s, loss=4.6098]\n",
      "Validating: 100%|██████████| 2/2 [00:00<00:00,  9.52 batch/s, loss=4.6079]\n"
     ]
    },
    {
     "name": "stdout",
     "output_type": "stream",
     "text": [
      "\u001b[1m\u001b[36mBest valid loss improved. Current accuracy is 0.80%. Saving checkpoint...\n",
      "\u001b[0m\u001b[1m\u001b[36mBest valid accuracy improved. Current accuracy is 0.80%. Saving checkpoint...\n",
      "\u001b[0m"
     ]
    },
    {
     "name": "stderr",
     "output_type": "stream",
     "text": [
      "Epoch 2/10: 100%|██████████| 8/8 [00:02<00:00,  3.48 batch/s, loss=4.6003]\n",
      "Validating: 100%|██████████| 2/2 [00:00<00:00, 10.33 batch/s, loss=4.5778]\n"
     ]
    },
    {
     "name": "stdout",
     "output_type": "stream",
     "text": [
      "\u001b[1m\u001b[36mBest valid loss improved. Current accuracy is 1.40%. Saving checkpoint...\n",
      "\u001b[0m\u001b[1m\u001b[36mBest valid accuracy improved. Current accuracy is 1.40%. Saving checkpoint...\n",
      "\u001b[0m"
     ]
    },
    {
     "name": "stderr",
     "output_type": "stream",
     "text": [
      "Epoch 3/10: 100%|██████████| 8/8 [00:02<00:00,  3.38 batch/s, loss=4.5779]\n",
      "Validating: 100%|██████████| 2/2 [00:00<00:00,  9.75 batch/s, loss=4.5346]\n"
     ]
    },
    {
     "name": "stdout",
     "output_type": "stream",
     "text": [
      "\u001b[1m\u001b[36mBest valid loss improved. Current accuracy is 1.30%. Saving checkpoint...\n",
      "\u001b[0m"
     ]
    },
    {
     "name": "stderr",
     "output_type": "stream",
     "text": [
      "Epoch 4/10: 100%|██████████| 8/8 [00:02<00:00,  3.48 batch/s, loss=4.5207]\n",
      "Validating: 100%|██████████| 2/2 [00:00<00:00, 10.19 batch/s, loss=4.5012]\n"
     ]
    },
    {
     "name": "stdout",
     "output_type": "stream",
     "text": [
      "\u001b[1m\u001b[36mBest valid loss improved. Current accuracy is 2.20%. Saving checkpoint...\n",
      "\u001b[0m\u001b[1m\u001b[36mBest valid accuracy improved. Current accuracy is 2.20%. Saving checkpoint...\n",
      "\u001b[0m"
     ]
    },
    {
     "name": "stderr",
     "output_type": "stream",
     "text": [
      "Epoch 5/10: 100%|██████████| 8/8 [00:02<00:00,  3.51 batch/s, loss=4.4408]\n",
      "Validating: 100%|██████████| 2/2 [00:00<00:00, 10.66 batch/s, loss=4.4120]\n"
     ]
    },
    {
     "name": "stdout",
     "output_type": "stream",
     "text": [
      "\u001b[1m\u001b[36mBest valid loss improved. Current accuracy is 2.20%. Saving checkpoint...\n",
      "\u001b[0m"
     ]
    },
    {
     "name": "stderr",
     "output_type": "stream",
     "text": [
      "Epoch 6/10: 100%|██████████| 8/8 [00:02<00:00,  3.51 batch/s, loss=4.3696]\n",
      "Validating: 100%|██████████| 2/2 [00:00<00:00, 10.97 batch/s, loss=4.3482]\n"
     ]
    },
    {
     "name": "stdout",
     "output_type": "stream",
     "text": [
      "\u001b[1m\u001b[36mBest valid loss improved. Current accuracy is 1.60%. Saving checkpoint...\n",
      "\u001b[0m"
     ]
    },
    {
     "name": "stderr",
     "output_type": "stream",
     "text": [
      "Epoch 7/10: 100%|██████████| 8/8 [00:02<00:00,  3.51 batch/s, loss=4.2941]\n",
      "Validating: 100%|██████████| 2/2 [00:00<00:00,  9.84 batch/s, loss=4.2470]\n"
     ]
    },
    {
     "name": "stdout",
     "output_type": "stream",
     "text": [
      "\u001b[1m\u001b[36mBest valid loss improved. Current accuracy is 1.80%. Saving checkpoint...\n",
      "\u001b[0m"
     ]
    },
    {
     "name": "stderr",
     "output_type": "stream",
     "text": [
      "Epoch 8/10: 100%|██████████| 8/8 [00:02<00:00,  3.51 batch/s, loss=4.2891]\n",
      "Validating: 100%|██████████| 2/2 [00:00<00:00, 11.00 batch/s, loss=4.3165]\n"
     ]
    },
    {
     "name": "stdout",
     "output_type": "stream",
     "text": [
      "\u001b[1m\u001b[36mBest valid accuracy improved. Current accuracy is 2.40%. Saving checkpoint...\n",
      "\u001b[0m"
     ]
    },
    {
     "name": "stderr",
     "output_type": "stream",
     "text": [
      "Epoch 9/10: 100%|██████████| 8/8 [00:02<00:00,  3.51 batch/s, loss=4.2199]\n",
      "Validating: 100%|██████████| 2/2 [00:00<00:00,  9.87 batch/s, loss=4.2083]\n"
     ]
    },
    {
     "name": "stdout",
     "output_type": "stream",
     "text": [
      "\u001b[1m\u001b[36mBest valid loss improved. Current accuracy is 2.50%. Saving checkpoint...\n",
      "\u001b[0m\u001b[1m\u001b[36mBest valid accuracy improved. Current accuracy is 2.50%. Saving checkpoint...\n",
      "\u001b[0m"
     ]
    },
    {
     "name": "stderr",
     "output_type": "stream",
     "text": [
      "Epoch 10/10: 100%|██████████| 8/8 [00:02<00:00,  3.51 batch/s, loss=4.1005]\n",
      "Validating: 100%|██████████| 2/2 [00:00<00:00,  9.82 batch/s, loss=4.1042]\n"
     ]
    },
    {
     "name": "stdout",
     "output_type": "stream",
     "text": [
      "\u001b[1m\u001b[36mBest valid loss improved. Current accuracy is 3.30%. Saving checkpoint...\n",
      "\u001b[0m\u001b[1m\u001b[36mBest valid accuracy improved. Current accuracy is 3.30%. Saving checkpoint...\n",
      "\u001b[0m"
     ]
    },
    {
     "name": "stderr",
     "output_type": "stream",
     "text": [
      "Testing: 100%|██████████| 20/20 [00:01<00:00, 10.45 batch/s]\n"
     ]
    },
    {
     "name": "stdout",
     "output_type": "stream",
     "text": [
      "\u001b[1m\u001b[95mRunning run vgg16_kiss,ep:10,bs:512,clip:5.0,ID:2/2\n",
      "\u001b[0m"
     ]
    },
    {
     "name": "stderr",
     "output_type": "stream",
     "text": [
      "Epoch 1/10: 100%|██████████| 16/16 [00:04<00:00,  3.38 batch/s, loss=4.6054]\n",
      "Validating: 100%|██████████| 4/4 [00:00<00:00,  9.77 batch/s, loss=4.5950]\n"
     ]
    },
    {
     "name": "stdout",
     "output_type": "stream",
     "text": [
      "\u001b[1m\u001b[36mBest valid loss improved. Current accuracy is 0.65%. Saving checkpoint...\n",
      "\u001b[0m\u001b[1m\u001b[36mBest valid accuracy improved. Current accuracy is 0.65%. Saving checkpoint...\n",
      "\u001b[0m"
     ]
    },
    {
     "name": "stderr",
     "output_type": "stream",
     "text": [
      "Epoch 2/10: 100%|██████████| 16/16 [00:04<00:00,  3.52 batch/s, loss=4.5919]\n",
      "Validating: 100%|██████████| 4/4 [00:00<00:00, 11.14 batch/s, loss=4.6027]\n"
     ]
    },
    {
     "name": "stdout",
     "output_type": "stream",
     "text": [
      "\u001b[1m\u001b[36mBest valid accuracy improved. Current accuracy is 1.15%. Saving checkpoint...\n",
      "\u001b[0m"
     ]
    },
    {
     "name": "stderr",
     "output_type": "stream",
     "text": [
      "Epoch 3/10: 100%|██████████| 16/16 [00:04<00:00,  3.49 batch/s, loss=4.5760]\n",
      "Validating: 100%|██████████| 4/4 [00:00<00:00, 11.07 batch/s, loss=4.5927]\n"
     ]
    },
    {
     "name": "stdout",
     "output_type": "stream",
     "text": [
      "\u001b[1m\u001b[36mBest valid loss improved. Current accuracy is 1.50%. Saving checkpoint...\n",
      "\u001b[0m\u001b[1m\u001b[36mBest valid accuracy improved. Current accuracy is 1.50%. Saving checkpoint...\n",
      "\u001b[0m"
     ]
    },
    {
     "name": "stderr",
     "output_type": "stream",
     "text": [
      "Epoch 4/10: 100%|██████████| 16/16 [00:04<00:00,  3.51 batch/s, loss=4.4966]\n",
      "Validating: 100%|██████████| 4/4 [00:00<00:00, 11.02 batch/s, loss=4.4161]\n"
     ]
    },
    {
     "name": "stdout",
     "output_type": "stream",
     "text": [
      "\u001b[1m\u001b[36mBest valid loss improved. Current accuracy is 1.10%. Saving checkpoint...\n",
      "\u001b[0m"
     ]
    },
    {
     "name": "stderr",
     "output_type": "stream",
     "text": [
      "Epoch 5/10: 100%|██████████| 16/16 [00:04<00:00,  3.52 batch/s, loss=4.3687]\n",
      "Validating: 100%|██████████| 4/4 [00:00<00:00, 11.04 batch/s, loss=4.3326]\n"
     ]
    },
    {
     "name": "stdout",
     "output_type": "stream",
     "text": [
      "\u001b[1m\u001b[36mBest valid loss improved. Current accuracy is 2.05%. Saving checkpoint...\n",
      "\u001b[0m\u001b[1m\u001b[36mBest valid accuracy improved. Current accuracy is 2.05%. Saving checkpoint...\n",
      "\u001b[0m"
     ]
    },
    {
     "name": "stderr",
     "output_type": "stream",
     "text": [
      "Epoch 6/10: 100%|██████████| 16/16 [00:04<00:00,  3.52 batch/s, loss=4.3022]\n",
      "Validating: 100%|██████████| 4/4 [00:00<00:00, 11.05 batch/s, loss=4.2576]\n"
     ]
    },
    {
     "name": "stdout",
     "output_type": "stream",
     "text": [
      "\u001b[1m\u001b[36mBest valid loss improved. Current accuracy is 2.60%. Saving checkpoint...\n",
      "\u001b[0m\u001b[1m\u001b[36mBest valid accuracy improved. Current accuracy is 2.60%. Saving checkpoint...\n",
      "\u001b[0m"
     ]
    },
    {
     "name": "stderr",
     "output_type": "stream",
     "text": [
      "Epoch 7/10: 100%|██████████| 16/16 [00:04<00:00,  3.50 batch/s, loss=4.2067]\n",
      "Validating: 100%|██████████| 4/4 [00:00<00:00, 11.06 batch/s, loss=4.1974]\n"
     ]
    },
    {
     "name": "stdout",
     "output_type": "stream",
     "text": [
      "\u001b[1m\u001b[36mBest valid loss improved. Current accuracy is 3.40%. Saving checkpoint...\n",
      "\u001b[0m\u001b[1m\u001b[36mBest valid accuracy improved. Current accuracy is 3.40%. Saving checkpoint...\n",
      "\u001b[0m"
     ]
    },
    {
     "name": "stderr",
     "output_type": "stream",
     "text": [
      "Epoch 8/10: 100%|██████████| 16/16 [00:04<00:00,  3.50 batch/s, loss=4.1678]\n",
      "Validating: 100%|██████████| 4/4 [00:00<00:00, 10.63 batch/s, loss=4.1063]\n"
     ]
    },
    {
     "name": "stdout",
     "output_type": "stream",
     "text": [
      "\u001b[1m\u001b[36mBest valid loss improved. Current accuracy is 3.70%. Saving checkpoint...\n",
      "\u001b[0m\u001b[1m\u001b[36mBest valid accuracy improved. Current accuracy is 3.70%. Saving checkpoint...\n",
      "\u001b[0m"
     ]
    },
    {
     "name": "stderr",
     "output_type": "stream",
     "text": [
      "Epoch 9/10: 100%|██████████| 16/16 [00:04<00:00,  3.49 batch/s, loss=4.0730]\n",
      "Validating: 100%|██████████| 4/4 [00:00<00:00, 11.03 batch/s, loss=4.2139]\n",
      "Epoch 10/10: 100%|██████████| 16/16 [00:04<00:00,  3.52 batch/s, loss=4.0967]\n",
      "Validating: 100%|██████████| 4/4 [00:00<00:00, 11.07 batch/s, loss=4.0710]\n"
     ]
    },
    {
     "name": "stdout",
     "output_type": "stream",
     "text": [
      "\u001b[1m\u001b[36mBest valid loss improved. Current accuracy is 4.65%. Saving checkpoint...\n",
      "\u001b[0m\u001b[1m\u001b[36mBest valid accuracy improved. Current accuracy is 4.65%. Saving checkpoint...\n",
      "\u001b[0m"
     ]
    },
    {
     "name": "stderr",
     "output_type": "stream",
     "text": [
      "Testing: 100%|██████████| 20/20 [00:01<00:00, 11.01 batch/s]\n"
     ]
    },
    {
     "name": "stdout",
     "output_type": "stream",
     "text": [
      "\u001b[1m\u001b[95mRunning run vgg16_kiss,ep:10,bs:512,clip:5.0,ID:2/3\n",
      "\u001b[0m"
     ]
    },
    {
     "name": "stderr",
     "output_type": "stream",
     "text": [
      "Epoch 1/10: 100%|██████████| 24/24 [00:06<00:00,  3.45 batch/s, loss=4.6131]\n",
      "Validating: 100%|██████████| 6/6 [00:00<00:00, 10.10 batch/s, loss=4.6024]\n"
     ]
    },
    {
     "name": "stdout",
     "output_type": "stream",
     "text": [
      "\u001b[1m\u001b[36mBest valid loss improved. Current accuracy is 1.00%. Saving checkpoint...\n",
      "\u001b[0m\u001b[1m\u001b[36mBest valid accuracy improved. Current accuracy is 1.00%. Saving checkpoint...\n",
      "\u001b[0m"
     ]
    },
    {
     "name": "stderr",
     "output_type": "stream",
     "text": [
      "Epoch 2/10: 100%|██████████| 24/24 [00:06<00:00,  3.51 batch/s, loss=4.5990]\n",
      "Validating: 100%|██████████| 6/6 [00:00<00:00, 11.11 batch/s, loss=4.6084]\n"
     ]
    },
    {
     "name": "stdout",
     "output_type": "stream",
     "text": [
      "\u001b[1m\u001b[36mBest valid accuracy improved. Current accuracy is 1.27%. Saving checkpoint...\n",
      "\u001b[0m"
     ]
    },
    {
     "name": "stderr",
     "output_type": "stream",
     "text": [
      "Epoch 3/10: 100%|██████████| 24/24 [00:06<00:00,  3.50 batch/s, loss=4.5839]\n",
      "Validating: 100%|██████████| 6/6 [00:00<00:00, 11.10 batch/s, loss=4.5869]\n"
     ]
    },
    {
     "name": "stdout",
     "output_type": "stream",
     "text": [
      "\u001b[1m\u001b[36mBest valid loss improved. Current accuracy is 1.40%. Saving checkpoint...\n",
      "\u001b[0m\u001b[1m\u001b[36mBest valid accuracy improved. Current accuracy is 1.40%. Saving checkpoint...\n",
      "\u001b[0m"
     ]
    },
    {
     "name": "stderr",
     "output_type": "stream",
     "text": [
      "Epoch 4/10: 100%|██████████| 24/24 [00:06<00:00,  3.51 batch/s, loss=4.4969]\n",
      "Validating: 100%|██████████| 6/6 [00:00<00:00, 11.01 batch/s, loss=4.3651]\n"
     ]
    },
    {
     "name": "stdout",
     "output_type": "stream",
     "text": [
      "\u001b[1m\u001b[36mBest valid loss improved. Current accuracy is 1.80%. Saving checkpoint...\n",
      "\u001b[0m\u001b[1m\u001b[36mBest valid accuracy improved. Current accuracy is 1.80%. Saving checkpoint...\n",
      "\u001b[0m"
     ]
    },
    {
     "name": "stderr",
     "output_type": "stream",
     "text": [
      "Epoch 5/10: 100%|██████████| 24/24 [00:06<00:00,  3.51 batch/s, loss=4.3486]\n",
      "Validating: 100%|██████████| 6/6 [00:00<00:00, 11.05 batch/s, loss=4.2707]\n"
     ]
    },
    {
     "name": "stdout",
     "output_type": "stream",
     "text": [
      "\u001b[1m\u001b[36mBest valid loss improved. Current accuracy is 3.40%. Saving checkpoint...\n",
      "\u001b[0m\u001b[1m\u001b[36mBest valid accuracy improved. Current accuracy is 3.40%. Saving checkpoint...\n",
      "\u001b[0m"
     ]
    },
    {
     "name": "stderr",
     "output_type": "stream",
     "text": [
      "Epoch 6/10: 100%|██████████| 24/24 [00:06<00:00,  3.51 batch/s, loss=4.2550]\n",
      "Validating: 100%|██████████| 6/6 [00:00<00:00, 11.05 batch/s, loss=4.2076]\n"
     ]
    },
    {
     "name": "stdout",
     "output_type": "stream",
     "text": [
      "\u001b[1m\u001b[36mBest valid loss improved. Current accuracy is 3.33%. Saving checkpoint...\n",
      "\u001b[0m"
     ]
    },
    {
     "name": "stderr",
     "output_type": "stream",
     "text": [
      "Epoch 7/10: 100%|██████████| 24/24 [00:06<00:00,  3.50 batch/s, loss=4.1995]\n",
      "Validating: 100%|██████████| 6/6 [00:00<00:00, 11.10 batch/s, loss=4.1658]\n"
     ]
    },
    {
     "name": "stdout",
     "output_type": "stream",
     "text": [
      "\u001b[1m\u001b[36mBest valid loss improved. Current accuracy is 3.03%. Saving checkpoint...\n",
      "\u001b[0m"
     ]
    },
    {
     "name": "stderr",
     "output_type": "stream",
     "text": [
      "Epoch 8/10: 100%|██████████| 24/24 [00:06<00:00,  3.52 batch/s, loss=4.1174]\n",
      "Validating: 100%|██████████| 6/6 [00:00<00:00, 11.08 batch/s, loss=4.0698]\n"
     ]
    },
    {
     "name": "stdout",
     "output_type": "stream",
     "text": [
      "\u001b[1m\u001b[36mBest valid loss improved. Current accuracy is 4.03%. Saving checkpoint...\n",
      "\u001b[0m\u001b[1m\u001b[36mBest valid accuracy improved. Current accuracy is 4.03%. Saving checkpoint...\n",
      "\u001b[0m"
     ]
    },
    {
     "name": "stderr",
     "output_type": "stream",
     "text": [
      "Epoch 9/10: 100%|██████████| 24/24 [00:06<00:00,  3.51 batch/s, loss=4.0376]\n",
      "Validating: 100%|██████████| 6/6 [00:00<00:00, 11.08 batch/s, loss=4.0315]\n"
     ]
    },
    {
     "name": "stdout",
     "output_type": "stream",
     "text": [
      "\u001b[1m\u001b[36mBest valid loss improved. Current accuracy is 4.73%. Saving checkpoint...\n",
      "\u001b[0m\u001b[1m\u001b[36mBest valid accuracy improved. Current accuracy is 4.73%. Saving checkpoint...\n",
      "\u001b[0m"
     ]
    },
    {
     "name": "stderr",
     "output_type": "stream",
     "text": [
      "Epoch 10/10: 100%|██████████| 24/24 [00:06<00:00,  3.50 batch/s, loss=3.9967]\n",
      "Validating: 100%|██████████| 6/6 [00:00<00:00, 11.08 batch/s, loss=3.9876]\n"
     ]
    },
    {
     "name": "stdout",
     "output_type": "stream",
     "text": [
      "\u001b[1m\u001b[36mBest valid loss improved. Current accuracy is 5.17%. Saving checkpoint...\n",
      "\u001b[0m\u001b[1m\u001b[36mBest valid accuracy improved. Current accuracy is 5.17%. Saving checkpoint...\n",
      "\u001b[0m"
     ]
    },
    {
     "name": "stderr",
     "output_type": "stream",
     "text": [
      "Testing: 100%|██████████| 20/20 [00:01<00:00, 10.85 batch/s]\n"
     ]
    },
    {
     "name": "stdout",
     "output_type": "stream",
     "text": [
      "\u001b[1m\u001b[95mRunning run vgg16_kiss,ep:10,bs:512,clip:5.0,ID:2/4\n",
      "\u001b[0m"
     ]
    },
    {
     "name": "stderr",
     "output_type": "stream",
     "text": [
      "Epoch 1/10: 100%|██████████| 32/32 [00:09<00:00,  3.45 batch/s, loss=4.6063]\n",
      "Validating: 100%|██████████| 8/8 [00:00<00:00, 11.02 batch/s, loss=4.6057]\n"
     ]
    },
    {
     "name": "stdout",
     "output_type": "stream",
     "text": [
      "\u001b[1m\u001b[36mBest valid loss improved. Current accuracy is 0.80%. Saving checkpoint...\n",
      "\u001b[0m\u001b[1m\u001b[36mBest valid accuracy improved. Current accuracy is 0.80%. Saving checkpoint...\n",
      "\u001b[0m"
     ]
    },
    {
     "name": "stderr",
     "output_type": "stream",
     "text": [
      "Epoch 2/10: 100%|██████████| 32/32 [00:09<00:00,  3.52 batch/s, loss=4.5747]\n",
      "Validating: 100%|██████████| 8/8 [00:00<00:00, 11.10 batch/s, loss=4.5578]\n"
     ]
    },
    {
     "name": "stdout",
     "output_type": "stream",
     "text": [
      "\u001b[1m\u001b[36mBest valid loss improved. Current accuracy is 1.50%. Saving checkpoint...\n",
      "\u001b[0m\u001b[1m\u001b[36mBest valid accuracy improved. Current accuracy is 1.50%. Saving checkpoint...\n",
      "\u001b[0m"
     ]
    },
    {
     "name": "stderr",
     "output_type": "stream",
     "text": [
      "Epoch 3/10: 100%|██████████| 32/32 [00:09<00:00,  3.51 batch/s, loss=4.4070]\n",
      "Validating: 100%|██████████| 8/8 [00:00<00:00, 10.88 batch/s, loss=4.2953]\n"
     ]
    },
    {
     "name": "stdout",
     "output_type": "stream",
     "text": [
      "\u001b[1m\u001b[36mBest valid loss improved. Current accuracy is 2.15%. Saving checkpoint...\n",
      "\u001b[0m\u001b[1m\u001b[36mBest valid accuracy improved. Current accuracy is 2.15%. Saving checkpoint...\n",
      "\u001b[0m"
     ]
    },
    {
     "name": "stderr",
     "output_type": "stream",
     "text": [
      "Epoch 4/10: 100%|██████████| 32/32 [00:09<00:00,  3.52 batch/s, loss=4.2649]\n",
      "Validating: 100%|██████████| 8/8 [00:00<00:00, 10.81 batch/s, loss=4.1653]\n"
     ]
    },
    {
     "name": "stdout",
     "output_type": "stream",
     "text": [
      "\u001b[1m\u001b[36mBest valid loss improved. Current accuracy is 3.50%. Saving checkpoint...\n",
      "\u001b[0m\u001b[1m\u001b[36mBest valid accuracy improved. Current accuracy is 3.50%. Saving checkpoint...\n",
      "\u001b[0m"
     ]
    },
    {
     "name": "stderr",
     "output_type": "stream",
     "text": [
      "Epoch 5/10: 100%|██████████| 32/32 [00:09<00:00,  3.51 batch/s, loss=4.1204]\n",
      "Validating: 100%|██████████| 8/8 [00:00<00:00, 11.14 batch/s, loss=4.1197]\n"
     ]
    },
    {
     "name": "stdout",
     "output_type": "stream",
     "text": [
      "\u001b[1m\u001b[36mBest valid loss improved. Current accuracy is 3.15%. Saving checkpoint...\n",
      "\u001b[0m"
     ]
    },
    {
     "name": "stderr",
     "output_type": "stream",
     "text": [
      "Epoch 6/10: 100%|██████████| 32/32 [00:09<00:00,  3.51 batch/s, loss=4.0851]\n",
      "Validating: 100%|██████████| 8/8 [00:00<00:00, 10.31 batch/s, loss=4.0411]\n"
     ]
    },
    {
     "name": "stdout",
     "output_type": "stream",
     "text": [
      "\u001b[1m\u001b[36mBest valid loss improved. Current accuracy is 3.48%. Saving checkpoint...\n",
      "\u001b[0m"
     ]
    },
    {
     "name": "stderr",
     "output_type": "stream",
     "text": [
      "Epoch 7/10: 100%|██████████| 32/32 [00:09<00:00,  3.51 batch/s, loss=3.9652]\n",
      "Validating: 100%|██████████| 8/8 [00:00<00:00, 11.06 batch/s, loss=3.9385]\n"
     ]
    },
    {
     "name": "stdout",
     "output_type": "stream",
     "text": [
      "\u001b[1m\u001b[36mBest valid loss improved. Current accuracy is 4.60%. Saving checkpoint...\n",
      "\u001b[0m\u001b[1m\u001b[36mBest valid accuracy improved. Current accuracy is 4.60%. Saving checkpoint...\n",
      "\u001b[0m"
     ]
    },
    {
     "name": "stderr",
     "output_type": "stream",
     "text": [
      "Epoch 8/10: 100%|██████████| 32/32 [00:09<00:00,  3.50 batch/s, loss=3.8465]\n",
      "Validating: 100%|██████████| 8/8 [00:00<00:00, 11.07 batch/s, loss=3.8359]\n"
     ]
    },
    {
     "name": "stdout",
     "output_type": "stream",
     "text": [
      "\u001b[1m\u001b[36mBest valid loss improved. Current accuracy is 5.20%. Saving checkpoint...\n",
      "\u001b[0m\u001b[1m\u001b[36mBest valid accuracy improved. Current accuracy is 5.20%. Saving checkpoint...\n",
      "\u001b[0m"
     ]
    },
    {
     "name": "stderr",
     "output_type": "stream",
     "text": [
      "Epoch 9/10: 100%|██████████| 32/32 [00:09<00:00,  3.50 batch/s, loss=3.7286]\n",
      "Validating: 100%|██████████| 8/8 [00:00<00:00, 11.10 batch/s, loss=3.8661]\n"
     ]
    },
    {
     "name": "stdout",
     "output_type": "stream",
     "text": [
      "\u001b[1m\u001b[36mBest valid accuracy improved. Current accuracy is 5.80%. Saving checkpoint...\n",
      "\u001b[0m"
     ]
    },
    {
     "name": "stderr",
     "output_type": "stream",
     "text": [
      "Epoch 10/10: 100%|██████████| 32/32 [00:09<00:00,  3.51 batch/s, loss=3.6548]\n",
      "Validating: 100%|██████████| 8/8 [00:00<00:00, 10.84 batch/s, loss=3.7865]\n"
     ]
    },
    {
     "name": "stdout",
     "output_type": "stream",
     "text": [
      "\u001b[1m\u001b[36mBest valid loss improved. Current accuracy is 5.80%. Saving checkpoint...\n",
      "\u001b[0m"
     ]
    },
    {
     "name": "stderr",
     "output_type": "stream",
     "text": [
      "Testing: 100%|██████████| 20/20 [00:01<00:00, 10.93 batch/s]\n"
     ]
    },
    {
     "name": "stdout",
     "output_type": "stream",
     "text": [
      "\u001b[1m\u001b[95mRunning run vgg16_kiss,ep:10,bs:512,clip:5.0,ID:2/5\n",
      "\u001b[0m"
     ]
    },
    {
     "name": "stderr",
     "output_type": "stream",
     "text": [
      "Epoch 1/10: 100%|██████████| 40/40 [00:11<00:00,  3.41 batch/s, loss=4.6095]\n",
      "Validating: 100%|██████████| 10/10 [00:00<00:00, 10.45 batch/s, loss=4.6029]\n"
     ]
    },
    {
     "name": "stdout",
     "output_type": "stream",
     "text": [
      "\u001b[1m\u001b[36mBest valid loss improved. Current accuracy is 1.06%. Saving checkpoint...\n",
      "\u001b[0m\u001b[1m\u001b[36mBest valid accuracy improved. Current accuracy is 1.06%. Saving checkpoint...\n",
      "\u001b[0m"
     ]
    },
    {
     "name": "stderr",
     "output_type": "stream",
     "text": [
      "Epoch 2/10: 100%|██████████| 40/40 [00:11<00:00,  3.51 batch/s, loss=4.5107]\n",
      "Validating: 100%|██████████| 10/10 [00:00<00:00, 11.01 batch/s, loss=4.3682]\n"
     ]
    },
    {
     "name": "stdout",
     "output_type": "stream",
     "text": [
      "\u001b[1m\u001b[36mBest valid loss improved. Current accuracy is 2.02%. Saving checkpoint...\n",
      "\u001b[0m\u001b[1m\u001b[36mBest valid accuracy improved. Current accuracy is 2.02%. Saving checkpoint...\n",
      "\u001b[0m"
     ]
    },
    {
     "name": "stderr",
     "output_type": "stream",
     "text": [
      "Epoch 3/10: 100%|██████████| 40/40 [00:11<00:00,  3.50 batch/s, loss=4.3125]\n",
      "Validating: 100%|██████████| 10/10 [00:00<00:00, 11.01 batch/s, loss=4.2397]\n"
     ]
    },
    {
     "name": "stdout",
     "output_type": "stream",
     "text": [
      "\u001b[1m\u001b[36mBest valid loss improved. Current accuracy is 3.20%. Saving checkpoint...\n",
      "\u001b[0m\u001b[1m\u001b[36mBest valid accuracy improved. Current accuracy is 3.20%. Saving checkpoint...\n",
      "\u001b[0m"
     ]
    },
    {
     "name": "stderr",
     "output_type": "stream",
     "text": [
      "Epoch 4/10: 100%|██████████| 40/40 [00:11<00:00,  3.51 batch/s, loss=4.2316]\n",
      "Validating: 100%|██████████| 10/10 [00:00<00:00, 11.07 batch/s, loss=4.2113]\n"
     ]
    },
    {
     "name": "stdout",
     "output_type": "stream",
     "text": [
      "\u001b[1m\u001b[36mBest valid loss improved. Current accuracy is 3.02%. Saving checkpoint...\n",
      "\u001b[0m"
     ]
    },
    {
     "name": "stderr",
     "output_type": "stream",
     "text": [
      "Epoch 5/10: 100%|██████████| 40/40 [00:11<00:00,  3.51 batch/s, loss=4.1428]\n",
      "Validating: 100%|██████████| 10/10 [00:00<00:00, 11.04 batch/s, loss=4.1282]\n"
     ]
    },
    {
     "name": "stdout",
     "output_type": "stream",
     "text": [
      "\u001b[1m\u001b[36mBest valid loss improved. Current accuracy is 3.74%. Saving checkpoint...\n",
      "\u001b[0m\u001b[1m\u001b[36mBest valid accuracy improved. Current accuracy is 3.74%. Saving checkpoint...\n",
      "\u001b[0m"
     ]
    },
    {
     "name": "stderr",
     "output_type": "stream",
     "text": [
      "Epoch 6/10: 100%|██████████| 40/40 [00:11<00:00,  3.51 batch/s, loss=4.0342]\n",
      "Validating: 100%|██████████| 10/10 [00:00<00:00, 11.05 batch/s, loss=3.9566]\n"
     ]
    },
    {
     "name": "stdout",
     "output_type": "stream",
     "text": [
      "\u001b[1m\u001b[36mBest valid loss improved. Current accuracy is 5.82%. Saving checkpoint...\n",
      "\u001b[0m\u001b[1m\u001b[36mBest valid accuracy improved. Current accuracy is 5.82%. Saving checkpoint...\n",
      "\u001b[0m"
     ]
    },
    {
     "name": "stderr",
     "output_type": "stream",
     "text": [
      "Epoch 7/10: 100%|██████████| 40/40 [00:11<00:00,  3.51 batch/s, loss=3.8329]\n",
      "Validating: 100%|██████████| 10/10 [00:00<00:00, 11.04 batch/s, loss=3.7096]\n"
     ]
    },
    {
     "name": "stdout",
     "output_type": "stream",
     "text": [
      "\u001b[1m\u001b[36mBest valid loss improved. Current accuracy is 8.54%. Saving checkpoint...\n",
      "\u001b[0m\u001b[1m\u001b[36mBest valid accuracy improved. Current accuracy is 8.54%. Saving checkpoint...\n",
      "\u001b[0m"
     ]
    },
    {
     "name": "stderr",
     "output_type": "stream",
     "text": [
      "Epoch 8/10: 100%|██████████| 40/40 [00:11<00:00,  3.51 batch/s, loss=3.5855]\n",
      "Validating: 100%|██████████| 10/10 [00:00<00:00, 11.02 batch/s, loss=3.5580]\n"
     ]
    },
    {
     "name": "stdout",
     "output_type": "stream",
     "text": [
      "\u001b[1m\u001b[36mBest valid loss improved. Current accuracy is 10.48%. Saving checkpoint...\n",
      "\u001b[0m\u001b[1m\u001b[36mBest valid accuracy improved. Current accuracy is 10.48%. Saving checkpoint...\n",
      "\u001b[0m"
     ]
    },
    {
     "name": "stderr",
     "output_type": "stream",
     "text": [
      "Epoch 9/10: 100%|██████████| 40/40 [00:11<00:00,  3.51 batch/s, loss=3.3599]\n",
      "Validating: 100%|██████████| 10/10 [00:00<00:00, 10.91 batch/s, loss=3.5821]\n"
     ]
    },
    {
     "name": "stdout",
     "output_type": "stream",
     "text": [
      "\u001b[1m\u001b[36mBest valid accuracy improved. Current accuracy is 11.78%. Saving checkpoint...\n",
      "\u001b[0m"
     ]
    },
    {
     "name": "stderr",
     "output_type": "stream",
     "text": [
      "Epoch 10/10: 100%|██████████| 40/40 [00:11<00:00,  3.50 batch/s, loss=3.1605]\n",
      "Validating: 100%|██████████| 10/10 [00:00<00:00, 11.00 batch/s, loss=3.4983]\n"
     ]
    },
    {
     "name": "stdout",
     "output_type": "stream",
     "text": [
      "\u001b[1m\u001b[36mBest valid loss improved. Current accuracy is 12.94%. Saving checkpoint...\n",
      "\u001b[0m\u001b[1m\u001b[36mBest valid accuracy improved. Current accuracy is 12.94%. Saving checkpoint...\n",
      "\u001b[0m"
     ]
    },
    {
     "name": "stderr",
     "output_type": "stream",
     "text": [
      "Testing: 100%|██████████| 20/20 [00:01<00:00, 10.86 batch/s]\n"
     ]
    },
    {
     "name": "stdout",
     "output_type": "stream",
     "text": [
      "\u001b[1m\u001b[95mRunning run vgg16_kiss,ep:10,bs:512,clip:5.0,ID:2/6\n",
      "\u001b[0m"
     ]
    },
    {
     "name": "stderr",
     "output_type": "stream",
     "text": [
      "Epoch 1/10: 100%|██████████| 47/47 [00:13<00:00,  3.41 batch/s, loss=4.6061]\n",
      "Validating: 100%|██████████| 12/12 [00:01<00:00,  9.69 batch/s, loss=4.6013]\n"
     ]
    },
    {
     "name": "stdout",
     "output_type": "stream",
     "text": [
      "\u001b[1m\u001b[36mBest valid loss improved. Current accuracy is 1.03%. Saving checkpoint...\n",
      "\u001b[0m\u001b[1m\u001b[36mBest valid accuracy improved. Current accuracy is 1.03%. Saving checkpoint...\n",
      "\u001b[0m"
     ]
    },
    {
     "name": "stderr",
     "output_type": "stream",
     "text": [
      "Epoch 2/10: 100%|██████████| 47/47 [00:13<00:00,  3.44 batch/s, loss=4.5324]\n",
      "Validating: 100%|██████████| 12/12 [00:01<00:00, 11.11 batch/s, loss=4.3682]\n"
     ]
    },
    {
     "name": "stdout",
     "output_type": "stream",
     "text": [
      "\u001b[1m\u001b[36mBest valid loss improved. Current accuracy is 1.73%. Saving checkpoint...\n",
      "\u001b[0m\u001b[1m\u001b[36mBest valid accuracy improved. Current accuracy is 1.73%. Saving checkpoint...\n",
      "\u001b[0m"
     ]
    },
    {
     "name": "stderr",
     "output_type": "stream",
     "text": [
      "Epoch 3/10: 100%|██████████| 47/47 [00:13<00:00,  3.44 batch/s, loss=4.3271]\n",
      "Validating: 100%|██████████| 12/12 [00:01<00:00, 10.91 batch/s, loss=4.2091]\n"
     ]
    },
    {
     "name": "stdout",
     "output_type": "stream",
     "text": [
      "\u001b[1m\u001b[36mBest valid loss improved. Current accuracy is 3.33%. Saving checkpoint...\n",
      "\u001b[0m\u001b[1m\u001b[36mBest valid accuracy improved. Current accuracy is 3.33%. Saving checkpoint...\n",
      "\u001b[0m"
     ]
    },
    {
     "name": "stderr",
     "output_type": "stream",
     "text": [
      "Epoch 4/10: 100%|██████████| 47/47 [00:13<00:00,  3.44 batch/s, loss=4.1607]\n",
      "Validating: 100%|██████████| 12/12 [00:01<00:00, 11.11 batch/s, loss=4.0247]\n"
     ]
    },
    {
     "name": "stdout",
     "output_type": "stream",
     "text": [
      "\u001b[1m\u001b[36mBest valid loss improved. Current accuracy is 4.63%. Saving checkpoint...\n",
      "\u001b[0m\u001b[1m\u001b[36mBest valid accuracy improved. Current accuracy is 4.63%. Saving checkpoint...\n",
      "\u001b[0m"
     ]
    },
    {
     "name": "stderr",
     "output_type": "stream",
     "text": [
      "Epoch 5/10: 100%|██████████| 47/47 [00:13<00:00,  3.44 batch/s, loss=4.0404]\n",
      "Validating: 100%|██████████| 12/12 [00:01<00:00, 11.06 batch/s, loss=3.9131]\n"
     ]
    },
    {
     "name": "stdout",
     "output_type": "stream",
     "text": [
      "\u001b[1m\u001b[36mBest valid loss improved. Current accuracy is 5.40%. Saving checkpoint...\n",
      "\u001b[0m\u001b[1m\u001b[36mBest valid accuracy improved. Current accuracy is 5.40%. Saving checkpoint...\n",
      "\u001b[0m"
     ]
    },
    {
     "name": "stderr",
     "output_type": "stream",
     "text": [
      "Epoch 6/10: 100%|██████████| 47/47 [00:13<00:00,  3.45 batch/s, loss=3.9290]\n",
      "Validating: 100%|██████████| 12/12 [00:01<00:00, 11.03 batch/s, loss=3.8246]\n"
     ]
    },
    {
     "name": "stdout",
     "output_type": "stream",
     "text": [
      "\u001b[1m\u001b[36mBest valid loss improved. Current accuracy is 6.63%. Saving checkpoint...\n",
      "\u001b[0m\u001b[1m\u001b[36mBest valid accuracy improved. Current accuracy is 6.63%. Saving checkpoint...\n",
      "\u001b[0m"
     ]
    },
    {
     "name": "stderr",
     "output_type": "stream",
     "text": [
      "Epoch 7/10: 100%|██████████| 47/47 [00:13<00:00,  3.44 batch/s, loss=3.7570]\n",
      "Validating: 100%|██████████| 12/12 [00:01<00:00, 11.13 batch/s, loss=3.7513]\n"
     ]
    },
    {
     "name": "stdout",
     "output_type": "stream",
     "text": [
      "\u001b[1m\u001b[36mBest valid loss improved. Current accuracy is 7.70%. Saving checkpoint...\n",
      "\u001b[0m\u001b[1m\u001b[36mBest valid accuracy improved. Current accuracy is 7.70%. Saving checkpoint...\n",
      "\u001b[0m"
     ]
    },
    {
     "name": "stderr",
     "output_type": "stream",
     "text": [
      "Epoch 8/10: 100%|██████████| 47/47 [00:13<00:00,  3.44 batch/s, loss=3.5941]\n",
      "Validating: 100%|██████████| 12/12 [00:01<00:00, 11.12 batch/s, loss=3.6280]\n"
     ]
    },
    {
     "name": "stdout",
     "output_type": "stream",
     "text": [
      "\u001b[1m\u001b[36mBest valid loss improved. Current accuracy is 9.68%. Saving checkpoint...\n",
      "\u001b[0m\u001b[1m\u001b[36mBest valid accuracy improved. Current accuracy is 9.68%. Saving checkpoint...\n",
      "\u001b[0m"
     ]
    },
    {
     "name": "stderr",
     "output_type": "stream",
     "text": [
      "Epoch 9/10: 100%|██████████| 47/47 [00:13<00:00,  3.43 batch/s, loss=3.3675]\n",
      "Validating: 100%|██████████| 12/12 [00:01<00:00, 10.98 batch/s, loss=3.3454]\n"
     ]
    },
    {
     "name": "stdout",
     "output_type": "stream",
     "text": [
      "\u001b[1m\u001b[36mBest valid loss improved. Current accuracy is 13.22%. Saving checkpoint...\n",
      "\u001b[0m\u001b[1m\u001b[36mBest valid accuracy improved. Current accuracy is 13.22%. Saving checkpoint...\n",
      "\u001b[0m"
     ]
    },
    {
     "name": "stderr",
     "output_type": "stream",
     "text": [
      "Epoch 10/10: 100%|██████████| 47/47 [00:13<00:00,  3.44 batch/s, loss=3.1409]\n",
      "Validating: 100%|██████████| 12/12 [00:01<00:00, 11.13 batch/s, loss=3.2857]\n"
     ]
    },
    {
     "name": "stdout",
     "output_type": "stream",
     "text": [
      "\u001b[1m\u001b[36mBest valid loss improved. Current accuracy is 15.57%. Saving checkpoint...\n",
      "\u001b[0m\u001b[1m\u001b[36mBest valid accuracy improved. Current accuracy is 15.57%. Saving checkpoint...\n",
      "\u001b[0m"
     ]
    },
    {
     "name": "stderr",
     "output_type": "stream",
     "text": [
      "Testing: 100%|██████████| 20/20 [00:01<00:00, 10.99 batch/s]\n"
     ]
    },
    {
     "name": "stdout",
     "output_type": "stream",
     "text": [
      "\u001b[1m\u001b[95mRunning run vgg16_kiss,ep:10,bs:512,clip:5.0,ID:2/7\n",
      "\u001b[0m"
     ]
    },
    {
     "name": "stderr",
     "output_type": "stream",
     "text": [
      "Epoch 1/10: 100%|██████████| 55/55 [00:16<00:00,  3.42 batch/s, loss=4.5715]\n",
      "Validating: 100%|██████████| 14/14 [00:01<00:00, 10.08 batch/s, loss=4.3792]\n"
     ]
    },
    {
     "name": "stdout",
     "output_type": "stream",
     "text": [
      "\u001b[1m\u001b[36mBest valid loss improved. Current accuracy is 2.03%. Saving checkpoint...\n",
      "\u001b[0m\u001b[1m\u001b[36mBest valid accuracy improved. Current accuracy is 2.03%. Saving checkpoint...\n",
      "\u001b[0m"
     ]
    },
    {
     "name": "stderr",
     "output_type": "stream",
     "text": [
      "Epoch 2/10: 100%|██████████| 55/55 [00:15<00:00,  3.45 batch/s, loss=4.2625]\n",
      "Validating: 100%|██████████| 14/14 [00:01<00:00, 10.89 batch/s, loss=4.0787]\n"
     ]
    },
    {
     "name": "stdout",
     "output_type": "stream",
     "text": [
      "\u001b[1m\u001b[36mBest valid loss improved. Current accuracy is 3.69%. Saving checkpoint...\n",
      "\u001b[0m\u001b[1m\u001b[36mBest valid accuracy improved. Current accuracy is 3.69%. Saving checkpoint...\n",
      "\u001b[0m"
     ]
    },
    {
     "name": "stderr",
     "output_type": "stream",
     "text": [
      "Epoch 3/10: 100%|██████████| 55/55 [00:15<00:00,  3.46 batch/s, loss=4.0646]\n",
      "Validating: 100%|██████████| 14/14 [00:01<00:00, 10.52 batch/s, loss=4.0235]\n"
     ]
    },
    {
     "name": "stdout",
     "output_type": "stream",
     "text": [
      "\u001b[1m\u001b[36mBest valid loss improved. Current accuracy is 4.90%. Saving checkpoint...\n",
      "\u001b[0m\u001b[1m\u001b[36mBest valid accuracy improved. Current accuracy is 4.90%. Saving checkpoint...\n",
      "\u001b[0m"
     ]
    },
    {
     "name": "stderr",
     "output_type": "stream",
     "text": [
      "Epoch 4/10: 100%|██████████| 55/55 [00:15<00:00,  3.46 batch/s, loss=3.8747]\n",
      "Validating: 100%|██████████| 14/14 [00:01<00:00, 10.95 batch/s, loss=3.7149]\n"
     ]
    },
    {
     "name": "stdout",
     "output_type": "stream",
     "text": [
      "\u001b[1m\u001b[36mBest valid loss improved. Current accuracy is 7.91%. Saving checkpoint...\n",
      "\u001b[0m\u001b[1m\u001b[36mBest valid accuracy improved. Current accuracy is 7.91%. Saving checkpoint...\n",
      "\u001b[0m"
     ]
    },
    {
     "name": "stderr",
     "output_type": "stream",
     "text": [
      "Epoch 5/10: 100%|██████████| 55/55 [00:15<00:00,  3.46 batch/s, loss=3.6630]\n",
      "Validating: 100%|██████████| 14/14 [00:01<00:00, 10.91 batch/s, loss=3.5514]\n"
     ]
    },
    {
     "name": "stdout",
     "output_type": "stream",
     "text": [
      "\u001b[1m\u001b[36mBest valid loss improved. Current accuracy is 10.80%. Saving checkpoint...\n",
      "\u001b[0m\u001b[1m\u001b[36mBest valid accuracy improved. Current accuracy is 10.80%. Saving checkpoint...\n",
      "\u001b[0m"
     ]
    },
    {
     "name": "stderr",
     "output_type": "stream",
     "text": [
      "Epoch 6/10: 100%|██████████| 55/55 [00:15<00:00,  3.46 batch/s, loss=3.4337]\n",
      "Validating: 100%|██████████| 14/14 [00:01<00:00, 10.75 batch/s, loss=3.3628]\n"
     ]
    },
    {
     "name": "stdout",
     "output_type": "stream",
     "text": [
      "\u001b[1m\u001b[36mBest valid loss improved. Current accuracy is 12.80%. Saving checkpoint...\n",
      "\u001b[0m\u001b[1m\u001b[36mBest valid accuracy improved. Current accuracy is 12.80%. Saving checkpoint...\n",
      "\u001b[0m"
     ]
    },
    {
     "name": "stderr",
     "output_type": "stream",
     "text": [
      "Epoch 7/10: 100%|██████████| 55/55 [00:15<00:00,  3.45 batch/s, loss=3.1824]\n",
      "Validating: 100%|██████████| 14/14 [00:01<00:00, 10.87 batch/s, loss=3.1568]\n"
     ]
    },
    {
     "name": "stdout",
     "output_type": "stream",
     "text": [
      "\u001b[1m\u001b[36mBest valid loss improved. Current accuracy is 16.69%. Saving checkpoint...\n",
      "\u001b[0m\u001b[1m\u001b[36mBest valid accuracy improved. Current accuracy is 16.69%. Saving checkpoint...\n",
      "\u001b[0m"
     ]
    },
    {
     "name": "stderr",
     "output_type": "stream",
     "text": [
      "Epoch 8/10: 100%|██████████| 55/55 [00:15<00:00,  3.45 batch/s, loss=2.9138]\n",
      "Validating: 100%|██████████| 14/14 [00:01<00:00, 10.81 batch/s, loss=3.0490]\n"
     ]
    },
    {
     "name": "stdout",
     "output_type": "stream",
     "text": [
      "\u001b[1m\u001b[36mBest valid loss improved. Current accuracy is 19.70%. Saving checkpoint...\n",
      "\u001b[0m\u001b[1m\u001b[36mBest valid accuracy improved. Current accuracy is 19.70%. Saving checkpoint...\n",
      "\u001b[0m"
     ]
    },
    {
     "name": "stderr",
     "output_type": "stream",
     "text": [
      "Epoch 9/10: 100%|██████████| 55/55 [00:15<00:00,  3.46 batch/s, loss=2.6855]\n",
      "Validating: 100%|██████████| 14/14 [00:01<00:00, 11.07 batch/s, loss=2.9010]\n"
     ]
    },
    {
     "name": "stdout",
     "output_type": "stream",
     "text": [
      "\u001b[1m\u001b[36mBest valid loss improved. Current accuracy is 22.60%. Saving checkpoint...\n",
      "\u001b[0m\u001b[1m\u001b[36mBest valid accuracy improved. Current accuracy is 22.60%. Saving checkpoint...\n",
      "\u001b[0m"
     ]
    },
    {
     "name": "stderr",
     "output_type": "stream",
     "text": [
      "Epoch 10/10: 100%|██████████| 55/55 [00:15<00:00,  3.44 batch/s, loss=2.4890]\n",
      "Validating: 100%|██████████| 14/14 [00:01<00:00, 10.77 batch/s, loss=2.8188]\n"
     ]
    },
    {
     "name": "stdout",
     "output_type": "stream",
     "text": [
      "\u001b[1m\u001b[36mBest valid loss improved. Current accuracy is 25.97%. Saving checkpoint...\n",
      "\u001b[0m\u001b[1m\u001b[36mBest valid accuracy improved. Current accuracy is 25.97%. Saving checkpoint...\n",
      "\u001b[0m"
     ]
    },
    {
     "name": "stderr",
     "output_type": "stream",
     "text": [
      "Testing: 100%|██████████| 20/20 [00:01<00:00, 10.80 batch/s]\n"
     ]
    },
    {
     "name": "stdout",
     "output_type": "stream",
     "text": [
      "\u001b[1m\u001b[95mRunning run vgg16_kiss,ep:10,bs:512,clip:5.0,ID:2/8\n",
      "\u001b[0m"
     ]
    },
    {
     "name": "stderr",
     "output_type": "stream",
     "text": [
      "Epoch 1/10: 100%|██████████| 63/63 [00:18<00:00,  3.43 batch/s, loss=4.4817]\n",
      "Validating: 100%|██████████| 16/16 [00:01<00:00, 11.07 batch/s, loss=4.2477]\n"
     ]
    },
    {
     "name": "stdout",
     "output_type": "stream",
     "text": [
      "\u001b[1m\u001b[36mBest valid loss improved. Current accuracy is 2.04%. Saving checkpoint...\n",
      "\u001b[0m\u001b[1m\u001b[36mBest valid accuracy improved. Current accuracy is 2.04%. Saving checkpoint...\n",
      "\u001b[0m"
     ]
    },
    {
     "name": "stderr",
     "output_type": "stream",
     "text": [
      "Epoch 2/10: 100%|██████████| 63/63 [00:18<00:00,  3.46 batch/s, loss=4.1765]\n",
      "Validating: 100%|██████████| 16/16 [00:01<00:00, 11.11 batch/s, loss=4.0392]\n"
     ]
    },
    {
     "name": "stdout",
     "output_type": "stream",
     "text": [
      "\u001b[1m\u001b[36mBest valid loss improved. Current accuracy is 4.10%. Saving checkpoint...\n",
      "\u001b[0m\u001b[1m\u001b[36mBest valid accuracy improved. Current accuracy is 4.10%. Saving checkpoint...\n",
      "\u001b[0m"
     ]
    },
    {
     "name": "stderr",
     "output_type": "stream",
     "text": [
      "Epoch 3/10: 100%|██████████| 63/63 [00:18<00:00,  3.47 batch/s, loss=3.9301]\n",
      "Validating: 100%|██████████| 16/16 [00:01<00:00, 11.00 batch/s, loss=3.7349]\n"
     ]
    },
    {
     "name": "stdout",
     "output_type": "stream",
     "text": [
      "\u001b[1m\u001b[36mBest valid loss improved. Current accuracy is 7.83%. Saving checkpoint...\n",
      "\u001b[0m\u001b[1m\u001b[36mBest valid accuracy improved. Current accuracy is 7.83%. Saving checkpoint...\n",
      "\u001b[0m"
     ]
    },
    {
     "name": "stderr",
     "output_type": "stream",
     "text": [
      "Epoch 4/10: 100%|██████████| 63/63 [00:18<00:00,  3.44 batch/s, loss=3.6086]\n",
      "Validating: 100%|██████████| 16/16 [00:01<00:00, 11.10 batch/s, loss=3.4079]\n"
     ]
    },
    {
     "name": "stdout",
     "output_type": "stream",
     "text": [
      "\u001b[1m\u001b[36mBest valid loss improved. Current accuracy is 11.96%. Saving checkpoint...\n",
      "\u001b[0m\u001b[1m\u001b[36mBest valid accuracy improved. Current accuracy is 11.96%. Saving checkpoint...\n",
      "\u001b[0m"
     ]
    },
    {
     "name": "stderr",
     "output_type": "stream",
     "text": [
      "Epoch 5/10: 100%|██████████| 63/63 [00:18<00:00,  3.46 batch/s, loss=3.2412]\n",
      "Validating: 100%|██████████| 16/16 [00:01<00:00, 11.11 batch/s, loss=3.1016]\n"
     ]
    },
    {
     "name": "stdout",
     "output_type": "stream",
     "text": [
      "\u001b[1m\u001b[36mBest valid loss improved. Current accuracy is 18.40%. Saving checkpoint...\n",
      "\u001b[0m\u001b[1m\u001b[36mBest valid accuracy improved. Current accuracy is 18.40%. Saving checkpoint...\n",
      "\u001b[0m"
     ]
    },
    {
     "name": "stderr",
     "output_type": "stream",
     "text": [
      "Epoch 6/10: 100%|██████████| 63/63 [00:18<00:00,  3.45 batch/s, loss=2.9200]\n",
      "Validating: 100%|██████████| 16/16 [00:01<00:00, 10.96 batch/s, loss=2.9884]\n"
     ]
    },
    {
     "name": "stdout",
     "output_type": "stream",
     "text": [
      "\u001b[1m\u001b[36mBest valid loss improved. Current accuracy is 20.23%. Saving checkpoint...\n",
      "\u001b[0m\u001b[1m\u001b[36mBest valid accuracy improved. Current accuracy is 20.23%. Saving checkpoint...\n",
      "\u001b[0m"
     ]
    },
    {
     "name": "stderr",
     "output_type": "stream",
     "text": [
      "Epoch 7/10: 100%|██████████| 63/63 [00:18<00:00,  3.47 batch/s, loss=2.6438]\n",
      "Validating: 100%|██████████| 16/16 [00:01<00:00, 11.11 batch/s, loss=2.8132]\n"
     ]
    },
    {
     "name": "stdout",
     "output_type": "stream",
     "text": [
      "\u001b[1m\u001b[36mBest valid loss improved. Current accuracy is 25.31%. Saving checkpoint...\n",
      "\u001b[0m\u001b[1m\u001b[36mBest valid accuracy improved. Current accuracy is 25.31%. Saving checkpoint...\n",
      "\u001b[0m"
     ]
    },
    {
     "name": "stderr",
     "output_type": "stream",
     "text": [
      "Epoch 8/10: 100%|██████████| 63/63 [00:18<00:00,  3.47 batch/s, loss=2.3765]\n",
      "Validating: 100%|██████████| 16/16 [00:01<00:00, 11.05 batch/s, loss=2.6312]\n"
     ]
    },
    {
     "name": "stdout",
     "output_type": "stream",
     "text": [
      "\u001b[1m\u001b[36mBest valid loss improved. Current accuracy is 29.66%. Saving checkpoint...\n",
      "\u001b[0m\u001b[1m\u001b[36mBest valid accuracy improved. Current accuracy is 29.66%. Saving checkpoint...\n",
      "\u001b[0m"
     ]
    },
    {
     "name": "stderr",
     "output_type": "stream",
     "text": [
      "Epoch 9/10: 100%|██████████| 63/63 [00:18<00:00,  3.46 batch/s, loss=2.1381]\n",
      "Validating: 100%|██████████| 16/16 [00:01<00:00, 11.08 batch/s, loss=2.6058]\n"
     ]
    },
    {
     "name": "stdout",
     "output_type": "stream",
     "text": [
      "\u001b[1m\u001b[36mBest valid loss improved. Current accuracy is 30.98%. Saving checkpoint...\n",
      "\u001b[0m\u001b[1m\u001b[36mBest valid accuracy improved. Current accuracy is 30.98%. Saving checkpoint...\n",
      "\u001b[0m"
     ]
    },
    {
     "name": "stderr",
     "output_type": "stream",
     "text": [
      "Epoch 10/10: 100%|██████████| 63/63 [00:18<00:00,  3.45 batch/s, loss=1.8933]\n",
      "Validating: 100%|██████████| 16/16 [00:01<00:00, 11.10 batch/s, loss=2.6395]\n"
     ]
    },
    {
     "name": "stdout",
     "output_type": "stream",
     "text": [
      "\u001b[1m\u001b[36mBest valid accuracy improved. Current accuracy is 33.09%. Saving checkpoint...\n",
      "\u001b[0m"
     ]
    },
    {
     "name": "stderr",
     "output_type": "stream",
     "text": [
      "Testing: 100%|██████████| 20/20 [00:01<00:00, 11.02 batch/s]\n"
     ]
    },
    {
     "name": "stdout",
     "output_type": "stream",
     "text": [
      "\u001b[1m\u001b[95mRunning run vgg16_kiss,ep:10,bs:512,clip:5.0,ID:2/9\n",
      "\u001b[0m"
     ]
    },
    {
     "name": "stderr",
     "output_type": "stream",
     "text": [
      "Epoch 1/10: 100%|██████████| 71/71 [00:20<00:00,  3.43 batch/s, loss=4.6050]\n",
      "Validating: 100%|██████████| 18/18 [00:01<00:00, 10.23 batch/s, loss=4.6017]\n"
     ]
    },
    {
     "name": "stdout",
     "output_type": "stream",
     "text": [
      "\u001b[1m\u001b[36mBest valid loss improved. Current accuracy is 0.98%. Saving checkpoint...\n",
      "\u001b[0m\u001b[1m\u001b[36mBest valid accuracy improved. Current accuracy is 0.98%. Saving checkpoint...\n",
      "\u001b[0m"
     ]
    },
    {
     "name": "stderr",
     "output_type": "stream",
     "text": [
      "Epoch 2/10: 100%|██████████| 71/71 [00:20<00:00,  3.46 batch/s, loss=4.5655]\n",
      "Validating: 100%|██████████| 18/18 [00:01<00:00, 11.08 batch/s, loss=4.3622]\n"
     ]
    },
    {
     "name": "stdout",
     "output_type": "stream",
     "text": [
      "\u001b[1m\u001b[36mBest valid loss improved. Current accuracy is 1.82%. Saving checkpoint...\n",
      "\u001b[0m\u001b[1m\u001b[36mBest valid accuracy improved. Current accuracy is 1.82%. Saving checkpoint...\n",
      "\u001b[0m"
     ]
    },
    {
     "name": "stderr",
     "output_type": "stream",
     "text": [
      "Epoch 3/10: 100%|██████████| 71/71 [00:20<00:00,  3.46 batch/s, loss=4.2639]\n",
      "Validating: 100%|██████████| 18/18 [00:01<00:00, 10.95 batch/s, loss=4.1489]\n"
     ]
    },
    {
     "name": "stdout",
     "output_type": "stream",
     "text": [
      "\u001b[1m\u001b[36mBest valid loss improved. Current accuracy is 3.52%. Saving checkpoint...\n",
      "\u001b[0m\u001b[1m\u001b[36mBest valid accuracy improved. Current accuracy is 3.52%. Saving checkpoint...\n",
      "\u001b[0m"
     ]
    },
    {
     "name": "stderr",
     "output_type": "stream",
     "text": [
      "Epoch 4/10: 100%|██████████| 71/71 [00:20<00:00,  3.47 batch/s, loss=4.0870]\n",
      "Validating: 100%|██████████| 18/18 [00:01<00:00, 11.08 batch/s, loss=3.9365]\n"
     ]
    },
    {
     "name": "stdout",
     "output_type": "stream",
     "text": [
      "\u001b[1m\u001b[36mBest valid loss improved. Current accuracy is 5.12%. Saving checkpoint...\n",
      "\u001b[0m\u001b[1m\u001b[36mBest valid accuracy improved. Current accuracy is 5.12%. Saving checkpoint...\n",
      "\u001b[0m"
     ]
    },
    {
     "name": "stderr",
     "output_type": "stream",
     "text": [
      "Epoch 5/10: 100%|██████████| 71/71 [00:20<00:00,  3.47 batch/s, loss=3.8926]\n",
      "Validating: 100%|██████████| 18/18 [00:01<00:00, 11.08 batch/s, loss=3.8431]\n"
     ]
    },
    {
     "name": "stdout",
     "output_type": "stream",
     "text": [
      "\u001b[1m\u001b[36mBest valid loss improved. Current accuracy is 5.80%. Saving checkpoint...\n",
      "\u001b[0m\u001b[1m\u001b[36mBest valid accuracy improved. Current accuracy is 5.80%. Saving checkpoint...\n",
      "\u001b[0m"
     ]
    },
    {
     "name": "stderr",
     "output_type": "stream",
     "text": [
      "Epoch 6/10: 100%|██████████| 71/71 [00:20<00:00,  3.46 batch/s, loss=3.7175]\n",
      "Validating: 100%|██████████| 18/18 [00:01<00:00, 11.11 batch/s, loss=3.6097]\n"
     ]
    },
    {
     "name": "stdout",
     "output_type": "stream",
     "text": [
      "\u001b[1m\u001b[36mBest valid loss improved. Current accuracy is 9.19%. Saving checkpoint...\n",
      "\u001b[0m\u001b[1m\u001b[36mBest valid accuracy improved. Current accuracy is 9.19%. Saving checkpoint...\n",
      "\u001b[0m"
     ]
    },
    {
     "name": "stderr",
     "output_type": "stream",
     "text": [
      "Epoch 7/10: 100%|██████████| 71/71 [00:20<00:00,  3.46 batch/s, loss=3.4541]\n",
      "Validating: 100%|██████████| 18/18 [00:01<00:00, 11.02 batch/s, loss=3.3615]\n"
     ]
    },
    {
     "name": "stdout",
     "output_type": "stream",
     "text": [
      "\u001b[1m\u001b[36mBest valid loss improved. Current accuracy is 12.17%. Saving checkpoint...\n",
      "\u001b[0m\u001b[1m\u001b[36mBest valid accuracy improved. Current accuracy is 12.17%. Saving checkpoint...\n",
      "\u001b[0m"
     ]
    },
    {
     "name": "stderr",
     "output_type": "stream",
     "text": [
      "Epoch 8/10: 100%|██████████| 71/71 [00:20<00:00,  3.47 batch/s, loss=3.1688]\n",
      "Validating: 100%|██████████| 18/18 [00:01<00:00, 11.09 batch/s, loss=3.1403]\n"
     ]
    },
    {
     "name": "stdout",
     "output_type": "stream",
     "text": [
      "\u001b[1m\u001b[36mBest valid loss improved. Current accuracy is 16.72%. Saving checkpoint...\n",
      "\u001b[0m\u001b[1m\u001b[36mBest valid accuracy improved. Current accuracy is 16.72%. Saving checkpoint...\n",
      "\u001b[0m"
     ]
    },
    {
     "name": "stderr",
     "output_type": "stream",
     "text": [
      "Epoch 9/10: 100%|██████████| 71/71 [00:20<00:00,  3.47 batch/s, loss=2.9356]\n",
      "Validating: 100%|██████████| 18/18 [00:01<00:00, 10.94 batch/s, loss=3.0250]\n"
     ]
    },
    {
     "name": "stdout",
     "output_type": "stream",
     "text": [
      "\u001b[1m\u001b[36mBest valid loss improved. Current accuracy is 18.82%. Saving checkpoint...\n",
      "\u001b[0m\u001b[1m\u001b[36mBest valid accuracy improved. Current accuracy is 18.82%. Saving checkpoint...\n",
      "\u001b[0m"
     ]
    },
    {
     "name": "stderr",
     "output_type": "stream",
     "text": [
      "Epoch 10/10: 100%|██████████| 71/71 [00:20<00:00,  3.47 batch/s, loss=2.6792]\n",
      "Validating: 100%|██████████| 18/18 [00:01<00:00, 11.08 batch/s, loss=2.8582]\n"
     ]
    },
    {
     "name": "stdout",
     "output_type": "stream",
     "text": [
      "\u001b[1m\u001b[36mBest valid loss improved. Current accuracy is 23.10%. Saving checkpoint...\n",
      "\u001b[0m\u001b[1m\u001b[36mBest valid accuracy improved. Current accuracy is 23.10%. Saving checkpoint...\n",
      "\u001b[0m"
     ]
    },
    {
     "name": "stderr",
     "output_type": "stream",
     "text": [
      "Testing: 100%|██████████| 20/20 [00:01<00:00, 10.86 batch/s]\n"
     ]
    },
    {
     "name": "stdout",
     "output_type": "stream",
     "text": [
      "\u001b[1m\u001b[95mRunning run vgg16_kiss,ep:10,bs:512,clip:5.0,ID:2/10\n",
      "\u001b[0m"
     ]
    },
    {
     "name": "stderr",
     "output_type": "stream",
     "text": [
      "Epoch 1/10: 100%|██████████| 79/79 [00:22<00:00,  3.44 batch/s, loss=4.6009]\n",
      "Validating: 100%|██████████| 20/20 [00:01<00:00, 10.73 batch/s, loss=4.5173]\n"
     ]
    },
    {
     "name": "stdout",
     "output_type": "stream",
     "text": [
      "\u001b[1m\u001b[36mBest valid loss improved. Current accuracy is 1.77%. Saving checkpoint...\n",
      "\u001b[0m\u001b[1m\u001b[36mBest valid accuracy improved. Current accuracy is 1.77%. Saving checkpoint...\n",
      "\u001b[0m"
     ]
    },
    {
     "name": "stderr",
     "output_type": "stream",
     "text": [
      "Epoch 2/10: 100%|██████████| 79/79 [00:22<00:00,  3.47 batch/s, loss=4.3470]\n",
      "Validating: 100%|██████████| 20/20 [00:01<00:00, 11.08 batch/s, loss=4.1874]\n"
     ]
    },
    {
     "name": "stdout",
     "output_type": "stream",
     "text": [
      "\u001b[1m\u001b[36mBest valid loss improved. Current accuracy is 2.96%. Saving checkpoint...\n",
      "\u001b[0m\u001b[1m\u001b[36mBest valid accuracy improved. Current accuracy is 2.96%. Saving checkpoint...\n",
      "\u001b[0m"
     ]
    },
    {
     "name": "stderr",
     "output_type": "stream",
     "text": [
      "Epoch 3/10: 100%|██████████| 79/79 [00:22<00:00,  3.47 batch/s, loss=4.1270]\n",
      "Validating: 100%|██████████| 20/20 [00:01<00:00, 11.08 batch/s, loss=4.0797]\n"
     ]
    },
    {
     "name": "stdout",
     "output_type": "stream",
     "text": [
      "\u001b[1m\u001b[36mBest valid loss improved. Current accuracy is 4.40%. Saving checkpoint...\n",
      "\u001b[0m\u001b[1m\u001b[36mBest valid accuracy improved. Current accuracy is 4.40%. Saving checkpoint...\n",
      "\u001b[0m"
     ]
    },
    {
     "name": "stderr",
     "output_type": "stream",
     "text": [
      "Epoch 4/10: 100%|██████████| 79/79 [00:22<00:00,  3.48 batch/s, loss=3.9564]\n",
      "Validating: 100%|██████████| 20/20 [00:01<00:00, 11.08 batch/s, loss=3.8353]\n"
     ]
    },
    {
     "name": "stdout",
     "output_type": "stream",
     "text": [
      "\u001b[1m\u001b[36mBest valid loss improved. Current accuracy is 6.41%. Saving checkpoint...\n",
      "\u001b[0m\u001b[1m\u001b[36mBest valid accuracy improved. Current accuracy is 6.41%. Saving checkpoint...\n",
      "\u001b[0m"
     ]
    },
    {
     "name": "stderr",
     "output_type": "stream",
     "text": [
      "Epoch 5/10: 100%|██████████| 79/79 [00:22<00:00,  3.48 batch/s, loss=3.7343]\n",
      "Validating: 100%|██████████| 20/20 [00:01<00:00, 11.08 batch/s, loss=3.6584]\n"
     ]
    },
    {
     "name": "stdout",
     "output_type": "stream",
     "text": [
      "\u001b[1m\u001b[36mBest valid loss improved. Current accuracy is 8.94%. Saving checkpoint...\n",
      "\u001b[0m\u001b[1m\u001b[36mBest valid accuracy improved. Current accuracy is 8.94%. Saving checkpoint...\n",
      "\u001b[0m"
     ]
    },
    {
     "name": "stderr",
     "output_type": "stream",
     "text": [
      "Epoch 6/10: 100%|██████████| 79/79 [00:22<00:00,  3.47 batch/s, loss=3.4924]\n",
      "Validating: 100%|██████████| 20/20 [00:01<00:00, 11.07 batch/s, loss=3.4716]\n"
     ]
    },
    {
     "name": "stdout",
     "output_type": "stream",
     "text": [
      "\u001b[1m\u001b[36mBest valid loss improved. Current accuracy is 13.17%. Saving checkpoint...\n",
      "\u001b[0m\u001b[1m\u001b[36mBest valid accuracy improved. Current accuracy is 13.17%. Saving checkpoint...\n",
      "\u001b[0m"
     ]
    },
    {
     "name": "stderr",
     "output_type": "stream",
     "text": [
      "Epoch 7/10: 100%|██████████| 79/79 [00:22<00:00,  3.48 batch/s, loss=3.2111]\n",
      "Validating: 100%|██████████| 20/20 [00:01<00:00, 11.09 batch/s, loss=3.2437]\n"
     ]
    },
    {
     "name": "stdout",
     "output_type": "stream",
     "text": [
      "\u001b[1m\u001b[36mBest valid loss improved. Current accuracy is 15.77%. Saving checkpoint...\n",
      "\u001b[0m\u001b[1m\u001b[36mBest valid accuracy improved. Current accuracy is 15.77%. Saving checkpoint...\n",
      "\u001b[0m"
     ]
    },
    {
     "name": "stderr",
     "output_type": "stream",
     "text": [
      "Epoch 8/10: 100%|██████████| 79/79 [00:22<00:00,  3.48 batch/s, loss=2.9832]\n",
      "Validating: 100%|██████████| 20/20 [00:01<00:00, 11.10 batch/s, loss=2.9680]\n"
     ]
    },
    {
     "name": "stdout",
     "output_type": "stream",
     "text": [
      "\u001b[1m\u001b[36mBest valid loss improved. Current accuracy is 21.23%. Saving checkpoint...\n",
      "\u001b[0m\u001b[1m\u001b[36mBest valid accuracy improved. Current accuracy is 21.23%. Saving checkpoint...\n",
      "\u001b[0m"
     ]
    },
    {
     "name": "stderr",
     "output_type": "stream",
     "text": [
      "Epoch 9/10: 100%|██████████| 79/79 [00:22<00:00,  3.47 batch/s, loss=2.7466]\n",
      "Validating: 100%|██████████| 20/20 [00:01<00:00, 11.07 batch/s, loss=2.8502]\n"
     ]
    },
    {
     "name": "stdout",
     "output_type": "stream",
     "text": [
      "\u001b[1m\u001b[36mBest valid loss improved. Current accuracy is 22.88%. Saving checkpoint...\n",
      "\u001b[0m\u001b[1m\u001b[36mBest valid accuracy improved. Current accuracy is 22.88%. Saving checkpoint...\n",
      "\u001b[0m"
     ]
    },
    {
     "name": "stderr",
     "output_type": "stream",
     "text": [
      "Epoch 10/10: 100%|██████████| 79/79 [00:22<00:00,  3.47 batch/s, loss=2.5474]\n",
      "Validating: 100%|██████████| 20/20 [00:01<00:00, 11.09 batch/s, loss=2.7640]\n"
     ]
    },
    {
     "name": "stdout",
     "output_type": "stream",
     "text": [
      "\u001b[1m\u001b[36mBest valid loss improved. Current accuracy is 26.91%. Saving checkpoint...\n",
      "\u001b[0m\u001b[1m\u001b[36mBest valid accuracy improved. Current accuracy is 26.91%. Saving checkpoint...\n",
      "\u001b[0m"
     ]
    },
    {
     "name": "stderr",
     "output_type": "stream",
     "text": [
      "Testing: 100%|██████████| 20/20 [00:01<00:00, 10.93 batch/s]\n"
     ]
    },
    {
     "name": "stdout",
     "output_type": "stream",
     "text": [
      "\u001b[1m\u001b[33mRunning experiment VGG!CIFAR100!KMeansSampler\n",
      "\u001b[0m\u001b[1m\u001b[95mRunning run vgg16_kiss,ep:10,bs:512,clip:5.0,nc:8,eqsize,ID:2/1\n",
      "\u001b[0m5000 4787\n"
     ]
    },
    {
     "name": "stderr",
     "output_type": "stream",
     "text": [
      "Epoch 1/10: 100%|██████████| 8/8 [00:02<00:00,  3.49 batch/s, loss=4.6146]\n",
      "Validating: 100%|██████████| 2/2 [00:00<00:00, 10.16 batch/s, loss=4.6059]\n"
     ]
    },
    {
     "name": "stdout",
     "output_type": "stream",
     "text": [
      "\u001b[1m\u001b[36mBest valid loss improved. Current accuracy is 0.60%. Saving checkpoint...\n",
      "\u001b[0m\u001b[1m\u001b[36mBest valid accuracy improved. Current accuracy is 0.60%. Saving checkpoint...\n",
      "\u001b[0m"
     ]
    },
    {
     "name": "stderr",
     "output_type": "stream",
     "text": [
      "Epoch 2/10: 100%|██████████| 8/8 [00:02<00:00,  3.51 batch/s, loss=4.6269]\n",
      "Validating: 100%|██████████| 2/2 [00:00<00:00, 11.03 batch/s, loss=4.6070]\n"
     ]
    },
    {
     "name": "stdout",
     "output_type": "stream",
     "text": [
      "\u001b[1m\u001b[36mBest valid accuracy improved. Current accuracy is 1.20%. Saving checkpoint...\n",
      "\u001b[0m"
     ]
    },
    {
     "name": "stderr",
     "output_type": "stream",
     "text": [
      "Epoch 3/10: 100%|██████████| 8/8 [00:02<00:00,  3.49 batch/s, loss=4.5976]\n",
      "Validating: 100%|██████████| 2/2 [00:00<00:00,  9.75 batch/s, loss=4.6105]\n",
      "Epoch 4/10: 100%|██████████| 8/8 [00:02<00:00,  3.52 batch/s, loss=4.6059]\n",
      "Validating: 100%|██████████| 2/2 [00:00<00:00, 11.06 batch/s, loss=4.6072]\n",
      "Epoch 5/10: 100%|██████████| 8/8 [00:02<00:00,  3.52 batch/s, loss=4.6047]\n",
      "Validating: 100%|██████████| 2/2 [00:00<00:00, 10.96 batch/s, loss=4.6063]\n",
      "Epoch 6/10: 100%|██████████| 8/8 [00:02<00:00,  3.52 batch/s, loss=4.5966]\n",
      "Validating: 100%|██████████| 2/2 [00:00<00:00, 10.95 batch/s, loss=4.5957]\n"
     ]
    },
    {
     "name": "stdout",
     "output_type": "stream",
     "text": [
      "\u001b[1m\u001b[36mBest valid loss improved. Current accuracy is 1.00%. Saving checkpoint...\n",
      "\u001b[0m"
     ]
    },
    {
     "name": "stderr",
     "output_type": "stream",
     "text": [
      "Epoch 7/10: 100%|██████████| 8/8 [00:02<00:00,  3.49 batch/s, loss=4.5694]\n",
      "Validating: 100%|██████████| 2/2 [00:00<00:00,  9.94 batch/s, loss=4.5167]\n"
     ]
    },
    {
     "name": "stdout",
     "output_type": "stream",
     "text": [
      "\u001b[1m\u001b[36mBest valid loss improved. Current accuracy is 1.10%. Saving checkpoint...\n",
      "\u001b[0m"
     ]
    },
    {
     "name": "stderr",
     "output_type": "stream",
     "text": [
      "Epoch 8/10: 100%|██████████| 8/8 [00:02<00:00,  3.52 batch/s, loss=4.5206]\n",
      "Validating: 100%|██████████| 2/2 [00:00<00:00, 10.40 batch/s, loss=4.4900]\n"
     ]
    },
    {
     "name": "stdout",
     "output_type": "stream",
     "text": [
      "\u001b[1m\u001b[36mBest valid loss improved. Current accuracy is 2.10%. Saving checkpoint...\n",
      "\u001b[0m\u001b[1m\u001b[36mBest valid accuracy improved. Current accuracy is 2.10%. Saving checkpoint...\n",
      "\u001b[0m"
     ]
    },
    {
     "name": "stderr",
     "output_type": "stream",
     "text": [
      "Epoch 9/10: 100%|██████████| 8/8 [00:02<00:00,  3.51 batch/s, loss=4.4522]\n",
      "Validating: 100%|██████████| 2/2 [00:00<00:00, 10.00 batch/s, loss=4.4223]\n"
     ]
    },
    {
     "name": "stdout",
     "output_type": "stream",
     "text": [
      "\u001b[1m\u001b[36mBest valid loss improved. Current accuracy is 1.60%. Saving checkpoint...\n",
      "\u001b[0m"
     ]
    },
    {
     "name": "stderr",
     "output_type": "stream",
     "text": [
      "Epoch 10/10: 100%|██████████| 8/8 [00:02<00:00,  3.51 batch/s, loss=4.3774]\n",
      "Validating: 100%|██████████| 2/2 [00:00<00:00, 10.42 batch/s, loss=4.3672]\n"
     ]
    },
    {
     "name": "stdout",
     "output_type": "stream",
     "text": [
      "\u001b[1m\u001b[36mBest valid loss improved. Current accuracy is 2.60%. Saving checkpoint...\n",
      "\u001b[0m\u001b[1m\u001b[36mBest valid accuracy improved. Current accuracy is 2.60%. Saving checkpoint...\n",
      "\u001b[0m"
     ]
    },
    {
     "name": "stderr",
     "output_type": "stream",
     "text": [
      "Testing: 100%|██████████| 20/20 [00:01<00:00, 10.86 batch/s]\n"
     ]
    },
    {
     "name": "stdout",
     "output_type": "stream",
     "text": [
      "\u001b[1m\u001b[95mRunning run vgg16_kiss,ep:10,bs:512,clip:5.0,nc:8,eqsize,ID:2/2\n",
      "\u001b[0m10000 9534\n"
     ]
    },
    {
     "name": "stderr",
     "output_type": "stream",
     "text": [
      "Epoch 1/10: 100%|██████████| 16/16 [00:04<00:00,  3.51 batch/s, loss=4.6276]\n",
      "Validating: 100%|██████████| 4/4 [00:00<00:00, 11.04 batch/s, loss=4.5859]\n"
     ]
    },
    {
     "name": "stdout",
     "output_type": "stream",
     "text": [
      "\u001b[1m\u001b[36mBest valid loss improved. Current accuracy is 1.40%. Saving checkpoint...\n",
      "\u001b[0m\u001b[1m\u001b[36mBest valid accuracy improved. Current accuracy is 1.40%. Saving checkpoint...\n",
      "\u001b[0m"
     ]
    },
    {
     "name": "stderr",
     "output_type": "stream",
     "text": [
      "Epoch 2/10: 100%|██████████| 16/16 [00:04<00:00,  3.48 batch/s, loss=4.6041]\n",
      "Validating: 100%|██████████| 4/4 [00:00<00:00, 11.10 batch/s, loss=4.6069]\n",
      "Epoch 3/10: 100%|██████████| 16/16 [00:04<00:00,  3.52 batch/s, loss=4.5989]\n",
      "Validating: 100%|██████████| 4/4 [00:00<00:00, 11.07 batch/s, loss=4.5894]\n",
      "Epoch 4/10: 100%|██████████| 16/16 [00:04<00:00,  3.49 batch/s, loss=4.6010]\n",
      "Validating: 100%|██████████| 4/4 [00:00<00:00, 11.10 batch/s, loss=4.5967]\n",
      "Epoch 5/10: 100%|██████████| 16/16 [00:04<00:00,  3.51 batch/s, loss=4.5003]\n",
      "Validating: 100%|██████████| 4/4 [00:00<00:00, 11.03 batch/s, loss=4.4292]\n"
     ]
    },
    {
     "name": "stdout",
     "output_type": "stream",
     "text": [
      "\u001b[1m\u001b[36mBest valid loss improved. Current accuracy is 1.80%. Saving checkpoint...\n",
      "\u001b[0m\u001b[1m\u001b[36mBest valid accuracy improved. Current accuracy is 1.80%. Saving checkpoint...\n",
      "\u001b[0m"
     ]
    },
    {
     "name": "stderr",
     "output_type": "stream",
     "text": [
      "Epoch 6/10: 100%|██████████| 16/16 [00:04<00:00,  3.50 batch/s, loss=4.4026]\n",
      "Validating: 100%|██████████| 4/4 [00:00<00:00, 10.53 batch/s, loss=4.3989]\n"
     ]
    },
    {
     "name": "stdout",
     "output_type": "stream",
     "text": [
      "\u001b[1m\u001b[36mBest valid loss improved. Current accuracy is 1.80%. Saving checkpoint...\n",
      "\u001b[0m"
     ]
    },
    {
     "name": "stderr",
     "output_type": "stream",
     "text": [
      "Epoch 7/10: 100%|██████████| 16/16 [00:04<00:00,  3.51 batch/s, loss=4.3575]\n",
      "Validating: 100%|██████████| 4/4 [00:00<00:00, 11.06 batch/s, loss=4.3036]\n"
     ]
    },
    {
     "name": "stdout",
     "output_type": "stream",
     "text": [
      "\u001b[1m\u001b[36mBest valid loss improved. Current accuracy is 2.40%. Saving checkpoint...\n",
      "\u001b[0m\u001b[1m\u001b[36mBest valid accuracy improved. Current accuracy is 2.40%. Saving checkpoint...\n",
      "\u001b[0m"
     ]
    },
    {
     "name": "stderr",
     "output_type": "stream",
     "text": [
      "Epoch 8/10: 100%|██████████| 16/16 [00:04<00:00,  3.48 batch/s, loss=4.2835]\n",
      "Validating: 100%|██████████| 4/4 [00:00<00:00, 11.10 batch/s, loss=4.2367]\n"
     ]
    },
    {
     "name": "stdout",
     "output_type": "stream",
     "text": [
      "\u001b[1m\u001b[36mBest valid loss improved. Current accuracy is 2.55%. Saving checkpoint...\n",
      "\u001b[0m\u001b[1m\u001b[36mBest valid accuracy improved. Current accuracy is 2.55%. Saving checkpoint...\n",
      "\u001b[0m"
     ]
    },
    {
     "name": "stderr",
     "output_type": "stream",
     "text": [
      "Epoch 9/10: 100%|██████████| 16/16 [00:04<00:00,  3.52 batch/s, loss=4.2304]\n",
      "Validating: 100%|██████████| 4/4 [00:00<00:00, 11.08 batch/s, loss=4.1356]\n"
     ]
    },
    {
     "name": "stdout",
     "output_type": "stream",
     "text": [
      "\u001b[1m\u001b[36mBest valid loss improved. Current accuracy is 3.15%. Saving checkpoint...\n",
      "\u001b[0m\u001b[1m\u001b[36mBest valid accuracy improved. Current accuracy is 3.15%. Saving checkpoint...\n",
      "\u001b[0m"
     ]
    },
    {
     "name": "stderr",
     "output_type": "stream",
     "text": [
      "Epoch 10/10: 100%|██████████| 16/16 [00:04<00:00,  3.49 batch/s, loss=4.1539]\n",
      "Validating: 100%|██████████| 4/4 [00:00<00:00, 11.03 batch/s, loss=4.1176]\n"
     ]
    },
    {
     "name": "stdout",
     "output_type": "stream",
     "text": [
      "\u001b[1m\u001b[36mBest valid loss improved. Current accuracy is 3.00%. Saving checkpoint...\n",
      "\u001b[0m"
     ]
    },
    {
     "name": "stderr",
     "output_type": "stream",
     "text": [
      "Testing: 100%|██████████| 20/20 [00:01<00:00, 10.98 batch/s]\n"
     ]
    },
    {
     "name": "stdout",
     "output_type": "stream",
     "text": [
      "\u001b[1m\u001b[95mRunning run vgg16_kiss,ep:10,bs:512,clip:5.0,nc:8,eqsize,ID:2/3\n",
      "\u001b[0m15000 14187\n"
     ]
    },
    {
     "name": "stderr",
     "output_type": "stream",
     "text": [
      "Epoch 1/10: 100%|██████████| 24/24 [00:06<00:00,  3.51 batch/s, loss=4.6101]\n",
      "Validating: 100%|██████████| 6/6 [00:00<00:00, 10.77 batch/s, loss=4.5667]\n"
     ]
    },
    {
     "name": "stdout",
     "output_type": "stream",
     "text": [
      "\u001b[1m\u001b[36mBest valid loss improved. Current accuracy is 1.13%. Saving checkpoint...\n",
      "\u001b[0m\u001b[1m\u001b[36mBest valid accuracy improved. Current accuracy is 1.13%. Saving checkpoint...\n",
      "\u001b[0m"
     ]
    },
    {
     "name": "stderr",
     "output_type": "stream",
     "text": [
      "Epoch 2/10: 100%|██████████| 24/24 [00:06<00:00,  3.51 batch/s, loss=4.4953]\n",
      "Validating: 100%|██████████| 6/6 [00:00<00:00, 11.04 batch/s, loss=4.4036]\n"
     ]
    },
    {
     "name": "stdout",
     "output_type": "stream",
     "text": [
      "\u001b[1m\u001b[36mBest valid loss improved. Current accuracy is 2.73%. Saving checkpoint...\n",
      "\u001b[0m\u001b[1m\u001b[36mBest valid accuracy improved. Current accuracy is 2.73%. Saving checkpoint...\n",
      "\u001b[0m"
     ]
    },
    {
     "name": "stderr",
     "output_type": "stream",
     "text": [
      "Epoch 3/10: 100%|██████████| 24/24 [00:06<00:00,  3.50 batch/s, loss=4.3733]\n",
      "Validating: 100%|██████████| 6/6 [00:00<00:00, 11.10 batch/s, loss=4.2450]\n"
     ]
    },
    {
     "name": "stdout",
     "output_type": "stream",
     "text": [
      "\u001b[1m\u001b[36mBest valid loss improved. Current accuracy is 2.03%. Saving checkpoint...\n",
      "\u001b[0m"
     ]
    },
    {
     "name": "stderr",
     "output_type": "stream",
     "text": [
      "Epoch 4/10: 100%|██████████| 24/24 [00:06<00:00,  3.50 batch/s, loss=4.2404]\n",
      "Validating: 100%|██████████| 6/6 [00:00<00:00, 11.03 batch/s, loss=4.1388]\n"
     ]
    },
    {
     "name": "stdout",
     "output_type": "stream",
     "text": [
      "\u001b[1m\u001b[36mBest valid loss improved. Current accuracy is 3.30%. Saving checkpoint...\n",
      "\u001b[0m\u001b[1m\u001b[36mBest valid accuracy improved. Current accuracy is 3.30%. Saving checkpoint...\n",
      "\u001b[0m"
     ]
    },
    {
     "name": "stderr",
     "output_type": "stream",
     "text": [
      "Epoch 5/10: 100%|██████████| 24/24 [00:06<00:00,  3.51 batch/s, loss=4.1434]\n",
      "Validating: 100%|██████████| 6/6 [00:00<00:00, 11.12 batch/s, loss=4.0560]\n"
     ]
    },
    {
     "name": "stdout",
     "output_type": "stream",
     "text": [
      "\u001b[1m\u001b[36mBest valid loss improved. Current accuracy is 4.17%. Saving checkpoint...\n",
      "\u001b[0m\u001b[1m\u001b[36mBest valid accuracy improved. Current accuracy is 4.17%. Saving checkpoint...\n",
      "\u001b[0m"
     ]
    },
    {
     "name": "stderr",
     "output_type": "stream",
     "text": [
      "Epoch 6/10: 100%|██████████| 24/24 [00:06<00:00,  3.50 batch/s, loss=4.0286]\n",
      "Validating: 100%|██████████| 6/6 [00:00<00:00, 11.07 batch/s, loss=3.9831]\n"
     ]
    },
    {
     "name": "stdout",
     "output_type": "stream",
     "text": [
      "\u001b[1m\u001b[36mBest valid loss improved. Current accuracy is 4.40%. Saving checkpoint...\n",
      "\u001b[0m\u001b[1m\u001b[36mBest valid accuracy improved. Current accuracy is 4.40%. Saving checkpoint...\n",
      "\u001b[0m"
     ]
    },
    {
     "name": "stderr",
     "output_type": "stream",
     "text": [
      "Epoch 7/10: 100%|██████████| 24/24 [00:06<00:00,  3.50 batch/s, loss=3.9294]\n",
      "Validating: 100%|██████████| 6/6 [00:00<00:00, 11.12 batch/s, loss=3.9142]\n"
     ]
    },
    {
     "name": "stdout",
     "output_type": "stream",
     "text": [
      "\u001b[1m\u001b[36mBest valid loss improved. Current accuracy is 5.70%. Saving checkpoint...\n",
      "\u001b[0m\u001b[1m\u001b[36mBest valid accuracy improved. Current accuracy is 5.70%. Saving checkpoint...\n",
      "\u001b[0m"
     ]
    },
    {
     "name": "stderr",
     "output_type": "stream",
     "text": [
      "Epoch 8/10: 100%|██████████| 24/24 [00:06<00:00,  3.51 batch/s, loss=3.8076]\n",
      "Validating: 100%|██████████| 6/6 [00:00<00:00, 10.78 batch/s, loss=3.8725]\n"
     ]
    },
    {
     "name": "stdout",
     "output_type": "stream",
     "text": [
      "\u001b[1m\u001b[36mBest valid loss improved. Current accuracy is 5.40%. Saving checkpoint...\n",
      "\u001b[0m"
     ]
    },
    {
     "name": "stderr",
     "output_type": "stream",
     "text": [
      "Epoch 9/10: 100%|██████████| 24/24 [00:06<00:00,  3.47 batch/s, loss=3.6824]\n",
      "Validating: 100%|██████████| 6/6 [00:00<00:00, 11.06 batch/s, loss=3.8898]\n"
     ]
    },
    {
     "name": "stdout",
     "output_type": "stream",
     "text": [
      "\u001b[1m\u001b[36mBest valid accuracy improved. Current accuracy is 6.70%. Saving checkpoint...\n",
      "\u001b[0m"
     ]
    },
    {
     "name": "stderr",
     "output_type": "stream",
     "text": [
      "Epoch 10/10: 100%|██████████| 24/24 [00:06<00:00,  3.51 batch/s, loss=3.5375]\n",
      "Validating: 100%|██████████| 6/6 [00:00<00:00, 11.08 batch/s, loss=3.7920]\n"
     ]
    },
    {
     "name": "stdout",
     "output_type": "stream",
     "text": [
      "\u001b[1m\u001b[36mBest valid loss improved. Current accuracy is 7.50%. Saving checkpoint...\n",
      "\u001b[0m\u001b[1m\u001b[36mBest valid accuracy improved. Current accuracy is 7.50%. Saving checkpoint...\n",
      "\u001b[0m"
     ]
    },
    {
     "name": "stderr",
     "output_type": "stream",
     "text": [
      "Testing: 100%|██████████| 20/20 [00:01<00:00, 10.84 batch/s]\n"
     ]
    },
    {
     "name": "stdout",
     "output_type": "stream",
     "text": [
      "\u001b[1m\u001b[95mRunning run vgg16_kiss,ep:10,bs:512,clip:5.0,nc:8,eqsize,ID:2/4\n",
      "\u001b[0m20000 19422\n"
     ]
    },
    {
     "name": "stderr",
     "output_type": "stream",
     "text": [
      "Epoch 1/10: 100%|██████████| 32/32 [00:09<00:00,  3.50 batch/s, loss=4.6830]\n",
      "Validating: 100%|██████████| 8/8 [00:00<00:00, 11.05 batch/s, loss=4.5476]\n"
     ]
    },
    {
     "name": "stdout",
     "output_type": "stream",
     "text": [
      "\u001b[1m\u001b[36mBest valid loss improved. Current accuracy is 1.15%. Saving checkpoint...\n",
      "\u001b[0m\u001b[1m\u001b[36mBest valid accuracy improved. Current accuracy is 1.15%. Saving checkpoint...\n",
      "\u001b[0m"
     ]
    },
    {
     "name": "stderr",
     "output_type": "stream",
     "text": [
      "Epoch 2/10: 100%|██████████| 32/32 [00:09<00:00,  3.51 batch/s, loss=4.5404]\n",
      "Validating: 100%|██████████| 8/8 [00:00<00:00, 10.96 batch/s, loss=4.4398]\n"
     ]
    },
    {
     "name": "stdout",
     "output_type": "stream",
     "text": [
      "\u001b[1m\u001b[36mBest valid loss improved. Current accuracy is 1.90%. Saving checkpoint...\n",
      "\u001b[0m\u001b[1m\u001b[36mBest valid accuracy improved. Current accuracy is 1.90%. Saving checkpoint...\n",
      "\u001b[0m"
     ]
    },
    {
     "name": "stderr",
     "output_type": "stream",
     "text": [
      "Epoch 3/10: 100%|██████████| 32/32 [00:09<00:00,  3.49 batch/s, loss=4.3718]\n",
      "Validating: 100%|██████████| 8/8 [00:00<00:00, 11.06 batch/s, loss=4.2229]\n"
     ]
    },
    {
     "name": "stdout",
     "output_type": "stream",
     "text": [
      "\u001b[1m\u001b[36mBest valid loss improved. Current accuracy is 2.60%. Saving checkpoint...\n",
      "\u001b[0m\u001b[1m\u001b[36mBest valid accuracy improved. Current accuracy is 2.60%. Saving checkpoint...\n",
      "\u001b[0m"
     ]
    },
    {
     "name": "stderr",
     "output_type": "stream",
     "text": [
      "Epoch 4/10: 100%|██████████| 32/32 [00:09<00:00,  3.51 batch/s, loss=4.1697]\n",
      "Validating: 100%|██████████| 8/8 [00:00<00:00, 10.99 batch/s, loss=4.0569]\n"
     ]
    },
    {
     "name": "stdout",
     "output_type": "stream",
     "text": [
      "\u001b[1m\u001b[36mBest valid loss improved. Current accuracy is 3.57%. Saving checkpoint...\n",
      "\u001b[0m\u001b[1m\u001b[36mBest valid accuracy improved. Current accuracy is 3.57%. Saving checkpoint...\n",
      "\u001b[0m"
     ]
    },
    {
     "name": "stderr",
     "output_type": "stream",
     "text": [
      "Epoch 5/10: 100%|██████████| 32/32 [00:09<00:00,  3.52 batch/s, loss=4.0259]\n",
      "Validating: 100%|██████████| 8/8 [00:00<00:00, 10.95 batch/s, loss=3.9656]\n"
     ]
    },
    {
     "name": "stdout",
     "output_type": "stream",
     "text": [
      "\u001b[1m\u001b[36mBest valid loss improved. Current accuracy is 4.32%. Saving checkpoint...\n",
      "\u001b[0m\u001b[1m\u001b[36mBest valid accuracy improved. Current accuracy is 4.32%. Saving checkpoint...\n",
      "\u001b[0m"
     ]
    },
    {
     "name": "stderr",
     "output_type": "stream",
     "text": [
      "Epoch 6/10: 100%|██████████| 32/32 [00:09<00:00,  3.51 batch/s, loss=3.8800]\n",
      "Validating: 100%|██████████| 8/8 [00:00<00:00, 10.92 batch/s, loss=3.9025]\n"
     ]
    },
    {
     "name": "stdout",
     "output_type": "stream",
     "text": [
      "\u001b[1m\u001b[36mBest valid loss improved. Current accuracy is 5.22%. Saving checkpoint...\n",
      "\u001b[0m\u001b[1m\u001b[36mBest valid accuracy improved. Current accuracy is 5.22%. Saving checkpoint...\n",
      "\u001b[0m"
     ]
    },
    {
     "name": "stderr",
     "output_type": "stream",
     "text": [
      "Epoch 7/10: 100%|██████████| 32/32 [00:09<00:00,  3.50 batch/s, loss=3.7206]\n",
      "Validating: 100%|██████████| 8/8 [00:00<00:00, 11.09 batch/s, loss=3.6965]\n"
     ]
    },
    {
     "name": "stdout",
     "output_type": "stream",
     "text": [
      "\u001b[1m\u001b[36mBest valid loss improved. Current accuracy is 7.42%. Saving checkpoint...\n",
      "\u001b[0m\u001b[1m\u001b[36mBest valid accuracy improved. Current accuracy is 7.42%. Saving checkpoint...\n",
      "\u001b[0m"
     ]
    },
    {
     "name": "stderr",
     "output_type": "stream",
     "text": [
      "Epoch 8/10: 100%|██████████| 32/32 [00:09<00:00,  3.51 batch/s, loss=3.5050]\n",
      "Validating: 100%|██████████| 8/8 [00:00<00:00, 10.97 batch/s, loss=3.5810]\n"
     ]
    },
    {
     "name": "stdout",
     "output_type": "stream",
     "text": [
      "\u001b[1m\u001b[36mBest valid loss improved. Current accuracy is 9.20%. Saving checkpoint...\n",
      "\u001b[0m\u001b[1m\u001b[36mBest valid accuracy improved. Current accuracy is 9.20%. Saving checkpoint...\n",
      "\u001b[0m"
     ]
    },
    {
     "name": "stderr",
     "output_type": "stream",
     "text": [
      "Epoch 9/10: 100%|██████████| 32/32 [00:09<00:00,  3.50 batch/s, loss=3.2999]\n",
      "Validating: 100%|██████████| 8/8 [00:00<00:00, 11.10 batch/s, loss=3.4579]\n"
     ]
    },
    {
     "name": "stdout",
     "output_type": "stream",
     "text": [
      "\u001b[1m\u001b[36mBest valid loss improved. Current accuracy is 12.30%. Saving checkpoint...\n",
      "\u001b[0m\u001b[1m\u001b[36mBest valid accuracy improved. Current accuracy is 12.30%. Saving checkpoint...\n",
      "\u001b[0m"
     ]
    },
    {
     "name": "stderr",
     "output_type": "stream",
     "text": [
      "Epoch 10/10: 100%|██████████| 32/32 [00:09<00:00,  3.51 batch/s, loss=3.0623]\n",
      "Validating: 100%|██████████| 8/8 [00:00<00:00, 10.91 batch/s, loss=3.3186]\n"
     ]
    },
    {
     "name": "stdout",
     "output_type": "stream",
     "text": [
      "\u001b[1m\u001b[36mBest valid loss improved. Current accuracy is 14.57%. Saving checkpoint...\n",
      "\u001b[0m\u001b[1m\u001b[36mBest valid accuracy improved. Current accuracy is 14.57%. Saving checkpoint...\n",
      "\u001b[0m"
     ]
    },
    {
     "name": "stderr",
     "output_type": "stream",
     "text": [
      "Testing: 100%|██████████| 20/20 [00:01<00:00, 10.97 batch/s]\n"
     ]
    },
    {
     "name": "stdout",
     "output_type": "stream",
     "text": [
      "\u001b[1m\u001b[95mRunning run vgg16_kiss,ep:10,bs:512,clip:5.0,nc:8,eqsize,ID:2/5\n",
      "\u001b[0m25000 23700\n"
     ]
    },
    {
     "name": "stderr",
     "output_type": "stream",
     "text": [
      "Epoch 1/10: 100%|██████████| 40/40 [00:11<00:00,  3.50 batch/s, loss=4.6054]\n",
      "Validating: 100%|██████████| 10/10 [00:00<00:00, 10.81 batch/s, loss=4.5899]\n"
     ]
    },
    {
     "name": "stdout",
     "output_type": "stream",
     "text": [
      "\u001b[1m\u001b[36mBest valid loss improved. Current accuracy is 1.46%. Saving checkpoint...\n",
      "\u001b[0m\u001b[1m\u001b[36mBest valid accuracy improved. Current accuracy is 1.46%. Saving checkpoint...\n",
      "\u001b[0m"
     ]
    },
    {
     "name": "stderr",
     "output_type": "stream",
     "text": [
      "Epoch 2/10: 100%|██████████| 40/40 [00:11<00:00,  3.51 batch/s, loss=4.4619]\n",
      "Validating: 100%|██████████| 10/10 [00:00<00:00, 10.85 batch/s, loss=4.2961]\n"
     ]
    },
    {
     "name": "stdout",
     "output_type": "stream",
     "text": [
      "\u001b[1m\u001b[36mBest valid loss improved. Current accuracy is 1.88%. Saving checkpoint...\n",
      "\u001b[0m\u001b[1m\u001b[36mBest valid accuracy improved. Current accuracy is 1.88%. Saving checkpoint...\n",
      "\u001b[0m"
     ]
    },
    {
     "name": "stderr",
     "output_type": "stream",
     "text": [
      "Epoch 3/10: 100%|██████████| 40/40 [00:11<00:00,  3.51 batch/s, loss=4.2722]\n",
      "Validating: 100%|██████████| 10/10 [00:00<00:00, 10.78 batch/s, loss=4.1291]\n"
     ]
    },
    {
     "name": "stdout",
     "output_type": "stream",
     "text": [
      "\u001b[1m\u001b[36mBest valid loss improved. Current accuracy is 3.22%. Saving checkpoint...\n",
      "\u001b[0m\u001b[1m\u001b[36mBest valid accuracy improved. Current accuracy is 3.22%. Saving checkpoint...\n",
      "\u001b[0m"
     ]
    },
    {
     "name": "stderr",
     "output_type": "stream",
     "text": [
      "Epoch 4/10: 100%|██████████| 40/40 [00:11<00:00,  3.49 batch/s, loss=4.1215]\n",
      "Validating: 100%|██████████| 10/10 [00:00<00:00, 10.99 batch/s, loss=4.0615]\n"
     ]
    },
    {
     "name": "stdout",
     "output_type": "stream",
     "text": [
      "\u001b[1m\u001b[36mBest valid loss improved. Current accuracy is 4.44%. Saving checkpoint...\n",
      "\u001b[0m\u001b[1m\u001b[36mBest valid accuracy improved. Current accuracy is 4.44%. Saving checkpoint...\n",
      "\u001b[0m"
     ]
    },
    {
     "name": "stderr",
     "output_type": "stream",
     "text": [
      "Epoch 5/10: 100%|██████████| 40/40 [00:11<00:00,  3.51 batch/s, loss=4.0074]\n",
      "Validating: 100%|██████████| 10/10 [00:00<00:00, 10.85 batch/s, loss=3.9980]\n"
     ]
    },
    {
     "name": "stdout",
     "output_type": "stream",
     "text": [
      "\u001b[1m\u001b[36mBest valid loss improved. Current accuracy is 5.00%. Saving checkpoint...\n",
      "\u001b[0m\u001b[1m\u001b[36mBest valid accuracy improved. Current accuracy is 5.00%. Saving checkpoint...\n",
      "\u001b[0m"
     ]
    },
    {
     "name": "stderr",
     "output_type": "stream",
     "text": [
      "Epoch 6/10: 100%|██████████| 40/40 [00:11<00:00,  3.50 batch/s, loss=3.9025]\n",
      "Validating: 100%|██████████| 10/10 [00:00<00:00, 10.98 batch/s, loss=3.8926]\n"
     ]
    },
    {
     "name": "stdout",
     "output_type": "stream",
     "text": [
      "\u001b[1m\u001b[36mBest valid loss improved. Current accuracy is 6.20%. Saving checkpoint...\n",
      "\u001b[0m\u001b[1m\u001b[36mBest valid accuracy improved. Current accuracy is 6.20%. Saving checkpoint...\n",
      "\u001b[0m"
     ]
    },
    {
     "name": "stderr",
     "output_type": "stream",
     "text": [
      "Epoch 7/10: 100%|██████████| 40/40 [00:11<00:00,  3.50 batch/s, loss=3.7551]\n",
      "Validating: 100%|██████████| 10/10 [00:00<00:00, 10.72 batch/s, loss=3.8323]\n"
     ]
    },
    {
     "name": "stdout",
     "output_type": "stream",
     "text": [
      "\u001b[1m\u001b[36mBest valid loss improved. Current accuracy is 7.76%. Saving checkpoint...\n",
      "\u001b[0m\u001b[1m\u001b[36mBest valid accuracy improved. Current accuracy is 7.76%. Saving checkpoint...\n",
      "\u001b[0m"
     ]
    },
    {
     "name": "stderr",
     "output_type": "stream",
     "text": [
      "Epoch 8/10: 100%|██████████| 40/40 [00:11<00:00,  3.51 batch/s, loss=3.5866]\n",
      "Validating: 100%|██████████| 10/10 [00:00<00:00, 10.85 batch/s, loss=3.5976]\n"
     ]
    },
    {
     "name": "stdout",
     "output_type": "stream",
     "text": [
      "\u001b[1m\u001b[36mBest valid loss improved. Current accuracy is 10.12%. Saving checkpoint...\n",
      "\u001b[0m\u001b[1m\u001b[36mBest valid accuracy improved. Current accuracy is 10.12%. Saving checkpoint...\n",
      "\u001b[0m"
     ]
    },
    {
     "name": "stderr",
     "output_type": "stream",
     "text": [
      "Epoch 9/10: 100%|██████████| 40/40 [00:11<00:00,  3.50 batch/s, loss=3.4465]\n",
      "Validating: 100%|██████████| 10/10 [00:00<00:00, 10.97 batch/s, loss=3.5276]\n"
     ]
    },
    {
     "name": "stdout",
     "output_type": "stream",
     "text": [
      "\u001b[1m\u001b[36mBest valid loss improved. Current accuracy is 11.20%. Saving checkpoint...\n",
      "\u001b[0m\u001b[1m\u001b[36mBest valid accuracy improved. Current accuracy is 11.20%. Saving checkpoint...\n",
      "\u001b[0m"
     ]
    },
    {
     "name": "stderr",
     "output_type": "stream",
     "text": [
      "Epoch 10/10: 100%|██████████| 40/40 [00:11<00:00,  3.51 batch/s, loss=3.2228]\n",
      "Validating: 100%|██████████| 10/10 [00:00<00:00, 10.96 batch/s, loss=3.5305]\n"
     ]
    },
    {
     "name": "stdout",
     "output_type": "stream",
     "text": [
      "\u001b[1m\u001b[36mBest valid accuracy improved. Current accuracy is 12.84%. Saving checkpoint...\n",
      "\u001b[0m"
     ]
    },
    {
     "name": "stderr",
     "output_type": "stream",
     "text": [
      "Testing: 100%|██████████| 20/20 [00:01<00:00, 10.78 batch/s]\n"
     ]
    },
    {
     "name": "stdout",
     "output_type": "stream",
     "text": [
      "\u001b[1m\u001b[95mRunning run vgg16_kiss,ep:10,bs:512,clip:5.0,nc:8,eqsize,ID:2/6\n",
      "\u001b[0m30000 27681\n"
     ]
    },
    {
     "name": "stderr",
     "output_type": "stream",
     "text": [
      "Epoch 1/10: 100%|██████████| 47/47 [00:13<00:00,  3.45 batch/s, loss=4.6179]\n",
      "Validating: 100%|██████████| 12/12 [00:01<00:00, 11.09 batch/s, loss=4.6069]\n"
     ]
    },
    {
     "name": "stdout",
     "output_type": "stream",
     "text": [
      "\u001b[1m\u001b[36mBest valid loss improved. Current accuracy is 0.88%. Saving checkpoint...\n",
      "\u001b[0m\u001b[1m\u001b[36mBest valid accuracy improved. Current accuracy is 0.88%. Saving checkpoint...\n",
      "\u001b[0m"
     ]
    },
    {
     "name": "stderr",
     "output_type": "stream",
     "text": [
      "Epoch 2/10: 100%|██████████| 47/47 [00:13<00:00,  3.44 batch/s, loss=4.5784]\n",
      "Validating: 100%|██████████| 12/12 [00:01<00:00, 11.08 batch/s, loss=4.4500]\n"
     ]
    },
    {
     "name": "stdout",
     "output_type": "stream",
     "text": [
      "\u001b[1m\u001b[36mBest valid loss improved. Current accuracy is 1.43%. Saving checkpoint...\n",
      "\u001b[0m\u001b[1m\u001b[36mBest valid accuracy improved. Current accuracy is 1.43%. Saving checkpoint...\n",
      "\u001b[0m"
     ]
    },
    {
     "name": "stderr",
     "output_type": "stream",
     "text": [
      "Epoch 3/10: 100%|██████████| 47/47 [00:13<00:00,  3.45 batch/s, loss=4.3605]\n",
      "Validating: 100%|██████████| 12/12 [00:01<00:00, 11.12 batch/s, loss=4.1970]\n"
     ]
    },
    {
     "name": "stdout",
     "output_type": "stream",
     "text": [
      "\u001b[1m\u001b[36mBest valid loss improved. Current accuracy is 3.10%. Saving checkpoint...\n",
      "\u001b[0m\u001b[1m\u001b[36mBest valid accuracy improved. Current accuracy is 3.10%. Saving checkpoint...\n",
      "\u001b[0m"
     ]
    },
    {
     "name": "stderr",
     "output_type": "stream",
     "text": [
      "Epoch 4/10: 100%|██████████| 47/47 [00:13<00:00,  3.45 batch/s, loss=4.1655]\n",
      "Validating: 100%|██████████| 12/12 [00:01<00:00, 11.06 batch/s, loss=4.0285]\n"
     ]
    },
    {
     "name": "stdout",
     "output_type": "stream",
     "text": [
      "\u001b[1m\u001b[36mBest valid loss improved. Current accuracy is 4.23%. Saving checkpoint...\n",
      "\u001b[0m\u001b[1m\u001b[36mBest valid accuracy improved. Current accuracy is 4.23%. Saving checkpoint...\n",
      "\u001b[0m"
     ]
    },
    {
     "name": "stderr",
     "output_type": "stream",
     "text": [
      "Epoch 5/10: 100%|██████████| 47/47 [00:13<00:00,  3.44 batch/s, loss=3.9951]\n",
      "Validating: 100%|██████████| 12/12 [00:01<00:00, 11.09 batch/s, loss=3.8853]\n"
     ]
    },
    {
     "name": "stdout",
     "output_type": "stream",
     "text": [
      "\u001b[1m\u001b[36mBest valid loss improved. Current accuracy is 5.08%. Saving checkpoint...\n",
      "\u001b[0m\u001b[1m\u001b[36mBest valid accuracy improved. Current accuracy is 5.08%. Saving checkpoint...\n",
      "\u001b[0m"
     ]
    },
    {
     "name": "stderr",
     "output_type": "stream",
     "text": [
      "Epoch 6/10: 100%|██████████| 47/47 [00:13<00:00,  3.45 batch/s, loss=3.7958]\n",
      "Validating: 100%|██████████| 12/12 [00:01<00:00, 10.83 batch/s, loss=3.7696]\n"
     ]
    },
    {
     "name": "stdout",
     "output_type": "stream",
     "text": [
      "\u001b[1m\u001b[36mBest valid loss improved. Current accuracy is 6.40%. Saving checkpoint...\n",
      "\u001b[0m\u001b[1m\u001b[36mBest valid accuracy improved. Current accuracy is 6.40%. Saving checkpoint...\n",
      "\u001b[0m"
     ]
    },
    {
     "name": "stderr",
     "output_type": "stream",
     "text": [
      "Epoch 7/10: 100%|██████████| 47/47 [00:13<00:00,  3.45 batch/s, loss=3.5951]\n",
      "Validating: 100%|██████████| 12/12 [00:01<00:00, 11.09 batch/s, loss=3.4971]\n"
     ]
    },
    {
     "name": "stdout",
     "output_type": "stream",
     "text": [
      "\u001b[1m\u001b[36mBest valid loss improved. Current accuracy is 10.35%. Saving checkpoint...\n",
      "\u001b[0m\u001b[1m\u001b[36mBest valid accuracy improved. Current accuracy is 10.35%. Saving checkpoint...\n",
      "\u001b[0m"
     ]
    },
    {
     "name": "stderr",
     "output_type": "stream",
     "text": [
      "Epoch 8/10: 100%|██████████| 47/47 [00:13<00:00,  3.45 batch/s, loss=3.3079]\n",
      "Validating: 100%|██████████| 12/12 [00:01<00:00, 11.07 batch/s, loss=3.2442]\n"
     ]
    },
    {
     "name": "stdout",
     "output_type": "stream",
     "text": [
      "\u001b[1m\u001b[36mBest valid loss improved. Current accuracy is 13.85%. Saving checkpoint...\n",
      "\u001b[0m\u001b[1m\u001b[36mBest valid accuracy improved. Current accuracy is 13.85%. Saving checkpoint...\n",
      "\u001b[0m"
     ]
    },
    {
     "name": "stderr",
     "output_type": "stream",
     "text": [
      "Epoch 9/10: 100%|██████████| 47/47 [00:13<00:00,  3.44 batch/s, loss=3.0588]\n",
      "Validating: 100%|██████████| 12/12 [00:01<00:00, 10.57 batch/s, loss=3.1352]\n"
     ]
    },
    {
     "name": "stdout",
     "output_type": "stream",
     "text": [
      "\u001b[1m\u001b[36mBest valid loss improved. Current accuracy is 16.70%. Saving checkpoint...\n",
      "\u001b[0m\u001b[1m\u001b[36mBest valid accuracy improved. Current accuracy is 16.70%. Saving checkpoint...\n",
      "\u001b[0m"
     ]
    },
    {
     "name": "stderr",
     "output_type": "stream",
     "text": [
      "Epoch 10/10: 100%|██████████| 47/47 [00:13<00:00,  3.45 batch/s, loss=2.7721]\n",
      "Validating: 100%|██████████| 12/12 [00:01<00:00, 10.98 batch/s, loss=2.9437]\n"
     ]
    },
    {
     "name": "stdout",
     "output_type": "stream",
     "text": [
      "\u001b[1m\u001b[36mBest valid loss improved. Current accuracy is 20.98%. Saving checkpoint...\n",
      "\u001b[0m\u001b[1m\u001b[36mBest valid accuracy improved. Current accuracy is 20.98%. Saving checkpoint...\n",
      "\u001b[0m"
     ]
    },
    {
     "name": "stderr",
     "output_type": "stream",
     "text": [
      "Testing: 100%|██████████| 20/20 [00:01<00:00, 11.00 batch/s]\n"
     ]
    },
    {
     "name": "stdout",
     "output_type": "stream",
     "text": [
      "\u001b[1m\u001b[95mRunning run vgg16_kiss,ep:10,bs:512,clip:5.0,nc:8,eqsize,ID:2/7\n",
      "\u001b[0m35000 31325\n"
     ]
    },
    {
     "name": "stderr",
     "output_type": "stream",
     "text": [
      "Epoch 1/10: 100%|██████████| 55/55 [00:15<00:00,  3.45 batch/s, loss=4.5853]\n",
      "Validating: 100%|██████████| 14/14 [00:01<00:00, 10.93 batch/s, loss=4.4966]\n"
     ]
    },
    {
     "name": "stdout",
     "output_type": "stream",
     "text": [
      "\u001b[1m\u001b[36mBest valid loss improved. Current accuracy is 1.40%. Saving checkpoint...\n",
      "\u001b[0m\u001b[1m\u001b[36mBest valid accuracy improved. Current accuracy is 1.40%. Saving checkpoint...\n",
      "\u001b[0m"
     ]
    },
    {
     "name": "stderr",
     "output_type": "stream",
     "text": [
      "Epoch 2/10: 100%|██████████| 55/55 [00:15<00:00,  3.45 batch/s, loss=4.3291]\n",
      "Validating: 100%|██████████| 14/14 [00:01<00:00, 10.93 batch/s, loss=4.1420]\n"
     ]
    },
    {
     "name": "stdout",
     "output_type": "stream",
     "text": [
      "\u001b[1m\u001b[36mBest valid loss improved. Current accuracy is 3.31%. Saving checkpoint...\n",
      "\u001b[0m\u001b[1m\u001b[36mBest valid accuracy improved. Current accuracy is 3.31%. Saving checkpoint...\n",
      "\u001b[0m"
     ]
    },
    {
     "name": "stderr",
     "output_type": "stream",
     "text": [
      "Epoch 3/10: 100%|██████████| 55/55 [00:15<00:00,  3.45 batch/s, loss=4.1106]\n",
      "Validating: 100%|██████████| 14/14 [00:01<00:00, 10.92 batch/s, loss=3.9714]\n"
     ]
    },
    {
     "name": "stdout",
     "output_type": "stream",
     "text": [
      "\u001b[1m\u001b[36mBest valid loss improved. Current accuracy is 4.97%. Saving checkpoint...\n",
      "\u001b[0m\u001b[1m\u001b[36mBest valid accuracy improved. Current accuracy is 4.97%. Saving checkpoint...\n",
      "\u001b[0m"
     ]
    },
    {
     "name": "stderr",
     "output_type": "stream",
     "text": [
      "Epoch 4/10: 100%|██████████| 55/55 [00:15<00:00,  3.46 batch/s, loss=3.9791]\n",
      "Validating: 100%|██████████| 14/14 [00:01<00:00, 10.75 batch/s, loss=3.8741]\n"
     ]
    },
    {
     "name": "stdout",
     "output_type": "stream",
     "text": [
      "\u001b[1m\u001b[36mBest valid loss improved. Current accuracy is 6.33%. Saving checkpoint...\n",
      "\u001b[0m\u001b[1m\u001b[36mBest valid accuracy improved. Current accuracy is 6.33%. Saving checkpoint...\n",
      "\u001b[0m"
     ]
    },
    {
     "name": "stderr",
     "output_type": "stream",
     "text": [
      "Epoch 5/10: 100%|██████████| 55/55 [00:15<00:00,  3.45 batch/s, loss=3.7876]\n",
      "Validating: 100%|██████████| 14/14 [00:01<00:00, 10.86 batch/s, loss=3.6430]\n"
     ]
    },
    {
     "name": "stdout",
     "output_type": "stream",
     "text": [
      "\u001b[1m\u001b[36mBest valid loss improved. Current accuracy is 8.40%. Saving checkpoint...\n",
      "\u001b[0m\u001b[1m\u001b[36mBest valid accuracy improved. Current accuracy is 8.40%. Saving checkpoint...\n",
      "\u001b[0m"
     ]
    },
    {
     "name": "stderr",
     "output_type": "stream",
     "text": [
      "Epoch 6/10: 100%|██████████| 55/55 [00:15<00:00,  3.45 batch/s, loss=3.5333]\n",
      "Validating: 100%|██████████| 14/14 [00:01<00:00, 10.83 batch/s, loss=3.4723]\n"
     ]
    },
    {
     "name": "stdout",
     "output_type": "stream",
     "text": [
      "\u001b[1m\u001b[36mBest valid loss improved. Current accuracy is 11.50%. Saving checkpoint...\n",
      "\u001b[0m\u001b[1m\u001b[36mBest valid accuracy improved. Current accuracy is 11.50%. Saving checkpoint...\n",
      "\u001b[0m"
     ]
    },
    {
     "name": "stderr",
     "output_type": "stream",
     "text": [
      "Epoch 7/10: 100%|██████████| 55/55 [00:15<00:00,  3.45 batch/s, loss=3.2958]\n",
      "Validating: 100%|██████████| 14/14 [00:01<00:00, 10.94 batch/s, loss=3.2091]\n"
     ]
    },
    {
     "name": "stdout",
     "output_type": "stream",
     "text": [
      "\u001b[1m\u001b[36mBest valid loss improved. Current accuracy is 15.84%. Saving checkpoint...\n",
      "\u001b[0m\u001b[1m\u001b[36mBest valid accuracy improved. Current accuracy is 15.84%. Saving checkpoint...\n",
      "\u001b[0m"
     ]
    },
    {
     "name": "stderr",
     "output_type": "stream",
     "text": [
      "Epoch 8/10: 100%|██████████| 55/55 [00:15<00:00,  3.45 batch/s, loss=3.0502]\n",
      "Validating: 100%|██████████| 14/14 [00:01<00:00, 10.87 batch/s, loss=3.0248]\n"
     ]
    },
    {
     "name": "stdout",
     "output_type": "stream",
     "text": [
      "\u001b[1m\u001b[36mBest valid loss improved. Current accuracy is 17.89%. Saving checkpoint...\n",
      "\u001b[0m\u001b[1m\u001b[36mBest valid accuracy improved. Current accuracy is 17.89%. Saving checkpoint...\n",
      "\u001b[0m"
     ]
    },
    {
     "name": "stderr",
     "output_type": "stream",
     "text": [
      "Epoch 9/10: 100%|██████████| 55/55 [00:15<00:00,  3.45 batch/s, loss=2.7886]\n",
      "Validating: 100%|██████████| 14/14 [00:01<00:00, 10.80 batch/s, loss=2.9250]\n"
     ]
    },
    {
     "name": "stdout",
     "output_type": "stream",
     "text": [
      "\u001b[1m\u001b[36mBest valid loss improved. Current accuracy is 21.11%. Saving checkpoint...\n",
      "\u001b[0m\u001b[1m\u001b[36mBest valid accuracy improved. Current accuracy is 21.11%. Saving checkpoint...\n",
      "\u001b[0m"
     ]
    },
    {
     "name": "stderr",
     "output_type": "stream",
     "text": [
      "Epoch 10/10: 100%|██████████| 55/55 [00:16<00:00,  3.44 batch/s, loss=2.5587]\n",
      "Validating: 100%|██████████| 14/14 [00:01<00:00, 10.88 batch/s, loss=2.8182]\n"
     ]
    },
    {
     "name": "stdout",
     "output_type": "stream",
     "text": [
      "\u001b[1m\u001b[36mBest valid loss improved. Current accuracy is 24.91%. Saving checkpoint...\n",
      "\u001b[0m\u001b[1m\u001b[36mBest valid accuracy improved. Current accuracy is 24.91%. Saving checkpoint...\n",
      "\u001b[0m"
     ]
    },
    {
     "name": "stderr",
     "output_type": "stream",
     "text": [
      "Testing: 100%|██████████| 20/20 [00:01<00:00, 10.85 batch/s]\n"
     ]
    },
    {
     "name": "stdout",
     "output_type": "stream",
     "text": [
      "\u001b[1m\u001b[95mRunning run vgg16_kiss,ep:10,bs:512,clip:5.0,nc:8,eqsize,ID:2/8\n",
      "\u001b[0m40000 35126\n"
     ]
    },
    {
     "name": "stderr",
     "output_type": "stream",
     "text": [
      "Epoch 1/10: 100%|██████████| 63/63 [00:18<00:00,  3.46 batch/s, loss=4.5067]\n",
      "Validating: 100%|██████████| 16/16 [00:01<00:00, 10.92 batch/s, loss=4.2875]\n"
     ]
    },
    {
     "name": "stdout",
     "output_type": "stream",
     "text": [
      "\u001b[1m\u001b[36mBest valid loss improved. Current accuracy is 2.08%. Saving checkpoint...\n",
      "\u001b[0m\u001b[1m\u001b[36mBest valid accuracy improved. Current accuracy is 2.08%. Saving checkpoint...\n",
      "\u001b[0m"
     ]
    },
    {
     "name": "stderr",
     "output_type": "stream",
     "text": [
      "Epoch 2/10: 100%|██████████| 63/63 [00:18<00:00,  3.47 batch/s, loss=4.1789]\n",
      "Validating: 100%|██████████| 16/16 [00:01<00:00, 11.10 batch/s, loss=3.9952]\n"
     ]
    },
    {
     "name": "stdout",
     "output_type": "stream",
     "text": [
      "\u001b[1m\u001b[36mBest valid loss improved. Current accuracy is 4.03%. Saving checkpoint...\n",
      "\u001b[0m\u001b[1m\u001b[36mBest valid accuracy improved. Current accuracy is 4.03%. Saving checkpoint...\n",
      "\u001b[0m"
     ]
    },
    {
     "name": "stderr",
     "output_type": "stream",
     "text": [
      "Epoch 3/10: 100%|██████████| 63/63 [00:18<00:00,  3.46 batch/s, loss=3.9531]\n",
      "Validating: 100%|██████████| 16/16 [00:01<00:00, 11.10 batch/s, loss=3.8152]\n"
     ]
    },
    {
     "name": "stdout",
     "output_type": "stream",
     "text": [
      "\u001b[1m\u001b[36mBest valid loss improved. Current accuracy is 6.26%. Saving checkpoint...\n",
      "\u001b[0m\u001b[1m\u001b[36mBest valid accuracy improved. Current accuracy is 6.26%. Saving checkpoint...\n",
      "\u001b[0m"
     ]
    },
    {
     "name": "stderr",
     "output_type": "stream",
     "text": [
      "Epoch 4/10: 100%|██████████| 63/63 [00:18<00:00,  3.45 batch/s, loss=3.6902]\n",
      "Validating: 100%|██████████| 16/16 [00:01<00:00, 11.03 batch/s, loss=3.5220]\n"
     ]
    },
    {
     "name": "stdout",
     "output_type": "stream",
     "text": [
      "\u001b[1m\u001b[36mBest valid loss improved. Current accuracy is 9.99%. Saving checkpoint...\n",
      "\u001b[0m\u001b[1m\u001b[36mBest valid accuracy improved. Current accuracy is 9.99%. Saving checkpoint...\n",
      "\u001b[0m"
     ]
    },
    {
     "name": "stderr",
     "output_type": "stream",
     "text": [
      "Epoch 5/10: 100%|██████████| 63/63 [00:18<00:00,  3.46 batch/s, loss=3.3393]\n",
      "Validating: 100%|██████████| 16/16 [00:01<00:00, 11.10 batch/s, loss=3.1811]\n"
     ]
    },
    {
     "name": "stdout",
     "output_type": "stream",
     "text": [
      "\u001b[1m\u001b[36mBest valid loss improved. Current accuracy is 16.29%. Saving checkpoint...\n",
      "\u001b[0m\u001b[1m\u001b[36mBest valid accuracy improved. Current accuracy is 16.29%. Saving checkpoint...\n",
      "\u001b[0m"
     ]
    },
    {
     "name": "stderr",
     "output_type": "stream",
     "text": [
      "Epoch 6/10: 100%|██████████| 63/63 [00:18<00:00,  3.46 batch/s, loss=2.9968]\n",
      "Validating: 100%|██████████| 16/16 [00:01<00:00, 11.10 batch/s, loss=3.0787]\n"
     ]
    },
    {
     "name": "stdout",
     "output_type": "stream",
     "text": [
      "\u001b[1m\u001b[36mBest valid loss improved. Current accuracy is 19.36%. Saving checkpoint...\n",
      "\u001b[0m\u001b[1m\u001b[36mBest valid accuracy improved. Current accuracy is 19.36%. Saving checkpoint...\n",
      "\u001b[0m"
     ]
    },
    {
     "name": "stderr",
     "output_type": "stream",
     "text": [
      "Epoch 7/10: 100%|██████████| 63/63 [00:18<00:00,  3.47 batch/s, loss=2.6909]\n",
      "Validating: 100%|██████████| 16/16 [00:01<00:00, 10.98 batch/s, loss=2.7481]\n"
     ]
    },
    {
     "name": "stdout",
     "output_type": "stream",
     "text": [
      "\u001b[1m\u001b[36mBest valid loss improved. Current accuracy is 24.65%. Saving checkpoint...\n",
      "\u001b[0m\u001b[1m\u001b[36mBest valid accuracy improved. Current accuracy is 24.65%. Saving checkpoint...\n",
      "\u001b[0m"
     ]
    },
    {
     "name": "stderr",
     "output_type": "stream",
     "text": [
      "Epoch 8/10: 100%|██████████| 63/63 [00:18<00:00,  3.46 batch/s, loss=2.4146]\n",
      "Validating: 100%|██████████| 16/16 [00:01<00:00, 11.06 batch/s, loss=2.6519]\n"
     ]
    },
    {
     "name": "stdout",
     "output_type": "stream",
     "text": [
      "\u001b[1m\u001b[36mBest valid loss improved. Current accuracy is 28.82%. Saving checkpoint...\n",
      "\u001b[0m\u001b[1m\u001b[36mBest valid accuracy improved. Current accuracy is 28.82%. Saving checkpoint...\n",
      "\u001b[0m"
     ]
    },
    {
     "name": "stderr",
     "output_type": "stream",
     "text": [
      "Epoch 9/10: 100%|██████████| 63/63 [00:18<00:00,  3.46 batch/s, loss=2.2003]\n",
      "Validating: 100%|██████████| 16/16 [00:01<00:00, 11.10 batch/s, loss=2.5752]\n"
     ]
    },
    {
     "name": "stdout",
     "output_type": "stream",
     "text": [
      "\u001b[1m\u001b[36mBest valid loss improved. Current accuracy is 30.11%. Saving checkpoint...\n",
      "\u001b[0m\u001b[1m\u001b[36mBest valid accuracy improved. Current accuracy is 30.11%. Saving checkpoint...\n",
      "\u001b[0m"
     ]
    },
    {
     "name": "stderr",
     "output_type": "stream",
     "text": [
      "Epoch 10/10: 100%|██████████| 63/63 [00:18<00:00,  3.45 batch/s, loss=1.9803]\n",
      "Validating: 100%|██████████| 16/16 [00:01<00:00, 10.89 batch/s, loss=2.5513]\n"
     ]
    },
    {
     "name": "stdout",
     "output_type": "stream",
     "text": [
      "\u001b[1m\u001b[36mBest valid loss improved. Current accuracy is 33.74%. Saving checkpoint...\n",
      "\u001b[0m\u001b[1m\u001b[36mBest valid accuracy improved. Current accuracy is 33.74%. Saving checkpoint...\n",
      "\u001b[0m"
     ]
    },
    {
     "name": "stderr",
     "output_type": "stream",
     "text": [
      "Testing: 100%|██████████| 20/20 [00:01<00:00, 11.00 batch/s]\n"
     ]
    },
    {
     "name": "stdout",
     "output_type": "stream",
     "text": [
      "\u001b[1m\u001b[95mRunning run vgg16_kiss,ep:10,bs:512,clip:5.0,nc:8,eqsize,ID:2/9\n",
      "\u001b[0m45000 37946\n"
     ]
    },
    {
     "name": "stderr",
     "output_type": "stream",
     "text": [
      "Epoch 1/10: 100%|██████████| 71/71 [00:20<00:00,  3.47 batch/s, loss=4.5596]\n",
      "Validating: 100%|██████████| 18/18 [00:01<00:00, 11.03 batch/s, loss=4.3648]\n"
     ]
    },
    {
     "name": "stdout",
     "output_type": "stream",
     "text": [
      "\u001b[1m\u001b[36mBest valid loss improved. Current accuracy is 2.23%. Saving checkpoint...\n",
      "\u001b[0m\u001b[1m\u001b[36mBest valid accuracy improved. Current accuracy is 2.23%. Saving checkpoint...\n",
      "\u001b[0m"
     ]
    },
    {
     "name": "stderr",
     "output_type": "stream",
     "text": [
      "Epoch 2/10: 100%|██████████| 71/71 [00:20<00:00,  3.47 batch/s, loss=4.2529]\n",
      "Validating: 100%|██████████| 18/18 [00:01<00:00, 11.10 batch/s, loss=4.1153]\n"
     ]
    },
    {
     "name": "stdout",
     "output_type": "stream",
     "text": [
      "\u001b[1m\u001b[36mBest valid loss improved. Current accuracy is 3.28%. Saving checkpoint...\n",
      "\u001b[0m\u001b[1m\u001b[36mBest valid accuracy improved. Current accuracy is 3.28%. Saving checkpoint...\n",
      "\u001b[0m"
     ]
    },
    {
     "name": "stderr",
     "output_type": "stream",
     "text": [
      "Epoch 3/10: 100%|██████████| 71/71 [00:20<00:00,  3.46 batch/s, loss=4.0252]\n",
      "Validating: 100%|██████████| 18/18 [00:01<00:00, 11.07 batch/s, loss=3.8860]\n"
     ]
    },
    {
     "name": "stdout",
     "output_type": "stream",
     "text": [
      "\u001b[1m\u001b[36mBest valid loss improved. Current accuracy is 5.76%. Saving checkpoint...\n",
      "\u001b[0m\u001b[1m\u001b[36mBest valid accuracy improved. Current accuracy is 5.76%. Saving checkpoint...\n",
      "\u001b[0m"
     ]
    },
    {
     "name": "stderr",
     "output_type": "stream",
     "text": [
      "Epoch 4/10: 100%|██████████| 71/71 [00:20<00:00,  3.47 batch/s, loss=3.7702]\n",
      "Validating: 100%|██████████| 18/18 [00:01<00:00, 11.08 batch/s, loss=3.5339]\n"
     ]
    },
    {
     "name": "stdout",
     "output_type": "stream",
     "text": [
      "\u001b[1m\u001b[36mBest valid loss improved. Current accuracy is 9.91%. Saving checkpoint...\n",
      "\u001b[0m\u001b[1m\u001b[36mBest valid accuracy improved. Current accuracy is 9.91%. Saving checkpoint...\n",
      "\u001b[0m"
     ]
    },
    {
     "name": "stderr",
     "output_type": "stream",
     "text": [
      "Epoch 5/10: 100%|██████████| 71/71 [00:20<00:00,  3.47 batch/s, loss=3.4673]\n",
      "Validating: 100%|██████████| 18/18 [00:01<00:00, 11.06 batch/s, loss=3.3140]\n"
     ]
    },
    {
     "name": "stdout",
     "output_type": "stream",
     "text": [
      "\u001b[1m\u001b[36mBest valid loss improved. Current accuracy is 14.44%. Saving checkpoint...\n",
      "\u001b[0m\u001b[1m\u001b[36mBest valid accuracy improved. Current accuracy is 14.44%. Saving checkpoint...\n",
      "\u001b[0m"
     ]
    },
    {
     "name": "stderr",
     "output_type": "stream",
     "text": [
      "Epoch 6/10: 100%|██████████| 71/71 [00:20<00:00,  3.47 batch/s, loss=3.2058]\n",
      "Validating: 100%|██████████| 18/18 [00:01<00:00, 11.04 batch/s, loss=3.0825]\n"
     ]
    },
    {
     "name": "stdout",
     "output_type": "stream",
     "text": [
      "\u001b[1m\u001b[36mBest valid loss improved. Current accuracy is 18.31%. Saving checkpoint...\n",
      "\u001b[0m\u001b[1m\u001b[36mBest valid accuracy improved. Current accuracy is 18.31%. Saving checkpoint...\n",
      "\u001b[0m"
     ]
    },
    {
     "name": "stderr",
     "output_type": "stream",
     "text": [
      "Epoch 7/10: 100%|██████████| 71/71 [00:20<00:00,  3.46 batch/s, loss=2.8836]\n",
      "Validating: 100%|██████████| 18/18 [00:01<00:00, 11.07 batch/s, loss=3.0043]\n"
     ]
    },
    {
     "name": "stdout",
     "output_type": "stream",
     "text": [
      "\u001b[1m\u001b[36mBest valid loss improved. Current accuracy is 21.76%. Saving checkpoint...\n",
      "\u001b[0m\u001b[1m\u001b[36mBest valid accuracy improved. Current accuracy is 21.76%. Saving checkpoint...\n",
      "\u001b[0m"
     ]
    },
    {
     "name": "stderr",
     "output_type": "stream",
     "text": [
      "Epoch 8/10: 100%|██████████| 71/71 [00:20<00:00,  3.46 batch/s, loss=2.6318]\n",
      "Validating: 100%|██████████| 18/18 [00:01<00:00, 11.02 batch/s, loss=2.8103]\n"
     ]
    },
    {
     "name": "stdout",
     "output_type": "stream",
     "text": [
      "\u001b[1m\u001b[36mBest valid loss improved. Current accuracy is 25.63%. Saving checkpoint...\n",
      "\u001b[0m\u001b[1m\u001b[36mBest valid accuracy improved. Current accuracy is 25.63%. Saving checkpoint...\n",
      "\u001b[0m"
     ]
    },
    {
     "name": "stderr",
     "output_type": "stream",
     "text": [
      "Epoch 9/10: 100%|██████████| 71/71 [00:20<00:00,  3.47 batch/s, loss=2.3853]\n",
      "Validating: 100%|██████████| 18/18 [00:01<00:00, 11.09 batch/s, loss=2.7340]\n"
     ]
    },
    {
     "name": "stdout",
     "output_type": "stream",
     "text": [
      "\u001b[1m\u001b[36mBest valid loss improved. Current accuracy is 28.21%. Saving checkpoint...\n",
      "\u001b[0m\u001b[1m\u001b[36mBest valid accuracy improved. Current accuracy is 28.21%. Saving checkpoint...\n",
      "\u001b[0m"
     ]
    },
    {
     "name": "stderr",
     "output_type": "stream",
     "text": [
      "Epoch 10/10: 100%|██████████| 71/71 [00:20<00:00,  3.46 batch/s, loss=2.1346]\n",
      "Validating: 100%|██████████| 18/18 [00:01<00:00, 11.09 batch/s, loss=2.6264]\n"
     ]
    },
    {
     "name": "stdout",
     "output_type": "stream",
     "text": [
      "\u001b[1m\u001b[36mBest valid loss improved. Current accuracy is 32.22%. Saving checkpoint...\n",
      "\u001b[0m\u001b[1m\u001b[36mBest valid accuracy improved. Current accuracy is 32.22%. Saving checkpoint...\n",
      "\u001b[0m"
     ]
    },
    {
     "name": "stderr",
     "output_type": "stream",
     "text": [
      "Testing: 100%|██████████| 20/20 [00:01<00:00, 10.85 batch/s]\n"
     ]
    },
    {
     "name": "stdout",
     "output_type": "stream",
     "text": [
      "\u001b[1m\u001b[95mRunning run vgg16_kiss,ep:10,bs:512,clip:5.0,nc:8,eqsize,ID:2/10\n",
      "\u001b[0m50000 40339\n"
     ]
    },
    {
     "name": "stderr",
     "output_type": "stream",
     "text": [
      "Epoch 1/10: 100%|██████████| 79/79 [00:22<00:00,  3.47 batch/s, loss=4.5923]\n",
      "Validating: 100%|██████████| 20/20 [00:01<00:00, 10.95 batch/s, loss=4.5040]\n"
     ]
    },
    {
     "name": "stdout",
     "output_type": "stream",
     "text": [
      "\u001b[1m\u001b[36mBest valid loss improved. Current accuracy is 1.91%. Saving checkpoint...\n",
      "\u001b[0m\u001b[1m\u001b[36mBest valid accuracy improved. Current accuracy is 1.91%. Saving checkpoint...\n",
      "\u001b[0m"
     ]
    },
    {
     "name": "stderr",
     "output_type": "stream",
     "text": [
      "Epoch 2/10: 100%|██████████| 79/79 [00:22<00:00,  3.47 batch/s, loss=4.2987]\n",
      "Validating: 100%|██████████| 20/20 [00:01<00:00, 11.03 batch/s, loss=4.1499]\n"
     ]
    },
    {
     "name": "stdout",
     "output_type": "stream",
     "text": [
      "\u001b[1m\u001b[36mBest valid loss improved. Current accuracy is 3.31%. Saving checkpoint...\n",
      "\u001b[0m\u001b[1m\u001b[36mBest valid accuracy improved. Current accuracy is 3.31%. Saving checkpoint...\n",
      "\u001b[0m"
     ]
    },
    {
     "name": "stderr",
     "output_type": "stream",
     "text": [
      "Epoch 3/10: 100%|██████████| 79/79 [00:22<00:00,  3.48 batch/s, loss=4.0873]\n",
      "Validating: 100%|██████████| 20/20 [00:01<00:00, 10.97 batch/s, loss=3.9465]\n"
     ]
    },
    {
     "name": "stdout",
     "output_type": "stream",
     "text": [
      "\u001b[1m\u001b[36mBest valid loss improved. Current accuracy is 4.99%. Saving checkpoint...\n",
      "\u001b[0m\u001b[1m\u001b[36mBest valid accuracy improved. Current accuracy is 4.99%. Saving checkpoint...\n",
      "\u001b[0m"
     ]
    },
    {
     "name": "stderr",
     "output_type": "stream",
     "text": [
      "Epoch 4/10: 100%|██████████| 79/79 [00:22<00:00,  3.46 batch/s, loss=3.8549]\n",
      "Validating: 100%|██████████| 20/20 [00:01<00:00, 11.07 batch/s, loss=3.6331]\n"
     ]
    },
    {
     "name": "stdout",
     "output_type": "stream",
     "text": [
      "\u001b[1m\u001b[36mBest valid loss improved. Current accuracy is 8.43%. Saving checkpoint...\n",
      "\u001b[0m\u001b[1m\u001b[36mBest valid accuracy improved. Current accuracy is 8.43%. Saving checkpoint...\n",
      "\u001b[0m"
     ]
    },
    {
     "name": "stderr",
     "output_type": "stream",
     "text": [
      "Epoch 5/10: 100%|██████████| 79/79 [00:22<00:00,  3.48 batch/s, loss=3.4808]\n",
      "Validating: 100%|██████████| 20/20 [00:01<00:00, 10.89 batch/s, loss=3.2623]\n"
     ]
    },
    {
     "name": "stdout",
     "output_type": "stream",
     "text": [
      "\u001b[1m\u001b[36mBest valid loss improved. Current accuracy is 14.65%. Saving checkpoint...\n",
      "\u001b[0m\u001b[1m\u001b[36mBest valid accuracy improved. Current accuracy is 14.65%. Saving checkpoint...\n",
      "\u001b[0m"
     ]
    },
    {
     "name": "stderr",
     "output_type": "stream",
     "text": [
      "Epoch 6/10: 100%|██████████| 79/79 [00:22<00:00,  3.46 batch/s, loss=3.1671]\n",
      "Validating: 100%|██████████| 20/20 [00:01<00:00, 10.93 batch/s, loss=3.1490]\n"
     ]
    },
    {
     "name": "stdout",
     "output_type": "stream",
     "text": [
      "\u001b[1m\u001b[36mBest valid loss improved. Current accuracy is 17.23%. Saving checkpoint...\n",
      "\u001b[0m\u001b[1m\u001b[36mBest valid accuracy improved. Current accuracy is 17.23%. Saving checkpoint...\n",
      "\u001b[0m"
     ]
    },
    {
     "name": "stderr",
     "output_type": "stream",
     "text": [
      "Epoch 7/10: 100%|██████████| 79/79 [00:22<00:00,  3.48 batch/s, loss=2.8870]\n",
      "Validating: 100%|██████████| 20/20 [00:01<00:00, 10.98 batch/s, loss=2.9679]\n"
     ]
    },
    {
     "name": "stdout",
     "output_type": "stream",
     "text": [
      "\u001b[1m\u001b[36mBest valid loss improved. Current accuracy is 21.45%. Saving checkpoint...\n",
      "\u001b[0m\u001b[1m\u001b[36mBest valid accuracy improved. Current accuracy is 21.45%. Saving checkpoint...\n",
      "\u001b[0m"
     ]
    },
    {
     "name": "stderr",
     "output_type": "stream",
     "text": [
      "Epoch 8/10: 100%|██████████| 79/79 [00:22<00:00,  3.47 batch/s, loss=2.6630]\n",
      "Validating: 100%|██████████| 20/20 [00:01<00:00, 10.90 batch/s, loss=2.8244]\n"
     ]
    },
    {
     "name": "stdout",
     "output_type": "stream",
     "text": [
      "\u001b[1m\u001b[36mBest valid loss improved. Current accuracy is 25.39%. Saving checkpoint...\n",
      "\u001b[0m\u001b[1m\u001b[36mBest valid accuracy improved. Current accuracy is 25.39%. Saving checkpoint...\n",
      "\u001b[0m"
     ]
    },
    {
     "name": "stderr",
     "output_type": "stream",
     "text": [
      "Epoch 9/10: 100%|██████████| 79/79 [00:22<00:00,  3.47 batch/s, loss=2.4210]\n",
      "Validating: 100%|██████████| 20/20 [00:01<00:00, 10.89 batch/s, loss=2.7663]\n"
     ]
    },
    {
     "name": "stdout",
     "output_type": "stream",
     "text": [
      "\u001b[1m\u001b[36mBest valid loss improved. Current accuracy is 27.28%. Saving checkpoint...\n",
      "\u001b[0m\u001b[1m\u001b[36mBest valid accuracy improved. Current accuracy is 27.28%. Saving checkpoint...\n",
      "\u001b[0m"
     ]
    },
    {
     "name": "stderr",
     "output_type": "stream",
     "text": [
      "Epoch 10/10: 100%|██████████| 79/79 [00:22<00:00,  3.47 batch/s, loss=2.1982]\n",
      "Validating: 100%|██████████| 20/20 [00:01<00:00, 11.00 batch/s, loss=2.6430]\n"
     ]
    },
    {
     "name": "stdout",
     "output_type": "stream",
     "text": [
      "\u001b[1m\u001b[36mBest valid loss improved. Current accuracy is 31.84%. Saving checkpoint...\n",
      "\u001b[0m\u001b[1m\u001b[36mBest valid accuracy improved. Current accuracy is 31.84%. Saving checkpoint...\n",
      "\u001b[0m"
     ]
    },
    {
     "name": "stderr",
     "output_type": "stream",
     "text": [
      "Testing: 100%|██████████| 20/20 [00:01<00:00, 10.99 batch/s]\n"
     ]
    },
    {
     "name": "stdout",
     "output_type": "stream",
     "text": [
      "\u001b[1m\u001b[33mRunning experiment VGG!CIFAR100!KMeansPuritySampler\n",
      "\u001b[0m\u001b[1m\u001b[95mRunning run vgg16_kiss,ep:10,bs:512,clip:5.0,nc:8,eqsize,mp:0.01,ID:2/1\n",
      "\u001b[0m5000 5000\n"
     ]
    },
    {
     "name": "stderr",
     "output_type": "stream",
     "text": [
      "Epoch 1/10: 100%|██████████| 8/8 [00:02<00:00,  3.48 batch/s, loss=4.6121]\n",
      "Validating: 100%|██████████| 2/2 [00:00<00:00,  9.88 batch/s, loss=4.6094]\n"
     ]
    },
    {
     "name": "stdout",
     "output_type": "stream",
     "text": [
      "\u001b[1m\u001b[36mBest valid loss improved. Current accuracy is 0.50%. Saving checkpoint...\n",
      "\u001b[0m\u001b[1m\u001b[36mBest valid accuracy improved. Current accuracy is 0.50%. Saving checkpoint...\n",
      "\u001b[0m"
     ]
    },
    {
     "name": "stderr",
     "output_type": "stream",
     "text": [
      "Epoch 2/10: 100%|██████████| 8/8 [00:02<00:00,  3.51 batch/s, loss=4.6124]\n",
      "Validating: 100%|██████████| 2/2 [00:00<00:00, 10.31 batch/s, loss=4.6089]\n"
     ]
    },
    {
     "name": "stdout",
     "output_type": "stream",
     "text": [
      "\u001b[1m\u001b[36mBest valid loss improved. Current accuracy is 1.00%. Saving checkpoint...\n",
      "\u001b[0m\u001b[1m\u001b[36mBest valid accuracy improved. Current accuracy is 1.00%. Saving checkpoint...\n",
      "\u001b[0m"
     ]
    },
    {
     "name": "stderr",
     "output_type": "stream",
     "text": [
      "Epoch 3/10: 100%|██████████| 8/8 [00:02<00:00,  3.51 batch/s, loss=4.6034]\n",
      "Validating: 100%|██████████| 2/2 [00:00<00:00,  9.86 batch/s, loss=4.6074]\n"
     ]
    },
    {
     "name": "stdout",
     "output_type": "stream",
     "text": [
      "\u001b[1m\u001b[36mBest valid loss improved. Current accuracy is 0.70%. Saving checkpoint...\n",
      "\u001b[0m"
     ]
    },
    {
     "name": "stderr",
     "output_type": "stream",
     "text": [
      "Epoch 4/10: 100%|██████████| 8/8 [00:02<00:00,  3.51 batch/s, loss=4.5762]\n",
      "Validating: 100%|██████████| 2/2 [00:00<00:00,  9.90 batch/s, loss=4.5940]\n"
     ]
    },
    {
     "name": "stdout",
     "output_type": "stream",
     "text": [
      "\u001b[1m\u001b[36mBest valid loss improved. Current accuracy is 1.50%. Saving checkpoint...\n",
      "\u001b[0m\u001b[1m\u001b[36mBest valid accuracy improved. Current accuracy is 1.50%. Saving checkpoint...\n",
      "\u001b[0m"
     ]
    },
    {
     "name": "stderr",
     "output_type": "stream",
     "text": [
      "Epoch 5/10: 100%|██████████| 8/8 [00:02<00:00,  3.51 batch/s, loss=4.5316]\n",
      "Validating: 100%|██████████| 2/2 [00:00<00:00, 10.48 batch/s, loss=4.5106]\n"
     ]
    },
    {
     "name": "stdout",
     "output_type": "stream",
     "text": [
      "\u001b[1m\u001b[36mBest valid loss improved. Current accuracy is 1.90%. Saving checkpoint...\n",
      "\u001b[0m\u001b[1m\u001b[36mBest valid accuracy improved. Current accuracy is 1.90%. Saving checkpoint...\n",
      "\u001b[0m"
     ]
    },
    {
     "name": "stderr",
     "output_type": "stream",
     "text": [
      "Epoch 6/10: 100%|██████████| 8/8 [00:02<00:00,  3.51 batch/s, loss=4.4621]\n",
      "Validating: 100%|██████████| 2/2 [00:00<00:00, 10.90 batch/s, loss=4.4088]\n"
     ]
    },
    {
     "name": "stdout",
     "output_type": "stream",
     "text": [
      "\u001b[1m\u001b[36mBest valid loss improved. Current accuracy is 1.40%. Saving checkpoint...\n",
      "\u001b[0m"
     ]
    },
    {
     "name": "stderr",
     "output_type": "stream",
     "text": [
      "Epoch 7/10: 100%|██████████| 8/8 [00:02<00:00,  3.51 batch/s, loss=4.3389]\n",
      "Validating: 100%|██████████| 2/2 [00:00<00:00, 10.48 batch/s, loss=4.3125]\n"
     ]
    },
    {
     "name": "stdout",
     "output_type": "stream",
     "text": [
      "\u001b[1m\u001b[36mBest valid loss improved. Current accuracy is 1.90%. Saving checkpoint...\n",
      "\u001b[0m"
     ]
    },
    {
     "name": "stderr",
     "output_type": "stream",
     "text": [
      "Epoch 8/10: 100%|██████████| 8/8 [00:02<00:00,  3.51 batch/s, loss=4.2774]\n",
      "Validating: 100%|██████████| 2/2 [00:00<00:00,  9.87 batch/s, loss=4.3453]\n",
      "Epoch 9/10: 100%|██████████| 8/8 [00:02<00:00,  3.51 batch/s, loss=4.2607]\n",
      "Validating: 100%|██████████| 2/2 [00:00<00:00, 10.95 batch/s, loss=4.3070]\n"
     ]
    },
    {
     "name": "stdout",
     "output_type": "stream",
     "text": [
      "\u001b[1m\u001b[36mBest valid loss improved. Current accuracy is 1.80%. Saving checkpoint...\n",
      "\u001b[0m"
     ]
    },
    {
     "name": "stderr",
     "output_type": "stream",
     "text": [
      "Epoch 10/10: 100%|██████████| 8/8 [00:02<00:00,  3.51 batch/s, loss=4.2181]\n",
      "Validating: 100%|██████████| 2/2 [00:00<00:00, 10.27 batch/s, loss=4.2196]\n"
     ]
    },
    {
     "name": "stdout",
     "output_type": "stream",
     "text": [
      "\u001b[1m\u001b[36mBest valid loss improved. Current accuracy is 1.70%. Saving checkpoint...\n",
      "\u001b[0m"
     ]
    },
    {
     "name": "stderr",
     "output_type": "stream",
     "text": [
      "Testing: 100%|██████████| 20/20 [00:01<00:00, 10.80 batch/s]\n"
     ]
    },
    {
     "name": "stdout",
     "output_type": "stream",
     "text": [
      "\u001b[1m\u001b[95mRunning run vgg16_kiss,ep:10,bs:512,clip:5.0,nc:8,eqsize,mp:0.01,ID:2/2\n",
      "\u001b[0m10000 10000\n"
     ]
    },
    {
     "name": "stderr",
     "output_type": "stream",
     "text": [
      "Epoch 1/10: 100%|██████████| 16/16 [00:04<00:00,  3.51 batch/s, loss=4.6318]\n",
      "Validating: 100%|██████████| 4/4 [00:00<00:00, 11.07 batch/s, loss=4.6070]\n"
     ]
    },
    {
     "name": "stdout",
     "output_type": "stream",
     "text": [
      "\u001b[1m\u001b[36mBest valid loss improved. Current accuracy is 1.30%. Saving checkpoint...\n",
      "\u001b[0m\u001b[1m\u001b[36mBest valid accuracy improved. Current accuracy is 1.30%. Saving checkpoint...\n",
      "\u001b[0m"
     ]
    },
    {
     "name": "stderr",
     "output_type": "stream",
     "text": [
      "Epoch 2/10: 100%|██████████| 16/16 [00:04<00:00,  3.51 batch/s, loss=4.6047]\n",
      "Validating: 100%|██████████| 4/4 [00:00<00:00, 11.06 batch/s, loss=4.6034]\n"
     ]
    },
    {
     "name": "stdout",
     "output_type": "stream",
     "text": [
      "\u001b[1m\u001b[36mBest valid loss improved. Current accuracy is 0.80%. Saving checkpoint...\n",
      "\u001b[0m"
     ]
    },
    {
     "name": "stderr",
     "output_type": "stream",
     "text": [
      "Epoch 3/10: 100%|██████████| 16/16 [00:04<00:00,  3.48 batch/s, loss=4.5929]\n",
      "Validating: 100%|██████████| 4/4 [00:00<00:00, 11.09 batch/s, loss=4.5639]\n"
     ]
    },
    {
     "name": "stdout",
     "output_type": "stream",
     "text": [
      "\u001b[1m\u001b[36mBest valid loss improved. Current accuracy is 0.85%. Saving checkpoint...\n",
      "\u001b[0m"
     ]
    },
    {
     "name": "stderr",
     "output_type": "stream",
     "text": [
      "Epoch 4/10: 100%|██████████| 16/16 [00:04<00:00,  3.50 batch/s, loss=4.5888]\n",
      "Validating: 100%|██████████| 4/4 [00:00<00:00, 11.05 batch/s, loss=4.5345]\n"
     ]
    },
    {
     "name": "stdout",
     "output_type": "stream",
     "text": [
      "\u001b[1m\u001b[36mBest valid loss improved. Current accuracy is 1.60%. Saving checkpoint...\n",
      "\u001b[0m\u001b[1m\u001b[36mBest valid accuracy improved. Current accuracy is 1.60%. Saving checkpoint...\n",
      "\u001b[0m"
     ]
    },
    {
     "name": "stderr",
     "output_type": "stream",
     "text": [
      "Epoch 5/10: 100%|██████████| 16/16 [00:04<00:00,  3.50 batch/s, loss=4.5266]\n",
      "Validating: 100%|██████████| 4/4 [00:00<00:00, 11.09 batch/s, loss=4.5499]\n"
     ]
    },
    {
     "name": "stdout",
     "output_type": "stream",
     "text": [
      "\u001b[1m\u001b[36mBest valid accuracy improved. Current accuracy is 1.85%. Saving checkpoint...\n",
      "\u001b[0m"
     ]
    },
    {
     "name": "stderr",
     "output_type": "stream",
     "text": [
      "Epoch 6/10: 100%|██████████| 16/16 [00:04<00:00,  3.49 batch/s, loss=4.4388]\n",
      "Validating: 100%|██████████| 4/4 [00:00<00:00, 11.08 batch/s, loss=4.3815]\n"
     ]
    },
    {
     "name": "stdout",
     "output_type": "stream",
     "text": [
      "\u001b[1m\u001b[36mBest valid loss improved. Current accuracy is 1.60%. Saving checkpoint...\n",
      "\u001b[0m"
     ]
    },
    {
     "name": "stderr",
     "output_type": "stream",
     "text": [
      "Epoch 7/10: 100%|██████████| 16/16 [00:04<00:00,  3.51 batch/s, loss=4.3301]\n",
      "Validating: 100%|██████████| 4/4 [00:00<00:00, 11.07 batch/s, loss=4.2683]\n"
     ]
    },
    {
     "name": "stdout",
     "output_type": "stream",
     "text": [
      "\u001b[1m\u001b[36mBest valid loss improved. Current accuracy is 2.30%. Saving checkpoint...\n",
      "\u001b[0m\u001b[1m\u001b[36mBest valid accuracy improved. Current accuracy is 2.30%. Saving checkpoint...\n",
      "\u001b[0m"
     ]
    },
    {
     "name": "stderr",
     "output_type": "stream",
     "text": [
      "Epoch 8/10: 100%|██████████| 16/16 [00:04<00:00,  3.49 batch/s, loss=4.2444]\n",
      "Validating: 100%|██████████| 4/4 [00:00<00:00, 10.98 batch/s, loss=4.1728]\n"
     ]
    },
    {
     "name": "stdout",
     "output_type": "stream",
     "text": [
      "\u001b[1m\u001b[36mBest valid loss improved. Current accuracy is 2.50%. Saving checkpoint...\n",
      "\u001b[0m\u001b[1m\u001b[36mBest valid accuracy improved. Current accuracy is 2.50%. Saving checkpoint...\n",
      "\u001b[0m"
     ]
    },
    {
     "name": "stderr",
     "output_type": "stream",
     "text": [
      "Epoch 9/10: 100%|██████████| 16/16 [00:04<00:00,  3.48 batch/s, loss=4.1529]\n",
      "Validating: 100%|██████████| 4/4 [00:00<00:00, 11.07 batch/s, loss=4.0733]\n"
     ]
    },
    {
     "name": "stdout",
     "output_type": "stream",
     "text": [
      "\u001b[1m\u001b[36mBest valid loss improved. Current accuracy is 3.25%. Saving checkpoint...\n",
      "\u001b[0m\u001b[1m\u001b[36mBest valid accuracy improved. Current accuracy is 3.25%. Saving checkpoint...\n",
      "\u001b[0m"
     ]
    },
    {
     "name": "stderr",
     "output_type": "stream",
     "text": [
      "Epoch 10/10: 100%|██████████| 16/16 [00:04<00:00,  3.50 batch/s, loss=4.0595]\n",
      "Validating: 100%|██████████| 4/4 [00:00<00:00, 11.00 batch/s, loss=4.1126]\n",
      "Testing: 100%|██████████| 20/20 [00:01<00:00, 11.00 batch/s]\n"
     ]
    },
    {
     "name": "stdout",
     "output_type": "stream",
     "text": [
      "\u001b[1m\u001b[95mRunning run vgg16_kiss,ep:10,bs:512,clip:5.0,nc:8,eqsize,mp:0.01,ID:2/3\n",
      "\u001b[0m15000 15000\n"
     ]
    },
    {
     "name": "stderr",
     "output_type": "stream",
     "text": [
      "Epoch 1/10: 100%|██████████| 24/24 [00:06<00:00,  3.50 batch/s, loss=4.6070]\n",
      "Validating: 100%|██████████| 6/6 [00:00<00:00, 11.07 batch/s, loss=4.5804]\n"
     ]
    },
    {
     "name": "stdout",
     "output_type": "stream",
     "text": [
      "\u001b[1m\u001b[36mBest valid loss improved. Current accuracy is 1.00%. Saving checkpoint...\n",
      "\u001b[0m\u001b[1m\u001b[36mBest valid accuracy improved. Current accuracy is 1.00%. Saving checkpoint...\n",
      "\u001b[0m"
     ]
    },
    {
     "name": "stderr",
     "output_type": "stream",
     "text": [
      "Epoch 2/10: 100%|██████████| 24/24 [00:06<00:00,  3.49 batch/s, loss=4.5026]\n",
      "Validating: 100%|██████████| 6/6 [00:00<00:00, 11.05 batch/s, loss=4.4321]\n"
     ]
    },
    {
     "name": "stdout",
     "output_type": "stream",
     "text": [
      "\u001b[1m\u001b[36mBest valid loss improved. Current accuracy is 1.80%. Saving checkpoint...\n",
      "\u001b[0m\u001b[1m\u001b[36mBest valid accuracy improved. Current accuracy is 1.80%. Saving checkpoint...\n",
      "\u001b[0m"
     ]
    },
    {
     "name": "stderr",
     "output_type": "stream",
     "text": [
      "Epoch 3/10: 100%|██████████| 24/24 [00:06<00:00,  3.51 batch/s, loss=4.3248]\n",
      "Validating: 100%|██████████| 6/6 [00:00<00:00, 11.01 batch/s, loss=4.2202]\n"
     ]
    },
    {
     "name": "stdout",
     "output_type": "stream",
     "text": [
      "\u001b[1m\u001b[36mBest valid loss improved. Current accuracy is 2.33%. Saving checkpoint...\n",
      "\u001b[0m\u001b[1m\u001b[36mBest valid accuracy improved. Current accuracy is 2.33%. Saving checkpoint...\n",
      "\u001b[0m"
     ]
    },
    {
     "name": "stderr",
     "output_type": "stream",
     "text": [
      "Epoch 4/10: 100%|██████████| 24/24 [00:06<00:00,  3.49 batch/s, loss=4.1784]\n",
      "Validating: 100%|██████████| 6/6 [00:00<00:00, 11.10 batch/s, loss=4.0636]\n"
     ]
    },
    {
     "name": "stdout",
     "output_type": "stream",
     "text": [
      "\u001b[1m\u001b[36mBest valid loss improved. Current accuracy is 3.67%. Saving checkpoint...\n",
      "\u001b[0m\u001b[1m\u001b[36mBest valid accuracy improved. Current accuracy is 3.67%. Saving checkpoint...\n",
      "\u001b[0m"
     ]
    },
    {
     "name": "stderr",
     "output_type": "stream",
     "text": [
      "Epoch 5/10: 100%|██████████| 24/24 [00:06<00:00,  3.51 batch/s, loss=4.0289]\n",
      "Validating: 100%|██████████| 6/6 [00:00<00:00, 10.81 batch/s, loss=3.9826]\n"
     ]
    },
    {
     "name": "stdout",
     "output_type": "stream",
     "text": [
      "\u001b[1m\u001b[36mBest valid loss improved. Current accuracy is 4.03%. Saving checkpoint...\n",
      "\u001b[0m\u001b[1m\u001b[36mBest valid accuracy improved. Current accuracy is 4.03%. Saving checkpoint...\n",
      "\u001b[0m"
     ]
    },
    {
     "name": "stderr",
     "output_type": "stream",
     "text": [
      "Epoch 6/10: 100%|██████████| 24/24 [00:06<00:00,  3.50 batch/s, loss=3.9188]\n",
      "Validating: 100%|██████████| 6/6 [00:00<00:00, 11.04 batch/s, loss=3.8216]\n"
     ]
    },
    {
     "name": "stdout",
     "output_type": "stream",
     "text": [
      "\u001b[1m\u001b[36mBest valid loss improved. Current accuracy is 4.80%. Saving checkpoint...\n",
      "\u001b[0m\u001b[1m\u001b[36mBest valid accuracy improved. Current accuracy is 4.80%. Saving checkpoint...\n",
      "\u001b[0m"
     ]
    },
    {
     "name": "stderr",
     "output_type": "stream",
     "text": [
      "Epoch 7/10: 100%|██████████| 24/24 [00:06<00:00,  3.50 batch/s, loss=3.7735]\n",
      "Validating: 100%|██████████| 6/6 [00:00<00:00, 11.02 batch/s, loss=3.6797]\n"
     ]
    },
    {
     "name": "stdout",
     "output_type": "stream",
     "text": [
      "\u001b[1m\u001b[36mBest valid loss improved. Current accuracy is 6.20%. Saving checkpoint...\n",
      "\u001b[0m\u001b[1m\u001b[36mBest valid accuracy improved. Current accuracy is 6.20%. Saving checkpoint...\n",
      "\u001b[0m"
     ]
    },
    {
     "name": "stderr",
     "output_type": "stream",
     "text": [
      "Epoch 8/10: 100%|██████████| 24/24 [00:06<00:00,  3.50 batch/s, loss=3.6063]\n",
      "Validating: 100%|██████████| 6/6 [00:00<00:00, 11.00 batch/s, loss=3.5971]\n"
     ]
    },
    {
     "name": "stdout",
     "output_type": "stream",
     "text": [
      "\u001b[1m\u001b[36mBest valid loss improved. Current accuracy is 8.63%. Saving checkpoint...\n",
      "\u001b[0m\u001b[1m\u001b[36mBest valid accuracy improved. Current accuracy is 8.63%. Saving checkpoint...\n",
      "\u001b[0m"
     ]
    },
    {
     "name": "stderr",
     "output_type": "stream",
     "text": [
      "Epoch 9/10: 100%|██████████| 24/24 [00:06<00:00,  3.51 batch/s, loss=3.4242]\n",
      "Validating: 100%|██████████| 6/6 [00:00<00:00, 11.08 batch/s, loss=3.4252]\n"
     ]
    },
    {
     "name": "stdout",
     "output_type": "stream",
     "text": [
      "\u001b[1m\u001b[36mBest valid loss improved. Current accuracy is 12.03%. Saving checkpoint...\n",
      "\u001b[0m\u001b[1m\u001b[36mBest valid accuracy improved. Current accuracy is 12.03%. Saving checkpoint...\n",
      "\u001b[0m"
     ]
    },
    {
     "name": "stderr",
     "output_type": "stream",
     "text": [
      "Epoch 10/10: 100%|██████████| 24/24 [00:06<00:00,  3.51 batch/s, loss=3.2492]\n",
      "Validating: 100%|██████████| 6/6 [00:00<00:00, 11.12 batch/s, loss=3.3749]\n"
     ]
    },
    {
     "name": "stdout",
     "output_type": "stream",
     "text": [
      "\u001b[1m\u001b[36mBest valid loss improved. Current accuracy is 12.40%. Saving checkpoint...\n",
      "\u001b[0m\u001b[1m\u001b[36mBest valid accuracy improved. Current accuracy is 12.40%. Saving checkpoint...\n",
      "\u001b[0m"
     ]
    },
    {
     "name": "stderr",
     "output_type": "stream",
     "text": [
      "Testing: 100%|██████████| 20/20 [00:01<00:00, 10.80 batch/s]\n"
     ]
    },
    {
     "name": "stdout",
     "output_type": "stream",
     "text": [
      "\u001b[1m\u001b[95mRunning run vgg16_kiss,ep:10,bs:512,clip:5.0,nc:8,eqsize,mp:0.01,ID:2/4\n",
      "\u001b[0m20000 19952\n"
     ]
    },
    {
     "name": "stderr",
     "output_type": "stream",
     "text": [
      "Epoch 1/10: 100%|██████████| 32/32 [00:09<00:00,  3.51 batch/s, loss=4.6254]\n",
      "Validating: 100%|██████████| 8/8 [00:00<00:00, 10.96 batch/s, loss=4.4701]\n"
     ]
    },
    {
     "name": "stdout",
     "output_type": "stream",
     "text": [
      "\u001b[1m\u001b[36mBest valid loss improved. Current accuracy is 1.98%. Saving checkpoint...\n",
      "\u001b[0m\u001b[1m\u001b[36mBest valid accuracy improved. Current accuracy is 1.98%. Saving checkpoint...\n",
      "\u001b[0m"
     ]
    },
    {
     "name": "stderr",
     "output_type": "stream",
     "text": [
      "Epoch 2/10: 100%|██████████| 32/32 [00:09<00:00,  3.50 batch/s, loss=4.3905]\n",
      "Validating: 100%|██████████| 8/8 [00:00<00:00, 11.05 batch/s, loss=4.2617]\n"
     ]
    },
    {
     "name": "stdout",
     "output_type": "stream",
     "text": [
      "\u001b[1m\u001b[36mBest valid loss improved. Current accuracy is 1.75%. Saving checkpoint...\n",
      "\u001b[0m"
     ]
    },
    {
     "name": "stderr",
     "output_type": "stream",
     "text": [
      "Epoch 3/10: 100%|██████████| 32/32 [00:09<00:00,  3.50 batch/s, loss=4.1834]\n",
      "Validating: 100%|██████████| 8/8 [00:00<00:00, 11.11 batch/s, loss=4.0390]\n"
     ]
    },
    {
     "name": "stdout",
     "output_type": "stream",
     "text": [
      "\u001b[1m\u001b[36mBest valid loss improved. Current accuracy is 3.28%. Saving checkpoint...\n",
      "\u001b[0m\u001b[1m\u001b[36mBest valid accuracy improved. Current accuracy is 3.28%. Saving checkpoint...\n",
      "\u001b[0m"
     ]
    },
    {
     "name": "stderr",
     "output_type": "stream",
     "text": [
      "Epoch 4/10: 100%|██████████| 32/32 [00:09<00:00,  3.51 batch/s, loss=4.0223]\n",
      "Validating: 100%|██████████| 8/8 [00:00<00:00, 11.05 batch/s, loss=3.9171]\n"
     ]
    },
    {
     "name": "stdout",
     "output_type": "stream",
     "text": [
      "\u001b[1m\u001b[36mBest valid loss improved. Current accuracy is 4.55%. Saving checkpoint...\n",
      "\u001b[0m\u001b[1m\u001b[36mBest valid accuracy improved. Current accuracy is 4.55%. Saving checkpoint...\n",
      "\u001b[0m"
     ]
    },
    {
     "name": "stderr",
     "output_type": "stream",
     "text": [
      "Epoch 5/10: 100%|██████████| 32/32 [00:09<00:00,  3.52 batch/s, loss=3.8418]\n",
      "Validating: 100%|██████████| 8/8 [00:00<00:00, 10.75 batch/s, loss=3.9335]\n"
     ]
    },
    {
     "name": "stdout",
     "output_type": "stream",
     "text": [
      "\u001b[1m\u001b[36mBest valid accuracy improved. Current accuracy is 5.65%. Saving checkpoint...\n",
      "\u001b[0m"
     ]
    },
    {
     "name": "stderr",
     "output_type": "stream",
     "text": [
      "Epoch 6/10: 100%|██████████| 32/32 [00:09<00:00,  3.52 batch/s, loss=3.6830]\n",
      "Validating: 100%|██████████| 8/8 [00:00<00:00, 10.98 batch/s, loss=3.5953]\n"
     ]
    },
    {
     "name": "stdout",
     "output_type": "stream",
     "text": [
      "\u001b[1m\u001b[36mBest valid loss improved. Current accuracy is 7.65%. Saving checkpoint...\n",
      "\u001b[0m\u001b[1m\u001b[36mBest valid accuracy improved. Current accuracy is 7.65%. Saving checkpoint...\n",
      "\u001b[0m"
     ]
    },
    {
     "name": "stderr",
     "output_type": "stream",
     "text": [
      "Epoch 7/10: 100%|██████████| 32/32 [00:09<00:00,  3.52 batch/s, loss=3.5011]\n",
      "Validating: 100%|██████████| 8/8 [00:00<00:00, 11.09 batch/s, loss=3.5579]\n"
     ]
    },
    {
     "name": "stdout",
     "output_type": "stream",
     "text": [
      "\u001b[1m\u001b[36mBest valid loss improved. Current accuracy is 9.60%. Saving checkpoint...\n",
      "\u001b[0m\u001b[1m\u001b[36mBest valid accuracy improved. Current accuracy is 9.60%. Saving checkpoint...\n",
      "\u001b[0m"
     ]
    },
    {
     "name": "stderr",
     "output_type": "stream",
     "text": [
      "Epoch 8/10: 100%|██████████| 32/32 [00:09<00:00,  3.51 batch/s, loss=3.2614]\n",
      "Validating: 100%|██████████| 8/8 [00:00<00:00, 11.01 batch/s, loss=3.3017]\n"
     ]
    },
    {
     "name": "stdout",
     "output_type": "stream",
     "text": [
      "\u001b[1m\u001b[36mBest valid loss improved. Current accuracy is 14.00%. Saving checkpoint...\n",
      "\u001b[0m\u001b[1m\u001b[36mBest valid accuracy improved. Current accuracy is 14.00%. Saving checkpoint...\n",
      "\u001b[0m"
     ]
    },
    {
     "name": "stderr",
     "output_type": "stream",
     "text": [
      "Epoch 9/10: 100%|██████████| 32/32 [00:09<00:00,  3.51 batch/s, loss=3.0771]\n",
      "Validating: 100%|██████████| 8/8 [00:00<00:00, 11.08 batch/s, loss=3.2013]\n"
     ]
    },
    {
     "name": "stdout",
     "output_type": "stream",
     "text": [
      "\u001b[1m\u001b[36mBest valid loss improved. Current accuracy is 16.32%. Saving checkpoint...\n",
      "\u001b[0m\u001b[1m\u001b[36mBest valid accuracy improved. Current accuracy is 16.32%. Saving checkpoint...\n",
      "\u001b[0m"
     ]
    },
    {
     "name": "stderr",
     "output_type": "stream",
     "text": [
      "Epoch 10/10: 100%|██████████| 32/32 [00:09<00:00,  3.52 batch/s, loss=2.8864]\n",
      "Validating: 100%|██████████| 8/8 [00:00<00:00, 10.24 batch/s, loss=3.1335]\n"
     ]
    },
    {
     "name": "stdout",
     "output_type": "stream",
     "text": [
      "\u001b[1m\u001b[36mBest valid loss improved. Current accuracy is 17.25%. Saving checkpoint...\n",
      "\u001b[0m\u001b[1m\u001b[36mBest valid accuracy improved. Current accuracy is 17.25%. Saving checkpoint...\n",
      "\u001b[0m"
     ]
    },
    {
     "name": "stderr",
     "output_type": "stream",
     "text": [
      "Testing: 100%|██████████| 20/20 [00:01<00:00, 11.05 batch/s]\n"
     ]
    },
    {
     "name": "stdout",
     "output_type": "stream",
     "text": [
      "\u001b[1m\u001b[95mRunning run vgg16_kiss,ep:10,bs:512,clip:5.0,nc:8,eqsize,mp:0.01,ID:2/5\n",
      "\u001b[0m25000 24627\n"
     ]
    },
    {
     "name": "stderr",
     "output_type": "stream",
     "text": [
      "Epoch 1/10: 100%|██████████| 40/40 [00:11<00:00,  3.52 batch/s, loss=4.6016]\n",
      "Validating: 100%|██████████| 10/10 [00:00<00:00, 11.10 batch/s, loss=4.5027]\n"
     ]
    },
    {
     "name": "stdout",
     "output_type": "stream",
     "text": [
      "\u001b[1m\u001b[36mBest valid loss improved. Current accuracy is 1.84%. Saving checkpoint...\n",
      "\u001b[0m\u001b[1m\u001b[36mBest valid accuracy improved. Current accuracy is 1.84%. Saving checkpoint...\n",
      "\u001b[0m"
     ]
    },
    {
     "name": "stderr",
     "output_type": "stream",
     "text": [
      "Epoch 2/10: 100%|██████████| 40/40 [00:11<00:00,  3.52 batch/s, loss=4.3899]\n",
      "Validating: 100%|██████████| 10/10 [00:00<00:00, 11.09 batch/s, loss=4.2325]\n"
     ]
    },
    {
     "name": "stdout",
     "output_type": "stream",
     "text": [
      "\u001b[1m\u001b[36mBest valid loss improved. Current accuracy is 2.36%. Saving checkpoint...\n",
      "\u001b[0m\u001b[1m\u001b[36mBest valid accuracy improved. Current accuracy is 2.36%. Saving checkpoint...\n",
      "\u001b[0m"
     ]
    },
    {
     "name": "stderr",
     "output_type": "stream",
     "text": [
      "Epoch 3/10: 100%|██████████| 40/40 [00:11<00:00,  3.51 batch/s, loss=4.1585]\n",
      "Validating: 100%|██████████| 10/10 [00:00<00:00, 11.06 batch/s, loss=3.9815]\n"
     ]
    },
    {
     "name": "stdout",
     "output_type": "stream",
     "text": [
      "\u001b[1m\u001b[36mBest valid loss improved. Current accuracy is 3.80%. Saving checkpoint...\n",
      "\u001b[0m\u001b[1m\u001b[36mBest valid accuracy improved. Current accuracy is 3.80%. Saving checkpoint...\n",
      "\u001b[0m"
     ]
    },
    {
     "name": "stderr",
     "output_type": "stream",
     "text": [
      "Epoch 4/10: 100%|██████████| 40/40 [00:11<00:00,  3.52 batch/s, loss=3.9808]\n",
      "Validating: 100%|██████████| 10/10 [00:00<00:00, 10.90 batch/s, loss=4.0331]\n"
     ]
    },
    {
     "name": "stdout",
     "output_type": "stream",
     "text": [
      "\u001b[1m\u001b[36mBest valid accuracy improved. Current accuracy is 4.12%. Saving checkpoint...\n",
      "\u001b[0m"
     ]
    },
    {
     "name": "stderr",
     "output_type": "stream",
     "text": [
      "Epoch 5/10: 100%|██████████| 40/40 [00:11<00:00,  3.52 batch/s, loss=3.8644]\n",
      "Validating: 100%|██████████| 10/10 [00:00<00:00, 11.09 batch/s, loss=3.6929]\n"
     ]
    },
    {
     "name": "stdout",
     "output_type": "stream",
     "text": [
      "\u001b[1m\u001b[36mBest valid loss improved. Current accuracy is 7.12%. Saving checkpoint...\n",
      "\u001b[0m\u001b[1m\u001b[36mBest valid accuracy improved. Current accuracy is 7.12%. Saving checkpoint...\n",
      "\u001b[0m"
     ]
    },
    {
     "name": "stderr",
     "output_type": "stream",
     "text": [
      "Epoch 6/10: 100%|██████████| 40/40 [00:11<00:00,  3.52 batch/s, loss=3.6241]\n",
      "Validating: 100%|██████████| 10/10 [00:00<00:00, 11.08 batch/s, loss=3.5077]\n"
     ]
    },
    {
     "name": "stdout",
     "output_type": "stream",
     "text": [
      "\u001b[1m\u001b[36mBest valid loss improved. Current accuracy is 8.18%. Saving checkpoint...\n",
      "\u001b[0m\u001b[1m\u001b[36mBest valid accuracy improved. Current accuracy is 8.18%. Saving checkpoint...\n",
      "\u001b[0m"
     ]
    },
    {
     "name": "stderr",
     "output_type": "stream",
     "text": [
      "Epoch 7/10: 100%|██████████| 40/40 [00:11<00:00,  3.51 batch/s, loss=3.4770]\n",
      "Validating: 100%|██████████| 10/10 [00:00<00:00, 11.07 batch/s, loss=3.3761]\n"
     ]
    },
    {
     "name": "stdout",
     "output_type": "stream",
     "text": [
      "\u001b[1m\u001b[36mBest valid loss improved. Current accuracy is 11.62%. Saving checkpoint...\n",
      "\u001b[0m\u001b[1m\u001b[36mBest valid accuracy improved. Current accuracy is 11.62%. Saving checkpoint...\n",
      "\u001b[0m"
     ]
    },
    {
     "name": "stderr",
     "output_type": "stream",
     "text": [
      "Epoch 8/10: 100%|██████████| 40/40 [00:11<00:00,  3.51 batch/s, loss=3.2910]\n",
      "Validating: 100%|██████████| 10/10 [00:00<00:00, 11.09 batch/s, loss=3.4153]\n"
     ]
    },
    {
     "name": "stdout",
     "output_type": "stream",
     "text": [
      "\u001b[1m\u001b[36mBest valid accuracy improved. Current accuracy is 11.66%. Saving checkpoint...\n",
      "\u001b[0m"
     ]
    },
    {
     "name": "stderr",
     "output_type": "stream",
     "text": [
      "Epoch 9/10: 100%|██████████| 40/40 [00:11<00:00,  3.52 batch/s, loss=3.1368]\n",
      "Validating: 100%|██████████| 10/10 [00:00<00:00, 11.07 batch/s, loss=3.3273]\n"
     ]
    },
    {
     "name": "stdout",
     "output_type": "stream",
     "text": [
      "\u001b[1m\u001b[36mBest valid loss improved. Current accuracy is 11.92%. Saving checkpoint...\n",
      "\u001b[0m\u001b[1m\u001b[36mBest valid accuracy improved. Current accuracy is 11.92%. Saving checkpoint...\n",
      "\u001b[0m"
     ]
    },
    {
     "name": "stderr",
     "output_type": "stream",
     "text": [
      "Epoch 10/10: 100%|██████████| 40/40 [00:11<00:00,  3.52 batch/s, loss=2.9388]\n",
      "Validating: 100%|██████████| 10/10 [00:00<00:00, 10.93 batch/s, loss=3.3329]\n"
     ]
    },
    {
     "name": "stdout",
     "output_type": "stream",
     "text": [
      "\u001b[1m\u001b[36mBest valid accuracy improved. Current accuracy is 13.06%. Saving checkpoint...\n",
      "\u001b[0m"
     ]
    },
    {
     "name": "stderr",
     "output_type": "stream",
     "text": [
      "Testing: 100%|██████████| 20/20 [00:01<00:00, 10.88 batch/s]\n"
     ]
    },
    {
     "name": "stdout",
     "output_type": "stream",
     "text": [
      "\u001b[1m\u001b[95mRunning run vgg16_kiss,ep:10,bs:512,clip:5.0,nc:8,eqsize,mp:0.01,ID:2/6\n",
      "\u001b[0m30000 28573\n"
     ]
    },
    {
     "name": "stderr",
     "output_type": "stream",
     "text": [
      "Epoch 1/10: 100%|██████████| 47/47 [00:13<00:00,  3.45 batch/s, loss=4.5219]\n",
      "Validating: 100%|██████████| 12/12 [00:01<00:00, 11.13 batch/s, loss=4.3325]\n"
     ]
    },
    {
     "name": "stdout",
     "output_type": "stream",
     "text": [
      "\u001b[1m\u001b[36mBest valid loss improved. Current accuracy is 1.68%. Saving checkpoint...\n",
      "\u001b[0m\u001b[1m\u001b[36mBest valid accuracy improved. Current accuracy is 1.68%. Saving checkpoint...\n",
      "\u001b[0m"
     ]
    },
    {
     "name": "stderr",
     "output_type": "stream",
     "text": [
      "Epoch 2/10: 100%|██████████| 47/47 [00:13<00:00,  3.45 batch/s, loss=4.2111]\n",
      "Validating: 100%|██████████| 12/12 [00:01<00:00, 10.95 batch/s, loss=4.0518]\n"
     ]
    },
    {
     "name": "stdout",
     "output_type": "stream",
     "text": [
      "\u001b[1m\u001b[36mBest valid loss improved. Current accuracy is 3.98%. Saving checkpoint...\n",
      "\u001b[0m\u001b[1m\u001b[36mBest valid accuracy improved. Current accuracy is 3.98%. Saving checkpoint...\n",
      "\u001b[0m"
     ]
    },
    {
     "name": "stderr",
     "output_type": "stream",
     "text": [
      "Epoch 3/10: 100%|██████████| 47/47 [00:13<00:00,  3.45 batch/s, loss=3.9473]\n",
      "Validating: 100%|██████████| 12/12 [00:01<00:00, 10.97 batch/s, loss=3.8129]\n"
     ]
    },
    {
     "name": "stdout",
     "output_type": "stream",
     "text": [
      "\u001b[1m\u001b[36mBest valid loss improved. Current accuracy is 5.38%. Saving checkpoint...\n",
      "\u001b[0m\u001b[1m\u001b[36mBest valid accuracy improved. Current accuracy is 5.38%. Saving checkpoint...\n",
      "\u001b[0m"
     ]
    },
    {
     "name": "stderr",
     "output_type": "stream",
     "text": [
      "Epoch 4/10: 100%|██████████| 47/47 [00:13<00:00,  3.44 batch/s, loss=3.7108]\n",
      "Validating: 100%|██████████| 12/12 [00:01<00:00, 11.18 batch/s, loss=3.5712]\n"
     ]
    },
    {
     "name": "stdout",
     "output_type": "stream",
     "text": [
      "\u001b[1m\u001b[36mBest valid loss improved. Current accuracy is 8.73%. Saving checkpoint...\n",
      "\u001b[0m\u001b[1m\u001b[36mBest valid accuracy improved. Current accuracy is 8.73%. Saving checkpoint...\n",
      "\u001b[0m"
     ]
    },
    {
     "name": "stderr",
     "output_type": "stream",
     "text": [
      "Epoch 5/10: 100%|██████████| 47/47 [00:13<00:00,  3.44 batch/s, loss=3.3494]\n",
      "Validating: 100%|██████████| 12/12 [00:01<00:00, 11.08 batch/s, loss=3.2251]\n"
     ]
    },
    {
     "name": "stdout",
     "output_type": "stream",
     "text": [
      "\u001b[1m\u001b[36mBest valid loss improved. Current accuracy is 14.13%. Saving checkpoint...\n",
      "\u001b[0m\u001b[1m\u001b[36mBest valid accuracy improved. Current accuracy is 14.13%. Saving checkpoint...\n",
      "\u001b[0m"
     ]
    },
    {
     "name": "stderr",
     "output_type": "stream",
     "text": [
      "Epoch 6/10: 100%|██████████| 47/47 [00:13<00:00,  3.45 batch/s, loss=3.0513]\n",
      "Validating: 100%|██████████| 12/12 [00:01<00:00, 11.15 batch/s, loss=3.1019]\n"
     ]
    },
    {
     "name": "stdout",
     "output_type": "stream",
     "text": [
      "\u001b[1m\u001b[36mBest valid loss improved. Current accuracy is 16.33%. Saving checkpoint...\n",
      "\u001b[0m\u001b[1m\u001b[36mBest valid accuracy improved. Current accuracy is 16.33%. Saving checkpoint...\n",
      "\u001b[0m"
     ]
    },
    {
     "name": "stderr",
     "output_type": "stream",
     "text": [
      "Epoch 7/10: 100%|██████████| 47/47 [00:13<00:00,  3.45 batch/s, loss=2.8057]\n",
      "Validating: 100%|██████████| 12/12 [00:01<00:00, 10.90 batch/s, loss=2.8449]\n"
     ]
    },
    {
     "name": "stdout",
     "output_type": "stream",
     "text": [
      "\u001b[1m\u001b[36mBest valid loss improved. Current accuracy is 22.10%. Saving checkpoint...\n",
      "\u001b[0m\u001b[1m\u001b[36mBest valid accuracy improved. Current accuracy is 22.10%. Saving checkpoint...\n",
      "\u001b[0m"
     ]
    },
    {
     "name": "stderr",
     "output_type": "stream",
     "text": [
      "Epoch 8/10: 100%|██████████| 47/47 [00:13<00:00,  3.45 batch/s, loss=2.5387]\n",
      "Validating: 100%|██████████| 12/12 [00:01<00:00, 11.09 batch/s, loss=2.8134]\n"
     ]
    },
    {
     "name": "stdout",
     "output_type": "stream",
     "text": [
      "\u001b[1m\u001b[36mBest valid loss improved. Current accuracy is 25.00%. Saving checkpoint...\n",
      "\u001b[0m\u001b[1m\u001b[36mBest valid accuracy improved. Current accuracy is 25.00%. Saving checkpoint...\n",
      "\u001b[0m"
     ]
    },
    {
     "name": "stderr",
     "output_type": "stream",
     "text": [
      "Epoch 9/10: 100%|██████████| 47/47 [00:13<00:00,  3.45 batch/s, loss=2.3005]\n",
      "Validating: 100%|██████████| 12/12 [00:01<00:00, 11.08 batch/s, loss=2.8457]\n",
      "Epoch 10/10: 100%|██████████| 47/47 [00:13<00:00,  3.45 batch/s, loss=2.0871]\n",
      "Validating: 100%|██████████| 12/12 [00:01<00:00, 11.10 batch/s, loss=2.7028]\n"
     ]
    },
    {
     "name": "stdout",
     "output_type": "stream",
     "text": [
      "\u001b[1m\u001b[36mBest valid loss improved. Current accuracy is 29.42%. Saving checkpoint...\n",
      "\u001b[0m\u001b[1m\u001b[36mBest valid accuracy improved. Current accuracy is 29.42%. Saving checkpoint...\n",
      "\u001b[0m"
     ]
    },
    {
     "name": "stderr",
     "output_type": "stream",
     "text": [
      "Testing: 100%|██████████| 20/20 [00:01<00:00, 11.01 batch/s]\n"
     ]
    },
    {
     "name": "stdout",
     "output_type": "stream",
     "text": [
      "\u001b[1m\u001b[95mRunning run vgg16_kiss,ep:10,bs:512,clip:5.0,nc:8,eqsize,mp:0.01,ID:2/7\n",
      "\u001b[0m35000 31645\n"
     ]
    },
    {
     "name": "stderr",
     "output_type": "stream",
     "text": [
      "Epoch 1/10: 100%|██████████| 55/55 [00:15<00:00,  3.46 batch/s, loss=4.5901]\n",
      "Validating: 100%|██████████| 14/14 [00:01<00:00, 10.78 batch/s, loss=4.5424]\n"
     ]
    },
    {
     "name": "stdout",
     "output_type": "stream",
     "text": [
      "\u001b[1m\u001b[36mBest valid loss improved. Current accuracy is 1.84%. Saving checkpoint...\n",
      "\u001b[0m\u001b[1m\u001b[36mBest valid accuracy improved. Current accuracy is 1.84%. Saving checkpoint...\n",
      "\u001b[0m"
     ]
    },
    {
     "name": "stderr",
     "output_type": "stream",
     "text": [
      "Epoch 2/10: 100%|██████████| 55/55 [00:15<00:00,  3.45 batch/s, loss=4.3634]\n",
      "Validating: 100%|██████████| 14/14 [00:01<00:00, 10.95 batch/s, loss=4.1687]\n"
     ]
    },
    {
     "name": "stdout",
     "output_type": "stream",
     "text": [
      "\u001b[1m\u001b[36mBest valid loss improved. Current accuracy is 3.69%. Saving checkpoint...\n",
      "\u001b[0m\u001b[1m\u001b[36mBest valid accuracy improved. Current accuracy is 3.69%. Saving checkpoint...\n",
      "\u001b[0m"
     ]
    },
    {
     "name": "stderr",
     "output_type": "stream",
     "text": [
      "Epoch 3/10: 100%|██████████| 55/55 [00:15<00:00,  3.46 batch/s, loss=4.1339]\n",
      "Validating: 100%|██████████| 14/14 [00:01<00:00, 10.77 batch/s, loss=3.9895]\n"
     ]
    },
    {
     "name": "stdout",
     "output_type": "stream",
     "text": [
      "\u001b[1m\u001b[36mBest valid loss improved. Current accuracy is 4.34%. Saving checkpoint...\n",
      "\u001b[0m\u001b[1m\u001b[36mBest valid accuracy improved. Current accuracy is 4.34%. Saving checkpoint...\n",
      "\u001b[0m"
     ]
    },
    {
     "name": "stderr",
     "output_type": "stream",
     "text": [
      "Epoch 4/10: 100%|██████████| 55/55 [00:15<00:00,  3.45 batch/s, loss=3.9694]\n",
      "Validating: 100%|██████████| 14/14 [00:01<00:00, 10.95 batch/s, loss=3.8080]\n"
     ]
    },
    {
     "name": "stdout",
     "output_type": "stream",
     "text": [
      "\u001b[1m\u001b[36mBest valid loss improved. Current accuracy is 5.96%. Saving checkpoint...\n",
      "\u001b[0m\u001b[1m\u001b[36mBest valid accuracy improved. Current accuracy is 5.96%. Saving checkpoint...\n",
      "\u001b[0m"
     ]
    },
    {
     "name": "stderr",
     "output_type": "stream",
     "text": [
      "Epoch 5/10: 100%|██████████| 55/55 [00:15<00:00,  3.45 batch/s, loss=3.7535]\n",
      "Validating: 100%|██████████| 14/14 [00:01<00:00, 10.92 batch/s, loss=3.6337]\n"
     ]
    },
    {
     "name": "stdout",
     "output_type": "stream",
     "text": [
      "\u001b[1m\u001b[36mBest valid loss improved. Current accuracy is 8.13%. Saving checkpoint...\n",
      "\u001b[0m\u001b[1m\u001b[36mBest valid accuracy improved. Current accuracy is 8.13%. Saving checkpoint...\n",
      "\u001b[0m"
     ]
    },
    {
     "name": "stderr",
     "output_type": "stream",
     "text": [
      "Epoch 6/10: 100%|██████████| 55/55 [00:15<00:00,  3.45 batch/s, loss=3.5051]\n",
      "Validating: 100%|██████████| 14/14 [00:01<00:00, 10.93 batch/s, loss=3.3969]\n"
     ]
    },
    {
     "name": "stdout",
     "output_type": "stream",
     "text": [
      "\u001b[1m\u001b[36mBest valid loss improved. Current accuracy is 11.36%. Saving checkpoint...\n",
      "\u001b[0m\u001b[1m\u001b[36mBest valid accuracy improved. Current accuracy is 11.36%. Saving checkpoint...\n",
      "\u001b[0m"
     ]
    },
    {
     "name": "stderr",
     "output_type": "stream",
     "text": [
      "Epoch 7/10: 100%|██████████| 55/55 [00:15<00:00,  3.46 batch/s, loss=3.2316]\n",
      "Validating: 100%|██████████| 14/14 [00:01<00:00, 11.14 batch/s, loss=3.2567]\n"
     ]
    },
    {
     "name": "stdout",
     "output_type": "stream",
     "text": [
      "\u001b[1m\u001b[36mBest valid loss improved. Current accuracy is 15.50%. Saving checkpoint...\n",
      "\u001b[0m\u001b[1m\u001b[36mBest valid accuracy improved. Current accuracy is 15.50%. Saving checkpoint...\n",
      "\u001b[0m"
     ]
    },
    {
     "name": "stderr",
     "output_type": "stream",
     "text": [
      "Epoch 8/10: 100%|██████████| 55/55 [00:15<00:00,  3.46 batch/s, loss=3.0261]\n",
      "Validating: 100%|██████████| 14/14 [00:01<00:00, 10.85 batch/s, loss=3.0457]\n"
     ]
    },
    {
     "name": "stdout",
     "output_type": "stream",
     "text": [
      "\u001b[1m\u001b[36mBest valid loss improved. Current accuracy is 17.21%. Saving checkpoint...\n",
      "\u001b[0m\u001b[1m\u001b[36mBest valid accuracy improved. Current accuracy is 17.21%. Saving checkpoint...\n",
      "\u001b[0m"
     ]
    },
    {
     "name": "stderr",
     "output_type": "stream",
     "text": [
      "Epoch 9/10: 100%|██████████| 55/55 [00:15<00:00,  3.46 batch/s, loss=2.7943]\n",
      "Validating: 100%|██████████| 14/14 [00:01<00:00, 10.84 batch/s, loss=2.9197]\n"
     ]
    },
    {
     "name": "stdout",
     "output_type": "stream",
     "text": [
      "\u001b[1m\u001b[36mBest valid loss improved. Current accuracy is 20.40%. Saving checkpoint...\n",
      "\u001b[0m\u001b[1m\u001b[36mBest valid accuracy improved. Current accuracy is 20.40%. Saving checkpoint...\n",
      "\u001b[0m"
     ]
    },
    {
     "name": "stderr",
     "output_type": "stream",
     "text": [
      "Epoch 10/10: 100%|██████████| 55/55 [00:15<00:00,  3.46 batch/s, loss=2.5886]\n",
      "Validating: 100%|██████████| 14/14 [00:01<00:00, 10.94 batch/s, loss=2.8801]\n"
     ]
    },
    {
     "name": "stdout",
     "output_type": "stream",
     "text": [
      "\u001b[1m\u001b[36mBest valid loss improved. Current accuracy is 23.33%. Saving checkpoint...\n",
      "\u001b[0m\u001b[1m\u001b[36mBest valid accuracy improved. Current accuracy is 23.33%. Saving checkpoint...\n",
      "\u001b[0m"
     ]
    },
    {
     "name": "stderr",
     "output_type": "stream",
     "text": [
      "Testing: 100%|██████████| 20/20 [00:01<00:00, 10.90 batch/s]\n"
     ]
    },
    {
     "name": "stdout",
     "output_type": "stream",
     "text": [
      "\u001b[1m\u001b[95mRunning run vgg16_kiss,ep:10,bs:512,clip:5.0,nc:8,eqsize,mp:0.01,ID:2/8\n",
      "\u001b[0m40000 34089\n"
     ]
    },
    {
     "name": "stderr",
     "output_type": "stream",
     "text": [
      "Epoch 1/10: 100%|██████████| 63/63 [00:18<00:00,  3.47 batch/s, loss=4.5016]\n",
      "Validating: 100%|██████████| 16/16 [00:01<00:00, 11.06 batch/s, loss=4.2594]\n"
     ]
    },
    {
     "name": "stdout",
     "output_type": "stream",
     "text": [
      "\u001b[1m\u001b[36mBest valid loss improved. Current accuracy is 2.48%. Saving checkpoint...\n",
      "\u001b[0m\u001b[1m\u001b[36mBest valid accuracy improved. Current accuracy is 2.48%. Saving checkpoint...\n",
      "\u001b[0m"
     ]
    },
    {
     "name": "stderr",
     "output_type": "stream",
     "text": [
      "Epoch 2/10: 100%|██████████| 63/63 [00:18<00:00,  3.47 batch/s, loss=4.1095]\n",
      "Validating: 100%|██████████| 16/16 [00:01<00:00, 11.15 batch/s, loss=3.9054]\n"
     ]
    },
    {
     "name": "stdout",
     "output_type": "stream",
     "text": [
      "\u001b[1m\u001b[36mBest valid loss improved. Current accuracy is 5.59%. Saving checkpoint...\n",
      "\u001b[0m\u001b[1m\u001b[36mBest valid accuracy improved. Current accuracy is 5.59%. Saving checkpoint...\n",
      "\u001b[0m"
     ]
    },
    {
     "name": "stderr",
     "output_type": "stream",
     "text": [
      "Epoch 3/10: 100%|██████████| 63/63 [00:18<00:00,  3.46 batch/s, loss=3.7528]\n",
      "Validating: 100%|██████████| 16/16 [00:01<00:00, 11.12 batch/s, loss=3.5461]\n"
     ]
    },
    {
     "name": "stdout",
     "output_type": "stream",
     "text": [
      "\u001b[1m\u001b[36mBest valid loss improved. Current accuracy is 9.51%. Saving checkpoint...\n",
      "\u001b[0m\u001b[1m\u001b[36mBest valid accuracy improved. Current accuracy is 9.51%. Saving checkpoint...\n",
      "\u001b[0m"
     ]
    },
    {
     "name": "stderr",
     "output_type": "stream",
     "text": [
      "Epoch 4/10: 100%|██████████| 63/63 [00:18<00:00,  3.46 batch/s, loss=3.4285]\n",
      "Validating: 100%|██████████| 16/16 [00:01<00:00, 11.15 batch/s, loss=3.3037]\n"
     ]
    },
    {
     "name": "stdout",
     "output_type": "stream",
     "text": [
      "\u001b[1m\u001b[36mBest valid loss improved. Current accuracy is 14.03%. Saving checkpoint...\n",
      "\u001b[0m\u001b[1m\u001b[36mBest valid accuracy improved. Current accuracy is 14.03%. Saving checkpoint...\n",
      "\u001b[0m"
     ]
    },
    {
     "name": "stderr",
     "output_type": "stream",
     "text": [
      "Epoch 5/10: 100%|██████████| 63/63 [00:18<00:00,  3.47 batch/s, loss=3.1336]\n",
      "Validating: 100%|██████████| 16/16 [00:01<00:00, 11.03 batch/s, loss=3.0930]\n"
     ]
    },
    {
     "name": "stdout",
     "output_type": "stream",
     "text": [
      "\u001b[1m\u001b[36mBest valid loss improved. Current accuracy is 18.10%. Saving checkpoint...\n",
      "\u001b[0m\u001b[1m\u001b[36mBest valid accuracy improved. Current accuracy is 18.10%. Saving checkpoint...\n",
      "\u001b[0m"
     ]
    },
    {
     "name": "stderr",
     "output_type": "stream",
     "text": [
      "Epoch 6/10: 100%|██████████| 63/63 [00:18<00:00,  3.46 batch/s, loss=2.8277]\n",
      "Validating: 100%|██████████| 16/16 [00:01<00:00, 11.10 batch/s, loss=2.8570]\n"
     ]
    },
    {
     "name": "stdout",
     "output_type": "stream",
     "text": [
      "\u001b[1m\u001b[36mBest valid loss improved. Current accuracy is 22.82%. Saving checkpoint...\n",
      "\u001b[0m\u001b[1m\u001b[36mBest valid accuracy improved. Current accuracy is 22.82%. Saving checkpoint...\n",
      "\u001b[0m"
     ]
    },
    {
     "name": "stderr",
     "output_type": "stream",
     "text": [
      "Epoch 7/10: 100%|██████████| 63/63 [00:18<00:00,  3.47 batch/s, loss=2.5721]\n",
      "Validating: 100%|██████████| 16/16 [00:01<00:00, 10.99 batch/s, loss=2.7244]\n"
     ]
    },
    {
     "name": "stdout",
     "output_type": "stream",
     "text": [
      "\u001b[1m\u001b[36mBest valid loss improved. Current accuracy is 26.41%. Saving checkpoint...\n",
      "\u001b[0m\u001b[1m\u001b[36mBest valid accuracy improved. Current accuracy is 26.41%. Saving checkpoint...\n",
      "\u001b[0m"
     ]
    },
    {
     "name": "stderr",
     "output_type": "stream",
     "text": [
      "Epoch 8/10: 100%|██████████| 63/63 [00:18<00:00,  3.47 batch/s, loss=2.2939]\n",
      "Validating: 100%|██████████| 16/16 [00:01<00:00, 11.09 batch/s, loss=2.5436]\n"
     ]
    },
    {
     "name": "stdout",
     "output_type": "stream",
     "text": [
      "\u001b[1m\u001b[36mBest valid loss improved. Current accuracy is 32.05%. Saving checkpoint...\n",
      "\u001b[0m\u001b[1m\u001b[36mBest valid accuracy improved. Current accuracy is 32.05%. Saving checkpoint...\n",
      "\u001b[0m"
     ]
    },
    {
     "name": "stderr",
     "output_type": "stream",
     "text": [
      "Epoch 9/10: 100%|██████████| 63/63 [00:18<00:00,  3.46 batch/s, loss=2.0667]\n",
      "Validating: 100%|██████████| 16/16 [00:01<00:00, 11.03 batch/s, loss=2.5963]\n"
     ]
    },
    {
     "name": "stdout",
     "output_type": "stream",
     "text": [
      "\u001b[1m\u001b[36mBest valid accuracy improved. Current accuracy is 33.16%. Saving checkpoint...\n",
      "\u001b[0m"
     ]
    },
    {
     "name": "stderr",
     "output_type": "stream",
     "text": [
      "Epoch 10/10: 100%|██████████| 63/63 [00:18<00:00,  3.47 batch/s, loss=1.8271]\n",
      "Validating: 100%|██████████| 16/16 [00:01<00:00, 11.13 batch/s, loss=2.5228]\n"
     ]
    },
    {
     "name": "stdout",
     "output_type": "stream",
     "text": [
      "\u001b[1m\u001b[36mBest valid loss improved. Current accuracy is 35.49%. Saving checkpoint...\n",
      "\u001b[0m\u001b[1m\u001b[36mBest valid accuracy improved. Current accuracy is 35.49%. Saving checkpoint...\n",
      "\u001b[0m"
     ]
    },
    {
     "name": "stderr",
     "output_type": "stream",
     "text": [
      "Testing: 100%|██████████| 20/20 [00:01<00:00, 11.02 batch/s]\n"
     ]
    },
    {
     "name": "stdout",
     "output_type": "stream",
     "text": [
      "\u001b[1m\u001b[95mRunning run vgg16_kiss,ep:10,bs:512,clip:5.0,nc:8,eqsize,mp:0.01,ID:2/9\n",
      "\u001b[0m45000 35604\n"
     ]
    },
    {
     "name": "stderr",
     "output_type": "stream",
     "text": [
      "Epoch 1/10: 100%|██████████| 71/71 [00:20<00:00,  3.47 batch/s, loss=4.5893]\n",
      "Validating: 100%|██████████| 18/18 [00:01<00:00, 11.06 batch/s, loss=4.4301]\n"
     ]
    },
    {
     "name": "stdout",
     "output_type": "stream",
     "text": [
      "\u001b[1m\u001b[36mBest valid loss improved. Current accuracy is 2.06%. Saving checkpoint...\n",
      "\u001b[0m\u001b[1m\u001b[36mBest valid accuracy improved. Current accuracy is 2.06%. Saving checkpoint...\n",
      "\u001b[0m"
     ]
    },
    {
     "name": "stderr",
     "output_type": "stream",
     "text": [
      "Epoch 2/10: 100%|██████████| 71/71 [00:20<00:00,  3.47 batch/s, loss=4.3095]\n",
      "Validating: 100%|██████████| 18/18 [00:01<00:00, 10.95 batch/s, loss=4.1275]\n"
     ]
    },
    {
     "name": "stdout",
     "output_type": "stream",
     "text": [
      "\u001b[1m\u001b[36mBest valid loss improved. Current accuracy is 3.58%. Saving checkpoint...\n",
      "\u001b[0m\u001b[1m\u001b[36mBest valid accuracy improved. Current accuracy is 3.58%. Saving checkpoint...\n",
      "\u001b[0m"
     ]
    },
    {
     "name": "stderr",
     "output_type": "stream",
     "text": [
      "Epoch 3/10: 100%|██████████| 71/71 [00:20<00:00,  3.47 batch/s, loss=4.0815]\n",
      "Validating: 100%|██████████| 18/18 [00:01<00:00, 11.07 batch/s, loss=3.9815]\n"
     ]
    },
    {
     "name": "stdout",
     "output_type": "stream",
     "text": [
      "\u001b[1m\u001b[36mBest valid loss improved. Current accuracy is 4.62%. Saving checkpoint...\n",
      "\u001b[0m\u001b[1m\u001b[36mBest valid accuracy improved. Current accuracy is 4.62%. Saving checkpoint...\n",
      "\u001b[0m"
     ]
    },
    {
     "name": "stderr",
     "output_type": "stream",
     "text": [
      "Epoch 4/10: 100%|██████████| 71/71 [00:20<00:00,  3.47 batch/s, loss=3.8942]\n",
      "Validating: 100%|██████████| 18/18 [00:01<00:00, 11.08 batch/s, loss=3.7306]\n"
     ]
    },
    {
     "name": "stdout",
     "output_type": "stream",
     "text": [
      "\u001b[1m\u001b[36mBest valid loss improved. Current accuracy is 7.63%. Saving checkpoint...\n",
      "\u001b[0m\u001b[1m\u001b[36mBest valid accuracy improved. Current accuracy is 7.63%. Saving checkpoint...\n",
      "\u001b[0m"
     ]
    },
    {
     "name": "stderr",
     "output_type": "stream",
     "text": [
      "Epoch 5/10: 100%|██████████| 71/71 [00:20<00:00,  3.46 batch/s, loss=3.6429]\n",
      "Validating: 100%|██████████| 18/18 [00:01<00:00, 11.13 batch/s, loss=3.5056]\n"
     ]
    },
    {
     "name": "stdout",
     "output_type": "stream",
     "text": [
      "\u001b[1m\u001b[36mBest valid loss improved. Current accuracy is 10.18%. Saving checkpoint...\n",
      "\u001b[0m\u001b[1m\u001b[36mBest valid accuracy improved. Current accuracy is 10.18%. Saving checkpoint...\n",
      "\u001b[0m"
     ]
    },
    {
     "name": "stderr",
     "output_type": "stream",
     "text": [
      "Epoch 6/10: 100%|██████████| 71/71 [00:20<00:00,  3.47 batch/s, loss=3.3298]\n",
      "Validating: 100%|██████████| 18/18 [00:01<00:00, 11.11 batch/s, loss=3.1690]\n"
     ]
    },
    {
     "name": "stdout",
     "output_type": "stream",
     "text": [
      "\u001b[1m\u001b[36mBest valid loss improved. Current accuracy is 14.50%. Saving checkpoint...\n",
      "\u001b[0m\u001b[1m\u001b[36mBest valid accuracy improved. Current accuracy is 14.50%. Saving checkpoint...\n",
      "\u001b[0m"
     ]
    },
    {
     "name": "stderr",
     "output_type": "stream",
     "text": [
      "Epoch 7/10: 100%|██████████| 71/71 [00:20<00:00,  3.47 batch/s, loss=3.0509]\n",
      "Validating: 100%|██████████| 18/18 [00:01<00:00, 11.04 batch/s, loss=2.9998]\n"
     ]
    },
    {
     "name": "stdout",
     "output_type": "stream",
     "text": [
      "\u001b[1m\u001b[36mBest valid loss improved. Current accuracy is 19.36%. Saving checkpoint...\n",
      "\u001b[0m\u001b[1m\u001b[36mBest valid accuracy improved. Current accuracy is 19.36%. Saving checkpoint...\n",
      "\u001b[0m"
     ]
    },
    {
     "name": "stderr",
     "output_type": "stream",
     "text": [
      "Epoch 8/10: 100%|██████████| 71/71 [00:20<00:00,  3.48 batch/s, loss=2.7676]\n",
      "Validating: 100%|██████████| 18/18 [00:01<00:00, 11.02 batch/s, loss=2.8499]\n"
     ]
    },
    {
     "name": "stdout",
     "output_type": "stream",
     "text": [
      "\u001b[1m\u001b[36mBest valid loss improved. Current accuracy is 23.72%. Saving checkpoint...\n",
      "\u001b[0m\u001b[1m\u001b[36mBest valid accuracy improved. Current accuracy is 23.72%. Saving checkpoint...\n",
      "\u001b[0m"
     ]
    },
    {
     "name": "stderr",
     "output_type": "stream",
     "text": [
      "Epoch 9/10: 100%|██████████| 71/71 [00:20<00:00,  3.47 batch/s, loss=2.5274]\n",
      "Validating: 100%|██████████| 18/18 [00:01<00:00, 11.06 batch/s, loss=2.7643]\n"
     ]
    },
    {
     "name": "stdout",
     "output_type": "stream",
     "text": [
      "\u001b[1m\u001b[36mBest valid loss improved. Current accuracy is 25.76%. Saving checkpoint...\n",
      "\u001b[0m\u001b[1m\u001b[36mBest valid accuracy improved. Current accuracy is 25.76%. Saving checkpoint...\n",
      "\u001b[0m"
     ]
    },
    {
     "name": "stderr",
     "output_type": "stream",
     "text": [
      "Epoch 10/10: 100%|██████████| 71/71 [00:20<00:00,  3.47 batch/s, loss=2.3003]\n",
      "Validating: 100%|██████████| 18/18 [00:01<00:00, 11.10 batch/s, loss=2.6950]\n"
     ]
    },
    {
     "name": "stdout",
     "output_type": "stream",
     "text": [
      "\u001b[1m\u001b[36mBest valid loss improved. Current accuracy is 28.99%. Saving checkpoint...\n",
      "\u001b[0m\u001b[1m\u001b[36mBest valid accuracy improved. Current accuracy is 28.99%. Saving checkpoint...\n",
      "\u001b[0m"
     ]
    },
    {
     "name": "stderr",
     "output_type": "stream",
     "text": [
      "Testing: 100%|██████████| 20/20 [00:01<00:00, 10.87 batch/s]\n"
     ]
    },
    {
     "name": "stdout",
     "output_type": "stream",
     "text": [
      "\u001b[1m\u001b[95mRunning run vgg16_kiss,ep:10,bs:512,clip:5.0,nc:8,eqsize,mp:0.01,ID:2/10\n",
      "\u001b[0m50000 35886\n"
     ]
    },
    {
     "name": "stderr",
     "output_type": "stream",
     "text": [
      "Epoch 1/10: 100%|██████████| 79/79 [00:22<00:00,  3.48 batch/s, loss=4.5412]\n",
      "Validating: 100%|██████████| 20/20 [00:01<00:00, 11.11 batch/s, loss=4.3492]\n"
     ]
    },
    {
     "name": "stdout",
     "output_type": "stream",
     "text": [
      "\u001b[1m\u001b[36mBest valid loss improved. Current accuracy is 2.41%. Saving checkpoint...\n",
      "\u001b[0m\u001b[1m\u001b[36mBest valid accuracy improved. Current accuracy is 2.41%. Saving checkpoint...\n",
      "\u001b[0m"
     ]
    },
    {
     "name": "stderr",
     "output_type": "stream",
     "text": [
      "Epoch 2/10: 100%|██████████| 79/79 [00:22<00:00,  3.48 batch/s, loss=4.2003]\n",
      "Validating: 100%|██████████| 20/20 [00:01<00:00, 11.04 batch/s, loss=3.9615]\n"
     ]
    },
    {
     "name": "stdout",
     "output_type": "stream",
     "text": [
      "\u001b[1m\u001b[36mBest valid loss improved. Current accuracy is 4.12%. Saving checkpoint...\n",
      "\u001b[0m\u001b[1m\u001b[36mBest valid accuracy improved. Current accuracy is 4.12%. Saving checkpoint...\n",
      "\u001b[0m"
     ]
    },
    {
     "name": "stderr",
     "output_type": "stream",
     "text": [
      "Epoch 3/10: 100%|██████████| 79/79 [00:22<00:00,  3.44 batch/s, loss=3.8964]\n",
      "Validating: 100%|██████████| 20/20 [00:01<00:00, 10.46 batch/s, loss=3.7878]\n"
     ]
    },
    {
     "name": "stdout",
     "output_type": "stream",
     "text": [
      "\u001b[1m\u001b[36mBest valid loss improved. Current accuracy is 6.51%. Saving checkpoint...\n",
      "\u001b[0m\u001b[1m\u001b[36mBest valid accuracy improved. Current accuracy is 6.51%. Saving checkpoint...\n",
      "\u001b[0m"
     ]
    },
    {
     "name": "stderr",
     "output_type": "stream",
     "text": [
      "Epoch 4/10: 100%|██████████| 79/79 [00:23<00:00,  3.42 batch/s, loss=3.4917]\n",
      "Validating: 100%|██████████| 20/20 [00:01<00:00, 10.82 batch/s, loss=3.2956]\n"
     ]
    },
    {
     "name": "stdout",
     "output_type": "stream",
     "text": [
      "\u001b[1m\u001b[36mBest valid loss improved. Current accuracy is 12.79%. Saving checkpoint...\n",
      "\u001b[0m\u001b[1m\u001b[36mBest valid accuracy improved. Current accuracy is 12.79%. Saving checkpoint...\n",
      "\u001b[0m"
     ]
    },
    {
     "name": "stderr",
     "output_type": "stream",
     "text": [
      "Epoch 5/10: 100%|██████████| 79/79 [00:23<00:00,  3.40 batch/s, loss=3.1282]\n",
      "Validating: 100%|██████████| 20/20 [00:01<00:00, 10.96 batch/s, loss=3.1017]\n"
     ]
    },
    {
     "name": "stdout",
     "output_type": "stream",
     "text": [
      "\u001b[1m\u001b[36mBest valid loss improved. Current accuracy is 17.48%. Saving checkpoint...\n",
      "\u001b[0m\u001b[1m\u001b[36mBest valid accuracy improved. Current accuracy is 17.48%. Saving checkpoint...\n",
      "\u001b[0m"
     ]
    },
    {
     "name": "stderr",
     "output_type": "stream",
     "text": [
      "Epoch 6/10: 100%|██████████| 79/79 [00:23<00:00,  3.39 batch/s, loss=2.8364]\n",
      "Validating: 100%|██████████| 20/20 [00:01<00:00, 10.75 batch/s, loss=2.8753]\n"
     ]
    },
    {
     "name": "stdout",
     "output_type": "stream",
     "text": [
      "\u001b[1m\u001b[36mBest valid loss improved. Current accuracy is 21.98%. Saving checkpoint...\n",
      "\u001b[0m\u001b[1m\u001b[36mBest valid accuracy improved. Current accuracy is 21.98%. Saving checkpoint...\n",
      "\u001b[0m"
     ]
    },
    {
     "name": "stderr",
     "output_type": "stream",
     "text": [
      "Epoch 7/10: 100%|██████████| 79/79 [00:22<00:00,  3.45 batch/s, loss=2.5500]\n",
      "Validating: 100%|██████████| 20/20 [00:01<00:00, 11.11 batch/s, loss=2.7416]\n"
     ]
    },
    {
     "name": "stdout",
     "output_type": "stream",
     "text": [
      "\u001b[1m\u001b[36mBest valid loss improved. Current accuracy is 26.27%. Saving checkpoint...\n",
      "\u001b[0m\u001b[1m\u001b[36mBest valid accuracy improved. Current accuracy is 26.27%. Saving checkpoint...\n",
      "\u001b[0m"
     ]
    },
    {
     "name": "stderr",
     "output_type": "stream",
     "text": [
      "Epoch 8/10: 100%|██████████| 79/79 [00:22<00:00,  3.44 batch/s, loss=2.2783]\n",
      "Validating: 100%|██████████| 20/20 [00:01<00:00, 10.83 batch/s, loss=2.6702]\n"
     ]
    },
    {
     "name": "stdout",
     "output_type": "stream",
     "text": [
      "\u001b[1m\u001b[36mBest valid loss improved. Current accuracy is 30.19%. Saving checkpoint...\n",
      "\u001b[0m\u001b[1m\u001b[36mBest valid accuracy improved. Current accuracy is 30.19%. Saving checkpoint...\n",
      "\u001b[0m"
     ]
    },
    {
     "name": "stderr",
     "output_type": "stream",
     "text": [
      "Epoch 9/10: 100%|██████████| 79/79 [00:23<00:00,  3.42 batch/s, loss=2.0643]\n",
      "Validating: 100%|██████████| 20/20 [00:01<00:00, 10.52 batch/s, loss=2.6575]\n"
     ]
    },
    {
     "name": "stdout",
     "output_type": "stream",
     "text": [
      "\u001b[1m\u001b[36mBest valid loss improved. Current accuracy is 30.81%. Saving checkpoint...\n",
      "\u001b[0m\u001b[1m\u001b[36mBest valid accuracy improved. Current accuracy is 30.81%. Saving checkpoint...\n",
      "\u001b[0m"
     ]
    },
    {
     "name": "stderr",
     "output_type": "stream",
     "text": [
      "Epoch 10/10: 100%|██████████| 79/79 [00:23<00:00,  3.37 batch/s, loss=1.8630]\n",
      "Validating: 100%|██████████| 20/20 [00:01<00:00, 10.94 batch/s, loss=2.5397]\n"
     ]
    },
    {
     "name": "stdout",
     "output_type": "stream",
     "text": [
      "\u001b[1m\u001b[36mBest valid loss improved. Current accuracy is 35.10%. Saving checkpoint...\n",
      "\u001b[0m\u001b[1m\u001b[36mBest valid accuracy improved. Current accuracy is 35.10%. Saving checkpoint...\n",
      "\u001b[0m"
     ]
    },
    {
     "name": "stderr",
     "output_type": "stream",
     "text": [
      "Testing: 100%|██████████| 20/20 [00:01<00:00, 10.12 batch/s]\n"
     ]
    },
    {
     "name": "stdout",
     "output_type": "stream",
     "text": [
      "\u001b[1m\u001b[33mRunning experiment VGG!SVHN!RandomSampler\n",
      "\u001b[0m\u001b[1m\u001b[95mRunning run vgg16_kiss,ep:10,bs:512,clip:5.0,ID:2/1\n",
      "\u001b[0m"
     ]
    },
    {
     "name": "stderr",
     "output_type": "stream",
     "text": [
      "Epoch 1/10: 100%|██████████| 12/12 [00:03<00:00,  3.15 batch/s, loss=2.2985]\n",
      "Validating: 100%|██████████| 3/3 [00:00<00:00,  7.94 batch/s, loss=2.2284]\n"
     ]
    },
    {
     "name": "stdout",
     "output_type": "stream",
     "text": [
      "\u001b[1m\u001b[36mBest valid loss improved. Current accuracy is 19.32%. Saving checkpoint...\n",
      "\u001b[0m\u001b[1m\u001b[36mBest valid accuracy improved. Current accuracy is 19.32%. Saving checkpoint...\n",
      "\u001b[0m"
     ]
    },
    {
     "name": "stderr",
     "output_type": "stream",
     "text": [
      "Epoch 2/10: 100%|██████████| 12/12 [00:03<00:00,  3.43 batch/s, loss=2.2435]\n",
      "Validating: 100%|██████████| 3/3 [00:00<00:00, 10.51 batch/s, loss=2.2176]\n"
     ]
    },
    {
     "name": "stdout",
     "output_type": "stream",
     "text": [
      "\u001b[1m\u001b[36mBest valid loss improved. Current accuracy is 20.07%. Saving checkpoint...\n",
      "\u001b[0m\u001b[1m\u001b[36mBest valid accuracy improved. Current accuracy is 20.07%. Saving checkpoint...\n",
      "\u001b[0m"
     ]
    },
    {
     "name": "stderr",
     "output_type": "stream",
     "text": [
      "Epoch 3/10: 100%|██████████| 12/12 [00:03<00:00,  3.49 batch/s, loss=2.1869]\n",
      "Validating: 100%|██████████| 3/3 [00:00<00:00, 10.98 batch/s, loss=2.0465]\n"
     ]
    },
    {
     "name": "stdout",
     "output_type": "stream",
     "text": [
      "\u001b[1m\u001b[36mBest valid loss improved. Current accuracy is 27.71%. Saving checkpoint...\n",
      "\u001b[0m\u001b[1m\u001b[36mBest valid accuracy improved. Current accuracy is 27.71%. Saving checkpoint...\n",
      "\u001b[0m"
     ]
    },
    {
     "name": "stderr",
     "output_type": "stream",
     "text": [
      "Epoch 4/10: 100%|██████████| 12/12 [00:03<00:00,  3.48 batch/s, loss=2.0115]\n",
      "Validating: 100%|██████████| 3/3 [00:00<00:00, 10.66 batch/s, loss=1.8487]\n"
     ]
    },
    {
     "name": "stdout",
     "output_type": "stream",
     "text": [
      "\u001b[1m\u001b[36mBest valid loss improved. Current accuracy is 31.81%. Saving checkpoint...\n",
      "\u001b[0m\u001b[1m\u001b[36mBest valid accuracy improved. Current accuracy is 31.81%. Saving checkpoint...\n",
      "\u001b[0m"
     ]
    },
    {
     "name": "stderr",
     "output_type": "stream",
     "text": [
      "Epoch 5/10: 100%|██████████| 12/12 [00:03<00:00,  3.50 batch/s, loss=1.8245]\n",
      "Validating: 100%|██████████| 3/3 [00:00<00:00, 11.23 batch/s, loss=1.6586]\n"
     ]
    },
    {
     "name": "stdout",
     "output_type": "stream",
     "text": [
      "\u001b[1m\u001b[36mBest valid loss improved. Current accuracy is 33.11%. Saving checkpoint...\n",
      "\u001b[0m\u001b[1m\u001b[36mBest valid accuracy improved. Current accuracy is 33.11%. Saving checkpoint...\n",
      "\u001b[0m"
     ]
    },
    {
     "name": "stderr",
     "output_type": "stream",
     "text": [
      "Epoch 6/10: 100%|██████████| 12/12 [00:03<00:00,  3.50 batch/s, loss=1.6307]\n",
      "Validating: 100%|██████████| 3/3 [00:00<00:00, 10.32 batch/s, loss=1.4668]\n"
     ]
    },
    {
     "name": "stdout",
     "output_type": "stream",
     "text": [
      "\u001b[1m\u001b[36mBest valid loss improved. Current accuracy is 41.57%. Saving checkpoint...\n",
      "\u001b[0m\u001b[1m\u001b[36mBest valid accuracy improved. Current accuracy is 41.57%. Saving checkpoint...\n",
      "\u001b[0m"
     ]
    },
    {
     "name": "stderr",
     "output_type": "stream",
     "text": [
      "Epoch 7/10: 100%|██████████| 12/12 [00:03<00:00,  3.44 batch/s, loss=1.3374]\n",
      "Validating: 100%|██████████| 3/3 [00:00<00:00, 10.83 batch/s, loss=1.2547]\n"
     ]
    },
    {
     "name": "stdout",
     "output_type": "stream",
     "text": [
      "\u001b[1m\u001b[36mBest valid loss improved. Current accuracy is 56.66%. Saving checkpoint...\n",
      "\u001b[0m\u001b[1m\u001b[36mBest valid accuracy improved. Current accuracy is 56.66%. Saving checkpoint...\n",
      "\u001b[0m"
     ]
    },
    {
     "name": "stderr",
     "output_type": "stream",
     "text": [
      "Epoch 8/10: 100%|██████████| 12/12 [00:03<00:00,  3.55 batch/s, loss=1.1062]\n",
      "Validating: 100%|██████████| 3/3 [00:00<00:00, 10.81 batch/s, loss=0.9579]\n"
     ]
    },
    {
     "name": "stdout",
     "output_type": "stream",
     "text": [
      "\u001b[1m\u001b[36mBest valid loss improved. Current accuracy is 67.10%. Saving checkpoint...\n",
      "\u001b[0m\u001b[1m\u001b[36mBest valid accuracy improved. Current accuracy is 67.10%. Saving checkpoint...\n",
      "\u001b[0m"
     ]
    },
    {
     "name": "stderr",
     "output_type": "stream",
     "text": [
      "Epoch 9/10: 100%|██████████| 12/12 [00:03<00:00,  3.58 batch/s, loss=0.8597]\n",
      "Validating: 100%|██████████| 3/3 [00:00<00:00, 11.37 batch/s, loss=0.8874]\n"
     ]
    },
    {
     "name": "stdout",
     "output_type": "stream",
     "text": [
      "\u001b[1m\u001b[36mBest valid loss improved. Current accuracy is 69.01%. Saving checkpoint...\n",
      "\u001b[0m\u001b[1m\u001b[36mBest valid accuracy improved. Current accuracy is 69.01%. Saving checkpoint...\n",
      "\u001b[0m"
     ]
    },
    {
     "name": "stderr",
     "output_type": "stream",
     "text": [
      "Epoch 10/10: 100%|██████████| 12/12 [00:03<00:00,  3.55 batch/s, loss=0.7096]\n",
      "Validating: 100%|██████████| 3/3 [00:00<00:00, 10.42 batch/s, loss=0.6843]\n"
     ]
    },
    {
     "name": "stdout",
     "output_type": "stream",
     "text": [
      "\u001b[1m\u001b[36mBest valid loss improved. Current accuracy is 76.11%. Saving checkpoint...\n",
      "\u001b[0m\u001b[1m\u001b[36mBest valid accuracy improved. Current accuracy is 76.11%. Saving checkpoint...\n",
      "\u001b[0m"
     ]
    },
    {
     "name": "stderr",
     "output_type": "stream",
     "text": [
      "Testing: 100%|██████████| 51/51 [00:05<00:00,  9.99 batch/s]\n"
     ]
    },
    {
     "name": "stdout",
     "output_type": "stream",
     "text": [
      "\u001b[1m\u001b[95mRunning run vgg16_kiss,ep:10,bs:512,clip:5.0,ID:2/2\n",
      "\u001b[0m"
     ]
    },
    {
     "name": "stderr",
     "output_type": "stream",
     "text": [
      "Epoch 1/10: 100%|██████████| 23/23 [00:07<00:00,  3.27 batch/s, loss=2.3082]\n",
      "Validating: 100%|██████████| 6/6 [00:00<00:00,  9.15 batch/s, loss=2.2752]\n"
     ]
    },
    {
     "name": "stdout",
     "output_type": "stream",
     "text": [
      "\u001b[1m\u001b[36mBest valid loss improved. Current accuracy is 14.57%. Saving checkpoint...\n",
      "\u001b[0m\u001b[1m\u001b[36mBest valid accuracy improved. Current accuracy is 14.57%. Saving checkpoint...\n",
      "\u001b[0m"
     ]
    },
    {
     "name": "stderr",
     "output_type": "stream",
     "text": [
      "Epoch 2/10: 100%|██████████| 23/23 [00:06<00:00,  3.34 batch/s, loss=2.2751]\n",
      "Validating: 100%|██████████| 6/6 [00:00<00:00, 11.31 batch/s, loss=2.2599]\n"
     ]
    },
    {
     "name": "stdout",
     "output_type": "stream",
     "text": [
      "\u001b[1m\u001b[36mBest valid loss improved. Current accuracy is 18.49%. Saving checkpoint...\n",
      "\u001b[0m\u001b[1m\u001b[36mBest valid accuracy improved. Current accuracy is 18.49%. Saving checkpoint...\n",
      "\u001b[0m"
     ]
    },
    {
     "name": "stderr",
     "output_type": "stream",
     "text": [
      "Epoch 3/10: 100%|██████████| 23/23 [00:06<00:00,  3.36 batch/s, loss=2.1175]\n",
      "Validating: 100%|██████████| 6/6 [00:00<00:00, 10.42 batch/s, loss=1.9364]\n"
     ]
    },
    {
     "name": "stdout",
     "output_type": "stream",
     "text": [
      "\u001b[1m\u001b[36mBest valid loss improved. Current accuracy is 25.73%. Saving checkpoint...\n",
      "\u001b[0m\u001b[1m\u001b[36mBest valid accuracy improved. Current accuracy is 25.73%. Saving checkpoint...\n",
      "\u001b[0m"
     ]
    },
    {
     "name": "stderr",
     "output_type": "stream",
     "text": [
      "Epoch 4/10:  96%|█████████▌| 22/23 [00:06<00:00,  3.29 batch/s, loss=1.7271]"
     ]
    }
   ],
   "source": [
    "import os\n",
    "    \n",
    "for model_fun in [vgg16_kiss]:\n",
    "    for dataset_tr, dataset_te in zip([dataset_cifar100_tr, dataset_svhn_tr], [dataset_cifar100_te, dataset_svhn_te]):\n",
    "        for sampler_cls in [RandomSampler, KMeansSampler, KMeansPuritySampler]:\n",
    "\n",
    "            if model_fun.__name__ == 'resnet50':\n",
    "                MODEL_NAME = 'r50'\n",
    "            if model_fun.__name__ == 'vgg16':\n",
    "                MODEL_NAME = 'vgg16'\n",
    "            if model_fun.__name__ == 'vgg16_kiss':\n",
    "                MODEL_NAME = 'vgg16_kiss'\n",
    "\n",
    "            RUN_NAME = f\"{MODEL_NAME},ep:{EPOCHS},bs:{BATCH_SIZE},clip:{CLIP}\"\n",
    "\n",
    "            if dataset_tr.__class__.__name__ == 'SVHN':\n",
    "                NUM_CLASSES = 10\n",
    "                MIN_PURITY = 0.05\n",
    "            if dataset_tr.__class__.__name__ == 'CIFAR100':\n",
    "                NUM_CLASSES = 100\n",
    "                MIN_PURITY = 0.01\n",
    "\n",
    "            if 'KMeans' in sampler_cls.__name__:\n",
    "                RUN_NAME += f\",nc:{NUM_CLUSTERS}\"\n",
    "\n",
    "            if 'KMeans' in sampler_cls.__name__ and EQSIZE:\n",
    "                RUN_NAME += \",eqsize\"\n",
    "\n",
    "            if 'KMeansPurity' in sampler_cls.__name__:\n",
    "                RUN_NAME += f\",mp:{MIN_PURITY}\"\n",
    "\n",
    "            SAVE_CLUSTERS = LOAD_CLUSTERS = f\"../checkpoints/{sampler_cls.__name__},{dataset_tr.__class__.__name__},nc:{NUM_CLUSTERS}\"\n",
    "            \n",
    "            if not os.path.exists(LOAD_CLUSTERS):\n",
    "                LOAD_CLUSTERS = None\n",
    "                \n",
    "            RUN_NAME += f',ID:{ID}'\n",
    "\n",
    "            model = model_fun(num_classes=NUM_CLASSES)\n",
    "            model.to(torch.device(CONFIGS.torch.device))\n",
    "\n",
    "            experiment = Experiment(\n",
    "                model = model,\n",
    "                dataset_tr = dataset_tr,\n",
    "                dataset_te = dataset_te,\n",
    "                sampler_cls=sampler_cls,\n",
    "                ratio=RATIO,\n",
    "                epochs=EPOCHS,\n",
    "                batch_size=BATCH_SIZE,\n",
    "                clip=CLIP,\n",
    "                num_clusters=NUM_CLUSTERS,\n",
    "                eqsize=EQSIZE,\n",
    "                min_purity=MIN_PURITY,\n",
    "                load_clusters=LOAD_CLUSTERS,\n",
    "                save_clusters=SAVE_CLUSTERS,\n",
    "            )\n",
    "            experiment.run(\"../experiments\", RUN_NAME)"
   ]
  },
  {
   "cell_type": "code",
   "execution_count": null,
   "metadata": {},
   "outputs": [],
   "source": [
    "RUN_NAME = f\"r50,ep:10,bs:512,clip:5.0,ID:{ID}\"\n",
    "\n",
    "model = resnet50(num_classes=100)\n",
    "model.to(torch.device(CONFIGS.torch.device))\n",
    "\n",
    "experiment = Experiment(\n",
    "    model, \n",
    "    dataset_cifar100_tr,\n",
    "    dataset_cifar100_te, \n",
    "    RandomSampler,\n",
    "    ratio=RATIO,\n",
    "    epochs=10,\n",
    "    batch_size=512,\n",
    "    clip=5.0)\n",
    "    \n",
    "experiment.run(\"../experiments\", RUN_NAME)"
   ]
  },
  {
   "cell_type": "code",
   "execution_count": null,
   "metadata": {},
   "outputs": [],
   "source": [
    "RUN_NAME = f\"r50,ep:10,bs:512,clip:5.0,ID:{ID}\"\n",
    "\n",
    "model = resnet50(num_classes=10)\n",
    "model.to(torch.device(CONFIGS.torch.device))\n",
    "\n",
    "experiment = Experiment(\n",
    "    model, \n",
    "    dataset_svhn_tr,\n",
    "    dataset_svhn_te, \n",
    "    RandomSampler,\n",
    "    ratio=RATIO,\n",
    "    epochs=10,\n",
    "    batch_size=512,\n",
    "    clip=5.0)\n",
    "    \n",
    "experiment.run(\"../experiments\", RUN_NAME)"
   ]
  },
  {
   "cell_type": "code",
   "execution_count": null,
   "metadata": {},
   "outputs": [],
   "source": [
    "RUN_NAME = f\"r50,ep:10,bs:512,clip:5.0,nc:8,eqsize,ID:{ID}\"\n",
    "\n",
    "model = resnet50(num_classes=100)\n",
    "model.to(torch.device(CONFIGS.torch.device))\n",
    "\n",
    "experiment = Experiment(\n",
    "    model, \n",
    "    dataset_cifar100_tr,\n",
    "    dataset_cifar100_te, \n",
    "    KMeansSampler,\n",
    "    ratio=RATIO,\n",
    "    epochs=10,\n",
    "    batch_size=512,\n",
    "    clip=5.0,\n",
    "    num_clusters=8,\n",
    "    eqsize=True,\n",
    "    save_clusters=\"../checkpoints/kmeans,cifar100\")\n",
    "    \n",
    "experiment.run(\"../experiments\", RUN_NAME)"
   ]
  },
  {
   "cell_type": "code",
   "execution_count": null,
   "metadata": {},
   "outputs": [],
   "source": [
    "RUN_NAME = f\"r50,ep:10,bs:512,clip:5.0,nc:8,eqsize,ID:{ID}\"\n",
    "\n",
    "model = resnet50(num_classes=10)\n",
    "model.to(torch.device(CONFIGS.torch.device))\n",
    "\n",
    "experiment = Experiment(\n",
    "    model, \n",
    "    dataset_svhn_tr,\n",
    "    dataset_svhn_te, \n",
    "    KMeansSampler,\n",
    "    ratio=RATIO,\n",
    "    epochs=10,\n",
    "    batch_size=512,\n",
    "    clip=5.0,\n",
    "    num_clusters=8,\n",
    "    eqsize=True,\n",
    "    save_clusters=\"../checkpoints/kmeans,svhn\")\n",
    "    \n",
    "experiment.run(\"../experiments\", RUN_NAME)"
   ]
  },
  {
   "cell_type": "code",
   "execution_count": null,
   "metadata": {},
   "outputs": [],
   "source": [
    "RUN_NAME = f\"r50,ep:10,bs:512,clip:5.0,nc:8,eqsize,mp:0.01,ID:{ID}\"\n",
    "\n",
    "model = resnet50(num_classes=100)\n",
    "model.to(torch.device(CONFIGS.torch.device))\n",
    "\n",
    "experiment = Experiment(\n",
    "    model, \n",
    "    dataset_cifar100_tr,\n",
    "    dataset_cifar100_te, \n",
    "    KMeansPuritySampler,\n",
    "    ratio=RATIO,\n",
    "    epochs=10,\n",
    "    batch_size=512,\n",
    "    clip=5.0,\n",
    "    num_clusters=8,\n",
    "    min_purity=0.01,\n",
    "    eqsize=True,\n",
    "    save_clusters=\"../checkpoints/kmeans-purity,cifar100\")\n",
    "    \n",
    "experiment.run(\"../experiments\", RUN_NAME)"
   ]
  },
  {
   "cell_type": "code",
   "execution_count": null,
   "metadata": {},
   "outputs": [],
   "source": [
    "RUN_NAME = f\"r50,ep:10,bs:512,clip:5.0,nc:8,eqsize,mp:0.05,ID:{ID}\"\n",
    "\n",
    "model = resnet50(num_classes=10)\n",
    "model.to(torch.device(CONFIGS.torch.device))\n",
    "\n",
    "experiment = Experiment(\n",
    "    model, \n",
    "    dataset_svhn_tr,\n",
    "    dataset_svhn_te, \n",
    "    KMeansPuritySampler,\n",
    "    ratio=RATIO,\n",
    "    epochs=10,\n",
    "    batch_size=512,\n",
    "    clip=5.0,\n",
    "    num_clusters=8,\n",
    "    min_purity=0.05,\n",
    "    eqsize=True,\n",
    "    save_clusters=\"../checkpoints/kmeans-purity,svhn\")\n",
    "    \n",
    "experiment.run(\"../experiments\", RUN_NAME)"
   ]
  },
  {
   "cell_type": "code",
   "execution_count": null,
   "metadata": {},
   "outputs": [],
   "source": [
    "RUN_NAME = f\"vgg13,ep:10,bs:512,clip:5.0,ID:{ID}\"\n",
    "\n",
    "model = vgg13(num_classes=100)\n",
    "model.to(torch.device(CONFIGS.torch.device))\n",
    "\n",
    "experiment = Experiment(\n",
    "    model, \n",
    "    dataset_cifar100_tr,\n",
    "    dataset_cifar100_te, \n",
    "    RandomSampler,\n",
    "    ratio=RATIO,\n",
    "    epochs=10,\n",
    "    batch_size=512,\n",
    "    clip=5.0)\n",
    "    \n",
    "experiment.run(\"../experiments\", RUN_NAME)"
   ]
  },
  {
   "cell_type": "code",
   "execution_count": null,
   "metadata": {},
   "outputs": [],
   "source": [
    "RUN_NAME = f\"vgg13,ep:10,bs:512,clip:5.0,ID:{ID}\"\n",
    "\n",
    "model = vgg13(num_classes=10)\n",
    "model.to(torch.device(CONFIGS.torch.device))\n",
    "\n",
    "experiment = Experiment(\n",
    "    model, \n",
    "    dataset_svhn_tr,\n",
    "    dataset_svhn_te, \n",
    "    RandomSampler,\n",
    "    ratio=RATIO,\n",
    "    epochs=10,\n",
    "    batch_size=512,\n",
    "    clip=5.0)\n",
    "    \n",
    "experiment.run(\"../experiments\", RUN_NAME)"
   ]
  },
  {
   "cell_type": "code",
   "execution_count": null,
   "metadata": {},
   "outputs": [],
   "source": [
    "RUN_NAME = f\"vgg13,ep:10,bs:512,clip:5.0,nc:8,eqsize,ID:{ID}\"\n",
    "\n",
    "model = vgg13(num_classes=100)\n",
    "model.to(torch.device(CONFIGS.torch.device))\n",
    "\n",
    "experiment = Experiment(\n",
    "    model, \n",
    "    dataset_cifar100_tr,\n",
    "    dataset_cifar100_te, \n",
    "    KMeansSampler,\n",
    "    ratio=RATIO,\n",
    "    epochs=10,\n",
    "    batch_size=512,\n",
    "    clip=5.0,\n",
    "    num_clusters=8,\n",
    "    eqsize=True,\n",
    "    load_clusters=\"../checkpoints/kmeans,cifar100\")\n",
    "    \n",
    "experiment.run(\"../experiments\", RUN_NAME)"
   ]
  },
  {
   "cell_type": "code",
   "execution_count": null,
   "metadata": {},
   "outputs": [],
   "source": [
    "RUN_NAME = f\"vgg13,ep:10,bs:512,clip:5.0,nc:8,eqsize,ID:{ID}\"\n",
    "\n",
    "model = vgg13(num_classes=10)\n",
    "model.to(torch.device(CONFIGS.torch.device))\n",
    "\n",
    "experiment = Experiment(\n",
    "    model, \n",
    "    dataset_svhn_tr,\n",
    "    dataset_svhn_te, \n",
    "    KMeansSampler,\n",
    "    ratio=RATIO,\n",
    "    epochs=10,\n",
    "    batch_size=512,\n",
    "    clip=5.0,\n",
    "    num_clusters=8,\n",
    "    eqsize=True,\n",
    "    load_clusters=\"../checkpoints/kmeans,svhn\")\n",
    "    \n",
    "experiment.run(\"../experiments\", RUN_NAME)"
   ]
  },
  {
   "cell_type": "code",
   "execution_count": null,
   "metadata": {},
   "outputs": [],
   "source": [
    "RUN_NAME = f\"vgg13,ep:10,bs:512,clip:5.0,nc:8,eqsize,mp:0.1,ID:{ID}\"\n",
    "\n",
    "model = vgg13(num_classes=100)\n",
    "model.to(torch.device(CONFIGS.torch.device))\n",
    "\n",
    "experiment = Experiment(\n",
    "    model, \n",
    "    dataset_cifar100_tr,\n",
    "    dataset_cifar100_te, \n",
    "    KMeansPuritySampler,\n",
    "    ratio=RATIO,\n",
    "    epochs=10,\n",
    "    batch_size=512,\n",
    "    clip=5.0,\n",
    "    num_clusters=8,\n",
    "    min_purity=0.1,\n",
    "    eqsize=True,\n",
    "    load_clusters=\"../checkpoints/kmeans-purity,cifar100\")\n",
    "    \n",
    "experiment.run(\"../experiments\", RUN_NAME)"
   ]
  },
  {
   "cell_type": "code",
   "execution_count": null,
   "metadata": {},
   "outputs": [],
   "source": [
    "RUN_NAME = f\"vgg13,ep:10,bs:512,clip:5.0,nc:8,eqsize,mp:0.05,ID:{ID}\"\n",
    "\n",
    "model = vgg13(num_classes=10)\n",
    "model.to(torch.device(CONFIGS.torch.device))\n",
    "\n",
    "experiment = Experiment(\n",
    "    model, \n",
    "    dataset_svhn_tr,\n",
    "    dataset_svhn_te, \n",
    "    KMeansPuritySampler,\n",
    "    ratio=RATIO,\n",
    "    epochs=10,\n",
    "    batch_size=512,\n",
    "    clip=5.0,\n",
    "    num_clusters=8,\n",
    "    min_purity=0.05,\n",
    "    eqsize=True,\n",
    "    load_clusters=\"../checkpoints/kmeans-purity,svhn\")\n",
    "    \n",
    "experiment.run(\"../experiments\", RUN_NAME)"
   ]
  }
 ],
 "metadata": {
  "kernelspec": {
   "display_name": "kiss",
   "language": "python",
   "name": "python3"
  },
  "language_info": {
   "codemirror_mode": {
    "name": "ipython",
    "version": 3
   },
   "file_extension": ".py",
   "mimetype": "text/x-python",
   "name": "python",
   "nbconvert_exporter": "python",
   "pygments_lexer": "ipython3",
   "version": "3.11.6"
  }
 },
 "nbformat": 4,
 "nbformat_minor": 2
}
