{
 "cells": [
  {
   "cell_type": "code",
   "execution_count": 3,
   "metadata": {},
   "outputs": [
    {
     "name": "stdout",
     "output_type": "stream",
     "text": [
      "Files already downloaded and verified\n",
      "Files already downloaded and verified\n",
      "\u001b[1m\u001b[33mRunning experiment ResNet!CIFAR10!RandomSampler\n",
      "\u001b[0m\u001b[1m\u001b[95mRunning run r50,epochs:10,bs:256,clipping/1\n",
      "\u001b[0m"
     ]
    },
    {
     "name": "stderr",
     "output_type": "stream",
     "text": [
      "Epoch 1/10: 100%|██████████| 16/16 [00:04<00:00,  3.99 batch/s, loss=2.6649]\n",
      "Validating: 100%|██████████| 4/4 [00:00<00:00,  5.29 batch/s]\n"
     ]
    },
    {
     "name": "stdout",
     "output_type": "stream",
     "text": [
      "\u001b[1m\u001b[36mBest valid accuracy improved from 0.00% to 24.50%. Saving checkpoint...\n",
      "\u001b[0m"
     ]
    },
    {
     "name": "stderr",
     "output_type": "stream",
     "text": [
      "Epoch 2/10: 100%|██████████| 16/16 [00:04<00:00,  3.94 batch/s, loss=1.9660]\n",
      "Validating: 100%|██████████| 4/4 [00:00<00:00, 10.75 batch/s]\n"
     ]
    },
    {
     "name": "stdout",
     "output_type": "stream",
     "text": [
      "\u001b[1m\u001b[36mBest valid accuracy improved from 24.50% to 32.00%. Saving checkpoint...\n",
      "\u001b[0m"
     ]
    },
    {
     "name": "stderr",
     "output_type": "stream",
     "text": [
      "Epoch 3/10: 100%|██████████| 16/16 [00:03<00:00,  4.04 batch/s, loss=1.7097]\n",
      "Validating: 100%|██████████| 4/4 [00:00<00:00, 10.17 batch/s]\n"
     ]
    },
    {
     "name": "stdout",
     "output_type": "stream",
     "text": [
      "\u001b[1m\u001b[36mBest valid accuracy improved from 32.00% to 40.30%. Saving checkpoint...\n",
      "\u001b[0m"
     ]
    },
    {
     "name": "stderr",
     "output_type": "stream",
     "text": [
      "Epoch 4/10: 100%|██████████| 16/16 [00:03<00:00,  4.08 batch/s, loss=1.4681]\n",
      "Validating: 100%|██████████| 4/4 [00:00<00:00, 10.85 batch/s]\n",
      "Epoch 5/10: 100%|██████████| 16/16 [00:03<00:00,  4.07 batch/s, loss=1.2286]\n",
      "Validating: 100%|██████████| 4/4 [00:00<00:00, 10.84 batch/s]\n",
      "Epoch 6/10: 100%|██████████| 16/16 [00:03<00:00,  4.11 batch/s, loss=0.9942]\n",
      "Validating: 100%|██████████| 4/4 [00:00<00:00, 10.81 batch/s]\n"
     ]
    },
    {
     "name": "stdout",
     "output_type": "stream",
     "text": [
      "\u001b[1m\u001b[36mBest valid accuracy improved from 40.30% to 40.50%. Saving checkpoint...\n",
      "\u001b[0m"
     ]
    },
    {
     "name": "stderr",
     "output_type": "stream",
     "text": [
      "Epoch 7/10: 100%|██████████| 16/16 [00:03<00:00,  4.11 batch/s, loss=0.8104]\n",
      "Validating: 100%|██████████| 4/4 [00:00<00:00, 10.87 batch/s]\n"
     ]
    },
    {
     "name": "stdout",
     "output_type": "stream",
     "text": [
      "\u001b[1m\u001b[36mBest valid accuracy improved from 40.50% to 41.70%. Saving checkpoint...\n",
      "\u001b[0m"
     ]
    },
    {
     "name": "stderr",
     "output_type": "stream",
     "text": [
      "Epoch 8/10: 100%|██████████| 16/16 [00:03<00:00,  4.11 batch/s, loss=0.6970]\n",
      "Validating: 100%|██████████| 4/4 [00:00<00:00, 10.86 batch/s]\n",
      "Epoch 9/10: 100%|██████████| 16/16 [00:03<00:00,  4.11 batch/s, loss=0.5201]\n",
      "Validating: 100%|██████████| 4/4 [00:00<00:00, 10.91 batch/s]\n",
      "Epoch 10/10: 100%|██████████| 16/16 [00:03<00:00,  4.09 batch/s, loss=0.4492]\n",
      "Validating: 100%|██████████| 4/4 [00:00<00:00, 10.73 batch/s]\n",
      "Testing: 100%|██████████| 40/40 [00:04<00:00,  9.78 batch/s]\n"
     ]
    },
    {
     "name": "stdout",
     "output_type": "stream",
     "text": [
      "\u001b[1m\u001b[95mRunning run r50,epochs:10,bs:256,clipping/2\n",
      "\u001b[0m"
     ]
    },
    {
     "name": "stderr",
     "output_type": "stream",
     "text": [
      "Epoch 1/10: 100%|██████████| 32/32 [00:07<00:00,  4.04 batch/s, loss=2.3679]\n",
      "Validating: 100%|██████████| 8/8 [00:01<00:00,  6.41 batch/s]\n"
     ]
    },
    {
     "name": "stdout",
     "output_type": "stream",
     "text": [
      "\u001b[1m\u001b[36mBest valid accuracy improved from 0.00% to 32.05%. Saving checkpoint...\n",
      "\u001b[0m"
     ]
    },
    {
     "name": "stderr",
     "output_type": "stream",
     "text": [
      "Epoch 2/10: 100%|██████████| 32/32 [00:07<00:00,  4.02 batch/s, loss=1.7542]\n",
      "Validating: 100%|██████████| 8/8 [00:00<00:00, 10.58 batch/s]\n"
     ]
    },
    {
     "name": "stdout",
     "output_type": "stream",
     "text": [
      "\u001b[1m\u001b[36mBest valid accuracy improved from 32.05% to 38.90%. Saving checkpoint...\n",
      "\u001b[0m"
     ]
    },
    {
     "name": "stderr",
     "output_type": "stream",
     "text": [
      "Epoch 3/10: 100%|██████████| 32/32 [00:07<00:00,  4.02 batch/s, loss=1.5158]\n",
      "Validating: 100%|██████████| 8/8 [00:00<00:00, 10.56 batch/s]\n"
     ]
    },
    {
     "name": "stdout",
     "output_type": "stream",
     "text": [
      "\u001b[1m\u001b[36mBest valid accuracy improved from 38.90% to 43.95%. Saving checkpoint...\n",
      "\u001b[0m"
     ]
    },
    {
     "name": "stderr",
     "output_type": "stream",
     "text": [
      "Epoch 4/10: 100%|██████████| 32/32 [00:07<00:00,  4.05 batch/s, loss=1.3279]\n",
      "Validating: 100%|██████████| 8/8 [00:00<00:00, 10.74 batch/s]\n"
     ]
    },
    {
     "name": "stdout",
     "output_type": "stream",
     "text": [
      "\u001b[1m\u001b[36mBest valid accuracy improved from 43.95% to 47.40%. Saving checkpoint...\n",
      "\u001b[0m"
     ]
    },
    {
     "name": "stderr",
     "output_type": "stream",
     "text": [
      "Epoch 5/10: 100%|██████████| 32/32 [00:07<00:00,  4.05 batch/s, loss=1.1622]\n",
      "Validating: 100%|██████████| 8/8 [00:00<00:00, 10.62 batch/s]\n"
     ]
    },
    {
     "name": "stdout",
     "output_type": "stream",
     "text": [
      "\u001b[1m\u001b[36mBest valid accuracy improved from 47.40% to 47.90%. Saving checkpoint...\n",
      "\u001b[0m"
     ]
    },
    {
     "name": "stderr",
     "output_type": "stream",
     "text": [
      "Epoch 6/10: 100%|██████████| 32/32 [00:08<00:00,  3.96 batch/s, loss=1.0589]\n",
      "Validating: 100%|██████████| 8/8 [00:00<00:00, 10.57 batch/s]\n"
     ]
    },
    {
     "name": "stdout",
     "output_type": "stream",
     "text": [
      "\u001b[1m\u001b[36mBest valid accuracy improved from 47.90% to 48.80%. Saving checkpoint...\n",
      "\u001b[0m"
     ]
    },
    {
     "name": "stderr",
     "output_type": "stream",
     "text": [
      "Epoch 7/10: 100%|██████████| 32/32 [00:07<00:00,  4.03 batch/s, loss=0.9157]\n",
      "Validating: 100%|██████████| 8/8 [00:00<00:00, 10.89 batch/s]\n",
      "Epoch 8/10: 100%|██████████| 32/32 [00:07<00:00,  4.08 batch/s, loss=0.7521]\n",
      "Validating: 100%|██████████| 8/8 [00:00<00:00, 10.89 batch/s]\n"
     ]
    },
    {
     "name": "stdout",
     "output_type": "stream",
     "text": [
      "\u001b[1m\u001b[36mBest valid accuracy improved from 48.80% to 49.15%. Saving checkpoint...\n",
      "\u001b[0m"
     ]
    },
    {
     "name": "stderr",
     "output_type": "stream",
     "text": [
      "Epoch 9/10: 100%|██████████| 32/32 [00:07<00:00,  4.06 batch/s, loss=0.6280]\n",
      "Validating: 100%|██████████| 8/8 [00:00<00:00, 10.73 batch/s]\n",
      "Epoch 10/10: 100%|██████████| 32/32 [00:07<00:00,  4.05 batch/s, loss=0.5427]\n",
      "Validating: 100%|██████████| 8/8 [00:00<00:00, 10.79 batch/s]\n"
     ]
    },
    {
     "name": "stdout",
     "output_type": "stream",
     "text": [
      "\u001b[1m\u001b[36mBest valid accuracy improved from 49.15% to 50.35%. Saving checkpoint...\n",
      "\u001b[0m"
     ]
    },
    {
     "name": "stderr",
     "output_type": "stream",
     "text": [
      "Testing: 100%|██████████| 40/40 [00:03<00:00, 11.16 batch/s]\n"
     ]
    },
    {
     "name": "stdout",
     "output_type": "stream",
     "text": [
      "\u001b[1m\u001b[95mRunning run r50,epochs:10,bs:256,clipping/3\n",
      "\u001b[0m"
     ]
    },
    {
     "name": "stderr",
     "output_type": "stream",
     "text": [
      "Epoch 1/10: 100%|██████████| 47/47 [00:12<00:00,  3.77 batch/s, loss=2.2348]\n",
      "Validating: 100%|██████████| 12/12 [00:01<00:00,  6.76 batch/s]\n"
     ]
    },
    {
     "name": "stdout",
     "output_type": "stream",
     "text": [
      "\u001b[1m\u001b[36mBest valid accuracy improved from 0.00% to 36.43%. Saving checkpoint...\n",
      "\u001b[0m"
     ]
    },
    {
     "name": "stderr",
     "output_type": "stream",
     "text": [
      "Epoch 2/10: 100%|██████████| 47/47 [00:11<00:00,  3.99 batch/s, loss=1.6639]\n",
      "Validating: 100%|██████████| 12/12 [00:01<00:00, 10.76 batch/s]\n"
     ]
    },
    {
     "name": "stdout",
     "output_type": "stream",
     "text": [
      "\u001b[1m\u001b[36mBest valid accuracy improved from 36.43% to 42.20%. Saving checkpoint...\n",
      "\u001b[0m"
     ]
    },
    {
     "name": "stderr",
     "output_type": "stream",
     "text": [
      "Epoch 3/10: 100%|██████████| 47/47 [00:11<00:00,  4.01 batch/s, loss=1.4469]\n",
      "Validating: 100%|██████████| 12/12 [00:01<00:00, 10.84 batch/s]\n"
     ]
    },
    {
     "name": "stdout",
     "output_type": "stream",
     "text": [
      "\u001b[1m\u001b[36mBest valid accuracy improved from 42.20% to 48.87%. Saving checkpoint...\n",
      "\u001b[0m"
     ]
    },
    {
     "name": "stderr",
     "output_type": "stream",
     "text": [
      "Epoch 4/10: 100%|██████████| 47/47 [00:11<00:00,  4.01 batch/s, loss=1.5370]\n",
      "Validating: 100%|██████████| 12/12 [00:01<00:00, 10.78 batch/s]\n",
      "Epoch 5/10: 100%|██████████| 47/47 [00:11<00:00,  4.00 batch/s, loss=1.2521]\n",
      "Validating: 100%|██████████| 12/12 [00:01<00:00, 10.81 batch/s]\n",
      "Epoch 6/10: 100%|██████████| 47/47 [00:11<00:00,  4.00 batch/s, loss=1.2876]\n",
      "Validating: 100%|██████████| 12/12 [00:01<00:00, 10.88 batch/s]\n"
     ]
    },
    {
     "name": "stdout",
     "output_type": "stream",
     "text": [
      "\u001b[1m\u001b[36mBest valid accuracy improved from 48.87% to 50.87%. Saving checkpoint...\n",
      "\u001b[0m"
     ]
    },
    {
     "name": "stderr",
     "output_type": "stream",
     "text": [
      "Epoch 7/10: 100%|██████████| 47/47 [00:11<00:00,  4.01 batch/s, loss=1.1877]\n",
      "Validating: 100%|██████████| 12/12 [00:01<00:00, 10.84 batch/s]\n",
      "Epoch 8/10: 100%|██████████| 47/47 [00:11<00:00,  3.96 batch/s, loss=0.9713]\n",
      "Validating: 100%|██████████| 12/12 [00:01<00:00, 10.52 batch/s]\n"
     ]
    },
    {
     "name": "stdout",
     "output_type": "stream",
     "text": [
      "\u001b[1m\u001b[36mBest valid accuracy improved from 50.87% to 55.27%. Saving checkpoint...\n",
      "\u001b[0m"
     ]
    },
    {
     "name": "stderr",
     "output_type": "stream",
     "text": [
      "Epoch 9/10: 100%|██████████| 47/47 [00:11<00:00,  3.98 batch/s, loss=0.7559]\n",
      "Validating: 100%|██████████| 12/12 [00:01<00:00, 10.64 batch/s]\n"
     ]
    },
    {
     "name": "stdout",
     "output_type": "stream",
     "text": [
      "\u001b[1m\u001b[36mBest valid accuracy improved from 55.27% to 56.47%. Saving checkpoint...\n",
      "\u001b[0m"
     ]
    },
    {
     "name": "stderr",
     "output_type": "stream",
     "text": [
      "Epoch 10/10: 100%|██████████| 47/47 [00:11<00:00,  3.92 batch/s, loss=0.5795]\n",
      "Validating: 100%|██████████| 12/12 [00:01<00:00, 10.62 batch/s]\n",
      "Testing: 100%|██████████| 40/40 [00:03<00:00, 10.84 batch/s]\n"
     ]
    },
    {
     "name": "stdout",
     "output_type": "stream",
     "text": [
      "\u001b[1m\u001b[95mRunning run r50,epochs:10,bs:256,clipping/4\n",
      "\u001b[0m"
     ]
    },
    {
     "name": "stderr",
     "output_type": "stream",
     "text": [
      "Epoch 1/10: 100%|██████████| 63/63 [00:16<00:00,  3.79 batch/s, loss=2.0906]\n",
      "Validating: 100%|██████████| 16/16 [00:01<00:00, 10.47 batch/s]\n"
     ]
    },
    {
     "name": "stdout",
     "output_type": "stream",
     "text": [
      "\u001b[1m\u001b[36mBest valid accuracy improved from 0.00% to 40.73%. Saving checkpoint...\n",
      "\u001b[0m"
     ]
    },
    {
     "name": "stderr",
     "output_type": "stream",
     "text": [
      "Epoch 2/10: 100%|██████████| 63/63 [00:15<00:00,  3.96 batch/s, loss=1.6149]\n",
      "Validating: 100%|██████████| 16/16 [00:01<00:00, 10.77 batch/s]\n"
     ]
    },
    {
     "name": "stdout",
     "output_type": "stream",
     "text": [
      "\u001b[1m\u001b[36mBest valid accuracy improved from 40.73% to 46.73%. Saving checkpoint...\n",
      "\u001b[0m"
     ]
    },
    {
     "name": "stderr",
     "output_type": "stream",
     "text": [
      "Epoch 3/10: 100%|██████████| 63/63 [00:15<00:00,  4.02 batch/s, loss=1.3969]\n",
      "Validating: 100%|██████████| 16/16 [00:01<00:00, 10.65 batch/s]\n"
     ]
    },
    {
     "name": "stdout",
     "output_type": "stream",
     "text": [
      "\u001b[1m\u001b[36mBest valid accuracy improved from 46.73% to 50.95%. Saving checkpoint...\n",
      "\u001b[0m"
     ]
    },
    {
     "name": "stderr",
     "output_type": "stream",
     "text": [
      "Epoch 4/10: 100%|██████████| 63/63 [00:15<00:00,  4.02 batch/s, loss=1.3117]\n",
      "Validating: 100%|██████████| 16/16 [00:01<00:00, 10.66 batch/s]\n"
     ]
    },
    {
     "name": "stdout",
     "output_type": "stream",
     "text": [
      "\u001b[1m\u001b[36mBest valid accuracy improved from 50.95% to 54.40%. Saving checkpoint...\n",
      "\u001b[0m"
     ]
    },
    {
     "name": "stderr",
     "output_type": "stream",
     "text": [
      "Epoch 5/10: 100%|██████████| 63/63 [00:15<00:00,  3.96 batch/s, loss=1.0856]\n",
      "Validating: 100%|██████████| 16/16 [00:01<00:00, 10.55 batch/s]\n"
     ]
    },
    {
     "name": "stdout",
     "output_type": "stream",
     "text": [
      "\u001b[1m\u001b[36mBest valid accuracy improved from 54.40% to 56.38%. Saving checkpoint...\n",
      "\u001b[0m"
     ]
    },
    {
     "name": "stderr",
     "output_type": "stream",
     "text": [
      "Epoch 6/10: 100%|██████████| 63/63 [00:15<00:00,  4.00 batch/s, loss=0.9097]\n",
      "Validating: 100%|██████████| 16/16 [00:01<00:00, 10.79 batch/s]\n"
     ]
    },
    {
     "name": "stdout",
     "output_type": "stream",
     "text": [
      "\u001b[1m\u001b[36mBest valid accuracy improved from 56.38% to 58.60%. Saving checkpoint...\n",
      "\u001b[0m"
     ]
    },
    {
     "name": "stderr",
     "output_type": "stream",
     "text": [
      "Epoch 7/10: 100%|██████████| 63/63 [00:15<00:00,  4.00 batch/s, loss=0.7488]\n",
      "Validating: 100%|██████████| 16/16 [00:01<00:00, 10.55 batch/s]\n"
     ]
    },
    {
     "name": "stdout",
     "output_type": "stream",
     "text": [
      "\u001b[1m\u001b[36mBest valid accuracy improved from 58.60% to 59.60%. Saving checkpoint...\n",
      "\u001b[0m"
     ]
    },
    {
     "name": "stderr",
     "output_type": "stream",
     "text": [
      "Epoch 8/10: 100%|██████████| 63/63 [00:15<00:00,  3.99 batch/s, loss=0.7591]\n",
      "Validating: 100%|██████████| 16/16 [00:01<00:00, 10.53 batch/s]\n",
      "Epoch 9/10: 100%|██████████| 63/63 [00:15<00:00,  3.97 batch/s, loss=0.6890]\n",
      "Validating: 100%|██████████| 16/16 [00:01<00:00, 10.66 batch/s]\n"
     ]
    },
    {
     "name": "stdout",
     "output_type": "stream",
     "text": [
      "\u001b[1m\u001b[36mBest valid accuracy improved from 59.60% to 62.10%. Saving checkpoint...\n",
      "\u001b[0m"
     ]
    },
    {
     "name": "stderr",
     "output_type": "stream",
     "text": [
      "Epoch 10/10: 100%|██████████| 63/63 [00:15<00:00,  3.99 batch/s, loss=0.4988]\n",
      "Validating: 100%|██████████| 16/16 [00:01<00:00, 10.58 batch/s]\n",
      "Testing: 100%|██████████| 40/40 [00:03<00:00, 11.01 batch/s]\n"
     ]
    },
    {
     "name": "stdout",
     "output_type": "stream",
     "text": [
      "\u001b[1m\u001b[95mRunning run r50,epochs:10,bs:256,clipping/5\n",
      "\u001b[0m"
     ]
    },
    {
     "name": "stderr",
     "output_type": "stream",
     "text": [
      "Epoch 1/10: 100%|██████████| 79/79 [00:20<00:00,  3.82 batch/s, loss=2.0338]\n",
      "Validating: 100%|██████████| 20/20 [00:02<00:00,  7.80 batch/s]\n"
     ]
    },
    {
     "name": "stdout",
     "output_type": "stream",
     "text": [
      "\u001b[1m\u001b[36mBest valid accuracy improved from 0.00% to 40.30%. Saving checkpoint...\n",
      "\u001b[0m"
     ]
    },
    {
     "name": "stderr",
     "output_type": "stream",
     "text": [
      "Epoch 2/10: 100%|██████████| 79/79 [00:19<00:00,  3.99 batch/s, loss=1.5038]\n",
      "Validating: 100%|██████████| 20/20 [00:01<00:00, 10.55 batch/s]\n"
     ]
    },
    {
     "name": "stdout",
     "output_type": "stream",
     "text": [
      "\u001b[1m\u001b[36mBest valid accuracy improved from 40.30% to 49.54%. Saving checkpoint...\n",
      "\u001b[0m"
     ]
    },
    {
     "name": "stderr",
     "output_type": "stream",
     "text": [
      "Epoch 3/10: 100%|██████████| 79/79 [00:19<00:00,  4.00 batch/s, loss=1.3320]\n",
      "Validating: 100%|██████████| 20/20 [00:01<00:00, 10.50 batch/s]\n"
     ]
    },
    {
     "name": "stdout",
     "output_type": "stream",
     "text": [
      "\u001b[1m\u001b[36mBest valid accuracy improved from 49.54% to 53.12%. Saving checkpoint...\n",
      "\u001b[0m"
     ]
    },
    {
     "name": "stderr",
     "output_type": "stream",
     "text": [
      "Epoch 4/10: 100%|██████████| 79/79 [00:19<00:00,  3.98 batch/s, loss=1.1801]\n",
      "Validating: 100%|██████████| 20/20 [00:01<00:00, 10.45 batch/s]\n"
     ]
    },
    {
     "name": "stdout",
     "output_type": "stream",
     "text": [
      "\u001b[1m\u001b[36mBest valid accuracy improved from 53.12% to 55.56%. Saving checkpoint...\n",
      "\u001b[0m"
     ]
    },
    {
     "name": "stderr",
     "output_type": "stream",
     "text": [
      "Epoch 5/10: 100%|██████████| 79/79 [00:19<00:00,  4.03 batch/s, loss=1.0013]\n",
      "Validating: 100%|██████████| 20/20 [00:01<00:00, 10.86 batch/s]\n"
     ]
    },
    {
     "name": "stdout",
     "output_type": "stream",
     "text": [
      "\u001b[1m\u001b[36mBest valid accuracy improved from 55.56% to 58.64%. Saving checkpoint...\n",
      "\u001b[0m"
     ]
    },
    {
     "name": "stderr",
     "output_type": "stream",
     "text": [
      "Epoch 6/10: 100%|██████████| 79/79 [00:19<00:00,  3.99 batch/s, loss=0.8512]\n",
      "Validating: 100%|██████████| 20/20 [00:01<00:00, 10.47 batch/s]\n"
     ]
    },
    {
     "name": "stdout",
     "output_type": "stream",
     "text": [
      "\u001b[1m\u001b[36mBest valid accuracy improved from 58.64% to 60.44%. Saving checkpoint...\n",
      "\u001b[0m"
     ]
    },
    {
     "name": "stderr",
     "output_type": "stream",
     "text": [
      "Epoch 7/10: 100%|██████████| 79/79 [00:19<00:00,  4.00 batch/s, loss=0.7121]\n",
      "Validating: 100%|██████████| 20/20 [00:01<00:00, 10.39 batch/s]\n"
     ]
    },
    {
     "name": "stdout",
     "output_type": "stream",
     "text": [
      "\u001b[1m\u001b[36mBest valid accuracy improved from 60.44% to 61.14%. Saving checkpoint...\n",
      "\u001b[0m"
     ]
    },
    {
     "name": "stderr",
     "output_type": "stream",
     "text": [
      "Epoch 8/10: 100%|██████████| 79/79 [00:19<00:00,  3.96 batch/s, loss=0.5945]\n",
      "Validating: 100%|██████████| 20/20 [00:01<00:00, 10.83 batch/s]\n"
     ]
    },
    {
     "name": "stdout",
     "output_type": "stream",
     "text": [
      "\u001b[1m\u001b[36mBest valid accuracy improved from 61.14% to 63.04%. Saving checkpoint...\n",
      "\u001b[0m"
     ]
    },
    {
     "name": "stderr",
     "output_type": "stream",
     "text": [
      "Epoch 9/10: 100%|██████████| 79/79 [00:19<00:00,  3.99 batch/s, loss=0.5123]\n",
      "Validating: 100%|██████████| 20/20 [00:01<00:00, 10.45 batch/s]\n",
      "Epoch 10/10: 100%|██████████| 79/79 [00:19<00:00,  4.01 batch/s, loss=0.4347]\n",
      "Validating: 100%|██████████| 20/20 [00:01<00:00, 10.61 batch/s]\n",
      "Testing: 100%|██████████| 40/40 [00:03<00:00, 10.84 batch/s]\n"
     ]
    },
    {
     "name": "stdout",
     "output_type": "stream",
     "text": [
      "\u001b[1m\u001b[95mRunning run r50,epochs:10,bs:256,clipping/6\n",
      "\u001b[0m"
     ]
    },
    {
     "name": "stderr",
     "output_type": "stream",
     "text": [
      "Epoch 1/10: 100%|██████████| 94/94 [00:25<00:00,  3.75 batch/s, loss=1.9551]\n",
      "Validating: 100%|██████████| 24/24 [00:02<00:00,  8.28 batch/s]\n"
     ]
    },
    {
     "name": "stdout",
     "output_type": "stream",
     "text": [
      "\u001b[1m\u001b[36mBest valid accuracy improved from 0.00% to 40.27%. Saving checkpoint...\n",
      "\u001b[0m"
     ]
    },
    {
     "name": "stderr",
     "output_type": "stream",
     "text": [
      "Epoch 2/10: 100%|██████████| 94/94 [00:23<00:00,  3.97 batch/s, loss=1.4796]\n",
      "Validating: 100%|██████████| 24/24 [00:02<00:00, 10.54 batch/s]\n"
     ]
    },
    {
     "name": "stdout",
     "output_type": "stream",
     "text": [
      "\u001b[1m\u001b[36mBest valid accuracy improved from 40.27% to 52.12%. Saving checkpoint...\n",
      "\u001b[0m"
     ]
    },
    {
     "name": "stderr",
     "output_type": "stream",
     "text": [
      "Epoch 3/10: 100%|██████████| 94/94 [00:23<00:00,  3.98 batch/s, loss=1.3398]\n",
      "Validating: 100%|██████████| 24/24 [00:02<00:00,  9.41 batch/s]\n"
     ]
    },
    {
     "name": "stdout",
     "output_type": "stream",
     "text": [
      "\u001b[1m\u001b[36mBest valid accuracy improved from 52.12% to 53.93%. Saving checkpoint...\n",
      "\u001b[0m"
     ]
    },
    {
     "name": "stderr",
     "output_type": "stream",
     "text": [
      "Epoch 4/10: 100%|██████████| 94/94 [00:23<00:00,  3.97 batch/s, loss=1.2326]\n",
      "Validating: 100%|██████████| 24/24 [00:02<00:00, 10.46 batch/s]\n",
      "Epoch 5/10: 100%|██████████| 94/94 [00:23<00:00,  3.98 batch/s, loss=1.2081]\n",
      "Validating: 100%|██████████| 24/24 [00:02<00:00, 10.44 batch/s]\n"
     ]
    },
    {
     "name": "stdout",
     "output_type": "stream",
     "text": [
      "\u001b[1m\u001b[36mBest valid accuracy improved from 53.93% to 56.73%. Saving checkpoint...\n",
      "\u001b[0m"
     ]
    },
    {
     "name": "stderr",
     "output_type": "stream",
     "text": [
      "Epoch 6/10: 100%|██████████| 94/94 [00:23<00:00,  3.98 batch/s, loss=1.0024]\n",
      "Validating: 100%|██████████| 24/24 [00:02<00:00, 10.54 batch/s]\n"
     ]
    },
    {
     "name": "stdout",
     "output_type": "stream",
     "text": [
      "\u001b[1m\u001b[36mBest valid accuracy improved from 56.73% to 60.50%. Saving checkpoint...\n",
      "\u001b[0m"
     ]
    },
    {
     "name": "stderr",
     "output_type": "stream",
     "text": [
      "Epoch 7/10: 100%|██████████| 94/94 [00:23<00:00,  3.96 batch/s, loss=0.8697]\n",
      "Validating: 100%|██████████| 24/24 [00:02<00:00, 10.33 batch/s]\n",
      "Epoch 8/10: 100%|██████████| 94/94 [00:23<00:00,  3.97 batch/s, loss=0.7087]\n",
      "Validating: 100%|██████████| 24/24 [00:02<00:00, 10.53 batch/s]\n"
     ]
    },
    {
     "name": "stdout",
     "output_type": "stream",
     "text": [
      "\u001b[1m\u001b[36mBest valid accuracy improved from 60.50% to 64.10%. Saving checkpoint...\n",
      "\u001b[0m"
     ]
    },
    {
     "name": "stderr",
     "output_type": "stream",
     "text": [
      "Epoch 9/10: 100%|██████████| 94/94 [00:23<00:00,  3.97 batch/s, loss=0.5289]\n",
      "Validating: 100%|██████████| 24/24 [00:02<00:00, 10.43 batch/s]\n"
     ]
    },
    {
     "name": "stdout",
     "output_type": "stream",
     "text": [
      "\u001b[1m\u001b[36mBest valid accuracy improved from 64.10% to 64.22%. Saving checkpoint...\n",
      "\u001b[0m"
     ]
    },
    {
     "name": "stderr",
     "output_type": "stream",
     "text": [
      "Epoch 10/10: 100%|██████████| 94/94 [00:23<00:00,  3.92 batch/s, loss=0.4182]\n",
      "Validating: 100%|██████████| 24/24 [00:02<00:00,  9.95 batch/s]\n"
     ]
    },
    {
     "name": "stdout",
     "output_type": "stream",
     "text": [
      "\u001b[1m\u001b[36mBest valid accuracy improved from 64.22% to 64.27%. Saving checkpoint...\n",
      "\u001b[0m"
     ]
    },
    {
     "name": "stderr",
     "output_type": "stream",
     "text": [
      "Testing: 100%|██████████| 40/40 [00:03<00:00, 10.78 batch/s]\n"
     ]
    },
    {
     "name": "stdout",
     "output_type": "stream",
     "text": [
      "\u001b[1m\u001b[95mRunning run r50,epochs:10,bs:256,clipping/7\n",
      "\u001b[0m"
     ]
    },
    {
     "name": "stderr",
     "output_type": "stream",
     "text": [
      "Epoch 1/10: 100%|██████████| 110/110 [00:29<00:00,  3.71 batch/s, loss=1.8784]\n",
      "Validating: 100%|██████████| 28/28 [00:03<00:00,  8.34 batch/s]\n"
     ]
    },
    {
     "name": "stdout",
     "output_type": "stream",
     "text": [
      "\u001b[1m\u001b[36mBest valid accuracy improved from 0.00% to 44.83%. Saving checkpoint...\n",
      "\u001b[0m"
     ]
    },
    {
     "name": "stderr",
     "output_type": "stream",
     "text": [
      "Epoch 2/10: 100%|██████████| 110/110 [00:27<00:00,  3.99 batch/s, loss=1.4123]\n",
      "Validating: 100%|██████████| 28/28 [00:02<00:00, 10.61 batch/s]\n"
     ]
    },
    {
     "name": "stdout",
     "output_type": "stream",
     "text": [
      "\u001b[1m\u001b[36mBest valid accuracy improved from 44.83% to 52.44%. Saving checkpoint...\n",
      "\u001b[0m"
     ]
    },
    {
     "name": "stderr",
     "output_type": "stream",
     "text": [
      "Epoch 3/10: 100%|██████████| 110/110 [00:32<00:00,  3.35 batch/s, loss=1.3700]\n",
      "Validating: 100%|██████████| 28/28 [00:03<00:00,  8.82 batch/s]\n"
     ]
    },
    {
     "name": "stdout",
     "output_type": "stream",
     "text": [
      "\u001b[1m\u001b[36mBest valid accuracy improved from 52.44% to 52.47%. Saving checkpoint...\n",
      "\u001b[0m"
     ]
    },
    {
     "name": "stderr",
     "output_type": "stream",
     "text": [
      "Epoch 4/10: 100%|██████████| 110/110 [00:28<00:00,  3.87 batch/s, loss=1.2450]\n",
      "Validating: 100%|██████████| 28/28 [00:02<00:00, 10.38 batch/s]\n"
     ]
    },
    {
     "name": "stdout",
     "output_type": "stream",
     "text": [
      "\u001b[1m\u001b[36mBest valid accuracy improved from 52.47% to 58.30%. Saving checkpoint...\n",
      "\u001b[0m"
     ]
    },
    {
     "name": "stderr",
     "output_type": "stream",
     "text": [
      "Epoch 5/10: 100%|██████████| 110/110 [00:27<00:00,  3.99 batch/s, loss=1.1840]\n",
      "Validating: 100%|██████████| 28/28 [00:02<00:00, 10.52 batch/s]\n"
     ]
    },
    {
     "name": "stdout",
     "output_type": "stream",
     "text": [
      "\u001b[1m\u001b[36mBest valid accuracy improved from 58.30% to 60.79%. Saving checkpoint...\n",
      "\u001b[0m"
     ]
    },
    {
     "name": "stderr",
     "output_type": "stream",
     "text": [
      "Epoch 6/10: 100%|██████████| 110/110 [00:27<00:00,  3.99 batch/s, loss=0.9138]\n",
      "Validating: 100%|██████████| 28/28 [00:02<00:00, 10.46 batch/s]\n"
     ]
    },
    {
     "name": "stdout",
     "output_type": "stream",
     "text": [
      "\u001b[1m\u001b[36mBest valid accuracy improved from 60.79% to 65.07%. Saving checkpoint...\n",
      "\u001b[0m"
     ]
    },
    {
     "name": "stderr",
     "output_type": "stream",
     "text": [
      "Epoch 7/10: 100%|██████████| 110/110 [00:27<00:00,  3.98 batch/s, loss=0.7229]\n",
      "Validating: 100%|██████████| 28/28 [00:02<00:00, 10.50 batch/s]\n"
     ]
    },
    {
     "name": "stdout",
     "output_type": "stream",
     "text": [
      "\u001b[1m\u001b[36mBest valid accuracy improved from 65.07% to 66.49%. Saving checkpoint...\n",
      "\u001b[0m"
     ]
    },
    {
     "name": "stderr",
     "output_type": "stream",
     "text": [
      "Epoch 8/10: 100%|██████████| 110/110 [00:27<00:00,  4.00 batch/s, loss=0.5966]\n",
      "Validating: 100%|██████████| 28/28 [00:02<00:00, 10.54 batch/s]\n"
     ]
    },
    {
     "name": "stdout",
     "output_type": "stream",
     "text": [
      "\u001b[1m\u001b[36mBest valid accuracy improved from 66.49% to 66.76%. Saving checkpoint...\n",
      "\u001b[0m"
     ]
    },
    {
     "name": "stderr",
     "output_type": "stream",
     "text": [
      "Epoch 9/10: 100%|██████████| 110/110 [00:27<00:00,  3.99 batch/s, loss=0.4751]\n",
      "Validating: 100%|██████████| 28/28 [00:02<00:00, 10.50 batch/s]\n"
     ]
    },
    {
     "name": "stdout",
     "output_type": "stream",
     "text": [
      "\u001b[1m\u001b[36mBest valid accuracy improved from 66.76% to 67.61%. Saving checkpoint...\n",
      "\u001b[0m"
     ]
    },
    {
     "name": "stderr",
     "output_type": "stream",
     "text": [
      "Epoch 10/10: 100%|██████████| 110/110 [00:32<00:00,  3.42 batch/s, loss=0.3841]\n",
      "Validating: 100%|██████████| 28/28 [00:03<00:00,  8.82 batch/s]\n",
      "Testing: 100%|██████████| 40/40 [00:04<00:00,  9.50 batch/s]\n"
     ]
    },
    {
     "name": "stdout",
     "output_type": "stream",
     "text": [
      "\u001b[1m\u001b[95mRunning run r50,epochs:10,bs:256,clipping/8\n",
      "\u001b[0m"
     ]
    },
    {
     "name": "stderr",
     "output_type": "stream",
     "text": [
      "Epoch 1/10: 100%|██████████| 125/125 [00:34<00:00,  3.67 batch/s, loss=1.8632]\n",
      "Validating: 100%|██████████| 32/32 [00:03<00:00, 10.45 batch/s]\n"
     ]
    },
    {
     "name": "stdout",
     "output_type": "stream",
     "text": [
      "\u001b[1m\u001b[36mBest valid accuracy improved from 0.00% to 45.36%. Saving checkpoint...\n",
      "\u001b[0m"
     ]
    },
    {
     "name": "stderr",
     "output_type": "stream",
     "text": [
      "Epoch 2/10: 100%|██████████| 125/125 [00:31<00:00,  3.97 batch/s, loss=1.5967]\n",
      "Validating: 100%|██████████| 32/32 [00:03<00:00, 10.57 batch/s]\n"
     ]
    },
    {
     "name": "stdout",
     "output_type": "stream",
     "text": [
      "\u001b[1m\u001b[36mBest valid accuracy improved from 45.36% to 50.64%. Saving checkpoint...\n",
      "\u001b[0m"
     ]
    },
    {
     "name": "stderr",
     "output_type": "stream",
     "text": [
      "Epoch 3/10: 100%|██████████| 125/125 [00:31<00:00,  3.97 batch/s, loss=1.3529]\n",
      "Validating: 100%|██████████| 32/32 [00:03<00:00, 10.63 batch/s]\n"
     ]
    },
    {
     "name": "stdout",
     "output_type": "stream",
     "text": [
      "\u001b[1m\u001b[36mBest valid accuracy improved from 50.64% to 55.83%. Saving checkpoint...\n",
      "\u001b[0m"
     ]
    },
    {
     "name": "stderr",
     "output_type": "stream",
     "text": [
      "Epoch 4/10: 100%|██████████| 125/125 [00:37<00:00,  3.37 batch/s, loss=1.1614]\n",
      "Validating: 100%|██████████| 32/32 [00:03<00:00, 10.45 batch/s]\n"
     ]
    },
    {
     "name": "stdout",
     "output_type": "stream",
     "text": [
      "\u001b[1m\u001b[36mBest valid accuracy improved from 55.83% to 59.71%. Saving checkpoint...\n",
      "\u001b[0m"
     ]
    },
    {
     "name": "stderr",
     "output_type": "stream",
     "text": [
      "Epoch 5/10: 100%|██████████| 125/125 [00:31<00:00,  3.98 batch/s, loss=1.0755]\n",
      "Validating: 100%|██████████| 32/32 [00:03<00:00, 10.43 batch/s]\n"
     ]
    },
    {
     "name": "stdout",
     "output_type": "stream",
     "text": [
      "\u001b[1m\u001b[36mBest valid accuracy improved from 59.71% to 63.45%. Saving checkpoint...\n",
      "\u001b[0m"
     ]
    },
    {
     "name": "stderr",
     "output_type": "stream",
     "text": [
      "Epoch 6/10: 100%|██████████| 125/125 [00:31<00:00,  3.98 batch/s, loss=0.8259]\n",
      "Validating: 100%|██████████| 32/32 [00:03<00:00, 10.49 batch/s]\n"
     ]
    },
    {
     "name": "stdout",
     "output_type": "stream",
     "text": [
      "\u001b[1m\u001b[36mBest valid accuracy improved from 63.45% to 65.61%. Saving checkpoint...\n",
      "\u001b[0m"
     ]
    },
    {
     "name": "stderr",
     "output_type": "stream",
     "text": [
      "Epoch 7/10: 100%|██████████| 125/125 [00:31<00:00,  3.98 batch/s, loss=0.6584]\n",
      "Validating: 100%|██████████| 32/32 [00:03<00:00, 10.48 batch/s]\n"
     ]
    },
    {
     "name": "stdout",
     "output_type": "stream",
     "text": [
      "\u001b[1m\u001b[36mBest valid accuracy improved from 65.61% to 66.74%. Saving checkpoint...\n",
      "\u001b[0m"
     ]
    },
    {
     "name": "stderr",
     "output_type": "stream",
     "text": [
      "Epoch 8/10: 100%|██████████| 125/125 [00:31<00:00,  3.98 batch/s, loss=0.5450]\n",
      "Validating: 100%|██████████| 32/32 [00:03<00:00, 10.43 batch/s]\n"
     ]
    },
    {
     "name": "stdout",
     "output_type": "stream",
     "text": [
      "\u001b[1m\u001b[36mBest valid accuracy improved from 66.74% to 67.77%. Saving checkpoint...\n",
      "\u001b[0m"
     ]
    },
    {
     "name": "stderr",
     "output_type": "stream",
     "text": [
      "Epoch 9/10: 100%|██████████| 125/125 [00:31<00:00,  3.99 batch/s, loss=0.4386]\n",
      "Validating: 100%|██████████| 32/32 [00:03<00:00, 10.45 batch/s]\n",
      "Epoch 10/10: 100%|██████████| 125/125 [00:31<00:00,  3.98 batch/s, loss=0.3576]\n",
      "Validating: 100%|██████████| 32/32 [00:03<00:00, 10.51 batch/s]\n",
      "Testing: 100%|██████████| 40/40 [00:03<00:00, 10.85 batch/s]\n"
     ]
    },
    {
     "name": "stdout",
     "output_type": "stream",
     "text": [
      "\u001b[1m\u001b[95mRunning run r50,epochs:10,bs:256,clipping/9\n",
      "\u001b[0m"
     ]
    },
    {
     "name": "stderr",
     "output_type": "stream",
     "text": [
      "Epoch 1/10: 100%|██████████| 141/141 [00:35<00:00,  4.00 batch/s, loss=1.8174]\n",
      "Validating: 100%|██████████| 36/36 [00:03<00:00,  9.01 batch/s]\n"
     ]
    },
    {
     "name": "stdout",
     "output_type": "stream",
     "text": [
      "\u001b[1m\u001b[36mBest valid accuracy improved from 0.00% to 46.74%. Saving checkpoint...\n",
      "\u001b[0m"
     ]
    },
    {
     "name": "stderr",
     "output_type": "stream",
     "text": [
      "Epoch 2/10: 100%|██████████| 141/141 [00:35<00:00,  4.01 batch/s, loss=1.3495]\n",
      "Validating: 100%|██████████| 36/36 [00:03<00:00, 10.44 batch/s]\n"
     ]
    },
    {
     "name": "stdout",
     "output_type": "stream",
     "text": [
      "\u001b[1m\u001b[36mBest valid accuracy improved from 46.74% to 55.56%. Saving checkpoint...\n",
      "\u001b[0m"
     ]
    },
    {
     "name": "stderr",
     "output_type": "stream",
     "text": [
      "Epoch 3/10: 100%|██████████| 141/141 [00:35<00:00,  4.00 batch/s, loss=1.1809]\n",
      "Validating: 100%|██████████| 36/36 [00:03<00:00, 10.51 batch/s]\n"
     ]
    },
    {
     "name": "stdout",
     "output_type": "stream",
     "text": [
      "\u001b[1m\u001b[36mBest valid accuracy improved from 55.56% to 59.03%. Saving checkpoint...\n",
      "\u001b[0m"
     ]
    },
    {
     "name": "stderr",
     "output_type": "stream",
     "text": [
      "Epoch 4/10: 100%|██████████| 141/141 [00:35<00:00,  4.00 batch/s, loss=0.9976]\n",
      "Validating: 100%|██████████| 36/36 [00:03<00:00, 10.54 batch/s]\n"
     ]
    },
    {
     "name": "stdout",
     "output_type": "stream",
     "text": [
      "\u001b[1m\u001b[36mBest valid accuracy improved from 59.03% to 63.63%. Saving checkpoint...\n",
      "\u001b[0m"
     ]
    },
    {
     "name": "stderr",
     "output_type": "stream",
     "text": [
      "Epoch 5/10: 100%|██████████| 141/141 [00:35<00:00,  3.98 batch/s, loss=0.8317]\n",
      "Validating: 100%|██████████| 36/36 [00:03<00:00, 10.50 batch/s]\n"
     ]
    },
    {
     "name": "stdout",
     "output_type": "stream",
     "text": [
      "\u001b[1m\u001b[36mBest valid accuracy improved from 63.63% to 66.82%. Saving checkpoint...\n",
      "\u001b[0m"
     ]
    },
    {
     "name": "stderr",
     "output_type": "stream",
     "text": [
      "Epoch 6/10: 100%|██████████| 141/141 [00:35<00:00,  3.99 batch/s, loss=0.6768]\n",
      "Validating: 100%|██████████| 36/36 [00:03<00:00, 10.42 batch/s]\n"
     ]
    },
    {
     "name": "stdout",
     "output_type": "stream",
     "text": [
      "\u001b[1m\u001b[36mBest valid accuracy improved from 66.82% to 68.67%. Saving checkpoint...\n",
      "\u001b[0m"
     ]
    },
    {
     "name": "stderr",
     "output_type": "stream",
     "text": [
      "Epoch 7/10: 100%|██████████| 141/141 [00:35<00:00,  4.00 batch/s, loss=0.5555]\n",
      "Validating: 100%|██████████| 36/36 [00:03<00:00, 10.46 batch/s]\n"
     ]
    },
    {
     "name": "stdout",
     "output_type": "stream",
     "text": [
      "\u001b[1m\u001b[36mBest valid accuracy improved from 68.67% to 69.16%. Saving checkpoint...\n",
      "\u001b[0m"
     ]
    },
    {
     "name": "stderr",
     "output_type": "stream",
     "text": [
      "Epoch 8/10: 100%|██████████| 141/141 [00:35<00:00,  3.99 batch/s, loss=0.4583]\n",
      "Validating: 100%|██████████| 36/36 [00:03<00:00, 10.39 batch/s]\n",
      "Epoch 9/10: 100%|██████████| 141/141 [00:35<00:00,  3.99 batch/s, loss=0.3667]\n",
      "Validating: 100%|██████████| 36/36 [00:03<00:00, 10.47 batch/s]\n",
      "Epoch 10/10: 100%|██████████| 141/141 [00:35<00:00,  3.99 batch/s, loss=0.2988]\n",
      "Validating: 100%|██████████| 36/36 [00:03<00:00, 10.53 batch/s]\n"
     ]
    },
    {
     "name": "stdout",
     "output_type": "stream",
     "text": [
      "\u001b[1m\u001b[36mBest valid accuracy improved from 69.16% to 69.68%. Saving checkpoint...\n",
      "\u001b[0m"
     ]
    },
    {
     "name": "stderr",
     "output_type": "stream",
     "text": [
      "Testing: 100%|██████████| 40/40 [00:03<00:00, 10.84 batch/s]\n"
     ]
    },
    {
     "name": "stdout",
     "output_type": "stream",
     "text": [
      "\u001b[1m\u001b[95mRunning run r50,epochs:10,bs:256,clipping/10\n",
      "\u001b[0m"
     ]
    },
    {
     "name": "stderr",
     "output_type": "stream",
     "text": [
      "Epoch 1/10: 100%|██████████| 157/157 [00:39<00:00,  4.00 batch/s, loss=1.7445]\n",
      "Validating: 100%|██████████| 40/40 [00:03<00:00, 10.06 batch/s]\n"
     ]
    },
    {
     "name": "stdout",
     "output_type": "stream",
     "text": [
      "\u001b[1m\u001b[36mBest valid accuracy improved from 0.00% to 48.38%. Saving checkpoint...\n",
      "\u001b[0m"
     ]
    },
    {
     "name": "stderr",
     "output_type": "stream",
     "text": [
      "Epoch 2/10: 100%|██████████| 157/157 [00:39<00:00,  4.00 batch/s, loss=1.3151]\n",
      "Validating: 100%|██████████| 40/40 [00:03<00:00, 10.38 batch/s]\n"
     ]
    },
    {
     "name": "stdout",
     "output_type": "stream",
     "text": [
      "\u001b[1m\u001b[36mBest valid accuracy improved from 48.38% to 55.78%. Saving checkpoint...\n",
      "\u001b[0m"
     ]
    },
    {
     "name": "stderr",
     "output_type": "stream",
     "text": [
      "Epoch 3/10: 100%|██████████| 157/157 [00:39<00:00,  3.98 batch/s, loss=1.1088]\n",
      "Validating: 100%|██████████| 40/40 [00:03<00:00, 10.41 batch/s]\n"
     ]
    },
    {
     "name": "stdout",
     "output_type": "stream",
     "text": [
      "\u001b[1m\u001b[36mBest valid accuracy improved from 55.78% to 62.25%. Saving checkpoint...\n",
      "\u001b[0m"
     ]
    },
    {
     "name": "stderr",
     "output_type": "stream",
     "text": [
      "Epoch 4/10: 100%|██████████| 157/157 [00:39<00:00,  3.99 batch/s, loss=0.9051]\n",
      "Validating: 100%|██████████| 40/40 [00:03<00:00, 10.73 batch/s]\n"
     ]
    },
    {
     "name": "stdout",
     "output_type": "stream",
     "text": [
      "\u001b[1m\u001b[36mBest valid accuracy improved from 62.25% to 67.06%. Saving checkpoint...\n",
      "\u001b[0m"
     ]
    },
    {
     "name": "stderr",
     "output_type": "stream",
     "text": [
      "Epoch 5/10: 100%|██████████| 157/157 [00:39<00:00,  4.01 batch/s, loss=0.7596]\n",
      "Validating: 100%|██████████| 40/40 [00:03<00:00, 10.74 batch/s]\n"
     ]
    },
    {
     "name": "stdout",
     "output_type": "stream",
     "text": [
      "\u001b[1m\u001b[36mBest valid accuracy improved from 67.06% to 69.27%. Saving checkpoint...\n",
      "\u001b[0m"
     ]
    },
    {
     "name": "stderr",
     "output_type": "stream",
     "text": [
      "Epoch 6/10: 100%|██████████| 157/157 [00:39<00:00,  4.00 batch/s, loss=0.6673]\n",
      "Validating: 100%|██████████| 40/40 [00:03<00:00, 10.75 batch/s]\n",
      "Epoch 7/10: 100%|██████████| 157/157 [00:39<00:00,  4.01 batch/s, loss=0.5513]\n",
      "Validating: 100%|██████████| 40/40 [00:03<00:00, 10.80 batch/s]\n"
     ]
    },
    {
     "name": "stdout",
     "output_type": "stream",
     "text": [
      "\u001b[1m\u001b[36mBest valid accuracy improved from 69.27% to 70.65%. Saving checkpoint...\n",
      "\u001b[0m"
     ]
    },
    {
     "name": "stderr",
     "output_type": "stream",
     "text": [
      "Epoch 8/10: 100%|██████████| 157/157 [00:39<00:00,  3.98 batch/s, loss=0.4220]\n",
      "Validating: 100%|██████████| 40/40 [00:03<00:00, 10.39 batch/s]\n"
     ]
    },
    {
     "name": "stdout",
     "output_type": "stream",
     "text": [
      "\u001b[1m\u001b[36mBest valid accuracy improved from 70.65% to 71.74%. Saving checkpoint...\n",
      "\u001b[0m"
     ]
    },
    {
     "name": "stderr",
     "output_type": "stream",
     "text": [
      "Epoch 9/10: 100%|██████████| 157/157 [00:39<00:00,  3.98 batch/s, loss=0.3532]\n",
      "Validating: 100%|██████████| 40/40 [00:03<00:00, 10.48 batch/s]\n",
      "Epoch 10/10: 100%|██████████| 157/157 [00:39<00:00,  3.98 batch/s, loss=0.3139]\n",
      "Validating: 100%|██████████| 40/40 [00:03<00:00, 10.52 batch/s]\n",
      "Testing: 100%|██████████| 40/40 [00:03<00:00, 10.75 batch/s]\n"
     ]
    }
   ],
   "source": [
    "import torch\n",
    "import torchvision\n",
    "from torchvision.models import resnet50, resnet101, vgg19\n",
    "\n",
    "from kiss.experiment import Experiment\n",
    "from kiss.sampler import RandomSampler\n",
    "from kiss.utils.configs import CONFIGS\n",
    "\n",
    "transform = torchvision.transforms.ToTensor()\n",
    "dataset_tr = torchvision.datasets.CIFAR10(root='../data', train=True, download=True, transform=transform)\n",
    "dataset_te = torchvision.datasets.CIFAR10(root='../data', train=False, download=True, transform=transform)\n",
    "\n",
    "model = resnet50(num_classes=10)\n",
    "# model = resnet101(num_classes=10)\n",
    "# model = vgg19(num_classes=10)\n",
    "model.to(torch.device(CONFIGS.torch.device))\n",
    "\n",
    "experiment = Experiment(\n",
    "    model, \n",
    "    dataset_tr, \n",
    "    dataset_te, \n",
    "    RandomSampler, \n",
    "    ratio=(0.1, 1, 10),\n",
    "    epochs=10,\n",
    "    batch_size=256,\n",
    "    clip=5.0)\n",
    "experiment.run(\"../experiments\", \"r50,epochs:10,bs:256,clipping\")"
   ]
  },
  {
   "cell_type": "code",
   "execution_count": 4,
   "metadata": {},
   "outputs": [
    {
     "data": {
      "image/png": "[encoded data removed]",
      "text/plain": [
       "<Figure size 640x480 with 1 Axes>"
      ]
     },
     "metadata": {},
     "output_type": "display_data"
    }
   ],
   "source": [
    "import os\n",
    "import pandas as pd\n",
    "import matplotlib.pyplot as plt\n",
    "\n",
    "plt.style.use(\"ggplot\")\n",
    "\n",
    "def gather_stats(experiment_path):\n",
    "    df = None\n",
    "\n",
    "    for dir_name in os.listdir(experiment_path):\n",
    "        dir_path = os.path.join(experiment_path, dir_name)\n",
    "        runid = int(dir_name)\n",
    "\n",
    "        with open(os.path.join(dir_path, 'acc.txt'), 'r') as f:\n",
    "            acc = float(f.read().strip()[:-1])\n",
    "\n",
    "        with open(os.path.join(dir_path, 'ratio.txt'), 'r') as f:\n",
    "            ratio = float(f.read().strip()[:-1])\n",
    "\n",
    "        with open(os.path.join(dir_path, 'train_size.txt'), 'r') as f:\n",
    "            train_size = float(f.read().strip()[:-1])\n",
    "\n",
    "        with open(os.path.join(dir_path, 'valid_size.txt'), 'r') as f:\n",
    "            valid_size = float(f.read().strip()[:-1])\n",
    "\n",
    "        with open(os.path.join(dir_path, 'test_size.txt'), 'r') as f:\n",
    "            test_size = float(f.read().strip()[:-1])\n",
    "\n",
    "        if df is None:\n",
    "            df = pd.DataFrame({\n",
    "                'runid': [runid],\n",
    "                'acc': [acc],\n",
    "                'ratio': [ratio],\n",
    "                'train_size': [train_size],\n",
    "                'valid_size': [valid_size],\n",
    "                'test_size': [test_size]\n",
    "            })\n",
    "        else:\n",
    "            df = pd.concat((df, pd.DataFrame({\n",
    "                'runid': [runid],\n",
    "                'acc': [acc],\n",
    "                'ratio': [ratio],\n",
    "                'train_size': [train_size],\n",
    "                'valid_size': [valid_size],\n",
    "                'test_size': [test_size]\n",
    "            })))\n",
    "\n",
    "    return df\n",
    "\n",
    "for run in [\"r50,epochs:10,bs:512,clipping\", \"r50,epochs:10,bs:512\", \"r50,epochs:10,bs:1024\", \"r50,epochs:10,bs:1024,clipping\", \"r50,epochs:10,bs:256,clipping\"]:\n",
    "    experiment_path = os.path.join('../experiments', 'ResNet!CIFAR10!RandomSampler', run)\n",
    "    df = gather_stats(experiment_path)\n",
    "    df = df.sort_values(by='runid')\n",
    "    plt.plot(df['ratio'], df['acc'], label=run)\n",
    "\n",
    "plt.legend()\n",
    "plt.show()"
   ]
  }
 ],
 "metadata": {
  "kernelspec": {
   "display_name": "kiss",
   "language": "python",
   "name": "python3"
  },
  "language_info": {
   "codemirror_mode": {
    "name": "ipython",
    "version": 3
   },
   "file_extension": ".py",
   "mimetype": "text/x-python",
   "name": "python",
   "nbconvert_exporter": "python",
   "pygments_lexer": "ipython3",
   "version": "3.11.6"
  }
 },
 "nbformat": 4,
 "nbformat_minor": 2
}
