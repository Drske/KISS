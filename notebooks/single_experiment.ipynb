{
 "cells": [
  {
   "cell_type": "code",
   "execution_count": 1,
   "metadata": {},
   "outputs": [
    {
     "name": "stdout",
     "output_type": "stream",
     "text": [
      "Files already downloaded and verified\n",
      "Files already downloaded and verified\n",
      "Using downloaded and verified file: ../data/svhn/train_32x32.mat\n",
      "Using downloaded and verified file: ../data/svhn/test_32x32.mat\n"
     ]
    }
   ],
   "source": [
    "import torch\n",
    "import torchvision\n",
    "from torchvision.models import resnet50\n",
    "\n",
    "from kiss.models import vgg16_kiss\n",
    "from kiss.experiment import Experiment\n",
    "from kiss.sampler import RandomSampler, KMeansSampler, KMeansPuritySampler, KMeansDinoSampler, KMeansPurityDinoSampler\n",
    "from kiss.utils.configs import CONFIGS\n",
    "\n",
    "transform = torchvision.transforms.ToTensor()\n",
    "dataset_cifar100_tr = torchvision.datasets.CIFAR100(root='../data/cifar100', train=True, download=True, transform=transform)\n",
    "dataset_cifar100_te = torchvision.datasets.CIFAR100(root='../data/cifar100', train=False, download=True, transform=transform)\n",
    "\n",
    "dataset_svhn_tr = torchvision.datasets.SVHN(root='../data/svhn', split='train', download=True, transform=transform)\n",
    "dataset_svhn_te = torchvision.datasets.SVHN(root='../data/svhn', split='test', download=True, transform=transform)"
   ]
  },
  {
   "cell_type": "code",
   "execution_count": 2,
   "metadata": {},
   "outputs": [
    {
     "name": "stdout",
     "output_type": "stream",
     "text": [
      "\u001b[1m\u001b[33mRunning experiment ResNet!CIFAR100!KMeansSampler\n",
      "\u001b[0m\u001b[1m\u001b[95mRunning run GOODVALID/1\n",
      "\u001b[0mKept clusters size 88\n",
      "Kept clusters size 100\n",
      "Kept clusters size 86\n",
      "Kept clusters size 74\n",
      "Kept clusters size 89\n",
      "Kept clusters size 84\n",
      "Kept clusters size 87\n",
      "Kept clusters size 82\n",
      "Kept clusters size 80\n",
      "Kept clusters size 90\n",
      "Kept clusters size 86\n",
      "Kept clusters size 93\n",
      "Kept clusters size 101\n",
      "Kept clusters size 99\n",
      "Kept clusters size 87\n",
      "Kept clusters size 88\n",
      "Kept clusters size 91\n",
      "Kept clusters size 92\n",
      "Kept clusters size 78\n",
      "Kept clusters size 93\n",
      "Kept clusters size 79\n",
      "Kept clusters size 83\n",
      "Kept clusters size 84\n",
      "Kept clusters size 84\n",
      "Kept clusters size 92\n",
      "Kept clusters size 87\n",
      "Kept clusters size 94\n",
      "Kept clusters size 102\n",
      "Kept clusters size 88\n",
      "Kept clusters size 81\n",
      "Kept clusters size 90\n",
      "Kept clusters size 98\n",
      "Kept clusters size 90\n",
      "Kept clusters size 92\n",
      "Kept clusters size 89\n",
      "Kept clusters size 82\n",
      "Kept clusters size 112\n",
      "Kept clusters size 57\n",
      "Kept clusters size 72\n",
      "Kept clusters size 81\n",
      "Kept clusters size 73\n",
      "Kept clusters size 85\n",
      "Kept clusters size 92\n",
      "Kept clusters size 95\n",
      "Kept clusters size 75\n",
      "Kept clusters size 96\n",
      "Kept clusters size 80\n",
      "Kept clusters size 77\n",
      "Kept clusters size 89\n",
      "Kept clusters size 92\n",
      "Kept clusters size 86\n",
      "Kept clusters size 85\n",
      "Kept clusters size 82\n",
      "Kept clusters size 80\n",
      "Kept clusters size 93\n",
      "Kept clusters size 109\n",
      "Kept clusters size 98\n",
      "Kept clusters size 85\n",
      "Kept clusters size 88\n",
      "Kept clusters size 80\n",
      "Kept clusters size 94\n",
      "Kept clusters size 69\n",
      "Kept clusters size 85\n",
      "Kept clusters size 93\n",
      "Kept clusters size 88\n",
      "Kept clusters size 93\n",
      "Kept clusters size 66\n",
      "Kept clusters size 82\n",
      "Kept clusters size 107\n",
      "Kept clusters size 94\n",
      "Kept clusters size 100\n",
      "Kept clusters size 84\n",
      "Kept clusters size 83\n",
      "Kept clusters size 106\n",
      "Kept clusters size 72\n",
      "Kept clusters size 83\n",
      "Kept clusters size 91\n",
      "Kept clusters size 95\n",
      "Kept clusters size 94\n",
      "Kept clusters size 90\n",
      "Kept clusters size 86\n",
      "Kept clusters size 82\n",
      "Kept clusters size 81\n",
      "Kept clusters size 84\n",
      "Kept clusters size 102\n",
      "Kept clusters size 82\n",
      "Kept clusters size 89\n",
      "Kept clusters size 78\n",
      "Kept clusters size 111\n",
      "Kept clusters size 100\n",
      "Kept clusters size 102\n",
      "Kept clusters size 54\n",
      "Kept clusters size 79\n",
      "Kept clusters size 84\n",
      "Kept clusters size 101\n",
      "Kept clusters size 90\n",
      "Kept clusters size 85\n",
      "Kept clusters size 90\n",
      "Kept clusters size 65\n",
      "Kept clusters size 88\n",
      "4000 4000\n"
     ]
    },
    {
     "name": "stderr",
     "output_type": "stream",
     "text": [
      "Epoch 1/10: 100%|██████████| 8/8 [00:04<00:00,  1.78 batch/s, loss=5.1350]\n",
      "Validating: 100%|██████████| 20/20 [00:03<00:00,  5.25 batch/s, loss=4.6840]\n"
     ]
    },
    {
     "name": "stdout",
     "output_type": "stream",
     "text": [
      "\u001b[1m\u001b[36mBest valid loss improved. Current accuracy is 0.98%. Saving checkpoint...\n",
      "\u001b[0m\u001b[1m\u001b[36mBest valid accuracy improved. Current accuracy is 0.98%. Saving checkpoint...\n",
      "\u001b[0m"
     ]
    },
    {
     "name": "stderr",
     "output_type": "stream",
     "text": [
      "Epoch 2/10: 100%|██████████| 8/8 [00:03<00:00,  2.21 batch/s, loss=4.6611]\n",
      "Validating: 100%|██████████| 20/20 [00:03<00:00,  5.68 batch/s, loss=4.8250]\n"
     ]
    },
    {
     "name": "stdout",
     "output_type": "stream",
     "text": [
      "\u001b[1m\u001b[36mBest valid accuracy improved. Current accuracy is 1.06%. Saving checkpoint...\n",
      "\u001b[0m"
     ]
    },
    {
     "name": "stderr",
     "output_type": "stream",
     "text": [
      "Epoch 3/10: 100%|██████████| 8/8 [00:03<00:00,  2.23 batch/s, loss=4.2048]\n",
      "Validating: 100%|██████████| 20/20 [00:03<00:00,  5.55 batch/s, loss=4.9176]\n"
     ]
    },
    {
     "name": "stdout",
     "output_type": "stream",
     "text": [
      "\u001b[1m\u001b[36mBest valid accuracy improved. Current accuracy is 1.77%. Saving checkpoint...\n",
      "\u001b[0m"
     ]
    },
    {
     "name": "stderr",
     "output_type": "stream",
     "text": [
      "Epoch 4/10: 100%|██████████| 8/8 [00:03<00:00,  2.21 batch/s, loss=3.7509]\n",
      "Validating: 100%|██████████| 20/20 [00:03<00:00,  5.49 batch/s, loss=5.1172]\n"
     ]
    },
    {
     "name": "stdout",
     "output_type": "stream",
     "text": [
      "\u001b[1m\u001b[36mBest valid accuracy improved. Current accuracy is 2.07%. Saving checkpoint...\n",
      "\u001b[0m"
     ]
    },
    {
     "name": "stderr",
     "output_type": "stream",
     "text": [
      "Epoch 5/10: 100%|██████████| 8/8 [00:03<00:00,  2.20 batch/s, loss=3.2112]\n",
      "Validating: 100%|██████████| 20/20 [00:03<00:00,  5.69 batch/s, loss=5.0871]\n"
     ]
    },
    {
     "name": "stdout",
     "output_type": "stream",
     "text": [
      "\u001b[1m\u001b[36mBest valid accuracy improved. Current accuracy is 3.64%. Saving checkpoint...\n",
      "\u001b[0m"
     ]
    },
    {
     "name": "stderr",
     "output_type": "stream",
     "text": [
      "Epoch 6/10: 100%|██████████| 8/8 [00:03<00:00,  2.20 batch/s, loss=2.5341]\n",
      "Validating: 100%|██████████| 20/20 [00:03<00:00,  5.69 batch/s, loss=4.7191]\n"
     ]
    },
    {
     "name": "stdout",
     "output_type": "stream",
     "text": [
      "\u001b[1m\u001b[36mBest valid accuracy improved. Current accuracy is 5.88%. Saving checkpoint...\n",
      "\u001b[0m"
     ]
    },
    {
     "name": "stderr",
     "output_type": "stream",
     "text": [
      "Epoch 7/10: 100%|██████████| 8/8 [00:03<00:00,  2.20 batch/s, loss=1.7765]\n",
      "Validating: 100%|██████████| 20/20 [00:03<00:00,  5.68 batch/s, loss=4.7252]\n"
     ]
    },
    {
     "name": "stdout",
     "output_type": "stream",
     "text": [
      "\u001b[1m\u001b[36mBest valid accuracy improved. Current accuracy is 7.66%. Saving checkpoint...\n",
      "\u001b[0m"
     ]
    },
    {
     "name": "stderr",
     "output_type": "stream",
     "text": [
      "Epoch 8/10: 100%|██████████| 8/8 [00:03<00:00,  2.20 batch/s, loss=1.1736]\n",
      "Validating: 100%|██████████| 20/20 [00:03<00:00,  5.69 batch/s, loss=5.2955]\n",
      "Epoch 9/10: 100%|██████████| 8/8 [00:03<00:00,  2.19 batch/s, loss=0.8769]\n",
      "Validating: 100%|██████████| 20/20 [00:03<00:00,  5.69 batch/s, loss=5.6587]\n"
     ]
    },
    {
     "name": "stdout",
     "output_type": "stream",
     "text": [
      "\u001b[1m\u001b[36mBest valid accuracy improved. Current accuracy is 8.15%. Saving checkpoint...\n",
      "\u001b[0m"
     ]
    },
    {
     "name": "stderr",
     "output_type": "stream",
     "text": [
      "Epoch 10/10: 100%|██████████| 8/8 [00:03<00:00,  2.20 batch/s, loss=0.6461]\n",
      "Validating: 100%|██████████| 20/20 [00:03<00:00,  5.48 batch/s, loss=6.2896]\n"
     ]
    },
    {
     "name": "stdout",
     "output_type": "stream",
     "text": [
      "\u001b[1m\u001b[36mBest valid accuracy improved. Current accuracy is 9.01%. Saving checkpoint...\n",
      "\u001b[0m"
     ]
    },
    {
     "name": "stderr",
     "output_type": "stream",
     "text": [
      "Testing:  50%|█████     | 10/20 [00:01<00:01,  5.40 batch/s]"
     ]
    }
   ],
   "source": [
    "model = resnet50(num_classes=100)\n",
    "model.to(torch.device(CONFIGS.torch.device))\n",
    "\n",
    "experiment = Experiment(\n",
    "    model = model,\n",
    "    dataset_tr = dataset_cifar100_tr,\n",
    "    dataset_te = dataset_cifar100_te,\n",
    "    sampler_cls=KMeansSampler,\n",
    "    ratio=(0.1, 0.3, 3),\n",
    "    epochs=10,\n",
    "    batch_size=512,\n",
    "    clip=5.0,\n",
    "    num_clusters=10,\n",
    "    eqsize=True,\n",
    "    load_clusters=\"/Users/michal/GitHub/KISS/checkpoints/KMeansSampler,CIFAR100,nc:10\",\n",
    ")\n",
    "experiment.run(\"../experiments\", \"GOODVALID\")"
   ]
  },
  {
   "cell_type": "code",
   "execution_count": null,
   "metadata": {},
   "outputs": [],
   "source": [
    "import pickle\n",
    "from collections import Counter\n",
    "\n",
    "with open(\"/Users/michal/GitHub/KISS/checkpoints/KMeansDinoSampler,CIFAR100,nc:10/cluster_data.pickle\", \"rb\") as file:\n",
    "    cluster_data = pickle.load(file)\n",
    "    \n",
    "with open(\"/Users/michal/GitHub/KISS/checkpoints/KMeansDinoSampler,SVHN,nc:10/cluster_data.pickle\", \"rb\") as file:\n",
    "    cluster_data = pickle.load(file)\n",
    "    \n",
    "total = 0\n",
    "for label, clusters in cluster_data.items():    \n",
    "    cluster_sizes = dict(Counter(clusters))\n",
    "    cluster_sizes = dict(sorted(cluster_sizes.items(), key=lambda item: item[1], reverse=True))\n",
    "    print(label, cluster_sizes)\n",
    "    keep_clusters = list(cluster_sizes.keys())[:max(1, int(10 * 0.3 * 0.9))]\n",
    "    keep_clusters_size = 0\n",
    "    for cluster, size in cluster_sizes.items():\n",
    "        if cluster not in keep_clusters: continue\n",
    "        keep_clusters_size += size\n",
    "    total += keep_clusters_size\n",
    "    print(keep_clusters, keep_clusters_size)\n",
    "    \n",
    "print(total)"
   ]
  },
  {
   "cell_type": "code",
   "execution_count": null,
   "metadata": {},
   "outputs": [],
   "source": [
    "import numpy as np\n",
    "for ratio in np.arange(0.1, 1.01, 0.1):\n",
    "    print(ratio, ratio * 0.95 * 10)"
   ]
  }
 ],
 "metadata": {
  "kernelspec": {
   "display_name": "kiss",
   "language": "python",
   "name": "python3"
  },
  "language_info": {
   "codemirror_mode": {
    "name": "ipython",
    "version": 3
   },
   "file_extension": ".py",
   "mimetype": "text/x-python",
   "name": "python",
   "nbconvert_exporter": "python",
   "pygments_lexer": "ipython3",
   "version": "3.11.7"
  }
 },
 "nbformat": 4,
 "nbformat_minor": 2
}
