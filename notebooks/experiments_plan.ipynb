{
 "cells": [
  {
   "cell_type": "markdown",
   "metadata": {},
   "source": [
    "### Eksperymenty\n",
    "\n",
    "**Modele**\n",
    "- resnet50\n",
    "- vgg13\n",
    "\n",
    "**Zbiory danych**\n",
    "- CIFAR100\n",
    "- SVHN\n",
    "\n",
    "**Metody**\n",
    "- KMeans\n",
    "- KMeansPurity\n",
    "- KMeansDino\n",
    "- KMeansDinoPurity\n",
    "- Spectral (?)\n",
    "- SpectralPurity (?)\n",
    "\n",
    "**Ustawienia**\n",
    "- ratio = (0.1, 1, 10)\n",
    "- epochs = 10\n",
    "- batch_size = 512\n",
    "- clip = 5.0\n",
    "- num_clusters = 20\n",
    "- eqsize = True\n",
    "- min_purity = 0.1 (SVHN), 0.01 (CIFAR100)\n",
    "\n",
    "**Nazewnictwo przebiegów**\n",
    "W nawiasach kwadratowych podano wartość do wyboru (\"jeden z ...\") w nawiasch klamrowych wartości opcjonalne.\n",
    "ID służy do rozróżniania eksperymentów w tej samej konfiguracji\n",
    "\n",
    "- [r50,vgg13],ep:10,bs:512,clip:5.0,{nc:20},{eqsize},{mp:[0.1,0.01]},ID:[1,2,3,..]\n",
    "- przykład: r50,ep:10,bs:512,clip:5.0,ID:1\n",
    "- przykład: r50,ep:10,bs:512,clip:50,nc:20,eqsize,mp:0.1,ID:1\n",
    "\n",
    "**Uwagi**\n",
    "- Przy każdym eksperymencie nowy model (!)"
   ]
  }
 ],
 "metadata": {
  "language_info": {
   "name": "python"
  }
 },
 "nbformat": 4,
 "nbformat_minor": 2
}
