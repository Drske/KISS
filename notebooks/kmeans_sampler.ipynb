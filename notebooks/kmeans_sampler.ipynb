{
 "cells": [
  {
   "cell_type": "code",
   "execution_count": null,
   "metadata": {},
   "outputs": [],
   "source": [
    "import torch\n",
    "import torchvision\n",
    "from torchvision.models import resnet50\n",
    "\n",
    "from kiss.experiment import Experiment\n",
    "from kiss.sampler import KMeansSampler, KMeansNumerousClusters\n",
    "from kiss.utils.configs import CONFIGS\n",
    "\n",
    "transform = torchvision.transforms.ToTensor()\n",
    "dataset_tr = torchvision.datasets.CIFAR10(root='../data', train=True, download=True, transform=transform)\n",
    "dataset_te = torchvision.datasets.CIFAR10(root='../data', train=False, download=True, transform=transform)\n",
    "\n",
    "model = resnet50(num_classes=10)\n",
    "model.to(torch.device(CONFIGS.torch.device))\n",
    " \n",
    "experiment = Experiment(\n",
    "    model, \n",
    "    dataset_tr,\n",
    "    dataset_te, \n",
    "    KMeansSampler,\n",
    "    ratio=(0.1, 1, 10),\n",
    "    epochs=10,\n",
    "    batch_size=512,\n",
    "    clip=5.0,\n",
    "    num_clusters=18,\n",
    "    eqsize=False,\n",
    "    numerous_ratio=0.8,\n",
    "    load_clusters=\"../checkpoints/kmeans,fe\",\n",
    "    save_clusters=\"../checkpoints/kmeans,fe\")\n",
    "experiment.run(\"../experiments\", \"r50,ep:10,bs:512,clip:5,nc:18,noeq\")"
   ]
  }
 ],
 "metadata": {
  "kernelspec": {
   "display_name": "kiss",
   "language": "python",
   "name": "python3"
  },
  "language_info": {
   "codemirror_mode": {
    "name": "ipython",
    "version": 3
   },
   "file_extension": ".py",
   "mimetype": "text/x-python",
   "name": "python",
   "nbconvert_exporter": "python",
   "pygments_lexer": "ipython3",
   "version": "3.11.6"
  }
 },
 "nbformat": 4,
 "nbformat_minor": 2
}
