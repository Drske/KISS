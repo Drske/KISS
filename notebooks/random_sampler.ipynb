{
 "cells": [
  {
   "cell_type": "code",
   "execution_count": 1,
   "metadata": {},
   "outputs": [
    {
     "name": "stdout",
     "output_type": "stream",
     "text": [
      "Files already downloaded and verified\n",
      "Files already downloaded and verified\n",
      "\u001b[1m\u001b[33mRunning experiment ResNet!CIFAR100!RandomSampler\n",
      "\u001b[0m\u001b[1m\u001b[95mRunning run r50,ep:10,bs:512,clip:None/1\n",
      "\u001b[0m"
     ]
    },
    {
     "name": "stderr",
     "output_type": "stream",
     "text": [
      "Epoch 1/10: 100%|██████████| 8/8 [00:04<00:00,  1.88 batch/s, loss=5.1727]\n",
      "Validating: 100%|██████████| 2/2 [00:00<00:00,  4.26 batch/s]\n"
     ]
    },
    {
     "name": "stdout",
     "output_type": "stream",
     "text": [
      "\u001b[1m\u001b[36mBest valid accuracy improved from 0.00% to 1.20%. Saving checkpoint...\n",
      "\u001b[0m"
     ]
    },
    {
     "name": "stderr",
     "output_type": "stream",
     "text": [
      "Epoch 2/10: 100%|██████████| 8/8 [00:03<00:00,  2.33 batch/s, loss=4.8501]\n",
      "Validating: 100%|██████████| 2/2 [00:00<00:00,  5.48 batch/s]\n",
      "Epoch 3/10: 100%|██████████| 8/8 [00:03<00:00,  2.30 batch/s, loss=4.2412]\n",
      "Validating: 100%|██████████| 2/2 [00:00<00:00,  5.38 batch/s]\n"
     ]
    },
    {
     "name": "stdout",
     "output_type": "stream",
     "text": [
      "\u001b[1m\u001b[36mBest valid accuracy improved from 1.20% to 2.10%. Saving checkpoint...\n",
      "\u001b[0m"
     ]
    },
    {
     "name": "stderr",
     "output_type": "stream",
     "text": [
      "Epoch 4/10: 100%|██████████| 8/8 [00:03<00:00,  2.31 batch/s, loss=3.6332]\n",
      "Validating: 100%|██████████| 2/2 [00:00<00:00,  5.51 batch/s]\n",
      "Epoch 5/10:  88%|████████▊ | 7/8 [00:03<00:00,  2.25 batch/s, loss=2.7141]"
     ]
    }
   ],
   "source": [
    "import torch\n",
    "import torchvision\n",
    "from torchvision.models import resnet50\n",
    "\n",
    "from kiss.experiment import Experiment\n",
    "from kiss.sampler import RandomSampler\n",
    "from kiss.utils.configs import CONFIGS\n",
    "\n",
    "transform = torchvision.transforms.ToTensor()\n",
    "dataset_tr = torchvision.datasets.CIFAR100(root='../data', train=True, download=True, transform=transform)\n",
    "dataset_te = torchvision.datasets.CIFAR100(root='../data', train=False, download=True, transform=transform)\n",
    "\n",
    "model = resnet50(num_classes=100)\n",
    "model.to(torch.device(CONFIGS.torch.device))\n",
    "\n",
    "experiment = Experiment(\n",
    "    model, \n",
    "    dataset_tr, \n",
    "    dataset_te, \n",
    "    RandomSampler, \n",
    "    ratio=(0.1, 1, 10),\n",
    "    epochs=10,\n",
    "    batch_size=512,\n",
    "    clip=None)\n",
    "experiment.run(\"../experiments\", \"r50,ep:10,bs:512,clip:None\")"
   ]
  },
  {
   "cell_type": "code",
   "execution_count": null,
   "metadata": {},
   "outputs": [],
   "source": [
    "from kiss.sampler import KMeansPuritySampler\n",
    "\n",
    "transform = torchvision.transforms.ToTensor()\n",
    "dataset_tr = torchvision.datasets.CIFAR100(root='../data', train=True, download=True, transform=transform)\n",
    "dataset_te = torchvision.datasets.CIFAR100(root='../data', train=False, download=True, transform=transform)\n",
    "\n",
    "model = resnet50(num_classes=100)\n",
    "model.to(torch.device(CONFIGS.torch.device))\n",
    "\n",
    "experiment = Experiment(\n",
    "    model, \n",
    "    dataset_tr,\n",
    "    dataset_te, \n",
    "    KMeansPuritySampler,\n",
    "    ratio=(0.1, 1, 10),\n",
    "    epochs=10,\n",
    "    batch_size=512,\n",
    "    clip=None,\n",
    "    num_clusters=20,\n",
    "    eqsize=True,\n",
    "    min_purity=0.01,\n",
    "    load_clusters=\"../checkpoints/kmeans,purity,fe\",\n",
    "    save_clusters=\"../checkpoints/kmeans,purity,fe\")\n",
    "experiment.run(\"../experiments\", \"r50,ep:10,bs:512,clip:None,nc:20,mp:0.01,fe\")"
   ]
  }
 ],
 "metadata": {
  "kernelspec": {
   "display_name": "kiss",
   "language": "python",
   "name": "python3"
  },
  "language_info": {
   "codemirror_mode": {
    "name": "ipython",
    "version": 3
   },
   "file_extension": ".py",
   "mimetype": "text/x-python",
   "name": "python",
   "nbconvert_exporter": "python",
   "pygments_lexer": "ipython3",
   "version": "3.11.6"
  }
 },
 "nbformat": 4,
 "nbformat_minor": 2
}
