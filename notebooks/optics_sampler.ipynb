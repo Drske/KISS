{
 "cells": [
  {
   "cell_type": "code",
   "execution_count": 2,
   "metadata": {},
   "outputs": [
    {
     "name": "stdout",
     "output_type": "stream",
     "text": [
      "Files already downloaded and verified\n",
      "Files already downloaded and verified\n",
      "\u001b[1m\u001b[33mRunning experiment ResNet!CIFAR10!OpticsSampler\n",
      "\u001b[0m\u001b[1m\u001b[95mRunning run r50,epochs:10,bs:256,clipping,eqsize,fe/1\n",
      "\u001b[0m"
     ]
    },
    {
     "name": "stderr",
     "output_type": "stream",
     "text": [
      "Epoch 1/10: 100%|██████████| 34/34 [00:08<00:00,  4.00 batch/s, loss=2.3582]\n",
      "Validating: 100%|██████████| 9/9 [00:00<00:00, 10.89 batch/s]\n"
     ]
    },
    {
     "name": "stdout",
     "output_type": "stream",
     "text": [
      "\u001b[1m\u001b[36mBest valid accuracy improved from 0.00% to 35.31%. Saving checkpoint...\n",
      "\u001b[0m"
     ]
    },
    {
     "name": "stderr",
     "output_type": "stream",
     "text": [
      "Epoch 2/10: 100%|██████████| 34/34 [00:08<00:00,  4.01 batch/s, loss=1.6954]\n",
      "Validating: 100%|██████████| 9/9 [00:00<00:00, 10.98 batch/s]\n"
     ]
    },
    {
     "name": "stdout",
     "output_type": "stream",
     "text": [
      "\u001b[1m\u001b[36mBest valid accuracy improved from 35.31% to 43.74%. Saving checkpoint...\n",
      "\u001b[0m"
     ]
    },
    {
     "name": "stderr",
     "output_type": "stream",
     "text": [
      "Epoch 3/10: 100%|██████████| 34/34 [00:08<00:00,  4.04 batch/s, loss=1.5295]\n",
      "Validating: 100%|██████████| 9/9 [00:00<00:00, 10.92 batch/s]\n"
     ]
    },
    {
     "name": "stdout",
     "output_type": "stream",
     "text": [
      "\u001b[1m\u001b[36mBest valid accuracy improved from 43.74% to 46.57%. Saving checkpoint...\n",
      "\u001b[0m"
     ]
    },
    {
     "name": "stderr",
     "output_type": "stream",
     "text": [
      "Epoch 4/10: 100%|██████████| 34/34 [00:08<00:00,  4.04 batch/s, loss=1.3201]\n",
      "Validating: 100%|██████████| 9/9 [00:00<00:00, 10.93 batch/s]\n"
     ]
    },
    {
     "name": "stdout",
     "output_type": "stream",
     "text": [
      "\u001b[1m\u001b[36mBest valid accuracy improved from 46.57% to 48.75%. Saving checkpoint...\n",
      "\u001b[0m"
     ]
    },
    {
     "name": "stderr",
     "output_type": "stream",
     "text": [
      "Epoch 5/10: 100%|██████████| 34/34 [00:08<00:00,  4.00 batch/s, loss=1.2110]\n",
      "Validating: 100%|██████████| 9/9 [00:00<00:00, 10.60 batch/s]\n"
     ]
    },
    {
     "name": "stdout",
     "output_type": "stream",
     "text": [
      "\u001b[1m\u001b[36mBest valid accuracy improved from 48.75% to 50.05%. Saving checkpoint...\n",
      "\u001b[0m"
     ]
    },
    {
     "name": "stderr",
     "output_type": "stream",
     "text": [
      "Epoch 6/10: 100%|██████████| 34/34 [00:08<00:00,  4.03 batch/s, loss=1.0156]\n",
      "Validating: 100%|██████████| 9/9 [00:00<00:00, 10.94 batch/s]\n"
     ]
    },
    {
     "name": "stdout",
     "output_type": "stream",
     "text": [
      "\u001b[1m\u001b[36mBest valid accuracy improved from 50.05% to 50.83%. Saving checkpoint...\n",
      "\u001b[0m"
     ]
    },
    {
     "name": "stderr",
     "output_type": "stream",
     "text": [
      "Epoch 7/10: 100%|██████████| 34/34 [00:08<00:00,  4.04 batch/s, loss=0.8905]\n",
      "Validating: 100%|██████████| 9/9 [00:00<00:00, 10.97 batch/s]\n"
     ]
    },
    {
     "name": "stdout",
     "output_type": "stream",
     "text": [
      "\u001b[1m\u001b[36mBest valid accuracy improved from 50.83% to 52.69%. Saving checkpoint...\n",
      "\u001b[0m"
     ]
    },
    {
     "name": "stderr",
     "output_type": "stream",
     "text": [
      "Epoch 8/10: 100%|██████████| 34/34 [00:08<00:00,  4.04 batch/s, loss=0.7712]\n",
      "Validating: 100%|██████████| 9/9 [00:00<00:00, 11.14 batch/s]\n"
     ]
    },
    {
     "name": "stdout",
     "output_type": "stream",
     "text": [
      "\u001b[1m\u001b[36mBest valid accuracy improved from 52.69% to 53.29%. Saving checkpoint...\n",
      "\u001b[0m"
     ]
    },
    {
     "name": "stderr",
     "output_type": "stream",
     "text": [
      "Epoch 9/10: 100%|██████████| 34/34 [00:08<00:00,  4.02 batch/s, loss=0.7453]\n",
      "Validating: 100%|██████████| 9/9 [00:00<00:00, 10.86 batch/s]\n",
      "Epoch 10/10: 100%|██████████| 34/34 [00:08<00:00,  4.00 batch/s, loss=0.5732]\n",
      "Validating: 100%|██████████| 9/9 [00:00<00:00, 10.94 batch/s]\n",
      "Testing: 100%|██████████| 40/40 [00:03<00:00, 10.72 batch/s]\n"
     ]
    },
    {
     "name": "stdout",
     "output_type": "stream",
     "text": [
      "\u001b[1m\u001b[95mRunning run r50,epochs:10,bs:256,clipping,eqsize,fe/2\n",
      "\u001b[0m"
     ]
    },
    {
     "name": "stderr",
     "output_type": "stream",
     "text": [
      "Epoch 1/10: 100%|██████████| 34/34 [00:08<00:00,  4.01 batch/s, loss=2.3895]\n",
      "Validating: 100%|██████████| 9/9 [00:00<00:00, 10.91 batch/s]\n"
     ]
    },
    {
     "name": "stdout",
     "output_type": "stream",
     "text": [
      "\u001b[1m\u001b[36mBest valid accuracy improved from 0.00% to 34.71%. Saving checkpoint...\n",
      "\u001b[0m"
     ]
    },
    {
     "name": "stderr",
     "output_type": "stream",
     "text": [
      "Epoch 2/10: 100%|██████████| 34/34 [00:08<00:00,  3.99 batch/s, loss=1.7519]\n",
      "Validating: 100%|██████████| 9/9 [00:00<00:00, 10.81 batch/s]\n"
     ]
    },
    {
     "name": "stdout",
     "output_type": "stream",
     "text": [
      "\u001b[1m\u001b[36mBest valid accuracy improved from 34.71% to 41.38%. Saving checkpoint...\n",
      "\u001b[0m"
     ]
    },
    {
     "name": "stderr",
     "output_type": "stream",
     "text": [
      "Epoch 3/10: 100%|██████████| 34/34 [00:08<00:00,  3.98 batch/s, loss=1.4630]\n",
      "Validating: 100%|██████████| 9/9 [00:00<00:00, 10.85 batch/s]\n"
     ]
    },
    {
     "name": "stdout",
     "output_type": "stream",
     "text": [
      "\u001b[1m\u001b[36mBest valid accuracy improved from 41.38% to 45.46%. Saving checkpoint...\n",
      "\u001b[0m"
     ]
    },
    {
     "name": "stderr",
     "output_type": "stream",
     "text": [
      "Epoch 4/10: 100%|██████████| 34/34 [00:08<00:00,  4.00 batch/s, loss=1.3651]\n",
      "Validating: 100%|██████████| 9/9 [00:00<00:00, 10.80 batch/s]\n"
     ]
    },
    {
     "name": "stdout",
     "output_type": "stream",
     "text": [
      "\u001b[1m\u001b[36mBest valid accuracy improved from 45.46% to 47.27%. Saving checkpoint...\n",
      "\u001b[0m"
     ]
    },
    {
     "name": "stderr",
     "output_type": "stream",
     "text": [
      "Epoch 5/10: 100%|██████████| 34/34 [00:08<00:00,  4.00 batch/s, loss=1.2804]\n",
      "Validating: 100%|██████████| 9/9 [00:00<00:00, 10.87 batch/s]\n"
     ]
    },
    {
     "name": "stdout",
     "output_type": "stream",
     "text": [
      "\u001b[1m\u001b[36mBest valid accuracy improved from 47.27% to 48.47%. Saving checkpoint...\n",
      "\u001b[0m"
     ]
    },
    {
     "name": "stderr",
     "output_type": "stream",
     "text": [
      "Epoch 6/10: 100%|██████████| 34/34 [00:08<00:00,  3.99 batch/s, loss=1.0192]\n",
      "Validating: 100%|██████████| 9/9 [00:00<00:00, 10.86 batch/s]\n"
     ]
    },
    {
     "name": "stdout",
     "output_type": "stream",
     "text": [
      "\u001b[1m\u001b[36mBest valid accuracy improved from 48.47% to 51.30%. Saving checkpoint...\n",
      "\u001b[0m"
     ]
    },
    {
     "name": "stderr",
     "output_type": "stream",
     "text": [
      "Epoch 7/10: 100%|██████████| 34/34 [00:08<00:00,  4.00 batch/s, loss=0.8409]\n",
      "Validating: 100%|██████████| 9/9 [00:00<00:00, 10.86 batch/s]\n",
      "Epoch 8/10: 100%|██████████| 34/34 [00:08<00:00,  4.00 batch/s, loss=0.7494]\n",
      "Validating: 100%|██████████| 9/9 [00:00<00:00, 10.87 batch/s]\n",
      "Epoch 9/10:  29%|██▉       | 10/34 [00:02<00:06,  3.93 batch/s, loss=0.5780]"
     ]
    }
   ],
   "source": [
    "import torch\n",
    "import torchvision\n",
    "from torchvision.models import resnet50\n",
    "\n",
    "from kiss.experiment import Experiment\n",
    "from kiss.sampler import OpticsSampler\n",
    "from kiss.utils.configs import CONFIGS\n",
    "\n",
    "transform = torchvision.transforms.ToTensor()\n",
    "dataset_tr = torchvision.datasets.CIFAR10(root='../data', train=True, download=True, transform=transform)\n",
    "dataset_te = torchvision.datasets.CIFAR10(root='../data', train=False, download=True, transform=transform)\n",
    "\n",
    "model = resnet50(num_classes=10)\n",
    "model.to(torch.device(CONFIGS.torch.device))\n",
    "\n",
    "experiment = Experiment(\n",
    "    model, \n",
    "    dataset_tr,\n",
    "    dataset_te, \n",
    "    OpticsSampler, \n",
    "    ratio=(0.1, 1, 10),\n",
    "    epochs=10,\n",
    "    batch_size=256,\n",
    "    clip=5.0,\n",
    "    eqsize=True,\n",
    "    save_clusters=\"../checkpoints/optics,fe\",\n",
    "    load_clusters=\"../checkpoints/optics,fe\")\n",
    "\n",
    "experiment.run(\"../experiments\", \"r50,epochs:10,bs:256,clipping,eqsize,fe\")"
   ]
  }
 ],
 "metadata": {
  "kernelspec": {
   "display_name": "kiss",
   "language": "python",
   "name": "python3"
  },
  "language_info": {
   "codemirror_mode": {
    "name": "ipython",
    "version": 3
   },
   "file_extension": ".py",
   "mimetype": "text/x-python",
   "name": "python",
   "nbconvert_exporter": "python",
   "pygments_lexer": "ipython3",
   "version": "3.11.6"
  }
 },
 "nbformat": 4,
 "nbformat_minor": 2
}
