{
 "cells": [
  {
   "cell_type": "markdown",
   "metadata": {},
   "source": [
    "### Eksperymenty\n",
    "\n",
    "**Modele**\n",
    "- resnet50\n",
    "- vgg16\n",
    "\n",
    "**Zbiory danych**\n",
    "- CIFAR100\n",
    "- SVHN\n",
    "\n",
    "**Metody**\n",
    "- Random\n",
    "- KMeans\n",
    "- KMeansPurity\n",
    "- KMeansDino\n",
    "- KMeansDinoPurity\n",
    "\n",
    "**Ustawienia**\n",
    "- ratio = (0.1, 1, 10)\n",
    "- epochs = 10\n",
    "- batch_size = 512\n",
    "- clip = 5.0\n",
    "- num_clusters = 10\n",
    "- eqsize = True\n",
    "- min_purity = 0.1 (SVHN), 0.01 (CIFAR100)\n",
    "\n",
    "**Nazewnictwo przebiegów**\n",
    "W nawiasach kwadratowych podano wartość do wyboru (\"jeden z ...\") w nawiasch klamrowych wartości opcjonalne.\n",
    "ID służy do rozróżniania eksperymentów w tej samej konfiguracji\n",
    "\n",
    "- [r50,vgg13],ep:10,bs:512,clip:5.0,{nc:20},{eqsize},{mp:[0.1,0.01]},ID:[1,2,3,..]\n",
    "- przykład: r50,ep:10,bs:512,clip:5.0,ID:1\n",
    "- przykład: r50,ep:10,bs:512,clip:50,nc:20,eqsize,mp:0.1,ID:1\n",
    "\n",
    "**Uwagi**\n",
    "- Przy każdym eksperymencie nowy model (!)"
   ]
  },
  {
   "cell_type": "code",
   "execution_count": null,
   "metadata": {},
   "outputs": [],
   "source": [
    "import torch\n",
    "import torchvision\n",
    "from torchvision.models import resnet50\n",
    "\n",
    "from kiss.models import vgg16_kiss\n",
    "from kiss.experiment import Experiment\n",
    "from kiss.sampler import RandomSampler, KMeansSampler, KMeansPuritySampler, KMeansDinoSampler, KMeansPurityDinoSampler\n",
    "from kiss.utils.configs import CONFIGS\n",
    "\n",
    "transform = torchvision.transforms.Compose([\n",
    "    torchvision.transforms.ToTensor(),\n",
    "    torchvision.transforms.Normalize(mean=[0.485, 0.456, 0.406],\n",
    "                                     std=[0.229, 0.224, 0.225])\n",
    "])\n",
    "\n",
    "dataset_cifar10_tr = torchvision.datasets.CIFAR10(root='../data/cifar10', train=True, download=True, transform=transform)\n",
    "dataset_cifar10_te = torchvision.datasets.CIFAR10(root='../data/cifar10', train=False, download=True, transform=transform)\n",
    "\n",
    "dataset_cifar100_tr = torchvision.datasets.CIFAR100(root='../data/cifar100', train=True, download=True, transform=transform)\n",
    "dataset_cifar100_te = torchvision.datasets.CIFAR100(root='../data/cifar100', train=False, download=True, transform=transform)\n",
    "\n",
    "dataset_svhn_tr = torchvision.datasets.SVHN(root='../data/svhn', split='train', download=True, transform=transform)\n",
    "dataset_svhn_te = torchvision.datasets.SVHN(root='../data/svhn', split='test', download=True, transform=transform)"
   ]
  },
  {
   "cell_type": "code",
   "execution_count": null,
   "metadata": {},
   "outputs": [],
   "source": [
    "ID = 6\n",
    "RATIO = (0.1, 1, 10)\n",
    "EPOCHS = 10\n",
    "BATCH_SIZE = 512\n",
    "CLIP = 5.0\n",
    "NUM_CLUSTERS = 10\n",
    "EQSIZE = True"
   ]
  },
  {
   "cell_type": "code",
   "execution_count": 3,
   "metadata": {},
   "outputs": [
    {
     "name": "stderr",
     "output_type": "stream",
     "text": [
      "Epoch 5/10: 100%|██████████| 35/35 [00:10<00:00,  3.30 batch/s, loss=0.3351]\n",
      "Validating: 100%|██████████| 29/29 [00:02<00:00,  9.72 batch/s, loss=0.3728]\n"
     ]
    },
    {
     "name": "stdout",
     "output_type": "stream",
     "text": [
      "\u001b[1m\u001b[36mBest valid loss improved. Current accuracy is 89.68%. Saving checkpoint...\n",
      "\u001b[0m\u001b[1m\u001b[36mBest valid accuracy improved. Current accuracy is 89.68%. Saving checkpoint...\n",
      "\u001b[0m"
     ]
    },
    {
     "name": "stderr",
     "output_type": "stream",
     "text": [
      "Epoch 6/10: 100%|██████████| 35/35 [00:10<00:00,  3.40 batch/s, loss=0.2498]\n",
      "Validating: 100%|██████████| 29/29 [00:02<00:00, 10.02 batch/s, loss=0.3649]\n"
     ]
    },
    {
     "name": "stdout",
     "output_type": "stream",
     "text": [
      "\u001b[1m\u001b[36mBest valid loss improved. Current accuracy is 90.23%. Saving checkpoint...\n",
      "\u001b[0m\u001b[1m\u001b[36mBest valid accuracy improved. Current accuracy is 90.23%. Saving checkpoint...\n",
      "\u001b[0m"
     ]
    },
    {
     "name": "stderr",
     "output_type": "stream",
     "text": [
      "Epoch 7/10: 100%|██████████| 35/35 [00:10<00:00,  3.40 batch/s, loss=0.1930]\n",
      "Validating: 100%|██████████| 29/29 [00:02<00:00,  9.92 batch/s, loss=0.3968]\n"
     ]
    },
    {
     "name": "stdout",
     "output_type": "stream",
     "text": [
      "\u001b[1m\u001b[36mBest valid accuracy improved. Current accuracy is 90.92%. Saving checkpoint...\n",
      "\u001b[0m"
     ]
    },
    {
     "name": "stderr",
     "output_type": "stream",
     "text": [
      "Epoch 8/10: 100%|██████████| 35/35 [00:10<00:00,  3.40 batch/s, loss=0.1682]\n",
      "Validating: 100%|██████████| 29/29 [00:02<00:00,  9.94 batch/s, loss=0.3603]\n"
     ]
    },
    {
     "name": "stdout",
     "output_type": "stream",
     "text": [
      "\u001b[1m\u001b[36mBest valid loss improved. Current accuracy is 91.59%. Saving checkpoint...\n",
      "\u001b[0m\u001b[1m\u001b[36mBest valid accuracy improved. Current accuracy is 91.59%. Saving checkpoint...\n",
      "\u001b[0m"
     ]
    },
    {
     "name": "stderr",
     "output_type": "stream",
     "text": [
      "Epoch 9/10: 100%|██████████| 35/35 [00:10<00:00,  3.40 batch/s, loss=0.1469]\n",
      "Validating: 100%|██████████| 29/29 [00:02<00:00, 10.06 batch/s, loss=0.3803]\n",
      "Epoch 10/10: 100%|██████████| 35/35 [00:10<00:00,  3.42 batch/s, loss=0.1136]\n",
      "Validating: 100%|██████████| 29/29 [00:02<00:00,  9.88 batch/s, loss=0.3803]\n",
      "Testing: 100%|██████████| 51/51 [00:05<00:00,  9.79 batch/s]\n"
     ]
    },
    {
     "name": "stdout",
     "output_type": "stream",
     "text": [
      "\u001b[1m\u001b[95mRunning run vgg16_kiss,ep:10,bs:512,clip:5.0,nc:10,eqsize,mp:0.1,ID:6/4\n",
      "\u001b[0m23442 13545\n"
     ]
    },
    {
     "name": "stderr",
     "output_type": "stream",
     "text": [
      "Epoch 1/10: 100%|██████████| 46/46 [00:13<00:00,  3.36 batch/s, loss=2.1436]\n",
      "Validating: 100%|██████████| 29/29 [00:02<00:00,  9.83 batch/s, loss=1.6097]\n"
     ]
    },
    {
     "name": "stdout",
     "output_type": "stream",
     "text": [
      "\u001b[1m\u001b[36mBest valid loss improved. Current accuracy is 38.52%. Saving checkpoint...\n",
      "\u001b[0m\u001b[1m\u001b[36mBest valid accuracy improved. Current accuracy is 38.52%. Saving checkpoint...\n",
      "\u001b[0m"
     ]
    },
    {
     "name": "stderr",
     "output_type": "stream",
     "text": [
      "Epoch 2/10: 100%|██████████| 46/46 [00:13<00:00,  3.36 batch/s, loss=1.2533]\n",
      "Validating: 100%|██████████| 29/29 [00:02<00:00, 10.11 batch/s, loss=0.9631]\n"
     ]
    },
    {
     "name": "stdout",
     "output_type": "stream",
     "text": [
      "\u001b[1m\u001b[36mBest valid loss improved. Current accuracy is 67.10%. Saving checkpoint...\n",
      "\u001b[0m\u001b[1m\u001b[36mBest valid accuracy improved. Current accuracy is 67.10%. Saving checkpoint...\n",
      "\u001b[0m"
     ]
    },
    {
     "name": "stderr",
     "output_type": "stream",
     "text": [
      "Epoch 3/10: 100%|██████████| 46/46 [00:13<00:00,  3.36 batch/s, loss=0.6115]\n",
      "Validating: 100%|██████████| 29/29 [00:02<00:00, 10.05 batch/s, loss=0.4760]\n"
     ]
    },
    {
     "name": "stdout",
     "output_type": "stream",
     "text": [
      "\u001b[1m\u001b[36mBest valid loss improved. Current accuracy is 86.00%. Saving checkpoint...\n",
      "\u001b[0m\u001b[1m\u001b[36mBest valid accuracy improved. Current accuracy is 86.00%. Saving checkpoint...\n",
      "\u001b[0m"
     ]
    },
    {
     "name": "stderr",
     "output_type": "stream",
     "text": [
      "Epoch 4/10: 100%|██████████| 46/46 [00:13<00:00,  3.36 batch/s, loss=0.3380]\n",
      "Validating: 100%|██████████| 29/29 [00:02<00:00, 10.05 batch/s, loss=0.3525]\n"
     ]
    },
    {
     "name": "stdout",
     "output_type": "stream",
     "text": [
      "\u001b[1m\u001b[36mBest valid loss improved. Current accuracy is 90.62%. Saving checkpoint...\n",
      "\u001b[0m\u001b[1m\u001b[36mBest valid accuracy improved. Current accuracy is 90.62%. Saving checkpoint...\n",
      "\u001b[0m"
     ]
    },
    {
     "name": "stderr",
     "output_type": "stream",
     "text": [
      "Epoch 5/10: 100%|██████████| 46/46 [00:13<00:00,  3.36 batch/s, loss=0.2266]\n",
      "Validating: 100%|██████████| 29/29 [00:02<00:00, 10.09 batch/s, loss=0.3075]\n"
     ]
    },
    {
     "name": "stdout",
     "output_type": "stream",
     "text": [
      "\u001b[1m\u001b[36mBest valid loss improved. Current accuracy is 91.62%. Saving checkpoint...\n",
      "\u001b[0m\u001b[1m\u001b[36mBest valid accuracy improved. Current accuracy is 91.62%. Saving checkpoint...\n",
      "\u001b[0m"
     ]
    },
    {
     "name": "stderr",
     "output_type": "stream",
     "text": [
      "Epoch 6/10: 100%|██████████| 46/46 [00:13<00:00,  3.37 batch/s, loss=0.1742]\n",
      "Validating: 100%|██████████| 29/29 [00:02<00:00, 10.05 batch/s, loss=0.3183]\n"
     ]
    },
    {
     "name": "stdout",
     "output_type": "stream",
     "text": [
      "\u001b[1m\u001b[36mBest valid accuracy improved. Current accuracy is 91.80%. Saving checkpoint...\n",
      "\u001b[0m"
     ]
    },
    {
     "name": "stderr",
     "output_type": "stream",
     "text": [
      "Epoch 7/10: 100%|██████████| 46/46 [00:13<00:00,  3.36 batch/s, loss=0.1622]\n",
      "Validating: 100%|██████████| 29/29 [00:02<00:00, 10.08 batch/s, loss=0.3440]\n",
      "Epoch 8/10: 100%|██████████| 46/46 [00:13<00:00,  3.37 batch/s, loss=0.1339]\n",
      "Validating: 100%|██████████| 29/29 [00:02<00:00, 10.07 batch/s, loss=0.3594]\n"
     ]
    },
    {
     "name": "stdout",
     "output_type": "stream",
     "text": [
      "\u001b[1m\u001b[36mBest valid accuracy improved. Current accuracy is 92.15%. Saving checkpoint...\n",
      "\u001b[0m"
     ]
    },
    {
     "name": "stderr",
     "output_type": "stream",
     "text": [
      "Epoch 9/10: 100%|██████████| 46/46 [00:13<00:00,  3.36 batch/s, loss=0.1134]\n",
      "Validating: 100%|██████████| 29/29 [00:02<00:00, 10.08 batch/s, loss=0.3613]\n",
      "Epoch 10/10: 100%|██████████| 46/46 [00:13<00:00,  3.36 batch/s, loss=0.1016]\n",
      "Validating: 100%|██████████| 29/29 [00:02<00:00, 10.03 batch/s, loss=0.3593]\n"
     ]
    },
    {
     "name": "stdout",
     "output_type": "stream",
     "text": [
      "\u001b[1m\u001b[36mBest valid accuracy improved. Current accuracy is 92.34%. Saving checkpoint...\n",
      "\u001b[0m"
     ]
    },
    {
     "name": "stderr",
     "output_type": "stream",
     "text": [
      "Testing: 100%|██████████| 51/51 [00:05<00:00,  9.82 batch/s]\n"
     ]
    },
    {
     "name": "stdout",
     "output_type": "stream",
     "text": [
      "\u001b[1m\u001b[95mRunning run vgg16_kiss,ep:10,bs:512,clip:5.0,nc:10,eqsize,mp:0.1,ID:6/5\n",
      "\u001b[0m29302 16778\n"
     ]
    },
    {
     "name": "stderr",
     "output_type": "stream",
     "text": [
      "Epoch 1/10: 100%|██████████| 58/58 [00:17<00:00,  3.39 batch/s, loss=1.9954]\n",
      "Validating: 100%|██████████| 29/29 [00:02<00:00,  9.85 batch/s, loss=1.4342]\n"
     ]
    },
    {
     "name": "stdout",
     "output_type": "stream",
     "text": [
      "\u001b[1m\u001b[36mBest valid loss improved. Current accuracy is 43.50%. Saving checkpoint...\n",
      "\u001b[0m\u001b[1m\u001b[36mBest valid accuracy improved. Current accuracy is 43.50%. Saving checkpoint...\n",
      "\u001b[0m"
     ]
    },
    {
     "name": "stderr",
     "output_type": "stream",
     "text": [
      "Epoch 2/10: 100%|██████████| 58/58 [00:17<00:00,  3.38 batch/s, loss=0.9838]\n",
      "Validating: 100%|██████████| 29/29 [00:02<00:00,  9.99 batch/s, loss=0.7821]\n"
     ]
    },
    {
     "name": "stdout",
     "output_type": "stream",
     "text": [
      "\u001b[1m\u001b[36mBest valid loss improved. Current accuracy is 75.56%. Saving checkpoint...\n",
      "\u001b[0m\u001b[1m\u001b[36mBest valid accuracy improved. Current accuracy is 75.56%. Saving checkpoint...\n",
      "\u001b[0m"
     ]
    },
    {
     "name": "stderr",
     "output_type": "stream",
     "text": [
      "Epoch 3/10: 100%|██████████| 58/58 [00:17<00:00,  3.39 batch/s, loss=0.5047]\n",
      "Validating: 100%|██████████| 29/29 [00:02<00:00,  9.98 batch/s, loss=0.4738]\n"
     ]
    },
    {
     "name": "stdout",
     "output_type": "stream",
     "text": [
      "\u001b[1m\u001b[36mBest valid loss improved. Current accuracy is 87.36%. Saving checkpoint...\n",
      "\u001b[0m\u001b[1m\u001b[36mBest valid accuracy improved. Current accuracy is 87.36%. Saving checkpoint...\n",
      "\u001b[0m"
     ]
    },
    {
     "name": "stderr",
     "output_type": "stream",
     "text": [
      "Epoch 4/10: 100%|██████████| 58/58 [00:17<00:00,  3.39 batch/s, loss=0.3085]\n",
      "Validating: 100%|██████████| 29/29 [00:02<00:00,  9.97 batch/s, loss=0.3266]\n"
     ]
    },
    {
     "name": "stdout",
     "output_type": "stream",
     "text": [
      "\u001b[1m\u001b[36mBest valid loss improved. Current accuracy is 91.54%. Saving checkpoint...\n",
      "\u001b[0m\u001b[1m\u001b[36mBest valid accuracy improved. Current accuracy is 91.54%. Saving checkpoint...\n",
      "\u001b[0m"
     ]
    },
    {
     "name": "stderr",
     "output_type": "stream",
     "text": [
      "Epoch 5/10: 100%|██████████| 58/58 [00:17<00:00,  3.39 batch/s, loss=0.2325]\n",
      "Validating: 100%|██████████| 29/29 [00:02<00:00, 10.02 batch/s, loss=0.2985]\n"
     ]
    },
    {
     "name": "stdout",
     "output_type": "stream",
     "text": [
      "\u001b[1m\u001b[36mBest valid loss improved. Current accuracy is 92.78%. Saving checkpoint...\n",
      "\u001b[0m\u001b[1m\u001b[36mBest valid accuracy improved. Current accuracy is 92.78%. Saving checkpoint...\n",
      "\u001b[0m"
     ]
    },
    {
     "name": "stderr",
     "output_type": "stream",
     "text": [
      "Epoch 6/10: 100%|██████████| 58/58 [00:17<00:00,  3.39 batch/s, loss=0.1823]\n",
      "Validating: 100%|██████████| 29/29 [00:02<00:00,  9.69 batch/s, loss=0.3599]\n",
      "Epoch 7/10: 100%|██████████| 58/58 [00:17<00:00,  3.24 batch/s, loss=0.1564]\n",
      "Validating: 100%|██████████| 29/29 [00:03<00:00,  9.35 batch/s, loss=0.3026]\n",
      "Epoch 8/10: 100%|██████████| 58/58 [00:17<00:00,  3.32 batch/s, loss=0.1459]\n",
      "Validating: 100%|██████████| 29/29 [00:03<00:00,  9.63 batch/s, loss=0.3217]\n",
      "Epoch 9/10: 100%|██████████| 58/58 [00:17<00:00,  3.31 batch/s, loss=0.1229]\n",
      "Validating: 100%|██████████| 29/29 [00:03<00:00,  9.59 batch/s, loss=0.3177]\n"
     ]
    },
    {
     "name": "stdout",
     "output_type": "stream",
     "text": [
      "\u001b[1m\u001b[36mBest valid accuracy improved. Current accuracy is 92.94%. Saving checkpoint...\n",
      "\u001b[0m"
     ]
    },
    {
     "name": "stderr",
     "output_type": "stream",
     "text": [
      "Epoch 10/10: 100%|██████████| 58/58 [00:17<00:00,  3.35 batch/s, loss=0.0990]\n",
      "Validating: 100%|██████████| 29/29 [00:02<00:00,  9.76 batch/s, loss=0.3620]\n",
      "Testing: 100%|██████████| 51/51 [00:05<00:00,  9.59 batch/s]\n"
     ]
    },
    {
     "name": "stdout",
     "output_type": "stream",
     "text": [
      "\u001b[1m\u001b[95mRunning run vgg16_kiss,ep:10,bs:512,clip:5.0,nc:10,eqsize,mp:0.1,ID:6/6\n",
      "\u001b[0m35163 20009\n"
     ]
    },
    {
     "name": "stderr",
     "output_type": "stream",
     "text": [
      "Epoch 1/10: 100%|██████████| 69/69 [00:21<00:00,  3.27 batch/s, loss=2.2691]\n",
      "Validating: 100%|██████████| 29/29 [00:03<00:00,  9.65 batch/s, loss=2.2338]\n"
     ]
    },
    {
     "name": "stdout",
     "output_type": "stream",
     "text": [
      "\u001b[1m\u001b[36mBest valid loss improved. Current accuracy is 14.45%. Saving checkpoint...\n",
      "\u001b[0m\u001b[1m\u001b[36mBest valid accuracy improved. Current accuracy is 14.45%. Saving checkpoint...\n",
      "\u001b[0m"
     ]
    },
    {
     "name": "stderr",
     "output_type": "stream",
     "text": [
      "Epoch 2/10: 100%|██████████| 69/69 [00:20<00:00,  3.31 batch/s, loss=1.8306]\n",
      "Validating: 100%|██████████| 29/29 [00:02<00:00,  9.99 batch/s, loss=1.2664]\n"
     ]
    },
    {
     "name": "stdout",
     "output_type": "stream",
     "text": [
      "\u001b[1m\u001b[36mBest valid loss improved. Current accuracy is 52.26%. Saving checkpoint...\n",
      "\u001b[0m\u001b[1m\u001b[36mBest valid accuracy improved. Current accuracy is 52.26%. Saving checkpoint...\n",
      "\u001b[0m"
     ]
    },
    {
     "name": "stderr",
     "output_type": "stream",
     "text": [
      "Epoch 3/10: 100%|██████████| 69/69 [00:20<00:00,  3.34 batch/s, loss=0.8594]\n",
      "Validating: 100%|██████████| 29/29 [00:02<00:00,  9.78 batch/s, loss=0.5679]\n"
     ]
    },
    {
     "name": "stdout",
     "output_type": "stream",
     "text": [
      "\u001b[1m\u001b[36mBest valid loss improved. Current accuracy is 83.79%. Saving checkpoint...\n",
      "\u001b[0m\u001b[1m\u001b[36mBest valid accuracy improved. Current accuracy is 83.79%. Saving checkpoint...\n",
      "\u001b[0m"
     ]
    },
    {
     "name": "stderr",
     "output_type": "stream",
     "text": [
      "Epoch 4/10: 100%|██████████| 69/69 [00:21<00:00,  3.27 batch/s, loss=0.4182]\n",
      "Validating: 100%|██████████| 29/29 [00:02<00:00,  9.97 batch/s, loss=0.3454]\n"
     ]
    },
    {
     "name": "stdout",
     "output_type": "stream",
     "text": [
      "\u001b[1m\u001b[36mBest valid loss improved. Current accuracy is 90.71%. Saving checkpoint...\n",
      "\u001b[0m\u001b[1m\u001b[36mBest valid accuracy improved. Current accuracy is 90.71%. Saving checkpoint...\n",
      "\u001b[0m"
     ]
    },
    {
     "name": "stderr",
     "output_type": "stream",
     "text": [
      "Epoch 5/10: 100%|██████████| 69/69 [00:20<00:00,  3.35 batch/s, loss=0.2844]\n",
      "Validating: 100%|██████████| 29/29 [00:02<00:00,  9.97 batch/s, loss=0.3201]\n"
     ]
    },
    {
     "name": "stdout",
     "output_type": "stream",
     "text": [
      "\u001b[1m\u001b[36mBest valid loss improved. Current accuracy is 91.61%. Saving checkpoint...\n",
      "\u001b[0m\u001b[1m\u001b[36mBest valid accuracy improved. Current accuracy is 91.61%. Saving checkpoint...\n",
      "\u001b[0m"
     ]
    },
    {
     "name": "stderr",
     "output_type": "stream",
     "text": [
      "Epoch 6/10: 100%|██████████| 69/69 [00:20<00:00,  3.32 batch/s, loss=0.2232]\n",
      "Validating: 100%|██████████| 29/29 [00:02<00:00,  9.84 batch/s, loss=0.2978]\n"
     ]
    },
    {
     "name": "stdout",
     "output_type": "stream",
     "text": [
      "\u001b[1m\u001b[36mBest valid loss improved. Current accuracy is 92.53%. Saving checkpoint...\n",
      "\u001b[0m\u001b[1m\u001b[36mBest valid accuracy improved. Current accuracy is 92.53%. Saving checkpoint...\n",
      "\u001b[0m"
     ]
    },
    {
     "name": "stderr",
     "output_type": "stream",
     "text": [
      "Epoch 7/10: 100%|██████████| 69/69 [00:21<00:00,  3.27 batch/s, loss=0.1832]\n",
      "Validating: 100%|██████████| 29/29 [00:03<00:00,  9.61 batch/s, loss=0.3172]\n",
      "Epoch 8/10: 100%|██████████| 69/69 [00:21<00:00,  3.27 batch/s, loss=0.1539]\n",
      "Validating: 100%|██████████| 29/29 [00:03<00:00,  9.54 batch/s, loss=0.3045]\n",
      "Epoch 9/10: 100%|██████████| 69/69 [00:20<00:00,  3.30 batch/s, loss=0.1296]\n",
      "Validating: 100%|██████████| 29/29 [00:02<00:00,  9.92 batch/s, loss=0.3291]\n"
     ]
    },
    {
     "name": "stdout",
     "output_type": "stream",
     "text": [
      "\u001b[1m\u001b[36mBest valid accuracy improved. Current accuracy is 92.55%. Saving checkpoint...\n",
      "\u001b[0m"
     ]
    },
    {
     "name": "stderr",
     "output_type": "stream",
     "text": [
      "Epoch 10/10: 100%|██████████| 69/69 [00:20<00:00,  3.31 batch/s, loss=0.1087]\n",
      "Validating: 100%|██████████| 29/29 [00:02<00:00,  9.84 batch/s, loss=0.3225]\n"
     ]
    },
    {
     "name": "stdout",
     "output_type": "stream",
     "text": [
      "\u001b[1m\u001b[36mBest valid accuracy improved. Current accuracy is 93.13%. Saving checkpoint...\n",
      "\u001b[0m"
     ]
    },
    {
     "name": "stderr",
     "output_type": "stream",
     "text": [
      "Testing: 100%|██████████| 51/51 [00:05<00:00,  9.38 batch/s]\n"
     ]
    },
    {
     "name": "stdout",
     "output_type": "stream",
     "text": [
      "\u001b[1m\u001b[95mRunning run vgg16_kiss,ep:10,bs:512,clip:5.0,nc:10,eqsize,mp:0.1,ID:6/7\n",
      "\u001b[0m41023 23241\n"
     ]
    },
    {
     "name": "stderr",
     "output_type": "stream",
     "text": [
      "Epoch 1/10: 100%|██████████| 81/81 [00:24<00:00,  3.34 batch/s, loss=1.7308]\n",
      "Validating: 100%|██████████| 29/29 [00:03<00:00,  9.43 batch/s, loss=1.3776]\n"
     ]
    },
    {
     "name": "stdout",
     "output_type": "stream",
     "text": [
      "\u001b[1m\u001b[36mBest valid loss improved. Current accuracy is 52.83%. Saving checkpoint...\n",
      "\u001b[0m\u001b[1m\u001b[36mBest valid accuracy improved. Current accuracy is 52.83%. Saving checkpoint...\n",
      "\u001b[0m"
     ]
    },
    {
     "name": "stderr",
     "output_type": "stream",
     "text": [
      "Epoch 2/10: 100%|██████████| 81/81 [00:24<00:00,  3.29 batch/s, loss=0.7087]\n",
      "Validating: 100%|██████████| 29/29 [00:03<00:00,  9.43 batch/s, loss=0.4540]\n"
     ]
    },
    {
     "name": "stdout",
     "output_type": "stream",
     "text": [
      "\u001b[1m\u001b[36mBest valid loss improved. Current accuracy is 87.41%. Saving checkpoint...\n",
      "\u001b[0m\u001b[1m\u001b[36mBest valid accuracy improved. Current accuracy is 87.41%. Saving checkpoint...\n",
      "\u001b[0m"
     ]
    },
    {
     "name": "stderr",
     "output_type": "stream",
     "text": [
      "Epoch 3/10: 100%|██████████| 81/81 [00:24<00:00,  3.28 batch/s, loss=0.3410]\n",
      "Validating: 100%|██████████| 29/29 [00:02<00:00,  9.82 batch/s, loss=0.3219]\n"
     ]
    },
    {
     "name": "stdout",
     "output_type": "stream",
     "text": [
      "\u001b[1m\u001b[36mBest valid loss improved. Current accuracy is 91.24%. Saving checkpoint...\n",
      "\u001b[0m\u001b[1m\u001b[36mBest valid accuracy improved. Current accuracy is 91.24%. Saving checkpoint...\n",
      "\u001b[0m"
     ]
    },
    {
     "name": "stderr",
     "output_type": "stream",
     "text": [
      "Epoch 4/10: 100%|██████████| 81/81 [00:24<00:00,  3.35 batch/s, loss=0.2453]\n",
      "Validating: 100%|██████████| 29/29 [00:02<00:00,  9.99 batch/s, loss=0.3156]\n"
     ]
    },
    {
     "name": "stdout",
     "output_type": "stream",
     "text": [
      "\u001b[1m\u001b[36mBest valid loss improved. Current accuracy is 91.89%. Saving checkpoint...\n",
      "\u001b[0m\u001b[1m\u001b[36mBest valid accuracy improved. Current accuracy is 91.89%. Saving checkpoint...\n",
      "\u001b[0m"
     ]
    },
    {
     "name": "stderr",
     "output_type": "stream",
     "text": [
      "Epoch 5/10: 100%|██████████| 81/81 [00:23<00:00,  3.38 batch/s, loss=0.1963]\n",
      "Validating: 100%|██████████| 29/29 [00:02<00:00,  9.98 batch/s, loss=0.2727]\n"
     ]
    },
    {
     "name": "stdout",
     "output_type": "stream",
     "text": [
      "\u001b[1m\u001b[36mBest valid loss improved. Current accuracy is 93.13%. Saving checkpoint...\n",
      "\u001b[0m\u001b[1m\u001b[36mBest valid accuracy improved. Current accuracy is 93.13%. Saving checkpoint...\n",
      "\u001b[0m"
     ]
    },
    {
     "name": "stderr",
     "output_type": "stream",
     "text": [
      "Epoch 6/10: 100%|██████████| 81/81 [00:23<00:00,  3.38 batch/s, loss=0.1704]\n",
      "Validating: 100%|██████████| 29/29 [00:02<00:00, 10.00 batch/s, loss=0.2646]\n"
     ]
    },
    {
     "name": "stdout",
     "output_type": "stream",
     "text": [
      "\u001b[1m\u001b[36mBest valid loss improved. Current accuracy is 93.52%. Saving checkpoint...\n",
      "\u001b[0m\u001b[1m\u001b[36mBest valid accuracy improved. Current accuracy is 93.52%. Saving checkpoint...\n",
      "\u001b[0m"
     ]
    },
    {
     "name": "stderr",
     "output_type": "stream",
     "text": [
      "Epoch 7/10: 100%|██████████| 81/81 [00:23<00:00,  3.38 batch/s, loss=0.1408]\n",
      "Validating: 100%|██████████| 29/29 [00:02<00:00, 10.03 batch/s, loss=0.2849]\n",
      "Epoch 8/10: 100%|██████████| 81/81 [00:23<00:00,  3.38 batch/s, loss=0.1221]\n",
      "Validating: 100%|██████████| 29/29 [00:02<00:00,  9.97 batch/s, loss=0.3239]\n",
      "Epoch 9/10: 100%|██████████| 81/81 [00:23<00:00,  3.39 batch/s, loss=0.1185]\n",
      "Validating: 100%|██████████| 29/29 [00:02<00:00,  9.87 batch/s, loss=0.2878]\n",
      "Epoch 10/10: 100%|██████████| 81/81 [00:23<00:00,  3.39 batch/s, loss=0.1047]\n",
      "Validating: 100%|██████████| 29/29 [00:02<00:00,  9.90 batch/s, loss=0.3053]\n",
      "Testing: 100%|██████████| 51/51 [00:05<00:00,  9.81 batch/s]\n"
     ]
    },
    {
     "name": "stdout",
     "output_type": "stream",
     "text": [
      "\u001b[1m\u001b[95mRunning run vgg16_kiss,ep:10,bs:512,clip:5.0,nc:10,eqsize,mp:0.1,ID:6/8\n",
      "\u001b[0m46884 25968\n"
     ]
    },
    {
     "name": "stderr",
     "output_type": "stream",
     "text": [
      "Epoch 1/10: 100%|██████████| 92/92 [00:27<00:00,  3.36 batch/s, loss=1.4846]\n",
      "Validating: 100%|██████████| 29/29 [00:02<00:00, 10.10 batch/s, loss=0.7280]\n"
     ]
    },
    {
     "name": "stdout",
     "output_type": "stream",
     "text": [
      "\u001b[1m\u001b[36mBest valid loss improved. Current accuracy is 75.23%. Saving checkpoint...\n",
      "\u001b[0m\u001b[1m\u001b[36mBest valid accuracy improved. Current accuracy is 75.23%. Saving checkpoint...\n",
      "\u001b[0m"
     ]
    },
    {
     "name": "stderr",
     "output_type": "stream",
     "text": [
      "Epoch 2/10: 100%|██████████| 92/92 [00:27<00:00,  3.37 batch/s, loss=0.4563]\n",
      "Validating: 100%|██████████| 29/29 [00:02<00:00, 10.07 batch/s, loss=0.3130]\n"
     ]
    },
    {
     "name": "stdout",
     "output_type": "stream",
     "text": [
      "\u001b[1m\u001b[36mBest valid loss improved. Current accuracy is 91.28%. Saving checkpoint...\n",
      "\u001b[0m\u001b[1m\u001b[36mBest valid accuracy improved. Current accuracy is 91.28%. Saving checkpoint...\n",
      "\u001b[0m"
     ]
    },
    {
     "name": "stderr",
     "output_type": "stream",
     "text": [
      "Epoch 3/10: 100%|██████████| 92/92 [00:27<00:00,  3.37 batch/s, loss=0.2733]\n",
      "Validating: 100%|██████████| 29/29 [00:02<00:00, 10.10 batch/s, loss=0.2612]\n"
     ]
    },
    {
     "name": "stdout",
     "output_type": "stream",
     "text": [
      "\u001b[1m\u001b[36mBest valid loss improved. Current accuracy is 92.85%. Saving checkpoint...\n",
      "\u001b[0m\u001b[1m\u001b[36mBest valid accuracy improved. Current accuracy is 92.85%. Saving checkpoint...\n",
      "\u001b[0m"
     ]
    },
    {
     "name": "stderr",
     "output_type": "stream",
     "text": [
      "Epoch 4/10: 100%|██████████| 92/92 [00:27<00:00,  3.37 batch/s, loss=0.2067]\n",
      "Validating: 100%|██████████| 29/29 [00:02<00:00, 10.09 batch/s, loss=0.2582]\n"
     ]
    },
    {
     "name": "stdout",
     "output_type": "stream",
     "text": [
      "\u001b[1m\u001b[36mBest valid loss improved. Current accuracy is 93.24%. Saving checkpoint...\n",
      "\u001b[0m\u001b[1m\u001b[36mBest valid accuracy improved. Current accuracy is 93.24%. Saving checkpoint...\n",
      "\u001b[0m"
     ]
    },
    {
     "name": "stderr",
     "output_type": "stream",
     "text": [
      "Epoch 5/10: 100%|██████████| 92/92 [00:27<00:00,  3.37 batch/s, loss=0.1739]\n",
      "Validating: 100%|██████████| 29/29 [00:02<00:00,  9.82 batch/s, loss=0.2661]\n"
     ]
    },
    {
     "name": "stdout",
     "output_type": "stream",
     "text": [
      "\u001b[1m\u001b[36mBest valid accuracy improved. Current accuracy is 93.30%. Saving checkpoint...\n",
      "\u001b[0m"
     ]
    },
    {
     "name": "stderr",
     "output_type": "stream",
     "text": [
      "Epoch 6/10: 100%|██████████| 92/92 [00:27<00:00,  3.37 batch/s, loss=0.1459]\n",
      "Validating: 100%|██████████| 29/29 [00:02<00:00, 10.08 batch/s, loss=0.3067]\n",
      "Epoch 7/10: 100%|██████████| 92/92 [00:27<00:00,  3.37 batch/s, loss=0.1337]\n",
      "Validating: 100%|██████████| 29/29 [00:02<00:00, 10.07 batch/s, loss=0.2803]\n",
      "Epoch 8/10: 100%|██████████| 92/92 [00:27<00:00,  3.37 batch/s, loss=0.1272]\n",
      "Validating: 100%|██████████| 29/29 [00:02<00:00, 10.11 batch/s, loss=0.2511]\n"
     ]
    },
    {
     "name": "stdout",
     "output_type": "stream",
     "text": [
      "\u001b[1m\u001b[36mBest valid loss improved. Current accuracy is 93.89%. Saving checkpoint...\n",
      "\u001b[0m\u001b[1m\u001b[36mBest valid accuracy improved. Current accuracy is 93.89%. Saving checkpoint...\n",
      "\u001b[0m"
     ]
    },
    {
     "name": "stderr",
     "output_type": "stream",
     "text": [
      "Epoch 9/10: 100%|██████████| 92/92 [00:27<00:00,  3.36 batch/s, loss=0.1094]\n",
      "Validating: 100%|██████████| 29/29 [00:02<00:00, 10.06 batch/s, loss=0.2900]\n"
     ]
    },
    {
     "name": "stdout",
     "output_type": "stream",
     "text": [
      "\u001b[1m\u001b[36mBest valid accuracy improved. Current accuracy is 94.00%. Saving checkpoint...\n",
      "\u001b[0m"
     ]
    },
    {
     "name": "stderr",
     "output_type": "stream",
     "text": [
      "Epoch 10/10: 100%|██████████| 92/92 [00:27<00:00,  3.37 batch/s, loss=0.0872]\n",
      "Validating: 100%|██████████| 29/29 [00:02<00:00, 10.12 batch/s, loss=0.3321]\n",
      "Testing: 100%|██████████| 51/51 [00:05<00:00,  9.85 batch/s]\n"
     ]
    },
    {
     "name": "stdout",
     "output_type": "stream",
     "text": [
      "\u001b[1m\u001b[95mRunning run vgg16_kiss,ep:10,bs:512,clip:5.0,nc:10,eqsize,mp:0.1,ID:6/9\n",
      "\u001b[0m52744 28604\n"
     ]
    },
    {
     "name": "stderr",
     "output_type": "stream",
     "text": [
      "Epoch 1/10: 100%|██████████| 104/104 [00:30<00:00,  3.38 batch/s, loss=2.0306]\n",
      "Validating: 100%|██████████| 29/29 [00:02<00:00, 10.01 batch/s, loss=1.2525]\n"
     ]
    },
    {
     "name": "stdout",
     "output_type": "stream",
     "text": [
      "\u001b[1m\u001b[36mBest valid loss improved. Current accuracy is 52.68%. Saving checkpoint...\n",
      "\u001b[0m\u001b[1m\u001b[36mBest valid accuracy improved. Current accuracy is 52.68%. Saving checkpoint...\n",
      "\u001b[0m"
     ]
    },
    {
     "name": "stderr",
     "output_type": "stream",
     "text": [
      "Epoch 2/10: 100%|██████████| 104/104 [00:30<00:00,  3.38 batch/s, loss=0.7563]\n",
      "Validating: 100%|██████████| 29/29 [00:02<00:00, 10.02 batch/s, loss=0.6868]\n"
     ]
    },
    {
     "name": "stdout",
     "output_type": "stream",
     "text": [
      "\u001b[1m\u001b[36mBest valid loss improved. Current accuracy is 80.31%. Saving checkpoint...\n",
      "\u001b[0m\u001b[1m\u001b[36mBest valid accuracy improved. Current accuracy is 80.31%. Saving checkpoint...\n",
      "\u001b[0m"
     ]
    },
    {
     "name": "stderr",
     "output_type": "stream",
     "text": [
      "Epoch 3/10: 100%|██████████| 104/104 [00:30<00:00,  3.37 batch/s, loss=0.3559]\n",
      "Validating: 100%|██████████| 29/29 [00:02<00:00,  9.89 batch/s, loss=0.3164]\n"
     ]
    },
    {
     "name": "stdout",
     "output_type": "stream",
     "text": [
      "\u001b[1m\u001b[36mBest valid loss improved. Current accuracy is 91.07%. Saving checkpoint...\n",
      "\u001b[0m\u001b[1m\u001b[36mBest valid accuracy improved. Current accuracy is 91.07%. Saving checkpoint...\n",
      "\u001b[0m"
     ]
    },
    {
     "name": "stderr",
     "output_type": "stream",
     "text": [
      "Epoch 4/10: 100%|██████████| 104/104 [00:30<00:00,  3.38 batch/s, loss=0.2558]\n",
      "Validating: 100%|██████████| 29/29 [00:02<00:00,  9.95 batch/s, loss=0.2743]\n"
     ]
    },
    {
     "name": "stdout",
     "output_type": "stream",
     "text": [
      "\u001b[1m\u001b[36mBest valid loss improved. Current accuracy is 92.69%. Saving checkpoint...\n",
      "\u001b[0m\u001b[1m\u001b[36mBest valid accuracy improved. Current accuracy is 92.69%. Saving checkpoint...\n",
      "\u001b[0m"
     ]
    },
    {
     "name": "stderr",
     "output_type": "stream",
     "text": [
      "Epoch 5/10: 100%|██████████| 104/104 [00:30<00:00,  3.37 batch/s, loss=0.2032]\n",
      "Validating: 100%|██████████| 29/29 [00:02<00:00, 10.04 batch/s, loss=0.2594]\n"
     ]
    },
    {
     "name": "stdout",
     "output_type": "stream",
     "text": [
      "\u001b[1m\u001b[36mBest valid loss improved. Current accuracy is 92.96%. Saving checkpoint...\n",
      "\u001b[0m\u001b[1m\u001b[36mBest valid accuracy improved. Current accuracy is 92.96%. Saving checkpoint...\n",
      "\u001b[0m"
     ]
    },
    {
     "name": "stderr",
     "output_type": "stream",
     "text": [
      "Epoch 6/10: 100%|██████████| 104/104 [00:30<00:00,  3.38 batch/s, loss=0.1870]\n",
      "Validating: 100%|██████████| 29/29 [00:02<00:00, 10.02 batch/s, loss=0.3132]\n",
      "Epoch 7/10: 100%|██████████| 104/104 [00:30<00:00,  3.38 batch/s, loss=0.1530]\n",
      "Validating: 100%|██████████| 29/29 [00:02<00:00,  9.99 batch/s, loss=0.2591]\n"
     ]
    },
    {
     "name": "stdout",
     "output_type": "stream",
     "text": [
      "\u001b[1m\u001b[36mBest valid loss improved. Current accuracy is 93.74%. Saving checkpoint...\n",
      "\u001b[0m\u001b[1m\u001b[36mBest valid accuracy improved. Current accuracy is 93.74%. Saving checkpoint...\n",
      "\u001b[0m"
     ]
    },
    {
     "name": "stderr",
     "output_type": "stream",
     "text": [
      "Epoch 8/10: 100%|██████████| 104/104 [00:30<00:00,  3.38 batch/s, loss=0.1234]\n",
      "Validating: 100%|██████████| 29/29 [00:02<00:00, 10.02 batch/s, loss=0.2822]\n",
      "Epoch 9/10: 100%|██████████| 104/104 [00:30<00:00,  3.38 batch/s, loss=0.1123]\n",
      "Validating: 100%|██████████| 29/29 [00:02<00:00, 10.02 batch/s, loss=0.2729]\n",
      "Epoch 10/10: 100%|██████████| 104/104 [00:30<00:00,  3.38 batch/s, loss=0.0964]\n",
      "Validating: 100%|██████████| 29/29 [00:02<00:00,  9.81 batch/s, loss=0.3320]\n",
      "Testing: 100%|██████████| 51/51 [00:05<00:00,  9.81 batch/s]\n"
     ]
    },
    {
     "name": "stdout",
     "output_type": "stream",
     "text": [
      "\u001b[1m\u001b[95mRunning run vgg16_kiss,ep:10,bs:512,clip:5.0,nc:10,eqsize,mp:0.1,ID:6/10\n",
      "\u001b[0m58605 31240\n"
     ]
    },
    {
     "name": "stderr",
     "output_type": "stream",
     "text": [
      "Epoch 1/10: 100%|██████████| 115/115 [00:34<00:00,  3.36 batch/s, loss=1.8284]\n",
      "Validating: 100%|██████████| 29/29 [00:02<00:00, 10.06 batch/s, loss=1.0463]\n"
     ]
    },
    {
     "name": "stdout",
     "output_type": "stream",
     "text": [
      "\u001b[1m\u001b[36mBest valid loss improved. Current accuracy is 60.10%. Saving checkpoint...\n",
      "\u001b[0m\u001b[1m\u001b[36mBest valid accuracy improved. Current accuracy is 60.10%. Saving checkpoint...\n",
      "\u001b[0m"
     ]
    },
    {
     "name": "stderr",
     "output_type": "stream",
     "text": [
      "Epoch 2/10: 100%|██████████| 115/115 [00:34<00:00,  3.37 batch/s, loss=0.5886]\n",
      "Validating: 100%|██████████| 29/29 [00:02<00:00, 10.05 batch/s, loss=0.3332]\n"
     ]
    },
    {
     "name": "stdout",
     "output_type": "stream",
     "text": [
      "\u001b[1m\u001b[36mBest valid loss improved. Current accuracy is 90.68%. Saving checkpoint...\n",
      "\u001b[0m\u001b[1m\u001b[36mBest valid accuracy improved. Current accuracy is 90.68%. Saving checkpoint...\n",
      "\u001b[0m"
     ]
    },
    {
     "name": "stderr",
     "output_type": "stream",
     "text": [
      "Epoch 3/10: 100%|██████████| 115/115 [00:34<00:00,  3.37 batch/s, loss=0.2744]\n",
      "Validating: 100%|██████████| 29/29 [00:02<00:00,  9.88 batch/s, loss=0.2746]\n"
     ]
    },
    {
     "name": "stdout",
     "output_type": "stream",
     "text": [
      "\u001b[1m\u001b[36mBest valid loss improved. Current accuracy is 92.59%. Saving checkpoint...\n",
      "\u001b[0m\u001b[1m\u001b[36mBest valid accuracy improved. Current accuracy is 92.59%. Saving checkpoint...\n",
      "\u001b[0m"
     ]
    },
    {
     "name": "stderr",
     "output_type": "stream",
     "text": [
      "Epoch 4/10: 100%|██████████| 115/115 [00:34<00:00,  3.37 batch/s, loss=0.2066]\n",
      "Validating: 100%|██████████| 29/29 [00:02<00:00, 10.09 batch/s, loss=0.2551]\n"
     ]
    },
    {
     "name": "stdout",
     "output_type": "stream",
     "text": [
      "\u001b[1m\u001b[36mBest valid loss improved. Current accuracy is 93.17%. Saving checkpoint...\n",
      "\u001b[0m\u001b[1m\u001b[36mBest valid accuracy improved. Current accuracy is 93.17%. Saving checkpoint...\n",
      "\u001b[0m"
     ]
    },
    {
     "name": "stderr",
     "output_type": "stream",
     "text": [
      "Epoch 5/10: 100%|██████████| 115/115 [00:34<00:00,  3.37 batch/s, loss=0.1670]\n",
      "Validating: 100%|██████████| 29/29 [00:02<00:00, 10.09 batch/s, loss=0.2598]\n"
     ]
    },
    {
     "name": "stdout",
     "output_type": "stream",
     "text": [
      "\u001b[1m\u001b[36mBest valid accuracy improved. Current accuracy is 93.18%. Saving checkpoint...\n",
      "\u001b[0m"
     ]
    },
    {
     "name": "stderr",
     "output_type": "stream",
     "text": [
      "Epoch 6/10: 100%|██████████| 115/115 [00:34<00:00,  3.37 batch/s, loss=0.1411]\n",
      "Validating: 100%|██████████| 29/29 [00:02<00:00, 10.07 batch/s, loss=0.2744]\n"
     ]
    },
    {
     "name": "stdout",
     "output_type": "stream",
     "text": [
      "\u001b[1m\u001b[36mBest valid accuracy improved. Current accuracy is 93.51%. Saving checkpoint...\n",
      "\u001b[0m"
     ]
    },
    {
     "name": "stderr",
     "output_type": "stream",
     "text": [
      "Epoch 7/10: 100%|██████████| 115/115 [00:34<00:00,  3.37 batch/s, loss=0.1231]\n",
      "Validating: 100%|██████████| 29/29 [00:02<00:00, 10.09 batch/s, loss=0.2592]\n"
     ]
    },
    {
     "name": "stdout",
     "output_type": "stream",
     "text": [
      "\u001b[1m\u001b[36mBest valid accuracy improved. Current accuracy is 93.84%. Saving checkpoint...\n",
      "\u001b[0m"
     ]
    },
    {
     "name": "stderr",
     "output_type": "stream",
     "text": [
      "Epoch 8/10: 100%|██████████| 115/115 [00:34<00:00,  3.36 batch/s, loss=0.1091]\n",
      "Validating: 100%|██████████| 29/29 [00:02<00:00, 10.12 batch/s, loss=0.2903]\n",
      "Epoch 9/10: 100%|██████████| 115/115 [00:34<00:00,  3.36 batch/s, loss=0.1041]\n",
      "Validating: 100%|██████████| 29/29 [00:02<00:00, 10.09 batch/s, loss=0.2990]\n"
     ]
    },
    {
     "name": "stdout",
     "output_type": "stream",
     "text": [
      "\u001b[1m\u001b[36mBest valid accuracy improved. Current accuracy is 93.93%. Saving checkpoint...\n",
      "\u001b[0m"
     ]
    },
    {
     "name": "stderr",
     "output_type": "stream",
     "text": [
      "Epoch 10/10: 100%|██████████| 115/115 [00:34<00:00,  3.37 batch/s, loss=0.0897]\n",
      "Validating: 100%|██████████| 29/29 [00:02<00:00, 10.13 batch/s, loss=0.3168]\n",
      "Testing: 100%|██████████| 51/51 [00:05<00:00,  9.82 batch/s]\n"
     ]
    }
   ],
   "source": [
    "import os\n",
    "\n",
    "for model_fun in [resnet50, vgg16_kiss]:\n",
    "    for dataset_tr, dataset_te in zip([dataset_cifar100_tr, dataset_svhn_tr], [dataset_cifar100_te, dataset_svhn_te]):\n",
    "# for model_fun in [vgg16_kiss]:\n",
    "    # for dataset_tr, dataset_te in zip([dataset_cifar100_tr], [dataset_cifar100_te]):\n",
    "        for sampler_cls in [RandomSampler, KMeansSampler, KMeansDinoSampler, KMeansPuritySampler, KMeansPurityDinoSampler]:\n",
    "\n",
    "            if model_fun.__name__ == 'resnet50':\n",
    "                MODEL_NAME = 'r50'\n",
    "            if model_fun.__name__ == 'vgg16':\n",
    "                MODEL_NAME = 'vgg16'\n",
    "            if model_fun.__name__ == 'vgg16_kiss':\n",
    "                MODEL_NAME = 'vgg16_kiss'\n",
    "\n",
    "            RUN_NAME = f\"{MODEL_NAME},ep:{EPOCHS},bs:{BATCH_SIZE},clip:{CLIP}\"\n",
    "\n",
    "            if dataset_tr.__class__.__name__ == 'SVHN':\n",
    "                NUM_CLASSES = 10\n",
    "                MIN_PURITY = 0.1\n",
    "            if dataset_tr.__class__.__name__ == 'CIFAR100':\n",
    "                NUM_CLASSES = 100\n",
    "                MIN_PURITY = 0.01\n",
    "\n",
    "            if 'KMeans' in sampler_cls.__name__:\n",
    "                RUN_NAME += f\",nc:{NUM_CLUSTERS}\"\n",
    "\n",
    "            if 'KMeans' in sampler_cls.__name__ and EQSIZE:\n",
    "                RUN_NAME += \",eqsize\"\n",
    "\n",
    "            if 'KMeansPurity' in sampler_cls.__name__:\n",
    "                RUN_NAME += f\",mp:{MIN_PURITY}\"\n",
    "\n",
    "            SAVE_CLUSTERS = LOAD_CLUSTERS = f\"../checkpoints/{sampler_cls.__name__},{dataset_tr.__class__.__name__},nc:{NUM_CLUSTERS}\"\n",
    "            \n",
    "            if not os.path.exists(LOAD_CLUSTERS):\n",
    "                LOAD_CLUSTERS = None\n",
    "\n",
    "            RUN_NAME += f',ID:{ID}'\n",
    "\n",
    "            model = model_fun(num_classes=NUM_CLASSES)\n",
    "            model.to(torch.device(CONFIGS.torch.device))\n",
    "\n",
    "            experiment = Experiment(\n",
    "                model = model,\n",
    "                dataset_tr = dataset_tr,\n",
    "                dataset_te = dataset_te,\n",
    "                sampler_cls=sampler_cls,\n",
    "                ratio=RATIO,\n",
    "                epochs=EPOCHS,\n",
    "                batch_size=BATCH_SIZE,\n",
    "                clip=CLIP,\n",
    "                num_clusters=NUM_CLUSTERS,\n",
    "                eqsize=EQSIZE,\n",
    "                min_purity=MIN_PURITY,\n",
    "                load_clusters=LOAD_CLUSTERS,\n",
    "                save_clusters=SAVE_CLUSTERS,\n",
    "            )\n",
    "            experiment.run(\"../experiments\", RUN_NAME)"
   ]
  }
 ],
 "metadata": {
  "kernelspec": {
   "display_name": "kiss",
   "language": "python",
   "name": "python3"
  },
  "language_info": {
   "codemirror_mode": {
    "name": "ipython",
    "version": 3
   },
   "file_extension": ".py",
   "mimetype": "text/x-python",
   "name": "python",
   "nbconvert_exporter": "python",
   "pygments_lexer": "ipython3",
   "version": "3.11.7"
  }
 },
 "nbformat": 4,
 "nbformat_minor": 2
}
